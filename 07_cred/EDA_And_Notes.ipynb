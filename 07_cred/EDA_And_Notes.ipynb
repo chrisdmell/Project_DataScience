{
 "cells": [
  {
   "cell_type": "markdown",
   "metadata": {},
   "source": [
    "#### Cred Data Science Analyst"
   ]
  },
  {
   "cell_type": "code",
   "execution_count": 1,
   "metadata": {},
   "outputs": [],
   "source": [
    "## utils functions\n",
    "%run extras/lab_utils_cls.ipynb"
   ]
  },
  {
   "cell_type": "code",
   "execution_count": 2,
   "metadata": {},
   "outputs": [],
   "source": [
    "## utils data clean\n",
    "%run extras/data_clean_util.ipynb"
   ]
  },
  {
   "cell_type": "code",
   "execution_count": 3,
   "metadata": {},
   "outputs": [],
   "source": [
    "churn_data_loc = \"C:\\\\Users\\\\chris.dmello\\\\Documents\\\\Python Scripts\\\\cred\\\\Analytics Assignment\\\\data_for_churn_analysis.csv\""
   ]
  },
  {
   "cell_type": "code",
   "execution_count": 154,
   "metadata": {},
   "outputs": [],
   "source": [
    "df_chrun = Utils.load_data(churn_data_loc)"
   ]
  },
  {
   "cell_type": "code",
   "execution_count": 155,
   "metadata": {},
   "outputs": [
    {
     "data": {
      "text/html": [
       "<div>\n",
       "<style scoped>\n",
       "    .dataframe tbody tr th:only-of-type {\n",
       "        vertical-align: middle;\n",
       "    }\n",
       "\n",
       "    .dataframe tbody tr th {\n",
       "        vertical-align: top;\n",
       "    }\n",
       "\n",
       "    .dataframe thead th {\n",
       "        text-align: right;\n",
       "    }\n",
       "</style>\n",
       "<table border=\"1\" class=\"dataframe\">\n",
       "  <thead>\n",
       "    <tr style=\"text-align: right;\">\n",
       "      <th></th>\n",
       "      <th>device</th>\n",
       "      <th>first_payment_amount</th>\n",
       "      <th>age</th>\n",
       "      <th>city</th>\n",
       "      <th>number_of_cards</th>\n",
       "      <th>payments_initiated</th>\n",
       "      <th>payments_failed</th>\n",
       "      <th>payments_completed</th>\n",
       "      <th>payments_completed_amount_first_7days</th>\n",
       "      <th>reward_purchase_count_first_7days</th>\n",
       "      <th>coins_redeemed_first_7days</th>\n",
       "      <th>is_referral</th>\n",
       "      <th>visits_feature_1</th>\n",
       "      <th>visits_feature_2</th>\n",
       "      <th>given_permission_1</th>\n",
       "      <th>given_permission_2</th>\n",
       "      <th>user_id</th>\n",
       "      <th>is_churned</th>\n",
       "    </tr>\n",
       "  </thead>\n",
       "  <tbody>\n",
       "    <tr>\n",
       "      <th>0</th>\n",
       "      <td>samsung</td>\n",
       "      <td>0</td>\n",
       "      <td>20.0</td>\n",
       "      <td>Ahmedabad</td>\n",
       "      <td>2.0</td>\n",
       "      <td>1.0</td>\n",
       "      <td>0.0</td>\n",
       "      <td>1.0</td>\n",
       "      <td>0.0</td>\n",
       "      <td>NaN</td>\n",
       "      <td>0.0</td>\n",
       "      <td>False</td>\n",
       "      <td>3.0</td>\n",
       "      <td>0.0</td>\n",
       "      <td>1</td>\n",
       "      <td>0</td>\n",
       "      <td>269438</td>\n",
       "      <td>0</td>\n",
       "    </tr>\n",
       "    <tr>\n",
       "      <th>1</th>\n",
       "      <td>xiaomi</td>\n",
       "      <td>0</td>\n",
       "      <td>20.0</td>\n",
       "      <td>Surat</td>\n",
       "      <td>1.0</td>\n",
       "      <td>1.0</td>\n",
       "      <td>0.0</td>\n",
       "      <td>1.0</td>\n",
       "      <td>0.0</td>\n",
       "      <td>NaN</td>\n",
       "      <td>0.0</td>\n",
       "      <td>True</td>\n",
       "      <td>0.0</td>\n",
       "      <td>0.0</td>\n",
       "      <td>1</td>\n",
       "      <td>0</td>\n",
       "      <td>139521</td>\n",
       "      <td>0</td>\n",
       "    </tr>\n",
       "    <tr>\n",
       "      <th>2</th>\n",
       "      <td>xiaomi</td>\n",
       "      <td>0</td>\n",
       "      <td>20.0</td>\n",
       "      <td>Kullu</td>\n",
       "      <td>1.0</td>\n",
       "      <td>2.0</td>\n",
       "      <td>1.0</td>\n",
       "      <td>1.0</td>\n",
       "      <td>0.0</td>\n",
       "      <td>0.0</td>\n",
       "      <td>0.0</td>\n",
       "      <td>True</td>\n",
       "      <td>0.0</td>\n",
       "      <td>0.0</td>\n",
       "      <td>0</td>\n",
       "      <td>1</td>\n",
       "      <td>307352</td>\n",
       "      <td>0</td>\n",
       "    </tr>\n",
       "    <tr>\n",
       "      <th>3</th>\n",
       "      <td>oneplus</td>\n",
       "      <td>0</td>\n",
       "      <td>20.0</td>\n",
       "      <td>Mumbai</td>\n",
       "      <td>2.0</td>\n",
       "      <td>4.0</td>\n",
       "      <td>1.0</td>\n",
       "      <td>2.0</td>\n",
       "      <td>322.0</td>\n",
       "      <td>2.0</td>\n",
       "      <td>20.0</td>\n",
       "      <td>False</td>\n",
       "      <td>0.0</td>\n",
       "      <td>0.0</td>\n",
       "      <td>1</td>\n",
       "      <td>1</td>\n",
       "      <td>456424</td>\n",
       "      <td>0</td>\n",
       "    </tr>\n",
       "    <tr>\n",
       "      <th>4</th>\n",
       "      <td>apple</td>\n",
       "      <td>0</td>\n",
       "      <td>20.0</td>\n",
       "      <td>Pune</td>\n",
       "      <td>2.0</td>\n",
       "      <td>1.0</td>\n",
       "      <td>0.0</td>\n",
       "      <td>1.0</td>\n",
       "      <td>0.0</td>\n",
       "      <td>0.0</td>\n",
       "      <td>0.0</td>\n",
       "      <td>False</td>\n",
       "      <td>0.0</td>\n",
       "      <td>1.0</td>\n",
       "      <td>1</td>\n",
       "      <td>1</td>\n",
       "      <td>398779</td>\n",
       "      <td>0</td>\n",
       "    </tr>\n",
       "  </tbody>\n",
       "</table>\n",
       "</div>"
      ],
      "text/plain": [
       "    device  first_payment_amount   age       city  number_of_cards  \\\n",
       "0  samsung                     0  20.0  Ahmedabad              2.0   \n",
       "1   xiaomi                     0  20.0      Surat              1.0   \n",
       "2   xiaomi                     0  20.0      Kullu              1.0   \n",
       "3  oneplus                     0  20.0     Mumbai              2.0   \n",
       "4    apple                     0  20.0       Pune              2.0   \n",
       "\n",
       "   payments_initiated  payments_failed  payments_completed  \\\n",
       "0                 1.0              0.0                 1.0   \n",
       "1                 1.0              0.0                 1.0   \n",
       "2                 2.0              1.0                 1.0   \n",
       "3                 4.0              1.0                 2.0   \n",
       "4                 1.0              0.0                 1.0   \n",
       "\n",
       "   payments_completed_amount_first_7days  reward_purchase_count_first_7days  \\\n",
       "0                                    0.0                                NaN   \n",
       "1                                    0.0                                NaN   \n",
       "2                                    0.0                                0.0   \n",
       "3                                  322.0                                2.0   \n",
       "4                                    0.0                                0.0   \n",
       "\n",
       "   coins_redeemed_first_7days  is_referral  visits_feature_1  \\\n",
       "0                         0.0        False               3.0   \n",
       "1                         0.0         True               0.0   \n",
       "2                         0.0         True               0.0   \n",
       "3                        20.0        False               0.0   \n",
       "4                         0.0        False               0.0   \n",
       "\n",
       "   visits_feature_2  given_permission_1  given_permission_2  user_id  \\\n",
       "0               0.0                   1                   0   269438   \n",
       "1               0.0                   1                   0   139521   \n",
       "2               0.0                   0                   1   307352   \n",
       "3               0.0                   1                   1   456424   \n",
       "4               1.0                   1                   1   398779   \n",
       "\n",
       "   is_churned  \n",
       "0           0  \n",
       "1           0  \n",
       "2           0  \n",
       "3           0  \n",
       "4           0  "
      ]
     },
     "execution_count": 155,
     "metadata": {},
     "output_type": "execute_result"
    }
   ],
   "source": [
    "df_chrun.head()"
   ]
  },
  {
   "cell_type": "markdown",
   "metadata": {},
   "source": [
    "\n",
    "|column name|\tmeaning|\n",
    "|---|---|\n",
    "|device\tuser's| device brand\n",
    "|first_payment_amount\t|user's first payment amount\n",
    "|age\t|user's age\n",
    "|city\t|user's city\n",
    "|number_of_cards\t|#of cards user owns\n",
    "|payments_initiated|#of payments initiated by user\n",
    "|payments_failed\t|#of payments failed\n",
    "|payments_completed|\t#of payments completed\n",
    "|payments_completed_amount_first_7days\t|amt of payment completed in first 7 days of joining\n",
    "|reward_purchase_count_first_7days\t|#of rewards claimed in first 7 days\n",
    "|coins_redeemed_first_7days\t|coins redeemed in first 7 days\n",
    "|is_referral\t|is user a referred user\n",
    "|visits_feature_1\t|#of visits made by user to product feature 1\n",
    "|visits_feature_2\t|#of visits made by user to product feature 2\n",
    "|given_permission_1\t|has user given permission 1\n",
    "|given_permission_2\t|has user given permission 2\n",
    "|user_id\t|user identifier\n",
    "|is_churned\t|whether user churned\n"
   ]
  },
  {
   "cell_type": "code",
   "execution_count": 6,
   "metadata": {
    "scrolled": false
   },
   "outputs": [
    {
     "name": "stdout",
     "output_type": "stream",
     "text": [
      "Dataframe Info\n",
      "<class 'pandas.core.frame.DataFrame'>\n",
      "RangeIndex: 104143 entries, 0 to 104142\n",
      "Data columns (total 18 columns):\n",
      " #   Column                                 Non-Null Count   Dtype  \n",
      "---  ------                                 --------------   -----  \n",
      " 0   device                                 104025 non-null  object \n",
      " 1   first_payment_amount                   104143 non-null  float64\n",
      " 2   age                                    104001 non-null  float64\n",
      " 3   city                                   98301 non-null   object \n",
      " 4   number_of_cards                        103671 non-null  float64\n",
      " 5   payments_initiated                     103671 non-null  float64\n",
      " 6   payments_failed                        103671 non-null  float64\n",
      " 7   payments_completed                     103671 non-null  float64\n",
      " 8   payments_completed_amount_first_7days  103671 non-null  float64\n",
      " 9   reward_purchase_count_first_7days      80879 non-null   float64\n",
      " 10  coins_redeemed_first_7days             103671 non-null  float64\n",
      " 11  is_referral                            104143 non-null  bool   \n",
      " 12  visits_feature_1                       101497 non-null  float64\n",
      " 13  visits_feature_2                       101497 non-null  float64\n",
      " 14  given_permission_1                     104143 non-null  int64  \n",
      " 15  given_permission_2                     104143 non-null  int64  \n",
      " 16  user_id                                104143 non-null  int64  \n",
      " 17  is_churned                             104143 non-null  float64\n",
      "dtypes: bool(1), float64(12), int64(3), object(2)\n",
      "memory usage: 13.6+ MB\n",
      "None\n",
      "===============================================================\n",
      "Dataframe Describe Method\n",
      "       first_payment_amount            age  number_of_cards  \\\n",
      "count         104143.000000  104001.000000    103671.000000   \n",
      "mean              34.771353      32.688291         1.989148   \n",
      "std               73.181032       7.821752         1.871436   \n",
      "min                0.000000      20.000000         0.000000   \n",
      "25%                2.000000      27.000000         1.000000   \n",
      "50%               12.000000      31.000000         1.000000   \n",
      "75%               37.000000      36.000000         3.000000   \n",
      "max             4370.000000      80.000000        30.000000   \n",
      "\n",
      "       payments_initiated  payments_failed  payments_completed  \\\n",
      "count       103671.000000    103671.000000       103671.000000   \n",
      "mean             2.847402         0.439940            1.830676   \n",
      "std              4.223077         1.061101            3.210357   \n",
      "min              1.000000         0.000000            1.000000   \n",
      "25%              1.000000         0.000000            1.000000   \n",
      "50%              2.000000         0.000000            1.000000   \n",
      "75%              3.000000         0.000000            2.000000   \n",
      "max            359.000000        30.000000          337.000000   \n",
      "\n",
      "       payments_completed_amount_first_7days  \\\n",
      "count                          103671.000000   \n",
      "mean                               55.965381   \n",
      "std                               130.720128   \n",
      "min                                 0.000000   \n",
      "25%                                 3.000000   \n",
      "50%                                21.000000   \n",
      "75%                                64.000000   \n",
      "max                             11107.000000   \n",
      "\n",
      "       reward_purchase_count_first_7days  coins_redeemed_first_7days  \\\n",
      "count                       80879.000000               103671.000000   \n",
      "mean                            2.042075                   22.494102   \n",
      "std                             3.731290                   64.122134   \n",
      "min                             0.000000                    0.000000   \n",
      "25%                             0.000000                    0.000000   \n",
      "50%                             1.000000                    3.000000   \n",
      "75%                             3.000000                   20.000000   \n",
      "max                           304.000000                 8857.000000   \n",
      "\n",
      "       visits_feature_1  visits_feature_2  given_permission_1  \\\n",
      "count     101497.000000     101497.000000       104143.000000   \n",
      "mean           0.239643          0.126861            0.852318   \n",
      "std            0.624616          0.445573            0.354786   \n",
      "min            0.000000          0.000000            0.000000   \n",
      "25%            0.000000          0.000000            1.000000   \n",
      "50%            0.000000          0.000000            1.000000   \n",
      "75%            0.000000          0.000000            1.000000   \n",
      "max           17.000000         23.000000            1.000000   \n",
      "\n",
      "       given_permission_2        user_id     is_churned  \n",
      "count       104143.000000  104143.000000  104143.000000  \n",
      "mean             0.723332  251829.347273       0.286808  \n",
      "std              0.447353  146009.671697       0.452273  \n",
      "min              0.000000       0.000000       0.000000  \n",
      "25%              0.000000  124478.500000       0.000000  \n",
      "50%              1.000000  252377.000000       0.000000  \n",
      "75%              1.000000  378186.500000       1.000000  \n",
      "max              1.000000  503533.000000       1.000000  \n",
      "===============================================================\n",
      "Dataframe Dtype\n",
      "device                                    object\n",
      "first_payment_amount                     float64\n",
      "age                                      float64\n",
      "city                                      object\n",
      "number_of_cards                          float64\n",
      "payments_initiated                       float64\n",
      "payments_failed                          float64\n",
      "payments_completed                       float64\n",
      "payments_completed_amount_first_7days    float64\n",
      "reward_purchase_count_first_7days        float64\n",
      "coins_redeemed_first_7days               float64\n",
      "is_referral                                 bool\n",
      "visits_feature_1                         float64\n",
      "visits_feature_2                         float64\n",
      "given_permission_1                         int64\n",
      "given_permission_2                         int64\n",
      "user_id                                    int64\n",
      "is_churned                               float64\n",
      "dtype: object\n",
      "===============================================================\n",
      "Dataframe Columns\n",
      "Index(['device', 'first_payment_amount', 'age', 'city', 'number_of_cards',\n",
      "       'payments_initiated', 'payments_failed', 'payments_completed',\n",
      "       'payments_completed_amount_first_7days',\n",
      "       'reward_purchase_count_first_7days', 'coins_redeemed_first_7days',\n",
      "       'is_referral', 'visits_feature_1', 'visits_feature_2',\n",
      "       'given_permission_1', 'given_permission_2', 'user_id', 'is_churned'],\n",
      "      dtype='object')\n",
      "===============================================================\n",
      "Dataframe Check if null\n",
      "device                                     118\n",
      "first_payment_amount                         0\n",
      "age                                        142\n",
      "city                                      5842\n",
      "number_of_cards                            472\n",
      "payments_initiated                         472\n",
      "payments_failed                            472\n",
      "payments_completed                         472\n",
      "payments_completed_amount_first_7days      472\n",
      "reward_purchase_count_first_7days        23264\n",
      "coins_redeemed_first_7days                 472\n",
      "is_referral                                  0\n",
      "visits_feature_1                          2646\n",
      "visits_feature_2                          2646\n",
      "given_permission_1                           0\n",
      "given_permission_2                           0\n",
      "user_id                                      0\n",
      "is_churned                                   0\n",
      "dtype: int64\n",
      "===============================================================\n"
     ]
    }
   ],
   "source": [
    "Utils.df_attributes(df_chrun)  # test"
   ]
  },
  {
   "cell_type": "code",
   "execution_count": 8,
   "metadata": {},
   "outputs": [
    {
     "name": "stderr",
     "output_type": "stream",
     "text": [
      "<ipython-input-1-62ee98b8c2be>:235: UserWarning: To output multiple subplots, the figure containing the passed axes is being cleared\n",
      "  return dataset[hist_cols].hist(ax = ax)\n"
     ]
    },
    {
     "data": {
      "text/plain": [
       "array([[<AxesSubplot:title={'center':'first_payment_amount'}>,\n",
       "        <AxesSubplot:title={'center':'age'}>,\n",
       "        <AxesSubplot:title={'center':'number_of_cards'}>,\n",
       "        <AxesSubplot:title={'center':'payments_initiated'}>],\n",
       "       [<AxesSubplot:title={'center':'payments_failed'}>,\n",
       "        <AxesSubplot:title={'center':'payments_completed'}>,\n",
       "        <AxesSubplot:title={'center':'payments_completed_amount_first_7days'}>,\n",
       "        <AxesSubplot:title={'center':'reward_purchase_count_first_7days'}>],\n",
       "       [<AxesSubplot:title={'center':'coins_redeemed_first_7days'}>,\n",
       "        <AxesSubplot:title={'center':'visits_feature_1'}>,\n",
       "        <AxesSubplot:title={'center':'visits_feature_2'}>,\n",
       "        <AxesSubplot:title={'center':'given_permission_1'}>],\n",
       "       [<AxesSubplot:title={'center':'given_permission_2'}>,\n",
       "        <AxesSubplot:title={'center':'user_id'}>,\n",
       "        <AxesSubplot:title={'center':'is_churned'}>, <AxesSubplot:>]],\n",
       "      dtype=object)"
      ]
     },
     "execution_count": 8,
     "metadata": {},
     "output_type": "execute_result"
    },
    {
     "data": {
      "image/png": "[encoded data removed]",
      "text/plain": [
       "<Figure size 1080x1440 with 16 Axes>"
      ]
     },
     "metadata": {
      "needs_background": "light"
     },
     "output_type": "display_data"
    }
   ],
   "source": [
    "Utils.hist_flt_int(df_chrun)  ## "
   ]
  },
  {
   "cell_type": "markdown",
   "metadata": {},
   "source": [
    "TODO :  Distribution but a cap for each variable so that the distribution is more readable <br>\n",
    "Value counts of certain features"
   ]
  },
  {
   "cell_type": "code",
   "execution_count": 9,
   "metadata": {},
   "outputs": [
    {
     "name": "stdout",
     "output_type": "stream",
     "text": [
      "city\n"
     ]
    },
    {
     "data": {
      "image/png": "[encoded data removed]",
      "text/plain": [
       "<Figure size 432x288 with 1 Axes>"
      ]
     },
     "metadata": {
      "needs_background": "light"
     },
     "output_type": "display_data"
    },
    {
     "name": "stdout",
     "output_type": "stream",
     "text": [
      "is_referral\n"
     ]
    },
    {
     "data": {
      "image/png": "[encoded data removed]",
      "text/plain": [
       "<Figure size 432x288 with 1 Axes>"
      ]
     },
     "metadata": {
      "needs_background": "light"
     },
     "output_type": "display_data"
    },
    {
     "name": "stdout",
     "output_type": "stream",
     "text": [
      "device\n"
     ]
    },
    {
     "data": {
      "image/png": "[encoded data removed]",
      "text/plain": [
       "<Figure size 432x288 with 1 Axes>"
      ]
     },
     "metadata": {
      "needs_background": "light"
     },
     "output_type": "display_data"
    }
   ],
   "source": [
    "Utils.plot_categorical_bar(df_chrun)"
   ]
  },
  {
   "cell_type": "markdown",
   "metadata": {},
   "source": [
    "TODO : A cummulative percentage"
   ]
  },
  {
   "cell_type": "code",
   "execution_count": 10,
   "metadata": {},
   "outputs": [
    {
     "name": "stdout",
     "output_type": "stream",
     "text": [
      "|    | features                              |   null_count |   total |   missing_percent |\n",
      "|---:|:--------------------------------------|-------------:|--------:|------------------:|\n",
      "|  9 | reward_purchase_count_first_7days     |        23264 |  104143 |             22.34 |\n",
      "|  3 | city                                  |         5842 |  104143 |              5.61 |\n",
      "| 12 | visits_feature_1                      |         2646 |  104143 |              2.54 |\n",
      "| 13 | visits_feature_2                      |         2646 |  104143 |              2.54 |\n",
      "|  4 | number_of_cards                       |          472 |  104143 |              0.45 |\n",
      "|  5 | payments_initiated                    |          472 |  104143 |              0.45 |\n",
      "|  6 | payments_failed                       |          472 |  104143 |              0.45 |\n",
      "|  7 | payments_completed                    |          472 |  104143 |              0.45 |\n",
      "|  8 | payments_completed_amount_first_7days |          472 |  104143 |              0.45 |\n",
      "| 10 | coins_redeemed_first_7days            |          472 |  104143 |              0.45 |\n",
      "|  2 | age                                   |          142 |  104143 |              0.14 |\n",
      "|  0 | device                                |          118 |  104143 |              0.11 |\n",
      "| 11 | is_referral                           |            0 |  104143 |              0    |\n",
      "|  1 | first_payment_amount                  |            0 |  104143 |              0    |\n",
      "| 14 | given_permission_1                    |            0 |  104143 |              0    |\n",
      "| 15 | given_permission_2                    |            0 |  104143 |              0    |\n",
      "| 16 | user_id                               |            0 |  104143 |              0    |\n",
      "| 17 | is_churned                            |            0 |  104143 |              0    |\n"
     ]
    },
    {
     "data": {
      "text/html": [
       "<div>\n",
       "<style scoped>\n",
       "    .dataframe tbody tr th:only-of-type {\n",
       "        vertical-align: middle;\n",
       "    }\n",
       "\n",
       "    .dataframe tbody tr th {\n",
       "        vertical-align: top;\n",
       "    }\n",
       "\n",
       "    .dataframe thead th {\n",
       "        text-align: right;\n",
       "    }\n",
       "</style>\n",
       "<table border=\"1\" class=\"dataframe\">\n",
       "  <thead>\n",
       "    <tr style=\"text-align: right;\">\n",
       "      <th></th>\n",
       "      <th>features</th>\n",
       "      <th>null_count</th>\n",
       "      <th>total</th>\n",
       "      <th>missing_percent</th>\n",
       "    </tr>\n",
       "  </thead>\n",
       "  <tbody>\n",
       "    <tr>\n",
       "      <th>9</th>\n",
       "      <td>reward_purchase_count_first_7days</td>\n",
       "      <td>23264</td>\n",
       "      <td>104143</td>\n",
       "      <td>22.34</td>\n",
       "    </tr>\n",
       "    <tr>\n",
       "      <th>3</th>\n",
       "      <td>city</td>\n",
       "      <td>5842</td>\n",
       "      <td>104143</td>\n",
       "      <td>5.61</td>\n",
       "    </tr>\n",
       "    <tr>\n",
       "      <th>12</th>\n",
       "      <td>visits_feature_1</td>\n",
       "      <td>2646</td>\n",
       "      <td>104143</td>\n",
       "      <td>2.54</td>\n",
       "    </tr>\n",
       "    <tr>\n",
       "      <th>13</th>\n",
       "      <td>visits_feature_2</td>\n",
       "      <td>2646</td>\n",
       "      <td>104143</td>\n",
       "      <td>2.54</td>\n",
       "    </tr>\n",
       "    <tr>\n",
       "      <th>4</th>\n",
       "      <td>number_of_cards</td>\n",
       "      <td>472</td>\n",
       "      <td>104143</td>\n",
       "      <td>0.45</td>\n",
       "    </tr>\n",
       "    <tr>\n",
       "      <th>5</th>\n",
       "      <td>payments_initiated</td>\n",
       "      <td>472</td>\n",
       "      <td>104143</td>\n",
       "      <td>0.45</td>\n",
       "    </tr>\n",
       "    <tr>\n",
       "      <th>6</th>\n",
       "      <td>payments_failed</td>\n",
       "      <td>472</td>\n",
       "      <td>104143</td>\n",
       "      <td>0.45</td>\n",
       "    </tr>\n",
       "    <tr>\n",
       "      <th>7</th>\n",
       "      <td>payments_completed</td>\n",
       "      <td>472</td>\n",
       "      <td>104143</td>\n",
       "      <td>0.45</td>\n",
       "    </tr>\n",
       "    <tr>\n",
       "      <th>8</th>\n",
       "      <td>payments_completed_amount_first_7days</td>\n",
       "      <td>472</td>\n",
       "      <td>104143</td>\n",
       "      <td>0.45</td>\n",
       "    </tr>\n",
       "    <tr>\n",
       "      <th>10</th>\n",
       "      <td>coins_redeemed_first_7days</td>\n",
       "      <td>472</td>\n",
       "      <td>104143</td>\n",
       "      <td>0.45</td>\n",
       "    </tr>\n",
       "    <tr>\n",
       "      <th>2</th>\n",
       "      <td>age</td>\n",
       "      <td>142</td>\n",
       "      <td>104143</td>\n",
       "      <td>0.14</td>\n",
       "    </tr>\n",
       "    <tr>\n",
       "      <th>0</th>\n",
       "      <td>device</td>\n",
       "      <td>118</td>\n",
       "      <td>104143</td>\n",
       "      <td>0.11</td>\n",
       "    </tr>\n",
       "    <tr>\n",
       "      <th>11</th>\n",
       "      <td>is_referral</td>\n",
       "      <td>0</td>\n",
       "      <td>104143</td>\n",
       "      <td>0.00</td>\n",
       "    </tr>\n",
       "    <tr>\n",
       "      <th>1</th>\n",
       "      <td>first_payment_amount</td>\n",
       "      <td>0</td>\n",
       "      <td>104143</td>\n",
       "      <td>0.00</td>\n",
       "    </tr>\n",
       "    <tr>\n",
       "      <th>14</th>\n",
       "      <td>given_permission_1</td>\n",
       "      <td>0</td>\n",
       "      <td>104143</td>\n",
       "      <td>0.00</td>\n",
       "    </tr>\n",
       "    <tr>\n",
       "      <th>15</th>\n",
       "      <td>given_permission_2</td>\n",
       "      <td>0</td>\n",
       "      <td>104143</td>\n",
       "      <td>0.00</td>\n",
       "    </tr>\n",
       "    <tr>\n",
       "      <th>16</th>\n",
       "      <td>user_id</td>\n",
       "      <td>0</td>\n",
       "      <td>104143</td>\n",
       "      <td>0.00</td>\n",
       "    </tr>\n",
       "    <tr>\n",
       "      <th>17</th>\n",
       "      <td>is_churned</td>\n",
       "      <td>0</td>\n",
       "      <td>104143</td>\n",
       "      <td>0.00</td>\n",
       "    </tr>\n",
       "  </tbody>\n",
       "</table>\n",
       "</div>"
      ],
      "text/plain": [
       "                                 features  null_count   total  missing_percent\n",
       "9       reward_purchase_count_first_7days       23264  104143            22.34\n",
       "3                                    city        5842  104143             5.61\n",
       "12                       visits_feature_1        2646  104143             2.54\n",
       "13                       visits_feature_2        2646  104143             2.54\n",
       "4                         number_of_cards         472  104143             0.45\n",
       "5                      payments_initiated         472  104143             0.45\n",
       "6                         payments_failed         472  104143             0.45\n",
       "7                      payments_completed         472  104143             0.45\n",
       "8   payments_completed_amount_first_7days         472  104143             0.45\n",
       "10             coins_redeemed_first_7days         472  104143             0.45\n",
       "2                                     age         142  104143             0.14\n",
       "0                                  device         118  104143             0.11\n",
       "11                            is_referral           0  104143             0.00\n",
       "1                    first_payment_amount           0  104143             0.00\n",
       "14                     given_permission_1           0  104143             0.00\n",
       "15                     given_permission_2           0  104143             0.00\n",
       "16                                user_id           0  104143             0.00\n",
       "17                             is_churned           0  104143             0.00"
      ]
     },
     "execution_count": 10,
     "metadata": {},
     "output_type": "execute_result"
    }
   ],
   "source": [
    "DataClean.missing_percentage(df_chrun)"
   ]
  },
  {
   "cell_type": "markdown",
   "metadata": {},
   "source": [
    "TODO : Missing data and recommendation, if more than 5% then mean etc etc. If more then 10-20 percent then leave it out etc. "
   ]
  },
  {
   "cell_type": "code",
   "execution_count": 11,
   "metadata": {},
   "outputs": [
    {
     "data": {
      "text/html": [
       "<style  type=\"text/css\" >\n",
       "#T_748f622f_f265_11eb_a8aa_54e1ad4ebfafrow0_col0,#T_748f622f_f265_11eb_a8aa_54e1ad4ebfafrow1_col1,#T_748f622f_f265_11eb_a8aa_54e1ad4ebfafrow2_col2,#T_748f622f_f265_11eb_a8aa_54e1ad4ebfafrow3_col3,#T_748f622f_f265_11eb_a8aa_54e1ad4ebfafrow4_col4,#T_748f622f_f265_11eb_a8aa_54e1ad4ebfafrow5_col5,#T_748f622f_f265_11eb_a8aa_54e1ad4ebfafrow6_col6,#T_748f622f_f265_11eb_a8aa_54e1ad4ebfafrow7_col7,#T_748f622f_f265_11eb_a8aa_54e1ad4ebfafrow8_col8,#T_748f622f_f265_11eb_a8aa_54e1ad4ebfafrow9_col9,#T_748f622f_f265_11eb_a8aa_54e1ad4ebfafrow10_col10,#T_748f622f_f265_11eb_a8aa_54e1ad4ebfafrow11_col11,#T_748f622f_f265_11eb_a8aa_54e1ad4ebfafrow12_col12,#T_748f622f_f265_11eb_a8aa_54e1ad4ebfafrow13_col13,#T_748f622f_f265_11eb_a8aa_54e1ad4ebfafrow14_col14{\n",
       "            background-color:  #b40426;\n",
       "            color:  #f1f1f1;\n",
       "        }#T_748f622f_f265_11eb_a8aa_54e1ad4ebfafrow0_col1,#T_748f622f_f265_11eb_a8aa_54e1ad4ebfafrow4_col9,#T_748f622f_f265_11eb_a8aa_54e1ad4ebfafrow10_col4,#T_748f622f_f265_11eb_a8aa_54e1ad4ebfafrow12_col3{\n",
       "            background-color:  #5b7ae5;\n",
       "            color:  #000000;\n",
       "        }#T_748f622f_f265_11eb_a8aa_54e1ad4ebfafrow0_col2{\n",
       "            background-color:  #6c8ff1;\n",
       "            color:  #000000;\n",
       "        }#T_748f622f_f265_11eb_a8aa_54e1ad4ebfafrow0_col3,#T_748f622f_f265_11eb_a8aa_54e1ad4ebfafrow5_col1,#T_748f622f_f265_11eb_a8aa_54e1ad4ebfafrow13_col7{\n",
       "            background-color:  #4f69d9;\n",
       "            color:  #000000;\n",
       "        }#T_748f622f_f265_11eb_a8aa_54e1ad4ebfafrow0_col4,#T_748f622f_f265_11eb_a8aa_54e1ad4ebfafrow3_col0,#T_748f622f_f265_11eb_a8aa_54e1ad4ebfafrow3_col1,#T_748f622f_f265_11eb_a8aa_54e1ad4ebfafrow11_col7{\n",
       "            background-color:  #506bda;\n",
       "            color:  #000000;\n",
       "        }#T_748f622f_f265_11eb_a8aa_54e1ad4ebfafrow0_col5,#T_748f622f_f265_11eb_a8aa_54e1ad4ebfafrow9_col14{\n",
       "            background-color:  #485fd1;\n",
       "            color:  #f1f1f1;\n",
       "        }#T_748f622f_f265_11eb_a8aa_54e1ad4ebfafrow0_col6{\n",
       "            background-color:  #f7b396;\n",
       "            color:  #000000;\n",
       "        }#T_748f622f_f265_11eb_a8aa_54e1ad4ebfafrow0_col7,#T_748f622f_f265_11eb_a8aa_54e1ad4ebfafrow6_col1,#T_748f622f_f265_11eb_a8aa_54e1ad4ebfafrow11_col3,#T_748f622f_f265_11eb_a8aa_54e1ad4ebfafrow12_col6,#T_748f622f_f265_11eb_a8aa_54e1ad4ebfafrow12_col8{\n",
       "            background-color:  #6180e9;\n",
       "            color:  #000000;\n",
       "        }#T_748f622f_f265_11eb_a8aa_54e1ad4ebfafrow0_col8{\n",
       "            background-color:  #c6d6f1;\n",
       "            color:  #000000;\n",
       "        }#T_748f622f_f265_11eb_a8aa_54e1ad4ebfafrow0_col9,#T_748f622f_f265_11eb_a8aa_54e1ad4ebfafrow1_col7,#T_748f622f_f265_11eb_a8aa_54e1ad4ebfafrow6_col10,#T_748f622f_f265_11eb_a8aa_54e1ad4ebfafrow8_col13{\n",
       "            background-color:  #5470de;\n",
       "            color:  #000000;\n",
       "        }#T_748f622f_f265_11eb_a8aa_54e1ad4ebfafrow0_col10,#T_748f622f_f265_11eb_a8aa_54e1ad4ebfafrow1_col10,#T_748f622f_f265_11eb_a8aa_54e1ad4ebfafrow4_col14,#T_748f622f_f265_11eb_a8aa_54e1ad4ebfafrow11_col1,#T_748f622f_f265_11eb_a8aa_54e1ad4ebfafrow12_col7{\n",
       "            background-color:  #4b64d5;\n",
       "            color:  #f1f1f1;\n",
       "        }#T_748f622f_f265_11eb_a8aa_54e1ad4ebfafrow0_col11,#T_748f622f_f265_11eb_a8aa_54e1ad4ebfafrow5_col10,#T_748f622f_f265_11eb_a8aa_54e1ad4ebfafrow9_col7,#T_748f622f_f265_11eb_a8aa_54e1ad4ebfafrow11_col4,#T_748f622f_f265_11eb_a8aa_54e1ad4ebfafrow11_col9,#T_748f622f_f265_11eb_a8aa_54e1ad4ebfafrow13_col14{\n",
       "            background-color:  #5673e0;\n",
       "            color:  #000000;\n",
       "        }#T_748f622f_f265_11eb_a8aa_54e1ad4ebfafrow0_col12,#T_748f622f_f265_11eb_a8aa_54e1ad4ebfafrow2_col12,#T_748f622f_f265_11eb_a8aa_54e1ad4ebfafrow3_col9,#T_748f622f_f265_11eb_a8aa_54e1ad4ebfafrow8_col12,#T_748f622f_f265_11eb_a8aa_54e1ad4ebfafrow11_col8,#T_748f622f_f265_11eb_a8aa_54e1ad4ebfafrow12_col2{\n",
       "            background-color:  #6282ea;\n",
       "            color:  #000000;\n",
       "        }#T_748f622f_f265_11eb_a8aa_54e1ad4ebfafrow0_col13,#T_748f622f_f265_11eb_a8aa_54e1ad4ebfafrow2_col13,#T_748f622f_f265_11eb_a8aa_54e1ad4ebfafrow13_col3{\n",
       "            background-color:  #536edd;\n",
       "            color:  #000000;\n",
       "        }#T_748f622f_f265_11eb_a8aa_54e1ad4ebfafrow0_col14,#T_748f622f_f265_11eb_a8aa_54e1ad4ebfafrow1_col9,#T_748f622f_f265_11eb_a8aa_54e1ad4ebfafrow13_col9{\n",
       "            background-color:  #3e51c5;\n",
       "            color:  #f1f1f1;\n",
       "        }#T_748f622f_f265_11eb_a8aa_54e1ad4ebfafrow1_col0,#T_748f622f_f265_11eb_a8aa_54e1ad4ebfafrow9_col8{\n",
       "            background-color:  #688aef;\n",
       "            color:  #000000;\n",
       "        }#T_748f622f_f265_11eb_a8aa_54e1ad4ebfafrow1_col2,#T_748f622f_f265_11eb_a8aa_54e1ad4ebfafrow4_col6,#T_748f622f_f265_11eb_a8aa_54e1ad4ebfafrow8_col2{\n",
       "            background-color:  #86a9fc;\n",
       "            color:  #000000;\n",
       "        }#T_748f622f_f265_11eb_a8aa_54e1ad4ebfafrow1_col3,#T_748f622f_f265_11eb_a8aa_54e1ad4ebfafrow2_col4,#T_748f622f_f265_11eb_a8aa_54e1ad4ebfafrow4_col0,#T_748f622f_f265_11eb_a8aa_54e1ad4ebfafrow4_col11,#T_748f622f_f265_11eb_a8aa_54e1ad4ebfafrow7_col9,#T_748f622f_f265_11eb_a8aa_54e1ad4ebfafrow7_col12,#T_748f622f_f265_11eb_a8aa_54e1ad4ebfafrow9_col0,#T_748f622f_f265_11eb_a8aa_54e1ad4ebfafrow11_col0,#T_748f622f_f265_11eb_a8aa_54e1ad4ebfafrow11_col10,#T_748f622f_f265_11eb_a8aa_54e1ad4ebfafrow13_col12,#T_748f622f_f265_11eb_a8aa_54e1ad4ebfafrow14_col1{\n",
       "            background-color:  #5d7ce6;\n",
       "            color:  #000000;\n",
       "        }#T_748f622f_f265_11eb_a8aa_54e1ad4ebfafrow1_col4,#T_748f622f_f265_11eb_a8aa_54e1ad4ebfafrow4_col1,#T_748f622f_f265_11eb_a8aa_54e1ad4ebfafrow5_col11,#T_748f622f_f265_11eb_a8aa_54e1ad4ebfafrow7_col1,#T_748f622f_f265_11eb_a8aa_54e1ad4ebfafrow11_col13,#T_748f622f_f265_11eb_a8aa_54e1ad4ebfafrow12_col4{\n",
       "            background-color:  #5572df;\n",
       "            color:  #000000;\n",
       "        }#T_748f622f_f265_11eb_a8aa_54e1ad4ebfafrow1_col5,#T_748f622f_f265_11eb_a8aa_54e1ad4ebfafrow6_col9,#T_748f622f_f265_11eb_a8aa_54e1ad4ebfafrow7_col10,#T_748f622f_f265_11eb_a8aa_54e1ad4ebfafrow7_col11,#T_748f622f_f265_11eb_a8aa_54e1ad4ebfafrow8_col1,#T_748f622f_f265_11eb_a8aa_54e1ad4ebfafrow8_col10,#T_748f622f_f265_11eb_a8aa_54e1ad4ebfafrow9_col4,#T_748f622f_f265_11eb_a8aa_54e1ad4ebfafrow10_col7,#T_748f622f_f265_11eb_a8aa_54e1ad4ebfafrow11_col5{\n",
       "            background-color:  #5875e1;\n",
       "            color:  #000000;\n",
       "        }#T_748f622f_f265_11eb_a8aa_54e1ad4ebfafrow1_col6{\n",
       "            background-color:  #7295f4;\n",
       "            color:  #000000;\n",
       "        }#T_748f622f_f265_11eb_a8aa_54e1ad4ebfafrow1_col8,#T_748f622f_f265_11eb_a8aa_54e1ad4ebfafrow10_col8{\n",
       "            background-color:  #6788ee;\n",
       "            color:  #000000;\n",
       "        }#T_748f622f_f265_11eb_a8aa_54e1ad4ebfafrow1_col11,#T_748f622f_f265_11eb_a8aa_54e1ad4ebfafrow2_col10,#T_748f622f_f265_11eb_a8aa_54e1ad4ebfafrow6_col13,#T_748f622f_f265_11eb_a8aa_54e1ad4ebfafrow7_col13,#T_748f622f_f265_11eb_a8aa_54e1ad4ebfafrow12_col5{\n",
       "            background-color:  #516ddb;\n",
       "            color:  #000000;\n",
       "        }#T_748f622f_f265_11eb_a8aa_54e1ad4ebfafrow1_col12,#T_748f622f_f265_11eb_a8aa_54e1ad4ebfafrow4_col13,#T_748f622f_f265_11eb_a8aa_54e1ad4ebfafrow12_col13,#T_748f622f_f265_11eb_a8aa_54e1ad4ebfafrow13_col4,#T_748f622f_f265_11eb_a8aa_54e1ad4ebfafrow13_col5{\n",
       "            background-color:  #4e68d8;\n",
       "            color:  #000000;\n",
       "        }#T_748f622f_f265_11eb_a8aa_54e1ad4ebfafrow1_col13,#T_748f622f_f265_11eb_a8aa_54e1ad4ebfafrow3_col10,#T_748f622f_f265_11eb_a8aa_54e1ad4ebfafrow8_col9,#T_748f622f_f265_11eb_a8aa_54e1ad4ebfafrow13_col1{\n",
       "            background-color:  #5e7de7;\n",
       "            color:  #000000;\n",
       "        }#T_748f622f_f265_11eb_a8aa_54e1ad4ebfafrow1_col14,#T_748f622f_f265_11eb_a8aa_54e1ad4ebfafrow2_col7,#T_748f622f_f265_11eb_a8aa_54e1ad4ebfafrow4_col2{\n",
       "            background-color:  #6e90f2;\n",
       "            color:  #000000;\n",
       "        }#T_748f622f_f265_11eb_a8aa_54e1ad4ebfafrow2_col0{\n",
       "            background-color:  #6a8bef;\n",
       "            color:  #000000;\n",
       "        }#T_748f622f_f265_11eb_a8aa_54e1ad4ebfafrow2_col1,#T_748f622f_f265_11eb_a8aa_54e1ad4ebfafrow6_col4{\n",
       "            background-color:  #7699f6;\n",
       "            color:  #000000;\n",
       "        }#T_748f622f_f265_11eb_a8aa_54e1ad4ebfafrow2_col3{\n",
       "            background-color:  #779af7;\n",
       "            color:  #000000;\n",
       "        }#T_748f622f_f265_11eb_a8aa_54e1ad4ebfafrow2_col5{\n",
       "            background-color:  #7396f5;\n",
       "            color:  #000000;\n",
       "        }#T_748f622f_f265_11eb_a8aa_54e1ad4ebfafrow2_col6,#T_748f622f_f265_11eb_a8aa_54e1ad4ebfafrow6_col2{\n",
       "            background-color:  #8badfd;\n",
       "            color:  #000000;\n",
       "        }#T_748f622f_f265_11eb_a8aa_54e1ad4ebfafrow2_col8{\n",
       "            background-color:  #85a8fc;\n",
       "            color:  #000000;\n",
       "        }#T_748f622f_f265_11eb_a8aa_54e1ad4ebfafrow2_col9,#T_748f622f_f265_11eb_a8aa_54e1ad4ebfafrow5_col0,#T_748f622f_f265_11eb_a8aa_54e1ad4ebfafrow7_col14,#T_748f622f_f265_11eb_a8aa_54e1ad4ebfafrow10_col1,#T_748f622f_f265_11eb_a8aa_54e1ad4ebfafrow10_col14{\n",
       "            background-color:  #4c66d6;\n",
       "            color:  #000000;\n",
       "        }#T_748f622f_f265_11eb_a8aa_54e1ad4ebfafrow2_col11,#T_748f622f_f265_11eb_a8aa_54e1ad4ebfafrow4_col12,#T_748f622f_f265_11eb_a8aa_54e1ad4ebfafrow11_col6{\n",
       "            background-color:  #6485ec;\n",
       "            color:  #000000;\n",
       "        }#T_748f622f_f265_11eb_a8aa_54e1ad4ebfafrow2_col14,#T_748f622f_f265_11eb_a8aa_54e1ad4ebfafrow6_col14,#T_748f622f_f265_11eb_a8aa_54e1ad4ebfafrow9_col1,#T_748f622f_f265_11eb_a8aa_54e1ad4ebfafrow9_col13,#T_748f622f_f265_11eb_a8aa_54e1ad4ebfafrow12_col14,#T_748f622f_f265_11eb_a8aa_54e1ad4ebfafrow14_col0,#T_748f622f_f265_11eb_a8aa_54e1ad4ebfafrow14_col2,#T_748f622f_f265_11eb_a8aa_54e1ad4ebfafrow14_col3,#T_748f622f_f265_11eb_a8aa_54e1ad4ebfafrow14_col4,#T_748f622f_f265_11eb_a8aa_54e1ad4ebfafrow14_col5,#T_748f622f_f265_11eb_a8aa_54e1ad4ebfafrow14_col6,#T_748f622f_f265_11eb_a8aa_54e1ad4ebfafrow14_col7,#T_748f622f_f265_11eb_a8aa_54e1ad4ebfafrow14_col8,#T_748f622f_f265_11eb_a8aa_54e1ad4ebfafrow14_col9,#T_748f622f_f265_11eb_a8aa_54e1ad4ebfafrow14_col10,#T_748f622f_f265_11eb_a8aa_54e1ad4ebfafrow14_col11,#T_748f622f_f265_11eb_a8aa_54e1ad4ebfafrow14_col12{\n",
       "            background-color:  #3b4cc0;\n",
       "            color:  #f1f1f1;\n",
       "        }#T_748f622f_f265_11eb_a8aa_54e1ad4ebfafrow3_col2{\n",
       "            background-color:  #7a9df8;\n",
       "            color:  #000000;\n",
       "        }#T_748f622f_f265_11eb_a8aa_54e1ad4ebfafrow3_col4{\n",
       "            background-color:  #ebd3c6;\n",
       "            color:  #000000;\n",
       "        }#T_748f622f_f265_11eb_a8aa_54e1ad4ebfafrow3_col5,#T_748f622f_f265_11eb_a8aa_54e1ad4ebfafrow5_col3{\n",
       "            background-color:  #d65244;\n",
       "            color:  #000000;\n",
       "        }#T_748f622f_f265_11eb_a8aa_54e1ad4ebfafrow3_col6,#T_748f622f_f265_11eb_a8aa_54e1ad4ebfafrow9_col10,#T_748f622f_f265_11eb_a8aa_54e1ad4ebfafrow11_col12{\n",
       "            background-color:  #9abbff;\n",
       "            color:  #000000;\n",
       "        }#T_748f622f_f265_11eb_a8aa_54e1ad4ebfafrow3_col7{\n",
       "            background-color:  #f39475;\n",
       "            color:  #000000;\n",
       "        }#T_748f622f_f265_11eb_a8aa_54e1ad4ebfafrow3_col8{\n",
       "            background-color:  #a9c6fd;\n",
       "            color:  #000000;\n",
       "        }#T_748f622f_f265_11eb_a8aa_54e1ad4ebfafrow3_col11,#T_748f622f_f265_11eb_a8aa_54e1ad4ebfafrow4_col10,#T_748f622f_f265_11eb_a8aa_54e1ad4ebfafrow5_col9,#T_748f622f_f265_11eb_a8aa_54e1ad4ebfafrow8_col11,#T_748f622f_f265_11eb_a8aa_54e1ad4ebfafrow10_col0,#T_748f622f_f265_11eb_a8aa_54e1ad4ebfafrow12_col9,#T_748f622f_f265_11eb_a8aa_54e1ad4ebfafrow13_col11{\n",
       "            background-color:  #5a78e4;\n",
       "            color:  #000000;\n",
       "        }#T_748f622f_f265_11eb_a8aa_54e1ad4ebfafrow3_col12,#T_748f622f_f265_11eb_a8aa_54e1ad4ebfafrow6_col12,#T_748f622f_f265_11eb_a8aa_54e1ad4ebfafrow9_col5,#T_748f622f_f265_11eb_a8aa_54e1ad4ebfafrow10_col5,#T_748f622f_f265_11eb_a8aa_54e1ad4ebfafrow12_col0,#T_748f622f_f265_11eb_a8aa_54e1ad4ebfafrow13_col0{\n",
       "            background-color:  #5f7fe8;\n",
       "            color:  #000000;\n",
       "        }#T_748f622f_f265_11eb_a8aa_54e1ad4ebfafrow3_col13,#T_748f622f_f265_11eb_a8aa_54e1ad4ebfafrow14_col13{\n",
       "            background-color:  #465ecf;\n",
       "            color:  #f1f1f1;\n",
       "        }#T_748f622f_f265_11eb_a8aa_54e1ad4ebfafrow3_col14{\n",
       "            background-color:  #3f53c6;\n",
       "            color:  #f1f1f1;\n",
       "        }#T_748f622f_f265_11eb_a8aa_54e1ad4ebfafrow4_col3{\n",
       "            background-color:  #efcfbf;\n",
       "            color:  #000000;\n",
       "        }#T_748f622f_f265_11eb_a8aa_54e1ad4ebfafrow4_col5{\n",
       "            background-color:  #a5c3fe;\n",
       "            color:  #000000;\n",
       "        }#T_748f622f_f265_11eb_a8aa_54e1ad4ebfafrow4_col7,#T_748f622f_f265_11eb_a8aa_54e1ad4ebfafrow7_col4{\n",
       "            background-color:  #98b9ff;\n",
       "            color:  #000000;\n",
       "        }#T_748f622f_f265_11eb_a8aa_54e1ad4ebfafrow4_col8{\n",
       "            background-color:  #84a7fc;\n",
       "            color:  #000000;\n",
       "        }#T_748f622f_f265_11eb_a8aa_54e1ad4ebfafrow5_col2{\n",
       "            background-color:  #7b9ff9;\n",
       "            color:  #000000;\n",
       "        }#T_748f622f_f265_11eb_a8aa_54e1ad4ebfafrow5_col4,#T_748f622f_f265_11eb_a8aa_54e1ad4ebfafrow10_col9{\n",
       "            background-color:  #9ebeff;\n",
       "            color:  #000000;\n",
       "        }#T_748f622f_f265_11eb_a8aa_54e1ad4ebfafrow5_col6,#T_748f622f_f265_11eb_a8aa_54e1ad4ebfafrow6_col3{\n",
       "            background-color:  #96b7ff;\n",
       "            color:  #000000;\n",
       "        }#T_748f622f_f265_11eb_a8aa_54e1ad4ebfafrow5_col7{\n",
       "            background-color:  #e67259;\n",
       "            color:  #000000;\n",
       "        }#T_748f622f_f265_11eb_a8aa_54e1ad4ebfafrow5_col8{\n",
       "            background-color:  #a7c5fe;\n",
       "            color:  #000000;\n",
       "        }#T_748f622f_f265_11eb_a8aa_54e1ad4ebfafrow5_col12,#T_748f622f_f265_11eb_a8aa_54e1ad4ebfafrow6_col11,#T_748f622f_f265_11eb_a8aa_54e1ad4ebfafrow9_col2,#T_748f622f_f265_11eb_a8aa_54e1ad4ebfafrow9_col11{\n",
       "            background-color:  #5977e3;\n",
       "            color:  #000000;\n",
       "        }#T_748f622f_f265_11eb_a8aa_54e1ad4ebfafrow5_col13,#T_748f622f_f265_11eb_a8aa_54e1ad4ebfafrow10_col13,#T_748f622f_f265_11eb_a8aa_54e1ad4ebfafrow11_col14{\n",
       "            background-color:  #455cce;\n",
       "            color:  #f1f1f1;\n",
       "        }#T_748f622f_f265_11eb_a8aa_54e1ad4ebfafrow5_col14{\n",
       "            background-color:  #4358cb;\n",
       "            color:  #f1f1f1;\n",
       "        }#T_748f622f_f265_11eb_a8aa_54e1ad4ebfafrow6_col0{\n",
       "            background-color:  #f7b497;\n",
       "            color:  #000000;\n",
       "        }#T_748f622f_f265_11eb_a8aa_54e1ad4ebfafrow6_col5{\n",
       "            background-color:  #8db0fe;\n",
       "            color:  #000000;\n",
       "        }#T_748f622f_f265_11eb_a8aa_54e1ad4ebfafrow6_col7{\n",
       "            background-color:  #b2ccfb;\n",
       "            color:  #000000;\n",
       "        }#T_748f622f_f265_11eb_a8aa_54e1ad4ebfafrow6_col8,#T_748f622f_f265_11eb_a8aa_54e1ad4ebfafrow8_col6{\n",
       "            background-color:  #f7b194;\n",
       "            color:  #000000;\n",
       "        }#T_748f622f_f265_11eb_a8aa_54e1ad4ebfafrow7_col0,#T_748f622f_f265_11eb_a8aa_54e1ad4ebfafrow11_col2{\n",
       "            background-color:  #6f92f3;\n",
       "            color:  #000000;\n",
       "        }#T_748f622f_f265_11eb_a8aa_54e1ad4ebfafrow7_col2{\n",
       "            background-color:  #80a3fa;\n",
       "            color:  #000000;\n",
       "        }#T_748f622f_f265_11eb_a8aa_54e1ad4ebfafrow7_col3{\n",
       "            background-color:  #f18f71;\n",
       "            color:  #000000;\n",
       "        }#T_748f622f_f265_11eb_a8aa_54e1ad4ebfafrow7_col5{\n",
       "            background-color:  #e57058;\n",
       "            color:  #000000;\n",
       "        }#T_748f622f_f265_11eb_a8aa_54e1ad4ebfafrow7_col6{\n",
       "            background-color:  #bfd3f6;\n",
       "            color:  #000000;\n",
       "        }#T_748f622f_f265_11eb_a8aa_54e1ad4ebfafrow7_col8{\n",
       "            background-color:  #ecd3c5;\n",
       "            color:  #000000;\n",
       "        }#T_748f622f_f265_11eb_a8aa_54e1ad4ebfafrow8_col0{\n",
       "            background-color:  #c5d6f2;\n",
       "            color:  #000000;\n",
       "        }#T_748f622f_f265_11eb_a8aa_54e1ad4ebfafrow8_col3{\n",
       "            background-color:  #a6c4fe;\n",
       "            color:  #000000;\n",
       "        }#T_748f622f_f265_11eb_a8aa_54e1ad4ebfafrow8_col4,#T_748f622f_f265_11eb_a8aa_54e1ad4ebfafrow10_col12{\n",
       "            background-color:  #7597f6;\n",
       "            color:  #000000;\n",
       "        }#T_748f622f_f265_11eb_a8aa_54e1ad4ebfafrow8_col5{\n",
       "            background-color:  #a2c1ff;\n",
       "            color:  #000000;\n",
       "        }#T_748f622f_f265_11eb_a8aa_54e1ad4ebfafrow8_col7{\n",
       "            background-color:  #e7d7ce;\n",
       "            color:  #000000;\n",
       "        }#T_748f622f_f265_11eb_a8aa_54e1ad4ebfafrow8_col14{\n",
       "            background-color:  #3c4ec2;\n",
       "            color:  #f1f1f1;\n",
       "        }#T_748f622f_f265_11eb_a8aa_54e1ad4ebfafrow9_col3,#T_748f622f_f265_11eb_a8aa_54e1ad4ebfafrow10_col3{\n",
       "            background-color:  #6b8df0;\n",
       "            color:  #000000;\n",
       "        }#T_748f622f_f265_11eb_a8aa_54e1ad4ebfafrow9_col6,#T_748f622f_f265_11eb_a8aa_54e1ad4ebfafrow9_col12,#T_748f622f_f265_11eb_a8aa_54e1ad4ebfafrow10_col6{\n",
       "            background-color:  #6687ed;\n",
       "            color:  #000000;\n",
       "        }#T_748f622f_f265_11eb_a8aa_54e1ad4ebfafrow10_col2,#T_748f622f_f265_11eb_a8aa_54e1ad4ebfafrow10_col11,#T_748f622f_f265_11eb_a8aa_54e1ad4ebfafrow12_col10,#T_748f622f_f265_11eb_a8aa_54e1ad4ebfafrow13_col2,#T_748f622f_f265_11eb_a8aa_54e1ad4ebfafrow13_col6,#T_748f622f_f265_11eb_a8aa_54e1ad4ebfafrow13_col8{\n",
       "            background-color:  #6384eb;\n",
       "            color:  #000000;\n",
       "        }#T_748f622f_f265_11eb_a8aa_54e1ad4ebfafrow12_col1{\n",
       "            background-color:  #3d50c3;\n",
       "            color:  #f1f1f1;\n",
       "        }#T_748f622f_f265_11eb_a8aa_54e1ad4ebfafrow12_col11{\n",
       "            background-color:  #92b4fe;\n",
       "            color:  #000000;\n",
       "        }#T_748f622f_f265_11eb_a8aa_54e1ad4ebfafrow13_col10{\n",
       "            background-color:  #445acc;\n",
       "            color:  #f1f1f1;\n",
       "        }</style><table id=\"T_748f622f_f265_11eb_a8aa_54e1ad4ebfaf\" ><thead>    <tr>        <th class=\"blank level0\" ></th>        <th class=\"col_heading level0 col0\" >first_payment_amount</th>        <th class=\"col_heading level0 col1\" >age</th>        <th class=\"col_heading level0 col2\" >number_of_cards</th>        <th class=\"col_heading level0 col3\" >payments_initiated</th>        <th class=\"col_heading level0 col4\" >payments_failed</th>        <th class=\"col_heading level0 col5\" >payments_completed</th>        <th class=\"col_heading level0 col6\" >payments_completed_amount_first_7days</th>        <th class=\"col_heading level0 col7\" >reward_purchase_count_first_7days</th>        <th class=\"col_heading level0 col8\" >coins_redeemed_first_7days</th>        <th class=\"col_heading level0 col9\" >visits_feature_1</th>        <th class=\"col_heading level0 col10\" >visits_feature_2</th>        <th class=\"col_heading level0 col11\" >given_permission_1</th>        <th class=\"col_heading level0 col12\" >given_permission_2</th>        <th class=\"col_heading level0 col13\" >user_id</th>        <th class=\"col_heading level0 col14\" >is_churned</th>    </tr></thead><tbody>\n",
       "                <tr>\n",
       "                        <th id=\"T_748f622f_f265_11eb_a8aa_54e1ad4ebfaflevel0_row0\" class=\"row_heading level0 row0\" >first_payment_amount</th>\n",
       "                        <td id=\"T_748f622f_f265_11eb_a8aa_54e1ad4ebfafrow0_col0\" class=\"data row0 col0\" >1.00</td>\n",
       "                        <td id=\"T_748f622f_f265_11eb_a8aa_54e1ad4ebfafrow0_col1\" class=\"data row0 col1\" >0.06</td>\n",
       "                        <td id=\"T_748f622f_f265_11eb_a8aa_54e1ad4ebfafrow0_col2\" class=\"data row0 col2\" >0.06</td>\n",
       "                        <td id=\"T_748f622f_f265_11eb_a8aa_54e1ad4ebfafrow0_col3\" class=\"data row0 col3\" >-0.03</td>\n",
       "                        <td id=\"T_748f622f_f265_11eb_a8aa_54e1ad4ebfafrow0_col4\" class=\"data row0 col4\" >0.02</td>\n",
       "                        <td id=\"T_748f622f_f265_11eb_a8aa_54e1ad4ebfafrow0_col5\" class=\"data row0 col5\" >-0.04</td>\n",
       "                        <td id=\"T_748f622f_f265_11eb_a8aa_54e1ad4ebfafrow0_col6\" class=\"data row0 col6\" >0.64</td>\n",
       "                        <td id=\"T_748f622f_f265_11eb_a8aa_54e1ad4ebfafrow0_col7\" class=\"data row0 col7\" >0.08</td>\n",
       "                        <td id=\"T_748f622f_f265_11eb_a8aa_54e1ad4ebfafrow0_col8\" class=\"data row0 col8\" >0.35</td>\n",
       "                        <td id=\"T_748f622f_f265_11eb_a8aa_54e1ad4ebfafrow0_col9\" class=\"data row0 col9\" >0.02</td>\n",
       "                        <td id=\"T_748f622f_f265_11eb_a8aa_54e1ad4ebfafrow0_col10\" class=\"data row0 col10\" >0.01</td>\n",
       "                        <td id=\"T_748f622f_f265_11eb_a8aa_54e1ad4ebfafrow0_col11\" class=\"data row0 col11\" >0.02</td>\n",
       "                        <td id=\"T_748f622f_f265_11eb_a8aa_54e1ad4ebfafrow0_col12\" class=\"data row0 col12\" >0.02</td>\n",
       "                        <td id=\"T_748f622f_f265_11eb_a8aa_54e1ad4ebfafrow0_col13\" class=\"data row0 col13\" >0.02</td>\n",
       "                        <td id=\"T_748f622f_f265_11eb_a8aa_54e1ad4ebfafrow0_col14\" class=\"data row0 col14\" >-0.11</td>\n",
       "            </tr>\n",
       "            <tr>\n",
       "                        <th id=\"T_748f622f_f265_11eb_a8aa_54e1ad4ebfaflevel0_row1\" class=\"row_heading level0 row1\" >age</th>\n",
       "                        <td id=\"T_748f622f_f265_11eb_a8aa_54e1ad4ebfafrow1_col0\" class=\"data row1 col0\" >0.06</td>\n",
       "                        <td id=\"T_748f622f_f265_11eb_a8aa_54e1ad4ebfafrow1_col1\" class=\"data row1 col1\" >1.00</td>\n",
       "                        <td id=\"T_748f622f_f265_11eb_a8aa_54e1ad4ebfafrow1_col2\" class=\"data row1 col2\" >0.14</td>\n",
       "                        <td id=\"T_748f622f_f265_11eb_a8aa_54e1ad4ebfafrow1_col3\" class=\"data row1 col3\" >0.02</td>\n",
       "                        <td id=\"T_748f622f_f265_11eb_a8aa_54e1ad4ebfafrow1_col4\" class=\"data row1 col4\" >0.03</td>\n",
       "                        <td id=\"T_748f622f_f265_11eb_a8aa_54e1ad4ebfafrow1_col5\" class=\"data row1 col5\" >0.01</td>\n",
       "                        <td id=\"T_748f622f_f265_11eb_a8aa_54e1ad4ebfafrow1_col6\" class=\"data row1 col6\" >0.07</td>\n",
       "                        <td id=\"T_748f622f_f265_11eb_a8aa_54e1ad4ebfafrow1_col7\" class=\"data row1 col7\" >0.04</td>\n",
       "                        <td id=\"T_748f622f_f265_11eb_a8aa_54e1ad4ebfafrow1_col8\" class=\"data row1 col8\" >0.04</td>\n",
       "                        <td id=\"T_748f622f_f265_11eb_a8aa_54e1ad4ebfafrow1_col9\" class=\"data row1 col9\" >-0.06</td>\n",
       "                        <td id=\"T_748f622f_f265_11eb_a8aa_54e1ad4ebfafrow1_col10\" class=\"data row1 col10\" >0.00</td>\n",
       "                        <td id=\"T_748f622f_f265_11eb_a8aa_54e1ad4ebfafrow1_col11\" class=\"data row1 col11\" >0.00</td>\n",
       "                        <td id=\"T_748f622f_f265_11eb_a8aa_54e1ad4ebfafrow1_col12\" class=\"data row1 col12\" >-0.05</td>\n",
       "                        <td id=\"T_748f622f_f265_11eb_a8aa_54e1ad4ebfafrow1_col13\" class=\"data row1 col13\" >0.06</td>\n",
       "                        <td id=\"T_748f622f_f265_11eb_a8aa_54e1ad4ebfafrow1_col14\" class=\"data row1 col14\" >0.06</td>\n",
       "            </tr>\n",
       "            <tr>\n",
       "                        <th id=\"T_748f622f_f265_11eb_a8aa_54e1ad4ebfaflevel0_row2\" class=\"row_heading level0 row2\" >number_of_cards</th>\n",
       "                        <td id=\"T_748f622f_f265_11eb_a8aa_54e1ad4ebfafrow2_col0\" class=\"data row2 col0\" >0.06</td>\n",
       "                        <td id=\"T_748f622f_f265_11eb_a8aa_54e1ad4ebfafrow2_col1\" class=\"data row2 col1\" >0.14</td>\n",
       "                        <td id=\"T_748f622f_f265_11eb_a8aa_54e1ad4ebfafrow2_col2\" class=\"data row2 col2\" >1.00</td>\n",
       "                        <td id=\"T_748f622f_f265_11eb_a8aa_54e1ad4ebfafrow2_col3\" class=\"data row2 col3\" >0.10</td>\n",
       "                        <td id=\"T_748f622f_f265_11eb_a8aa_54e1ad4ebfafrow2_col4\" class=\"data row2 col4\" >0.06</td>\n",
       "                        <td id=\"T_748f622f_f265_11eb_a8aa_54e1ad4ebfafrow2_col5\" class=\"data row2 col5\" >0.10</td>\n",
       "                        <td id=\"T_748f622f_f265_11eb_a8aa_54e1ad4ebfafrow2_col6\" class=\"data row2 col6\" >0.15</td>\n",
       "                        <td id=\"T_748f622f_f265_11eb_a8aa_54e1ad4ebfafrow2_col7\" class=\"data row2 col7\" >0.12</td>\n",
       "                        <td id=\"T_748f622f_f265_11eb_a8aa_54e1ad4ebfafrow2_col8\" class=\"data row2 col8\" >0.14</td>\n",
       "                        <td id=\"T_748f622f_f265_11eb_a8aa_54e1ad4ebfafrow2_col9\" class=\"data row2 col9\" >-0.01</td>\n",
       "                        <td id=\"T_748f622f_f265_11eb_a8aa_54e1ad4ebfafrow2_col10\" class=\"data row2 col10\" >0.03</td>\n",
       "                        <td id=\"T_748f622f_f265_11eb_a8aa_54e1ad4ebfafrow2_col11\" class=\"data row2 col11\" >0.07</td>\n",
       "                        <td id=\"T_748f622f_f265_11eb_a8aa_54e1ad4ebfafrow2_col12\" class=\"data row2 col12\" >0.02</td>\n",
       "                        <td id=\"T_748f622f_f265_11eb_a8aa_54e1ad4ebfafrow2_col13\" class=\"data row2 col13\" >0.03</td>\n",
       "                        <td id=\"T_748f622f_f265_11eb_a8aa_54e1ad4ebfafrow2_col14\" class=\"data row2 col14\" >-0.12</td>\n",
       "            </tr>\n",
       "            <tr>\n",
       "                        <th id=\"T_748f622f_f265_11eb_a8aa_54e1ad4ebfaflevel0_row3\" class=\"row_heading level0 row3\" >payments_initiated</th>\n",
       "                        <td id=\"T_748f622f_f265_11eb_a8aa_54e1ad4ebfafrow3_col0\" class=\"data row3 col0\" >-0.03</td>\n",
       "                        <td id=\"T_748f622f_f265_11eb_a8aa_54e1ad4ebfafrow3_col1\" class=\"data row3 col1\" >0.02</td>\n",
       "                        <td id=\"T_748f622f_f265_11eb_a8aa_54e1ad4ebfafrow3_col2\" class=\"data row3 col2\" >0.10</td>\n",
       "                        <td id=\"T_748f622f_f265_11eb_a8aa_54e1ad4ebfafrow3_col3\" class=\"data row3 col3\" >1.00</td>\n",
       "                        <td id=\"T_748f622f_f265_11eb_a8aa_54e1ad4ebfafrow3_col4\" class=\"data row3 col4\" >0.54</td>\n",
       "                        <td id=\"T_748f622f_f265_11eb_a8aa_54e1ad4ebfafrow3_col5\" class=\"data row3 col5\" >0.89</td>\n",
       "                        <td id=\"T_748f622f_f265_11eb_a8aa_54e1ad4ebfafrow3_col6\" class=\"data row3 col6\" >0.20</td>\n",
       "                        <td id=\"T_748f622f_f265_11eb_a8aa_54e1ad4ebfafrow3_col7\" class=\"data row3 col7\" >0.75</td>\n",
       "                        <td id=\"T_748f622f_f265_11eb_a8aa_54e1ad4ebfafrow3_col8\" class=\"data row3 col8\" >0.25</td>\n",
       "                        <td id=\"T_748f622f_f265_11eb_a8aa_54e1ad4ebfafrow3_col9\" class=\"data row3 col9\" >0.06</td>\n",
       "                        <td id=\"T_748f622f_f265_11eb_a8aa_54e1ad4ebfafrow3_col10\" class=\"data row3 col10\" >0.07</td>\n",
       "                        <td id=\"T_748f622f_f265_11eb_a8aa_54e1ad4ebfafrow3_col11\" class=\"data row3 col11\" >0.03</td>\n",
       "                        <td id=\"T_748f622f_f265_11eb_a8aa_54e1ad4ebfafrow3_col12\" class=\"data row3 col12\" >0.01</td>\n",
       "                        <td id=\"T_748f622f_f265_11eb_a8aa_54e1ad4ebfafrow3_col13\" class=\"data row3 col13\" >-0.02</td>\n",
       "                        <td id=\"T_748f622f_f265_11eb_a8aa_54e1ad4ebfafrow3_col14\" class=\"data row3 col14\" >-0.10</td>\n",
       "            </tr>\n",
       "            <tr>\n",
       "                        <th id=\"T_748f622f_f265_11eb_a8aa_54e1ad4ebfaflevel0_row4\" class=\"row_heading level0 row4\" >payments_failed</th>\n",
       "                        <td id=\"T_748f622f_f265_11eb_a8aa_54e1ad4ebfafrow4_col0\" class=\"data row4 col0\" >0.02</td>\n",
       "                        <td id=\"T_748f622f_f265_11eb_a8aa_54e1ad4ebfafrow4_col1\" class=\"data row4 col1\" >0.03</td>\n",
       "                        <td id=\"T_748f622f_f265_11eb_a8aa_54e1ad4ebfafrow4_col2\" class=\"data row4 col2\" >0.06</td>\n",
       "                        <td id=\"T_748f622f_f265_11eb_a8aa_54e1ad4ebfafrow4_col3\" class=\"data row4 col3\" >0.54</td>\n",
       "                        <td id=\"T_748f622f_f265_11eb_a8aa_54e1ad4ebfafrow4_col4\" class=\"data row4 col4\" >1.00</td>\n",
       "                        <td id=\"T_748f622f_f265_11eb_a8aa_54e1ad4ebfafrow4_col5\" class=\"data row4 col5\" >0.26</td>\n",
       "                        <td id=\"T_748f622f_f265_11eb_a8aa_54e1ad4ebfafrow4_col6\" class=\"data row4 col6\" >0.14</td>\n",
       "                        <td id=\"T_748f622f_f265_11eb_a8aa_54e1ad4ebfafrow4_col7\" class=\"data row4 col7\" >0.24</td>\n",
       "                        <td id=\"T_748f622f_f265_11eb_a8aa_54e1ad4ebfafrow4_col8\" class=\"data row4 col8\" >0.13</td>\n",
       "                        <td id=\"T_748f622f_f265_11eb_a8aa_54e1ad4ebfafrow4_col9\" class=\"data row4 col9\" >0.04</td>\n",
       "                        <td id=\"T_748f622f_f265_11eb_a8aa_54e1ad4ebfafrow4_col10\" class=\"data row4 col10\" >0.06</td>\n",
       "                        <td id=\"T_748f622f_f265_11eb_a8aa_54e1ad4ebfafrow4_col11\" class=\"data row4 col11\" >0.04</td>\n",
       "                        <td id=\"T_748f622f_f265_11eb_a8aa_54e1ad4ebfafrow4_col12\" class=\"data row4 col12\" >0.03</td>\n",
       "                        <td id=\"T_748f622f_f265_11eb_a8aa_54e1ad4ebfafrow4_col13\" class=\"data row4 col13\" >0.01</td>\n",
       "                        <td id=\"T_748f622f_f265_11eb_a8aa_54e1ad4ebfafrow4_col14\" class=\"data row4 col14\" >-0.06</td>\n",
       "            </tr>\n",
       "            <tr>\n",
       "                        <th id=\"T_748f622f_f265_11eb_a8aa_54e1ad4ebfaflevel0_row5\" class=\"row_heading level0 row5\" >payments_completed</th>\n",
       "                        <td id=\"T_748f622f_f265_11eb_a8aa_54e1ad4ebfafrow5_col0\" class=\"data row5 col0\" >-0.04</td>\n",
       "                        <td id=\"T_748f622f_f265_11eb_a8aa_54e1ad4ebfafrow5_col1\" class=\"data row5 col1\" >0.01</td>\n",
       "                        <td id=\"T_748f622f_f265_11eb_a8aa_54e1ad4ebfafrow5_col2\" class=\"data row5 col2\" >0.10</td>\n",
       "                        <td id=\"T_748f622f_f265_11eb_a8aa_54e1ad4ebfafrow5_col3\" class=\"data row5 col3\" >0.89</td>\n",
       "                        <td id=\"T_748f622f_f265_11eb_a8aa_54e1ad4ebfafrow5_col4\" class=\"data row5 col4\" >0.26</td>\n",
       "                        <td id=\"T_748f622f_f265_11eb_a8aa_54e1ad4ebfafrow5_col5\" class=\"data row5 col5\" >1.00</td>\n",
       "                        <td id=\"T_748f622f_f265_11eb_a8aa_54e1ad4ebfafrow5_col6\" class=\"data row5 col6\" >0.18</td>\n",
       "                        <td id=\"T_748f622f_f265_11eb_a8aa_54e1ad4ebfafrow5_col7\" class=\"data row5 col7\" >0.83</td>\n",
       "                        <td id=\"T_748f622f_f265_11eb_a8aa_54e1ad4ebfafrow5_col8\" class=\"data row5 col8\" >0.25</td>\n",
       "                        <td id=\"T_748f622f_f265_11eb_a8aa_54e1ad4ebfafrow5_col9\" class=\"data row5 col9\" >0.04</td>\n",
       "                        <td id=\"T_748f622f_f265_11eb_a8aa_54e1ad4ebfafrow5_col10\" class=\"data row5 col10\" >0.04</td>\n",
       "                        <td id=\"T_748f622f_f265_11eb_a8aa_54e1ad4ebfafrow5_col11\" class=\"data row5 col11\" >0.01</td>\n",
       "                        <td id=\"T_748f622f_f265_11eb_a8aa_54e1ad4ebfafrow5_col12\" class=\"data row5 col12\" >-0.01</td>\n",
       "                        <td id=\"T_748f622f_f265_11eb_a8aa_54e1ad4ebfafrow5_col13\" class=\"data row5 col13\" >-0.02</td>\n",
       "                        <td id=\"T_748f622f_f265_11eb_a8aa_54e1ad4ebfafrow5_col14\" class=\"data row5 col14\" >-0.09</td>\n",
       "            </tr>\n",
       "            <tr>\n",
       "                        <th id=\"T_748f622f_f265_11eb_a8aa_54e1ad4ebfaflevel0_row6\" class=\"row_heading level0 row6\" >payments_completed_amount_first_7days</th>\n",
       "                        <td id=\"T_748f622f_f265_11eb_a8aa_54e1ad4ebfafrow6_col0\" class=\"data row6 col0\" >0.64</td>\n",
       "                        <td id=\"T_748f622f_f265_11eb_a8aa_54e1ad4ebfafrow6_col1\" class=\"data row6 col1\" >0.07</td>\n",
       "                        <td id=\"T_748f622f_f265_11eb_a8aa_54e1ad4ebfafrow6_col2\" class=\"data row6 col2\" >0.15</td>\n",
       "                        <td id=\"T_748f622f_f265_11eb_a8aa_54e1ad4ebfafrow6_col3\" class=\"data row6 col3\" >0.20</td>\n",
       "                        <td id=\"T_748f622f_f265_11eb_a8aa_54e1ad4ebfafrow6_col4\" class=\"data row6 col4\" >0.14</td>\n",
       "                        <td id=\"T_748f622f_f265_11eb_a8aa_54e1ad4ebfafrow6_col5\" class=\"data row6 col5\" >0.18</td>\n",
       "                        <td id=\"T_748f622f_f265_11eb_a8aa_54e1ad4ebfafrow6_col6\" class=\"data row6 col6\" >1.00</td>\n",
       "                        <td id=\"T_748f622f_f265_11eb_a8aa_54e1ad4ebfafrow6_col7\" class=\"data row6 col7\" >0.32</td>\n",
       "                        <td id=\"T_748f622f_f265_11eb_a8aa_54e1ad4ebfafrow6_col8\" class=\"data row6 col8\" >0.65</td>\n",
       "                        <td id=\"T_748f622f_f265_11eb_a8aa_54e1ad4ebfafrow6_col9\" class=\"data row6 col9\" >0.03</td>\n",
       "                        <td id=\"T_748f622f_f265_11eb_a8aa_54e1ad4ebfafrow6_col10\" class=\"data row6 col10\" >0.03</td>\n",
       "                        <td id=\"T_748f622f_f265_11eb_a8aa_54e1ad4ebfafrow6_col11\" class=\"data row6 col11\" >0.03</td>\n",
       "                        <td id=\"T_748f622f_f265_11eb_a8aa_54e1ad4ebfafrow6_col12\" class=\"data row6 col12\" >0.01</td>\n",
       "                        <td id=\"T_748f622f_f265_11eb_a8aa_54e1ad4ebfafrow6_col13\" class=\"data row6 col13\" >0.02</td>\n",
       "                        <td id=\"T_748f622f_f265_11eb_a8aa_54e1ad4ebfafrow6_col14\" class=\"data row6 col14\" >-0.12</td>\n",
       "            </tr>\n",
       "            <tr>\n",
       "                        <th id=\"T_748f622f_f265_11eb_a8aa_54e1ad4ebfaflevel0_row7\" class=\"row_heading level0 row7\" >reward_purchase_count_first_7days</th>\n",
       "                        <td id=\"T_748f622f_f265_11eb_a8aa_54e1ad4ebfafrow7_col0\" class=\"data row7 col0\" >0.08</td>\n",
       "                        <td id=\"T_748f622f_f265_11eb_a8aa_54e1ad4ebfafrow7_col1\" class=\"data row7 col1\" >0.04</td>\n",
       "                        <td id=\"T_748f622f_f265_11eb_a8aa_54e1ad4ebfafrow7_col2\" class=\"data row7 col2\" >0.12</td>\n",
       "                        <td id=\"T_748f622f_f265_11eb_a8aa_54e1ad4ebfafrow7_col3\" class=\"data row7 col3\" >0.75</td>\n",
       "                        <td id=\"T_748f622f_f265_11eb_a8aa_54e1ad4ebfafrow7_col4\" class=\"data row7 col4\" >0.24</td>\n",
       "                        <td id=\"T_748f622f_f265_11eb_a8aa_54e1ad4ebfafrow7_col5\" class=\"data row7 col5\" >0.83</td>\n",
       "                        <td id=\"T_748f622f_f265_11eb_a8aa_54e1ad4ebfafrow7_col6\" class=\"data row7 col6\" >0.32</td>\n",
       "                        <td id=\"T_748f622f_f265_11eb_a8aa_54e1ad4ebfafrow7_col7\" class=\"data row7 col7\" >1.00</td>\n",
       "                        <td id=\"T_748f622f_f265_11eb_a8aa_54e1ad4ebfafrow7_col8\" class=\"data row7 col8\" >0.52</td>\n",
       "                        <td id=\"T_748f622f_f265_11eb_a8aa_54e1ad4ebfafrow7_col9\" class=\"data row7 col9\" >0.04</td>\n",
       "                        <td id=\"T_748f622f_f265_11eb_a8aa_54e1ad4ebfafrow7_col10\" class=\"data row7 col10\" >0.05</td>\n",
       "                        <td id=\"T_748f622f_f265_11eb_a8aa_54e1ad4ebfafrow7_col11\" class=\"data row7 col11\" >0.02</td>\n",
       "                        <td id=\"T_748f622f_f265_11eb_a8aa_54e1ad4ebfafrow7_col12\" class=\"data row7 col12\" >0.01</td>\n",
       "                        <td id=\"T_748f622f_f265_11eb_a8aa_54e1ad4ebfafrow7_col13\" class=\"data row7 col13\" >0.02</td>\n",
       "                        <td id=\"T_748f622f_f265_11eb_a8aa_54e1ad4ebfafrow7_col14\" class=\"data row7 col14\" >-0.05</td>\n",
       "            </tr>\n",
       "            <tr>\n",
       "                        <th id=\"T_748f622f_f265_11eb_a8aa_54e1ad4ebfaflevel0_row8\" class=\"row_heading level0 row8\" >coins_redeemed_first_7days</th>\n",
       "                        <td id=\"T_748f622f_f265_11eb_a8aa_54e1ad4ebfafrow8_col0\" class=\"data row8 col0\" >0.35</td>\n",
       "                        <td id=\"T_748f622f_f265_11eb_a8aa_54e1ad4ebfafrow8_col1\" class=\"data row8 col1\" >0.04</td>\n",
       "                        <td id=\"T_748f622f_f265_11eb_a8aa_54e1ad4ebfafrow8_col2\" class=\"data row8 col2\" >0.14</td>\n",
       "                        <td id=\"T_748f622f_f265_11eb_a8aa_54e1ad4ebfafrow8_col3\" class=\"data row8 col3\" >0.25</td>\n",
       "                        <td id=\"T_748f622f_f265_11eb_a8aa_54e1ad4ebfafrow8_col4\" class=\"data row8 col4\" >0.13</td>\n",
       "                        <td id=\"T_748f622f_f265_11eb_a8aa_54e1ad4ebfafrow8_col5\" class=\"data row8 col5\" >0.25</td>\n",
       "                        <td id=\"T_748f622f_f265_11eb_a8aa_54e1ad4ebfafrow8_col6\" class=\"data row8 col6\" >0.65</td>\n",
       "                        <td id=\"T_748f622f_f265_11eb_a8aa_54e1ad4ebfafrow8_col7\" class=\"data row8 col7\" >0.52</td>\n",
       "                        <td id=\"T_748f622f_f265_11eb_a8aa_54e1ad4ebfafrow8_col8\" class=\"data row8 col8\" >1.00</td>\n",
       "                        <td id=\"T_748f622f_f265_11eb_a8aa_54e1ad4ebfafrow8_col9\" class=\"data row8 col9\" >0.05</td>\n",
       "                        <td id=\"T_748f622f_f265_11eb_a8aa_54e1ad4ebfafrow8_col10\" class=\"data row8 col10\" >0.05</td>\n",
       "                        <td id=\"T_748f622f_f265_11eb_a8aa_54e1ad4ebfafrow8_col11\" class=\"data row8 col11\" >0.03</td>\n",
       "                        <td id=\"T_748f622f_f265_11eb_a8aa_54e1ad4ebfafrow8_col12\" class=\"data row8 col12\" >0.02</td>\n",
       "                        <td id=\"T_748f622f_f265_11eb_a8aa_54e1ad4ebfafrow8_col13\" class=\"data row8 col13\" >0.03</td>\n",
       "                        <td id=\"T_748f622f_f265_11eb_a8aa_54e1ad4ebfafrow8_col14\" class=\"data row8 col14\" >-0.12</td>\n",
       "            </tr>\n",
       "            <tr>\n",
       "                        <th id=\"T_748f622f_f265_11eb_a8aa_54e1ad4ebfaflevel0_row9\" class=\"row_heading level0 row9\" >visits_feature_1</th>\n",
       "                        <td id=\"T_748f622f_f265_11eb_a8aa_54e1ad4ebfafrow9_col0\" class=\"data row9 col0\" >0.02</td>\n",
       "                        <td id=\"T_748f622f_f265_11eb_a8aa_54e1ad4ebfafrow9_col1\" class=\"data row9 col1\" >-0.06</td>\n",
       "                        <td id=\"T_748f622f_f265_11eb_a8aa_54e1ad4ebfafrow9_col2\" class=\"data row9 col2\" >-0.01</td>\n",
       "                        <td id=\"T_748f622f_f265_11eb_a8aa_54e1ad4ebfafrow9_col3\" class=\"data row9 col3\" >0.06</td>\n",
       "                        <td id=\"T_748f622f_f265_11eb_a8aa_54e1ad4ebfafrow9_col4\" class=\"data row9 col4\" >0.04</td>\n",
       "                        <td id=\"T_748f622f_f265_11eb_a8aa_54e1ad4ebfafrow9_col5\" class=\"data row9 col5\" >0.04</td>\n",
       "                        <td id=\"T_748f622f_f265_11eb_a8aa_54e1ad4ebfafrow9_col6\" class=\"data row9 col6\" >0.03</td>\n",
       "                        <td id=\"T_748f622f_f265_11eb_a8aa_54e1ad4ebfafrow9_col7\" class=\"data row9 col7\" >0.04</td>\n",
       "                        <td id=\"T_748f622f_f265_11eb_a8aa_54e1ad4ebfafrow9_col8\" class=\"data row9 col8\" >0.05</td>\n",
       "                        <td id=\"T_748f622f_f265_11eb_a8aa_54e1ad4ebfafrow9_col9\" class=\"data row9 col9\" >1.00</td>\n",
       "                        <td id=\"T_748f622f_f265_11eb_a8aa_54e1ad4ebfafrow9_col10\" class=\"data row9 col10\" >0.25</td>\n",
       "                        <td id=\"T_748f622f_f265_11eb_a8aa_54e1ad4ebfafrow9_col11\" class=\"data row9 col11\" >0.03</td>\n",
       "                        <td id=\"T_748f622f_f265_11eb_a8aa_54e1ad4ebfafrow9_col12\" class=\"data row9 col12\" >0.04</td>\n",
       "                        <td id=\"T_748f622f_f265_11eb_a8aa_54e1ad4ebfafrow9_col13\" class=\"data row9 col13\" >-0.06</td>\n",
       "                        <td id=\"T_748f622f_f265_11eb_a8aa_54e1ad4ebfafrow9_col14\" class=\"data row9 col14\" >-0.07</td>\n",
       "            </tr>\n",
       "            <tr>\n",
       "                        <th id=\"T_748f622f_f265_11eb_a8aa_54e1ad4ebfaflevel0_row10\" class=\"row_heading level0 row10\" >visits_feature_2</th>\n",
       "                        <td id=\"T_748f622f_f265_11eb_a8aa_54e1ad4ebfafrow10_col0\" class=\"data row10 col0\" >0.01</td>\n",
       "                        <td id=\"T_748f622f_f265_11eb_a8aa_54e1ad4ebfafrow10_col1\" class=\"data row10 col1\" >0.00</td>\n",
       "                        <td id=\"T_748f622f_f265_11eb_a8aa_54e1ad4ebfafrow10_col2\" class=\"data row10 col2\" >0.03</td>\n",
       "                        <td id=\"T_748f622f_f265_11eb_a8aa_54e1ad4ebfafrow10_col3\" class=\"data row10 col3\" >0.07</td>\n",
       "                        <td id=\"T_748f622f_f265_11eb_a8aa_54e1ad4ebfafrow10_col4\" class=\"data row10 col4\" >0.06</td>\n",
       "                        <td id=\"T_748f622f_f265_11eb_a8aa_54e1ad4ebfafrow10_col5\" class=\"data row10 col5\" >0.04</td>\n",
       "                        <td id=\"T_748f622f_f265_11eb_a8aa_54e1ad4ebfafrow10_col6\" class=\"data row10 col6\" >0.03</td>\n",
       "                        <td id=\"T_748f622f_f265_11eb_a8aa_54e1ad4ebfafrow10_col7\" class=\"data row10 col7\" >0.05</td>\n",
       "                        <td id=\"T_748f622f_f265_11eb_a8aa_54e1ad4ebfafrow10_col8\" class=\"data row10 col8\" >0.05</td>\n",
       "                        <td id=\"T_748f622f_f265_11eb_a8aa_54e1ad4ebfafrow10_col9\" class=\"data row10 col9\" >0.25</td>\n",
       "                        <td id=\"T_748f622f_f265_11eb_a8aa_54e1ad4ebfafrow10_col10\" class=\"data row10 col10\" >1.00</td>\n",
       "                        <td id=\"T_748f622f_f265_11eb_a8aa_54e1ad4ebfafrow10_col11\" class=\"data row10 col11\" >0.06</td>\n",
       "                        <td id=\"T_748f622f_f265_11eb_a8aa_54e1ad4ebfafrow10_col12\" class=\"data row10 col12\" >0.08</td>\n",
       "                        <td id=\"T_748f622f_f265_11eb_a8aa_54e1ad4ebfafrow10_col13\" class=\"data row10 col13\" >-0.02</td>\n",
       "                        <td id=\"T_748f622f_f265_11eb_a8aa_54e1ad4ebfafrow10_col14\" class=\"data row10 col14\" >-0.06</td>\n",
       "            </tr>\n",
       "            <tr>\n",
       "                        <th id=\"T_748f622f_f265_11eb_a8aa_54e1ad4ebfaflevel0_row11\" class=\"row_heading level0 row11\" >given_permission_1</th>\n",
       "                        <td id=\"T_748f622f_f265_11eb_a8aa_54e1ad4ebfafrow11_col0\" class=\"data row11 col0\" >0.02</td>\n",
       "                        <td id=\"T_748f622f_f265_11eb_a8aa_54e1ad4ebfafrow11_col1\" class=\"data row11 col1\" >0.00</td>\n",
       "                        <td id=\"T_748f622f_f265_11eb_a8aa_54e1ad4ebfafrow11_col2\" class=\"data row11 col2\" >0.07</td>\n",
       "                        <td id=\"T_748f622f_f265_11eb_a8aa_54e1ad4ebfafrow11_col3\" class=\"data row11 col3\" >0.03</td>\n",
       "                        <td id=\"T_748f622f_f265_11eb_a8aa_54e1ad4ebfafrow11_col4\" class=\"data row11 col4\" >0.04</td>\n",
       "                        <td id=\"T_748f622f_f265_11eb_a8aa_54e1ad4ebfafrow11_col5\" class=\"data row11 col5\" >0.01</td>\n",
       "                        <td id=\"T_748f622f_f265_11eb_a8aa_54e1ad4ebfafrow11_col6\" class=\"data row11 col6\" >0.03</td>\n",
       "                        <td id=\"T_748f622f_f265_11eb_a8aa_54e1ad4ebfafrow11_col7\" class=\"data row11 col7\" >0.02</td>\n",
       "                        <td id=\"T_748f622f_f265_11eb_a8aa_54e1ad4ebfafrow11_col8\" class=\"data row11 col8\" >0.03</td>\n",
       "                        <td id=\"T_748f622f_f265_11eb_a8aa_54e1ad4ebfafrow11_col9\" class=\"data row11 col9\" >0.03</td>\n",
       "                        <td id=\"T_748f622f_f265_11eb_a8aa_54e1ad4ebfafrow11_col10\" class=\"data row11 col10\" >0.06</td>\n",
       "                        <td id=\"T_748f622f_f265_11eb_a8aa_54e1ad4ebfafrow11_col11\" class=\"data row11 col11\" >1.00</td>\n",
       "                        <td id=\"T_748f622f_f265_11eb_a8aa_54e1ad4ebfafrow11_col12\" class=\"data row11 col12\" >0.20</td>\n",
       "                        <td id=\"T_748f622f_f265_11eb_a8aa_54e1ad4ebfafrow11_col13\" class=\"data row11 col13\" >0.03</td>\n",
       "                        <td id=\"T_748f622f_f265_11eb_a8aa_54e1ad4ebfafrow11_col14\" class=\"data row11 col14\" >-0.08</td>\n",
       "            </tr>\n",
       "            <tr>\n",
       "                        <th id=\"T_748f622f_f265_11eb_a8aa_54e1ad4ebfaflevel0_row12\" class=\"row_heading level0 row12\" >given_permission_2</th>\n",
       "                        <td id=\"T_748f622f_f265_11eb_a8aa_54e1ad4ebfafrow12_col0\" class=\"data row12 col0\" >0.02</td>\n",
       "                        <td id=\"T_748f622f_f265_11eb_a8aa_54e1ad4ebfafrow12_col1\" class=\"data row12 col1\" >-0.05</td>\n",
       "                        <td id=\"T_748f622f_f265_11eb_a8aa_54e1ad4ebfafrow12_col2\" class=\"data row12 col2\" >0.02</td>\n",
       "                        <td id=\"T_748f622f_f265_11eb_a8aa_54e1ad4ebfafrow12_col3\" class=\"data row12 col3\" >0.01</td>\n",
       "                        <td id=\"T_748f622f_f265_11eb_a8aa_54e1ad4ebfafrow12_col4\" class=\"data row12 col4\" >0.03</td>\n",
       "                        <td id=\"T_748f622f_f265_11eb_a8aa_54e1ad4ebfafrow12_col5\" class=\"data row12 col5\" >-0.01</td>\n",
       "                        <td id=\"T_748f622f_f265_11eb_a8aa_54e1ad4ebfafrow12_col6\" class=\"data row12 col6\" >0.01</td>\n",
       "                        <td id=\"T_748f622f_f265_11eb_a8aa_54e1ad4ebfafrow12_col7\" class=\"data row12 col7\" >0.01</td>\n",
       "                        <td id=\"T_748f622f_f265_11eb_a8aa_54e1ad4ebfafrow12_col8\" class=\"data row12 col8\" >0.02</td>\n",
       "                        <td id=\"T_748f622f_f265_11eb_a8aa_54e1ad4ebfafrow12_col9\" class=\"data row12 col9\" >0.04</td>\n",
       "                        <td id=\"T_748f622f_f265_11eb_a8aa_54e1ad4ebfafrow12_col10\" class=\"data row12 col10\" >0.08</td>\n",
       "                        <td id=\"T_748f622f_f265_11eb_a8aa_54e1ad4ebfafrow12_col11\" class=\"data row12 col11\" >0.20</td>\n",
       "                        <td id=\"T_748f622f_f265_11eb_a8aa_54e1ad4ebfafrow12_col12\" class=\"data row12 col12\" >1.00</td>\n",
       "                        <td id=\"T_748f622f_f265_11eb_a8aa_54e1ad4ebfafrow12_col13\" class=\"data row12 col13\" >0.01</td>\n",
       "                        <td id=\"T_748f622f_f265_11eb_a8aa_54e1ad4ebfafrow12_col14\" class=\"data row12 col14\" >-0.12</td>\n",
       "            </tr>\n",
       "            <tr>\n",
       "                        <th id=\"T_748f622f_f265_11eb_a8aa_54e1ad4ebfaflevel0_row13\" class=\"row_heading level0 row13\" >user_id</th>\n",
       "                        <td id=\"T_748f622f_f265_11eb_a8aa_54e1ad4ebfafrow13_col0\" class=\"data row13 col0\" >0.02</td>\n",
       "                        <td id=\"T_748f622f_f265_11eb_a8aa_54e1ad4ebfafrow13_col1\" class=\"data row13 col1\" >0.06</td>\n",
       "                        <td id=\"T_748f622f_f265_11eb_a8aa_54e1ad4ebfafrow13_col2\" class=\"data row13 col2\" >0.03</td>\n",
       "                        <td id=\"T_748f622f_f265_11eb_a8aa_54e1ad4ebfafrow13_col3\" class=\"data row13 col3\" >-0.02</td>\n",
       "                        <td id=\"T_748f622f_f265_11eb_a8aa_54e1ad4ebfafrow13_col4\" class=\"data row13 col4\" >0.01</td>\n",
       "                        <td id=\"T_748f622f_f265_11eb_a8aa_54e1ad4ebfafrow13_col5\" class=\"data row13 col5\" >-0.02</td>\n",
       "                        <td id=\"T_748f622f_f265_11eb_a8aa_54e1ad4ebfafrow13_col6\" class=\"data row13 col6\" >0.02</td>\n",
       "                        <td id=\"T_748f622f_f265_11eb_a8aa_54e1ad4ebfafrow13_col7\" class=\"data row13 col7\" >0.02</td>\n",
       "                        <td id=\"T_748f622f_f265_11eb_a8aa_54e1ad4ebfafrow13_col8\" class=\"data row13 col8\" >0.03</td>\n",
       "                        <td id=\"T_748f622f_f265_11eb_a8aa_54e1ad4ebfafrow13_col9\" class=\"data row13 col9\" >-0.06</td>\n",
       "                        <td id=\"T_748f622f_f265_11eb_a8aa_54e1ad4ebfafrow13_col10\" class=\"data row13 col10\" >-0.02</td>\n",
       "                        <td id=\"T_748f622f_f265_11eb_a8aa_54e1ad4ebfafrow13_col11\" class=\"data row13 col11\" >0.03</td>\n",
       "                        <td id=\"T_748f622f_f265_11eb_a8aa_54e1ad4ebfafrow13_col12\" class=\"data row13 col12\" >0.01</td>\n",
       "                        <td id=\"T_748f622f_f265_11eb_a8aa_54e1ad4ebfafrow13_col13\" class=\"data row13 col13\" >1.00</td>\n",
       "                        <td id=\"T_748f622f_f265_11eb_a8aa_54e1ad4ebfafrow13_col14\" class=\"data row13 col14\" >-0.02</td>\n",
       "            </tr>\n",
       "            <tr>\n",
       "                        <th id=\"T_748f622f_f265_11eb_a8aa_54e1ad4ebfaflevel0_row14\" class=\"row_heading level0 row14\" >is_churned</th>\n",
       "                        <td id=\"T_748f622f_f265_11eb_a8aa_54e1ad4ebfafrow14_col0\" class=\"data row14 col0\" >-0.11</td>\n",
       "                        <td id=\"T_748f622f_f265_11eb_a8aa_54e1ad4ebfafrow14_col1\" class=\"data row14 col1\" >0.06</td>\n",
       "                        <td id=\"T_748f622f_f265_11eb_a8aa_54e1ad4ebfafrow14_col2\" class=\"data row14 col2\" >-0.12</td>\n",
       "                        <td id=\"T_748f622f_f265_11eb_a8aa_54e1ad4ebfafrow14_col3\" class=\"data row14 col3\" >-0.10</td>\n",
       "                        <td id=\"T_748f622f_f265_11eb_a8aa_54e1ad4ebfafrow14_col4\" class=\"data row14 col4\" >-0.06</td>\n",
       "                        <td id=\"T_748f622f_f265_11eb_a8aa_54e1ad4ebfafrow14_col5\" class=\"data row14 col5\" >-0.09</td>\n",
       "                        <td id=\"T_748f622f_f265_11eb_a8aa_54e1ad4ebfafrow14_col6\" class=\"data row14 col6\" >-0.12</td>\n",
       "                        <td id=\"T_748f622f_f265_11eb_a8aa_54e1ad4ebfafrow14_col7\" class=\"data row14 col7\" >-0.05</td>\n",
       "                        <td id=\"T_748f622f_f265_11eb_a8aa_54e1ad4ebfafrow14_col8\" class=\"data row14 col8\" >-0.12</td>\n",
       "                        <td id=\"T_748f622f_f265_11eb_a8aa_54e1ad4ebfafrow14_col9\" class=\"data row14 col9\" >-0.07</td>\n",
       "                        <td id=\"T_748f622f_f265_11eb_a8aa_54e1ad4ebfafrow14_col10\" class=\"data row14 col10\" >-0.06</td>\n",
       "                        <td id=\"T_748f622f_f265_11eb_a8aa_54e1ad4ebfafrow14_col11\" class=\"data row14 col11\" >-0.08</td>\n",
       "                        <td id=\"T_748f622f_f265_11eb_a8aa_54e1ad4ebfafrow14_col12\" class=\"data row14 col12\" >-0.12</td>\n",
       "                        <td id=\"T_748f622f_f265_11eb_a8aa_54e1ad4ebfafrow14_col13\" class=\"data row14 col13\" >-0.02</td>\n",
       "                        <td id=\"T_748f622f_f265_11eb_a8aa_54e1ad4ebfafrow14_col14\" class=\"data row14 col14\" >1.00</td>\n",
       "            </tr>\n",
       "    </tbody></table>"
      ],
      "text/plain": [
       "<pandas.io.formats.style.Styler at 0x22d07f2d5e0>"
      ]
     },
     "execution_count": 11,
     "metadata": {},
     "output_type": "execute_result"
    },
    {
     "data": {
      "image/png": "[encoded data removed]",
      "text/plain": [
       "<Figure size 720x576 with 2 Axes>"
      ]
     },
     "metadata": {
      "needs_background": "light"
     },
     "output_type": "display_data"
    }
   ],
   "source": [
    "%matplotlib inline\n",
    "Utils.plot_corr(df_chrun)"
   ]
  },
  {
   "cell_type": "markdown",
   "metadata": {},
   "source": [
    "#### Segmentation based on heuristics"
   ]
  },
  {
   "cell_type": "markdown",
   "metadata": {},
   "source": [
    "[Pandas doesnt recognize Nan - df.replace(' NaN', np.NaN)](https://stackoverflow.com/questions/30604893/pandas-not-recognizing-nan-as-null)"
   ]
  },
  {
   "cell_type": "code",
   "execution_count": 110,
   "metadata": {},
   "outputs": [],
   "source": [
    "df_chrun.fillna(0, inplace = True)\n"
   ]
  },
  {
   "cell_type": "code",
   "execution_count": 111,
   "metadata": {},
   "outputs": [
    {
     "data": {
      "text/html": [
       "<div>\n",
       "<style scoped>\n",
       "    .dataframe tbody tr th:only-of-type {\n",
       "        vertical-align: middle;\n",
       "    }\n",
       "\n",
       "    .dataframe tbody tr th {\n",
       "        vertical-align: top;\n",
       "    }\n",
       "\n",
       "    .dataframe thead th {\n",
       "        text-align: right;\n",
       "    }\n",
       "</style>\n",
       "<table border=\"1\" class=\"dataframe\">\n",
       "  <thead>\n",
       "    <tr style=\"text-align: right;\">\n",
       "      <th></th>\n",
       "      <th>device</th>\n",
       "      <th>first_payment_amount</th>\n",
       "      <th>age</th>\n",
       "      <th>city</th>\n",
       "      <th>number_of_cards</th>\n",
       "      <th>payments_initiated</th>\n",
       "      <th>payments_failed</th>\n",
       "      <th>payments_completed</th>\n",
       "      <th>payments_completed_amount_first_7days</th>\n",
       "      <th>reward_purchase_count_first_7days</th>\n",
       "      <th>coins_redeemed_first_7days</th>\n",
       "      <th>is_referral</th>\n",
       "      <th>visits_feature_1</th>\n",
       "      <th>visits_feature_2</th>\n",
       "      <th>given_permission_1</th>\n",
       "      <th>given_permission_2</th>\n",
       "      <th>user_id</th>\n",
       "      <th>is_churned</th>\n",
       "    </tr>\n",
       "  </thead>\n",
       "  <tbody>\n",
       "    <tr>\n",
       "      <th>0</th>\n",
       "      <td>samsung</td>\n",
       "      <td>0</td>\n",
       "      <td>20.0</td>\n",
       "      <td>Ahmedabad</td>\n",
       "      <td>2.0</td>\n",
       "      <td>1.0</td>\n",
       "      <td>0.0</td>\n",
       "      <td>1.0</td>\n",
       "      <td>0.0</td>\n",
       "      <td>0.0</td>\n",
       "      <td>0.0</td>\n",
       "      <td>False</td>\n",
       "      <td>3.0</td>\n",
       "      <td>0.0</td>\n",
       "      <td>1</td>\n",
       "      <td>0</td>\n",
       "      <td>269438</td>\n",
       "      <td>0</td>\n",
       "    </tr>\n",
       "    <tr>\n",
       "      <th>1</th>\n",
       "      <td>xiaomi</td>\n",
       "      <td>0</td>\n",
       "      <td>20.0</td>\n",
       "      <td>Surat</td>\n",
       "      <td>1.0</td>\n",
       "      <td>1.0</td>\n",
       "      <td>0.0</td>\n",
       "      <td>1.0</td>\n",
       "      <td>0.0</td>\n",
       "      <td>0.0</td>\n",
       "      <td>0.0</td>\n",
       "      <td>True</td>\n",
       "      <td>0.0</td>\n",
       "      <td>0.0</td>\n",
       "      <td>1</td>\n",
       "      <td>0</td>\n",
       "      <td>139521</td>\n",
       "      <td>0</td>\n",
       "    </tr>\n",
       "    <tr>\n",
       "      <th>2</th>\n",
       "      <td>xiaomi</td>\n",
       "      <td>0</td>\n",
       "      <td>20.0</td>\n",
       "      <td>Kullu</td>\n",
       "      <td>1.0</td>\n",
       "      <td>2.0</td>\n",
       "      <td>1.0</td>\n",
       "      <td>1.0</td>\n",
       "      <td>0.0</td>\n",
       "      <td>0.0</td>\n",
       "      <td>0.0</td>\n",
       "      <td>True</td>\n",
       "      <td>0.0</td>\n",
       "      <td>0.0</td>\n",
       "      <td>0</td>\n",
       "      <td>1</td>\n",
       "      <td>307352</td>\n",
       "      <td>0</td>\n",
       "    </tr>\n",
       "    <tr>\n",
       "      <th>3</th>\n",
       "      <td>oneplus</td>\n",
       "      <td>0</td>\n",
       "      <td>20.0</td>\n",
       "      <td>Mumbai</td>\n",
       "      <td>2.0</td>\n",
       "      <td>4.0</td>\n",
       "      <td>1.0</td>\n",
       "      <td>2.0</td>\n",
       "      <td>322.0</td>\n",
       "      <td>2.0</td>\n",
       "      <td>20.0</td>\n",
       "      <td>False</td>\n",
       "      <td>0.0</td>\n",
       "      <td>0.0</td>\n",
       "      <td>1</td>\n",
       "      <td>1</td>\n",
       "      <td>456424</td>\n",
       "      <td>0</td>\n",
       "    </tr>\n",
       "    <tr>\n",
       "      <th>4</th>\n",
       "      <td>apple</td>\n",
       "      <td>0</td>\n",
       "      <td>20.0</td>\n",
       "      <td>Pune</td>\n",
       "      <td>2.0</td>\n",
       "      <td>1.0</td>\n",
       "      <td>0.0</td>\n",
       "      <td>1.0</td>\n",
       "      <td>0.0</td>\n",
       "      <td>0.0</td>\n",
       "      <td>0.0</td>\n",
       "      <td>False</td>\n",
       "      <td>0.0</td>\n",
       "      <td>1.0</td>\n",
       "      <td>1</td>\n",
       "      <td>1</td>\n",
       "      <td>398779</td>\n",
       "      <td>0</td>\n",
       "    </tr>\n",
       "  </tbody>\n",
       "</table>\n",
       "</div>"
      ],
      "text/plain": [
       "    device  first_payment_amount   age       city  number_of_cards  \\\n",
       "0  samsung                     0  20.0  Ahmedabad              2.0   \n",
       "1   xiaomi                     0  20.0      Surat              1.0   \n",
       "2   xiaomi                     0  20.0      Kullu              1.0   \n",
       "3  oneplus                     0  20.0     Mumbai              2.0   \n",
       "4    apple                     0  20.0       Pune              2.0   \n",
       "\n",
       "   payments_initiated  payments_failed  payments_completed  \\\n",
       "0                 1.0              0.0                 1.0   \n",
       "1                 1.0              0.0                 1.0   \n",
       "2                 2.0              1.0                 1.0   \n",
       "3                 4.0              1.0                 2.0   \n",
       "4                 1.0              0.0                 1.0   \n",
       "\n",
       "   payments_completed_amount_first_7days  reward_purchase_count_first_7days  \\\n",
       "0                                    0.0                                0.0   \n",
       "1                                    0.0                                0.0   \n",
       "2                                    0.0                                0.0   \n",
       "3                                  322.0                                2.0   \n",
       "4                                    0.0                                0.0   \n",
       "\n",
       "   coins_redeemed_first_7days  is_referral  visits_feature_1  \\\n",
       "0                         0.0        False               3.0   \n",
       "1                         0.0         True               0.0   \n",
       "2                         0.0         True               0.0   \n",
       "3                        20.0        False               0.0   \n",
       "4                         0.0        False               0.0   \n",
       "\n",
       "   visits_feature_2  given_permission_1  given_permission_2  user_id  \\\n",
       "0               0.0                   1                   0   269438   \n",
       "1               0.0                   1                   0   139521   \n",
       "2               0.0                   0                   1   307352   \n",
       "3               0.0                   1                   1   456424   \n",
       "4               1.0                   1                   1   398779   \n",
       "\n",
       "   is_churned  \n",
       "0           0  \n",
       "1           0  \n",
       "2           0  \n",
       "3           0  \n",
       "4           0  "
      ]
     },
     "execution_count": 111,
     "metadata": {},
     "output_type": "execute_result"
    }
   ],
   "source": [
    "df_chrun.head()"
   ]
  },
  {
   "cell_type": "code",
   "execution_count": 31,
   "metadata": {},
   "outputs": [],
   "source": [
    "df_chrun[\"segment\"] = np.where(((df_chrun.is_churned == 0)  & (df_chrun.first_payment_amount == 0 | df_chrun.first_payment_amount.isna() )) \n",
    "                               ,\"chrun_no_first_payment\", \n",
    "                               np.where(((df_chrun.is_churned == 0) & (df_chrun.first_payment_amount > 0 ) &\n",
    "                                         (df_chrun.is_referral == False )\n",
    "                                        ) \n",
    "                               ,\"chrun_first_payment_n0_refer\", \"check\"))"
   ]
  },
  {
   "cell_type": "code",
   "execution_count": 67,
   "metadata": {},
   "outputs": [],
   "source": [
    "df_chrun[\"segment\"] = np.where(((df_chrun.is_churned == 1) & (df_chrun.first_payment_amount == 0 | df_chrun.first_payment_amount.isna() )) \n",
    "                               ,\"chrun_no_first_payment\", \n",
    "                               np.where(((df_chrun.is_churned == 1) & (df_chrun.first_payment_amount > 0)  & (df_chrun.is_referral == False) ) \n",
    "                               ,\"chrun_first_payment_n0_refer\", \n",
    "                                np.where(((df_chrun.is_churned == 0) & ((df_chrun.payments_completed >2)   | (df_chrun.first_payment_amount == 0 | df_chrun.first_payment_amount.isna() ))) \n",
    "                               ,\"no_chrun_no_first_payment_payment_2\", \n",
    "                                np.where(((df_chrun.is_churned == 0) & (df_chrun.first_payment_amount >0  ) & (df_chrun.payments_completed == 1  ) & (df_chrun.is_referral == True)) \n",
    "                               ,\"no_chrun_first_payment_only_payment_referral\",                                 \n",
    "                               np.where(((df_chrun.is_churned == 1) & (df_chrun.first_payment_amount > 0)  & (df_chrun.is_referral == True)) \n",
    "                               ,\"chrun_first_payment_refer\", \n",
    "                               np.where(((df_chrun.is_churned == 0) & (df_chrun.first_payment_amount > 0)  & (df_chrun.is_referral == False) &\n",
    "                                        ((df_chrun.reward_purchase_count_first_7days == 0) | (df_chrun.reward_purchase_count_first_7days.isna()) |\n",
    "                                         (df_chrun.coins_redeemed_first_7days == 0) | (df_chrun.coins_redeemed_first_7days.isna()))) \n",
    "                               ,\"no_chrun_first_payment_no_refer_no_coins_rewards\", \n",
    "                               np.where(((df_chrun.is_churned == 0) & (df_chrun.first_payment_amount > 0)  & (df_chrun.is_referral == False) &\n",
    "                                         ((df_chrun.visits_feature_1 == 0) & (df_chrun.visits_feature_2 == 0)) &\n",
    "                                        ((df_chrun.reward_purchase_count_first_7days > 0) & (df_chrun.coins_redeemed_first_7days > 0))) \n",
    "                               ,\"no_chrun_first_payment_no_refer_coins_rewards\", \"check\")))))))"
   ]
  },
  {
   "cell_type": "code",
   "execution_count": 77,
   "metadata": {},
   "outputs": [],
   "source": [
    "df_chrun[\"segment\"] = np.where(((df_chrun.is_churned == 1) & (df_chrun.first_payment_amount == 0 | df_chrun.first_payment_amount.isna() )) \n",
    "                               ,\"chrun_no_first_payment\", \n",
    "                               np.where(((df_chrun.is_churned == 1) & (df_chrun.first_payment_amount > 0)  & (df_chrun.is_referral == False) ) \n",
    "                               ,\"chrun_first_payment_n0_refer\", \n",
    "                                np.where(((df_chrun.is_churned == 0) & ((df_chrun.payments_completed >2)   | (df_chrun.first_payment_amount == 0 | df_chrun.first_payment_amount.isna() ))) \n",
    "                               ,\"no_chrun_no_first_payment_payment_2\", \n",
    "                                np.where(((df_chrun.is_churned == 0) & (df_chrun.first_payment_amount >0  ) & (df_chrun.payments_completed == 1  ) & (df_chrun.is_referral == True)) \n",
    "                               ,\"no_chrun_first_payment_only_payment_referral\",                                 \n",
    "                               np.where(((df_chrun.is_churned == 1) & (df_chrun.first_payment_amount > 0)  & (df_chrun.is_referral == True)) \n",
    "                               ,\"chrun_first_payment_refer\", \n",
    "                               np.where(((df_chrun.is_churned == 0) & (df_chrun.first_payment_amount > 0)   &\n",
    "                                        ((df_chrun.reward_purchase_count_first_7days == 0) | (df_chrun.reward_purchase_count_first_7days.isna()) |\n",
    "                                         (df_chrun.coins_redeemed_first_7days == 0) | (df_chrun.coins_redeemed_first_7days.isna()))) \n",
    "                               ,\"no_chrun_first_payment_no_coins_rewards\", \n",
    "                               np.where(((df_chrun.is_churned == 0) & (df_chrun.first_payment_amount > 0)  &\n",
    "                                         ((df_chrun.visits_feature_1 == 0) & (df_chrun.visits_feature_2 == 0)) &\n",
    "                                        ((df_chrun.reward_purchase_count_first_7days > 0) & (df_chrun.coins_redeemed_first_7days > 0))) \n",
    "                               ,\"no_chrun_first_paymen_coins_rewards\", \"check\")))))))"
   ]
  },
  {
   "cell_type": "code",
   "execution_count": 149,
   "metadata": {},
   "outputs": [],
   "source": [
    "## Final Segments\n",
    "df_chrun[\"segment\"] = np.where(((df_chrun.is_churned == 1) & (df_chrun.first_payment_amount == 0 | df_chrun.first_payment_amount.isna() )) \n",
    "                               ,\"chrun_no_first_payment\", \n",
    "                               np.where(((df_chrun.is_churned == 1) & (df_chrun.first_payment_amount > 0)  & (df_chrun.is_referral == False) ) \n",
    "                               ,\"chrun_first_payment_n0_refer\", \n",
    "                                np.where(((df_chrun.is_churned == 0) & ((df_chrun.payments_completed >2)   | (df_chrun.first_payment_amount == 0 | df_chrun.first_payment_amount.isna() ))) \n",
    "                               ,\"no_chrun_no_first_payment_payment_2\", \n",
    "                                np.where(((df_chrun.is_churned == 0) & (df_chrun.first_payment_amount >0  ) & (df_chrun.payments_completed == 1  ) & (df_chrun.is_referral == True)) \n",
    "                               ,\"no_chrun_first_payment_only_payment_referral\",                                 \n",
    "                               np.where(((df_chrun.is_churned == 1) & (df_chrun.first_payment_amount > 0)  & (df_chrun.is_referral == True)) \n",
    "                               ,\"chrun_first_payment_refer\", \n",
    "                               np.where(((df_chrun.is_churned == 0) & \n",
    "                                        ((df_chrun.reward_purchase_count_first_7days == 0) | (df_chrun.reward_purchase_count_first_7days.isna()) |\n",
    "                                         (df_chrun.coins_redeemed_first_7days == 0) | (df_chrun.coins_redeemed_first_7days.isna()))) \n",
    "                               ,\"no_chrun_first_payment_no_coins_rewards\", \n",
    "                               np.where(((df_chrun.is_churned == 0) & (df_chrun.first_payment_amount > 0)  &\n",
    "                                         ((df_chrun.visits_feature_1 == 0 | df_chrun.visits_feature_1.isnull()) &\n",
    "                                          (df_chrun.visits_feature_2 == 0 | df_chrun.visits_feature_2.isnull())) &\n",
    "                                        ((df_chrun.reward_purchase_count_first_7days > 0) | (df_chrun.coins_redeemed_first_7days > 0))) \n",
    "                               ,\"no_chrun_first_paymen_coins_rewards_no_feature\", \"no_chrun_first_paymen_coins_rewards_good_feature\")))))))"
   ]
  },
  {
   "cell_type": "code",
   "execution_count": 150,
   "metadata": {},
   "outputs": [
    {
     "data": {
      "text/html": [
       "<div>\n",
       "<style scoped>\n",
       "    .dataframe tbody tr th:only-of-type {\n",
       "        vertical-align: middle;\n",
       "    }\n",
       "\n",
       "    .dataframe tbody tr th {\n",
       "        vertical-align: top;\n",
       "    }\n",
       "\n",
       "    .dataframe thead th {\n",
       "        text-align: right;\n",
       "    }\n",
       "</style>\n",
       "<table border=\"1\" class=\"dataframe\">\n",
       "  <thead>\n",
       "    <tr style=\"text-align: right;\">\n",
       "      <th></th>\n",
       "      <th>user_id</th>\n",
       "    </tr>\n",
       "    <tr>\n",
       "      <th>segment</th>\n",
       "      <th></th>\n",
       "    </tr>\n",
       "  </thead>\n",
       "  <tbody>\n",
       "    <tr>\n",
       "      <th>chrun_first_payment_n0_refer</th>\n",
       "      <td>10926</td>\n",
       "    </tr>\n",
       "    <tr>\n",
       "      <th>chrun_first_payment_refer</th>\n",
       "      <td>8483</td>\n",
       "    </tr>\n",
       "    <tr>\n",
       "      <th>chrun_no_first_payment</th>\n",
       "      <td>10460</td>\n",
       "    </tr>\n",
       "    <tr>\n",
       "      <th>no_chrun_first_paymen_coins_rewards_good_feature</th>\n",
       "      <td>7452</td>\n",
       "    </tr>\n",
       "    <tr>\n",
       "      <th>no_chrun_first_paymen_coins_rewards_no_feature</th>\n",
       "      <td>18542</td>\n",
       "    </tr>\n",
       "    <tr>\n",
       "      <th>no_chrun_first_payment_no_coins_rewards</th>\n",
       "      <td>14837</td>\n",
       "    </tr>\n",
       "    <tr>\n",
       "      <th>no_chrun_first_payment_only_payment_referral</th>\n",
       "      <td>15664</td>\n",
       "    </tr>\n",
       "    <tr>\n",
       "      <th>no_chrun_no_first_payment_payment_2</th>\n",
       "      <td>17779</td>\n",
       "    </tr>\n",
       "  </tbody>\n",
       "</table>\n",
       "</div>"
      ],
      "text/plain": [
       "                                                  user_id\n",
       "segment                                                  \n",
       "chrun_first_payment_n0_refer                        10926\n",
       "chrun_first_payment_refer                            8483\n",
       "chrun_no_first_payment                              10460\n",
       "no_chrun_first_paymen_coins_rewards_good_feature     7452\n",
       "no_chrun_first_paymen_coins_rewards_no_feature      18542\n",
       "no_chrun_first_payment_no_coins_rewards             14837\n",
       "no_chrun_first_payment_only_payment_referral        15664\n",
       "no_chrun_no_first_payment_payment_2                 17779"
      ]
     },
     "execution_count": 150,
     "metadata": {},
     "output_type": "execute_result"
    }
   ],
   "source": [
    "df_chrun.groupby([\"segment\"]).agg({\"user_id\" : \"count\"}).sort_values(by = \"segment\")"
   ]
  },
  {
   "cell_type": "code",
   "execution_count": null,
   "metadata": {},
   "outputs": [],
   "source": []
  },
  {
   "cell_type": "code",
   "execution_count": 129,
   "metadata": {},
   "outputs": [],
   "source": [
    "df_chrun[df_chrun[\"segment\"] == \"check\" ].to_csv(\"check.csv\")"
   ]
  },
  {
   "cell_type": "code",
   "execution_count": 13,
   "metadata": {},
   "outputs": [],
   "source": [
    "df_chrun[\"segment\"] = np.where((df_chrun.is_churned == 0 & (df_chrun.first_payment_amount == 0 )) \\\n",
    "                              ,\"chrun_no_first_payment\",  \"check\")"
   ]
  },
  {
   "cell_type": "code",
   "execution_count": 42,
   "metadata": {},
   "outputs": [
    {
     "data": {
      "text/html": [
       "<div>\n",
       "<style scoped>\n",
       "    .dataframe tbody tr th:only-of-type {\n",
       "        vertical-align: middle;\n",
       "    }\n",
       "\n",
       "    .dataframe tbody tr th {\n",
       "        vertical-align: top;\n",
       "    }\n",
       "\n",
       "    .dataframe thead th {\n",
       "        text-align: right;\n",
       "    }\n",
       "</style>\n",
       "<table border=\"1\" class=\"dataframe\">\n",
       "  <thead>\n",
       "    <tr style=\"text-align: right;\">\n",
       "      <th></th>\n",
       "      <th>device</th>\n",
       "      <th>first_payment_amount</th>\n",
       "      <th>age</th>\n",
       "      <th>city</th>\n",
       "      <th>number_of_cards</th>\n",
       "      <th>payments_initiated</th>\n",
       "      <th>payments_failed</th>\n",
       "      <th>payments_completed</th>\n",
       "      <th>payments_completed_amount_first_7days</th>\n",
       "      <th>reward_purchase_count_first_7days</th>\n",
       "      <th>coins_redeemed_first_7days</th>\n",
       "      <th>is_referral</th>\n",
       "      <th>visits_feature_1</th>\n",
       "      <th>visits_feature_2</th>\n",
       "      <th>given_permission_1</th>\n",
       "      <th>given_permission_2</th>\n",
       "      <th>user_id</th>\n",
       "      <th>is_churned</th>\n",
       "      <th>segment</th>\n",
       "    </tr>\n",
       "  </thead>\n",
       "  <tbody>\n",
       "    <tr>\n",
       "      <th>0</th>\n",
       "      <td>samsung</td>\n",
       "      <td>0</td>\n",
       "      <td>20.0</td>\n",
       "      <td>Ahmedabad</td>\n",
       "      <td>2.0</td>\n",
       "      <td>1.0</td>\n",
       "      <td>0.0</td>\n",
       "      <td>1.0</td>\n",
       "      <td>0.0</td>\n",
       "      <td>NaN</td>\n",
       "      <td>0.0</td>\n",
       "      <td>False</td>\n",
       "      <td>3.0</td>\n",
       "      <td>0.0</td>\n",
       "      <td>1</td>\n",
       "      <td>0</td>\n",
       "      <td>269438</td>\n",
       "      <td>0</td>\n",
       "      <td>chrun_no_first_payment</td>\n",
       "    </tr>\n",
       "    <tr>\n",
       "      <th>1</th>\n",
       "      <td>xiaomi</td>\n",
       "      <td>0</td>\n",
       "      <td>20.0</td>\n",
       "      <td>Surat</td>\n",
       "      <td>1.0</td>\n",
       "      <td>1.0</td>\n",
       "      <td>0.0</td>\n",
       "      <td>1.0</td>\n",
       "      <td>0.0</td>\n",
       "      <td>NaN</td>\n",
       "      <td>0.0</td>\n",
       "      <td>True</td>\n",
       "      <td>0.0</td>\n",
       "      <td>0.0</td>\n",
       "      <td>1</td>\n",
       "      <td>0</td>\n",
       "      <td>139521</td>\n",
       "      <td>0</td>\n",
       "      <td>chrun_no_first_payment</td>\n",
       "    </tr>\n",
       "    <tr>\n",
       "      <th>2</th>\n",
       "      <td>xiaomi</td>\n",
       "      <td>0</td>\n",
       "      <td>20.0</td>\n",
       "      <td>Kullu</td>\n",
       "      <td>1.0</td>\n",
       "      <td>2.0</td>\n",
       "      <td>1.0</td>\n",
       "      <td>1.0</td>\n",
       "      <td>0.0</td>\n",
       "      <td>0.0</td>\n",
       "      <td>0.0</td>\n",
       "      <td>True</td>\n",
       "      <td>0.0</td>\n",
       "      <td>0.0</td>\n",
       "      <td>0</td>\n",
       "      <td>1</td>\n",
       "      <td>307352</td>\n",
       "      <td>0</td>\n",
       "      <td>chrun_no_first_payment</td>\n",
       "    </tr>\n",
       "    <tr>\n",
       "      <th>3</th>\n",
       "      <td>oneplus</td>\n",
       "      <td>0</td>\n",
       "      <td>20.0</td>\n",
       "      <td>Mumbai</td>\n",
       "      <td>2.0</td>\n",
       "      <td>4.0</td>\n",
       "      <td>1.0</td>\n",
       "      <td>2.0</td>\n",
       "      <td>322.0</td>\n",
       "      <td>2.0</td>\n",
       "      <td>20.0</td>\n",
       "      <td>False</td>\n",
       "      <td>0.0</td>\n",
       "      <td>0.0</td>\n",
       "      <td>1</td>\n",
       "      <td>1</td>\n",
       "      <td>456424</td>\n",
       "      <td>0</td>\n",
       "      <td>chrun_no_first_payment</td>\n",
       "    </tr>\n",
       "    <tr>\n",
       "      <th>4</th>\n",
       "      <td>apple</td>\n",
       "      <td>0</td>\n",
       "      <td>20.0</td>\n",
       "      <td>Pune</td>\n",
       "      <td>2.0</td>\n",
       "      <td>1.0</td>\n",
       "      <td>0.0</td>\n",
       "      <td>1.0</td>\n",
       "      <td>0.0</td>\n",
       "      <td>0.0</td>\n",
       "      <td>0.0</td>\n",
       "      <td>False</td>\n",
       "      <td>0.0</td>\n",
       "      <td>1.0</td>\n",
       "      <td>1</td>\n",
       "      <td>1</td>\n",
       "      <td>398779</td>\n",
       "      <td>0</td>\n",
       "      <td>chrun_no_first_payment</td>\n",
       "    </tr>\n",
       "  </tbody>\n",
       "</table>\n",
       "</div>"
      ],
      "text/plain": [
       "    device  first_payment_amount   age       city  number_of_cards  \\\n",
       "0  samsung                     0  20.0  Ahmedabad              2.0   \n",
       "1   xiaomi                     0  20.0      Surat              1.0   \n",
       "2   xiaomi                     0  20.0      Kullu              1.0   \n",
       "3  oneplus                     0  20.0     Mumbai              2.0   \n",
       "4    apple                     0  20.0       Pune              2.0   \n",
       "\n",
       "   payments_initiated  payments_failed  payments_completed  \\\n",
       "0                 1.0              0.0                 1.0   \n",
       "1                 1.0              0.0                 1.0   \n",
       "2                 2.0              1.0                 1.0   \n",
       "3                 4.0              1.0                 2.0   \n",
       "4                 1.0              0.0                 1.0   \n",
       "\n",
       "   payments_completed_amount_first_7days  reward_purchase_count_first_7days  \\\n",
       "0                                    0.0                                NaN   \n",
       "1                                    0.0                                NaN   \n",
       "2                                    0.0                                0.0   \n",
       "3                                  322.0                                2.0   \n",
       "4                                    0.0                                0.0   \n",
       "\n",
       "   coins_redeemed_first_7days  is_referral  visits_feature_1  \\\n",
       "0                         0.0        False               3.0   \n",
       "1                         0.0         True               0.0   \n",
       "2                         0.0         True               0.0   \n",
       "3                        20.0        False               0.0   \n",
       "4                         0.0        False               0.0   \n",
       "\n",
       "   visits_feature_2  given_permission_1  given_permission_2  user_id  \\\n",
       "0               0.0                   1                   0   269438   \n",
       "1               0.0                   1                   0   139521   \n",
       "2               0.0                   0                   1   307352   \n",
       "3               0.0                   1                   1   456424   \n",
       "4               1.0                   1                   1   398779   \n",
       "\n",
       "   is_churned                 segment  \n",
       "0           0  chrun_no_first_payment  \n",
       "1           0  chrun_no_first_payment  \n",
       "2           0  chrun_no_first_payment  \n",
       "3           0  chrun_no_first_payment  \n",
       "4           0  chrun_no_first_payment  "
      ]
     },
     "execution_count": 42,
     "metadata": {},
     "output_type": "execute_result"
    }
   ],
   "source": [
    "df_chrun.head()"
   ]
  },
  {
   "cell_type": "code",
   "execution_count": null,
   "metadata": {},
   "outputs": [],
   "source": []
  },
  {
   "cell_type": "markdown",
   "metadata": {},
   "source": [
    "#### K means clustering"
   ]
  },
  {
   "cell_type": "code",
   "execution_count": 152,
   "metadata": {},
   "outputs": [],
   "source": [
    "import matplotlib.pyplot as plt\n",
    "# from kneed import KneeLocator\n",
    "from sklearn.datasets import make_blobs\n",
    "from sklearn.cluster import KMeans\n",
    "from sklearn.metrics import silhouette_score\n",
    "from sklearn.preprocessing import StandardScaler"
   ]
  },
  {
   "cell_type": "code",
   "execution_count": 168,
   "metadata": {},
   "outputs": [],
   "source": [
    "df_chrun = Utils.load_data(churn_data_loc)"
   ]
  },
  {
   "cell_type": "code",
   "execution_count": 153,
   "metadata": {},
   "outputs": [
    {
     "data": {
      "text/plain": [
       "['first_payment_amount',\n",
       " 'age',\n",
       " 'number_of_cards',\n",
       " 'payments_initiated',\n",
       " 'payments_failed',\n",
       " 'payments_completed',\n",
       " 'payments_completed_amount_first_7days',\n",
       " 'reward_purchase_count_first_7days',\n",
       " 'coins_redeemed_first_7days',\n",
       " 'visits_feature_1',\n",
       " 'visits_feature_2']"
      ]
     },
     "execution_count": 153,
     "metadata": {},
     "output_type": "execute_result"
    }
   ],
   "source": [
    "cols_to_consider = [\"first_payment_amount\",\"age\",\"number_of_cards\",\"payments_initiated\",\"payments_failed\",\"payments_completed\",\"payments_completed_amount_first_7days\",\"reward_purchase_count_first_7days\",\"coins_redeemed_first_7days\",\"visits_feature_1\",\"visits_feature_2\"]\n",
    "cols_to_consider"
   ]
  },
  {
   "cell_type": "markdown",
   "metadata": {},
   "source": [
    "Distribution of data"
   ]
  },
  {
   "cell_type": "markdown",
   "metadata": {},
   "source": [
    "first_payment_amount"
   ]
  },
  {
   "cell_type": "code",
   "execution_count": 169,
   "metadata": {},
   "outputs": [
    {
     "data": {
      "text/plain": [
       "<AxesSubplot:>"
      ]
     },
     "execution_count": 169,
     "metadata": {},
     "output_type": "execute_result"
    },
    {
     "data": {
      "image/png": "[encoded data removed]",
      "text/plain": [
       "<Figure size 432x288 with 1 Axes>"
      ]
     },
     "metadata": {
      "needs_background": "light"
     },
     "output_type": "display_data"
    }
   ],
   "source": [
    "np.log(df_chrun[  (df_chrun[\"first_payment_amount\"] > 0 ) ].first_payment_amount).hist(bins = 10)"
   ]
  },
  {
   "cell_type": "code",
   "execution_count": 176,
   "metadata": {},
   "outputs": [
    {
     "data": {
      "text/plain": [
       "-1.000000500029089e-06"
      ]
     },
     "execution_count": 176,
     "metadata": {},
     "output_type": "execute_result"
    }
   ],
   "source": [
    "np.log(0.999999)"
   ]
  },
  {
   "cell_type": "code",
   "execution_count": 192,
   "metadata": {},
   "outputs": [
    {
     "data": {
      "text/plain": [
       "array([  0.9,   0.9,   0.9, ...,  67. ,  83. , 437. ])"
      ]
     },
     "execution_count": 192,
     "metadata": {},
     "output_type": "execute_result"
    }
   ],
   "source": [
    "df_chrun[\"first_payment_amount_new\"] = np.where(df_chrun.first_payment_amount == 0, 0.9, df_chrun.first_payment_amount )"
   ]
  },
  {
   "cell_type": "code",
   "execution_count": 190,
   "metadata": {},
   "outputs": [
    {
     "data": {
      "text/plain": [
       "<AxesSubplot:>"
      ]
     },
     "execution_count": 190,
     "metadata": {},
     "output_type": "execute_result"
    },
    {
     "data": {
      "image/png": "[encoded data removed]",
      "text/plain": [
       "<Figure size 432x288 with 1 Axes>"
      ]
     },
     "metadata": {
      "needs_background": "light"
     },
     "output_type": "display_data"
    }
   ],
   "source": [
    "np.log(df_chrun[  (df_chrun[\"first_payment_amount_new\"] > 0 ) ].first_payment_amount_new).hist(bins = 20)"
   ]
  },
  {
   "cell_type": "code",
   "execution_count": 220,
   "metadata": {},
   "outputs": [
    {
     "data": {
      "text/plain": [
       "['payments_initiated',\n",
       " 'payments_failed',\n",
       " 'payments_completed',\n",
       " 'payments_completed_amount_first_7days',\n",
       " 'reward_purchase_count_first_7days',\n",
       " 'coins_redeemed_first_7days',\n",
       " 'visits_feature_1',\n",
       " 'visits_feature_2']"
      ]
     },
     "execution_count": 220,
     "metadata": {},
     "output_type": "execute_result"
    }
   ],
   "source": [
    "['payments_initiated',\n",
    " 'payments_failed',\n",
    " 'payments_completed',\n",
    " 'payments_completed_amount_first_7days',\n",
    " 'reward_purchase_count_first_7days',\n",
    " 'coins_redeemed_first_7days',\n",
    " 'visits_feature_1',\n",
    " 'visits_feature_2']"
   ]
  },
  {
   "cell_type": "markdown",
   "metadata": {},
   "source": [
    "payments_completed_amount_first_7days"
   ]
  },
  {
   "cell_type": "code",
   "execution_count": null,
   "metadata": {},
   "outputs": [],
   "source": []
  },
  {
   "cell_type": "code",
   "execution_count": null,
   "metadata": {},
   "outputs": [],
   "source": []
  },
  {
   "cell_type": "code",
   "execution_count": null,
   "metadata": {},
   "outputs": [],
   "source": []
  },
  {
   "cell_type": "code",
   "execution_count": null,
   "metadata": {},
   "outputs": [],
   "source": []
  },
  {
   "cell_type": "code",
   "execution_count": null,
   "metadata": {},
   "outputs": [],
   "source": []
  },
  {
   "cell_type": "markdown",
   "metadata": {},
   "source": [
    "payments_completed"
   ]
  },
  {
   "cell_type": "code",
   "execution_count": 240,
   "metadata": {},
   "outputs": [
    {
     "data": {
      "text/html": [
       "<div>\n",
       "<style scoped>\n",
       "    .dataframe tbody tr th:only-of-type {\n",
       "        vertical-align: middle;\n",
       "    }\n",
       "\n",
       "    .dataframe tbody tr th {\n",
       "        vertical-align: top;\n",
       "    }\n",
       "\n",
       "    .dataframe thead th {\n",
       "        text-align: right;\n",
       "    }\n",
       "</style>\n",
       "<table border=\"1\" class=\"dataframe\">\n",
       "  <thead>\n",
       "    <tr style=\"text-align: right;\">\n",
       "      <th></th>\n",
       "      <th>first_payment_amount</th>\n",
       "      <th>age</th>\n",
       "      <th>number_of_cards</th>\n",
       "      <th>payments_initiated</th>\n",
       "      <th>payments_failed</th>\n",
       "      <th>payments_completed</th>\n",
       "      <th>payments_completed_amount_first_7days</th>\n",
       "      <th>reward_purchase_count_first_7days</th>\n",
       "      <th>coins_redeemed_first_7days</th>\n",
       "      <th>is_referral</th>\n",
       "      <th>visits_feature_1</th>\n",
       "      <th>visits_feature_2</th>\n",
       "      <th>given_permission_1</th>\n",
       "      <th>given_permission_2</th>\n",
       "      <th>user_id</th>\n",
       "      <th>is_churned</th>\n",
       "      <th>first_payment_amount_new</th>\n",
       "    </tr>\n",
       "  </thead>\n",
       "  <tbody>\n",
       "    <tr>\n",
       "      <th>0.25</th>\n",
       "      <td>2.0</td>\n",
       "      <td>27.0</td>\n",
       "      <td>1.0</td>\n",
       "      <td>1.0</td>\n",
       "      <td>0.0</td>\n",
       "      <td>1.0</td>\n",
       "      <td>3.0</td>\n",
       "      <td>0.0</td>\n",
       "      <td>0.0</td>\n",
       "      <td>0.0</td>\n",
       "      <td>0.0</td>\n",
       "      <td>0.0</td>\n",
       "      <td>1.0</td>\n",
       "      <td>0.0</td>\n",
       "      <td>124478.5</td>\n",
       "      <td>0.0</td>\n",
       "      <td>1.0</td>\n",
       "    </tr>\n",
       "    <tr>\n",
       "      <th>0.75</th>\n",
       "      <td>37.0</td>\n",
       "      <td>36.0</td>\n",
       "      <td>3.0</td>\n",
       "      <td>3.0</td>\n",
       "      <td>0.0</td>\n",
       "      <td>2.0</td>\n",
       "      <td>64.0</td>\n",
       "      <td>3.0</td>\n",
       "      <td>20.0</td>\n",
       "      <td>1.0</td>\n",
       "      <td>0.0</td>\n",
       "      <td>0.0</td>\n",
       "      <td>1.0</td>\n",
       "      <td>1.0</td>\n",
       "      <td>378186.5</td>\n",
       "      <td>1.0</td>\n",
       "      <td>2.0</td>\n",
       "    </tr>\n",
       "    <tr>\n",
       "      <th>0.90</th>\n",
       "      <td>88.0</td>\n",
       "      <td>42.0</td>\n",
       "      <td>4.0</td>\n",
       "      <td>6.0</td>\n",
       "      <td>1.0</td>\n",
       "      <td>3.0</td>\n",
       "      <td>141.0</td>\n",
       "      <td>4.0</td>\n",
       "      <td>70.0</td>\n",
       "      <td>1.0</td>\n",
       "      <td>1.0</td>\n",
       "      <td>1.0</td>\n",
       "      <td>1.0</td>\n",
       "      <td>1.0</td>\n",
       "      <td>453925.4</td>\n",
       "      <td>1.0</td>\n",
       "      <td>3.0</td>\n",
       "    </tr>\n",
       "  </tbody>\n",
       "</table>\n",
       "</div>"
      ],
      "text/plain": [
       "      first_payment_amount   age  number_of_cards  payments_initiated  \\\n",
       "0.25                   2.0  27.0              1.0                 1.0   \n",
       "0.75                  37.0  36.0              3.0                 3.0   \n",
       "0.90                  88.0  42.0              4.0                 6.0   \n",
       "\n",
       "      payments_failed  payments_completed  \\\n",
       "0.25              0.0                 1.0   \n",
       "0.75              0.0                 2.0   \n",
       "0.90              1.0                 3.0   \n",
       "\n",
       "      payments_completed_amount_first_7days  \\\n",
       "0.25                                    3.0   \n",
       "0.75                                   64.0   \n",
       "0.90                                  141.0   \n",
       "\n",
       "      reward_purchase_count_first_7days  coins_redeemed_first_7days  \\\n",
       "0.25                                0.0                         0.0   \n",
       "0.75                                3.0                        20.0   \n",
       "0.90                                4.0                        70.0   \n",
       "\n",
       "      is_referral  visits_feature_1  visits_feature_2  given_permission_1  \\\n",
       "0.25          0.0               0.0               0.0                 1.0   \n",
       "0.75          1.0               0.0               0.0                 1.0   \n",
       "0.90          1.0               1.0               1.0                 1.0   \n",
       "\n",
       "      given_permission_2   user_id  is_churned  first_payment_amount_new  \n",
       "0.25                 0.0  124478.5         0.0                       1.0  \n",
       "0.75                 1.0  378186.5         1.0                       2.0  \n",
       "0.90                 1.0  453925.4         1.0                       3.0  "
      ]
     },
     "execution_count": 240,
     "metadata": {},
     "output_type": "execute_result"
    }
   ],
   "source": [
    "thresh = df_chrun.quantile([.25,.75, 0.9])\n",
    "thresh"
   ]
  },
  {
   "cell_type": "code",
   "execution_count": 241,
   "metadata": {},
   "outputs": [],
   "source": [
    "thresh = df_chrun.quantile([.25,.75, 0.9])\n",
    "thresh\n",
    "df_chrun_new = df_chrun.clip(upper=thresh.loc[.9],\n",
    "          axis=1)"
   ]
  },
  {
   "cell_type": "code",
   "execution_count": null,
   "metadata": {},
   "outputs": [],
   "source": []
  },
  {
   "cell_type": "code",
   "execution_count": 233,
   "metadata": {},
   "outputs": [
    {
     "data": {
      "text/plain": [
       "<AxesSubplot:>"
      ]
     },
     "execution_count": 233,
     "metadata": {},
     "output_type": "execute_result"
    },
    {
     "data": {
      "image/png": "[encoded data removed]",
      "text/plain": [
       "<Figure size 432x288 with 1 Axes>"
      ]
     },
     "metadata": {
      "needs_background": "light"
     },
     "output_type": "display_data"
    }
   ],
   "source": [
    "df_chrun[\"first_payment_amount_new\"] = np.where(df_chrun.payments_completed == 0, 0.9, df_chrun.payments_completed )\n",
    "df_chrun.first_payment_amount_new.hist(bins = 20)"
   ]
  },
  {
   "cell_type": "code",
   "execution_count": 234,
   "metadata": {},
   "outputs": [
    {
     "data": {
      "text/plain": [
       "<AxesSubplot:>"
      ]
     },
     "execution_count": 234,
     "metadata": {},
     "output_type": "execute_result"
    },
    {
     "data": {
      "image/png": "[encoded data removed]",
      "text/plain": [
       "<Figure size 432x288 with 1 Axes>"
      ]
     },
     "metadata": {
      "needs_background": "light"
     },
     "output_type": "display_data"
    }
   ],
   "source": [
    "df_chrun[df_chrun[\"payments_completed\"] < 10].payments_completed.hist(bins = 20)"
   ]
  },
  {
   "cell_type": "code",
   "execution_count": 242,
   "metadata": {},
   "outputs": [
    {
     "data": {
      "text/plain": [
       "<AxesSubplot:>"
      ]
     },
     "execution_count": 242,
     "metadata": {},
     "output_type": "execute_result"
    },
    {
     "data": {
      "image/png": "[encoded data removed]",
      "text/plain": [
       "<Figure size 432x288 with 1 Axes>"
      ]
     },
     "metadata": {
      "needs_background": "light"
     },
     "output_type": "display_data"
    }
   ],
   "source": [
    "df_chrun_new.payments_completed.hist(bins = 20)"
   ]
  },
  {
   "cell_type": "code",
   "execution_count": 235,
   "metadata": {},
   "outputs": [
    {
     "data": {
      "text/plain": [
       "<AxesSubplot:>"
      ]
     },
     "execution_count": 235,
     "metadata": {},
     "output_type": "execute_result"
    },
    {
     "data": {
      "image/png": "[encoded data removed]",
      "text/plain": [
       "<Figure size 432x288 with 1 Axes>"
      ]
     },
     "metadata": {
      "needs_background": "light"
     },
     "output_type": "display_data"
    }
   ],
   "source": [
    "np.log(df_chrun.first_payment_amount_new).hist(bins = 20)"
   ]
  },
  {
   "cell_type": "code",
   "execution_count": null,
   "metadata": {},
   "outputs": [],
   "source": []
  },
  {
   "cell_type": "markdown",
   "metadata": {},
   "source": [
    "payments_failed"
   ]
  },
  {
   "cell_type": "code",
   "execution_count": 228,
   "metadata": {},
   "outputs": [
    {
     "data": {
      "text/plain": [
       "<AxesSubplot:>"
      ]
     },
     "execution_count": 228,
     "metadata": {},
     "output_type": "execute_result"
    },
    {
     "data": {
      "image/png": "[encoded data removed]",
      "text/plain": [
       "<Figure size 432x288 with 1 Axes>"
      ]
     },
     "metadata": {
      "needs_background": "light"
     },
     "output_type": "display_data"
    }
   ],
   "source": [
    "df_chrun[\"first_payment_amount_new\"] = np.where(df_chrun.payments_failed == 0, 0.9, df_chrun.payments_failed )\n",
    "df_chrun.first_payment_amount_new.hist(bins = 20)"
   ]
  },
  {
   "cell_type": "code",
   "execution_count": 230,
   "metadata": {},
   "outputs": [
    {
     "data": {
      "text/plain": [
       "<AxesSubplot:>"
      ]
     },
     "execution_count": 230,
     "metadata": {},
     "output_type": "execute_result"
    },
    {
     "data": {
      "image/png": "[encoded data removed]",
      "text/plain": [
       "<Figure size 432x288 with 1 Axes>"
      ]
     },
     "metadata": {
      "needs_background": "light"
     },
     "output_type": "display_data"
    }
   ],
   "source": [
    "df_chrun[df_chrun[\"payments_failed\"] < 10].payments_failed.hist(bins = 20)"
   ]
  },
  {
   "cell_type": "code",
   "execution_count": 231,
   "metadata": {},
   "outputs": [
    {
     "data": {
      "text/plain": [
       "<AxesSubplot:>"
      ]
     },
     "execution_count": 231,
     "metadata": {},
     "output_type": "execute_result"
    },
    {
     "data": {
      "image/png": "[encoded data removed]",
      "text/plain": [
       "<Figure size 432x288 with 1 Axes>"
      ]
     },
     "metadata": {
      "needs_background": "light"
     },
     "output_type": "display_data"
    }
   ],
   "source": [
    "np.log(df_chrun.first_payment_amount_new).hist(bins = 20)"
   ]
  },
  {
   "cell_type": "code",
   "execution_count": null,
   "metadata": {},
   "outputs": [],
   "source": []
  },
  {
   "cell_type": "code",
   "execution_count": null,
   "metadata": {},
   "outputs": [],
   "source": []
  },
  {
   "cell_type": "markdown",
   "metadata": {},
   "source": [
    "payments_initiated"
   ]
  },
  {
   "cell_type": "code",
   "execution_count": 221,
   "metadata": {},
   "outputs": [
    {
     "data": {
      "text/plain": [
       "<AxesSubplot:>"
      ]
     },
     "execution_count": 221,
     "metadata": {},
     "output_type": "execute_result"
    },
    {
     "data": {
      "image/png": "[encoded data removed]",
      "text/plain": [
       "<Figure size 432x288 with 1 Axes>"
      ]
     },
     "metadata": {
      "needs_background": "light"
     },
     "output_type": "display_data"
    }
   ],
   "source": [
    "df_chrun[\"first_payment_amount_new\"] = np.where(df_chrun.payments_initiated == 0, 0.9, df_chrun.payments_initiated )\n",
    "df_chrun.first_payment_amount_new.hist(bins = 20)"
   ]
  },
  {
   "cell_type": "code",
   "execution_count": 227,
   "metadata": {},
   "outputs": [
    {
     "data": {
      "text/plain": [
       "<AxesSubplot:>"
      ]
     },
     "execution_count": 227,
     "metadata": {},
     "output_type": "execute_result"
    },
    {
     "data": {
      "image/png": "[encoded data removed]",
      "text/plain": [
       "<Figure size 432x288 with 1 Axes>"
      ]
     },
     "metadata": {
      "needs_background": "light"
     },
     "output_type": "display_data"
    }
   ],
   "source": [
    "df_chrun[df_chrun[\"payments_initiated\"] < 25].payments_initiated.hist(bins = 20)"
   ]
  },
  {
   "cell_type": "code",
   "execution_count": 222,
   "metadata": {},
   "outputs": [
    {
     "data": {
      "text/plain": [
       "<AxesSubplot:>"
      ]
     },
     "execution_count": 222,
     "metadata": {},
     "output_type": "execute_result"
    },
    {
     "data": {
      "image/png": "[encoded data removed]",
      "text/plain": [
       "<Figure size 432x288 with 1 Axes>"
      ]
     },
     "metadata": {
      "needs_background": "light"
     },
     "output_type": "display_data"
    }
   ],
   "source": [
    "np.log(df_chrun.first_payment_amount_new).hist(bins = 20)"
   ]
  },
  {
   "cell_type": "markdown",
   "metadata": {},
   "source": [
    "number_of_cards"
   ]
  },
  {
   "cell_type": "code",
   "execution_count": 218,
   "metadata": {},
   "outputs": [
    {
     "data": {
      "text/plain": [
       "<AxesSubplot:>"
      ]
     },
     "execution_count": 218,
     "metadata": {},
     "output_type": "execute_result"
    },
    {
     "data": {
      "image/png": "[encoded data removed]",
      "text/plain": [
       "<Figure size 432x288 with 1 Axes>"
      ]
     },
     "metadata": {
      "needs_background": "light"
     },
     "output_type": "display_data"
    }
   ],
   "source": [
    "\n",
    "df_chrun[\"first_payment_amount_new\"] = np.where(df_chrun.number_of_cards == 0, 0.9, df_chrun.number_of_cards )\n",
    "df_chrun.first_payment_amount_new.hist(bins = 20)\n"
   ]
  },
  {
   "cell_type": "code",
   "execution_count": 219,
   "metadata": {},
   "outputs": [
    {
     "data": {
      "text/plain": [
       "<AxesSubplot:>"
      ]
     },
     "execution_count": 219,
     "metadata": {},
     "output_type": "execute_result"
    },
    {
     "data": {
      "image/png": "[encoded data removed]",
      "text/plain": [
       "<Figure size 432x288 with 1 Axes>"
      ]
     },
     "metadata": {
      "needs_background": "light"
     },
     "output_type": "display_data"
    }
   ],
   "source": [
    "np.log(df_chrun.first_payment_amount_new).hist(bins = 20)"
   ]
  },
  {
   "cell_type": "markdown",
   "metadata": {},
   "source": [
    "Age\n"
   ]
  },
  {
   "cell_type": "code",
   "execution_count": 212,
   "metadata": {},
   "outputs": [],
   "source": [
    "df_chrun[\"first_payment_amount_new\"] = np.where(df_chrun.age == 0, 0.9, df_chrun.age )"
   ]
  },
  {
   "cell_type": "code",
   "execution_count": 215,
   "metadata": {},
   "outputs": [
    {
     "data": {
      "text/plain": [
       "<AxesSubplot:>"
      ]
     },
     "execution_count": 215,
     "metadata": {},
     "output_type": "execute_result"
    },
    {
     "data": {
      "image/png": "[encoded data removed]",
      "text/plain": [
       "<Figure size 432x288 with 1 Axes>"
      ]
     },
     "metadata": {
      "needs_background": "light"
     },
     "output_type": "display_data"
    }
   ],
   "source": [
    "df_chrun.first_payment_amount_new.hist(bins = 20)"
   ]
  },
  {
   "cell_type": "code",
   "execution_count": 216,
   "metadata": {},
   "outputs": [
    {
     "data": {
      "text/plain": [
       "<AxesSubplot:>"
      ]
     },
     "execution_count": 216,
     "metadata": {},
     "output_type": "execute_result"
    },
    {
     "data": {
      "image/png": "[encoded data removed]",
      "text/plain": [
       "<Figure size 432x288 with 1 Axes>"
      ]
     },
     "metadata": {
      "needs_background": "light"
     },
     "output_type": "display_data"
    }
   ],
   "source": [
    "np.log(df_chrun.first_payment_amount_new).hist(bins = 20)"
   ]
  },
  {
   "cell_type": "code",
   "execution_count": 204,
   "metadata": {},
   "outputs": [
    {
     "data": {
      "text/plain": [
       "first_payment_amount                       int64\n",
       "age                                      float64\n",
       "number_of_cards                          float64\n",
       "payments_initiated                       float64\n",
       "payments_failed                          float64\n",
       "payments_completed                       float64\n",
       "payments_completed_amount_first_7days    float64\n",
       "reward_purchase_count_first_7days        float64\n",
       "coins_redeemed_first_7days               float64\n",
       "visits_feature_1                         float64\n",
       "visits_feature_2                         float64\n",
       "dtype: object"
      ]
     },
     "execution_count": 204,
     "metadata": {},
     "output_type": "execute_result"
    }
   ],
   "source": [
    "df_filtered.dtypes"
   ]
  },
  {
   "cell_type": "markdown",
   "metadata": {},
   "source": [
    "#### Junk"
   ]
  },
  {
   "cell_type": "code",
   "execution_count": 210,
   "metadata": {},
   "outputs": [],
   "source": [
    "def hist_flt_int(dataset):\n",
    "    '''\n",
    "    From the df.dtypes, which is pandas series, we convert to dict then get use list comprehension to get the \n",
    "    column name with int and float\n",
    "\n",
    "    input - dataframe\n",
    "    output - histogram of int and floats\n",
    "    '''\n",
    "    ## TODO : Image size config\n",
    "\n",
    "    df = dict(dataset.dtypes)\n",
    "    hist_cols = [key for key in df.keys() if (df[key] == \"int32\" or df[key] == \"int64\" or df[key] == \"float64\")]\n",
    "    hist_cols = dataset.columns\n",
    "    fig = plt.figure(figsize = (15,20))\n",
    "    ax = fig.gca()\n",
    "    \n",
    "    print(hist_cols)\n",
    "    \n",
    "    dataset.replace(0, 0.8, inplace = True)\n",
    "#     return .hist(ax = ax)\n",
    "    return dataset[hist_cols].hist(ax = ax)"
   ]
  },
  {
   "cell_type": "code",
   "execution_count": 211,
   "metadata": {},
   "outputs": [
    {
     "name": "stdout",
     "output_type": "stream",
     "text": [
      "Index(['first_payment_amount', 'age', 'number_of_cards', 'payments_initiated',\n",
      "       'payments_failed', 'payments_completed',\n",
      "       'payments_completed_amount_first_7days',\n",
      "       'reward_purchase_count_first_7days', 'coins_redeemed_first_7days',\n",
      "       'visits_feature_1', 'visits_feature_2'],\n",
      "      dtype='object')\n"
     ]
    },
    {
     "name": "stderr",
     "output_type": "stream",
     "text": [
      "<ipython-input-210-efdaef652471>:21: UserWarning: To output multiple subplots, the figure containing the passed axes is being cleared\n",
      "  return dataset[hist_cols].hist(ax = ax)\n"
     ]
    },
    {
     "data": {
      "text/plain": [
       "array([[<AxesSubplot:title={'center':'age'}>,\n",
       "        <AxesSubplot:title={'center':'payments_initiated'}>],\n",
       "       [<AxesSubplot:title={'center':'payments_completed'}>,\n",
       "        <AxesSubplot:>]], dtype=object)"
      ]
     },
     "execution_count": 211,
     "metadata": {},
     "output_type": "execute_result"
    },
    {
     "data": {
      "image/png": "[encoded data removed]",
      "text/plain": [
       "<Figure size 1080x1440 with 4 Axes>"
      ]
     },
     "metadata": {
      "needs_background": "light"
     },
     "output_type": "display_data"
    }
   ],
   "source": [
    "hist_flt_int(df_filtered)"
   ]
  },
  {
   "cell_type": "code",
   "execution_count": null,
   "metadata": {},
   "outputs": [],
   "source": []
  },
  {
   "cell_type": "markdown",
   "metadata": {},
   "source": [
    "1. fillna with 0\n",
    "1a. fill 0 with 0.5 \n",
    "cap @ 90 percentile data \n",
    "log transform\n",
    "\n",
    "2. scale feature to 0\n",
    "3. Remove missing data rows - where # is null"
   ]
  },
  {
   "cell_type": "code",
   "execution_count": 164,
   "metadata": {},
   "outputs": [],
   "source": [
    "df_chrun.fillna(0, inplace = True )"
   ]
  },
  {
   "cell_type": "code",
   "execution_count": null,
   "metadata": {},
   "outputs": [],
   "source": [
    "scaler = StandardScaler()\n",
    "scaled_features = scaler.fit_transform(features)"
   ]
  },
  {
   "cell_type": "markdown",
   "metadata": {},
   "source": [
    "#### 1"
   ]
  },
  {
   "cell_type": "code",
   "execution_count": 340,
   "metadata": {},
   "outputs": [],
   "source": [
    "df_chrun = Utils.load_data(churn_data_loc)"
   ]
  },
  {
   "cell_type": "code",
   "execution_count": 258,
   "metadata": {},
   "outputs": [
    {
     "data": {
      "text/plain": [
       "['first_payment_amount',\n",
       " 'age',\n",
       " 'number_of_cards',\n",
       " 'payments_initiated',\n",
       " 'payments_failed',\n",
       " 'payments_completed',\n",
       " 'payments_completed_amount_first_7days',\n",
       " 'reward_purchase_count_first_7days',\n",
       " 'coins_redeemed_first_7days',\n",
       " 'visits_feature_1',\n",
       " 'visits_feature_2']"
      ]
     },
     "execution_count": 258,
     "metadata": {},
     "output_type": "execute_result"
    }
   ],
   "source": [
    "cols_to_consider = [\"first_payment_amount\",\"age\",\"number_of_cards\",\"payments_initiated\",\"payments_failed\",\"payments_completed\",\"payments_completed_amount_first_7days\",\"reward_purchase_count_first_7days\",\"coins_redeemed_first_7days\",\"visits_feature_1\",\"visits_feature_2\"]\n",
    "cols_to_consider"
   ]
  },
  {
   "cell_type": "code",
   "execution_count": 341,
   "metadata": {},
   "outputs": [],
   "source": [
    "df_chrun = df_chrun[cols_to_consider]"
   ]
  },
  {
   "cell_type": "code",
   "execution_count": 342,
   "metadata": {},
   "outputs": [],
   "source": [
    "df_chrun.fillna(0, inplace = True )"
   ]
  },
  {
   "cell_type": "code",
   "execution_count": 343,
   "metadata": {},
   "outputs": [],
   "source": [
    "df_chrun.replace(0, 0.9 ,inplace = True )"
   ]
  },
  {
   "cell_type": "code",
   "execution_count": 344,
   "metadata": {},
   "outputs": [
    {
     "data": {
      "text/html": [
       "<div>\n",
       "<style scoped>\n",
       "    .dataframe tbody tr th:only-of-type {\n",
       "        vertical-align: middle;\n",
       "    }\n",
       "\n",
       "    .dataframe tbody tr th {\n",
       "        vertical-align: top;\n",
       "    }\n",
       "\n",
       "    .dataframe thead th {\n",
       "        text-align: right;\n",
       "    }\n",
       "</style>\n",
       "<table border=\"1\" class=\"dataframe\">\n",
       "  <thead>\n",
       "    <tr style=\"text-align: right;\">\n",
       "      <th></th>\n",
       "      <th>first_payment_amount</th>\n",
       "      <th>age</th>\n",
       "      <th>number_of_cards</th>\n",
       "      <th>payments_initiated</th>\n",
       "      <th>payments_failed</th>\n",
       "      <th>payments_completed</th>\n",
       "      <th>payments_completed_amount_first_7days</th>\n",
       "      <th>reward_purchase_count_first_7days</th>\n",
       "      <th>coins_redeemed_first_7days</th>\n",
       "      <th>visits_feature_1</th>\n",
       "      <th>visits_feature_2</th>\n",
       "    </tr>\n",
       "  </thead>\n",
       "  <tbody>\n",
       "    <tr>\n",
       "      <th>0.25</th>\n",
       "      <td>2.0</td>\n",
       "      <td>27.0</td>\n",
       "      <td>1.0</td>\n",
       "      <td>1.0</td>\n",
       "      <td>0.9</td>\n",
       "      <td>1.0</td>\n",
       "      <td>3.0</td>\n",
       "      <td>0.9</td>\n",
       "      <td>0.9</td>\n",
       "      <td>0.9</td>\n",
       "      <td>0.9</td>\n",
       "    </tr>\n",
       "    <tr>\n",
       "      <th>0.75</th>\n",
       "      <td>37.0</td>\n",
       "      <td>36.0</td>\n",
       "      <td>3.0</td>\n",
       "      <td>3.0</td>\n",
       "      <td>0.9</td>\n",
       "      <td>2.0</td>\n",
       "      <td>63.0</td>\n",
       "      <td>2.0</td>\n",
       "      <td>20.0</td>\n",
       "      <td>0.9</td>\n",
       "      <td>0.9</td>\n",
       "    </tr>\n",
       "    <tr>\n",
       "      <th>0.95</th>\n",
       "      <td>143.0</td>\n",
       "      <td>49.0</td>\n",
       "      <td>6.0</td>\n",
       "      <td>8.0</td>\n",
       "      <td>2.0</td>\n",
       "      <td>4.0</td>\n",
       "      <td>217.0</td>\n",
       "      <td>5.0</td>\n",
       "      <td>103.0</td>\n",
       "      <td>1.0</td>\n",
       "      <td>1.0</td>\n",
       "    </tr>\n",
       "  </tbody>\n",
       "</table>\n",
       "</div>"
      ],
      "text/plain": [
       "      first_payment_amount   age  number_of_cards  payments_initiated  \\\n",
       "0.25                   2.0  27.0              1.0                 1.0   \n",
       "0.75                  37.0  36.0              3.0                 3.0   \n",
       "0.95                 143.0  49.0              6.0                 8.0   \n",
       "\n",
       "      payments_failed  payments_completed  \\\n",
       "0.25              0.9                 1.0   \n",
       "0.75              0.9                 2.0   \n",
       "0.95              2.0                 4.0   \n",
       "\n",
       "      payments_completed_amount_first_7days  \\\n",
       "0.25                                    3.0   \n",
       "0.75                                   63.0   \n",
       "0.95                                  217.0   \n",
       "\n",
       "      reward_purchase_count_first_7days  coins_redeemed_first_7days  \\\n",
       "0.25                                0.9                         0.9   \n",
       "0.75                                2.0                        20.0   \n",
       "0.95                                5.0                       103.0   \n",
       "\n",
       "      visits_feature_1  visits_feature_2  \n",
       "0.25               0.9               0.9  \n",
       "0.75               0.9               0.9  \n",
       "0.95               1.0               1.0  "
      ]
     },
     "metadata": {},
     "output_type": "display_data"
    }
   ],
   "source": [
    "thresh = df_chrun.quantile([.25,.75, 0.95])\n",
    "display(thresh)\n",
    "df_chrun = df_chrun.clip(upper=thresh.loc[.95],axis=1)"
   ]
  },
  {
   "cell_type": "code",
   "execution_count": 345,
   "metadata": {},
   "outputs": [],
   "source": [
    "df_chrun = np.log(df_chrun)"
   ]
  },
  {
   "cell_type": "code",
   "execution_count": 339,
   "metadata": {},
   "outputs": [
    {
     "ename": "SyntaxError",
     "evalue": "invalid syntax (<ipython-input-339-029d35385294>, line 1)",
     "output_type": "error",
     "traceback": [
      "\u001b[1;36m  File \u001b[1;32m\"<ipython-input-339-029d35385294>\"\u001b[1;36m, line \u001b[1;32m1\u001b[0m\n\u001b[1;33m    TypeError: loop of ufunc does not support argument 0 of type float which has no callable log method\u001b[0m\n\u001b[1;37m                    ^\u001b[0m\n\u001b[1;31mSyntaxError\u001b[0m\u001b[1;31m:\u001b[0m invalid syntax\n"
     ]
    }
   ],
   "source": [
    "TypeError: loop of ufunc does not support argument 0 of type float which has no callable log method\n"
   ]
  },
  {
   "cell_type": "code",
   "execution_count": 280,
   "metadata": {},
   "outputs": [
    {
     "data": {
      "text/plain": [
       "<AxesSubplot:>"
      ]
     },
     "execution_count": 280,
     "metadata": {},
     "output_type": "execute_result"
    },
    {
     "data": {
      "image/png": "[encoded data removed]",
      "text/plain": [
       "<Figure size 432x288 with 1 Axes>"
      ]
     },
     "metadata": {
      "needs_background": "light"
     },
     "output_type": "display_data"
    }
   ],
   "source": [
    "df_chrun.age.hist(bins = 20)"
   ]
  },
  {
   "cell_type": "code",
   "execution_count": 281,
   "metadata": {},
   "outputs": [
    {
     "data": {
      "text/html": [
       "<div>\n",
       "<style scoped>\n",
       "    .dataframe tbody tr th:only-of-type {\n",
       "        vertical-align: middle;\n",
       "    }\n",
       "\n",
       "    .dataframe tbody tr th {\n",
       "        vertical-align: top;\n",
       "    }\n",
       "\n",
       "    .dataframe thead th {\n",
       "        text-align: right;\n",
       "    }\n",
       "</style>\n",
       "<table border=\"1\" class=\"dataframe\">\n",
       "  <thead>\n",
       "    <tr style=\"text-align: right;\">\n",
       "      <th></th>\n",
       "      <th>first_payment_amount</th>\n",
       "      <th>age</th>\n",
       "      <th>number_of_cards</th>\n",
       "      <th>payments_initiated</th>\n",
       "      <th>payments_failed</th>\n",
       "      <th>payments_completed</th>\n",
       "      <th>payments_completed_amount_first_7days</th>\n",
       "      <th>reward_purchase_count_first_7days</th>\n",
       "      <th>coins_redeemed_first_7days</th>\n",
       "      <th>visits_feature_1</th>\n",
       "      <th>visits_feature_2</th>\n",
       "    </tr>\n",
       "  </thead>\n",
       "  <tbody>\n",
       "    <tr>\n",
       "      <th>0</th>\n",
       "      <td>-0.105361</td>\n",
       "      <td>2.995732</td>\n",
       "      <td>0.693147</td>\n",
       "      <td>0.000000</td>\n",
       "      <td>-0.105361</td>\n",
       "      <td>0.000000</td>\n",
       "      <td>-0.105361</td>\n",
       "      <td>-0.105361</td>\n",
       "      <td>-0.105361</td>\n",
       "      <td>0.000000</td>\n",
       "      <td>-0.105361</td>\n",
       "    </tr>\n",
       "    <tr>\n",
       "      <th>1</th>\n",
       "      <td>-0.105361</td>\n",
       "      <td>2.995732</td>\n",
       "      <td>0.000000</td>\n",
       "      <td>0.000000</td>\n",
       "      <td>-0.105361</td>\n",
       "      <td>0.000000</td>\n",
       "      <td>-0.105361</td>\n",
       "      <td>-0.105361</td>\n",
       "      <td>-0.105361</td>\n",
       "      <td>-0.105361</td>\n",
       "      <td>-0.105361</td>\n",
       "    </tr>\n",
       "    <tr>\n",
       "      <th>2</th>\n",
       "      <td>-0.105361</td>\n",
       "      <td>2.995732</td>\n",
       "      <td>0.000000</td>\n",
       "      <td>0.693147</td>\n",
       "      <td>0.000000</td>\n",
       "      <td>0.000000</td>\n",
       "      <td>-0.105361</td>\n",
       "      <td>-0.105361</td>\n",
       "      <td>-0.105361</td>\n",
       "      <td>-0.105361</td>\n",
       "      <td>-0.105361</td>\n",
       "    </tr>\n",
       "    <tr>\n",
       "      <th>3</th>\n",
       "      <td>-0.105361</td>\n",
       "      <td>2.995732</td>\n",
       "      <td>0.693147</td>\n",
       "      <td>1.386294</td>\n",
       "      <td>0.000000</td>\n",
       "      <td>0.693147</td>\n",
       "      <td>5.379897</td>\n",
       "      <td>0.693147</td>\n",
       "      <td>2.995732</td>\n",
       "      <td>-0.105361</td>\n",
       "      <td>-0.105361</td>\n",
       "    </tr>\n",
       "    <tr>\n",
       "      <th>4</th>\n",
       "      <td>-0.105361</td>\n",
       "      <td>2.995732</td>\n",
       "      <td>0.693147</td>\n",
       "      <td>0.000000</td>\n",
       "      <td>-0.105361</td>\n",
       "      <td>0.000000</td>\n",
       "      <td>-0.105361</td>\n",
       "      <td>-0.105361</td>\n",
       "      <td>-0.105361</td>\n",
       "      <td>-0.105361</td>\n",
       "      <td>0.000000</td>\n",
       "    </tr>\n",
       "  </tbody>\n",
       "</table>\n",
       "</div>"
      ],
      "text/plain": [
       "   first_payment_amount       age  number_of_cards  payments_initiated  \\\n",
       "0             -0.105361  2.995732         0.693147            0.000000   \n",
       "1             -0.105361  2.995732         0.000000            0.000000   \n",
       "2             -0.105361  2.995732         0.000000            0.693147   \n",
       "3             -0.105361  2.995732         0.693147            1.386294   \n",
       "4             -0.105361  2.995732         0.693147            0.000000   \n",
       "\n",
       "   payments_failed  payments_completed  payments_completed_amount_first_7days  \\\n",
       "0        -0.105361            0.000000                              -0.105361   \n",
       "1        -0.105361            0.000000                              -0.105361   \n",
       "2         0.000000            0.000000                              -0.105361   \n",
       "3         0.000000            0.693147                               5.379897   \n",
       "4        -0.105361            0.000000                              -0.105361   \n",
       "\n",
       "   reward_purchase_count_first_7days  coins_redeemed_first_7days  \\\n",
       "0                          -0.105361                   -0.105361   \n",
       "1                          -0.105361                   -0.105361   \n",
       "2                          -0.105361                   -0.105361   \n",
       "3                           0.693147                    2.995732   \n",
       "4                          -0.105361                   -0.105361   \n",
       "\n",
       "   visits_feature_1  visits_feature_2  \n",
       "0          0.000000         -0.105361  \n",
       "1         -0.105361         -0.105361  \n",
       "2         -0.105361         -0.105361  \n",
       "3         -0.105361         -0.105361  \n",
       "4         -0.105361          0.000000  "
      ]
     },
     "execution_count": 281,
     "metadata": {},
     "output_type": "execute_result"
    }
   ],
   "source": [
    "df_chrun.head()"
   ]
  },
  {
   "cell_type": "code",
   "execution_count": 282,
   "metadata": {},
   "outputs": [],
   "source": [
    "scaler = StandardScaler()\n",
    "scaled_features = scaler.fit_transform(df_chrun)"
   ]
  },
  {
   "cell_type": "code",
   "execution_count": 285,
   "metadata": {},
   "outputs": [
    {
     "ename": "TypeError",
     "evalue": "unhashable type: 'numpy.ndarray'",
     "output_type": "error",
     "traceback": [
      "\u001b[1;31m---------------------------------------------------------------------------\u001b[0m",
      "\u001b[1;31mTypeError\u001b[0m                                 Traceback (most recent call last)",
      "\u001b[1;32m<ipython-input-285-1ee9a7cdf8fe>\u001b[0m in \u001b[0;36m<module>\u001b[1;34m\u001b[0m\n\u001b[1;32m----> 1\u001b[1;33m \u001b[0mpd\u001b[0m\u001b[1;33m.\u001b[0m\u001b[0mDataFrame\u001b[0m\u001b[1;33m(\u001b[0m\u001b[1;33m{\u001b[0m\u001b[0mscaled_features\u001b[0m\u001b[1;33m}\u001b[0m\u001b[1;33m)\u001b[0m\u001b[1;33m\u001b[0m\u001b[1;33m\u001b[0m\u001b[0m\n\u001b[0m",
      "\u001b[1;31mTypeError\u001b[0m: unhashable type: 'numpy.ndarray'"
     ]
    }
   ],
   "source": [
    "pd.DataFrame({scaled_features})"
   ]
  },
  {
   "cell_type": "code",
   "execution_count": 331,
   "metadata": {},
   "outputs": [],
   "source": [
    "kmeans = KMeans(\n",
    "    init=\"random\",\n",
    "    n_clusters=7,\n",
    "    n_init=10,\n",
    "    max_iter=300,\n",
    "    random_state=42\n",
    ")"
   ]
  },
  {
   "cell_type": "code",
   "execution_count": 332,
   "metadata": {},
   "outputs": [
    {
     "data": {
      "text/plain": [
       "KMeans(init='random', n_clusters=7, random_state=42)"
      ]
     },
     "execution_count": 332,
     "metadata": {},
     "output_type": "execute_result"
    }
   ],
   "source": [
    "kmeans.fit(scaled_features)"
   ]
  },
  {
   "cell_type": "code",
   "execution_count": 333,
   "metadata": {},
   "outputs": [
    {
     "data": {
      "text/plain": [
       "array([6, 1, 1, ..., 6, 4, 6])"
      ]
     },
     "execution_count": 333,
     "metadata": {},
     "output_type": "execute_result"
    }
   ],
   "source": [
    "kmeans.labels_"
   ]
  },
  {
   "cell_type": "code",
   "execution_count": 334,
   "metadata": {},
   "outputs": [
    {
     "data": {
      "text/plain": [
       "6"
      ]
     },
     "execution_count": 334,
     "metadata": {},
     "output_type": "execute_result"
    }
   ],
   "source": [
    "max(kmeans.labels_)"
   ]
  },
  {
   "cell_type": "code",
   "execution_count": null,
   "metadata": {},
   "outputs": [],
   "source": [
    "# Nice Pythonic way to get the indices of the points for each corresponding cluster\n",
    "mydict = {i: np.where(clf.labels_ == i)[0] for i in range(clf.n_clusters)}\n",
    "\n",
    "# Transform this dictionary into list (if you need a list as result)\n",
    "dictlist = []\n",
    "for key, value in mydict.iteritems():\n",
    "    temp = [key,value]\n",
    "    dictlist.append(temp)"
   ]
  },
  {
   "cell_type": "code",
   "execution_count": 305,
   "metadata": {},
   "outputs": [],
   "source": [
    "kmeans_kwargs = {\n",
    "    \"init\": \"random\",\n",
    "    \"n_init\": 10,\n",
    "    \"max_iter\": 300,\n",
    "    \"random_state\": 42,\n",
    "}\n",
    "\n",
    "# A list holds the SSE values for each k\n",
    "sse = []\n",
    "for k in range(1, 11):\n",
    "    kmeans = KMeans(n_clusters=k, **kmeans_kwargs)\n",
    "    kmeans.fit(scaled_features)\n",
    "    sse.append(kmeans.inertia_)"
   ]
  },
  {
   "cell_type": "code",
   "execution_count": 306,
   "metadata": {},
   "outputs": [
    {
     "data": {
      "image/png": "[encoded data removed]",
      "text/plain": [
       "<Figure size 432x288 with 1 Axes>"
      ]
     },
     "metadata": {},
     "output_type": "display_data"
    }
   ],
   "source": [
    "plt.style.use(\"fivethirtyeight\")\n",
    "plt.plot(range(1, 11), sse)\n",
    "plt.xticks(range(1, 11))\n",
    "plt.xlabel(\"Number of Clusters\")\n",
    "plt.ylabel(\"SSE\")\n",
    "plt.show()"
   ]
  },
  {
   "cell_type": "code",
   "execution_count": 317,
   "metadata": {},
   "outputs": [],
   "source": [
    "predict=kmeans.predict(scaled_features)"
   ]
  },
  {
   "cell_type": "code",
   "execution_count": 319,
   "metadata": {},
   "outputs": [],
   "source": [
    "df_chrun['segment_new'] = pd.Series(predict, index=df_chrun.index)\n"
   ]
  },
  {
   "cell_type": "code",
   "execution_count": 320,
   "metadata": {},
   "outputs": [
    {
     "data": {
      "text/html": [
       "<div>\n",
       "<style scoped>\n",
       "    .dataframe tbody tr th:only-of-type {\n",
       "        vertical-align: middle;\n",
       "    }\n",
       "\n",
       "    .dataframe tbody tr th {\n",
       "        vertical-align: top;\n",
       "    }\n",
       "\n",
       "    .dataframe thead th {\n",
       "        text-align: right;\n",
       "    }\n",
       "</style>\n",
       "<table border=\"1\" class=\"dataframe\">\n",
       "  <thead>\n",
       "    <tr style=\"text-align: right;\">\n",
       "      <th></th>\n",
       "      <th>device</th>\n",
       "      <th>first_payment_amount</th>\n",
       "      <th>age</th>\n",
       "      <th>city</th>\n",
       "      <th>number_of_cards</th>\n",
       "      <th>payments_initiated</th>\n",
       "      <th>payments_failed</th>\n",
       "      <th>payments_completed</th>\n",
       "      <th>payments_completed_amount_first_7days</th>\n",
       "      <th>reward_purchase_count_first_7days</th>\n",
       "      <th>...</th>\n",
       "      <th>is_referral</th>\n",
       "      <th>visits_feature_1</th>\n",
       "      <th>visits_feature_2</th>\n",
       "      <th>given_permission_1</th>\n",
       "      <th>given_permission_2</th>\n",
       "      <th>user_id</th>\n",
       "      <th>is_churned</th>\n",
       "      <th>new_segment_kmeans</th>\n",
       "      <th>segment_heuristic</th>\n",
       "      <th>segment_new</th>\n",
       "    </tr>\n",
       "  </thead>\n",
       "  <tbody>\n",
       "    <tr>\n",
       "      <th>0</th>\n",
       "      <td>samsung</td>\n",
       "      <td>0</td>\n",
       "      <td>20.0</td>\n",
       "      <td>Ahmedabad</td>\n",
       "      <td>2.0</td>\n",
       "      <td>1.0</td>\n",
       "      <td>0.0</td>\n",
       "      <td>1.0</td>\n",
       "      <td>0.0</td>\n",
       "      <td>NaN</td>\n",
       "      <td>...</td>\n",
       "      <td>False</td>\n",
       "      <td>3.0</td>\n",
       "      <td>0.0</td>\n",
       "      <td>1</td>\n",
       "      <td>0</td>\n",
       "      <td>269438</td>\n",
       "      <td>0</td>\n",
       "      <td>4</td>\n",
       "      <td>no_chrun_no_first_payment_payment_2</td>\n",
       "      <td>4</td>\n",
       "    </tr>\n",
       "    <tr>\n",
       "      <th>1</th>\n",
       "      <td>xiaomi</td>\n",
       "      <td>0</td>\n",
       "      <td>20.0</td>\n",
       "      <td>Surat</td>\n",
       "      <td>1.0</td>\n",
       "      <td>1.0</td>\n",
       "      <td>0.0</td>\n",
       "      <td>1.0</td>\n",
       "      <td>0.0</td>\n",
       "      <td>NaN</td>\n",
       "      <td>...</td>\n",
       "      <td>True</td>\n",
       "      <td>0.0</td>\n",
       "      <td>0.0</td>\n",
       "      <td>1</td>\n",
       "      <td>0</td>\n",
       "      <td>139521</td>\n",
       "      <td>0</td>\n",
       "      <td>2</td>\n",
       "      <td>no_chrun_no_first_payment_payment_2</td>\n",
       "      <td>2</td>\n",
       "    </tr>\n",
       "    <tr>\n",
       "      <th>2</th>\n",
       "      <td>xiaomi</td>\n",
       "      <td>0</td>\n",
       "      <td>20.0</td>\n",
       "      <td>Kullu</td>\n",
       "      <td>1.0</td>\n",
       "      <td>2.0</td>\n",
       "      <td>1.0</td>\n",
       "      <td>1.0</td>\n",
       "      <td>0.0</td>\n",
       "      <td>0.0</td>\n",
       "      <td>...</td>\n",
       "      <td>True</td>\n",
       "      <td>0.0</td>\n",
       "      <td>0.0</td>\n",
       "      <td>0</td>\n",
       "      <td>1</td>\n",
       "      <td>307352</td>\n",
       "      <td>0</td>\n",
       "      <td>2</td>\n",
       "      <td>no_chrun_no_first_payment_payment_2</td>\n",
       "      <td>2</td>\n",
       "    </tr>\n",
       "    <tr>\n",
       "      <th>3</th>\n",
       "      <td>oneplus</td>\n",
       "      <td>0</td>\n",
       "      <td>20.0</td>\n",
       "      <td>Mumbai</td>\n",
       "      <td>2.0</td>\n",
       "      <td>4.0</td>\n",
       "      <td>1.0</td>\n",
       "      <td>2.0</td>\n",
       "      <td>322.0</td>\n",
       "      <td>2.0</td>\n",
       "      <td>...</td>\n",
       "      <td>False</td>\n",
       "      <td>0.0</td>\n",
       "      <td>0.0</td>\n",
       "      <td>1</td>\n",
       "      <td>1</td>\n",
       "      <td>456424</td>\n",
       "      <td>0</td>\n",
       "      <td>9</td>\n",
       "      <td>no_chrun_no_first_payment_payment_2</td>\n",
       "      <td>9</td>\n",
       "    </tr>\n",
       "    <tr>\n",
       "      <th>4</th>\n",
       "      <td>apple</td>\n",
       "      <td>0</td>\n",
       "      <td>20.0</td>\n",
       "      <td>Pune</td>\n",
       "      <td>2.0</td>\n",
       "      <td>1.0</td>\n",
       "      <td>0.0</td>\n",
       "      <td>1.0</td>\n",
       "      <td>0.0</td>\n",
       "      <td>0.0</td>\n",
       "      <td>...</td>\n",
       "      <td>False</td>\n",
       "      <td>0.0</td>\n",
       "      <td>1.0</td>\n",
       "      <td>1</td>\n",
       "      <td>1</td>\n",
       "      <td>398779</td>\n",
       "      <td>0</td>\n",
       "      <td>8</td>\n",
       "      <td>no_chrun_no_first_payment_payment_2</td>\n",
       "      <td>8</td>\n",
       "    </tr>\n",
       "  </tbody>\n",
       "</table>\n",
       "<p>5 rows × 21 columns</p>\n",
       "</div>"
      ],
      "text/plain": [
       "    device  first_payment_amount   age       city  number_of_cards  \\\n",
       "0  samsung                     0  20.0  Ahmedabad              2.0   \n",
       "1   xiaomi                     0  20.0      Surat              1.0   \n",
       "2   xiaomi                     0  20.0      Kullu              1.0   \n",
       "3  oneplus                     0  20.0     Mumbai              2.0   \n",
       "4    apple                     0  20.0       Pune              2.0   \n",
       "\n",
       "   payments_initiated  payments_failed  payments_completed  \\\n",
       "0                 1.0              0.0                 1.0   \n",
       "1                 1.0              0.0                 1.0   \n",
       "2                 2.0              1.0                 1.0   \n",
       "3                 4.0              1.0                 2.0   \n",
       "4                 1.0              0.0                 1.0   \n",
       "\n",
       "   payments_completed_amount_first_7days  reward_purchase_count_first_7days  \\\n",
       "0                                    0.0                                NaN   \n",
       "1                                    0.0                                NaN   \n",
       "2                                    0.0                                0.0   \n",
       "3                                  322.0                                2.0   \n",
       "4                                    0.0                                0.0   \n",
       "\n",
       "   ...  is_referral  visits_feature_1  visits_feature_2  given_permission_1  \\\n",
       "0  ...        False               3.0               0.0                   1   \n",
       "1  ...         True               0.0               0.0                   1   \n",
       "2  ...         True               0.0               0.0                   0   \n",
       "3  ...        False               0.0               0.0                   1   \n",
       "4  ...        False               0.0               1.0                   1   \n",
       "\n",
       "   given_permission_2  user_id  is_churned  new_segment_kmeans  \\\n",
       "0                   0   269438           0                   4   \n",
       "1                   0   139521           0                   2   \n",
       "2                   1   307352           0                   2   \n",
       "3                   1   456424           0                   9   \n",
       "4                   1   398779           0                   8   \n",
       "\n",
       "                     segment_heuristic segment_new  \n",
       "0  no_chrun_no_first_payment_payment_2           4  \n",
       "1  no_chrun_no_first_payment_payment_2           2  \n",
       "2  no_chrun_no_first_payment_payment_2           2  \n",
       "3  no_chrun_no_first_payment_payment_2           9  \n",
       "4  no_chrun_no_first_payment_payment_2           8  \n",
       "\n",
       "[5 rows x 21 columns]"
      ]
     },
     "execution_count": 320,
     "metadata": {},
     "output_type": "execute_result"
    }
   ],
   "source": [
    "df_chrun.head()"
   ]
  },
  {
   "cell_type": "code",
   "execution_count": 335,
   "metadata": {},
   "outputs": [],
   "source": [
    "df_chrun[\"new_segment_kmeans\"] = kmeans.labels_"
   ]
  },
  {
   "cell_type": "code",
   "execution_count": 313,
   "metadata": {},
   "outputs": [],
   "source": [
    "## Final Segments\n",
    "df_chrun[\"segment_heuristic\"] = np.where(((df_chrun.is_churned == 1) & (df_chrun.first_payment_amount == 0 | df_chrun.first_payment_amount.isna() )) \n",
    "                               ,\"chrun_no_first_payment\", \n",
    "                               np.where(((df_chrun.is_churned == 1) & (df_chrun.first_payment_amount > 0)  & (df_chrun.is_referral == False) ) \n",
    "                               ,\"chrun_first_payment_n0_refer\", \n",
    "                                np.where(((df_chrun.is_churned == 0) & ((df_chrun.payments_completed >2)   | (df_chrun.first_payment_amount == 0 | df_chrun.first_payment_amount.isna() ))) \n",
    "                               ,\"no_chrun_no_first_payment_payment_2\", \n",
    "                                np.where(((df_chrun.is_churned == 0) & (df_chrun.first_payment_amount >0  ) & (df_chrun.payments_completed == 1  ) & (df_chrun.is_referral == True)) \n",
    "                               ,\"no_chrun_first_payment_only_payment_referral\",                                 \n",
    "                               np.where(((df_chrun.is_churned == 1) & (df_chrun.first_payment_amount > 0)  & (df_chrun.is_referral == True)) \n",
    "                               ,\"chrun_first_payment_refer\", \n",
    "                               np.where(((df_chrun.is_churned == 0) & \n",
    "                                        ((df_chrun.reward_purchase_count_first_7days == 0) | (df_chrun.reward_purchase_count_first_7days.isna()) |\n",
    "                                         (df_chrun.coins_redeemed_first_7days == 0) | (df_chrun.coins_redeemed_first_7days.isna()))) \n",
    "                               ,\"no_chrun_first_payment_no_coins_rewards\", \n",
    "                               np.where(((df_chrun.is_churned == 0) & (df_chrun.first_payment_amount > 0)  &\n",
    "                                         ((df_chrun.visits_feature_1 == 0 | df_chrun.visits_feature_1.isnull()) &\n",
    "                                          (df_chrun.visits_feature_2 == 0 | df_chrun.visits_feature_2.isnull())) &\n",
    "                                        ((df_chrun.reward_purchase_count_first_7days > 0) | (df_chrun.coins_redeemed_first_7days > 0))) \n",
    "                               ,\"no_chrun_first_paymen_coins_rewards_no_feature\", \"no_chrun_first_paymen_coins_rewards_good_feature\")))))))"
   ]
  },
  {
   "cell_type": "code",
   "execution_count": 337,
   "metadata": {},
   "outputs": [
    {
     "data": {
      "text/html": [
       "<div>\n",
       "<style scoped>\n",
       "    .dataframe tbody tr th:only-of-type {\n",
       "        vertical-align: middle;\n",
       "    }\n",
       "\n",
       "    .dataframe tbody tr th {\n",
       "        vertical-align: top;\n",
       "    }\n",
       "\n",
       "    .dataframe thead th {\n",
       "        text-align: right;\n",
       "    }\n",
       "</style>\n",
       "<table border=\"1\" class=\"dataframe\">\n",
       "  <thead>\n",
       "    <tr style=\"text-align: right;\">\n",
       "      <th></th>\n",
       "      <th>user_id</th>\n",
       "    </tr>\n",
       "    <tr>\n",
       "      <th>segment_heuristic</th>\n",
       "      <th></th>\n",
       "    </tr>\n",
       "  </thead>\n",
       "  <tbody>\n",
       "    <tr>\n",
       "      <th>chrun_first_payment_n0_refer</th>\n",
       "      <td>10926</td>\n",
       "    </tr>\n",
       "    <tr>\n",
       "      <th>chrun_first_payment_refer</th>\n",
       "      <td>8483</td>\n",
       "    </tr>\n",
       "    <tr>\n",
       "      <th>chrun_no_first_payment</th>\n",
       "      <td>10460</td>\n",
       "    </tr>\n",
       "    <tr>\n",
       "      <th>no_chrun_first_paymen_coins_rewards_good_feature</th>\n",
       "      <td>7877</td>\n",
       "    </tr>\n",
       "    <tr>\n",
       "      <th>no_chrun_first_paymen_coins_rewards_no_feature</th>\n",
       "      <td>18117</td>\n",
       "    </tr>\n",
       "    <tr>\n",
       "      <th>no_chrun_first_payment_no_coins_rewards</th>\n",
       "      <td>14837</td>\n",
       "    </tr>\n",
       "    <tr>\n",
       "      <th>no_chrun_first_payment_only_payment_referral</th>\n",
       "      <td>15664</td>\n",
       "    </tr>\n",
       "    <tr>\n",
       "      <th>no_chrun_no_first_payment_payment_2</th>\n",
       "      <td>17779</td>\n",
       "    </tr>\n",
       "  </tbody>\n",
       "</table>\n",
       "</div>"
      ],
      "text/plain": [
       "                                                  user_id\n",
       "segment_heuristic                                        \n",
       "chrun_first_payment_n0_refer                        10926\n",
       "chrun_first_payment_refer                            8483\n",
       "chrun_no_first_payment                              10460\n",
       "no_chrun_first_paymen_coins_rewards_good_feature     7877\n",
       "no_chrun_first_paymen_coins_rewards_no_feature      18117\n",
       "no_chrun_first_payment_no_coins_rewards             14837\n",
       "no_chrun_first_payment_only_payment_referral        15664\n",
       "no_chrun_no_first_payment_payment_2                 17779"
      ]
     },
     "execution_count": 337,
     "metadata": {},
     "output_type": "execute_result"
    }
   ],
   "source": [
    "df_chrun.groupby([\"segment_heuristic\"]).agg({\"user_id\" : \"count\"}).sort_values(by = \"segment_heuristic\")"
   ]
  },
  {
   "cell_type": "code",
   "execution_count": 336,
   "metadata": {},
   "outputs": [
    {
     "data": {
      "text/html": [
       "<div>\n",
       "<style scoped>\n",
       "    .dataframe tbody tr th:only-of-type {\n",
       "        vertical-align: middle;\n",
       "    }\n",
       "\n",
       "    .dataframe tbody tr th {\n",
       "        vertical-align: top;\n",
       "    }\n",
       "\n",
       "    .dataframe thead th {\n",
       "        text-align: right;\n",
       "    }\n",
       "</style>\n",
       "<table border=\"1\" class=\"dataframe\">\n",
       "  <thead>\n",
       "    <tr style=\"text-align: right;\">\n",
       "      <th></th>\n",
       "      <th>user_id</th>\n",
       "    </tr>\n",
       "    <tr>\n",
       "      <th>new_segment_kmeans</th>\n",
       "      <th></th>\n",
       "    </tr>\n",
       "  </thead>\n",
       "  <tbody>\n",
       "    <tr>\n",
       "      <th>0</th>\n",
       "      <td>9417</td>\n",
       "    </tr>\n",
       "    <tr>\n",
       "      <th>1</th>\n",
       "      <td>24884</td>\n",
       "    </tr>\n",
       "    <tr>\n",
       "      <th>2</th>\n",
       "      <td>23636</td>\n",
       "    </tr>\n",
       "    <tr>\n",
       "      <th>3</th>\n",
       "      <td>8454</td>\n",
       "    </tr>\n",
       "    <tr>\n",
       "      <th>4</th>\n",
       "      <td>14644</td>\n",
       "    </tr>\n",
       "    <tr>\n",
       "      <th>5</th>\n",
       "      <td>13920</td>\n",
       "    </tr>\n",
       "    <tr>\n",
       "      <th>6</th>\n",
       "      <td>9188</td>\n",
       "    </tr>\n",
       "  </tbody>\n",
       "</table>\n",
       "</div>"
      ],
      "text/plain": [
       "                    user_id\n",
       "new_segment_kmeans         \n",
       "0                      9417\n",
       "1                     24884\n",
       "2                     23636\n",
       "3                      8454\n",
       "4                     14644\n",
       "5                     13920\n",
       "6                      9188"
      ]
     },
     "execution_count": 336,
     "metadata": {},
     "output_type": "execute_result"
    }
   ],
   "source": [
    "df_chrun.groupby([\"new_segment_kmeans\"]).agg({\"user_id\" : \"count\"}).sort_values(by = \"new_segment_kmeans\")"
   ]
  },
  {
   "cell_type": "code",
   "execution_count": 338,
   "metadata": {},
   "outputs": [],
   "source": [
    "df_chrun.to_csv(\"clustered.csv\")"
   ]
  },
  {
   "cell_type": "markdown",
   "metadata": {},
   "source": [
    "### Problems to be tackled in Kmeans"
   ]
  },
  {
   "cell_type": "markdown",
   "metadata": {},
   "source": [
    "1. [Heavy 0 values](https://datascience.stackexchange.com/questions/66892/how-to-deal-with-with-rows-with-zero-in-every-feature-while-clustering)\n",
    "2. how to deal with categorical values\n",
    "3. How to cap outlier based on thresholds and data percentage\n",
    "4. Can you do quantiles instead of log tranformation\n",
    "5. [google demo clustering data prep](https://developers.google.com/machine-learning/clustering/prepare-data)\n",
    "6. [DO some understanding here](https://jakevdp.github.io/PythonDataScienceHandbook/05.11-k-means.html)\n",
    "7. [to do](https://realpython.com/k-means-clustering-python/)"
   ]
  },
  {
   "cell_type": "markdown",
   "metadata": {},
   "source": [
    "1. Based on differnt thresholds plot histogram and spread. \n",
    "2. "
   ]
  },
  {
   "cell_type": "code",
   "execution_count": null,
   "metadata": {},
   "outputs": [],
   "source": []
  }
 ],
 "metadata": {
  "kernelspec": {
   "display_name": "Python 3",
   "language": "python",
   "name": "python3"
  },
  "language_info": {
   "codemirror_mode": {
    "name": "ipython",
    "version": 3
   },
   "file_extension": ".py",
   "mimetype": "text/x-python",
   "name": "python",
   "nbconvert_exporter": "python",
   "pygments_lexer": "ipython3",
   "version": "3.8.5"
  }
 },
 "nbformat": 4,
 "nbformat_minor": 4
}
