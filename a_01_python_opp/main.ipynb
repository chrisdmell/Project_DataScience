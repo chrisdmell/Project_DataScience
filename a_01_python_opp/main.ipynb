{
 "cells": [
  {
   "cell_type": "markdown",
   "metadata": {},
   "source": [
    "[Python OOP](https://www.programiz.com/python-programming/object-oriented-programming)"
   ]
  },
  {
   "cell_type": "markdown",
   "metadata": {},
   "source": [
    "[Complete OOP tutorials](https://github.com/arvimal/Python-and-OOP)"
   ]
  },
  {
   "cell_type": "markdown",
   "metadata": {},
   "source": [
    "[OPP textbook](https://github.com/PacktPublishing/Python-3-Object-Oriented-Programming-Third-Edition)"
   ]
  },
  {
   "cell_type": "markdown",
   "metadata": {},
   "source": [
    "[data structure and algo](https://github.com/riju18/dataStructure_algo)"
   ]
  },
  {
   "cell_type": "markdown",
   "metadata": {},
   "source": [
    "[hacker-rank](https://www.hackerrank.com/challenges/python-loops/problem)"
   ]
  },
  {
   "cell_type": "markdown",
   "metadata": {},
   "source": [
    "[corey shaufer 1-6 OOP tutorials](https://www.youtube.com/watch?v=ZDa-Z5JzLYM&list=PL-osiE80TeTsqhIuOqKhwlXsIBIdSeYtc)"
   ]
  },
  {
   "cell_type": "markdown",
   "metadata": {},
   "source": [
    "[Some more OOP examples](https://gist.github.com/mdang/1f590a8c01acf520c88960953c963825)"
   ]
  },
  {
   "cell_type": "markdown",
   "metadata": {},
   "source": []
  },
  {
   "cell_type": "markdown",
   "metadata": {},
   "source": [
    "20210608 - [Current notebook OOP videos](https://www.youtube.com/watch?v=pnWINBJ3-yA&list=PL98qAXLA6afscIXQNuMl9zGHD9hJTuvQe)"
   ]
  },
  {
   "cell_type": "markdown",
   "metadata": {},
   "source": [
    "> While working with objects variables are called ATTRIBUTES and functions are called METHODS"
   ]
  },
  {
   "cell_type": "code",
   "execution_count": 6,
   "metadata": {},
   "outputs": [],
   "source": [
    "class Student:\n",
    "    '''\n",
    "    class cannot be empty\n",
    "    '''\n",
    "    pass"
   ]
  },
  {
   "cell_type": "code",
   "execution_count": 8,
   "metadata": {},
   "outputs": [],
   "source": [
    "student1 = Student()\n",
    "student1.name = 'harry'\n",
    "student1.marks = 85\n",
    "## we have created attributes of namely name and marks here"
   ]
  },
  {
   "cell_type": "code",
   "execution_count": 9,
   "metadata": {},
   "outputs": [
    {
     "name": "stdout",
     "output_type": "stream",
     "text": [
      "harry\n",
      "85\n"
     ]
    }
   ],
   "source": [
    "print(student1.name)\n",
    "print(student1.marks)"
   ]
  },
  {
   "cell_type": "markdown",
   "metadata": {},
   "source": [
    "__student1 is the object of the class Student__"
   ]
  },
  {
   "cell_type": "markdown",
   "metadata": {},
   "source": [
    ">This isnt the right way to define attributes to a object. "
   ]
  },
  {
   "cell_type": "markdown",
   "metadata": {},
   "source": [
    "> Student1 is an object here. "
   ]
  },
  {
   "cell_type": "code",
   "execution_count": 13,
   "metadata": {},
   "outputs": [],
   "source": [
    "class Student:\n",
    "    '''\n",
    "    Object for a student\n",
    "    '''\n",
    "    \n",
    "    def check_pass_fail(self):\n",
    "        '''\n",
    "        Validate if student has passed or failed\n",
    "        '''\n",
    "        if self.marks >  40:\n",
    "            return True\n",
    "        else:\n",
    "            return False"
   ]
  },
  {
   "cell_type": "markdown",
   "metadata": {},
   "source": [
    "__SELF - this self tell that, the object itself is an input. As in student1.check_pass_fail(student1) - instead of writing it this way, we pass self in the method.__"
   ]
  },
  {
   "cell_type": "code",
   "execution_count": 14,
   "metadata": {},
   "outputs": [
    {
     "ename": "AttributeError",
     "evalue": "'Student' object has no attribute 'check_pass_fail'",
     "output_type": "error",
     "traceback": [
      "\u001b[1;31m---------------------------------------------------------------------------\u001b[0m",
      "\u001b[1;31mAttributeError\u001b[0m                            Traceback (most recent call last)",
      "\u001b[1;32m<ipython-input-14-eb1e51d5bf70>\u001b[0m in \u001b[0;36m<module>\u001b[1;34m\u001b[0m\n\u001b[1;32m----> 1\u001b[1;33m \u001b[0mdid_student_pass\u001b[0m \u001b[1;33m=\u001b[0m \u001b[0mstudent1\u001b[0m\u001b[1;33m.\u001b[0m\u001b[0mcheck_pass_fail\u001b[0m\u001b[1;33m(\u001b[0m\u001b[1;33m)\u001b[0m\u001b[1;33m\u001b[0m\u001b[1;33m\u001b[0m\u001b[0m\n\u001b[0m\u001b[0;32m      2\u001b[0m \u001b[0mdid_student_pass\u001b[0m\u001b[1;33m\u001b[0m\u001b[1;33m\u001b[0m\u001b[0m\n",
      "\u001b[1;31mAttributeError\u001b[0m: 'Student' object has no attribute 'check_pass_fail'"
     ]
    }
   ],
   "source": [
    "did_student_pass = student1.check_pass_fail()\n",
    "did_student_pass"
   ]
  },
  {
   "cell_type": "markdown",
   "metadata": {},
   "source": [
    "> As student1 is the object from the previous student class, it did not have the check_pass_fail method. "
   ]
  },
  {
   "cell_type": "code",
   "execution_count": 15,
   "metadata": {},
   "outputs": [],
   "source": [
    "student2 = Student()\n",
    "student2.name = 'james'\n",
    "student2.marks = 76\n",
    "## we have created attributes of namely name and marks here"
   ]
  },
  {
   "cell_type": "code",
   "execution_count": 17,
   "metadata": {},
   "outputs": [
    {
     "data": {
      "text/plain": [
       "True"
      ]
     },
     "execution_count": 17,
     "metadata": {},
     "output_type": "execute_result"
    }
   ],
   "source": [
    "did_student_pass = student2.check_pass_fail()\n",
    "did_student_pass"
   ]
  },
  {
   "cell_type": "markdown",
   "metadata": {},
   "source": [
    ">Init"
   ]
  },
  {
   "cell_type": "code",
   "execution_count": 8,
   "metadata": {},
   "outputs": [],
   "source": [
    "class Student:\n",
    "    \n",
    "    def __init__(self, name, marks):\n",
    "        '''\n",
    "        '''\n",
    "        self.name  = name\n",
    "        self.marks = marks\n",
    "        \n",
    "    def check_pass_fail(self):\n",
    "        '''\n",
    "        every method will take the instance as the first argument\n",
    "        \n",
    "        '''\n",
    "        \n",
    "        if self.marks>40:\n",
    "            return True\n",
    "        else:\n",
    "            return False\n",
    "        "
   ]
  },
  {
   "cell_type": "code",
   "execution_count": 4,
   "metadata": {},
   "outputs": [
    {
     "ename": "TypeError",
     "evalue": "__init__() missing 2 required positional arguments: 'name' and 'marks'",
     "output_type": "error",
     "traceback": [
      "\u001b[1;31m---------------------------------------------------------------------------\u001b[0m",
      "\u001b[1;31mTypeError\u001b[0m                                 Traceback (most recent call last)",
      "\u001b[1;32m<ipython-input-4-13fff8f0a308>\u001b[0m in \u001b[0;36m<module>\u001b[1;34m\u001b[0m\n\u001b[1;32m----> 1\u001b[1;33m \u001b[0mStudent\u001b[0m\u001b[1;33m(\u001b[0m\u001b[1;33m)\u001b[0m\u001b[1;33m\u001b[0m\u001b[1;33m\u001b[0m\u001b[0m\n\u001b[0m",
      "\u001b[1;31mTypeError\u001b[0m: __init__() missing 2 required positional arguments: 'name' and 'marks'"
     ]
    }
   ],
   "source": [
    "Student()"
   ]
  },
  {
   "cell_type": "code",
   "execution_count": 9,
   "metadata": {},
   "outputs": [
    {
     "data": {
      "text/plain": [
       "False"
      ]
     },
     "execution_count": 9,
     "metadata": {},
     "output_type": "execute_result"
    }
   ],
   "source": [
    "student3 = Student(\"ram\", 39)\n",
    "student3.check_pass_fail()"
   ]
  },
  {
   "cell_type": "code",
   "execution_count": 30,
   "metadata": {},
   "outputs": [
    {
     "data": {
      "text/plain": [
       "<__main__.Student at 0x1d617011250>"
      ]
     },
     "execution_count": 30,
     "metadata": {},
     "output_type": "execute_result"
    }
   ],
   "source": [
    "student3"
   ]
  },
  {
   "cell_type": "code",
   "execution_count": 11,
   "metadata": {},
   "outputs": [
    {
     "data": {
      "text/plain": [
       "False"
      ]
     },
     "execution_count": 11,
     "metadata": {},
     "output_type": "execute_result"
    }
   ],
   "source": [
    "## We can run the check_pass_fail method in 2 ways. \n",
    "## ONE\n",
    "student3.check_pass_fail()\n",
    "\n",
    "## In the above code, the instance is passed as self in the check_pass_fail method"
   ]
  },
  {
   "cell_type": "code",
   "execution_count": 12,
   "metadata": {},
   "outputs": [
    {
     "data": {
      "text/plain": [
       "False"
      ]
     },
     "execution_count": 12,
     "metadata": {},
     "output_type": "execute_result"
    }
   ],
   "source": [
    "## We can run the check_pass_fail method in 2 ways. \n",
    "## TWO\n",
    "Student.check_pass_fail(student3)\n",
    "\n",
    "## we pass student to the method"
   ]
  },
  {
   "cell_type": "markdown",
   "metadata": {},
   "source": [
    "Let see for the class method what happens when we leave out the self argument"
   ]
  },
  {
   "cell_type": "code",
   "execution_count": 5,
   "metadata": {},
   "outputs": [],
   "source": [
    "class Student:\n",
    "    \n",
    "    def __init__(self, name, marks):\n",
    "        '''\n",
    "        '''\n",
    "        self.name  = name\n",
    "        self.marks = marks\n",
    "        \n",
    "    def check_pass_fail():\n",
    "        '''\n",
    "        every method will take the instance as the first argument\n",
    "        \n",
    "        '''\n",
    "        \n",
    "        if self.marks>40:\n",
    "            return True\n",
    "        else:\n",
    "            return False"
   ]
  },
  {
   "cell_type": "code",
   "execution_count": 6,
   "metadata": {},
   "outputs": [
    {
     "ename": "TypeError",
     "evalue": "check_pass_fail() takes 0 positional arguments but 1 was given",
     "output_type": "error",
     "traceback": [
      "\u001b[1;31m---------------------------------------------------------------------------\u001b[0m",
      "\u001b[1;31mTypeError\u001b[0m                                 Traceback (most recent call last)",
      "\u001b[1;32m<ipython-input-6-2c4c585d3313>\u001b[0m in \u001b[0;36m<module>\u001b[1;34m\u001b[0m\n\u001b[0;32m      1\u001b[0m \u001b[0mstudent3\u001b[0m \u001b[1;33m=\u001b[0m \u001b[0mStudent\u001b[0m\u001b[1;33m(\u001b[0m\u001b[1;34m\"ram\"\u001b[0m\u001b[1;33m,\u001b[0m \u001b[1;36m39\u001b[0m\u001b[1;33m)\u001b[0m\u001b[1;33m\u001b[0m\u001b[1;33m\u001b[0m\u001b[0m\n\u001b[1;32m----> 2\u001b[1;33m \u001b[0mstudent3\u001b[0m\u001b[1;33m.\u001b[0m\u001b[0mcheck_pass_fail\u001b[0m\u001b[1;33m(\u001b[0m\u001b[1;33m)\u001b[0m\u001b[1;33m\u001b[0m\u001b[1;33m\u001b[0m\u001b[0m\n\u001b[0m",
      "\u001b[1;31mTypeError\u001b[0m: check_pass_fail() takes 0 positional arguments but 1 was given"
     ]
    }
   ],
   "source": [
    "student3 = Student(\"ram\", 39)\n",
    "student3.check_pass_fail()"
   ]
  },
  {
   "cell_type": "markdown",
   "metadata": {},
   "source": [
    "_Whats happening here is that the check_pass_fail() is giving student3 as a parameter but in the defined class, there are 0 parameters._"
   ]
  },
  {
   "cell_type": "markdown",
   "metadata": {},
   "source": [
    "Add a complex number"
   ]
  },
  {
   "cell_type": "code",
   "execution_count": 22,
   "metadata": {},
   "outputs": [],
   "source": [
    "class Complex:\n",
    "    '''\n",
    "    '''\n",
    "    \n",
    "    def __init__(self, real,img):\n",
    "        '''\n",
    "        what is init??\n",
    "        '''\n",
    "        self.real = real\n",
    "        self.img  = img\n",
    "        \n",
    "    def add(self, another_number):\n",
    "        '''\n",
    "        Add two imaginary numbers\n",
    "        '''\n",
    "        real_part = self.real +  another_number.real\n",
    "        img_part  = self.img + another_number.img\n",
    "        \n",
    "        out = Complex(real_part, img_part)\n",
    "        \n",
    "        return out"
   ]
  },
  {
   "cell_type": "code",
   "execution_count": 24,
   "metadata": {},
   "outputs": [
    {
     "data": {
      "text/plain": [
       "<__main__.Complex at 0x1d617011b50>"
      ]
     },
     "metadata": {},
     "output_type": "display_data"
    }
   ],
   "source": [
    "n1 = Complex(3,4)\n",
    "n2 = Complex(6,1)\n",
    "\n",
    "display(n1.add(n2))"
   ]
  },
  {
   "cell_type": "code",
   "execution_count": 29,
   "metadata": {},
   "outputs": [
    {
     "data": {
      "text/plain": [
       "<__main__.Complex at 0x1d6170f5c40>"
      ]
     },
     "metadata": {},
     "output_type": "display_data"
    }
   ],
   "source": [
    "display(n1)"
   ]
  },
  {
   "cell_type": "code",
   "execution_count": 28,
   "metadata": {},
   "outputs": [
    {
     "data": {
      "text/plain": [
       "'Real Part'"
      ]
     },
     "metadata": {},
     "output_type": "display_data"
    },
    {
     "data": {
      "text/plain": [
       "9"
      ]
     },
     "metadata": {},
     "output_type": "display_data"
    },
    {
     "data": {
      "text/plain": [
       "'Imginary Part'"
      ]
     },
     "metadata": {},
     "output_type": "display_data"
    },
    {
     "data": {
      "text/plain": [
       "5"
      ]
     },
     "metadata": {},
     "output_type": "display_data"
    }
   ],
   "source": [
    "result = n1.add(n2)\n",
    "\n",
    "display(\"Real Part\", result.real)\n",
    "display(\"Imginary Part\",result.img)"
   ]
  },
  {
   "cell_type": "markdown",
   "metadata": {},
   "source": [
    "> Exercise 001 <br>\n",
    "1. Create a class named Triangle<br>\n",
    "2. Create an object of the class<br>\n",
    "3. Create 2 method init and perimeter<br>\n",
    "4. Calculate the perimeter <br>"
   ]
  },
  {
   "cell_type": "code",
   "execution_count": 34,
   "metadata": {},
   "outputs": [],
   "source": [
    "class Triangle():\n",
    "    '''\n",
    "    General triangle with 3 sides as input\n",
    "    '''\n",
    "    \n",
    "    def _inti_(self, s1,s2,s3):\n",
    "        '''\n",
    "        s1 - side 1\n",
    "        s2 - side 2\n",
    "        s3 - side 3\n",
    "        '''\n",
    "        \n",
    "        self.s1 = s1\n",
    "        self.s2 = s2\n",
    "        self.s3 = s3\n",
    "        \n",
    "    def perimeter(self):\n",
    "        '''\n",
    "        Return the perimeter of the triangle\n",
    "        '''\n",
    "        return self.s1+self.s2+self.s3\n",
    "    "
   ]
  },
  {
   "cell_type": "markdown",
   "metadata": {},
   "source": [
    "__Everytime we create the instance of the class Triangle the \\_\\_init\\_\\_ method runs__"
   ]
  },
  {
   "cell_type": "code",
   "execution_count": 35,
   "metadata": {
    "scrolled": true
   },
   "outputs": [
    {
     "ename": "TypeError",
     "evalue": "Triangle() takes no arguments",
     "output_type": "error",
     "traceback": [
      "\u001b[1;31m---------------------------------------------------------------------------\u001b[0m",
      "\u001b[1;31mTypeError\u001b[0m                                 Traceback (most recent call last)",
      "\u001b[1;32m<ipython-input-35-8faee8f14a7f>\u001b[0m in \u001b[0;36m<module>\u001b[1;34m\u001b[0m\n\u001b[0;32m      1\u001b[0m \u001b[1;31m## Initialize the class\u001b[0m\u001b[1;33m\u001b[0m\u001b[1;33m\u001b[0m\u001b[1;33m\u001b[0m\u001b[0m\n\u001b[0;32m      2\u001b[0m \u001b[1;33m\u001b[0m\u001b[0m\n\u001b[1;32m----> 3\u001b[1;33m \u001b[0macute_triangle\u001b[0m \u001b[1;33m=\u001b[0m \u001b[0mTriangle\u001b[0m\u001b[1;33m(\u001b[0m\u001b[1;36m10\u001b[0m\u001b[1;33m,\u001b[0m\u001b[1;36m5\u001b[0m\u001b[1;33m,\u001b[0m\u001b[1;36m4\u001b[0m\u001b[1;33m)\u001b[0m\u001b[1;33m\u001b[0m\u001b[1;33m\u001b[0m\u001b[0m\n\u001b[0m\u001b[0;32m      4\u001b[0m \u001b[1;33m\u001b[0m\u001b[0m\n\u001b[0;32m      5\u001b[0m \u001b[1;31m## Call the perimeter method\u001b[0m\u001b[1;33m\u001b[0m\u001b[1;33m\u001b[0m\u001b[1;33m\u001b[0m\u001b[0m\n",
      "\u001b[1;31mTypeError\u001b[0m: Triangle() takes no arguments"
     ]
    }
   ],
   "source": [
    "## Initialize the class\n",
    "\n",
    "acute_triangle = Triangle(10,5,4)\n",
    "\n",
    "## Call the perimeter method\n",
    "\n",
    "acute_triangle.perimeter()"
   ]
  },
  {
   "cell_type": "markdown",
   "metadata": {},
   "source": [
    "_We can see that with Triangle() there are the two bracket, this lets the_"
   ]
  },
  {
   "cell_type": "code",
   "execution_count": 40,
   "metadata": {},
   "outputs": [],
   "source": [
    "class Triangle:\n",
    "    '''\n",
    "    General triangle with 3 sides as input\n",
    "    '''\n",
    "    \n",
    "    def __inti__(self, s1,s2,s3):\n",
    "        '''\n",
    "        s1 - side 1\n",
    "        s2 - side 2\n",
    "        s3 - side 3\n",
    "        '''\n",
    "        \n",
    "        self.s1 = s1\n",
    "        self.s2 = s2\n",
    "        self.s3 = s3\n",
    "        \n",
    "    def perimeter(self):\n",
    "        '''\n",
    "        Return the perimeter of the triangle\n",
    "        '''\n",
    "        return self.s1+self.s2+self.s3"
   ]
  },
  {
   "cell_type": "code",
   "execution_count": 41,
   "metadata": {},
   "outputs": [
    {
     "ename": "TypeError",
     "evalue": "Triangle() takes no arguments",
     "output_type": "error",
     "traceback": [
      "\u001b[1;31m---------------------------------------------------------------------------\u001b[0m",
      "\u001b[1;31mTypeError\u001b[0m                                 Traceback (most recent call last)",
      "\u001b[1;32m<ipython-input-41-6e2967d42093>\u001b[0m in \u001b[0;36m<module>\u001b[1;34m\u001b[0m\n\u001b[0;32m      1\u001b[0m \u001b[1;31m## Initialize the class\u001b[0m\u001b[1;33m\u001b[0m\u001b[1;33m\u001b[0m\u001b[1;33m\u001b[0m\u001b[0m\n\u001b[0;32m      2\u001b[0m \u001b[1;33m\u001b[0m\u001b[0m\n\u001b[1;32m----> 3\u001b[1;33m \u001b[0mobs_triangle\u001b[0m \u001b[1;33m=\u001b[0m \u001b[0mTriangle\u001b[0m\u001b[1;33m(\u001b[0m\u001b[1;36m10\u001b[0m\u001b[1;33m,\u001b[0m\u001b[1;36m15\u001b[0m\u001b[1;33m,\u001b[0m\u001b[1;36m40\u001b[0m\u001b[1;33m)\u001b[0m\u001b[1;33m\u001b[0m\u001b[1;33m\u001b[0m\u001b[0m\n\u001b[0m\u001b[0;32m      4\u001b[0m \u001b[1;33m\u001b[0m\u001b[0m\n\u001b[0;32m      5\u001b[0m \u001b[1;31m## Call the perimeter method\u001b[0m\u001b[1;33m\u001b[0m\u001b[1;33m\u001b[0m\u001b[1;33m\u001b[0m\u001b[0m\n",
      "\u001b[1;31mTypeError\u001b[0m: Triangle() takes no arguments"
     ]
    }
   ],
   "source": [
    "## Initialize the class\n",
    "\n",
    "obs_triangle = Triangle(10,15,40)\n",
    "\n",
    "## Call the perimeter method\n",
    "\n",
    "obs_triangle.perimeter()"
   ]
  },
  {
   "cell_type": "markdown",
   "metadata": {},
   "source": [
    "_INIT spelling error - This means that the class doesnt take arguemnts - you cannot define an attribute to the class_"
   ]
  },
  {
   "cell_type": "code",
   "execution_count": 42,
   "metadata": {},
   "outputs": [],
   "source": [
    "class Triangle:\n",
    "    '''\n",
    "    General triangle with 3 sides as input\n",
    "    '''\n",
    "    \n",
    "    def __init__(self, s1,s2,s3):\n",
    "        '''\n",
    "        s1 - side 1\n",
    "        s2 - side 2\n",
    "        s3 - side 3\n",
    "        '''\n",
    "        \n",
    "        self.s1 = s1\n",
    "        self.s2 = s2\n",
    "        self.s3 = s3\n",
    "        \n",
    "    def perimeter(self):\n",
    "        '''\n",
    "        Return the perimeter of the triangle\n",
    "        '''\n",
    "        return self.s1+self.s2+self.s3"
   ]
  },
  {
   "cell_type": "code",
   "execution_count": 43,
   "metadata": {},
   "outputs": [
    {
     "data": {
      "text/plain": [
       "65"
      ]
     },
     "execution_count": 43,
     "metadata": {},
     "output_type": "execute_result"
    }
   ],
   "source": [
    "## Initialize the class\n",
    "\n",
    "obs_triangle1 = Triangle(10,15,40)\n",
    "\n",
    "## Call the perimeter method\n",
    "\n",
    "obs_triangle1.perimeter()"
   ]
  },
  {
   "cell_type": "markdown",
   "metadata": {},
   "source": [
    "> __repr__"
   ]
  },
  {
   "cell_type": "code",
   "execution_count": 3,
   "metadata": {},
   "outputs": [
    {
     "data": {
      "text/plain": [
       "('harry', 'A', 20)"
      ]
     },
     "execution_count": 3,
     "metadata": {},
     "output_type": "execute_result"
    }
   ],
   "source": [
    "class Student:\n",
    "    def __init__(self, name, grade, age):\n",
    "        self.name = name\n",
    "        self.grade = grade\n",
    "        self.age = age\n",
    "    def __repr__(self):\n",
    "        '''\n",
    "        Used to return a print version for the class.\n",
    "        With out this - when the class object is printed, it will return a pointer\n",
    "        '''\n",
    "        return repr((self.name, self.grade, self.age))\n",
    "\n",
    "\n",
    "demo =  Student('harry', 'A', 20)\n",
    "demo"
   ]
  },
  {
   "cell_type": "code",
   "execution_count": 1,
   "metadata": {},
   "outputs": [
    {
     "data": {
      "text/plain": [
       "<__main__.Student at 0x24693701bb0>"
      ]
     },
     "execution_count": 1,
     "metadata": {},
     "output_type": "execute_result"
    }
   ],
   "source": [
    "class Student:\n",
    "    def __init__(self, name, grade, age):\n",
    "        self.name = name\n",
    "        self.grade = grade\n",
    "        self.age = age\n",
    "#     def __repr__(self):\n",
    "#         '''\n",
    "#         Used to return a print version for the class.\n",
    "#         With out this - when the class object is printed, it will return a pointer\n",
    "#         '''\n",
    "#         return repr((self.name, self.grade, self.age))\n",
    "\n",
    "demo_no_repr =  Student('harry', 'A', 20)\n",
    "demo_no_repr"
   ]
  },
  {
   "cell_type": "markdown",
   "metadata": {},
   "source": [
    "[Try this next](https://github.com/MakeSchool/Python-OOP)"
   ]
  },
  {
   "cell_type": "markdown",
   "metadata": {},
   "source": [
    "[Next Try Correy Saufher](https://www.youtube.com/watch?v=ZDa-Z5JzLYM&list=PL-osiE80TeTsqhIuOqKhwlXsIBIdSeYtc)"
   ]
  },
  {
   "cell_type": "markdown",
   "metadata": {},
   "source": [
    "[class method and static method](https://www.programiz.com/python-programming/methods/built-in/classmethod)"
   ]
  },
  {
   "cell_type": "markdown",
   "metadata": {},
   "source": [
    "__IF YOU DO NOT USE THESE CONCEPTS IN YOUR CODES YOU WILL FORGET THEM__"
   ]
  },
  {
   "cell_type": "markdown",
   "metadata": {},
   "source": [
    "__[CLASS VARIABLE](https://www.youtube.com/watch?v=BJ-VvGyQxho&list=PL-osiE80TeTsqhIuOqKhwlXsIBIdSeYtc&index=2)__"
   ]
  },
  {
   "cell_type": "code",
   "execution_count": 16,
   "metadata": {},
   "outputs": [],
   "source": [
    "class Employee:\n",
    "    '''\n",
    "    \n",
    "    '''\n",
    "    \n",
    "    def __init__(self, first, last, pay):\n",
    "        '''\n",
    "        \n",
    "        '''\n",
    "        self.first = first\n",
    "        self.last = last\n",
    "        self.pay = pay\n",
    "        \n",
    "    def full_name(self):\n",
    "        '''\n",
    "        '''\n",
    "        return self.first+\" \"+self.last\n",
    "    \n",
    "    def apply_raise(self):\n",
    "        '''\n",
    "        '''\n",
    "        return self.pay*1.4"
   ]
  },
  {
   "cell_type": "code",
   "execution_count": 17,
   "metadata": {},
   "outputs": [
    {
     "data": {
      "text/plain": [
       "140000.0"
      ]
     },
     "execution_count": 17,
     "metadata": {},
     "output_type": "execute_result"
    }
   ],
   "source": [
    "emp1 = Employee(\"chris\", \"harries\", 100000)\n",
    "emp1.apply_raise()"
   ]
  },
  {
   "cell_type": "code",
   "execution_count": 18,
   "metadata": {},
   "outputs": [
    {
     "data": {
      "text/plain": [
       "140000.0"
      ]
     },
     "execution_count": 18,
     "metadata": {},
     "output_type": "execute_result"
    }
   ],
   "source": [
    "Employee.apply_raise(emp1)"
   ]
  },
  {
   "cell_type": "code",
   "execution_count": 55,
   "metadata": {},
   "outputs": [],
   "source": [
    "class Employee:\n",
    "    '''\n",
    "    \n",
    "    '''\n",
    "    ### using a class variables instead of just another hard code in between the method.\n",
    "    raise_perc = 1.4\n",
    "    \n",
    "    def __init__(self, first, last, pay):\n",
    "        '''\n",
    "        \n",
    "        '''\n",
    "        self.first = first\n",
    "        self.last = last\n",
    "        self.pay = pay\n",
    "        \n",
    "    def full_name(self):\n",
    "        '''\n",
    "        '''\n",
    "        return self.first+\" \"+self.last\n",
    "    \n",
    "    def apply_raise(self):\n",
    "        '''\n",
    "        You need to access the class variable through the class itself or the instance\n",
    "        This will throw an error\n",
    "        '''\n",
    "        return self.pay*raise_perc"
   ]
  },
  {
   "cell_type": "code",
   "execution_count": 56,
   "metadata": {},
   "outputs": [
    {
     "ename": "NameError",
     "evalue": "name 'raise_perc' is not defined",
     "output_type": "error",
     "traceback": [
      "\u001b[1;31m---------------------------------------------------------------------------\u001b[0m",
      "\u001b[1;31mNameError\u001b[0m                                 Traceback (most recent call last)",
      "\u001b[1;32m<ipython-input-56-617da10fd592>\u001b[0m in \u001b[0;36m<module>\u001b[1;34m\u001b[0m\n\u001b[0;32m      1\u001b[0m \u001b[0memp2\u001b[0m \u001b[1;33m=\u001b[0m \u001b[0mEmployee\u001b[0m\u001b[1;33m(\u001b[0m\u001b[1;34m\"chris\"\u001b[0m\u001b[1;33m,\u001b[0m \u001b[1;34m\"harries\"\u001b[0m\u001b[1;33m,\u001b[0m \u001b[1;36m100000\u001b[0m\u001b[1;33m)\u001b[0m\u001b[1;33m\u001b[0m\u001b[1;33m\u001b[0m\u001b[0m\n\u001b[0;32m      2\u001b[0m \u001b[1;33m\u001b[0m\u001b[0m\n\u001b[1;32m----> 3\u001b[1;33m \u001b[0mEmployee\u001b[0m\u001b[1;33m.\u001b[0m\u001b[0mapply_raise\u001b[0m\u001b[1;33m(\u001b[0m\u001b[0memp2\u001b[0m\u001b[1;33m)\u001b[0m\u001b[1;33m\u001b[0m\u001b[1;33m\u001b[0m\u001b[0m\n\u001b[0m",
      "\u001b[1;32m<ipython-input-55-f04a9adb0ed8>\u001b[0m in \u001b[0;36mapply_raise\u001b[1;34m(self)\u001b[0m\n\u001b[0;32m     24\u001b[0m         \u001b[0mThis\u001b[0m \u001b[0mwill\u001b[0m \u001b[0mthrow\u001b[0m \u001b[0man\u001b[0m \u001b[0merror\u001b[0m\u001b[1;33m\u001b[0m\u001b[1;33m\u001b[0m\u001b[0m\n\u001b[0;32m     25\u001b[0m         '''\n\u001b[1;32m---> 26\u001b[1;33m         \u001b[1;32mreturn\u001b[0m \u001b[0mself\u001b[0m\u001b[1;33m.\u001b[0m\u001b[0mpay\u001b[0m\u001b[1;33m*\u001b[0m\u001b[0mraise_perc\u001b[0m\u001b[1;33m\u001b[0m\u001b[1;33m\u001b[0m\u001b[0m\n\u001b[0m",
      "\u001b[1;31mNameError\u001b[0m: name 'raise_perc' is not defined"
     ]
    }
   ],
   "source": [
    "emp2 = Employee(\"chris\", \"harries\", 100000)\n",
    "\n",
    "Employee.apply_raise(emp2)"
   ]
  },
  {
   "cell_type": "markdown",
   "metadata": {},
   "source": [
    "When we access the __class variable__ we need to access them through the __class itself__ or an __instance of the class.__"
   ]
  },
  {
   "cell_type": "code",
   "execution_count": 57,
   "metadata": {},
   "outputs": [],
   "source": [
    "class Employee:\n",
    "    '''\n",
    "    \n",
    "    '''\n",
    "    ### using a class variables instead of just another hard code in between the method.\n",
    "    raise_perc = 1.4\n",
    "    \n",
    "    def __init__(self, first, last, pay):\n",
    "        '''\n",
    "        \n",
    "        '''\n",
    "        self.first = first\n",
    "        self.last = last\n",
    "        self.pay = pay\n",
    "        \n",
    "    def full_name(self):\n",
    "        '''\n",
    "        '''\n",
    "        return self.first+\" \"+self.last\n",
    "    \n",
    "    def apply_raise(self):\n",
    "        '''\n",
    "        Using class to access the class variable\n",
    "        '''\n",
    "        return self.pay*Employee.raise_perc"
   ]
  },
  {
   "cell_type": "code",
   "execution_count": 58,
   "metadata": {},
   "outputs": [
    {
     "data": {
      "text/plain": [
       "140000.0"
      ]
     },
     "execution_count": 58,
     "metadata": {},
     "output_type": "execute_result"
    }
   ],
   "source": [
    "emp3 = Employee(\"chris\", \"harries\", 100000)\n",
    "\n",
    "Employee.apply_raise(emp3)"
   ]
  },
  {
   "cell_type": "code",
   "execution_count": 59,
   "metadata": {},
   "outputs": [
    {
     "data": {
      "text/plain": [
       "140000.0"
      ]
     },
     "execution_count": 59,
     "metadata": {},
     "output_type": "execute_result"
    }
   ],
   "source": [
    "emp3.apply_raise()"
   ]
  },
  {
   "cell_type": "code",
   "execution_count": 60,
   "metadata": {},
   "outputs": [],
   "source": [
    "class Employee:\n",
    "    '''\n",
    "    \n",
    "    '''\n",
    "    ### using a class variables instead of just another hard code in between the method.\n",
    "    raise_perc = 1.4\n",
    "    \n",
    "    def __init__(self, first, last, pay):\n",
    "        '''\n",
    "        \n",
    "        '''\n",
    "        self.first = first\n",
    "        self.last = last\n",
    "        self.pay = pay\n",
    "        \n",
    "    def full_name(self):\n",
    "        '''\n",
    "        '''\n",
    "        return self.first+\" \"+self.last\n",
    "    \n",
    "    def apply_raise(self):\n",
    "        '''\n",
    "        Using the instance in the below case the instance is emp1\n",
    "        So in the code its emp.raise_perc\n",
    "        '''\n",
    "        return self.pay*self.raise_perc"
   ]
  },
  {
   "cell_type": "code",
   "execution_count": 61,
   "metadata": {},
   "outputs": [
    {
     "data": {
      "text/plain": [
       "61599.99999999999"
      ]
     },
     "execution_count": 61,
     "metadata": {},
     "output_type": "execute_result"
    }
   ],
   "source": [
    "emp4 = Employee(\"chris\", \"harries\", 44000)\n",
    "\n",
    "Employee.apply_raise(emp4)"
   ]
  },
  {
   "cell_type": "code",
   "execution_count": 62,
   "metadata": {},
   "outputs": [
    {
     "data": {
      "text/plain": [
       "61599.99999999999"
      ]
     },
     "execution_count": 62,
     "metadata": {},
     "output_type": "execute_result"
    }
   ],
   "source": [
    "emp4.apply_raise()"
   ]
  },
  {
   "cell_type": "code",
   "execution_count": 63,
   "metadata": {},
   "outputs": [
    {
     "data": {
      "text/plain": [
       "1.4"
      ]
     },
     "execution_count": 63,
     "metadata": {},
     "output_type": "execute_result"
    }
   ],
   "source": [
    "Employee.raise_perc"
   ]
  },
  {
   "cell_type": "code",
   "execution_count": 70,
   "metadata": {},
   "outputs": [
    {
     "data": {
      "text/plain": [
       "1.4"
      ]
     },
     "execution_count": 70,
     "metadata": {},
     "output_type": "execute_result"
    }
   ],
   "source": [
    "## this is becuase\n",
    "## First it will check if the instance has raise_perc, if not then it will move to the CLASS\n",
    "\n",
    "emp4.raise_perc"
   ]
  },
  {
   "cell_type": "code",
   "execution_count": 68,
   "metadata": {},
   "outputs": [
    {
     "name": "stdout",
     "output_type": "stream",
     "text": [
      "<bound method Employee.__init__ of <__main__.Employee object at 0x000002C78CB1A6D0>>\n"
     ]
    }
   ],
   "source": [
    "print(emp4.__init__)"
   ]
  },
  {
   "cell_type": "code",
   "execution_count": 69,
   "metadata": {},
   "outputs": [
    {
     "name": "stdout",
     "output_type": "stream",
     "text": [
      "{'first': 'chris', 'last': 'harries', 'pay': 44000}\n"
     ]
    }
   ],
   "source": [
    "## predefined will return the class attributed \n",
    "print(emp4.__dict__) "
   ]
  },
  {
   "cell_type": "markdown",
   "metadata": {},
   "source": [
    "It is clear the the class variable __raise_perc__ is for the class and not the instance"
   ]
  },
  {
   "cell_type": "code",
   "execution_count": 71,
   "metadata": {},
   "outputs": [
    {
     "name": "stdout",
     "output_type": "stream",
     "text": [
      "{'__module__': '__main__', '__doc__': '\\n    \\n    ', 'raise_perc': 1.4, '__init__': <function Employee.__init__ at 0x000002C78CB0F3A0>, 'full_name': <function Employee.full_name at 0x000002C78CB0FDC0>, 'apply_raise': <function Employee.apply_raise at 0x000002C78CB0FE50>, '__dict__': <attribute '__dict__' of 'Employee' objects>, '__weakref__': <attribute '__weakref__' of 'Employee' objects>}\n"
     ]
    }
   ],
   "source": [
    "print(Employee.__dict__) "
   ]
  },
  {
   "cell_type": "code",
   "execution_count": 76,
   "metadata": {},
   "outputs": [],
   "source": [
    "## new assignment to the instance\n",
    "emp4.raise_perc = 2\n",
    "\n",
    "emp5 = Employee(\"barrack\", \"obama\", 44000)"
   ]
  },
  {
   "cell_type": "code",
   "execution_count": 73,
   "metadata": {},
   "outputs": [
    {
     "name": "stdout",
     "output_type": "stream",
     "text": [
      "{'first': 'chris', 'last': 'harries', 'pay': 44000, 'raise_perc': 2}\n"
     ]
    }
   ],
   "source": [
    "print(emp4.__dict__) "
   ]
  },
  {
   "cell_type": "code",
   "execution_count": 78,
   "metadata": {},
   "outputs": [
    {
     "data": {
      "text/plain": [
       "1.4"
      ]
     },
     "metadata": {},
     "output_type": "display_data"
    },
    {
     "data": {
      "text/plain": [
       "2"
      ]
     },
     "metadata": {},
     "output_type": "display_data"
    },
    {
     "data": {
      "text/plain": [
       "1.4"
      ]
     },
     "metadata": {},
     "output_type": "display_data"
    }
   ],
   "source": [
    "display(Employee.raise_perc)  ## class\n",
    "display(emp4.raise_perc)      ## instance\n",
    "display(emp5.raise_perc)      ## class"
   ]
  },
  {
   "cell_type": "markdown",
   "metadata": {},
   "source": [
    "We see that for the class the raise_perc is differnt and for the instance the value is different. "
   ]
  },
  {
   "cell_type": "code",
   "execution_count": 79,
   "metadata": {},
   "outputs": [],
   "source": [
    "class Employee:\n",
    "    '''\n",
    "    \n",
    "    '''\n",
    "    ### using a class variables instead of just another hard code in between the method.\n",
    "    raise_perc  = 1.4\n",
    "    num_of_emps = 0\n",
    "    \n",
    "    def __init__(self, first, last, pay):\n",
    "        '''\n",
    "        Employee.num_of_emps - this class variable cannot be overwrtiiten by its instance\n",
    "        '''\n",
    "        self.first = first\n",
    "        self.last = last\n",
    "        self.pay = pay\n",
    "        \n",
    "        Employee.num_of_emps += 1\n",
    "        \n",
    "    def full_name(self):\n",
    "        '''\n",
    "        '''\n",
    "        return self.first+\" \"+self.last\n",
    "    \n",
    "    def apply_raise(self):\n",
    "        '''\n",
    "        Using the instance in the below case the instance is emp1\n",
    "        So in the code its emp.raise_perc\n",
    "        '''\n",
    "        return self.pay*self.raise_perc"
   ]
  },
  {
   "cell_type": "code",
   "execution_count": 80,
   "metadata": {},
   "outputs": [
    {
     "name": "stdout",
     "output_type": "stream",
     "text": [
      "2\n"
     ]
    }
   ],
   "source": [
    "emp6 = Employee(\"no\", \"obama\", 10000)\n",
    "emp7 = Employee(\"yes\", \"obama\", 44000)\n",
    "print(Employee.num_of_emps)"
   ]
  },
  {
   "cell_type": "code",
   "execution_count": 81,
   "metadata": {},
   "outputs": [
    {
     "name": "stdout",
     "output_type": "stream",
     "text": [
      "2\n"
     ]
    }
   ],
   "source": [
    "print(emp7.num_of_emps)"
   ]
  },
  {
   "cell_type": "markdown",
   "metadata": {},
   "source": [
    "When do you use instance variables vs when do you use class variables?"
   ]
  },
  {
   "cell_type": "markdown",
   "metadata": {},
   "source": [
    "Well if there are instance variables and class variables then are there class method or statis method?"
   ]
  },
  {
   "cell_type": "markdown",
   "metadata": {},
   "source": [
    "[OOP Tutorial 3 Corey Schafer](https://www.youtube.com/watch?v=rq8cL2XMM5M&list=PL-osiE80TeTsqhIuOqKhwlXsIBIdSeYtc&index=3)"
   ]
  },
  {
   "cell_type": "markdown",
   "metadata": {},
   "source": [
    "__Regular method/ class methods/ static methods__"
   ]
  },
  {
   "cell_type": "markdown",
   "metadata": {},
   "source": [
    "Regular method in this case the full_names, takes the instance as the first arguement. "
   ]
  },
  {
   "cell_type": "code",
   "execution_count": 85,
   "metadata": {},
   "outputs": [],
   "source": [
    "class Employee:\n",
    "    '''\n",
    "    \n",
    "    '''\n",
    "    ### using a class variables instead of just another hard code in between the method.\n",
    "    raise_perc  = 1.4\n",
    "    num_of_emps = 0\n",
    "    \n",
    "    def __init__(self, first, last, pay):\n",
    "        '''\n",
    "        Employee.num_of_emps - this class variable cannot be overwrtiiten by its instance\n",
    "        '''\n",
    "        self.first = first\n",
    "        self.last = last\n",
    "        self.pay = pay\n",
    "        \n",
    "        Employee.num_of_emps += 1\n",
    "        \n",
    "    def full_name(self):\n",
    "        '''\n",
    "        '''\n",
    "        return self.first+\" \"+self.last\n",
    "    \n",
    "    def apply_raise(self):\n",
    "        '''\n",
    "        Using the instance in the below case the instance is emp1\n",
    "        So in the code its emp.raise_perc\n",
    "        '''\n",
    "        return self.pay*self.raise_perc\n",
    "    \n",
    "    @classmethod\n",
    "    def set_raise_amount(cls, amount):\n",
    "        '''\n",
    "        cls - is when u define a classmethod you use this instead of self.\n",
    "        So its not the instance thats being used here but the class itself. \n",
    "        '''\n",
    "        pass"
   ]
  },
  {
   "cell_type": "code",
   "execution_count": 86,
   "metadata": {},
   "outputs": [],
   "source": [
    "emp8 = Employee(\"charlie\", \"brown\", 10000)\n",
    "emp9 = Employee(\"kelly\", \"angel\", 44000)\n",
    "\n"
   ]
  },
  {
   "cell_type": "code",
   "execution_count": 87,
   "metadata": {},
   "outputs": [
    {
     "name": "stdout",
     "output_type": "stream",
     "text": [
      "1.4\n",
      "1.4\n",
      "1.4\n"
     ]
    }
   ],
   "source": [
    "print(Employee.raise_perc)\n",
    "print(emp9.raise_perc)\n",
    "print(emp8.raise_perc)"
   ]
  },
  {
   "cell_type": "code",
   "execution_count": 88,
   "metadata": {},
   "outputs": [],
   "source": [
    "class Employee:\n",
    "    '''\n",
    "    \n",
    "    '''\n",
    "    ### using a class variables instead of just another hard code in between the method.\n",
    "    raise_perc  = 1.4\n",
    "    num_of_emps = 0\n",
    "    \n",
    "    def __init__(self, first, last, pay):\n",
    "        '''\n",
    "        Employee.num_of_emps - this class variable cannot be overwrtiiten by its instance\n",
    "        '''\n",
    "        self.first = first\n",
    "        self.last = last\n",
    "        self.pay = pay\n",
    "        \n",
    "        Employee.num_of_emps += 1\n",
    "        \n",
    "    def full_name(self):\n",
    "        '''\n",
    "        '''\n",
    "        return self.first+\" \"+self.last\n",
    "    \n",
    "    def apply_raise(self):\n",
    "        '''\n",
    "        Using the instance in the below case the instance is emp1\n",
    "        So in the code its emp.raise_perc\n",
    "        '''\n",
    "        return self.pay*self.raise_perc\n",
    "    \n",
    "    @classmethod\n",
    "    def set_raise_amount(cls, amount):\n",
    "        '''\n",
    "        cls - is when u define a classmethod you use this instead of self.\n",
    "        So its not the instance thats being used here but the class itself. \n",
    "        ----------------------------------------------------------------\n",
    "        For the class we can change the raise_perc if needed\n",
    "        '''\n",
    "        \n",
    "        cls.raise_perc = amount"
   ]
  },
  {
   "cell_type": "code",
   "execution_count": 89,
   "metadata": {},
   "outputs": [
    {
     "name": "stdout",
     "output_type": "stream",
     "text": [
      "3\n",
      "3\n",
      "3\n"
     ]
    }
   ],
   "source": [
    "## In the class method it is considering the cls itself and them the amount\n",
    "## so Employee.raise_perc = 3\n",
    "Employee.set_raise_amount(3)\n",
    "\n",
    "emp8 = Employee(\"charlie\", \"brown\", 10000)\n",
    "emp9 = Employee(\"kelly\", \"angel\", 44000)\n",
    "\n",
    "print(Employee.raise_perc)\n",
    "print(emp9.raise_perc)\n",
    "print(emp8.raise_perc)"
   ]
  },
  {
   "cell_type": "markdown",
   "metadata": {},
   "source": [
    "Generate a class using the __CLASS METHOD__"
   ]
  },
  {
   "cell_type": "code",
   "execution_count": 104,
   "metadata": {},
   "outputs": [],
   "source": [
    "## Generate a Employee Class using this string\n",
    "emp10 = \"john-jack-10903\"\n",
    "emp11 = \"jerry-jackson-102942\"\n",
    "emp12 = \"reggie-magnson-13743\""
   ]
  },
  {
   "cell_type": "code",
   "execution_count": 105,
   "metadata": {},
   "outputs": [],
   "source": [
    "class Employee:\n",
    "    '''\n",
    "    \n",
    "    '''\n",
    "    ### using a class variables instead of just another hard code in between the method.\n",
    "    raise_perc  = 1.4\n",
    "    num_of_emps = 0\n",
    "    \n",
    "    def __init__(self, first, last, pay):\n",
    "        '''\n",
    "        Employee.num_of_emps - this class variable cannot be overwrtiiten by its instance\n",
    "        '''\n",
    "        self.first = first\n",
    "        self.last = last\n",
    "        self.pay = pay\n",
    "        \n",
    "        Employee.num_of_emps += 1\n",
    "        \n",
    "    def full_name(self):\n",
    "        '''\n",
    "        '''\n",
    "        return self.first+\" \"+self.last\n",
    "    \n",
    "    def apply_raise(self):\n",
    "        '''\n",
    "        Using the instance in the below case the instance is emp1\n",
    "        So in the code its emp.raise_perc\n",
    "        '''\n",
    "        return self.pay*self.raise_perc\n",
    "    \n",
    "    @classmethod\n",
    "    def set_raise_amount(cls, amount):\n",
    "        '''\n",
    "        cls - is when u define a classmethod you use this instead of self.\n",
    "        So its not the instance thats being used here but the class itself. \n",
    "        ----------------------------------------------------------------\n",
    "        For the class we can change the raise_perc if needed\n",
    "        '''\n",
    "        \n",
    "        cls.raise_perc = amount\n",
    "    \n",
    "    \n",
    "    @classmethod\n",
    "    def from_string(cls, string_emp):\n",
    "        '''\n",
    "        This is class method and we use, the Employee class string method and the input is the string. \n",
    "        Employee class is called by its method and then the init method is called\n",
    "        So the an instance of the class is created\n",
    "        '''\n",
    "        f_name, l_name, pay = string_emp.split(\"-\")\n",
    "        return Employee(f_name, l_name, pay)"
   ]
  },
  {
   "cell_type": "code",
   "execution_count": 106,
   "metadata": {},
   "outputs": [],
   "source": [
    "emp10  = Employee.from_string(emp10)\n",
    "emp11  = Employee.from_string(emp11)\n",
    "emp12  = Employee.from_string(emp12)"
   ]
  },
  {
   "cell_type": "code",
   "execution_count": 107,
   "metadata": {},
   "outputs": [
    {
     "data": {
      "text/plain": [
       "1.4"
      ]
     },
     "metadata": {},
     "output_type": "display_data"
    },
    {
     "data": {
      "text/plain": [
       "1.4"
      ]
     },
     "metadata": {},
     "output_type": "display_data"
    },
    {
     "data": {
      "text/plain": [
       "1.4"
      ]
     },
     "metadata": {},
     "output_type": "display_data"
    }
   ],
   "source": [
    "display(emp10.raise_perc)\n",
    "display(emp11.raise_perc)\n",
    "display(emp12.raise_perc)"
   ]
  },
  {
   "cell_type": "code",
   "execution_count": 108,
   "metadata": {},
   "outputs": [
    {
     "data": {
      "text/plain": [
       "3"
      ]
     },
     "execution_count": 108,
     "metadata": {},
     "output_type": "execute_result"
    }
   ],
   "source": [
    "Employee.num_of_emps"
   ]
  },
  {
   "cell_type": "markdown",
   "metadata": {},
   "source": [
    "Class method are additional [constructors](https://www.geeksforgeeks.org/constructors-in-python/).They are used to instantiating an object. The general way to do this in python is to use the __init__ method. There are two types default and parameterized. The default constructor are init method with just self in the argument. The paramtertized version can take multiple parameters. "
   ]
  },
  {
   "cell_type": "markdown",
   "metadata": {},
   "source": [
    "__STATIC METHOD__"
   ]
  },
  {
   "cell_type": "code",
   "execution_count": 118,
   "metadata": {},
   "outputs": [],
   "source": [
    "class Employee:\n",
    "    '''\n",
    "    \n",
    "    '''\n",
    "    ### using a class variables instead of just another hard code in between the method.\n",
    "    raise_perc  = 1.4\n",
    "    num_of_emps = 0\n",
    "    \n",
    "    def __init__(self, first, last, pay):\n",
    "        '''\n",
    "        Employee.num_of_emps - this class variable cannot be overwrtiiten by its instance\n",
    "        '''\n",
    "        self.first = first\n",
    "        self.last = last\n",
    "        self.pay = pay\n",
    "        \n",
    "        Employee.num_of_emps += 1\n",
    "        \n",
    "    def full_name(self):\n",
    "        '''\n",
    "        '''\n",
    "        return self.first+\" \"+self.last\n",
    "    \n",
    "    def apply_raise(self):\n",
    "        '''\n",
    "        Using the instance in the below case the instance is emp1\n",
    "        So in the code its emp.raise_perc\n",
    "        '''\n",
    "        return self.pay*self.raise_perc\n",
    "    \n",
    "    @classmethod\n",
    "    def set_raise_amount(cls, amount):\n",
    "        '''\n",
    "        cls - is when u define a classmethod you use this instead of self.\n",
    "        So its not the instance thats being used here but the class itself. \n",
    "        ----------------------------------------------------------------\n",
    "        For the class we can change the raise_perc if needed\n",
    "        '''\n",
    "        \n",
    "        cls.raise_perc = amount\n",
    "    \n",
    "    \n",
    "    @classmethod\n",
    "    def from_string(cls, string_emp):\n",
    "        '''\n",
    "        This is class method and we use, the Employee class string method and the input is the string. \n",
    "        Employee class is called by its method and then the init method is called\n",
    "        So the an instance of the class is created\n",
    "        '''\n",
    "        f_name, l_name, pay = string_emp.split(\"-\")\n",
    "        return Employee(f_name, l_name, pay)\n",
    "    \n",
    "    \n",
    "    @staticmethod\n",
    "    def is_workday(day):\n",
    "        '''\n",
    "        '''\n",
    "        if day.weekday() == 5 or day.weekday() == 6:\n",
    "            return False \n",
    "        else:\n",
    "            return True"
   ]
  },
  {
   "cell_type": "code",
   "execution_count": 111,
   "metadata": {},
   "outputs": [
    {
     "name": "stdout",
     "output_type": "stream",
     "text": [
      "False\n"
     ]
    }
   ],
   "source": [
    "import datetime\n",
    "\n",
    "my_date = datetime.date(2016, 7,10)\n",
    "\n",
    "print(Employee.is_workday(my_date))"
   ]
  },
  {
   "cell_type": "code",
   "execution_count": 119,
   "metadata": {},
   "outputs": [
    {
     "data": {
      "text/plain": [
       "False"
      ]
     },
     "execution_count": 119,
     "metadata": {},
     "output_type": "execute_result"
    }
   ],
   "source": [
    "emp13 = Employee(\"kelly\", \"angel\", 44000)\n",
    "\n",
    "emp13.is_workday(my_date)"
   ]
  },
  {
   "cell_type": "markdown",
   "metadata": {},
   "source": [
    "_We see that when the static method is defined the class or the instance knows that not to pass the self/class arugument and only the given argument is considered. Lets see what happens when we dnt add the static method_"
   ]
  },
  {
   "cell_type": "code",
   "execution_count": 120,
   "metadata": {},
   "outputs": [],
   "source": [
    "class Employee:\n",
    "    '''\n",
    "    \n",
    "    '''\n",
    "    ### using a class variables instead of just another hard code in between the method.\n",
    "    raise_perc  = 1.4\n",
    "    num_of_emps = 0\n",
    "    \n",
    "    def __init__(self, first, last, pay):\n",
    "        '''\n",
    "        Employee.num_of_emps - this class variable cannot be overwrtiiten by its instance\n",
    "        '''\n",
    "        self.first = first\n",
    "        self.last = last\n",
    "        self.pay = pay\n",
    "        \n",
    "        Employee.num_of_emps += 1\n",
    "        \n",
    "    def full_name(self):\n",
    "        '''\n",
    "        '''\n",
    "        return self.first+\" \"+self.last\n",
    "    \n",
    "    def apply_raise(self):\n",
    "        '''\n",
    "        Using the instance in the below case the instance is emp1\n",
    "        So in the code its emp.raise_perc\n",
    "        '''\n",
    "        return self.pay*self.raise_perc\n",
    "    \n",
    "    @classmethod\n",
    "    def set_raise_amount(cls, amount):\n",
    "        '''\n",
    "        cls - is when u define a classmethod you use this instead of self.\n",
    "        So its not the instance thats being used here but the class itself. \n",
    "        ----------------------------------------------------------------\n",
    "        For the class we can change the raise_perc if needed\n",
    "        '''\n",
    "        \n",
    "        cls.raise_perc = amount\n",
    "    \n",
    "    \n",
    "    @classmethod\n",
    "    def from_string(cls, string_emp):\n",
    "        '''\n",
    "        This is class method and we use, the Employee class string method and the input is the string. \n",
    "        Employee class is called by its method and then the init method is called\n",
    "        So the an instance of the class is created\n",
    "        '''\n",
    "        f_name, l_name, pay = string_emp.split(\"-\")\n",
    "        return Employee(f_name, l_name, pay)\n",
    "    \n",
    "    \n",
    "    def is_workday(day):\n",
    "        '''\n",
    "        '''\n",
    "        if day.weekday() == 5 or day.weekday() == 6:\n",
    "            return False \n",
    "        else:\n",
    "            return True"
   ]
  },
  {
   "cell_type": "code",
   "execution_count": 121,
   "metadata": {},
   "outputs": [
    {
     "name": "stdout",
     "output_type": "stream",
     "text": [
      "False\n"
     ]
    }
   ],
   "source": [
    "import datetime\n",
    "\n",
    "my_date = datetime.date(2016, 7,10)\n",
    "\n",
    "print(Employee.is_workday(my_date))"
   ]
  },
  {
   "cell_type": "markdown",
   "metadata": {},
   "source": [
    "The Class __Employee__ assumes the first argument is not self or class and passes my_date as day into the method and we receive an output."
   ]
  },
  {
   "cell_type": "code",
   "execution_count": 122,
   "metadata": {
    "scrolled": true
   },
   "outputs": [
    {
     "ename": "TypeError",
     "evalue": "is_workday() takes 1 positional argument but 2 were given",
     "output_type": "error",
     "traceback": [
      "\u001b[1;31m---------------------------------------------------------------------------\u001b[0m",
      "\u001b[1;31mTypeError\u001b[0m                                 Traceback (most recent call last)",
      "\u001b[1;32m<ipython-input-122-3d9dc37b594e>\u001b[0m in \u001b[0;36m<module>\u001b[1;34m\u001b[0m\n\u001b[0;32m      1\u001b[0m \u001b[0memp14\u001b[0m \u001b[1;33m=\u001b[0m \u001b[0mEmployee\u001b[0m\u001b[1;33m(\u001b[0m\u001b[1;34m\"kelly\"\u001b[0m\u001b[1;33m,\u001b[0m \u001b[1;34m\"angel\"\u001b[0m\u001b[1;33m,\u001b[0m \u001b[1;36m44000\u001b[0m\u001b[1;33m)\u001b[0m\u001b[1;33m\u001b[0m\u001b[1;33m\u001b[0m\u001b[0m\n\u001b[0;32m      2\u001b[0m \u001b[1;33m\u001b[0m\u001b[0m\n\u001b[1;32m----> 3\u001b[1;33m \u001b[0memp14\u001b[0m\u001b[1;33m.\u001b[0m\u001b[0mis_workday\u001b[0m\u001b[1;33m(\u001b[0m\u001b[0mmy_date\u001b[0m\u001b[1;33m)\u001b[0m\u001b[1;33m\u001b[0m\u001b[1;33m\u001b[0m\u001b[0m\n\u001b[0m",
      "\u001b[1;31mTypeError\u001b[0m: is_workday() takes 1 positional argument but 2 were given"
     ]
    }
   ],
   "source": [
    "emp14 = Employee(\"kelly\", \"angel\", 44000)\n",
    "\n",
    "emp14.is_workday(my_date)"
   ]
  },
  {
   "cell_type": "markdown",
   "metadata": {},
   "source": [
    "Whats happening in the above code is that, emp14 is an instance of class Employee emp14 is sending correct number of argument, self and my_date and assumes that the method a regular method. [stackoverflow link](https://stackoverflow.com/questions/735975/static-methods-in-python). Thats why we receive this error -  __TypeError: is_workday() takes 1 positional argument but 2 were given__"
   ]
  },
  {
   "cell_type": "markdown",
   "metadata": {},
   "source": [
    "[__Inheritance - Creating Subclasses - Corey Schafer Youtube__](https://www.youtube.com/watch?v=RSl87lqOXDE&list=PL-osiE80TeTsqhIuOqKhwlXsIBIdSeYtc&index=4)"
   ]
  },
  {
   "cell_type": "code",
   "execution_count": 145,
   "metadata": {},
   "outputs": [],
   "source": [
    "class Employee:\n",
    "    '''\n",
    "    \n",
    "    '''\n",
    "    ### using a class variables instead of just another hard code in between the method.\n",
    "    raise_perc  = 1.4\n",
    "    num_of_emps = 0\n",
    "    \n",
    "    def __init__(self, first, last, pay):\n",
    "        '''\n",
    "        Employee.num_of_emps - this class variable cannot be overwrtiiten by its instance\n",
    "        '''\n",
    "        self.first = first\n",
    "        self.last = last\n",
    "        self.pay = pay\n",
    "        self.email = first+\".\"+last+\"@gmail.com\"\n",
    "        \n",
    "        Employee.num_of_emps += 1\n",
    "        \n",
    "    def full_name(self):\n",
    "        '''\n",
    "        '''\n",
    "        return self.first+\" \"+self.last\n",
    "    \n",
    "    def apply_raise(self):\n",
    "        '''\n",
    "        Using the instance in the below case the instance is emp1\n",
    "        So in the code its emp.raise_perc\n",
    "        '''\n",
    "        self.pay = self.pay*self.raise_perc\n",
    "        return self.pay\n",
    "    \n",
    "    @classmethod\n",
    "    def set_raise_amount(cls, amount):\n",
    "        '''\n",
    "        cls - is when u define a classmethod you use this instead of self.\n",
    "        So its not the instance thats being used here but the class itself. \n",
    "        ----------------------------------------------------------------\n",
    "        For the class we can change the raise_perc if needed\n",
    "        '''\n",
    "        \n",
    "        cls.raise_perc = amount\n",
    "    \n",
    "    \n",
    "    @classmethod\n",
    "    def from_string(cls, string_emp):\n",
    "        '''\n",
    "        This is class method and we use, the Employee class string method and the input is the string. \n",
    "        Employee class is called by its method and then the init method is called\n",
    "        So the an instance of the class is created\n",
    "        '''\n",
    "        f_name, l_name, pay = string_emp.split(\"-\")\n",
    "        return Employee(f_name, l_name, pay)\n",
    "    \n",
    "    \n",
    "    def is_workday(day):\n",
    "        '''\n",
    "        '''\n",
    "        if day.weekday() == 5 or day.weekday() == 6:\n",
    "            return False \n",
    "        else:\n",
    "            return True"
   ]
  },
  {
   "cell_type": "code",
   "execution_count": 139,
   "metadata": {},
   "outputs": [],
   "source": [
    "class Developer(Employee):\n",
    "    '''\n",
    "    '''\n",
    "    \n",
    "    pass"
   ]
  },
  {
   "cell_type": "code",
   "execution_count": 140,
   "metadata": {},
   "outputs": [
    {
     "data": {
      "text/plain": [
       "'madoona.barcolona@gmail.com'"
      ]
     },
     "metadata": {},
     "output_type": "display_data"
    },
    {
     "data": {
      "text/plain": [
       "'priya.angel@gmail.com'"
      ]
     },
     "metadata": {},
     "output_type": "display_data"
    }
   ],
   "source": [
    "emp15 = Employee(\"madoona\", \"barcolona\", 10000)\n",
    "emp16 = Employee(\"priya\", \"angel\", 44000)\n",
    "\n",
    "display(emp15.email)\n",
    "display(emp16.email)"
   ]
  },
  {
   "cell_type": "code",
   "execution_count": 141,
   "metadata": {},
   "outputs": [
    {
     "data": {
      "text/plain": [
       "'madoona.barcolona@gmail.com'"
      ]
     },
     "metadata": {},
     "output_type": "display_data"
    },
    {
     "data": {
      "text/plain": [
       "'priya.angel@gmail.com'"
      ]
     },
     "metadata": {},
     "output_type": "display_data"
    }
   ],
   "source": [
    "emp17 = Developer(\"madoona\", \"barcolona\", 10000)\n",
    "emp18 = Developer(\"priya\", \"angel\", 44000)\n",
    "\n",
    "display(emp15.email)\n",
    "display(emp16.email)"
   ]
  },
  {
   "cell_type": "code",
   "execution_count": 130,
   "metadata": {},
   "outputs": [
    {
     "name": "stdout",
     "output_type": "stream",
     "text": [
      "Help on class Developer in module __main__:\n",
      "\n",
      "class Developer(Employee)\n",
      " |  Developer(first, last, pay)\n",
      " |  \n",
      " |  Method resolution order:\n",
      " |      Developer\n",
      " |      Employee\n",
      " |      builtins.object\n",
      " |  \n",
      " |  Methods inherited from Employee:\n",
      " |  \n",
      " |  __init__(self, first, last, pay)\n",
      " |      Employee.num_of_emps - this class variable cannot be overwrtiiten by its instance\n",
      " |  \n",
      " |  apply_raise(self)\n",
      " |      Using the instance in the below case the instance is emp1\n",
      " |      So in the code its emp.raise_perc\n",
      " |  \n",
      " |  full_name(self)\n",
      " |  \n",
      " |  is_workday(day)\n",
      " |  \n",
      " |  ----------------------------------------------------------------------\n",
      " |  Class methods inherited from Employee:\n",
      " |  \n",
      " |  from_string(string_emp) from builtins.type\n",
      " |      This is class method and we use, the Employee class string method and the input is the string. \n",
      " |      Employee class is called by its method and then the init method is called\n",
      " |      So the an instance of the class is created\n",
      " |  \n",
      " |  set_raise_amount(amount) from builtins.type\n",
      " |      cls - is when u define a classmethod you use this instead of self.\n",
      " |      So its not the instance thats being used here but the class itself. \n",
      " |      ----------------------------------------------------------------\n",
      " |      For the class we can change the raise_perc if needed\n",
      " |  \n",
      " |  ----------------------------------------------------------------------\n",
      " |  Data descriptors inherited from Employee:\n",
      " |  \n",
      " |  __dict__\n",
      " |      dictionary for instance variables (if defined)\n",
      " |  \n",
      " |  __weakref__\n",
      " |      list of weak references to the object (if defined)\n",
      " |  \n",
      " |  ----------------------------------------------------------------------\n",
      " |  Data and other attributes inherited from Employee:\n",
      " |  \n",
      " |  num_of_emps = 6\n",
      " |  \n",
      " |  raise_perc = 1.4\n",
      "\n"
     ]
    }
   ],
   "source": [
    "help(Developer)"
   ]
  },
  {
   "cell_type": "code",
   "execution_count": 131,
   "metadata": {},
   "outputs": [
    {
     "data": {
      "text/plain": [
       "__main__.Developer"
      ]
     },
     "execution_count": 131,
     "metadata": {},
     "output_type": "execute_result"
    }
   ],
   "source": [
    "Developer"
   ]
  },
  {
   "cell_type": "markdown",
   "metadata": {},
   "source": [
    "__Method resolution order:__ is seen in the help function, this says that, first the Developer class is searched, then Employee class is searched for methods."
   ]
  },
  {
   "cell_type": "code",
   "execution_count": 142,
   "metadata": {},
   "outputs": [
    {
     "name": "stdout",
     "output_type": "stream",
     "text": [
      "44000\n",
      "61599.99999999999\n",
      "61599.99999999999\n"
     ]
    }
   ],
   "source": [
    "print(emp18.pay)\n",
    "print(emp18.apply_raise())\n",
    "print(emp18.pay)"
   ]
  },
  {
   "cell_type": "markdown",
   "metadata": {},
   "source": [
    "What if we want the developers to give give say raise of 3x, we can pass the class variable to Developer class"
   ]
  },
  {
   "cell_type": "code",
   "execution_count": 147,
   "metadata": {},
   "outputs": [],
   "source": [
    "class Developer(Employee):\n",
    "    '''\n",
    "    A subclass of the Employee class\n",
    "    '''\n",
    "    ## class varaible added\n",
    "    raise_perc = 3\n",
    "    pass"
   ]
  },
  {
   "cell_type": "code",
   "execution_count": 146,
   "metadata": {},
   "outputs": [
    {
     "name": "stdout",
     "output_type": "stream",
     "text": [
      "44000\n",
      "132000\n",
      "132000\n"
     ]
    }
   ],
   "source": [
    "emp17 = Developer(\"madoona\", \"barcolona\", 10000)\n",
    "emp18 = Developer(\"priya\", \"angel\", 44000)\n",
    "\n",
    "print(emp18.pay)\n",
    "print(emp18.apply_raise())\n",
    "print(emp18.pay)\n",
    "\n",
    "## Developer raise was higher than the Employee."
   ]
  },
  {
   "cell_type": "markdown",
   "metadata": {},
   "source": [
    "Now lets consider a situation where the Developer needs programming language as an attribute. We use [super()__init/_/__](https://www.programiz.com/python-programming/methods/built-in/super)"
   ]
  },
  {
   "cell_type": "code",
   "execution_count": 150,
   "metadata": {},
   "outputs": [],
   "source": [
    "class Developer20(Employee):\n",
    "    '''\n",
    "    '''\n",
    "    ## class varaible added\n",
    "    raise_perc = 3\n",
    "    \n",
    "    def __init__(self, first, last, pay, prog_lang):\n",
    "        '''\n",
    "        We use super to get the employee class attributtes\n",
    "        Then we add the new attribute as before\n",
    "        '''\n",
    "        super().__init__(first, last, pay)\n",
    "        self.prog_lang = prog_lang"
   ]
  },
  {
   "cell_type": "markdown",
   "metadata": {},
   "source": [
    "self.prog_lang = prog_lang , here we dnt have to assign prog_lang to self.prog_lang it can be anything as in, self.programming but general practice is to assign it as such. "
   ]
  },
  {
   "cell_type": "code",
   "execution_count": 152,
   "metadata": {},
   "outputs": [
    {
     "name": "stdout",
     "output_type": "stream",
     "text": [
      "Python\n"
     ]
    }
   ],
   "source": [
    "## we are adding python because that is being expected by the code. \n",
    "emp20 = Developer(\"madoona\", \"barcolona\", 10000, \"Python\")\n",
    "print(emp20.prog_lang)\n"
   ]
  },
  {
   "cell_type": "markdown",
   "metadata": {},
   "source": [
    "Lets create another class called Manager. "
   ]
  },
  {
   "cell_type": "code",
   "execution_count": 153,
   "metadata": {},
   "outputs": [],
   "source": [
    "class Manager001(Employee):\n",
    "    '''\n",
    "    '''\n",
    "    ## class varaible added\n",
    "    raise_perc = 4 #more than developer\n",
    "    \n",
    "    def __init__(self, first, last, pay, emp_total = None):\n",
    "        '''\n",
    "        We pass None and and [] as list are mutable and python adds back the mutable. \n",
    "        '''\n",
    "        super().__init__(first, last, pay)\n",
    "        \n",
    "        if emp_total is None:\n",
    "            self.emp_total = []\n",
    "        else:\n",
    "            self.emp_total = emp_total"
   ]
  },
  {
   "cell_type": "markdown",
   "metadata": {},
   "source": [
    "[__Do not use mutatble as default argument in python__](https://florimond.dev/en/posts/2018/08/python-mutable-defaults-are-the-source-of-all-evil/)"
   ]
  },
  {
   "cell_type": "code",
   "execution_count": 154,
   "metadata": {},
   "outputs": [
    {
     "name": "stdout",
     "output_type": "stream",
     "text": [
      "[]\n"
     ]
    }
   ],
   "source": [
    "mana21 = Manager001(\"Aston\", \"martin\", 100000)\n",
    "print(mana21.emp_total)"
   ]
  },
  {
   "cell_type": "markdown",
   "metadata": {},
   "source": [
    "How to add an employee to the Manager001 class?"
   ]
  },
  {
   "cell_type": "code",
   "execution_count": 172,
   "metadata": {},
   "outputs": [],
   "source": [
    "class Manager001(Employee):\n",
    "    '''\n",
    "    '''\n",
    "    ## class varaible added\n",
    "    raise_perc = 4 #more than developer\n",
    "    \n",
    "    def __init__(self, first, last, pay, emp_total = None):\n",
    "        '''\n",
    "        We pass None and and [] as list are mutable and python adds back the mutable. \n",
    "        '''\n",
    "        super().__init__(first, last, pay)\n",
    "        \n",
    "        if emp_total is None:\n",
    "            self.emp_total = []\n",
    "        else:\n",
    "            self.emp_total = emp_total\n",
    "            \n",
    "    def add_emp(self, emp_name):\n",
    "        '''\n",
    "        '''\n",
    "        if emp_name not in self.emp_total:\n",
    "            self.emp_total.append(emp_name)\n",
    "            \n",
    "    def remove_emp(self, emp_name):\n",
    "        '''\n",
    "        remove - works for str and int\n",
    "        pop works for int\n",
    "        '''\n",
    "        if emp_name in self.emp_total:\n",
    "            self.emp_total.remove(emp_name)"
   ]
  },
  {
   "cell_type": "code",
   "execution_count": 170,
   "metadata": {},
   "outputs": [
    {
     "name": "stdout",
     "output_type": "stream",
     "text": [
      "[]\n",
      "['Raggie Rostova']\n"
     ]
    }
   ],
   "source": [
    "## the method has default value for employee so it doesnt expect an argument\n",
    "mana22 = Manager001(\"Aston\", \"martin\", 100000)\n",
    "print(mana22.emp_total)\n",
    "\n",
    "## add a new employee to the team\n",
    "mana22.add_emp(\"Raggie Rostova\")\n",
    "print(mana22.emp_total)"
   ]
  },
  {
   "cell_type": "code",
   "execution_count": 171,
   "metadata": {},
   "outputs": [
    {
     "name": "stdout",
     "output_type": "stream",
     "text": [
      "['Raggie Rostova']\n",
      "[]\n"
     ]
    }
   ],
   "source": [
    "## What if the employeee quit?\n",
    "mana22 = Manager001(\"Aston\", \"martin\", 100000)\n",
    "mana22.add_emp(\"Raggie Rostova\")\n",
    "print(mana22.emp_total)\n",
    "\n",
    "mana22.remove_emp(\"Raggie Rostova\")\n",
    "\n",
    "print(mana22.emp_total)"
   ]
  },
  {
   "cell_type": "code",
   "execution_count": 173,
   "metadata": {},
   "outputs": [
    {
     "name": "stdout",
     "output_type": "stream",
     "text": [
      "Zerba\n"
     ]
    }
   ],
   "source": [
    "mana22 = Manager001(\"Aston\", \"martin\", 100000, 'Zerba')\n",
    "print(mana22.emp_total)"
   ]
  },
  {
   "cell_type": "markdown",
   "metadata": {},
   "source": [
    "__Lets consider where we want to put couple of developers under the manager and print fill names of the managers as well as the developer__"
   ]
  },
  {
   "cell_type": "markdown",
   "metadata": {},
   "source": [
    "1. We have the base class Employee001"
   ]
  },
  {
   "cell_type": "code",
   "execution_count": 177,
   "metadata": {},
   "outputs": [],
   "source": [
    "class Employee001:\n",
    "    '''\n",
    "    \n",
    "    '''\n",
    "    ### using a class variables instead of just another hard code in between the method.\n",
    "    raise_perc  = 1.4\n",
    "    num_of_emps = 0\n",
    "    \n",
    "    def __init__(self, first, last, pay):\n",
    "        '''\n",
    "        Employee.num_of_emps - this class variable cannot be overwrtiiten by its instance\n",
    "        '''\n",
    "        self.first = first\n",
    "        self.last = last\n",
    "        self.pay = pay\n",
    "        self.email = first+\".\"+last+\"@gmail.com\"\n",
    "        \n",
    "        Employee.num_of_emps += 1\n",
    "        \n",
    "    def full_name(self):\n",
    "        '''\n",
    "        '''\n",
    "        return self.first+\" \"+self.last\n",
    "    \n",
    "    def apply_raise(self):\n",
    "        '''\n",
    "        Using the instance in the below case the instance is emp1\n",
    "        So in the code its emp.raise_perc\n",
    "        '''\n",
    "        self.pay = self.pay*self.raise_perc\n",
    "        return self.pay\n",
    "    \n",
    "    @classmethod\n",
    "    def set_raise_amount(cls, amount):\n",
    "        '''\n",
    "        cls - is when u define a classmethod you use this instead of self.\n",
    "        So its not the instance thats being used here but the class itself. \n",
    "        ----------------------------------------------------------------\n",
    "        For the class we can change the raise_perc if needed\n",
    "        '''\n",
    "        \n",
    "        cls.raise_perc = amount\n",
    "    \n",
    "    \n",
    "    @classmethod\n",
    "    def from_string(cls, string_emp):\n",
    "        '''\n",
    "        This is class method and we use, the Employee class string method and the input is the string. \n",
    "        Employee class is called by its method and then the init method is called\n",
    "        So the an instance of the class is created\n",
    "        '''\n",
    "        f_name, l_name, pay = string_emp.split(\"-\")\n",
    "        return Employee(f_name, l_name, pay)\n",
    "    \n",
    "    \n",
    "    def is_workday(day):\n",
    "        '''\n",
    "        '''\n",
    "        if day.weekday() == 5 or day.weekday() == 6:\n",
    "            return False \n",
    "        else:\n",
    "            return True"
   ]
  },
  {
   "cell_type": "markdown",
   "metadata": {},
   "source": [
    "2. We have the Developer class Developer21, which is a class of Employee001"
   ]
  },
  {
   "cell_type": "code",
   "execution_count": 178,
   "metadata": {},
   "outputs": [],
   "source": [
    "class Developer21(Employee001):\n",
    "    '''\n",
    "    '''\n",
    "    ## class varaible added\n",
    "    raise_perc = 3\n",
    "    \n",
    "    def __init__(self, first, last, pay, prog_lang):\n",
    "        '''\n",
    "        We use super to get the employee class attributtes\n",
    "        Then we add the new attribute as before\n",
    "        '''\n",
    "        super().__init__(first, last, pay)\n",
    "        self.prog_lang = prog_lang"
   ]
  },
  {
   "cell_type": "markdown",
   "metadata": {},
   "source": [
    "We have the manager subclass Manager002 derived from Employee002"
   ]
  },
  {
   "cell_type": "code",
   "execution_count": 179,
   "metadata": {},
   "outputs": [],
   "source": [
    "class Manager003(Employee001):\n",
    "    '''\n",
    "    '''\n",
    "    ## class varaible added\n",
    "    raise_perc = 4 #more than developer\n",
    "    \n",
    "    def __init__(self, first, last, pay, emp_total = None):\n",
    "        '''\n",
    "        We pass None and and [] as list are mutable and python adds back the mutable. \n",
    "        '''\n",
    "        super().__init__(first, last, pay)\n",
    "        \n",
    "        if emp_total is None:\n",
    "            self.emp_total = []\n",
    "        else:\n",
    "            self.emp_total = emp_total\n",
    "            \n",
    "    def add_emp(self, emp_name):\n",
    "        '''\n",
    "        '''\n",
    "        if emp_name not in self.emp_total:\n",
    "            self.emp_total.append(emp_name)\n",
    "            \n",
    "    def remove_emp(self, emp_name):\n",
    "        '''\n",
    "        remove - works for str and int\n",
    "        pop works for int\n",
    "        '''\n",
    "        if emp_name in self.emp_total:\n",
    "            self.emp_total.remove(emp_name)\n",
    "            \n",
    "    def print_employee(self):\n",
    "        '''\n",
    "        '''\n",
    "        for emp in self.emp_total:\n",
    "            print(\"Employee Full name is \", emp.fullnmae())"
   ]
  },
  {
   "cell_type": "code",
   "execution_count": 180,
   "metadata": {},
   "outputs": [],
   "source": [
    "emp19 = Developer21(\"madoona\", \"barcolona\", 10000, 'python')\n",
    "emp20 = Developer21(\"priya\", \"angel\", 44000, 'java')"
   ]
  },
  {
   "cell_type": "code",
   "execution_count": 181,
   "metadata": {},
   "outputs": [],
   "source": [
    "mana23 = Manager003(\"Aston\", \"martin\", 100000, [emp19, emp20])"
   ]
  },
  {
   "cell_type": "code",
   "execution_count": 184,
   "metadata": {},
   "outputs": [
    {
     "name": "stdout",
     "output_type": "stream",
     "text": [
      "Aston.martin@gmail.com\n"
     ]
    }
   ],
   "source": [
    "## we inherited that class from the Employee class\n",
    "print(mana23.email)"
   ]
  },
  {
   "cell_type": "code",
   "execution_count": 182,
   "metadata": {},
   "outputs": [
    {
     "ename": "AttributeError",
     "evalue": "'Developer21' object has no attribute 'fullnmae'",
     "output_type": "error",
     "traceback": [
      "\u001b[1;31m---------------------------------------------------------------------------\u001b[0m",
      "\u001b[1;31mAttributeError\u001b[0m                            Traceback (most recent call last)",
      "\u001b[1;32m<ipython-input-182-5cc74d947ef3>\u001b[0m in \u001b[0;36m<module>\u001b[1;34m\u001b[0m\n\u001b[1;32m----> 1\u001b[1;33m \u001b[0mmana23\u001b[0m\u001b[1;33m.\u001b[0m\u001b[0mprint_employee\u001b[0m\u001b[1;33m(\u001b[0m\u001b[1;33m)\u001b[0m\u001b[1;33m\u001b[0m\u001b[1;33m\u001b[0m\u001b[0m\n\u001b[0m",
      "\u001b[1;32m<ipython-input-179-940d34bf874b>\u001b[0m in \u001b[0;36mprint_employee\u001b[1;34m(self)\u001b[0m\n\u001b[0;32m     34\u001b[0m         '''\n\u001b[0;32m     35\u001b[0m         \u001b[1;32mfor\u001b[0m \u001b[0memp\u001b[0m \u001b[1;32min\u001b[0m \u001b[0mself\u001b[0m\u001b[1;33m.\u001b[0m\u001b[0memp_total\u001b[0m\u001b[1;33m:\u001b[0m\u001b[1;33m\u001b[0m\u001b[1;33m\u001b[0m\u001b[0m\n\u001b[1;32m---> 36\u001b[1;33m             \u001b[0mprint\u001b[0m\u001b[1;33m(\u001b[0m\u001b[1;34m\"Employee Full name is \"\u001b[0m\u001b[1;33m,\u001b[0m \u001b[0memp\u001b[0m\u001b[1;33m.\u001b[0m\u001b[0mfullnmae\u001b[0m\u001b[1;33m(\u001b[0m\u001b[1;33m)\u001b[0m\u001b[1;33m)\u001b[0m\u001b[1;33m\u001b[0m\u001b[1;33m\u001b[0m\u001b[0m\n\u001b[0m",
      "\u001b[1;31mAttributeError\u001b[0m: 'Developer21' object has no attribute 'fullnmae'"
     ]
    }
   ],
   "source": [
    "mana23.print_employee()"
   ]
  },
  {
   "cell_type": "markdown",
   "metadata": {},
   "source": [
    "We receive this error(__AttributeError: 'Developer21' object has no attribute 'fullnmae'__\n",
    ") because emp19 and emp20 are instances of Developer21 Class, neither developer or the employee class have full_name. So lets define that in the employee base class"
   ]
  },
  {
   "cell_type": "code",
   "execution_count": 193,
   "metadata": {},
   "outputs": [],
   "source": [
    "class Employee001:\n",
    "    '''\n",
    "    \n",
    "    '''\n",
    "    ### using a class variables instead of just another hard code in between the method.\n",
    "    raise_perc  = 1.4\n",
    "    num_of_emps = 0\n",
    "    \n",
    "    def __init__(self, first, last, pay):\n",
    "        '''\n",
    "        Employee.num_of_emps - this class variable cannot be overwrtiiten by its instance\n",
    "        '''\n",
    "        self.first = first\n",
    "        self.last = last\n",
    "        self.pay = pay\n",
    "        self.email = first+\".\"+last+\"@gmail.com\"\n",
    "        \n",
    "        Employee.num_of_emps += 1\n",
    "        \n",
    "    def full_name(self):\n",
    "        '''\n",
    "        '''\n",
    "        return self.first+\" \"+self.last\n",
    "    \n",
    "    def apply_raise(self):\n",
    "        '''\n",
    "        Using the instance in the below case the instance is emp1\n",
    "        So in the code its emp.raise_perc\n",
    "        '''\n",
    "        self.pay = self.pay*self.raise_perc\n",
    "        return self.pay\n",
    "    \n",
    "    @classmethod\n",
    "    def set_raise_amount(cls, amount):\n",
    "        '''\n",
    "        cls - is when u define a classmethod you use this instead of self.\n",
    "        So its not the instance thats being used here but the class itself. \n",
    "        ----------------------------------------------------------------\n",
    "        For the class we can change the raise_perc if needed\n",
    "        '''\n",
    "        \n",
    "        cls.raise_perc = amount\n",
    "    \n",
    "    \n",
    "    @classmethod\n",
    "    def from_string(cls, string_emp):\n",
    "        '''\n",
    "        This is class method and we use, the Employee class string method and the input is the string. \n",
    "        Employee class is called by its method and then the init method is called\n",
    "        So the an instance of the class is created\n",
    "        '''\n",
    "        f_name, l_name, pay = string_emp.split(\"-\")\n",
    "        return Employee(f_name, l_name, pay)\n",
    "    \n",
    "    \n",
    "    def is_workday(day):\n",
    "        '''\n",
    "        '''\n",
    "        if day.weekday() == 5 or day.weekday() == 6:\n",
    "            return False \n",
    "        else:\n",
    "            return True\n",
    "        \n",
    "    def full_name(self):\n",
    "        '''\n",
    "        \n",
    "        '''\n",
    "        return self.first+ \" \" +self.last"
   ]
  },
  {
   "cell_type": "code",
   "execution_count": 194,
   "metadata": {},
   "outputs": [],
   "source": [
    "class Developer21(Employee001):\n",
    "    '''\n",
    "    '''\n",
    "    ## class varaible added\n",
    "    raise_perc = 3\n",
    "    \n",
    "    def __init__(self, first, last, pay, prog_lang):\n",
    "        '''\n",
    "        We use super to get the employee class attributtes\n",
    "        Then we add the new attribute as before\n",
    "        '''\n",
    "        super().__init__(first, last, pay)\n",
    "        self.prog_lang = prog_lang"
   ]
  },
  {
   "cell_type": "code",
   "execution_count": 195,
   "metadata": {},
   "outputs": [],
   "source": [
    "emp21 = Developer21(\"madoona\", \"barcolona\", 10000, 'python')\n",
    "emp22 = Developer21(\"priya\", \"angel\", 44000, 'java')\n",
    "\n",
    "mana24 = Manager003(\"Aston\", \"martin\", 100000, [emp21, emp22])"
   ]
  },
  {
   "cell_type": "code",
   "execution_count": 196,
   "metadata": {
    "scrolled": true
   },
   "outputs": [
    {
     "ename": "AttributeError",
     "evalue": "'Developer21' object has no attribute 'fullnmae'",
     "output_type": "error",
     "traceback": [
      "\u001b[1;31m---------------------------------------------------------------------------\u001b[0m",
      "\u001b[1;31mAttributeError\u001b[0m                            Traceback (most recent call last)",
      "\u001b[1;32m<ipython-input-196-8d2a58927ab4>\u001b[0m in \u001b[0;36m<module>\u001b[1;34m\u001b[0m\n\u001b[1;32m----> 1\u001b[1;33m \u001b[0mmana24\u001b[0m\u001b[1;33m.\u001b[0m\u001b[0mprint_employee\u001b[0m\u001b[1;33m(\u001b[0m\u001b[1;33m)\u001b[0m\u001b[1;33m\u001b[0m\u001b[1;33m\u001b[0m\u001b[0m\n\u001b[0m",
      "\u001b[1;32m<ipython-input-179-940d34bf874b>\u001b[0m in \u001b[0;36mprint_employee\u001b[1;34m(self)\u001b[0m\n\u001b[0;32m     34\u001b[0m         '''\n\u001b[0;32m     35\u001b[0m         \u001b[1;32mfor\u001b[0m \u001b[0memp\u001b[0m \u001b[1;32min\u001b[0m \u001b[0mself\u001b[0m\u001b[1;33m.\u001b[0m\u001b[0memp_total\u001b[0m\u001b[1;33m:\u001b[0m\u001b[1;33m\u001b[0m\u001b[1;33m\u001b[0m\u001b[0m\n\u001b[1;32m---> 36\u001b[1;33m             \u001b[0mprint\u001b[0m\u001b[1;33m(\u001b[0m\u001b[1;34m\"Employee Full name is \"\u001b[0m\u001b[1;33m,\u001b[0m \u001b[0memp\u001b[0m\u001b[1;33m.\u001b[0m\u001b[0mfullnmae\u001b[0m\u001b[1;33m(\u001b[0m\u001b[1;33m)\u001b[0m\u001b[1;33m)\u001b[0m\u001b[1;33m\u001b[0m\u001b[1;33m\u001b[0m\u001b[0m\n\u001b[0m",
      "\u001b[1;31mAttributeError\u001b[0m: 'Developer21' object has no attribute 'fullnmae'"
     ]
    }
   ],
   "source": [
    "mana24.print_employee()"
   ]
  },
  {
   "cell_type": "markdown",
   "metadata": {},
   "source": [
    "__AttributeError: 'Developer21' object has no attribute 'fullnmae'__ a name error. And we can fix it below\n"
   ]
  },
  {
   "cell_type": "code",
   "execution_count": 197,
   "metadata": {},
   "outputs": [
    {
     "name": "stdout",
     "output_type": "stream",
     "text": [
      "Help on class Developer21 in module __main__:\n",
      "\n",
      "class Developer21(Employee001)\n",
      " |  Developer21(first, last, pay, prog_lang)\n",
      " |  \n",
      " |  Method resolution order:\n",
      " |      Developer21\n",
      " |      Employee001\n",
      " |      builtins.object\n",
      " |  \n",
      " |  Methods defined here:\n",
      " |  \n",
      " |  __init__(self, first, last, pay, prog_lang)\n",
      " |      We use super to get the employee class attributtes\n",
      " |      Then we add the new attribute as before\n",
      " |  \n",
      " |  ----------------------------------------------------------------------\n",
      " |  Data and other attributes defined here:\n",
      " |  \n",
      " |  raise_perc = 3\n",
      " |  \n",
      " |  ----------------------------------------------------------------------\n",
      " |  Methods inherited from Employee001:\n",
      " |  \n",
      " |  apply_raise(self)\n",
      " |      Using the instance in the below case the instance is emp1\n",
      " |      So in the code its emp.raise_perc\n",
      " |  \n",
      " |  full_name(self)\n",
      " |  \n",
      " |  is_workday(day)\n",
      " |  \n",
      " |  ----------------------------------------------------------------------\n",
      " |  Class methods inherited from Employee001:\n",
      " |  \n",
      " |  from_string(string_emp) from builtins.type\n",
      " |      This is class method and we use, the Employee class string method and the input is the string. \n",
      " |      Employee class is called by its method and then the init method is called\n",
      " |      So the an instance of the class is created\n",
      " |  \n",
      " |  set_raise_amount(amount) from builtins.type\n",
      " |      cls - is when u define a classmethod you use this instead of self.\n",
      " |      So its not the instance thats being used here but the class itself. \n",
      " |      ----------------------------------------------------------------\n",
      " |      For the class we can change the raise_perc if needed\n",
      " |  \n",
      " |  ----------------------------------------------------------------------\n",
      " |  Data descriptors inherited from Employee001:\n",
      " |  \n",
      " |  __dict__\n",
      " |      dictionary for instance variables (if defined)\n",
      " |  \n",
      " |  __weakref__\n",
      " |      list of weak references to the object (if defined)\n",
      " |  \n",
      " |  ----------------------------------------------------------------------\n",
      " |  Data and other attributes inherited from Employee001:\n",
      " |  \n",
      " |  num_of_emps = 0\n",
      "\n"
     ]
    }
   ],
   "source": [
    "help(Developer21)"
   ]
  },
  {
   "cell_type": "code",
   "execution_count": 199,
   "metadata": {},
   "outputs": [],
   "source": [
    "class Manager003(Employee001):\n",
    "    '''\n",
    "    '''\n",
    "    ## class varaible added\n",
    "    raise_perc = 4 #more than developer\n",
    "    \n",
    "    def __init__(self, first, last, pay, emp_total = None):\n",
    "        '''\n",
    "        We pass None and and [] as list are mutable and python adds back the mutable. \n",
    "        '''\n",
    "        super().__init__(first, last, pay)\n",
    "        \n",
    "        if emp_total is None:\n",
    "            self.emp_total = []\n",
    "        else:\n",
    "            self.emp_total = emp_total\n",
    "            \n",
    "    def add_emp(self, emp_name):\n",
    "        '''\n",
    "        '''\n",
    "        if emp_name not in self.emp_total:\n",
    "            self.emp_total.append(emp_name)\n",
    "            \n",
    "    def remove_emp(self, emp_name):\n",
    "        '''\n",
    "        remove - works for str and int\n",
    "        pop works for int\n",
    "        '''\n",
    "        if emp_name in self.emp_total:\n",
    "            self.emp_total.remove(emp_name)\n",
    "            \n",
    "    def print_employee(self):\n",
    "        '''\n",
    "        '''\n",
    "        for emp in self.emp_total:\n",
    "            print(\"Employee Full name is \", emp.full_name())"
   ]
  },
  {
   "cell_type": "code",
   "execution_count": 203,
   "metadata": {},
   "outputs": [
    {
     "name": "stdout",
     "output_type": "stream",
     "text": [
      "Employee Full name is  madoona barcolona\n"
     ]
    }
   ],
   "source": [
    "mana24 = Manager003(\"Aston\", \"martin\", 100000, [emp21])\n",
    "\n",
    "mana24.print_employee()"
   ]
  },
  {
   "cell_type": "code",
   "execution_count": 204,
   "metadata": {},
   "outputs": [
    {
     "name": "stdout",
     "output_type": "stream",
     "text": [
      "Employee Full name is  madoona barcolona\n",
      "Employee Full name is  priya angel\n"
     ]
    }
   ],
   "source": [
    "mana24.add_emp(emp22)\n",
    "mana24.print_employee()"
   ]
  },
  {
   "cell_type": "code",
   "execution_count": 205,
   "metadata": {},
   "outputs": [
    {
     "name": "stdout",
     "output_type": "stream",
     "text": [
      "Employee Full name is  priya angel\n"
     ]
    }
   ],
   "source": [
    "mana24.remove_emp(emp21)\n",
    "mana24.print_employee()"
   ]
  },
  {
   "cell_type": "markdown",
   "metadata": {},
   "source": [
    "isistance()<br>\n",
    "issubclass()"
   ]
  },
  {
   "cell_type": "code",
   "execution_count": 206,
   "metadata": {},
   "outputs": [
    {
     "name": "stdout",
     "output_type": "stream",
     "text": [
      "True\n"
     ]
    }
   ],
   "source": [
    "print(isinstance(mana24, Manager003))"
   ]
  },
  {
   "cell_type": "code",
   "execution_count": 207,
   "metadata": {},
   "outputs": [
    {
     "ename": "NameError",
     "evalue": "name 'Manager004' is not defined",
     "output_type": "error",
     "traceback": [
      "\u001b[1;31m---------------------------------------------------------------------------\u001b[0m",
      "\u001b[1;31mNameError\u001b[0m                                 Traceback (most recent call last)",
      "\u001b[1;32m<ipython-input-207-9974c3ef0390>\u001b[0m in \u001b[0;36m<module>\u001b[1;34m\u001b[0m\n\u001b[1;32m----> 1\u001b[1;33m \u001b[0mprint\u001b[0m\u001b[1;33m(\u001b[0m\u001b[0misinstance\u001b[0m\u001b[1;33m(\u001b[0m\u001b[0mmana24\u001b[0m\u001b[1;33m,\u001b[0m \u001b[0mManager004\u001b[0m\u001b[1;33m)\u001b[0m\u001b[1;33m)\u001b[0m\u001b[1;33m\u001b[0m\u001b[1;33m\u001b[0m\u001b[0m\n\u001b[0m",
      "\u001b[1;31mNameError\u001b[0m: name 'Manager004' is not defined"
     ]
    }
   ],
   "source": [
    "print(isinstance(mana24, Manager004))"
   ]
  },
  {
   "cell_type": "code",
   "execution_count": 208,
   "metadata": {},
   "outputs": [
    {
     "name": "stdout",
     "output_type": "stream",
     "text": [
      "False\n"
     ]
    }
   ],
   "source": [
    "print(isinstance(mana24, Developer21))"
   ]
  },
  {
   "cell_type": "code",
   "execution_count": 211,
   "metadata": {},
   "outputs": [
    {
     "name": "stdout",
     "output_type": "stream",
     "text": [
      "True\n"
     ]
    }
   ],
   "source": [
    "print(isinstance(mana24, Employee001))"
   ]
  },
  {
   "cell_type": "code",
   "execution_count": 213,
   "metadata": {},
   "outputs": [
    {
     "ename": "TypeError",
     "evalue": "issubclass() arg 1 must be a class",
     "output_type": "error",
     "traceback": [
      "\u001b[1;31m---------------------------------------------------------------------------\u001b[0m",
      "\u001b[1;31mTypeError\u001b[0m                                 Traceback (most recent call last)",
      "\u001b[1;32m<ipython-input-213-8b20c6f8ddbb>\u001b[0m in \u001b[0;36m<module>\u001b[1;34m\u001b[0m\n\u001b[1;32m----> 1\u001b[1;33m \u001b[0mprint\u001b[0m\u001b[1;33m(\u001b[0m\u001b[0missubclass\u001b[0m\u001b[1;33m(\u001b[0m\u001b[0mmana24\u001b[0m\u001b[1;33m,\u001b[0m \u001b[0mManager003\u001b[0m\u001b[1;33m)\u001b[0m\u001b[1;33m)\u001b[0m\u001b[1;33m\u001b[0m\u001b[1;33m\u001b[0m\u001b[0m\n\u001b[0m",
      "\u001b[1;31mTypeError\u001b[0m: issubclass() arg 1 must be a class"
     ]
    }
   ],
   "source": [
    "print(issubclass(mana24, Manager003))\n",
    "## mana24 is an instance of subclass Manager003"
   ]
  },
  {
   "cell_type": "code",
   "execution_count": 214,
   "metadata": {},
   "outputs": [
    {
     "ename": "TypeError",
     "evalue": "issubclass() arg 2 must be a class or tuple of classes",
     "output_type": "error",
     "traceback": [
      "\u001b[1;31m---------------------------------------------------------------------------\u001b[0m",
      "\u001b[1;31mTypeError\u001b[0m                                 Traceback (most recent call last)",
      "\u001b[1;32m<ipython-input-214-ab5a890cd455>\u001b[0m in \u001b[0;36m<module>\u001b[1;34m\u001b[0m\n\u001b[1;32m----> 1\u001b[1;33m \u001b[0mprint\u001b[0m\u001b[1;33m(\u001b[0m\u001b[0missubclass\u001b[0m\u001b[1;33m(\u001b[0m\u001b[0mManager003\u001b[0m\u001b[1;33m,\u001b[0m \u001b[0mmana24\u001b[0m\u001b[1;33m)\u001b[0m\u001b[1;33m)\u001b[0m\u001b[1;33m\u001b[0m\u001b[1;33m\u001b[0m\u001b[0m\n\u001b[0m",
      "\u001b[1;31mTypeError\u001b[0m: issubclass() arg 2 must be a class or tuple of classes"
     ]
    }
   ],
   "source": [
    "print(issubclass(Manager003, mana24))"
   ]
  },
  {
   "cell_type": "code",
   "execution_count": 215,
   "metadata": {},
   "outputs": [
    {
     "name": "stdout",
     "output_type": "stream",
     "text": [
      "True\n"
     ]
    }
   ],
   "source": [
    "print(issubclass(Manager003, Employee001))"
   ]
  },
  {
   "cell_type": "code",
   "execution_count": 217,
   "metadata": {},
   "outputs": [
    {
     "name": "stdout",
     "output_type": "stream",
     "text": [
      "False\n"
     ]
    }
   ],
   "source": [
    "print(issubclass(Manager003, Developer21))"
   ]
  },
  {
   "cell_type": "markdown",
   "metadata": {},
   "source": [
    "[__Special (Magic/Dunder) Methods Corey Schafer__](https://www.youtube.com/watch?v=3ohzBxoFHAY&list=PL-osiE80TeTsqhIuOqKhwlXsIBIdSeYtc&index=5)"
   ]
  },
  {
   "cell_type": "code",
   "execution_count": 218,
   "metadata": {},
   "outputs": [
    {
     "name": "stdout",
     "output_type": "stream",
     "text": [
      "3\n",
      "ab\n",
      "<class '__main__.Manager003'>\n"
     ]
    }
   ],
   "source": [
    "print(1+2)\n",
    "print(\"a\" +\"b\")\n",
    "print(Manager003)"
   ]
  },
  {
   "cell_type": "markdown",
   "metadata": {},
   "source": [
    "1. When we add 2 integers we get sum of integers.\n",
    "2. When we add string, strings are concatenated\n",
    "3. When we print the subclass we get the <class '__main__.Manager003'>\n",
    "4. The double underscore __ are called dunder, or dunder init."
   ]
  },
  {
   "cell_type": "markdown",
   "metadata": {},
   "source": [
    "__repr__ - to be seen by other developers, goal is to be unambiguous <br>\n",
    "__str__ - readable form of the object. <br>\n",
    "[Almost every](https://stackoverflow.com/questions/1436703/what-is-the-difference-between-str-and-repr) object you implement should have a functional __repr__ that’s usable for understanding the object. Implementing __str__ is optional: do that if you need a “pretty print” functionality (for example, used by a report generator).<br>"
   ]
  },
  {
   "cell_type": "code",
   "execution_count": 220,
   "metadata": {},
   "outputs": [
    {
     "name": "stdout",
     "output_type": "stream",
     "text": [
      "2021-06-10 12:51:47.481799\n",
      "datetime.datetime(2021, 6, 10, 12, 51, 47, 481799)\n"
     ]
    }
   ],
   "source": [
    "\n",
    "import datetime\n",
    "today = datetime.datetime.now()\n",
    "  \n",
    "# Prints readable format for date-time object\n",
    "print (str(today))\n",
    "  \n",
    "# prints the official format of date-time object\n",
    "print (repr(today))  "
   ]
  },
  {
   "cell_type": "markdown",
   "metadata": {},
   "source": [
    "_Rule of Thumb - repr needs to be able to create the same class for example_"
   ]
  },
  {
   "cell_type": "code",
   "execution_count": 7,
   "metadata": {},
   "outputs": [],
   "source": [
    "class Employee002:\n",
    "    '''\n",
    "    \n",
    "    '''\n",
    "    ### using a class variables instead of just another hard code in between the method.\n",
    "    raise_perc  = 1.4\n",
    "    num_of_emps = 0\n",
    "    \n",
    "    def __init__(self, first, last, pay):\n",
    "        '''\n",
    "        Employee.num_of_emps - this class variable cannot be overwrtiiten by its instance\n",
    "        '''\n",
    "        self.first = first\n",
    "        self.last = last\n",
    "        self.pay = pay\n",
    "        self.email = first+\".\"+last+\"@gmail.com\"\n",
    "        \n",
    "        Employee002.num_of_emps += 1\n",
    "        \n",
    "    def __repr__(self):\n",
    "        '''\n",
    "        '''\n",
    "        return (\"Employee({},{},{})\".format(self.first, self.last, self.pay))\n",
    "        \n",
    "        \n",
    "    def __str__(self):\n",
    "        '''\n",
    "        '''\n",
    "        return (\"{} - {}\".format(self.full_name(), self.pay))\n",
    "    \n",
    "    def __add__(self, other):\n",
    "        '''\n",
    "        return self+other employees pay\n",
    "        '''\n",
    "        return self.pay+other.pay\n",
    "    \n",
    "    def full_name(self):\n",
    "        '''\n",
    "        '''\n",
    "        return self.first+\" \"+self.last\n",
    "    \n",
    "    def apply_raise(self):\n",
    "        '''\n",
    "        Using the instance in the below case the instance is emp1\n",
    "        So in the code its emp.raise_perc\n",
    "        '''\n",
    "        self.pay = self.pay*self.raise_perc\n",
    "        return self.pay\n",
    "    \n",
    "\n",
    "    def is_workday(day):\n",
    "        '''\n",
    "        '''\n",
    "        if day.weekday() == 5 or day.weekday() == 6:\n",
    "            return False \n",
    "        else:\n",
    "            return True\n"
   ]
  },
  {
   "cell_type": "code",
   "execution_count": 242,
   "metadata": {},
   "outputs": [
    {
     "name": "stdout",
     "output_type": "stream",
     "text": [
      "<__main__.Employee object at 0x000002C78CB923D0>\n"
     ]
    }
   ],
   "source": [
    "## Initial initialization of Employee\n",
    "employ001 = Employee(\"Aston\", \"martin\", 100000)\n",
    "print(repr(employ001))"
   ]
  },
  {
   "cell_type": "code",
   "execution_count": 243,
   "metadata": {},
   "outputs": [
    {
     "name": "stdout",
     "output_type": "stream",
     "text": [
      "Employee(Aston,martin,100000)\n",
      "Employee(Aston,martin,100000)\n"
     ]
    }
   ],
   "source": [
    "## New Employee class\n",
    "employ001 = Employee002(\"Aston\", \"martin\", 100000)\n",
    "print(repr(employ001))\n",
    "print(employ001.__repr__())"
   ]
  },
  {
   "cell_type": "code",
   "execution_count": 244,
   "metadata": {},
   "outputs": [
    {
     "name": "stdout",
     "output_type": "stream",
     "text": [
      "Aston martin - 100000\n",
      "Aston martin - 100000\n"
     ]
    }
   ],
   "source": [
    "employ002 = Employee002(\"Aston\", \"martin\", 100000)\n",
    "print(str(employ002))\n",
    "print(employ002.__str__())"
   ]
  },
  {
   "cell_type": "code",
   "execution_count": 245,
   "metadata": {},
   "outputs": [
    {
     "name": "stdout",
     "output_type": "stream",
     "text": [
      "200000\n"
     ]
    }
   ],
   "source": [
    "## we added a dunder method __add__ so this adds the salary of two employees of the same class\n",
    "## There are other method here, such as add/multiple/divide/ substract etc\n",
    "print(employ002 + employ001)"
   ]
  },
  {
   "cell_type": "markdown",
   "metadata": {},
   "source": [
    "[__Property Decorators - Getters, Setters, and Deleters Corey Schafer__](https://www.youtube.com/watch?v=jCzT9XFZ5bw&list=PL-osiE80TeTsqhIuOqKhwlXsIBIdSeYtc&index=6)"
   ]
  },
  {
   "cell_type": "code",
   "execution_count": 8,
   "metadata": {},
   "outputs": [],
   "source": [
    "class Employee003:\n",
    "    '''\n",
    "    \n",
    "    '''\n",
    "    ### using a class variables instead of just another hard code in between the method.\n",
    "    raise_perc  = 1.4\n",
    "    num_of_emps = 0\n",
    "    \n",
    "    def __init__(self, first, last):\n",
    "        '''\n",
    "        Employee.num_of_emps - this class variable cannot be overwrtiiten by its instance\n",
    "        '''\n",
    "        self.first = first\n",
    "        self.last  = last\n",
    "        self.email = first+\".\"+last+\"@gmail.com\"\n",
    "        Employee003.num_of_emps += 1\n",
    "        \n",
    "    \n",
    "    def full_name(self):\n",
    "        '''\n",
    "        '''\n",
    "        return self.first+\" \"+self.last\n",
    "    \n"
   ]
  },
  {
   "cell_type": "code",
   "execution_count": 9,
   "metadata": {},
   "outputs": [
    {
     "name": "stdout",
     "output_type": "stream",
     "text": [
      "Aston\n",
      "martin\n",
      "Aston.martin@gmail.com\n"
     ]
    }
   ],
   "source": [
    "employ003a = Employee003(\"Aston\", \"martin\")\n",
    "print(employ003a.first)\n",
    "print(employ003a.last)\n",
    "print(employ003a.email)"
   ]
  },
  {
   "cell_type": "code",
   "execution_count": 10,
   "metadata": {},
   "outputs": [],
   "source": [
    "employ003a.first = 'mercedes'"
   ]
  },
  {
   "cell_type": "code",
   "execution_count": 11,
   "metadata": {},
   "outputs": [
    {
     "name": "stdout",
     "output_type": "stream",
     "text": [
      "mercedes\n",
      "martin\n",
      "Aston.martin@gmail.com\n"
     ]
    }
   ],
   "source": [
    "print(employ003a.first)\n",
    "print(employ003a.last)\n",
    "print(employ003a.email)"
   ]
  },
  {
   "cell_type": "code",
   "execution_count": 12,
   "metadata": {},
   "outputs": [
    {
     "name": "stdout",
     "output_type": "stream",
     "text": [
      "mercedes martin\n"
     ]
    }
   ],
   "source": [
    "print(employ003a.full_name())"
   ]
  },
  {
   "cell_type": "markdown",
   "metadata": {},
   "source": [
    "_What we see here is that, the email name has not changed, it is still the first name, __aston__ this is because, when the Employee class was created the email was set, and it wont remain the same, but the full name  method, will call the self again, in this case self.first is mercedes and then it will return the updated output.  _"
   ]
  },
  {
   "cell_type": "markdown",
   "metadata": {},
   "source": [
    "To mitigate this problem, we should make email as an method and not an attribute, but then everyone using this class will have to change thier code and that is kinda not what is needed. "
   ]
  },
  {
   "cell_type": "code",
   "execution_count": 15,
   "metadata": {},
   "outputs": [],
   "source": [
    "class Employee003:\n",
    "    '''\n",
    "    \n",
    "    '''\n",
    "    ### using a class variables instead of just another hard code in between the method.\n",
    "    raise_perc  = 1.4\n",
    "    num_of_emps = 0\n",
    "    \n",
    "    def __init__(self, first, last):\n",
    "        '''\n",
    "        Employee.num_of_emps - this class variable cannot be overwrtiiten by its instance\n",
    "        '''\n",
    "        self.first = first\n",
    "        self.last  = last\n",
    "\n",
    "        \n",
    "    def email(self):\n",
    "        '''\n",
    "        '''\n",
    "        return self.first+\" \"+self.last +\"@gmail.com\"\n",
    "        \n",
    "    \n",
    "    def full_name(self):\n",
    "        '''\n",
    "        '''\n",
    "        return self.first+\" \"+self.last\n",
    "    \n"
   ]
  },
  {
   "cell_type": "code",
   "execution_count": 17,
   "metadata": {},
   "outputs": [
    {
     "name": "stdout",
     "output_type": "stream",
     "text": [
      "Aston\n",
      "martin\n",
      "<bound method Employee003.email of <__main__.Employee003 object at 0x000002D531154E50>>\n",
      "Aston martin@gmail.com\n"
     ]
    }
   ],
   "source": [
    "employ003b = Employee003(\"Aston\", \"martin\")\n",
    "print(employ003b.first)\n",
    "print(employ003b.last)\n",
    "print(employ003b.email)\n",
    "print(employ003b.email())"
   ]
  },
  {
   "cell_type": "markdown",
   "metadata": {},
   "source": [
    "<bound method Employee003.email of <__main__.Employee003 object at 0x000002D531154970>>  as __EMAIL__ is a method we get this output. As we are calling a method and not a attribute. <br>\n",
    "To make the code easy and keep the class same we need email as an attribute. Thats where the getter comes in, in this case __@property__"
   ]
  },
  {
   "cell_type": "code",
   "execution_count": 20,
   "metadata": {},
   "outputs": [],
   "source": [
    "class Employee003:\n",
    "    '''\n",
    "    \n",
    "    '''\n",
    "    ### using a class variables instead of just another hard code in between the method.\n",
    "    raise_perc  = 1.4\n",
    "    num_of_emps = 0\n",
    "    \n",
    "    def __init__(self, first, last):\n",
    "        '''\n",
    "        Employee.num_of_emps - this class variable cannot be overwrtiiten by its instance\n",
    "        '''\n",
    "        self.first = first\n",
    "        self.last  = last\n",
    "\n",
    "        \n",
    "    @property\n",
    "    def email(self):\n",
    "        '''\n",
    "        '''\n",
    "        return self.first+\" \"+self.last +\"@gmail.com\"\n",
    "        \n",
    "    @property\n",
    "    def full_name(self):\n",
    "        '''\n",
    "        '''\n",
    "        return self.first+\" \"+self.last\n",
    "    \n"
   ]
  },
  {
   "cell_type": "code",
   "execution_count": 25,
   "metadata": {},
   "outputs": [
    {
     "name": "stdout",
     "output_type": "stream",
     "text": [
      "Aston\n",
      "martin\n",
      "mercedes martin@gmail.com\n",
      "mercedes martin\n"
     ]
    }
   ],
   "source": [
    "employ003b = Employee003(\"Aston\", \"martin\")\n",
    "print(employ003b.first)\n",
    "print(employ003b.last)\n",
    "employ003b.first = 'mercedes'\n",
    "print(employ003b.email)\n",
    "print(employ003b.full_name)"
   ]
  },
  {
   "cell_type": "markdown",
   "metadata": {},
   "source": [
    "We can call the email as an attribute and you dnt need a method for the same. <br> As I changed the first value from aston to mercedes, even the attribute change its value, email was updated to mercedes. In the previous example we still saw email as aston but here due to the property decorator it was changed. "
   ]
  },
  {
   "cell_type": "code",
   "execution_count": 26,
   "metadata": {},
   "outputs": [
    {
     "ename": "TypeError",
     "evalue": "'str' object is not callable",
     "output_type": "error",
     "traceback": [
      "\u001b[1;31m---------------------------------------------------------------------------\u001b[0m",
      "\u001b[1;31mTypeError\u001b[0m                                 Traceback (most recent call last)",
      "\u001b[1;32m<ipython-input-26-f2e16d22e978>\u001b[0m in \u001b[0;36m<module>\u001b[1;34m\u001b[0m\n\u001b[1;32m----> 1\u001b[1;33m \u001b[0mprint\u001b[0m\u001b[1;33m(\u001b[0m\u001b[0memploy003b\u001b[0m\u001b[1;33m.\u001b[0m\u001b[0memail\u001b[0m\u001b[1;33m(\u001b[0m\u001b[1;33m)\u001b[0m\u001b[1;33m)\u001b[0m\u001b[1;33m\u001b[0m\u001b[1;33m\u001b[0m\u001b[0m\n\u001b[0m",
      "\u001b[1;31mTypeError\u001b[0m: 'str' object is not callable"
     ]
    }
   ],
   "source": [
    "print(employ003b.email())"
   ]
  },
  {
   "cell_type": "markdown",
   "metadata": {},
   "source": [
    "Let's consider we want to enter the full-name for example __Roger Fed__ and update the first and last name"
   ]
  },
  {
   "cell_type": "code",
   "execution_count": 30,
   "metadata": {},
   "outputs": [],
   "source": [
    "class Employee004:\n",
    "    '''\n",
    "    \n",
    "    '''\n",
    "    ### using a class variables instead of just another hard code in between the method.\n",
    "    raise_perc  = 1.4\n",
    "    num_of_emps = 0\n",
    "    \n",
    "    def __init__(self, first, last):\n",
    "        '''\n",
    "        Employee.num_of_emps - this class variable cannot be overwrtiiten by its instance\n",
    "        '''\n",
    "        self.first = first\n",
    "        self.last  = last\n",
    "\n",
    "        \n",
    "    @property\n",
    "    def email(self):\n",
    "        '''\n",
    "        the propertt decorator gives email an attribute, and as and when first name or last is updated the email is updated. \n",
    "        '''\n",
    "        return self.first+\" \"+self.last +\"@gmail.com\"\n",
    "        \n",
    "    @property\n",
    "    def full_name(self):\n",
    "        '''\n",
    "        '''\n",
    "        return self.first+\" \"+self.last\n",
    "    \n",
    "    \n",
    "    @full_name.setter\n",
    "    def full_name(self, name):\n",
    "        '''\n",
    "        '''\n",
    "        first, last = name.split(\" \")\n",
    "        self.first  = first\n",
    "        self.last   = last\n",
    "        \n",
    "    \n"
   ]
  },
  {
   "cell_type": "code",
   "execution_count": 35,
   "metadata": {},
   "outputs": [],
   "source": [
    "emp_1 = Employee004('john', 'smith')"
   ]
  },
  {
   "cell_type": "code",
   "execution_count": 36,
   "metadata": {},
   "outputs": [
    {
     "name": "stdout",
     "output_type": "stream",
     "text": [
      "john\n",
      "smith\n",
      "john smith@gmail.com\n",
      "john smith\n"
     ]
    }
   ],
   "source": [
    "print(emp_1.first)\n",
    "print(emp_1.last)\n",
    "print(emp_1.email)\n",
    "print(emp_1.full_name)  ## getter "
   ]
  },
  {
   "cell_type": "code",
   "execution_count": 37,
   "metadata": {},
   "outputs": [
    {
     "ename": "TypeError",
     "evalue": "'str' object is not callable",
     "output_type": "error",
     "traceback": [
      "\u001b[1;31m---------------------------------------------------------------------------\u001b[0m",
      "\u001b[1;31mTypeError\u001b[0m                                 Traceback (most recent call last)",
      "\u001b[1;32m<ipython-input-37-eb4a1468f3e1>\u001b[0m in \u001b[0;36m<module>\u001b[1;34m\u001b[0m\n\u001b[1;32m----> 1\u001b[1;33m \u001b[0memp_1\u001b[0m\u001b[1;33m.\u001b[0m\u001b[0mfull_name\u001b[0m\u001b[1;33m(\u001b[0m\u001b[1;34m\"corey shcafar\"\u001b[0m\u001b[1;33m)\u001b[0m\u001b[1;33m\u001b[0m\u001b[1;33m\u001b[0m\u001b[0m\n\u001b[0m",
      "\u001b[1;31mTypeError\u001b[0m: 'str' object is not callable"
     ]
    }
   ],
   "source": [
    "emp_1.full_name(\"corey shcafar\")  ## setter"
   ]
  },
  {
   "cell_type": "code",
   "execution_count": 39,
   "metadata": {},
   "outputs": [],
   "source": [
    "## as this is not method per se, so treat it like an attribute.\n",
    "\n",
    "emp_1.full_name = \"corey shcafar\"  ## setter"
   ]
  },
  {
   "cell_type": "code",
   "execution_count": 40,
   "metadata": {},
   "outputs": [
    {
     "name": "stdout",
     "output_type": "stream",
     "text": [
      "corey\n",
      "shcafar\n",
      "corey shcafar@gmail.com\n",
      "corey shcafar\n"
     ]
    }
   ],
   "source": [
    "print(emp_1.first)\n",
    "print(emp_1.last)\n",
    "print(emp_1.email)\n",
    "print(emp_1.full_name)"
   ]
  },
  {
   "cell_type": "code",
   "execution_count": 43,
   "metadata": {},
   "outputs": [],
   "source": [
    "class Employee004:\n",
    "    '''\n",
    "    \n",
    "    '''\n",
    "    ### using a class variables instead of just another hard code in between the method.\n",
    "    raise_perc  = 1.4\n",
    "    num_of_emps = 0\n",
    "    \n",
    "    def __init__(self, first, last):\n",
    "        '''\n",
    "        Employee.num_of_emps - this class variable cannot be overwrtiiten by its instance\n",
    "        '''\n",
    "        self.first = first\n",
    "        self.last  = last\n",
    "\n",
    "        \n",
    "    @property\n",
    "    def email(self):\n",
    "        '''\n",
    "        the propertt decorator gives email an attribute, and as and when first name or last is updated the email is updated. \n",
    "        '''\n",
    "        return self.first+\" \"+self.last +\"@gmail.com\"\n",
    "        \n",
    "    @property\n",
    "    def full_name(self):\n",
    "        '''\n",
    "        '''\n",
    "        return self.first+\" \"+self.last\n",
    "    \n",
    "    \n",
    "    @full_name.setter\n",
    "    def full_name(self, name):\n",
    "        '''\n",
    "        '''\n",
    "        first, last = name.split(\" \")\n",
    "        self.first  = first\n",
    "        self.last   = last\n",
    "        \n",
    "    @full_name.deleter\n",
    "    def full_name(self):\n",
    "        '''\n",
    "        '''\n",
    "        print(\"Delete name\")\n",
    "        self.first = None\n",
    "        self.last = None"
   ]
  },
  {
   "cell_type": "code",
   "execution_count": 44,
   "metadata": {},
   "outputs": [],
   "source": [
    "emp_1 = Employee004('john', 'smith')"
   ]
  },
  {
   "cell_type": "code",
   "execution_count": 45,
   "metadata": {},
   "outputs": [
    {
     "name": "stdout",
     "output_type": "stream",
     "text": [
      "john\n",
      "smith\n",
      "john smith@gmail.com\n",
      "john smith\n"
     ]
    }
   ],
   "source": [
    "print(emp_1.first)\n",
    "print(emp_1.last)\n",
    "print(emp_1.email)\n",
    "print(emp_1.full_name)"
   ]
  },
  {
   "cell_type": "code",
   "execution_count": 46,
   "metadata": {},
   "outputs": [
    {
     "name": "stdout",
     "output_type": "stream",
     "text": [
      "Delete name\n"
     ]
    }
   ],
   "source": [
    "del emp_1.full_name"
   ]
  },
  {
   "cell_type": "code",
   "execution_count": 47,
   "metadata": {},
   "outputs": [
    {
     "name": "stdout",
     "output_type": "stream",
     "text": [
      "None\n",
      "None\n"
     ]
    },
    {
     "ename": "TypeError",
     "evalue": "unsupported operand type(s) for +: 'NoneType' and 'str'",
     "output_type": "error",
     "traceback": [
      "\u001b[1;31m---------------------------------------------------------------------------\u001b[0m",
      "\u001b[1;31mTypeError\u001b[0m                                 Traceback (most recent call last)",
      "\u001b[1;32m<ipython-input-47-9c68d694cca1>\u001b[0m in \u001b[0;36m<module>\u001b[1;34m\u001b[0m\n\u001b[0;32m      1\u001b[0m \u001b[0mprint\u001b[0m\u001b[1;33m(\u001b[0m\u001b[0memp_1\u001b[0m\u001b[1;33m.\u001b[0m\u001b[0mfirst\u001b[0m\u001b[1;33m)\u001b[0m\u001b[1;33m\u001b[0m\u001b[1;33m\u001b[0m\u001b[0m\n\u001b[0;32m      2\u001b[0m \u001b[0mprint\u001b[0m\u001b[1;33m(\u001b[0m\u001b[0memp_1\u001b[0m\u001b[1;33m.\u001b[0m\u001b[0mlast\u001b[0m\u001b[1;33m)\u001b[0m\u001b[1;33m\u001b[0m\u001b[1;33m\u001b[0m\u001b[0m\n\u001b[1;32m----> 3\u001b[1;33m \u001b[0mprint\u001b[0m\u001b[1;33m(\u001b[0m\u001b[0memp_1\u001b[0m\u001b[1;33m.\u001b[0m\u001b[0memail\u001b[0m\u001b[1;33m)\u001b[0m\u001b[1;33m\u001b[0m\u001b[1;33m\u001b[0m\u001b[0m\n\u001b[0m\u001b[0;32m      4\u001b[0m \u001b[0mprint\u001b[0m\u001b[1;33m(\u001b[0m\u001b[0memp_1\u001b[0m\u001b[1;33m.\u001b[0m\u001b[0mfull_name\u001b[0m\u001b[1;33m)\u001b[0m\u001b[1;33m\u001b[0m\u001b[1;33m\u001b[0m\u001b[0m\n",
      "\u001b[1;32m<ipython-input-43-828a11b97e5e>\u001b[0m in \u001b[0;36memail\u001b[1;34m(self)\u001b[0m\n\u001b[0;32m     20\u001b[0m         \u001b[0mthe\u001b[0m \u001b[0mpropertt\u001b[0m \u001b[0mdecorator\u001b[0m \u001b[0mgives\u001b[0m \u001b[0memail\u001b[0m \u001b[0man\u001b[0m \u001b[0mattribute\u001b[0m\u001b[1;33m,\u001b[0m \u001b[1;32mand\u001b[0m \u001b[1;32mas\u001b[0m \u001b[1;32mand\u001b[0m \u001b[0mwhen\u001b[0m \u001b[0mfirst\u001b[0m \u001b[0mname\u001b[0m \u001b[1;32mor\u001b[0m \u001b[0mlast\u001b[0m \u001b[1;32mis\u001b[0m \u001b[0mupdated\u001b[0m \u001b[0mthe\u001b[0m \u001b[0memail\u001b[0m \u001b[1;32mis\u001b[0m \u001b[0mupdated\u001b[0m\u001b[1;33m.\u001b[0m\u001b[1;33m\u001b[0m\u001b[1;33m\u001b[0m\u001b[0m\n\u001b[0;32m     21\u001b[0m         '''\n\u001b[1;32m---> 22\u001b[1;33m         \u001b[1;32mreturn\u001b[0m \u001b[0mself\u001b[0m\u001b[1;33m.\u001b[0m\u001b[0mfirst\u001b[0m\u001b[1;33m+\u001b[0m\u001b[1;34m\" \"\u001b[0m\u001b[1;33m+\u001b[0m\u001b[0mself\u001b[0m\u001b[1;33m.\u001b[0m\u001b[0mlast\u001b[0m \u001b[1;33m+\u001b[0m\u001b[1;34m\"@gmail.com\"\u001b[0m\u001b[1;33m\u001b[0m\u001b[1;33m\u001b[0m\u001b[0m\n\u001b[0m\u001b[0;32m     23\u001b[0m \u001b[1;33m\u001b[0m\u001b[0m\n\u001b[0;32m     24\u001b[0m     \u001b[1;33m@\u001b[0m\u001b[0mproperty\u001b[0m\u001b[1;33m\u001b[0m\u001b[1;33m\u001b[0m\u001b[0m\n",
      "\u001b[1;31mTypeError\u001b[0m: unsupported operand type(s) for +: 'NoneType' and 'str'"
     ]
    }
   ],
   "source": [
    "print(emp_1.first)\n",
    "print(emp_1.last)\n",
    "print(emp_1.email)\n",
    "print(emp_1.full_name)"
   ]
  },
  {
   "cell_type": "code",
   "execution_count": null,
   "metadata": {},
   "outputs": [],
   "source": []
  },
  {
   "cell_type": "code",
   "execution_count": null,
   "metadata": {},
   "outputs": [],
   "source": []
  },
  {
   "cell_type": "code",
   "execution_count": null,
   "metadata": {},
   "outputs": [],
   "source": []
  },
  {
   "cell_type": "code",
   "execution_count": null,
   "metadata": {},
   "outputs": [],
   "source": []
  },
  {
   "cell_type": "markdown",
   "metadata": {},
   "source": [
    "[__Do not use mutatble as default argument in python__](https://florimond.dev/en/posts/2018/08/python-mutable-defaults-are-the-source-of-all-evil/)"
   ]
  },
  {
   "cell_type": "markdown",
   "metadata": {},
   "source": [
    "[Python Decorators](https://www.youtube.com/watch?v=FsAPt_9Bf3U)"
   ]
  },
  {
   "cell_type": "markdown",
   "metadata": {},
   "source": [
    "[Python constructors]()"
   ]
  }
 ],
 "metadata": {
  "kernelspec": {
   "display_name": "Python 3",
   "language": "python",
   "name": "python3"
  },
  "language_info": {
   "codemirror_mode": {
    "name": "ipython",
    "version": 3
   },
   "file_extension": ".py",
   "mimetype": "text/x-python",
   "name": "python",
   "nbconvert_exporter": "python",
   "pygments_lexer": "ipython3",
   "version": "3.8.5"
  }
 },
 "nbformat": 4,
 "nbformat_minor": 4
}
