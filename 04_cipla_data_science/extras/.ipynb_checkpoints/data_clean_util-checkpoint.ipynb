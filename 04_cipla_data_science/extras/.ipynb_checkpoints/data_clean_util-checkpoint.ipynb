{
 "cells": [
  {
   "cell_type": "markdown",
   "metadata": {},
   "source": [
    "##### Data cleaning util for cipla DS challenge"
   ]
  },
  {
   "cell_type": "markdown",
   "metadata": {},
   "source": [
    "https://analyticsindiamag.com/5-ways-handle-missing-values-machine-learning-datasets/"
   ]
  },
  {
   "cell_type": "markdown",
   "metadata": {},
   "source": [
    "https://pandas.pydata.org/pandas-docs/stable/reference/api/pandas.Series.interpolate.html"
   ]
  },
  {
   "cell_type": "markdown",
   "metadata": {},
   "source": [
    "[Working with missing values detailed](https://jakevdp.github.io/PythonDataScienceHandbook/03.04-missing-values.html)"
   ]
  },
  {
   "cell_type": "markdown",
   "metadata": {},
   "source": [
    "Correct me if I am wrong on my understanding?\n",
    "1) We use mean to handle missing values when particular column is normally distributed. We can use median/mode if we have outliers in that partilcar data column {although, we don't prefer outliers}\n",
    "\n",
    "2) As a result of linear regression used above, we get predicted age (y_hat) which is being replaced where there is missing values in the age column"
   ]
  },
  {
   "cell_type": "code",
   "execution_count": 2,
   "metadata": {},
   "outputs": [],
   "source": [
    "from IPython.display import display\n"
   ]
  },
  {
   "cell_type": "code",
   "execution_count": 3,
   "metadata": {},
   "outputs": [],
   "source": [
    "class DataClean:\n",
    "\n",
    "    @staticmethod\n",
    "    def load_data(path):\n",
    "        \"\"\"\n",
    "        Read a CSV file from a given path and return a Pandas DataFrame\n",
    "        :param path: path to csv file\n",
    "        :return: returns Pandas DataFrame\n",
    "        \"\"\"\n",
    "\n",
    "        df = pd.read_csv(path)\n",
    "        return df\n",
    "    \n",
    "    @staticmethod\n",
    "    def missing_percentage(df_insurance_train, other_dict = {}):\n",
    "        '''\n",
    "        input is a dataframe\n",
    "        \n",
    "        returns : the percentage of missing values\n",
    "        '''\n",
    "        \n",
    "        missing_df = df_insurance_train.isnull().sum().reset_index()\n",
    "        missing_df[\"total\"] = len(df_insurance_train)\n",
    "        missing_df.columns = [\"features\", \"null_count\", \"total\"]\n",
    "        missing_df[\"missing_percent\"] = round(missing_df[\"null_count\"]/missing_df.total*100, 2)\n",
    "        missing_df.sort_values(\"missing_percent\", ascending = False, inplace = True)\n",
    "\n",
    "        print(missing_df.to_markdown())\n",
    "        return missing_df\n",
    "    \n",
    "    @staticmethod\n",
    "    def null_to_missing_cat(df_insurance_train, other_dict = {}):\n",
    "        '''\n",
    "        Input data frame with np.nan values and pandas NULL\n",
    "        \n",
    "        fillna() misses out np.nan\n",
    "        NAN and NONE are interchangable in pandas\n",
    "        \n",
    "        All null values are convereted to a class called missing_value\n",
    "        Output : pandas df with same shape\n",
    "        '''\n",
    "        \n",
    "        df = dict(df_insurance_train.dtypes)\n",
    "        hist_cols = [key for key in df.keys() if (df[key] == \"int64\" or df[key] == \"float64\")]\n",
    "\n",
    "        a = list(df_insurance_train.columns)\n",
    "        b = hist_cols\n",
    "        categorical_columns = list(set(a)-set(b))\n",
    "        \n",
    "        df_numeric = df_insurance_train[hist_cols]\n",
    "        \n",
    "        ## replace null values\n",
    "        df_insurance_train[categorical_columns].fillna('missing_value', inplace=True)\n",
    "        df_categorical = df_insurance_train[categorical_columns].replace(np.nan, 'missing_value', regex=True) # All data frame\n",
    "        \n",
    "        df_insurance_train =  pd.concat([df_categorical.reset_index(drop=True), df_numeric], axis=1)\n",
    "\n",
    "        DataClean.missing_percentage(df_insurance_train)\n",
    "        \n",
    "        return(df_insurance_train)\n",
    "    \n",
    "    @staticmethod\n",
    "    def num_col_mean_impute(df_insurance_train, num_impute_dict, other_dict = {}):\n",
    "        '''\n",
    "        inputs:\n",
    "        df_insurance_train - train dataframe with \n",
    "        num_impute_dict - \n",
    "        num_impute_dict = {\"Property Age\" : [\"Profession\", \"mean\"], \"Income (USD)\":[\"Profession\",  \"mean\"],\\\n",
    "                   \"Dependents\":[\"\", \"mode\"] , \"Credit Score\":[\"Has Active Credit Card\", \"mean\"],\\\n",
    "                  \"Loan Sanction Amount (USD)\":[\"\", 0], \"Current Loan Expenses (USD)\":[\"Profession\", \"mean\"]}\n",
    "        \n",
    "        The idea is to DO MORE, rn doing the minimum,\n",
    "        {\"Property Age\" : [\"Profession\", \"mean\"]} - The idea is, impute proterty age with mean property age of profession columns. \n",
    "        Business ideas, same profession guys look for similar property age. \n",
    "        A godown guy will look for older buildings, but a technie will look for new homes. \n",
    "        '''\n",
    "        impute_df = pd.DataFrame(num_impute_dict)\n",
    "        \n",
    "        ## helps to pretty print in jupyter we use to_markdown()\n",
    "        print(num_impute_dict)\n",
    "#         print(impute_df)\n",
    "        ## loop over the df\n",
    "        for cols in impute_df.columns:\n",
    "            print(cols)\n",
    "            x = impute_df[[cols]]\n",
    "#             print(x.columns[0]) \n",
    "            ## fillna with column mean.\n",
    "            df_insurance_train[cols].fillna(value= df_insurance_train[cols].mean(), inplace=True)\n",
    "        \n",
    "        DataClean.missing_percentage(df_insurance_train)\n",
    "        return df_insurance_train"
   ]
  }
 ],
 "metadata": {
  "kernelspec": {
   "display_name": "Python 3",
   "language": "python",
   "name": "python3"
  },
  "language_info": {
   "codemirror_mode": {
    "name": "ipython",
    "version": 3
   },
   "file_extension": ".py",
   "mimetype": "text/x-python",
   "name": "python",
   "nbconvert_exporter": "python",
   "pygments_lexer": "ipython3",
   "version": "3.8.5"
  }
 },
 "nbformat": 4,
 "nbformat_minor": 4
}
