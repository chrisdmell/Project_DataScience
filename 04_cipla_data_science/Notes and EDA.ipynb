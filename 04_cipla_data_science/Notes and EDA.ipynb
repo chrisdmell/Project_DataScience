{
 "cells": [
  {
   "cell_type": "markdown",
   "metadata": {},
   "source": [
    "## FAIL FAST \n",
    "> write a workinf function, you can think of optimizing it later. __FAST-FAIL.__ So was writing a function, to loop across rows then then columns of 1 /2 data frame, to impute mean or a few columns on another. rn, doing it simple. So work on simple first then can work on others. "
   ]
  },
  {
   "cell_type": "markdown",
   "metadata": {},
   "source": [
    "[Kaggle GM talk](https://www.kaggle.com/general/248957)"
   ]
  },
  {
   "cell_type": "code",
   "execution_count": null,
   "metadata": {},
   "outputs": [],
   "source": []
  },
  {
   "cell_type": "code",
   "execution_count": null,
   "metadata": {},
   "outputs": [],
   "source": []
  },
  {
   "cell_type": "markdown",
   "metadata": {},
   "source": [
    "##### How to clean data\n",
    "1. Convert all NULL to a category in categorical.\n",
    "2. For missing values to mean of one or othe other categorical values."
   ]
  },
  {
   "cell_type": "markdown",
   "metadata": {},
   "source": [
    "1. Should u impute categorical first then numeric?\n",
    "2. Which columns should be first imputed?"
   ]
  },
  {
   "cell_type": "markdown",
   "metadata": {},
   "source": [
    "#### To impute - if you know the business than it's better to do it by  business heuristics. This leads to client satisfaction. Which is more important than 99% accuracy. \n",
    "1. property age imputed by mean income based on profession because the correlation is 1, we can drop one of the columns while modelling. \n",
    "2. Income - mean of salary by profession. \n",
    "3. Dependant just mode of the the feature\n",
    "4. credit score based on has credit card feature.\n",
    "5. label or the Y feature - with 0. if missing then no loan given. Not a bad idea to  remove it also as it is 1.13% of data\n",
    "6. Current Loan Expenses (USD) - based on profession, you can also consider multiple features such as profession and location etc. "
   ]
  },
  {
   "cell_type": "markdown",
   "metadata": {},
   "source": [
    "1. __Type of employment needs to be dropped the lot of missing values in train and test__"
   ]
  },
  {
   "cell_type": "markdown",
   "metadata": {},
   "source": [
    "20210620 <br>\n",
    "__data cleaned, to some extent,__\n",
    "\n",
    "1. numeric values imputed with mean\n",
    "2. categorical missing with what do you call it, \n",
    "3. Trying the KNN imputer class"
   ]
  },
  {
   "cell_type": "markdown",
   "metadata": {},
   "source": [
    "__models to try__\n",
    "1. catboost\n",
    "2. xgboost\n",
    "3. stepaic + gridsearch\n",
    "4. deep learning\n",
    "5. Linear reg with ridge lasso - elastic search"
   ]
  },
  {
   "cell_type": "markdown",
   "metadata": {},
   "source": [
    "__Had loaded the original file. So now we know catboost doesnt allow null in target values.__"
   ]
  },
  {
   "cell_type": "markdown",
   "metadata": {},
   "source": [
    "__Convert to integer and string or float or encoding isnt done__"
   ]
  },
  {
   "cell_type": "markdown",
   "metadata": {},
   "source": [
    "__? escapet this character__"
   ]
  },
  {
   "cell_type": "markdown",
   "metadata": {},
   "source": [
    " ####  Very messy to keep track of models dataset used etc etc. I wishh there was something to do this?? - MLFLOW??"
   ]
  }
 ],
 "metadata": {
  "kernelspec": {
   "display_name": "Python 3",
   "language": "python",
   "name": "python3"
  },
  "language_info": {
   "codemirror_mode": {
    "name": "ipython",
    "version": 3
   },
   "file_extension": ".py",
   "mimetype": "text/x-python",
   "name": "python",
   "nbconvert_exporter": "python",
   "pygments_lexer": "ipython3",
   "version": "3.8.5"
  }
 },
 "nbformat": 4,
 "nbformat_minor": 4
}
