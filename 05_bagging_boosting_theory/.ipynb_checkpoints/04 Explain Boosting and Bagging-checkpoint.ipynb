{
 "cells": [
  {
   "cell_type": "markdown",
   "metadata": {},
   "source": [
    "## Bagging and Boosting "
   ]
  },
  {
   "cell_type": "markdown",
   "metadata": {},
   "source": [
    "### TOC:\n",
    "<a id = \"home\"> </a>\n",
    "* [Random Forest](#JoshStarmerRandomForestP1)\n",
    "* [ADABoost - Adaptive Boosting](#adaboost001)\n",
    "* [Decision Trees](#decissiontrees001)\n",
    "* [Gradient Boost](#gradientboost001)\n",
    "* [XG Boost Regression](#xgboosting001)\n",
    "* [XG Boost Classification](#xg_classfi)"
   ]
  },
  {
   "cell_type": "markdown",
   "metadata": {},
   "source": [
    "001"
   ]
  },
  {
   "cell_type": "markdown",
   "metadata": {},
   "source": [
    "![image.png](img\\01_boosting_bagging\\001.png)"
   ]
  },
  {
   "cell_type": "markdown",
   "metadata": {},
   "source": [
    "##### [Josh Starmer RandomForest P1](https://www.youtube.com/watch?v=J4Wdy0Wc_xQ)<br>\n",
    "<a id='JoshStarmerRandomForestP1'></a>\n"
   ]
  },
  {
   "cell_type": "markdown",
   "metadata": {},
   "source": [
    "[Berkley Random forest in detail](https://www.stat.berkeley.edu/~breiman/RandomForests/cc_home.htm)"
   ]
  },
  {
   "cell_type": "markdown",
   "metadata": {},
   "source": [
    "__Features of Random Forest__\n",
    "1. It is unexcelled in accuracy among current algorithms.\n",
    "2. It runs efficiently on large data bases.\n",
    "3. It can handle thousands of input variables without variable deletion.\n",
    "4. It gives estimates of what variables are important in the classification.\n",
    "5. It generates an internal unbiased estimate of the generalization error as the forest building progresses.\n",
    "6. It has an effective method for estimating missing data and maintains accuracy when a large proportion of the data are missing.\n",
    "7. It has methods for balancing error in class population unbalanced data sets.\n",
    "8. Generated forests can be saved for future use on other data.\n",
    "9. Prototypes are computed that give information about the relation between the variables and the classification.\n",
    "10. It computes proximities between pairs of cases that can be used in clustering, locating outliers, or (by scaling) give interesting views of the data.\n",
    "11. The capabilities of the above can be extended to unlabeled data, leading to unsupervised clustering, data views and outlier detection.\n",
    "12. It offers an experimental method for detecting variable interactions."
   ]
  },
  {
   "cell_type": "markdown",
   "metadata": {},
   "source": [
    "[Josh Starmer RF P1](https://www.youtube.com/watch?v=J4Wdy0Wc_xQ)<br>\n",
    "[Josh Starmer RF Missing data](https://www.youtube.com/watch?v=nyxTdL_4Q-Q)"
   ]
  },
  {
   "cell_type": "markdown",
   "metadata": {},
   "source": [
    "__Hyper parameters__\n",
    "1. n_estimators = number of trees in the foreset\n",
    "2. max_features = max number of features considered for splitting a node\n",
    "3. max_depth = max number of levels in each decision tree\n",
    "4. min_samples_split = min number of data points placed in a node before the node is split\n",
    "5.  min_samples_leaf = min number of data points allowed in a leaf node\n",
    "6. bootstrap = method for sampling data points (with or without replacement)"
   ]
  },
  {
   "cell_type": "markdown",
   "metadata": {},
   "source": [
    "The out-of-bag (oob) error estimate\n"
   ]
  },
  {
   "cell_type": "markdown",
   "metadata": {},
   "source": [
    "##### [Adaboost Josh Starmer](https://www.youtube.com/watch?v=LsK-xG1cLYA) - with decision trees\n",
    "<a id='adaboost001'></a>\n",
    "[HOME](#home)"
   ]
  },
  {
   "cell_type": "markdown",
   "metadata": {},
   "source": [
    "> Three important ideas\n",
    "1. Forest of stumps. Stumps are basically one node and two leaves. Adaboost combines a lot of weak learners to make classifications. \n",
    "2. Unlike random forest, where all trees carry similar weight, Adaboost stumps carry differnt weights. So some stumps get more say in the classification than others. \n",
    "3. Each stump is made by considering the errors of the previous stump. \n",
    "\n"
   ]
  },
  {
   "cell_type": "markdown",
   "metadata": {},
   "source": [
    "1. Lets consider there are 8 data points, Adaboost gives sample weight to all the 8 points and that is 1/8. \n",
    "2. For each feature, a stump a created and gini index is calculated. The stump with the lowest gini index is the first stump of the forest. \n",
    "3. Now we determind how much say this stump has in the final say. Error for data point if 8 data points then its 1/8. Total Error wil be 0 to 1. \n",
    "4. The amount of say for each stump is $$AmountOfSay =\\frac{1}{2} * log{\\frac{(1- Total Error)} {Total Error}}{}$$\n",
    "5. Next each  __sample weight__ is modified so that the next stump will consider th errors made by previous stump and learn.\n",
    "6. We increase the sample weight for wrong predictions and decrease the sample weight for right predictions.\n",
    "7. Each data point label wrongly predicted by the stump, that sample weight will be updated with the below formula.\n",
    "$$ NewSampleWeightWRONG = SampleWeight*e^{AOS}$$ <br>\n",
    "$$ NewSampleWeightRIGHT = SampleWeight*e^{-AOS}$$ \n",
    "8. Now that all sample weights are updated, we normalise the sample weights. We divide each sample weight  by sum of the total sample weight to normalize. \n",
    "9. The same process repeats. But this time a bootstrapped dataset is created, with the same size as original. We then pick a random number between 0 and 1, then we selected new samples based on this new random numbers. \n",
    "10. In the bootsrapped dataset, for samples which are duplicated. \n",
    "11. The same process continues for n trees. \n",
    "12. How a forest of stumps make a classification:\n",
    "13. For a new sample we run through n stumps. We then sum up the AOS for stumps of each class. For example out of 100 stumps if 40 stumps say yes then we sum up the AOS for example 4.6, the same for no the sum is 7.56. The highest one is no we classify as no.  "
   ]
  },
  {
   "cell_type": "code",
   "execution_count": 28,
   "metadata": {},
   "outputs": [],
   "source": [
    "## AmountOfSay =\\frac{1}{2} * log{\\frac{(1- Total Error)} {Total Error}}{}\n",
    "## NewSampleWeight = SampleWeight*e^{AOS}"
   ]
  },
  {
   "cell_type": "code",
   "execution_count": 27,
   "metadata": {},
   "outputs": [
    {
     "data": {
      "image/png": "[encoded data removed]",
      "text/plain": [
       "<Figure size 432x288 with 1 Axes>"
      ]
     },
     "metadata": {
      "needs_background": "light"
     },
     "output_type": "display_data"
    }
   ],
   "source": [
    "## TOTAL ERROR PLOT\n",
    "import math\n",
    "import matplotlib.pyplot as plt\n",
    "%matplotlib inline\n",
    "def drange(start, stop, step):\n",
    "    r = start\n",
    "    while r < stop:\n",
    "        yield r\n",
    "        r += step\n",
    "\n",
    "total_error=list(drange(0.0001, 0.99999999999999999999, 0.01)) ## 0 and 1 cause errors, so approx used\n",
    "## In the algorithm a small error term is added to that this equation doesn't freak out.  \n",
    "\n",
    "# display(total_error)\n",
    "\n",
    "amount_of_say = [0.5*math.log(((1-i)/i)) for i in total_error]\n",
    "\n",
    "# display(amount_of_say)\n",
    "err = 0.2\n",
    "plt.plot(total_error, amount_of_say)\n",
    "plt.title(\"TOTAL ERROR VS AMOUNT Of SAY\")\n",
    "plt.xlabel(\"Total Error\")\n",
    "plt.ylabel(\"Amount Of Say\")\n",
    "\n",
    "plt.axhline(y=(0.5*math.log(((1-err)/err))), color='r', linestyle='-')\n",
    "plt.axvline(x=err, color='r', linestyle='-')\n",
    "\n",
    "plt.show()"
   ]
  },
  {
   "cell_type": "code",
   "execution_count": 46,
   "metadata": {},
   "outputs": [
    {
     "data": {
      "image/png": "[encoded data removed]",
      "text/plain": [
       "<Figure size 432x288 with 1 Axes>"
      ]
     },
     "metadata": {
      "needs_background": "light"
     },
     "output_type": "display_data"
    },
    {
     "name": "stdout",
     "output_type": "stream",
     "text": [
      "The new sample weight will be 0.125 * 1.221  = 0.1527. \n",
      "This weight is greater than the older weight. So when the there is a wrong prediction sample weight increases\n"
     ]
    }
   ],
   "source": [
    "e_to_the_power_aos = [math.exp(i)  for i in amount_of_say]\n",
    "\n",
    "err = 0.2\n",
    "plt.plot(amount_of_say, e_to_the_power_aos)\n",
    "plt.title(\"AMOUNT Of SAY VS E RAISED TO AOS WRONG PREDICTION\")\n",
    "plt.xlabel(\"amount_of_say\")\n",
    "plt.ylabel(\"e_to_the_power_aos\")\n",
    "\n",
    "plt.axhline(y=math.exp(err), color='g', linestyle='-')\n",
    "plt.axvline(x=err, color='g', linestyle='-')\n",
    "\n",
    "plt.show()\n",
    "\n",
    "print(\"The new sample weight will be {} * {}  = {}. \\nThis weight is greater than the \\\n",
    "older weight. So when the there is a wrong prediction sample \\\n",
    "weight increases\".format(1/8,round(math.exp(err),3), round(math.exp(err)*1/8,4)))"
   ]
  },
  {
   "cell_type": "code",
   "execution_count": 47,
   "metadata": {},
   "outputs": [
    {
     "data": {
      "image/png": "[encoded data removed]",
      "text/plain": [
       "<Figure size 432x288 with 1 Axes>"
      ]
     },
     "metadata": {
      "needs_background": "light"
     },
     "output_type": "display_data"
    },
    {
     "name": "stdout",
     "output_type": "stream",
     "text": [
      "The new sample weight will be 0.125 * 0.819  = 0.1023. \n",
      "This weight is less than the older weight. So when the there is a right prediction sample weight decreases\n"
     ]
    }
   ],
   "source": [
    "e_to_the_power_aos = [math.exp(-i)  for i in amount_of_say]\n",
    "\n",
    "err = 0.2\n",
    "plt.plot(amount_of_say, e_to_the_power_aos)\n",
    "plt.title(\"AMOUNT Of SAY VS E RAISED TO AOS RIGHT PREDICTION\")\n",
    "plt.xlabel(\"amount_of_say\")\n",
    "plt.ylabel(\"e_to_the_power_aos\")\n",
    "\n",
    "plt.axhline(y=math.exp(-err), color='g', linestyle='-')\n",
    "plt.axvline(x=err, color='g', linestyle='-')\n",
    "\n",
    "plt.show()\n",
    "\n",
    "print(\"The new sample weight will be {} * {}  = {}. \\nThis weight is less than the \\\n",
    "older weight. So when the there is a right prediction sample \\\n",
    "weight decreases\".format(1/8,round(math.exp(-err),3), round(math.exp(-err)*1/8,4)))"
   ]
  },
  {
   "cell_type": "code",
   "execution_count": 58,
   "metadata": {},
   "outputs": [
    {
     "data": {
      "text/html": [
       "<div>\n",
       "<style scoped>\n",
       "    .dataframe tbody tr th:only-of-type {\n",
       "        vertical-align: middle;\n",
       "    }\n",
       "\n",
       "    .dataframe tbody tr th {\n",
       "        vertical-align: top;\n",
       "    }\n",
       "\n",
       "    .dataframe thead th {\n",
       "        text-align: right;\n",
       "    }\n",
       "</style>\n",
       "<table border=\"1\" class=\"dataframe\">\n",
       "  <thead>\n",
       "    <tr style=\"text-align: right;\">\n",
       "      <th></th>\n",
       "      <th>sample_weight_initia</th>\n",
       "      <th>error_flag</th>\n",
       "      <th>sample_wight_new</th>\n",
       "      <th>sam_wei_normalized</th>\n",
       "    </tr>\n",
       "  </thead>\n",
       "  <tbody>\n",
       "    <tr>\n",
       "      <th>0</th>\n",
       "      <td>0.125</td>\n",
       "      <td>0</td>\n",
       "      <td>0.105</td>\n",
       "      <td>0.112903</td>\n",
       "    </tr>\n",
       "    <tr>\n",
       "      <th>1</th>\n",
       "      <td>0.125</td>\n",
       "      <td>0</td>\n",
       "      <td>0.105</td>\n",
       "      <td>0.112903</td>\n",
       "    </tr>\n",
       "    <tr>\n",
       "      <th>2</th>\n",
       "      <td>0.125</td>\n",
       "      <td>0</td>\n",
       "      <td>0.105</td>\n",
       "      <td>0.112903</td>\n",
       "    </tr>\n",
       "    <tr>\n",
       "      <th>3</th>\n",
       "      <td>0.125</td>\n",
       "      <td>0</td>\n",
       "      <td>0.105</td>\n",
       "      <td>0.112903</td>\n",
       "    </tr>\n",
       "    <tr>\n",
       "      <th>4</th>\n",
       "      <td>0.125</td>\n",
       "      <td>0</td>\n",
       "      <td>0.105</td>\n",
       "      <td>0.112903</td>\n",
       "    </tr>\n",
       "    <tr>\n",
       "      <th>5</th>\n",
       "      <td>0.125</td>\n",
       "      <td>0</td>\n",
       "      <td>0.105</td>\n",
       "      <td>0.112903</td>\n",
       "    </tr>\n",
       "    <tr>\n",
       "      <th>6</th>\n",
       "      <td>0.125</td>\n",
       "      <td>1</td>\n",
       "      <td>0.195</td>\n",
       "      <td>0.209677</td>\n",
       "    </tr>\n",
       "    <tr>\n",
       "      <th>7</th>\n",
       "      <td>0.125</td>\n",
       "      <td>0</td>\n",
       "      <td>0.105</td>\n",
       "      <td>0.112903</td>\n",
       "    </tr>\n",
       "  </tbody>\n",
       "</table>\n",
       "</div>"
      ],
      "text/plain": [
       "   sample_weight_initia  error_flag  sample_wight_new  sam_wei_normalized\n",
       "0                 0.125           0             0.105            0.112903\n",
       "1                 0.125           0             0.105            0.112903\n",
       "2                 0.125           0             0.105            0.112903\n",
       "3                 0.125           0             0.105            0.112903\n",
       "4                 0.125           0             0.105            0.112903\n",
       "5                 0.125           0             0.105            0.112903\n",
       "6                 0.125           1             0.195            0.209677\n",
       "7                 0.125           0             0.105            0.112903"
      ]
     },
     "metadata": {},
     "output_type": "display_data"
    },
    {
     "name": "stdout",
     "output_type": "stream",
     "text": [
      "Sum of new sample weights after normalization is 1.0\n"
     ]
    }
   ],
   "source": [
    "import pandas as pd\n",
    "sam_wei_ini = [0.125,0.125,0.125,0.125,0.125,0.125,0.125,0.125]\n",
    "## for the stump if data point is error or not\n",
    "error = [0,0,0,0,0,0,1,0]\n",
    "## for error we increase the sample weight\n",
    "## for good prediction sample weight is decreased\n",
    "sam_wei_new = [0.105,0.105,0.105,0.105,0.105,0.105,0.195,0.105]\n",
    "sum_of_new_weigths = sum(sam_wei_new)\n",
    "\n",
    "sam_wei_normalized = [i/sum_of_new_weigths for i in sam_wei_new]\n",
    "\n",
    "df = pd.DataFrame({\"sample_weight_initia\":sam_wei_ini, \"error_flag\": error, \"sample_wight_new\" : sam_wei_new,\\\n",
    "                  \"sam_wei_normalized\":sam_wei_normalized})\n",
    "display(df)\n",
    "print(\"Sum of new sample weights after normalization is {}\".format(sum(sam_wei_normalized)))"
   ]
  },
  {
   "cell_type": "markdown",
   "metadata": {},
   "source": [
    "1. __sample_weight_initia__ - This is the inital sample weight, which is similar across all data points. \n",
    "2. __error_flag__ - If the stump predicted it wrong or right\n",
    "3. __sample_wight_new__ - Sample weight after updating the weights using \n",
    "4. __sam_wei_normalized__ - Normalised such that their sum is 1."
   ]
  },
  {
   "cell_type": "markdown",
   "metadata": {},
   "source": [
    "From the total error plot:\n",
    "1. When total error is low, the AOS is highest and vise versa. \n",
    "2. The the stump is only half good then the AOS is 0."
   ]
  },
  {
   "cell_type": "markdown",
   "metadata": {},
   "source": [
    "002"
   ]
  },
  {
   "cell_type": "markdown",
   "metadata": {},
   "source": [
    "![image.png](img\\01_boosting_bagging\\002.png)"
   ]
  },
  {
   "cell_type": "markdown",
   "metadata": {},
   "source": [
    "003"
   ]
  },
  {
   "cell_type": "markdown",
   "metadata": {},
   "source": [
    "![image.png](img\\01_boosting_bagging\\003.png)"
   ]
  },
  {
   "cell_type": "markdown",
   "metadata": {},
   "source": [
    "##### [Decision Trees Josh Starmer](https://www.youtube.com/watch?v=7VeUPuFGJHk)\n",
    "<a id=\"decissiontrees001\"></a>\n",
    "[HOME](#home)"
   ]
  },
  {
   "cell_type": "markdown",
   "metadata": {},
   "source": [
    "1. Can be built based on yes or no questions\n",
    "2. Can be built on numeric data.\n",
    "3. There are Top Nodes(One), Internal nodes and Leaves or leaf nodes.\n",
    "\n",
    "Question: How do you decide if _chest pain_ or _good blood circulation_ or _blocked arteries_ is important??\n",
    "\n",
    "1. If chest pain and heart failure values were similar as in if chest pain as __NO__ and heart failure was __NO__ and likewise for yes, then we can call chest pain as pure node. \n",
    "2. But mostly be have impure nodes. "
   ]
  },
  {
   "cell_type": "markdown",
   "metadata": {},
   "source": [
    "004\n"
   ]
  },
  {
   "cell_type": "markdown",
   "metadata": {},
   "source": [
    "![image.png](img\\01_boosting_bagging\\004.png)"
   ]
  },
  {
   "cell_type": "markdown",
   "metadata": {},
   "source": [
    "005"
   ]
  },
  {
   "cell_type": "markdown",
   "metadata": {},
   "source": [
    "![image.png](img\\01_boosting_bagging\\005.png)"
   ]
  },
  {
   "cell_type": "markdown",
   "metadata": {},
   "source": [
    "For chest pain the  gini impurity is = 1 - (probability of __YES__)^2 - (probability of __NO__)^2"
   ]
  },
  {
   "cell_type": "markdown",
   "metadata": {},
   "source": [
    "This is for chest pain __YES__ <BR>\n",
    "GINI Impurity = $$ 1 - (\\frac{105}{(105+39)})^2 - (\\frac{39}{(105+39)})^2  = 0.395 $$"
   ]
  },
  {
   "cell_type": "markdown",
   "metadata": {},
   "source": [
    "This is for chest pain __NO__ <BR>\n",
    "GINI Impurity = $$ 1 - (\\frac{34}{(34+125)})^2 - (\\frac{125}{(34+125)})^2  = 0.336 $$"
   ]
  },
  {
   "cell_type": "markdown",
   "metadata": {},
   "source": [
    "For chest pain the GINI impurity is weighted averages of both leaf nodes <br>\n",
    "\n",
    "$$ = \\frac{((105+39)*0.395 + (34+125)*0.336)}{(105+39+34+125)} $$"
   ]
  },
  {
   "cell_type": "code",
   "execution_count": 29,
   "metadata": {},
   "outputs": [],
   "source": [
    "## 1 - (\\frac{105}{(105+39)})^2 - (\\frac{39}{(105+39)})^2  = 0.395\n",
    "## = \\frac{((105+39)*0.395 + (34+125)*0.336)}{(105+39+34+125)}\n",
    "## 1 - (\\frac{34}{(34+125)})^2 - (\\frac{125}{(34+125)})^2  = 0.336"
   ]
  },
  {
   "cell_type": "markdown",
   "metadata": {},
   "source": [
    "The same is done for Good blood circulation and blocked arteries, whichever has the lowest GINI impurity we consider it. "
   ]
  },
  {
   "cell_type": "markdown",
   "metadata": {},
   "source": [
    "1. The tree is grown either till all the variables are exhausted in this case Good Circulation -> Blocked arteties -> Chest pain and we the leaves 17/3 and 7/22.\n",
    "2. If the gini impurity of the node is lower than its leaves then we consider the node as a leaf. In the below images, we see that 0.29 is the impurity of the leaf but 0.2 for the node. So we keep the node.  "
   ]
  },
  {
   "cell_type": "markdown",
   "metadata": {},
   "source": [
    "006"
   ]
  },
  {
   "cell_type": "markdown",
   "metadata": {},
   "source": [
    "![image.png](img\\01_boosting_bagging\\006.png)"
   ]
  },
  {
   "cell_type": "markdown",
   "metadata": {},
   "source": [
    "007"
   ]
  },
  {
   "cell_type": "markdown",
   "metadata": {},
   "source": [
    "![image.png](img\\01_boosting_bagging\\007.png)"
   ]
  },
  {
   "cell_type": "markdown",
   "metadata": {},
   "source": [
    "008"
   ]
  },
  {
   "cell_type": "markdown",
   "metadata": {},
   "source": [
    "![image.png](img\\01_boosting_bagging\\008.png)"
   ]
  },
  {
   "cell_type": "markdown",
   "metadata": {},
   "source": [
    "If the data is numeric:\n",
    "1. We sort the data in ascending order. \n",
    "2. We calculate the mean. \n",
    "3. For this mean we calculate the GINI impurity value, say weights less than 167.5 and greater than 167.5. <br>\n",
    "LEFT NODE\n",
    "$$1- (\\frac{0}{0+1})^2 - (\\frac{1}{0+1})^2 $$\n",
    "RIGHT NODE\n",
    "$$1- (\\frac{3}{3+1})^2 - (\\frac{1}{3+1})^2 $$\n",
    "Consider the weighted gini of both the leaves<br>\n",
    "4. The lowest impurity values is the numerical divider. "
   ]
  },
  {
   "cell_type": "markdown",
   "metadata": {},
   "source": [
    "009"
   ]
  },
  {
   "cell_type": "markdown",
   "metadata": {},
   "source": [
    "![image.png](img\\01_boosting_bagging\\009.png)"
   ]
  },
  {
   "cell_type": "markdown",
   "metadata": {},
   "source": [
    "[Question](https://www.youtube.com/watch?v=wpNl-JwwplA): How does decision tree handle missing data - Josh Starmer?\n",
    "> For missing data we can consider similar columns, and then run a regression on it. Or else we can consider the mean or median values of the same column. "
   ]
  },
  {
   "cell_type": "markdown",
   "metadata": {},
   "source": [
    "Advantages of Decision Tree\n",
    "\n",
    "1. Clear Visualization: The algorithm is simple to understand, interpret and visualize as the idea is mostly used in our daily lives. Output of a Decision Tree can be easily interpreted by humans.\n",
    "\n",
    "2. Simple and easy to understand: Decision Tree looks like simple if-else statements which are very easy to understand.\n",
    "\n",
    "3. Decision Tree can be used for both classification and regression problems.\n",
    "\n",
    "4. Decision Tree can handle both continuous and categorical variables.\n",
    "\n",
    "5. No feature scaling required: No feature scaling (standardization and normalization) required in case of Decision Tree as it uses rule based approach instead of distance calculation.\n",
    "\n",
    "6. Handles non-linear parameters efficiently: Non linear parameters don't affect the performance of a Decision Tree unlike curve based algorithms. So, if there is high non-linearity between the independent variables, Decision Trees may outperform as compared to other curve based algorithms.\n",
    "\n",
    "7. Decision Tree can automatically handle missing values.\n",
    "\n",
    "8. Decision Tree is usually robust to outliers and can handle them automatically.\n",
    "\n",
    "9. Less Training Period: Training period is less as compared to Random Forest because it generates only one tree unlike forest of trees in the Random Forest. \n",
    "\n",
    "Disadvantages of Decision Tree\n",
    "\n",
    "1. Overfitting: This is the main problem of the Decision Tree. It generally leads to overfitting of the data which ultimately leads to wrong predictions. In order to fit the data (even noisy data), it keeps generating new nodes and ultimately the tree becomes too complex to interpret. In this way, it loses its generalization capabilities. It performs very well on the trained data but starts making a lot of mistakes on the unseen data. __If we keep a threshold GINI impurity large enough, then the tree can generalise better.__\n",
    "\n",
    "\n",
    "2. High variance: As mentioned in point 1, Decision Tree generally leads to the overfitting of data. Due to the overfitting, there are very high chances of high variance in the output which leads to many errors in the final estimation and shows high inaccuracy in the results. In order to achieve zero bias (overfitting), it leads to high variance. \n",
    "\n",
    "3. Unstable: Adding a new data point can lead to re-generation of the overall tree and all nodes need to be recalculated and recreated. \n",
    "\n",
    "4. Affected by noise: Little bit of noise can make it unstable which leads to wrong predictions.\n",
    "\n",
    "5. Not suitable for large datasets: If data size is large, then one single tree may grow complex and lead to overfitting. So in this case, we should use Random Forest instead of a single Decision Tree."
   ]
  },
  {
   "cell_type": "markdown",
   "metadata": {},
   "source": [
    "[Pruning Decision Trees](https://www.youtube.com/watch?v=D0efHEJsfHo)"
   ]
  },
  {
   "cell_type": "markdown",
   "metadata": {},
   "source": [
    "##### [Gradient Boosted regression trees p1](https://www.youtube.com/watch?v=3CC4N4z3GJc&t=25s)<br>\n",
    "[HOME](#home) <br>\n",
    "<a id = \"gradientboost001\"></a>\n",
    "[P2](https://www.youtube.com/watch?v=2xudPOBz-vs)<br>\n",
    "[P3](https://www.youtube.com/watch?v=jxuNLH5dXCs)<br>\n",
    "[How to prune regression trees](https://www.youtube.com/watch?v=D0efHEJsfHo&t=2s)<br>"
   ]
  },
  {
   "cell_type": "markdown",
   "metadata": {},
   "source": [
    "1. For Regression Analysis, we predict a continuous variable. \n",
    "2. The GB algo tries to reduce the residaul error with a small step size, there is empherical data to prove that, when this is done with a low learning rate, the model will counter overfitting, basically it has less variance and will generalize well to unseen data. \n",
    "3. The first prediction is the average of all the label values. In the below example it is 71.2 Kg. \n",
    "4. We fine the residuals i.e. actuals-avg_predictions, in GB this is called _pseudo residuals_.\n",
    "5. Next we use all the feature to predict the residuals.(predict the pseduo residuals.)\n",
    "6. Now using the previous mean_prediction and the new residual prediction, we get the prediction for the first sample i.e. 71.2+16.8 = 88. This is same the initial value. So this leads to over fitting. Meaning low bias and probably very high variance.\n",
    "7. To tackle overfitting, a small learning rate is added. So the new prediction is 71.2+16.8*0.1. And the new residual prediction is 88- (71.2+16.8*0.1) = 15.1\n",
    "8. Prediction are calcualted by adding the mean prediction + summation to n (learning rate * residuals)\n",
    "9. New residuals are predicted and added again to the previous values i.e. to the chain of trees. \n",
    "10. This goes on till the residual sizes stop decreasing significantly or we have given the number of max trees parameter. \n"
   ]
  },
  {
   "cell_type": "markdown",
   "metadata": {},
   "source": [
    "010"
   ]
  },
  {
   "cell_type": "markdown",
   "metadata": {},
   "source": [
    "![image.png](img\\01_boosting_bagging\\010.png)"
   ]
  },
  {
   "cell_type": "markdown",
   "metadata": {},
   "source": [
    "Usually, there are about 8-32 leaves.<br>\n",
    "For height < 1.6, we consider the average of -14.2 and -15.2 to get the predicted value. "
   ]
  },
  {
   "cell_type": "markdown",
   "metadata": {},
   "source": [
    "011"
   ]
  },
  {
   "cell_type": "markdown",
   "metadata": {},
   "source": [
    "![image.png](img\\01_boosting_bagging\\011.png)"
   ]
  },
  {
   "cell_type": "code",
   "execution_count": 8,
   "metadata": {},
   "outputs": [
    {
     "data": {
      "text/plain": [
       "71.16666666666667"
      ]
     },
     "execution_count": 8,
     "metadata": {},
     "output_type": "execute_result"
    }
   ],
   "source": [
    "## Average of Y_acutals\n",
    "from functools import reduce\n",
    "\n",
    "def Average(lst):\n",
    "    return reduce(lambda a, b: a + b, lst) / len(lst)\n",
    "Average([88,76,56,73,77,57])"
   ]
  },
  {
   "cell_type": "code",
   "execution_count": 32,
   "metadata": {},
   "outputs": [
    {
     "data": {
      "text/html": [
       "<div>\n",
       "<style scoped>\n",
       "    .dataframe tbody tr th:only-of-type {\n",
       "        vertical-align: middle;\n",
       "    }\n",
       "\n",
       "    .dataframe tbody tr th {\n",
       "        vertical-align: top;\n",
       "    }\n",
       "\n",
       "    .dataframe thead th {\n",
       "        text-align: right;\n",
       "    }\n",
       "</style>\n",
       "<table border=\"1\" class=\"dataframe\">\n",
       "  <thead>\n",
       "    <tr style=\"text-align: right;\">\n",
       "      <th></th>\n",
       "      <th>features</th>\n",
       "      <th>lables</th>\n",
       "      <th>mean_prediction</th>\n",
       "    </tr>\n",
       "  </thead>\n",
       "  <tbody>\n",
       "    <tr>\n",
       "      <th>0</th>\n",
       "      <td>1</td>\n",
       "      <td>88</td>\n",
       "      <td>71.2</td>\n",
       "    </tr>\n",
       "    <tr>\n",
       "      <th>1</th>\n",
       "      <td>2</td>\n",
       "      <td>76</td>\n",
       "      <td>71.2</td>\n",
       "    </tr>\n",
       "    <tr>\n",
       "      <th>2</th>\n",
       "      <td>3</td>\n",
       "      <td>56</td>\n",
       "      <td>71.2</td>\n",
       "    </tr>\n",
       "    <tr>\n",
       "      <th>3</th>\n",
       "      <td>4</td>\n",
       "      <td>73</td>\n",
       "      <td>71.2</td>\n",
       "    </tr>\n",
       "    <tr>\n",
       "      <th>4</th>\n",
       "      <td>5</td>\n",
       "      <td>77</td>\n",
       "      <td>71.2</td>\n",
       "    </tr>\n",
       "    <tr>\n",
       "      <th>5</th>\n",
       "      <td>6</td>\n",
       "      <td>57</td>\n",
       "      <td>71.2</td>\n",
       "    </tr>\n",
       "  </tbody>\n",
       "</table>\n",
       "</div>"
      ],
      "text/plain": [
       "   features  lables  mean_prediction\n",
       "0         1      88             71.2\n",
       "1         2      76             71.2\n",
       "2         3      56             71.2\n",
       "3         4      73             71.2\n",
       "4         5      77             71.2\n",
       "5         6      57             71.2"
      ]
     },
     "execution_count": 32,
     "metadata": {},
     "output_type": "execute_result"
    }
   ],
   "source": [
    "## STEP ONE \n",
    "## The mean of labels.\n",
    "import pandas as pd\n",
    "\n",
    "df_gb_calc = pd.DataFrame({\"features\":[1,2,3,4,5,6],\"lables\":[88,76,56,73,77,57], \"mean_prediction\":[71.2,71.2,71.2,71.2,71.2,71.2]})\n",
    "df_gb_calc"
   ]
  },
  {
   "cell_type": "code",
   "execution_count": 33,
   "metadata": {},
   "outputs": [
    {
     "data": {
      "text/html": [
       "<div>\n",
       "<style scoped>\n",
       "    .dataframe tbody tr th:only-of-type {\n",
       "        vertical-align: middle;\n",
       "    }\n",
       "\n",
       "    .dataframe tbody tr th {\n",
       "        vertical-align: top;\n",
       "    }\n",
       "\n",
       "    .dataframe thead th {\n",
       "        text-align: right;\n",
       "    }\n",
       "</style>\n",
       "<table border=\"1\" class=\"dataframe\">\n",
       "  <thead>\n",
       "    <tr style=\"text-align: right;\">\n",
       "      <th></th>\n",
       "      <th>features</th>\n",
       "      <th>lables</th>\n",
       "      <th>mean_prediction</th>\n",
       "      <th>residuals</th>\n",
       "    </tr>\n",
       "  </thead>\n",
       "  <tbody>\n",
       "    <tr>\n",
       "      <th>0</th>\n",
       "      <td>1</td>\n",
       "      <td>88</td>\n",
       "      <td>71.2</td>\n",
       "      <td>16.8</td>\n",
       "    </tr>\n",
       "    <tr>\n",
       "      <th>1</th>\n",
       "      <td>2</td>\n",
       "      <td>76</td>\n",
       "      <td>71.2</td>\n",
       "      <td>4.8</td>\n",
       "    </tr>\n",
       "    <tr>\n",
       "      <th>2</th>\n",
       "      <td>3</td>\n",
       "      <td>56</td>\n",
       "      <td>71.2</td>\n",
       "      <td>-15.2</td>\n",
       "    </tr>\n",
       "    <tr>\n",
       "      <th>3</th>\n",
       "      <td>4</td>\n",
       "      <td>73</td>\n",
       "      <td>71.2</td>\n",
       "      <td>1.8</td>\n",
       "    </tr>\n",
       "    <tr>\n",
       "      <th>4</th>\n",
       "      <td>5</td>\n",
       "      <td>77</td>\n",
       "      <td>71.2</td>\n",
       "      <td>5.8</td>\n",
       "    </tr>\n",
       "    <tr>\n",
       "      <th>5</th>\n",
       "      <td>6</td>\n",
       "      <td>57</td>\n",
       "      <td>71.2</td>\n",
       "      <td>-14.2</td>\n",
       "    </tr>\n",
       "  </tbody>\n",
       "</table>\n",
       "</div>"
      ],
      "text/plain": [
       "   features  lables  mean_prediction  residuals\n",
       "0         1      88             71.2       16.8\n",
       "1         2      76             71.2        4.8\n",
       "2         3      56             71.2      -15.2\n",
       "3         4      73             71.2        1.8\n",
       "4         5      77             71.2        5.8\n",
       "5         6      57             71.2      -14.2"
      ]
     },
     "metadata": {},
     "output_type": "display_data"
    }
   ],
   "source": [
    "## STEP TWO \n",
    "## Find the residuals\n",
    "df_gb_calc[\"residuals\"] = df_gb_calc.lables - df_gb_calc.mean_prediction\n",
    "display(df_gb_calc)"
   ]
  },
  {
   "cell_type": "code",
   "execution_count": 38,
   "metadata": {},
   "outputs": [
    {
     "data": {
      "text/html": [
       "<div>\n",
       "<style scoped>\n",
       "    .dataframe tbody tr th:only-of-type {\n",
       "        vertical-align: middle;\n",
       "    }\n",
       "\n",
       "    .dataframe tbody tr th {\n",
       "        vertical-align: top;\n",
       "    }\n",
       "\n",
       "    .dataframe thead th {\n",
       "        text-align: right;\n",
       "    }\n",
       "</style>\n",
       "<table border=\"1\" class=\"dataframe\">\n",
       "  <thead>\n",
       "    <tr style=\"text-align: right;\">\n",
       "      <th></th>\n",
       "      <th>features</th>\n",
       "      <th>lables</th>\n",
       "      <th>mean_prediction</th>\n",
       "      <th>residuals</th>\n",
       "      <th>residuals_predicted_001</th>\n",
       "      <th>learning_rate</th>\n",
       "      <th>residuals_improved_001</th>\n",
       "    </tr>\n",
       "  </thead>\n",
       "  <tbody>\n",
       "    <tr>\n",
       "      <th>0</th>\n",
       "      <td>1</td>\n",
       "      <td>88</td>\n",
       "      <td>71.2</td>\n",
       "      <td>16.8</td>\n",
       "      <td>16.8</td>\n",
       "      <td>0.1</td>\n",
       "      <td>15.12</td>\n",
       "    </tr>\n",
       "    <tr>\n",
       "      <th>1</th>\n",
       "      <td>2</td>\n",
       "      <td>76</td>\n",
       "      <td>71.2</td>\n",
       "      <td>4.8</td>\n",
       "      <td>4.8</td>\n",
       "      <td>0.1</td>\n",
       "      <td>4.32</td>\n",
       "    </tr>\n",
       "    <tr>\n",
       "      <th>2</th>\n",
       "      <td>3</td>\n",
       "      <td>56</td>\n",
       "      <td>71.2</td>\n",
       "      <td>-15.2</td>\n",
       "      <td>-15.0</td>\n",
       "      <td>0.1</td>\n",
       "      <td>-13.70</td>\n",
       "    </tr>\n",
       "    <tr>\n",
       "      <th>3</th>\n",
       "      <td>4</td>\n",
       "      <td>73</td>\n",
       "      <td>71.2</td>\n",
       "      <td>1.8</td>\n",
       "      <td>4.0</td>\n",
       "      <td>0.1</td>\n",
       "      <td>1.40</td>\n",
       "    </tr>\n",
       "    <tr>\n",
       "      <th>4</th>\n",
       "      <td>5</td>\n",
       "      <td>77</td>\n",
       "      <td>71.2</td>\n",
       "      <td>5.8</td>\n",
       "      <td>4.0</td>\n",
       "      <td>0.1</td>\n",
       "      <td>5.40</td>\n",
       "    </tr>\n",
       "    <tr>\n",
       "      <th>5</th>\n",
       "      <td>6</td>\n",
       "      <td>57</td>\n",
       "      <td>71.2</td>\n",
       "      <td>-14.2</td>\n",
       "      <td>-15.0</td>\n",
       "      <td>0.1</td>\n",
       "      <td>-12.70</td>\n",
       "    </tr>\n",
       "  </tbody>\n",
       "</table>\n",
       "</div>"
      ],
      "text/plain": [
       "   features  lables  mean_prediction  residuals  residuals_predicted_001  \\\n",
       "0         1      88             71.2       16.8                     16.8   \n",
       "1         2      76             71.2        4.8                      4.8   \n",
       "2         3      56             71.2      -15.2                    -15.0   \n",
       "3         4      73             71.2        1.8                      4.0   \n",
       "4         5      77             71.2        5.8                      4.0   \n",
       "5         6      57             71.2      -14.2                    -15.0   \n",
       "\n",
       "   learning_rate  residuals_improved_001  \n",
       "0            0.1                   15.12  \n",
       "1            0.1                    4.32  \n",
       "2            0.1                  -13.70  \n",
       "3            0.1                    1.40  \n",
       "4            0.1                    5.40  \n",
       "5            0.1                  -12.70  "
      ]
     },
     "metadata": {},
     "output_type": "display_data"
    }
   ],
   "source": [
    "## NEXT STEP\n",
    "## These are the predicted residuals, ignore then math here. \n",
    "## Basically after the mean prediction, \n",
    "\n",
    "## this residual_predicted is predicted using the residuals\n",
    "import numpy as np\n",
    "\n",
    "residual_prediction_xg_boost = [16.8, 4.8, -15, 4,4,-15] \n",
    "df_gb_calc[\"residuals_predicted_001\"] = residual_prediction_xg_boost\n",
    "# df_gb_calc.insert(loc=0, column='residuals_predicted_001', value=residual_prediction_xg_boost)\n",
    "\n",
    "\n",
    "## \n",
    "df_gb_calc[\"learning_rate\"] = 0.1\n",
    "df_gb_calc[\"residuals_improved_001\"] = df_gb_calc.apply(lambda x : (x.lables - \\\n",
    "                                                                    (x.mean_prediction+ x.learning_rate*x.residuals_predicted_001)), axis = 1)\n",
    "\n",
    "display(df_gb_calc)"
   ]
  },
  {
   "cell_type": "markdown",
   "metadata": {},
   "source": [
    "1. We can see that the new residuals are improved ones from the previous. The new residual values are lower.  <br>\n",
    "2. New prediction are calculated as below: <br>\n",
    "3. __x.mean_prediction + x.residuals_predicted_001*x.learning_rate+x.learning_rate*.residuals_improved_001__   <br>\n",
    "4. The above calculation goes on and on till the max trees parameter is reached or we see no significant improvement in residuals"
   ]
  },
  {
   "cell_type": "code",
   "execution_count": 39,
   "metadata": {},
   "outputs": [
    {
     "data": {
      "text/html": [
       "<div>\n",
       "<style scoped>\n",
       "    .dataframe tbody tr th:only-of-type {\n",
       "        vertical-align: middle;\n",
       "    }\n",
       "\n",
       "    .dataframe tbody tr th {\n",
       "        vertical-align: top;\n",
       "    }\n",
       "\n",
       "    .dataframe thead th {\n",
       "        text-align: right;\n",
       "    }\n",
       "</style>\n",
       "<table border=\"1\" class=\"dataframe\">\n",
       "  <thead>\n",
       "    <tr style=\"text-align: right;\">\n",
       "      <th></th>\n",
       "      <th>features</th>\n",
       "      <th>lables</th>\n",
       "      <th>mean_prediction</th>\n",
       "      <th>residuals</th>\n",
       "      <th>residuals_predicted_001</th>\n",
       "      <th>learning_rate</th>\n",
       "      <th>residuals_improved_001</th>\n",
       "      <th>new_prediction</th>\n",
       "    </tr>\n",
       "  </thead>\n",
       "  <tbody>\n",
       "    <tr>\n",
       "      <th>0</th>\n",
       "      <td>1</td>\n",
       "      <td>88</td>\n",
       "      <td>71.2</td>\n",
       "      <td>16.8</td>\n",
       "      <td>16.8</td>\n",
       "      <td>0.1</td>\n",
       "      <td>15.12</td>\n",
       "      <td>74.392</td>\n",
       "    </tr>\n",
       "    <tr>\n",
       "      <th>1</th>\n",
       "      <td>2</td>\n",
       "      <td>76</td>\n",
       "      <td>71.2</td>\n",
       "      <td>4.8</td>\n",
       "      <td>4.8</td>\n",
       "      <td>0.1</td>\n",
       "      <td>4.32</td>\n",
       "      <td>72.112</td>\n",
       "    </tr>\n",
       "    <tr>\n",
       "      <th>2</th>\n",
       "      <td>3</td>\n",
       "      <td>56</td>\n",
       "      <td>71.2</td>\n",
       "      <td>-15.2</td>\n",
       "      <td>-15.0</td>\n",
       "      <td>0.1</td>\n",
       "      <td>-13.70</td>\n",
       "      <td>68.330</td>\n",
       "    </tr>\n",
       "    <tr>\n",
       "      <th>3</th>\n",
       "      <td>4</td>\n",
       "      <td>73</td>\n",
       "      <td>71.2</td>\n",
       "      <td>1.8</td>\n",
       "      <td>4.0</td>\n",
       "      <td>0.1</td>\n",
       "      <td>1.40</td>\n",
       "      <td>71.740</td>\n",
       "    </tr>\n",
       "    <tr>\n",
       "      <th>4</th>\n",
       "      <td>5</td>\n",
       "      <td>77</td>\n",
       "      <td>71.2</td>\n",
       "      <td>5.8</td>\n",
       "      <td>4.0</td>\n",
       "      <td>0.1</td>\n",
       "      <td>5.40</td>\n",
       "      <td>72.140</td>\n",
       "    </tr>\n",
       "    <tr>\n",
       "      <th>5</th>\n",
       "      <td>6</td>\n",
       "      <td>57</td>\n",
       "      <td>71.2</td>\n",
       "      <td>-14.2</td>\n",
       "      <td>-15.0</td>\n",
       "      <td>0.1</td>\n",
       "      <td>-12.70</td>\n",
       "      <td>68.430</td>\n",
       "    </tr>\n",
       "  </tbody>\n",
       "</table>\n",
       "</div>"
      ],
      "text/plain": [
       "   features  lables  mean_prediction  residuals  residuals_predicted_001  \\\n",
       "0         1      88             71.2       16.8                     16.8   \n",
       "1         2      76             71.2        4.8                      4.8   \n",
       "2         3      56             71.2      -15.2                    -15.0   \n",
       "3         4      73             71.2        1.8                      4.0   \n",
       "4         5      77             71.2        5.8                      4.0   \n",
       "5         6      57             71.2      -14.2                    -15.0   \n",
       "\n",
       "   learning_rate  residuals_improved_001  new_prediction  \n",
       "0            0.1                   15.12          74.392  \n",
       "1            0.1                    4.32          72.112  \n",
       "2            0.1                  -13.70          68.330  \n",
       "3            0.1                    1.40          71.740  \n",
       "4            0.1                    5.40          72.140  \n",
       "5            0.1                  -12.70          68.430  "
      ]
     },
     "metadata": {},
     "output_type": "display_data"
    }
   ],
   "source": [
    "## Calcualting the new prediction\n",
    "\n",
    "df_gb_calc[\"new_prediction\"] = df_gb_calc.apply(lambda x : (x.mean_prediction + \\\n",
    "                                                                    (x.residuals_predicted_001*x.learning_rate+ x.learning_rate*x.residuals_improved_001)), axis = 1)\n",
    "display(df_gb_calc)"
   ]
  },
  {
   "cell_type": "markdown",
   "metadata": {},
   "source": [
    ">__ValueError: arrays must all be same length__\n",
    "We receive this error in pd.DataFrame when the lenght of the dict values, the list is not of same lenght<br>\n",
    "_df_gb_calc = pd.DataFrame({\"features\":[1,2],\"lables\":[88,76,56,73,77,57], \"residuals\":[71.2,71.2,71.2,71.2,71.2,71.2]})_\n",
    "\n",
    "\n",
    "> __AttributeError: 'Series' object has no attribute 'lables'__\n",
    "When you use df.apply(), each row of your DataFrame will be passed to your lambda function as a pandas Series. The frame's columns will then be the index of the series and you can access values using series<br>\n",
    "__df['D'] = (df.apply(lambda x: myfunc(x[colNames[0]], x[colNames[1]]), axis=1)) __\n",
    "__axis = 1 was missing__\n",
    "\n",
    "\n",
    "> __ValueError: cannot insert residuals_predicted_001, already exists__\n",
    "While using df.insert <br>\n",
    "df_gb_calc.insert(loc=0, column='residuals_predicted_001', value=residual_prediction_xg_boost)\n"
   ]
  },
  {
   "cell_type": "markdown",
   "metadata": {},
   "source": [
    "012\n"
   ]
  },
  {
   "cell_type": "markdown",
   "metadata": {},
   "source": [
    "![image.png](img\\01_boosting_bagging\\012.png)"
   ]
  },
  {
   "cell_type": "markdown",
   "metadata": {},
   "source": [
    "013\n"
   ]
  },
  {
   "cell_type": "markdown",
   "metadata": {},
   "source": [
    "![image.png](img\\01_boosting_bagging\\013.png)"
   ]
  },
  {
   "cell_type": "markdown",
   "metadata": {},
   "source": [
    "\n",
    "|S.No|Adaboost|Gradient Boost|\n",
    "|---|---|---|\n",
    "|1|An additive model where shortcomings of previous models are identified by high-weight data points.|An additive model where shortcomings of previous models are identified by the gradient.|\n",
    "|2|\tThe trees are usually grown as decision stumps.|The trees are grown to a greater depth usually ranging from 8 to 32 terminal nodes.|\n",
    "|3|\tEach classifier has different weights assigned to the final prediction based on its performance.|All classifiers are weighed equally and their predictive capacity is restricted with learning rate to increase accuracy.|\n",
    "|4|\tIt gives weights to both classifiers and observations thus capturing maximum variance within data.|It builds trees on previous classifier’s residuals thus capturing variance in data.|"
   ]
  },
  {
   "cell_type": "code",
   "execution_count": null,
   "metadata": {},
   "outputs": [],
   "source": []
  },
  {
   "cell_type": "markdown",
   "metadata": {},
   "source": [
    "##### [XGBOOST Josh Starmer](https://www.youtube.com/watch?v=OtD8wVaFm6E&t=35s)\n",
    "<a id= \"xgboosting001\"></a>\n",
    "[HOME](#home)<br>\n",
    "\n",
    "[XGBOOST doc intro](https://xgboost.readthedocs.io/en/latest/tutorials/model.html)<br>\n",
    "[XGBoost parameters](https://xgboost.readthedocs.io/en/latest/parameter.html)"
   ]
  },
  {
   "cell_type": "markdown",
   "metadata": {},
   "source": [
    "__Stpes In XGBoost Regression__\n",
    "1. First an initial prediction is made, i.e. __0.5__ this remains the same for regression and classification both. XGboost is designed to be used for large complicated dataset. \n",
    "2. XGboost calcualates a tree to the residual values, i.e. the Y - 0.5. But unlike adaboost, xgboost has a bit more complicated tree. For adabost its a stump, but in xgboost 6 levels are recommended.\n",
    "3. As in decision tree, the average of 2 points is considered and a tree is built on it. For example if dossage values are 10,20,30, then trees are built on 15 and 25. And the best tree is chosen. \n",
    "4. For each average value a __similarity score__ is calcualted. After the node, the leaves similarity values are calculated.  λ is the regularization parameter. \n",
    "$$Similarity \\ Score = \\frac{Sum \\ Of \\ Residuals \\ Squared}{(No \\ Of \\ Residuals+ λ )}$$\n",
    "5. For similar sign residuals the similarity score is high. No opposite values, the similarity score is lower, as opposite signs cancel each other out. \n",
    "6. For each tree we calculate the __gain__. The tree with higher gain is considered the divider, if 15 gain better then 25 then 15 is considered, meaning greater then 15 and less than 15 are the split. Gain is considered for pruning and deciding the threshold to consider. \n",
    "$$Gain = Left_{similarity}+Right_{similarity}+Node_{similarity}$$\n",
    "7. γ is the __pruning paramter__. If γ is set to 0 doesnt mean, there is no pruning. If the similarity score is less then 0 then the tree is pruned. Pruning goes from bottom to top. So if the botton branch stays then the top stay too. \n",
    "$$Gain - γ > 0, NoPruning, Prune $$\n",
    "8. When λ>0, the amount is decrease in similarity score is inversly proportional to the no of residuals. λ Reduces the predictions sensitivity to individual observation. \n",
    "$$when \\ λ > 0, Amount \\ of \\ decrease \\ in \\ similarity \\ score ∝\\frac{1}{No \\ of \\ residuals}$$\n",
    "9. The output of the tree is \n",
    "$$Output \\ Value = \\frac{Sum \\ of \\ residuals}{No \\ of \\ residuals}$$\n",
    "10. So the final prediction is made using adding individual trees, additive individual models. \n",
    "$$New \\ Prediction = initial \\ avergae \\ prediction + η * output \\ value \\ of \\ tree \\ 001 + ...$$\n",
    "11. η is the learning rate. \n",
    "12. Trees are build till the max tree is reached, or there is no decrease in residuals size. "
   ]
  },
  {
   "cell_type": "markdown",
   "metadata": {},
   "source": [
    "001 - Initial prediction"
   ]
  },
  {
   "cell_type": "markdown",
   "metadata": {},
   "source": [
    "![image.png](img\\02_xg_boost\\001.png)"
   ]
  },
  {
   "cell_type": "markdown",
   "metadata": {},
   "source": [
    "002 - Similarity score and gain"
   ]
  },
  {
   "cell_type": "markdown",
   "metadata": {},
   "source": [
    "![image.png](img\\02_xg_boost\\002.png)"
   ]
  },
  {
   "cell_type": "markdown",
   "metadata": {},
   "source": [
    "003 - Comparison between different dosage threshold"
   ]
  },
  {
   "cell_type": "markdown",
   "metadata": {},
   "source": [
    "![image.png](img\\02_xg_boost\\003.png)"
   ]
  },
  {
   "cell_type": "markdown",
   "metadata": {},
   "source": [
    "004 - lambda regularization"
   ]
  },
  {
   "cell_type": "markdown",
   "metadata": {},
   "source": [
    "![image.png](img\\02_xg_boost\\004.png)"
   ]
  },
  {
   "cell_type": "markdown",
   "metadata": {},
   "source": [
    "005 - similatity score"
   ]
  },
  {
   "cell_type": "markdown",
   "metadata": {},
   "source": [
    "![image.png](img\\02_xg_boost\\005.png)"
   ]
  },
  {
   "cell_type": "markdown",
   "metadata": {},
   "source": [
    "006 - ouput value"
   ]
  },
  {
   "cell_type": "markdown",
   "metadata": {},
   "source": [
    "![image.png](img\\02_xg_boost\\006.png)"
   ]
  },
  {
   "cell_type": "markdown",
   "metadata": {},
   "source": [
    "007 - Final prediction"
   ]
  },
  {
   "cell_type": "markdown",
   "metadata": {},
   "source": [
    "![image.png](img\\02_xg_boost\\007.png)"
   ]
  },
  {
   "cell_type": "markdown",
   "metadata": {},
   "source": [
    "__[XG Boost Classification](https://www.youtube.com/watch?v=8b1JEDvenQU)__\n",
    "<a id = \"xg_classfi\"></a>  <br>\n",
    "[HOME](#home)"
   ]
  },
  {
   "cell_type": "code",
   "execution_count": null,
   "metadata": {},
   "outputs": [],
   "source": [
    "a = "
   ]
  },
  {
   "cell_type": "code",
   "execution_count": 2,
   "metadata": {},
   "outputs": [],
   "source": [
    "## practice test hackerearth\n",
    "\n",
    "\n",
    "a = [0,1,0,1,0,1]\n",
    "b = [1,0,1,1,0,1]\n",
    "a = [0,1,0,1,0,1]\n",
    "b = [1,0,1,1,0,1]\n",
    "\n",
    "c = [ 1 for ind, x in enumerate(a) if a[ind] == b[ind]] \n",
    "\n",
    "print(len(c))\n",
    "\n",
    "## passed"
   ]
  },
  {
   "cell_type": "code",
   "execution_count": 3,
   "metadata": {},
   "outputs": [
    {
     "data": {
      "text/plain": [
       "[1, 1, 1]"
      ]
     },
     "execution_count": 3,
     "metadata": {},
     "output_type": "execute_result"
    }
   ],
   "source": [
    "c"
   ]
  },
  {
   "cell_type": "code",
   "execution_count": null,
   "metadata": {},
   "outputs": [],
   "source": [
    "## input [45,343,3,452,23]\n",
    "## top 3 index - output - 4,1,0"
   ]
  },
  {
   "cell_type": "code",
   "execution_count": 4,
   "metadata": {},
   "outputs": [
    {
     "name": "stdout",
     "output_type": "stream",
     "text": [
      "[452, 343, 45, 23, 3]\n"
     ]
    }
   ],
   "source": [
    "data_list = [45,343,3,452,23]\n",
    "new_data_list = []\n",
    "\n",
    "while data_list:\n",
    "    maximum = data_list[0]\n",
    "    \n",
    "    for x in data_list :\n",
    "        if x > maximum:\n",
    "            maximum = x\n",
    "        \n",
    "    new_data_list.append(maximum)\n",
    "    data_list.remove(maximum)\n",
    "    \n",
    "print(new_data_list)"
   ]
  },
  {
   "cell_type": "code",
   "execution_count": 15,
   "metadata": {},
   "outputs": [],
   "source": [
    "final_index = []\n",
    "k = 3 ## keep only top 3\n",
    "data_list = [45,343,3,452,23]\n",
    "for ind,x in enumerate(new_data_list):\n",
    "    ## we need the max x \n",
    "\n",
    "    for ind_2,x_2 in enumerate(data_list):\n",
    "        if x == x_2:\n",
    "            \n",
    "            if len(final_index) < k:\n",
    "                final_index.append(ind_2)\n",
    "        \n",
    "    "
   ]
  },
  {
   "cell_type": "code",
   "execution_count": 16,
   "metadata": {},
   "outputs": [
    {
     "data": {
      "text/plain": [
       "[3, 1, 0]"
      ]
     },
     "execution_count": 16,
     "metadata": {},
     "output_type": "execute_result"
    }
   ],
   "source": [
    "final_index"
   ]
  },
  {
   "cell_type": "code",
   "execution_count": 13,
   "metadata": {},
   "outputs": [
    {
     "data": {
      "text/plain": [
       "[452, 343, 45, 23, 3]"
      ]
     },
     "execution_count": 13,
     "metadata": {},
     "output_type": "execute_result"
    }
   ],
   "source": [
    "new_data_list"
   ]
  },
  {
   "cell_type": "code",
   "execution_count": 14,
   "metadata": {},
   "outputs": [
    {
     "data": {
      "text/plain": [
       "[45, 343, 3, 452, 23]"
      ]
     },
     "execution_count": 14,
     "metadata": {},
     "output_type": "execute_result"
    }
   ],
   "source": [
    "data_list"
   ]
  },
  {
   "cell_type": "code",
   "execution_count": null,
   "metadata": {},
   "outputs": [],
   "source": []
  },
  {
   "cell_type": "code",
   "execution_count": null,
   "metadata": {},
   "outputs": [],
   "source": []
  },
  {
   "cell_type": "code",
   "execution_count": null,
   "metadata": {},
   "outputs": [],
   "source": []
  },
  {
   "cell_type": "code",
   "execution_count": null,
   "metadata": {},
   "outputs": [],
   "source": []
  }
 ],
 "metadata": {
  "kernelspec": {
   "display_name": "Python 3",
   "language": "python",
   "name": "python3"
  },
  "language_info": {
   "codemirror_mode": {
    "name": "ipython",
    "version": 3
   },
   "file_extension": ".py",
   "mimetype": "text/x-python",
   "name": "python",
   "nbconvert_exporter": "python",
   "pygments_lexer": "ipython3",
   "version": "3.8.5"
  }
 },
 "nbformat": 4,
 "nbformat_minor": 4
}
