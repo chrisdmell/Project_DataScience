{
 "cells": [
  {
   "cell_type": "markdown",
   "metadata": {},
   "source": [
    "#### 20210711\n",
    "Data cleaning has resulted in a better score. <br>\n",
    "Try out few new thing. "
   ]
  },
  {
   "cell_type": "markdown",
   "metadata": {},
   "source": [
    "__Gold Standard__"
   ]
  },
  {
   "cell_type": "code",
   "execution_count": 4,
   "metadata": {},
   "outputs": [
    {
     "data": {
      "text/plain": [
       "{'mae': 0.6075432743210333,\n",
       " 'mse': 0.9987348539176673,\n",
       " 'rmse': 0.9993672267578456,\n",
       " 'r2': 0.581624262678798,\n",
       " 'msle': 0.01578527438221224,\n",
       " 'rmsle': 0.1256394618828505}"
      ]
     },
     "execution_count": 4,
     "metadata": {},
     "output_type": "execute_result"
    }
   ],
   "source": [
    "{'mae': 0.6075432743210333,\n",
    " 'mse': 0.9987348539176673,\n",
    " 'rmse': 0.9993672267578456,\n",
    " 'r2': 0.581624262678798,\n",
    " 'msle': 0.01578527438221224,\n",
    " 'rmsle': 0.1256394618828505}"
   ]
  },
  {
   "cell_type": "code",
   "execution_count": 26,
   "metadata": {},
   "outputs": [],
   "source": [
    "## Catboost regressor class\n",
    "%run setup/catboost_regression.ipynb"
   ]
  },
  {
   "cell_type": "code",
   "execution_count": 2,
   "metadata": {},
   "outputs": [],
   "source": [
    "## utils functions\n",
    "%run extras/lab_utils_cls.ipynb"
   ]
  },
  {
   "cell_type": "code",
   "execution_count": 79,
   "metadata": {},
   "outputs": [],
   "source": [
    "## utils data clean\n",
    "%run extras/data_clean_util.ipynb"
   ]
  },
  {
   "cell_type": "code",
   "execution_count": 3,
   "metadata": {},
   "outputs": [],
   "source": [
    "test_file_loc = \"https://raw.githubusercontent.com/chrisdmell/DataScience/master/data_dump/01_math_company_hackathon/test.csv\"\n",
    "train_file_loc = \"https://raw.githubusercontent.com/chrisdmell/DataScience/master/data_dump/01_math_company_hackathon/train.csv\"\n",
    "\n",
    "test  = Utils.load_data(test_file_loc)\n",
    "train = Utils.load_data(train_file_loc)"
   ]
  },
  {
   "cell_type": "markdown",
   "metadata": {},
   "source": [
    "#### 001"
   ]
  },
  {
   "cell_type": "markdown",
   "metadata": {},
   "source": [
    "1. GridsearchCV has resulted in overfit models, so reluctant to try it again. The best model did just 100 iterations and not 1000. With 1k I still feel there is some overfit. The answer lies in the data??"
   ]
  },
  {
   "cell_type": "markdown",
   "metadata": {},
   "source": [
    "2. The above was the old approach, rn clipping mileage at 40K and 0k and engine volume at 0 and 10. After the data cleaning we clipped the lower and upper bounds. <br>\n",
    "__Clipping values dint add value as well.__ "
   ]
  },
  {
   "cell_type": "code",
   "execution_count": 14,
   "metadata": {},
   "outputs": [
    {
     "data": {
      "text/plain": [
       "{'mae': 0.5699370329978803,\n",
       " 'mse': 0.9881485567334541,\n",
       " 'rmse': 0.9940566164627919,\n",
       " 'r2': 0.5890206396795866,\n",
       " 'msle': 0.01614382297904979,\n",
       " 'rmsle': 0.12705834478321285}"
      ]
     },
     "execution_count": 14,
     "metadata": {},
     "output_type": "execute_result"
    }
   ],
   "source": [
    "## best model yet \n",
    "{'mae': 0.5699370329978803,\n",
    " 'mse': 0.9881485567334541,\n",
    " 'rmse': 0.9940566164627919,\n",
    " 'r2': 0.5890206396795866,\n",
    " 'msle': 0.01614382297904979,\n",
    " 'rmsle': 0.12705834478321285}"
   ]
  },
  {
   "cell_type": "markdown",
   "metadata": {},
   "source": [
    "3. Removing 3 variables - Wheels, turbo flag and cylinders. <br>\n",
    "__Removing those 2 variables dint add value to the mode__"
   ]
  },
  {
   "cell_type": "code",
   "execution_count": 19,
   "metadata": {},
   "outputs": [
    {
     "data": {
      "text/plain": [
       "{'mae': 0.5726249398393628,\n",
       " 'mse': 1.008630243720906,\n",
       " 'rmse': 1.0043058516811032,\n",
       " 'r2': 0.5805021324581502,\n",
       " 'msle': 0.016416378588858846,\n",
       " 'rmsle': 0.12812641643649778}"
      ]
     },
     "execution_count": 19,
     "metadata": {},
     "output_type": "execute_result"
    }
   ],
   "source": [
    "{'mae': 0.5726249398393628,\n",
    " 'mse': 1.008630243720906,\n",
    " 'rmse': 1.0043058516811032,\n",
    " 'r2': 0.5805021324581502,\n",
    " 'msle': 0.016416378588858846,\n",
    " 'rmsle': 0.12812641643649778}"
   ]
  },
  {
   "cell_type": "markdown",
   "metadata": {},
   "source": [
    "4. \"od_type\":\"IncToDec\" trying this new overfit detector on 100 iterations. The learning rate was low at 0.4 for 100 iterations. This could be the reason/<br>\n",
    "'rmsle': 0.1328283342003898, has increased from 0.12 to 0.13 "
   ]
  },
  {
   "cell_type": "markdown",
   "metadata": {},
   "source": [
    "5. Lets try the learning rate to be 0.8 with 100 iterations, and with od_type inctodec. This has a minor effect and results in higher error, There is no major effect when the iterations are 100. <br>\n",
    "Lets check moving to 1000 gives us any better values. It is still worse, seems like 100 200 is about the best iterations. <br>"
   ]
  },
  {
   "cell_type": "markdown",
   "metadata": {},
   "source": [
    ">5a. I am nearly confident now that the answer lies in the data. With 100 iterations I see a good model RSME score. To get the thrid significant boost in score, I might need to check the continuous variables and their effect on price and then change them to be gaussian in distribution, or may be some kinda relationship with price. \n",
    "<br> Should I check PCA?"
   ]
  },
  {
   "cell_type": "code",
   "execution_count": null,
   "metadata": {},
   "outputs": [],
   "source": []
  },
  {
   "cell_type": "code",
   "execution_count": null,
   "metadata": {},
   "outputs": [],
   "source": []
  },
  {
   "cell_type": "code",
   "execution_count": 101,
   "metadata": {},
   "outputs": [],
   "source": [
    "train = pd.read_csv(\"cleaned_20210711_1551.csv\")"
   ]
  },
  {
   "cell_type": "code",
   "execution_count": null,
   "metadata": {},
   "outputs": [],
   "source": [
    "columns_to_keep = [\"Manufacturer\",\"Prod. year\",\"Category\",\"Leather interior\",\"Fuel type\", \"Engine volume\",\"Cylinders\",\n",
    "                   \"Gear box type\", \"Mileage\",\"turbo_flag_n\", \\\n",
    " \"Drive wheels\", \"Wheel\", \"Airbags\", \"Price\"]\n",
    "\n",
    "cat_features = [\"Manufacturer\",\"Category\",\"Leather interior\",\"Fuel type\", \"Gear box type\", \"turbo_flag_n\", \n",
    " \"Drive wheels\", \"Wheel\"]"
   ]
  },
  {
   "cell_type": "code",
   "execution_count": 72,
   "metadata": {},
   "outputs": [
    {
     "data": {
      "text/plain": [
       "['Mileage', 'Levy', 'Price', 'Engine volume']"
      ]
     },
     "execution_count": 72,
     "metadata": {},
     "output_type": "execute_result"
    }
   ],
   "source": [
    "list(set(columns_to_keep) - set(cat_features))"
   ]
  },
  {
   "cell_type": "code",
   "execution_count": 122,
   "metadata": {},
   "outputs": [
    {
     "name": "stderr",
     "output_type": "stream",
     "text": [
      "C:\\Users\\chris.dmello\\Anaconda3\\lib\\site-packages\\pandas\\core\\frame.py:3065: SettingWithCopyWarning: \n",
      "A value is trying to be set on a copy of a slice from a DataFrame.\n",
      "Try using .loc[row_indexer,col_indexer] = value instead\n",
      "\n",
      "See the caveats in the documentation: https://pandas.pydata.org/pandas-docs/stable/user_guide/indexing.html#returning-a-view-versus-a-copy\n",
      "  self[k1] = value[k2]\n"
     ]
    },
    {
     "name": "stdout",
     "output_type": "stream",
     "text": [
      "0:\tlearn: 1.5717196\ttotal: 57.3ms\tremaining: 57.3s\n",
      "100:\tlearn: 1.1401423\ttotal: 6.91s\tremaining: 1m 1s\n",
      "200:\tlearn: 1.1140358\ttotal: 12.4s\tremaining: 49.1s\n",
      "300:\tlearn: 1.1113433\ttotal: 17.1s\tremaining: 39.6s\n",
      "400:\tlearn: 1.0960880\ttotal: 23.4s\tremaining: 35s\n",
      "500:\tlearn: 1.0829008\ttotal: 30s\tremaining: 29.9s\n",
      "600:\tlearn: 1.0660231\ttotal: 37.3s\tremaining: 24.8s\n",
      "700:\tlearn: 1.0491256\ttotal: 44.5s\tremaining: 19s\n",
      "800:\tlearn: 1.0356848\ttotal: 51.7s\tremaining: 12.9s\n",
      "900:\tlearn: 1.0226937\ttotal: 58.8s\tremaining: 6.46s\n",
      "999:\tlearn: 1.0063666\ttotal: 1m 6s\tremaining: 0us\n"
     ]
    },
    {
     "data": {
      "text/plain": [
       "{'mae': 0.6508706144482309,\n",
       " 'mse': 1.1345949911860655,\n",
       " 'rmse': 1.0651736906186078,\n",
       " 'r2': 0.5281123263066466,\n",
       " 'msle': 0.018751371678897334,\n",
       " 'rmsle': 0.13693564794784932,\n",
       " 'model': <catboost.core.CatBoostRegressor at 0x1fc800bd8e0>,\n",
       " 'y_test':            Price\n",
       " 736    10.214092\n",
       " 8674    9.244742\n",
       " 5971   10.615702\n",
       " 1957   10.564576\n",
       " 11075  10.647874\n",
       " ...          ...\n",
       " 18231  11.788411\n",
       " 1082   10.493106\n",
       " 6206    9.303557\n",
       " 9124    5.398163\n",
       " 1935    9.345570\n",
       " \n",
       " [4810 rows x 1 columns],\n",
       " 'y_pred': array([10.1924785 ,  8.94269606,  8.52214622, ...,  9.69751183,\n",
       "         6.09332408,  9.60899859]),\n",
       " 'model_score': -7209.650479964456}"
      ]
     },
     "metadata": {},
     "output_type": "display_data"
    },
    {
     "data": {
      "text/plain": [
       "array([26701.59272268,  7651.79894359,  5024.8265618 , ...,\n",
       "       16277.05660881,   442.89117426, 14898.24342256])"
      ]
     },
     "metadata": {},
     "output_type": "display_data"
    },
    {
     "data": {
      "image/png": "[encoded data removed]",
      "text/plain": [
       "<Figure size 720x504 with 1 Axes>"
      ]
     },
     "metadata": {
      "needs_background": "light"
     },
     "output_type": "display_data"
    }
   ],
   "source": [
    "columns_to_keep = [\"Manufacturer\",\"Prod. year\",\"Category\",\"Leather interior\",\"Fuel type\", \"Engine volume\",\"Cylinders\",\n",
    "                   \"Gear box type\", \"Mileage\",\"turbo_flag_n\", \\\n",
    " \"Drive wheels\", \"Wheel\", \"Airbags\", \"Price\"]\n",
    "\n",
    "cat_features = [\"Manufacturer\",\"Category\",\"Leather interior\",\"Fuel type\", \"Gear box type\", \"turbo_flag_n\", \n",
    " \"Drive wheels\", \"Wheel\"]\n",
    "\n",
    "cat_features = [\n",
    " 'Gear box type',\n",
    " 'Leather interior',\n",
    " 'Fuel type',\n",
    " 'Category',]\n",
    "columns_to_keep = list(fea_imp[fea_imp[\"imp\"] > 4].col)  + [\"Price\"]\n",
    "\n",
    "features_to_keep = train[columns_to_keep]\n",
    "\n",
    "#features_to_keep[\"Price\"] = np.log10(features_to_keep.Price)\n",
    "\n",
    "features_to_keep[cat_features] = features_to_keep[cat_features].astype(str)\n",
    "\n",
    "\n",
    "var_dict = {}\n",
    "var_dict[\"independant\"] =  list(set(columns_to_keep) - set([\"Price\"]))\n",
    "\n",
    "var_dict[\"dependant\"]   = [\"Price\"]\n",
    "\n",
    "iter_verbo = 500\n",
    "\n",
    "params = {\"cat_features\": cat_features, \n",
    "          \"loss_function\": \"RMSE\", \n",
    "          \"iterations\" : iter_verbo, \n",
    "          \"verbose\": iter_verbo,\n",
    "          \"learning_rate\": 0.5, #0.8\n",
    "          \"depth\": 12,   ##depth of the trees 12\n",
    "          \"l2_leaf_reg\": 30, #30\n",
    "          \"random_strength\": 0.1\n",
    "#           \"od_type\":\"IncToDec\",\n",
    "#           \"od_wait\" : 100  # wait till 50 iter to detect overfit\n",
    "         \n",
    "         }\n",
    "\n",
    "# {'depth': 10, 'l2_leaf_reg': 40, 'learning_rate': 0.7}\n",
    "\n",
    "\n",
    "params = {\n",
    "            \"cat_features\": cat_features, \n",
    "            \"loss_function\": \"RMSE\", \n",
    "            \"iterations\" : 1000, \n",
    "          \"verbose\":100,\n",
    "         'learning_rate': 0.05,\n",
    "         'depth': 10,   ##depth of the trees\n",
    "         'l2_leaf_reg': 40,\n",
    "#     \"one_hot_max_size\": 4\n",
    "#             \"random_strength\": 0.9\n",
    "}\n",
    "\n",
    "cat_model = catboost_regressor.new_instance(params)\n",
    "\n",
    "cat_model_base_017 = cat_model.model_run_log(features_to_keep, var_dict )\n",
    "\n",
    "cat_model.feature_importance(cat_model_base_017[\"model\"], var_dict[\"independant\"])\n",
    "\n",
    "display(cat_model_base_017)\n",
    "\n",
    "\n",
    "display(np.exp(cat_model_base_017[\"y_pred\"]))\n",
    "\n",
    "## 'rmsle': 0.12705834478321285"
   ]
  },
  {
   "cell_type": "code",
   "execution_count": 117,
   "metadata": {},
   "outputs": [
    {
     "data": {
      "text/html": [
       "<div>\n",
       "<style scoped>\n",
       "    .dataframe tbody tr th:only-of-type {\n",
       "        vertical-align: middle;\n",
       "    }\n",
       "\n",
       "    .dataframe tbody tr th {\n",
       "        vertical-align: top;\n",
       "    }\n",
       "\n",
       "    .dataframe thead th {\n",
       "        text-align: right;\n",
       "    }\n",
       "</style>\n",
       "<table border=\"1\" class=\"dataframe\">\n",
       "  <thead>\n",
       "    <tr style=\"text-align: right;\">\n",
       "      <th></th>\n",
       "      <th>imp</th>\n",
       "      <th>col</th>\n",
       "    </tr>\n",
       "  </thead>\n",
       "  <tbody>\n",
       "    <tr>\n",
       "      <th>3</th>\n",
       "      <td>40.043131</td>\n",
       "      <td>Airbags</td>\n",
       "    </tr>\n",
       "    <tr>\n",
       "      <th>0</th>\n",
       "      <td>11.329136</td>\n",
       "      <td>Prod. year</td>\n",
       "    </tr>\n",
       "    <tr>\n",
       "      <th>11</th>\n",
       "      <td>8.993338</td>\n",
       "      <td>Gear box type</td>\n",
       "    </tr>\n",
       "    <tr>\n",
       "      <th>2</th>\n",
       "      <td>8.380796</td>\n",
       "      <td>Mileage</td>\n",
       "    </tr>\n",
       "    <tr>\n",
       "      <th>4</th>\n",
       "      <td>5.442154</td>\n",
       "      <td>Leather interior</td>\n",
       "    </tr>\n",
       "  </tbody>\n",
       "</table>\n",
       "</div>"
      ],
      "text/plain": [
       "          imp               col\n",
       "3   40.043131           Airbags\n",
       "0   11.329136        Prod. year\n",
       "11   8.993338     Gear box type\n",
       "2    8.380796           Mileage\n",
       "4    5.442154  Leather interior"
      ]
     },
     "execution_count": 117,
     "metadata": {},
     "output_type": "execute_result"
    }
   ],
   "source": [
    "fea_imp = pd.DataFrame({'imp': cat_model_base_017[\"model\"].feature_importances_, 'col': \\\n",
    "                        var_dict[\"independant\"]})\n",
    "fea_imp = fea_imp.sort_values(['imp', 'col'], ascending=[False, False]).iloc[-30:]\n",
    "fea_imp.head()"
   ]
  },
  {
   "cell_type": "code",
   "execution_count": 121,
   "metadata": {},
   "outputs": [
    {
     "data": {
      "text/plain": [
       "['Airbags',\n",
       " 'Prod. year',\n",
       " 'Gear box type',\n",
       " 'Mileage',\n",
       " 'Leather interior',\n",
       " 'Fuel type',\n",
       " 'Engine volume',\n",
       " 'Category',\n",
       " 'Price']"
      ]
     },
     "execution_count": 121,
     "metadata": {},
     "output_type": "execute_result"
    }
   ],
   "source": [
    "list(fea_imp[fea_imp[\"imp\"] > 4].col) + [\"Price\"]"
   ]
  },
  {
   "cell_type": "code",
   "execution_count": 80,
   "metadata": {},
   "outputs": [
    {
     "name": "stdout",
     "output_type": "stream",
     "text": [
      "(8245, 18)\n",
      "(8245, 19)\n"
     ]
    },
    {
     "data": {
      "text/html": [
       "<div>\n",
       "<style scoped>\n",
       "    .dataframe tbody tr th:only-of-type {\n",
       "        vertical-align: middle;\n",
       "    }\n",
       "\n",
       "    .dataframe tbody tr th {\n",
       "        vertical-align: top;\n",
       "    }\n",
       "\n",
       "    .dataframe thead th {\n",
       "        text-align: right;\n",
       "    }\n",
       "</style>\n",
       "<table border=\"1\" class=\"dataframe\">\n",
       "  <thead>\n",
       "    <tr style=\"text-align: right;\">\n",
       "      <th></th>\n",
       "      <th>ID</th>\n",
       "      <th>Levy</th>\n",
       "      <th>Manufacturer</th>\n",
       "      <th>Model</th>\n",
       "      <th>Prod. year</th>\n",
       "      <th>Category</th>\n",
       "      <th>Leather interior</th>\n",
       "      <th>Fuel type</th>\n",
       "      <th>Engine volume</th>\n",
       "      <th>Mileage</th>\n",
       "      <th>Cylinders</th>\n",
       "      <th>Gear box type</th>\n",
       "      <th>Drive wheels</th>\n",
       "      <th>Doors</th>\n",
       "      <th>Wheel</th>\n",
       "      <th>Color</th>\n",
       "      <th>Airbags</th>\n",
       "      <th>Price</th>\n",
       "      <th>turbo_flag_n</th>\n",
       "    </tr>\n",
       "  </thead>\n",
       "  <tbody>\n",
       "    <tr>\n",
       "      <th>0</th>\n",
       "      <td>44020629</td>\n",
       "      <td>-</td>\n",
       "      <td>VOLKSWAGEN</td>\n",
       "      <td>Golf</td>\n",
       "      <td>2012</td>\n",
       "      <td>Hatchback</td>\n",
       "      <td>No</td>\n",
       "      <td>Diesel</td>\n",
       "      <td>2.0</td>\n",
       "      <td>0 km</td>\n",
       "      <td>4</td>\n",
       "      <td>Manual</td>\n",
       "      <td>Front</td>\n",
       "      <td>02-Mar</td>\n",
       "      <td>Left wheel</td>\n",
       "      <td>Grey</td>\n",
       "      <td>10</td>\n",
       "      <td>NaN</td>\n",
       "      <td>Turbo</td>\n",
       "    </tr>\n",
       "    <tr>\n",
       "      <th>1</th>\n",
       "      <td>45784798</td>\n",
       "      <td>-</td>\n",
       "      <td>HYUNDAI</td>\n",
       "      <td>Sonata</td>\n",
       "      <td>2012</td>\n",
       "      <td>Sedan</td>\n",
       "      <td>Yes</td>\n",
       "      <td>Petrol</td>\n",
       "      <td>2.4</td>\n",
       "      <td>26000 km</td>\n",
       "      <td>4</td>\n",
       "      <td>Tiptronic</td>\n",
       "      <td>Front</td>\n",
       "      <td>04-May</td>\n",
       "      <td>Left wheel</td>\n",
       "      <td>Grey</td>\n",
       "      <td>10</td>\n",
       "      <td>NaN</td>\n",
       "      <td>non_turbo</td>\n",
       "    </tr>\n",
       "    <tr>\n",
       "      <th>2</th>\n",
       "      <td>45800257</td>\n",
       "      <td>-</td>\n",
       "      <td>NISSAN</td>\n",
       "      <td>Tiida</td>\n",
       "      <td>2005</td>\n",
       "      <td>Sedan</td>\n",
       "      <td>No</td>\n",
       "      <td>Petrol</td>\n",
       "      <td>1.5</td>\n",
       "      <td>168000 km</td>\n",
       "      <td>4</td>\n",
       "      <td>Automatic</td>\n",
       "      <td>Front</td>\n",
       "      <td>04-May</td>\n",
       "      <td>Right-hand drive</td>\n",
       "      <td>Sky blue</td>\n",
       "      <td>8</td>\n",
       "      <td>NaN</td>\n",
       "      <td>non_turbo</td>\n",
       "    </tr>\n",
       "    <tr>\n",
       "      <th>3</th>\n",
       "      <td>45797981</td>\n",
       "      <td>975</td>\n",
       "      <td>VOLVO</td>\n",
       "      <td>XC90</td>\n",
       "      <td>2012</td>\n",
       "      <td>Jeep</td>\n",
       "      <td>Yes</td>\n",
       "      <td>Petrol</td>\n",
       "      <td>3.2</td>\n",
       "      <td>143000 km</td>\n",
       "      <td>6</td>\n",
       "      <td>Automatic</td>\n",
       "      <td>4x4</td>\n",
       "      <td>04-May</td>\n",
       "      <td>Left wheel</td>\n",
       "      <td>Blue</td>\n",
       "      <td>12</td>\n",
       "      <td>NaN</td>\n",
       "      <td>non_turbo</td>\n",
       "    </tr>\n",
       "    <tr>\n",
       "      <th>4</th>\n",
       "      <td>45814303</td>\n",
       "      <td>-</td>\n",
       "      <td>OPEL</td>\n",
       "      <td>Astra</td>\n",
       "      <td>1993</td>\n",
       "      <td>Hatchback</td>\n",
       "      <td>No</td>\n",
       "      <td>Petrol</td>\n",
       "      <td>1.6</td>\n",
       "      <td>200000 km</td>\n",
       "      <td>4</td>\n",
       "      <td>Manual</td>\n",
       "      <td>Front</td>\n",
       "      <td>04-May</td>\n",
       "      <td>Left wheel</td>\n",
       "      <td>Black</td>\n",
       "      <td>0</td>\n",
       "      <td>NaN</td>\n",
       "      <td>non_turbo</td>\n",
       "    </tr>\n",
       "  </tbody>\n",
       "</table>\n",
       "</div>"
      ],
      "text/plain": [
       "         ID Levy Manufacturer   Model  Prod. year   Category Leather interior  \\\n",
       "0  44020629    -   VOLKSWAGEN    Golf        2012  Hatchback               No   \n",
       "1  45784798    -      HYUNDAI  Sonata        2012      Sedan              Yes   \n",
       "2  45800257    -       NISSAN   Tiida        2005      Sedan               No   \n",
       "3  45797981  975        VOLVO    XC90        2012       Jeep              Yes   \n",
       "4  45814303    -         OPEL   Astra        1993  Hatchback               No   \n",
       "\n",
       "  Fuel type  Engine volume    Mileage  Cylinders Gear box type Drive wheels  \\\n",
       "0    Diesel            2.0       0 km          4        Manual        Front   \n",
       "1    Petrol            2.4   26000 km          4     Tiptronic        Front   \n",
       "2    Petrol            1.5  168000 km          4     Automatic        Front   \n",
       "3    Petrol            3.2  143000 km          6     Automatic          4x4   \n",
       "4    Petrol            1.6  200000 km          4        Manual        Front   \n",
       "\n",
       "    Doors             Wheel     Color  Airbags  Price turbo_flag_n  \n",
       "0  02-Mar        Left wheel      Grey       10    NaN        Turbo  \n",
       "1  04-May        Left wheel      Grey       10    NaN    non_turbo  \n",
       "2  04-May  Right-hand drive  Sky blue        8    NaN    non_turbo  \n",
       "3  04-May        Left wheel      Blue       12    NaN    non_turbo  \n",
       "4  04-May        Left wheel     Black        0    NaN    non_turbo  "
      ]
     },
     "execution_count": 80,
     "metadata": {},
     "output_type": "execute_result"
    }
   ],
   "source": [
    "new_1 = CarDataClean.clean_eng_vol(test)\n",
    "new_1.head()"
   ]
  },
  {
   "cell_type": "code",
   "execution_count": 81,
   "metadata": {},
   "outputs": [
    {
     "name": "stdout",
     "output_type": "stream",
     "text": [
      "(8245, 19)\n",
      "(8245, 20)\n"
     ]
    },
    {
     "data": {
      "text/html": [
       "<div>\n",
       "<style scoped>\n",
       "    .dataframe tbody tr th:only-of-type {\n",
       "        vertical-align: middle;\n",
       "    }\n",
       "\n",
       "    .dataframe tbody tr th {\n",
       "        vertical-align: top;\n",
       "    }\n",
       "\n",
       "    .dataframe thead th {\n",
       "        text-align: right;\n",
       "    }\n",
       "</style>\n",
       "<table border=\"1\" class=\"dataframe\">\n",
       "  <thead>\n",
       "    <tr style=\"text-align: right;\">\n",
       "      <th></th>\n",
       "      <th>ID</th>\n",
       "      <th>Levy</th>\n",
       "      <th>Manufacturer</th>\n",
       "      <th>Model</th>\n",
       "      <th>Prod. year</th>\n",
       "      <th>Category</th>\n",
       "      <th>Leather interior</th>\n",
       "      <th>Fuel type</th>\n",
       "      <th>Engine volume</th>\n",
       "      <th>Mileage</th>\n",
       "      <th>Cylinders</th>\n",
       "      <th>Gear box type</th>\n",
       "      <th>Drive wheels</th>\n",
       "      <th>Doors</th>\n",
       "      <th>Wheel</th>\n",
       "      <th>Color</th>\n",
       "      <th>Airbags</th>\n",
       "      <th>Price</th>\n",
       "      <th>turbo_flag_n</th>\n",
       "      <th>Mileage_avg</th>\n",
       "    </tr>\n",
       "  </thead>\n",
       "  <tbody>\n",
       "    <tr>\n",
       "      <th>0</th>\n",
       "      <td>44020629</td>\n",
       "      <td>-</td>\n",
       "      <td>VOLKSWAGEN</td>\n",
       "      <td>Golf</td>\n",
       "      <td>2012</td>\n",
       "      <td>Hatchback</td>\n",
       "      <td>No</td>\n",
       "      <td>Diesel</td>\n",
       "      <td>2.0</td>\n",
       "      <td>101825.5</td>\n",
       "      <td>4</td>\n",
       "      <td>Manual</td>\n",
       "      <td>Front</td>\n",
       "      <td>02-Mar</td>\n",
       "      <td>Left wheel</td>\n",
       "      <td>Grey</td>\n",
       "      <td>10</td>\n",
       "      <td>NaN</td>\n",
       "      <td>Turbo</td>\n",
       "      <td>101825.500000</td>\n",
       "    </tr>\n",
       "    <tr>\n",
       "      <th>1</th>\n",
       "      <td>45784798</td>\n",
       "      <td>-</td>\n",
       "      <td>HYUNDAI</td>\n",
       "      <td>Sonata</td>\n",
       "      <td>2012</td>\n",
       "      <td>Sedan</td>\n",
       "      <td>Yes</td>\n",
       "      <td>Petrol</td>\n",
       "      <td>2.4</td>\n",
       "      <td>26000.0</td>\n",
       "      <td>4</td>\n",
       "      <td>Tiptronic</td>\n",
       "      <td>Front</td>\n",
       "      <td>04-May</td>\n",
       "      <td>Left wheel</td>\n",
       "      <td>Grey</td>\n",
       "      <td>10</td>\n",
       "      <td>NaN</td>\n",
       "      <td>non_turbo</td>\n",
       "      <td>149978.098214</td>\n",
       "    </tr>\n",
       "    <tr>\n",
       "      <th>2</th>\n",
       "      <td>45800257</td>\n",
       "      <td>-</td>\n",
       "      <td>NISSAN</td>\n",
       "      <td>Tiida</td>\n",
       "      <td>2005</td>\n",
       "      <td>Sedan</td>\n",
       "      <td>No</td>\n",
       "      <td>Petrol</td>\n",
       "      <td>1.5</td>\n",
       "      <td>168000.0</td>\n",
       "      <td>4</td>\n",
       "      <td>Automatic</td>\n",
       "      <td>Front</td>\n",
       "      <td>04-May</td>\n",
       "      <td>Right-hand drive</td>\n",
       "      <td>Sky blue</td>\n",
       "      <td>8</td>\n",
       "      <td>NaN</td>\n",
       "      <td>non_turbo</td>\n",
       "      <td>145801.142857</td>\n",
       "    </tr>\n",
       "    <tr>\n",
       "      <th>3</th>\n",
       "      <td>45797981</td>\n",
       "      <td>975</td>\n",
       "      <td>VOLVO</td>\n",
       "      <td>XC90</td>\n",
       "      <td>2012</td>\n",
       "      <td>Jeep</td>\n",
       "      <td>Yes</td>\n",
       "      <td>Petrol</td>\n",
       "      <td>3.2</td>\n",
       "      <td>143000.0</td>\n",
       "      <td>6</td>\n",
       "      <td>Automatic</td>\n",
       "      <td>4x4</td>\n",
       "      <td>04-May</td>\n",
       "      <td>Left wheel</td>\n",
       "      <td>Blue</td>\n",
       "      <td>12</td>\n",
       "      <td>NaN</td>\n",
       "      <td>non_turbo</td>\n",
       "      <td>117750.000000</td>\n",
       "    </tr>\n",
       "    <tr>\n",
       "      <th>4</th>\n",
       "      <td>45814303</td>\n",
       "      <td>-</td>\n",
       "      <td>OPEL</td>\n",
       "      <td>Astra</td>\n",
       "      <td>1993</td>\n",
       "      <td>Hatchback</td>\n",
       "      <td>No</td>\n",
       "      <td>Petrol</td>\n",
       "      <td>1.6</td>\n",
       "      <td>200000.0</td>\n",
       "      <td>4</td>\n",
       "      <td>Manual</td>\n",
       "      <td>Front</td>\n",
       "      <td>04-May</td>\n",
       "      <td>Left wheel</td>\n",
       "      <td>Black</td>\n",
       "      <td>0</td>\n",
       "      <td>NaN</td>\n",
       "      <td>non_turbo</td>\n",
       "      <td>200000.000000</td>\n",
       "    </tr>\n",
       "  </tbody>\n",
       "</table>\n",
       "</div>"
      ],
      "text/plain": [
       "         ID Levy Manufacturer   Model  Prod. year   Category Leather interior  \\\n",
       "0  44020629    -   VOLKSWAGEN    Golf        2012  Hatchback               No   \n",
       "1  45784798    -      HYUNDAI  Sonata        2012      Sedan              Yes   \n",
       "2  45800257    -       NISSAN   Tiida        2005      Sedan               No   \n",
       "3  45797981  975        VOLVO    XC90        2012       Jeep              Yes   \n",
       "4  45814303    -         OPEL   Astra        1993  Hatchback               No   \n",
       "\n",
       "  Fuel type  Engine volume   Mileage  Cylinders Gear box type Drive wheels  \\\n",
       "0    Diesel            2.0  101825.5          4        Manual        Front   \n",
       "1    Petrol            2.4   26000.0          4     Tiptronic        Front   \n",
       "2    Petrol            1.5  168000.0          4     Automatic        Front   \n",
       "3    Petrol            3.2  143000.0          6     Automatic          4x4   \n",
       "4    Petrol            1.6  200000.0          4        Manual        Front   \n",
       "\n",
       "    Doors             Wheel     Color  Airbags  Price turbo_flag_n  \\\n",
       "0  02-Mar        Left wheel      Grey       10    NaN        Turbo   \n",
       "1  04-May        Left wheel      Grey       10    NaN    non_turbo   \n",
       "2  04-May  Right-hand drive  Sky blue        8    NaN    non_turbo   \n",
       "3  04-May        Left wheel      Blue       12    NaN    non_turbo   \n",
       "4  04-May        Left wheel     Black        0    NaN    non_turbo   \n",
       "\n",
       "     Mileage_avg  \n",
       "0  101825.500000  \n",
       "1  149978.098214  \n",
       "2  145801.142857  \n",
       "3  117750.000000  \n",
       "4  200000.000000  "
      ]
     },
     "execution_count": 81,
     "metadata": {},
     "output_type": "execute_result"
    }
   ],
   "source": [
    "new_2 = CarDataClean.clean_mileage(new_1)\n",
    "new_2.head()"
   ]
  },
  {
   "cell_type": "code",
   "execution_count": 82,
   "metadata": {},
   "outputs": [
    {
     "name": "stdout",
     "output_type": "stream",
     "text": [
      "(8245, 20)\n",
      "(8245, 21)\n"
     ]
    },
    {
     "data": {
      "text/html": [
       "<div>\n",
       "<style scoped>\n",
       "    .dataframe tbody tr th:only-of-type {\n",
       "        vertical-align: middle;\n",
       "    }\n",
       "\n",
       "    .dataframe tbody tr th {\n",
       "        vertical-align: top;\n",
       "    }\n",
       "\n",
       "    .dataframe thead th {\n",
       "        text-align: right;\n",
       "    }\n",
       "</style>\n",
       "<table border=\"1\" class=\"dataframe\">\n",
       "  <thead>\n",
       "    <tr style=\"text-align: right;\">\n",
       "      <th></th>\n",
       "      <th>ID</th>\n",
       "      <th>Levy</th>\n",
       "      <th>Manufacturer</th>\n",
       "      <th>Model</th>\n",
       "      <th>Prod. year</th>\n",
       "      <th>Category</th>\n",
       "      <th>Leather interior</th>\n",
       "      <th>Fuel type</th>\n",
       "      <th>Engine volume</th>\n",
       "      <th>Mileage</th>\n",
       "      <th>...</th>\n",
       "      <th>Gear box type</th>\n",
       "      <th>Drive wheels</th>\n",
       "      <th>Doors</th>\n",
       "      <th>Wheel</th>\n",
       "      <th>Color</th>\n",
       "      <th>Airbags</th>\n",
       "      <th>Price</th>\n",
       "      <th>turbo_flag_n</th>\n",
       "      <th>Mileage_avg</th>\n",
       "      <th>Levy_avg</th>\n",
       "    </tr>\n",
       "  </thead>\n",
       "  <tbody>\n",
       "    <tr>\n",
       "      <th>0</th>\n",
       "      <td>44020629</td>\n",
       "      <td>0</td>\n",
       "      <td>VOLKSWAGEN</td>\n",
       "      <td>Golf</td>\n",
       "      <td>2012</td>\n",
       "      <td>Hatchback</td>\n",
       "      <td>No</td>\n",
       "      <td>Diesel</td>\n",
       "      <td>2.0</td>\n",
       "      <td>101825.5</td>\n",
       "      <td>...</td>\n",
       "      <td>Manual</td>\n",
       "      <td>Front</td>\n",
       "      <td>02-Mar</td>\n",
       "      <td>Left wheel</td>\n",
       "      <td>Grey</td>\n",
       "      <td>10</td>\n",
       "      <td>NaN</td>\n",
       "      <td>Turbo</td>\n",
       "      <td>101825.500000</td>\n",
       "      <td>579.000000</td>\n",
       "    </tr>\n",
       "    <tr>\n",
       "      <th>1</th>\n",
       "      <td>45784798</td>\n",
       "      <td>0</td>\n",
       "      <td>HYUNDAI</td>\n",
       "      <td>Sonata</td>\n",
       "      <td>2012</td>\n",
       "      <td>Sedan</td>\n",
       "      <td>Yes</td>\n",
       "      <td>Petrol</td>\n",
       "      <td>2.4</td>\n",
       "      <td>26000.0</td>\n",
       "      <td>...</td>\n",
       "      <td>Tiptronic</td>\n",
       "      <td>Front</td>\n",
       "      <td>04-May</td>\n",
       "      <td>Left wheel</td>\n",
       "      <td>Grey</td>\n",
       "      <td>10</td>\n",
       "      <td>NaN</td>\n",
       "      <td>non_turbo</td>\n",
       "      <td>149978.098214</td>\n",
       "      <td>550.767857</td>\n",
       "    </tr>\n",
       "    <tr>\n",
       "      <th>2</th>\n",
       "      <td>45800257</td>\n",
       "      <td>0</td>\n",
       "      <td>NISSAN</td>\n",
       "      <td>Tiida</td>\n",
       "      <td>2005</td>\n",
       "      <td>Sedan</td>\n",
       "      <td>No</td>\n",
       "      <td>Petrol</td>\n",
       "      <td>1.5</td>\n",
       "      <td>168000.0</td>\n",
       "      <td>...</td>\n",
       "      <td>Automatic</td>\n",
       "      <td>Front</td>\n",
       "      <td>04-May</td>\n",
       "      <td>Right-hand drive</td>\n",
       "      <td>Sky blue</td>\n",
       "      <td>8</td>\n",
       "      <td>NaN</td>\n",
       "      <td>non_turbo</td>\n",
       "      <td>145801.142857</td>\n",
       "      <td>0.000000</td>\n",
       "    </tr>\n",
       "    <tr>\n",
       "      <th>3</th>\n",
       "      <td>45797981</td>\n",
       "      <td>975</td>\n",
       "      <td>VOLVO</td>\n",
       "      <td>XC90</td>\n",
       "      <td>2012</td>\n",
       "      <td>Jeep</td>\n",
       "      <td>Yes</td>\n",
       "      <td>Petrol</td>\n",
       "      <td>3.2</td>\n",
       "      <td>143000.0</td>\n",
       "      <td>...</td>\n",
       "      <td>Automatic</td>\n",
       "      <td>4x4</td>\n",
       "      <td>04-May</td>\n",
       "      <td>Left wheel</td>\n",
       "      <td>Blue</td>\n",
       "      <td>12</td>\n",
       "      <td>NaN</td>\n",
       "      <td>non_turbo</td>\n",
       "      <td>117750.000000</td>\n",
       "      <td>947.000000</td>\n",
       "    </tr>\n",
       "    <tr>\n",
       "      <th>4</th>\n",
       "      <td>45814303</td>\n",
       "      <td>0</td>\n",
       "      <td>OPEL</td>\n",
       "      <td>Astra</td>\n",
       "      <td>1993</td>\n",
       "      <td>Hatchback</td>\n",
       "      <td>No</td>\n",
       "      <td>Petrol</td>\n",
       "      <td>1.6</td>\n",
       "      <td>200000.0</td>\n",
       "      <td>...</td>\n",
       "      <td>Manual</td>\n",
       "      <td>Front</td>\n",
       "      <td>04-May</td>\n",
       "      <td>Left wheel</td>\n",
       "      <td>Black</td>\n",
       "      <td>0</td>\n",
       "      <td>NaN</td>\n",
       "      <td>non_turbo</td>\n",
       "      <td>200000.000000</td>\n",
       "      <td>0.000000</td>\n",
       "    </tr>\n",
       "  </tbody>\n",
       "</table>\n",
       "<p>5 rows × 21 columns</p>\n",
       "</div>"
      ],
      "text/plain": [
       "         ID  Levy Manufacturer   Model  Prod. year   Category  \\\n",
       "0  44020629     0   VOLKSWAGEN    Golf        2012  Hatchback   \n",
       "1  45784798     0      HYUNDAI  Sonata        2012      Sedan   \n",
       "2  45800257     0       NISSAN   Tiida        2005      Sedan   \n",
       "3  45797981   975        VOLVO    XC90        2012       Jeep   \n",
       "4  45814303     0         OPEL   Astra        1993  Hatchback   \n",
       "\n",
       "  Leather interior Fuel type  Engine volume   Mileage  ...  Gear box type  \\\n",
       "0               No    Diesel            2.0  101825.5  ...         Manual   \n",
       "1              Yes    Petrol            2.4   26000.0  ...      Tiptronic   \n",
       "2               No    Petrol            1.5  168000.0  ...      Automatic   \n",
       "3              Yes    Petrol            3.2  143000.0  ...      Automatic   \n",
       "4               No    Petrol            1.6  200000.0  ...         Manual   \n",
       "\n",
       "  Drive wheels   Doors             Wheel     Color Airbags  Price  \\\n",
       "0        Front  02-Mar        Left wheel      Grey      10    NaN   \n",
       "1        Front  04-May        Left wheel      Grey      10    NaN   \n",
       "2        Front  04-May  Right-hand drive  Sky blue       8    NaN   \n",
       "3          4x4  04-May        Left wheel      Blue      12    NaN   \n",
       "4        Front  04-May        Left wheel     Black       0    NaN   \n",
       "\n",
       "   turbo_flag_n    Mileage_avg    Levy_avg  \n",
       "0         Turbo  101825.500000  579.000000  \n",
       "1     non_turbo  149978.098214  550.767857  \n",
       "2     non_turbo  145801.142857    0.000000  \n",
       "3     non_turbo  117750.000000  947.000000  \n",
       "4     non_turbo  200000.000000    0.000000  \n",
       "\n",
       "[5 rows x 21 columns]"
      ]
     },
     "execution_count": 82,
     "metadata": {},
     "output_type": "execute_result"
    }
   ],
   "source": [
    "new_3 = CarDataClean.clean_levy(new_2)\n",
    "new_3.head()"
   ]
  },
  {
   "cell_type": "code",
   "execution_count": 83,
   "metadata": {},
   "outputs": [
    {
     "data": {
      "text/html": [
       "<div>\n",
       "<style scoped>\n",
       "    .dataframe tbody tr th:only-of-type {\n",
       "        vertical-align: middle;\n",
       "    }\n",
       "\n",
       "    .dataframe tbody tr th {\n",
       "        vertical-align: top;\n",
       "    }\n",
       "\n",
       "    .dataframe thead th {\n",
       "        text-align: right;\n",
       "    }\n",
       "</style>\n",
       "<table border=\"1\" class=\"dataframe\">\n",
       "  <thead>\n",
       "    <tr style=\"text-align: right;\">\n",
       "      <th></th>\n",
       "      <th>Price</th>\n",
       "    </tr>\n",
       "  </thead>\n",
       "  <tbody>\n",
       "    <tr>\n",
       "      <th>0</th>\n",
       "      <td>10.679457</td>\n",
       "    </tr>\n",
       "    <tr>\n",
       "      <th>1</th>\n",
       "      <td>6.908167</td>\n",
       "    </tr>\n",
       "    <tr>\n",
       "      <th>2</th>\n",
       "      <td>24.132548</td>\n",
       "    </tr>\n",
       "    <tr>\n",
       "      <th>3</th>\n",
       "      <td>11.299266</td>\n",
       "    </tr>\n",
       "    <tr>\n",
       "      <th>4</th>\n",
       "      <td>5.685536</td>\n",
       "    </tr>\n",
       "    <tr>\n",
       "      <th>...</th>\n",
       "      <td>...</td>\n",
       "    </tr>\n",
       "    <tr>\n",
       "      <th>8240</th>\n",
       "      <td>20.238045</td>\n",
       "    </tr>\n",
       "    <tr>\n",
       "      <th>8241</th>\n",
       "      <td>14.827207</td>\n",
       "    </tr>\n",
       "    <tr>\n",
       "      <th>8242</th>\n",
       "      <td>15.082565</td>\n",
       "    </tr>\n",
       "    <tr>\n",
       "      <th>8243</th>\n",
       "      <td>17.865231</td>\n",
       "    </tr>\n",
       "    <tr>\n",
       "      <th>8244</th>\n",
       "      <td>8.887993</td>\n",
       "    </tr>\n",
       "  </tbody>\n",
       "</table>\n",
       "<p>8245 rows × 1 columns</p>\n",
       "</div>"
      ],
      "text/plain": [
       "          Price\n",
       "0     10.679457\n",
       "1      6.908167\n",
       "2     24.132548\n",
       "3     11.299266\n",
       "4      5.685536\n",
       "...         ...\n",
       "8240  20.238045\n",
       "8241  14.827207\n",
       "8242  15.082565\n",
       "8243  17.865231\n",
       "8244   8.887993\n",
       "\n",
       "[8245 rows x 1 columns]"
      ]
     },
     "metadata": {},
     "output_type": "display_data"
    }
   ],
   "source": [
    "columns_to_keep = list(set(columns_to_keep) - set(cat_features))\n",
    "\n",
    "# cat_features = [\"Manufacturer\",\"Category\",\"Leather interior\",\"Fuel type\", \"Gear box type\", \"turbo_flag_n\", \n",
    "#  \"Drive wheels\", \"Wheel\"]\n",
    "\n",
    "\n",
    "features_to_predict_df = test[columns_to_keep]\n",
    "\n",
    "# features_to_predict_df[cat_features] = features_to_predict_df[cat_features].astype(str)\n",
    "\n",
    "\n",
    "y_pred_log = cat_model_base_017[\"model\"].predict(features_to_predict_df)\n",
    "\n",
    "features_to_predict_df.head()\n",
    "y_pred = np.exp(y_pred_log)\n",
    "\n",
    "display(pd.DataFrame({\"Price\":y_pred}))"
   ]
  },
  {
   "cell_type": "code",
   "execution_count": 84,
   "metadata": {},
   "outputs": [
    {
     "data": {
      "text/html": [
       "<div>\n",
       "<style scoped>\n",
       "    .dataframe tbody tr th:only-of-type {\n",
       "        vertical-align: middle;\n",
       "    }\n",
       "\n",
       "    .dataframe tbody tr th {\n",
       "        vertical-align: top;\n",
       "    }\n",
       "\n",
       "    .dataframe thead th {\n",
       "        text-align: right;\n",
       "    }\n",
       "</style>\n",
       "<table border=\"1\" class=\"dataframe\">\n",
       "  <thead>\n",
       "    <tr style=\"text-align: right;\">\n",
       "      <th></th>\n",
       "      <th>Price</th>\n",
       "    </tr>\n",
       "  </thead>\n",
       "  <tbody>\n",
       "    <tr>\n",
       "      <th>0</th>\n",
       "      <td>10.679457</td>\n",
       "    </tr>\n",
       "    <tr>\n",
       "      <th>1</th>\n",
       "      <td>6.908167</td>\n",
       "    </tr>\n",
       "    <tr>\n",
       "      <th>2</th>\n",
       "      <td>24.132548</td>\n",
       "    </tr>\n",
       "    <tr>\n",
       "      <th>3</th>\n",
       "      <td>11.299266</td>\n",
       "    </tr>\n",
       "    <tr>\n",
       "      <th>4</th>\n",
       "      <td>5.685536</td>\n",
       "    </tr>\n",
       "  </tbody>\n",
       "</table>\n",
       "</div>"
      ],
      "text/plain": [
       "       Price\n",
       "0  10.679457\n",
       "1   6.908167\n",
       "2  24.132548\n",
       "3  11.299266\n",
       "4   5.685536"
      ]
     },
     "metadata": {},
     "output_type": "display_data"
    },
    {
     "data": {
      "text/plain": [
       "(8245, 1)"
      ]
     },
     "metadata": {},
     "output_type": "display_data"
    }
   ],
   "source": [
    "prediction_20210711_c = pd.DataFrame({\"Price\":y_pred})\n",
    "display(prediction_20210711_c.head())\n",
    "display(prediction_20210711_c.shape)"
   ]
  },
  {
   "cell_type": "code",
   "execution_count": 85,
   "metadata": {},
   "outputs": [],
   "source": [
    "prediction_20210711_c.to_csv(\"prediction_20210711_2.csv\", index = False)"
   ]
  },
  {
   "cell_type": "code",
   "execution_count": 41,
   "metadata": {},
   "outputs": [
    {
     "data": {
      "text/plain": [
       "array([-0.20208255,  0.        ,  0.        , ...,  0.        ,\n",
       "        0.        ,  0.        ])"
      ]
     },
     "execution_count": 41,
     "metadata": {},
     "output_type": "execute_result"
    }
   ],
   "source": [
    "cat_model_base_017[\"model\"].get_leaf_values()"
   ]
  },
  {
   "cell_type": "code",
   "execution_count": 43,
   "metadata": {
    "scrolled": false
   },
   "outputs": [],
   "source": [
    "borders = cat_model_base_017[\"model\"].get_borders()"
   ]
  },
  {
   "cell_type": "code",
   "execution_count": null,
   "metadata": {},
   "outputs": [],
   "source": [
    "cat_model_base_017[\"model\"].plot_tree(0) "
   ]
  },
  {
   "cell_type": "markdown",
   "metadata": {},
   "source": [
    "#### Trying the method, that trains the model with complete data. "
   ]
  },
  {
   "cell_type": "code",
   "execution_count": 27,
   "metadata": {
    "scrolled": false
   },
   "outputs": [
    {
     "name": "stderr",
     "output_type": "stream",
     "text": [
      "C:\\Users\\chris.dmello\\Anaconda3\\lib\\site-packages\\pandas\\core\\frame.py:3065: SettingWithCopyWarning: \n",
      "A value is trying to be set on a copy of a slice from a DataFrame.\n",
      "Try using .loc[row_indexer,col_indexer] = value instead\n",
      "\n",
      "See the caveats in the documentation: https://pandas.pydata.org/pandas-docs/stable/user_guide/indexing.html#returning-a-view-versus-a-copy\n",
      "  self[k1] = value[k2]\n"
     ]
    },
    {
     "name": "stdout",
     "output_type": "stream",
     "text": [
      "0:\tlearn: 0.0250575\ttotal: 107ms\tremaining: 10.6s\n",
      "99:\tlearn: 0.0176250\ttotal: 9.76s\tremaining: 0us\n"
     ]
    },
    {
     "data": {
      "text/plain": [
       "{'mae': 0.009934778956460992,\n",
       " 'mse': 0.00033019164099324787,\n",
       " 'rmse': 0.0181711761037432,\n",
       " 'r2': 0.6190713185325316,\n",
       " 'msle': 0.00011252134367201083,\n",
       " 'rmsle': 0.010607607820428262,\n",
       " 'model': <catboost.core.CatBoostRegressor at 0x1fc801452e0>,\n",
       " 'y_pred': array([0.78659744, 0.78890129, 0.75547472, ..., 0.7981946 , 0.78253955,\n",
       "        0.76235133]),\n",
       " 'model_score': -28939.499728985575}"
      ]
     },
     "metadata": {},
     "output_type": "display_data"
    }
   ],
   "source": [
    "cat_model = catboost_regressor.new_instance(params)\n",
    "cat_model_base_017 = cat_model.model_run_log_complete(features_to_keep, var_dict )\n",
    "display(cat_model_base_017)"
   ]
  },
  {
   "cell_type": "markdown",
   "metadata": {},
   "source": [
    "__CatBoostError: Invalid cat_features[1] = 2 value: index must be < 1.__ , this error means that your dataset contains 100 features with indices from 0 to 99. You are trying to declare a categorical feature with index 100 which is greater than [max index.](https://github.com/catboost/catboost/issues/626)"
   ]
  },
  {
   "cell_type": "markdown",
   "metadata": {},
   "source": [
    "#### 20210711 0433"
   ]
  },
  {
   "cell_type": "code",
   "execution_count": 106,
   "metadata": {},
   "outputs": [
    {
     "name": "stderr",
     "output_type": "stream",
     "text": [
      "C:\\Users\\chris.dmello\\Anaconda3\\lib\\site-packages\\pandas\\core\\frame.py:3065: SettingWithCopyWarning: \n",
      "A value is trying to be set on a copy of a slice from a DataFrame.\n",
      "Try using .loc[row_indexer,col_indexer] = value instead\n",
      "\n",
      "See the caveats in the documentation: https://pandas.pydata.org/pandas-docs/stable/user_guide/indexing.html#returning-a-view-versus-a-copy\n",
      "  self[k1] = value[k2]\n"
     ]
    },
    {
     "name": "stdout",
     "output_type": "stream",
     "text": [
      "Prod. year          False\n",
      "Engine volume       False\n",
      "Gear box type       False\n",
      "Mileage             False\n",
      "Airbags             False\n",
      "Price               False\n",
      "Levy                False\n",
      "Category            False\n",
      "Leather interior    False\n",
      "dtype: bool\n",
      "0:\tlearn: 0.1613600\ttotal: 39.1ms\tremaining: 3.88s\n",
      "99:\tlearn: 0.1202527\ttotal: 3.93s\tremaining: 0us\n"
     ]
    }
   ],
   "source": [
    "## make your own scorer for gridsearch\n",
    "scorer = metrics.make_scorer(metrics.mean_squared_error)\n",
    "\n",
    "params = {\"cat_features\": cat_features, \"loss_function\": \"RMSE\", \"iterations\" : 100, \"verbose\":100}\n",
    "\n",
    "other_dict = {}\n",
    "other_dict[\"param_grid\"] = {'learning_rate': [0.7,0.8, 0.9],\n",
    "                            'depth': [10,12,14,16],\n",
    "                            'l2_leaf_reg': [20,25,30,35,40]}  ## ideal values are from 10 to 30 \n",
    "other_dict[\"scoring\"] = scorer\n",
    "other_dict[\"cv\"]      = 5  ## general practice to give 5 or 10\n",
    "\n",
    "# print(features_to_keep.isnull().any())\n",
    "\n",
    "cat_model = catboost_regressor.new_instance(params)\n",
    "\n",
    "cat_model_cv_019 = cat_model.model_run_cv_log(features_to_keep, var_dict,  other_dict)"
   ]
  },
  {
   "cell_type": "code",
   "execution_count": 107,
   "metadata": {},
   "outputs": [
    {
     "data": {
      "text/plain": [
       "{'depth': 10, 'l2_leaf_reg': 40, 'learning_rate': 0.7}"
      ]
     },
     "execution_count": 107,
     "metadata": {},
     "output_type": "execute_result"
    }
   ],
   "source": [
    "cat_model_cv_019[\"model\"].best_params_"
   ]
  },
  {
   "cell_type": "markdown",
   "metadata": {},
   "source": [
    "1. LightLGM I could try\n",
    "2. I think deep learning method should help, idk, I cannot seem to reduce the error under 1. "
   ]
  },
  {
   "cell_type": "code",
   "execution_count": 109,
   "metadata": {},
   "outputs": [
    {
     "data": {
      "text/plain": [
       "{'mae': 0.0758397721637931,\n",
       " 'mse': 0.018405323371093178,\n",
       " 'rmse': 0.13566622044965054,\n",
       " 'r2': 0.4619000696201129,\n",
       " 'grid_search_ad.score': 0.018405323371093178,\n",
       " 'msle': 0.002136907323302175,\n",
       " 'rmsle': 0.046226694920815777,\n",
       " 'model_score': 0.018405323371093178,\n",
       " 'model': GridSearchCV(cv=5,\n",
       "              estimator=<catboost.core.CatBoostRegressor object at 0x000001FC818E3070>,\n",
       "              n_jobs=-1,\n",
       "              param_grid={'depth': [10, 12, 14, 16],\n",
       "                          'l2_leaf_reg': [20, 25, 30, 35, 40],\n",
       "                          'learning_rate': [0.7, 0.8, 0.9]},\n",
       "              scoring=make_scorer(mean_squared_error)),\n",
       " 'y_test':           Price\n",
       " 736    2.417171\n",
       " 8674   2.326765\n",
       " 5971   2.452358\n",
       " 1957   2.447947\n",
       " 11075  2.455124\n",
       " ...         ...\n",
       " 18231  2.548539\n",
       " 1082   2.441747\n",
       " 6206   2.332489\n",
       " 9124   1.856011\n",
       " 1935   2.336558\n",
       " \n",
       " [4810 rows x 1 columns],\n",
       " 'y_pred': array([2.38563005, 2.28493544, 2.24977799, ..., 2.34194815, 1.89133906,\n",
       "        2.33223071])}"
      ]
     },
     "metadata": {},
     "output_type": "display_data"
    },
    {
     "data": {
      "text/plain": [
       "array([10.86590656,  9.82505195,  9.48562967, ..., 10.40148049,\n",
       "        6.62823835, 10.30089425])"
      ]
     },
     "metadata": {},
     "output_type": "display_data"
    }
   ],
   "source": [
    "display(cat_model_cv_019)\n",
    "\n",
    "display(np.exp(cat_model_cv_019[\"y_pred\"]))"
   ]
  },
  {
   "cell_type": "code",
   "execution_count": 110,
   "metadata": {},
   "outputs": [
    {
     "data": {
      "text/plain": [
       "array([10.86590656,  9.82505195,  9.48562967, ..., 10.40148049,\n",
       "        6.62823835, 10.30089425])"
      ]
     },
     "metadata": {},
     "output_type": "display_data"
    }
   ],
   "source": [
    "display(np.exp(cat_model_cv_019[\"y_pred\"]))"
   ]
  },
  {
   "cell_type": "code",
   "execution_count": null,
   "metadata": {},
   "outputs": [],
   "source": [
    "https://github.com/abhashpanwar/used-car-price-prediction"
   ]
  },
  {
   "cell_type": "markdown",
   "metadata": {},
   "source": [
    "Plot residuals"
   ]
  },
  {
   "cell_type": "markdown",
   "metadata": {},
   "source": [
    "Save pipeline and save model"
   ]
  },
  {
   "cell_type": "code",
   "execution_count": null,
   "metadata": {},
   "outputs": [],
   "source": []
  }
 ],
 "metadata": {
  "kernelspec": {
   "display_name": "Python 3",
   "language": "python",
   "name": "python3"
  },
  "language_info": {
   "codemirror_mode": {
    "name": "ipython",
    "version": 3
   },
   "file_extension": ".py",
   "mimetype": "text/x-python",
   "name": "python",
   "nbconvert_exporter": "python",
   "pygments_lexer": "ipython3",
   "version": "3.8.5"
  }
 },
 "nbformat": 4,
 "nbformat_minor": 4
}
