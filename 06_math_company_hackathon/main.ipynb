{
 "cells": [
  {
   "cell_type": "code",
   "execution_count": null,
   "metadata": {},
   "outputs": [],
   "source": []
  },
  {
   "cell_type": "code",
   "execution_count": null,
   "metadata": {},
   "outputs": [],
   "source": []
  },
  {
   "cell_type": "code",
   "execution_count": 23,
   "metadata": {},
   "outputs": [],
   "source": [
    "## Catboost regressor class\n",
    "%run setup/catboost_regression.ipynb"
   ]
  },
  {
   "cell_type": "markdown",
   "metadata": {},
   "source": [
    "### Baseline Model"
   ]
  },
  {
   "cell_type": "code",
   "execution_count": null,
   "metadata": {},
   "outputs": [],
   "source": []
  },
  {
   "cell_type": "code",
   "execution_count": 2,
   "metadata": {},
   "outputs": [],
   "source": [
    "## utils functions\n",
    "%run extras/lab_utils_cls.ipynb"
   ]
  },
  {
   "cell_type": "code",
   "execution_count": 3,
   "metadata": {},
   "outputs": [],
   "source": [
    "test_file_loc = \"https://raw.githubusercontent.com/chrisdmell/DataScience/master/data_dump/01_math_company_hackathon/test.csv\"\n",
    "train_file_loc = \"https://raw.githubusercontent.com/chrisdmell/DataScience/master/data_dump/01_math_company_hackathon/train.csv\""
   ]
  },
  {
   "cell_type": "code",
   "execution_count": 4,
   "metadata": {},
   "outputs": [],
   "source": [
    "test  = Utils.load_data(test_file_loc)\n",
    "train = Utils.load_data(train_file_loc)"
   ]
  },
  {
   "cell_type": "code",
   "execution_count": 35,
   "metadata": {},
   "outputs": [
    {
     "name": "stderr",
     "output_type": "stream",
     "text": [
      "C:\\Users\\chris.dmello\\Anaconda3\\lib\\site-packages\\pandas\\core\\frame.py:3065: SettingWithCopyWarning: \n",
      "A value is trying to be set on a copy of a slice from a DataFrame.\n",
      "Try using .loc[row_indexer,col_indexer] = value instead\n",
      "\n",
      "See the caveats in the documentation: https://pandas.pydata.org/pandas-docs/stable/user_guide/indexing.html#returning-a-view-versus-a-copy\n",
      "  self[k1] = value[k2]\n"
     ]
    }
   ],
   "source": [
    "columns_to_keep = [\"Manufacturer\",\"Model\",\"Prod. year\",\"Category\",\"Leather interior\",\"Fuel type\", \"Cylinders\",\"Gear box type\", \\\n",
    " \"Drive wheels\", \"Doors\", \"Wheel\", \"Airbags\", \"Price\"]\n",
    "\n",
    "cat_features = [\"Manufacturer\",\"Model\",\"Prod. year\",\"Category\",\"Leather interior\",\"Fuel type\", \"Gear box type\", \\\n",
    " \"Drive wheels\", \"Doors\", \"Wheel\"]\n",
    "\n",
    "features_to_keep = train[columns_to_keep]\n",
    "\n",
    "features_to_keep[cat_features] = features_to_keep[cat_features].astype(str)\n"
   ]
  },
  {
   "cell_type": "code",
   "execution_count": 36,
   "metadata": {},
   "outputs": [
    {
     "data": {
      "text/html": [
       "<div>\n",
       "<style scoped>\n",
       "    .dataframe tbody tr th:only-of-type {\n",
       "        vertical-align: middle;\n",
       "    }\n",
       "\n",
       "    .dataframe tbody tr th {\n",
       "        vertical-align: top;\n",
       "    }\n",
       "\n",
       "    .dataframe thead th {\n",
       "        text-align: right;\n",
       "    }\n",
       "</style>\n",
       "<table border=\"1\" class=\"dataframe\">\n",
       "  <thead>\n",
       "    <tr style=\"text-align: right;\">\n",
       "      <th></th>\n",
       "      <th>Manufacturer</th>\n",
       "      <th>Model</th>\n",
       "      <th>Prod. year</th>\n",
       "      <th>Category</th>\n",
       "      <th>Leather interior</th>\n",
       "      <th>Fuel type</th>\n",
       "      <th>Cylinders</th>\n",
       "      <th>Gear box type</th>\n",
       "      <th>Drive wheels</th>\n",
       "      <th>Doors</th>\n",
       "      <th>Wheel</th>\n",
       "      <th>Airbags</th>\n",
       "      <th>Price</th>\n",
       "    </tr>\n",
       "  </thead>\n",
       "  <tbody>\n",
       "    <tr>\n",
       "      <th>0</th>\n",
       "      <td>LEXUS</td>\n",
       "      <td>RX 450</td>\n",
       "      <td>2010</td>\n",
       "      <td>Jeep</td>\n",
       "      <td>Yes</td>\n",
       "      <td>Hybrid</td>\n",
       "      <td>6.0</td>\n",
       "      <td>Automatic</td>\n",
       "      <td>4x4</td>\n",
       "      <td>04-May</td>\n",
       "      <td>Left wheel</td>\n",
       "      <td>12</td>\n",
       "      <td>13328</td>\n",
       "    </tr>\n",
       "    <tr>\n",
       "      <th>1</th>\n",
       "      <td>CHEVROLET</td>\n",
       "      <td>Equinox</td>\n",
       "      <td>2011</td>\n",
       "      <td>Jeep</td>\n",
       "      <td>No</td>\n",
       "      <td>Petrol</td>\n",
       "      <td>6.0</td>\n",
       "      <td>Tiptronic</td>\n",
       "      <td>4x4</td>\n",
       "      <td>04-May</td>\n",
       "      <td>Left wheel</td>\n",
       "      <td>8</td>\n",
       "      <td>16621</td>\n",
       "    </tr>\n",
       "    <tr>\n",
       "      <th>2</th>\n",
       "      <td>HONDA</td>\n",
       "      <td>FIT</td>\n",
       "      <td>2006</td>\n",
       "      <td>Hatchback</td>\n",
       "      <td>No</td>\n",
       "      <td>Petrol</td>\n",
       "      <td>4.0</td>\n",
       "      <td>Variator</td>\n",
       "      <td>Front</td>\n",
       "      <td>04-May</td>\n",
       "      <td>Right-hand drive</td>\n",
       "      <td>2</td>\n",
       "      <td>8467</td>\n",
       "    </tr>\n",
       "    <tr>\n",
       "      <th>3</th>\n",
       "      <td>FORD</td>\n",
       "      <td>Escape</td>\n",
       "      <td>2011</td>\n",
       "      <td>Jeep</td>\n",
       "      <td>Yes</td>\n",
       "      <td>Hybrid</td>\n",
       "      <td>4.0</td>\n",
       "      <td>Automatic</td>\n",
       "      <td>4x4</td>\n",
       "      <td>04-May</td>\n",
       "      <td>Left wheel</td>\n",
       "      <td>0</td>\n",
       "      <td>3607</td>\n",
       "    </tr>\n",
       "    <tr>\n",
       "      <th>4</th>\n",
       "      <td>HONDA</td>\n",
       "      <td>FIT</td>\n",
       "      <td>2014</td>\n",
       "      <td>Hatchback</td>\n",
       "      <td>Yes</td>\n",
       "      <td>Petrol</td>\n",
       "      <td>4.0</td>\n",
       "      <td>Automatic</td>\n",
       "      <td>Front</td>\n",
       "      <td>04-May</td>\n",
       "      <td>Left wheel</td>\n",
       "      <td>4</td>\n",
       "      <td>11726</td>\n",
       "    </tr>\n",
       "  </tbody>\n",
       "</table>\n",
       "</div>"
      ],
      "text/plain": [
       "  Manufacturer    Model Prod. year   Category Leather interior Fuel type  \\\n",
       "0        LEXUS   RX 450       2010       Jeep              Yes    Hybrid   \n",
       "1    CHEVROLET  Equinox       2011       Jeep               No    Petrol   \n",
       "2        HONDA      FIT       2006  Hatchback               No    Petrol   \n",
       "3         FORD   Escape       2011       Jeep              Yes    Hybrid   \n",
       "4        HONDA      FIT       2014  Hatchback              Yes    Petrol   \n",
       "\n",
       "   Cylinders Gear box type Drive wheels   Doors             Wheel  Airbags  \\\n",
       "0        6.0     Automatic          4x4  04-May        Left wheel       12   \n",
       "1        6.0     Tiptronic          4x4  04-May        Left wheel        8   \n",
       "2        4.0      Variator        Front  04-May  Right-hand drive        2   \n",
       "3        4.0     Automatic          4x4  04-May        Left wheel        0   \n",
       "4        4.0     Automatic        Front  04-May        Left wheel        4   \n",
       "\n",
       "   Price  \n",
       "0  13328  \n",
       "1  16621  \n",
       "2   8467  \n",
       "3   3607  \n",
       "4  11726  "
      ]
     },
     "execution_count": 36,
     "metadata": {},
     "output_type": "execute_result"
    }
   ],
   "source": [
    "features_to_keep.head()"
   ]
  },
  {
   "cell_type": "code",
   "execution_count": 39,
   "metadata": {},
   "outputs": [],
   "source": [
    "var_dict = {}\n",
    "var_dict[\"independant\"] = [\"Manufacturer\",\"Model\",\"Prod. year\",\"Category\",\"Leather interior\",\"Fuel type\", \"Cylinders\",\"Gear box type\", \\\n",
    " \"Drive wheels\", \"Doors\", \"Wheel\", \"Airbags\"]\n",
    "\n",
    "var_dict[\"dependant\"]   = [\"Price\"]\n",
    "\n",
    "params = {\"cat_features\": cat_features, \"loss_function\": \"RMSE\", \"iterations\" : 100, \"verbose\":100}\n",
    "\n",
    "cat_model = catboost_regressor.new_instance()"
   ]
  },
  {
   "cell_type": "code",
   "execution_count": 40,
   "metadata": {},
   "outputs": [
    {
     "name": "stdout",
     "output_type": "stream",
     "text": [
      "Learning rate set to 0.361189\n",
      "0:\tlearn: 219178.7916816\ttotal: 26.9ms\tremaining: 2.66s\n",
      "99:\tlearn: 78012.0833831\ttotal: 2.64s\tremaining: 0us\n"
     ]
    }
   ],
   "source": [
    "cat_model_base = cat_model.model_run(features_to_keep, var_dict )"
   ]
  },
  {
   "cell_type": "code",
   "execution_count": 41,
   "metadata": {},
   "outputs": [
    {
     "data": {
      "text/plain": [
       "{'mae': 10495.339442139302,\n",
       " 'mse': 846828365.6053432,\n",
       " 'rmse': 29100.315558518316,\n",
       " 'r2': -1.7350164169889943,\n",
       " 'model': <catboost.core.CatBoostRegressor at 0x1960b16e880>,\n",
       " 'y_test':         Price\n",
       " 736     27284\n",
       " 8674    10349\n",
       " 5971    40769\n",
       " 1957    38737\n",
       " 11075   42102\n",
       " ...       ...\n",
       " 18231  131716\n",
       " 1082    36065\n",
       " 6206    10976\n",
       " 9124      220\n",
       " 1935    11447\n",
       " \n",
       " [4810 rows x 1 columns],\n",
       " 'y_pred': array([27868.42308995, 17255.48104052,  2732.39764232, ...,\n",
       "        15144.84463152,   495.68318169, 14972.22329462]),\n",
       " 'model_score': -19020.846970359642}"
      ]
     },
     "execution_count": 41,
     "metadata": {},
     "output_type": "execute_result"
    }
   ],
   "source": [
    "cat_model_base"
   ]
  },
  {
   "cell_type": "markdown",
   "metadata": {},
   "source": [
    "We have a poor r2, Lets run couple more iterations till we get a positive R2 score. "
   ]
  },
  {
   "cell_type": "code",
   "execution_count": 25,
   "metadata": {},
   "outputs": [
    {
     "name": "stderr",
     "output_type": "stream",
     "text": [
      "C:\\Users\\chris.dmello\\Anaconda3\\lib\\site-packages\\pandas\\core\\frame.py:3065: SettingWithCopyWarning: \n",
      "A value is trying to be set on a copy of a slice from a DataFrame.\n",
      "Try using .loc[row_indexer,col_indexer] = value instead\n",
      "\n",
      "See the caveats in the documentation: https://pandas.pydata.org/pandas-docs/stable/user_guide/indexing.html#returning-a-view-versus-a-copy\n",
      "  self[k1] = value[k2]\n"
     ]
    },
    {
     "name": "stdout",
     "output_type": "stream",
     "text": [
      "Learning rate set to 0.361189\n",
      "0:\tlearn: 219149.3436611\ttotal: 32.8ms\tremaining: 3.25s\n",
      "1:\tlearn: 218218.2562525\ttotal: 59.9ms\tremaining: 2.93s\n",
      "2:\tlearn: 213900.3313133\ttotal: 91.3ms\tremaining: 2.95s\n",
      "3:\tlearn: 212952.0787343\ttotal: 119ms\tremaining: 2.86s\n",
      "4:\tlearn: 212759.5576495\ttotal: 144ms\tremaining: 2.73s\n",
      "5:\tlearn: 212608.7785192\ttotal: 171ms\tremaining: 2.69s\n",
      "6:\tlearn: 212572.5121876\ttotal: 192ms\tremaining: 2.55s\n",
      "7:\tlearn: 212564.7006505\ttotal: 212ms\tremaining: 2.44s\n",
      "8:\tlearn: 210864.5201042\ttotal: 235ms\tremaining: 2.37s\n",
      "9:\tlearn: 191598.0126810\ttotal: 259ms\tremaining: 2.33s\n",
      "10:\tlearn: 191538.7966702\ttotal: 279ms\tremaining: 2.25s\n",
      "11:\tlearn: 191499.2661989\ttotal: 304ms\tremaining: 2.23s\n",
      "12:\tlearn: 191482.8983582\ttotal: 328ms\tremaining: 2.2s\n",
      "13:\tlearn: 191460.9606565\ttotal: 353ms\tremaining: 2.17s\n",
      "14:\tlearn: 191423.5459892\ttotal: 378ms\tremaining: 2.14s\n",
      "15:\tlearn: 191155.9483265\ttotal: 406ms\tremaining: 2.13s\n",
      "16:\tlearn: 191132.8217220\ttotal: 429ms\tremaining: 2.1s\n",
      "17:\tlearn: 191132.0274427\ttotal: 454ms\tremaining: 2.07s\n",
      "18:\tlearn: 190803.6349115\ttotal: 478ms\tremaining: 2.04s\n",
      "19:\tlearn: 188432.2344378\ttotal: 497ms\tremaining: 1.99s\n",
      "20:\tlearn: 188103.3708688\ttotal: 523ms\tremaining: 1.97s\n",
      "21:\tlearn: 180564.4479939\ttotal: 552ms\tremaining: 1.96s\n",
      "22:\tlearn: 179505.7314138\ttotal: 583ms\tremaining: 1.95s\n",
      "23:\tlearn: 179496.3668582\ttotal: 628ms\tremaining: 1.99s\n",
      "24:\tlearn: 179233.5847597\ttotal: 661ms\tremaining: 1.98s\n",
      "25:\tlearn: 179158.0703810\ttotal: 692ms\tremaining: 1.97s\n",
      "26:\tlearn: 175634.7848835\ttotal: 723ms\tremaining: 1.96s\n",
      "27:\tlearn: 175446.6797607\ttotal: 750ms\tremaining: 1.93s\n",
      "28:\tlearn: 175446.1959614\ttotal: 772ms\tremaining: 1.89s\n",
      "29:\tlearn: 171293.6614542\ttotal: 804ms\tremaining: 1.88s\n",
      "30:\tlearn: 171245.7240676\ttotal: 833ms\tremaining: 1.85s\n",
      "31:\tlearn: 171058.0177701\ttotal: 862ms\tremaining: 1.83s\n",
      "32:\tlearn: 170961.4919479\ttotal: 890ms\tremaining: 1.81s\n",
      "33:\tlearn: 170914.2629076\ttotal: 924ms\tremaining: 1.79s\n",
      "34:\tlearn: 170744.1841557\ttotal: 951ms\tremaining: 1.77s\n",
      "35:\tlearn: 164463.4140126\ttotal: 981ms\tremaining: 1.74s\n",
      "36:\tlearn: 164014.5304211\ttotal: 1s\tremaining: 1.71s\n",
      "37:\tlearn: 163924.3712743\ttotal: 1.03s\tremaining: 1.68s\n",
      "38:\tlearn: 163856.3658102\ttotal: 1.05s\tremaining: 1.65s\n",
      "39:\tlearn: 163732.3907724\ttotal: 1.08s\tremaining: 1.62s\n",
      "40:\tlearn: 163689.4823185\ttotal: 1.1s\tremaining: 1.59s\n",
      "41:\tlearn: 163422.7805287\ttotal: 1.13s\tremaining: 1.56s\n",
      "42:\tlearn: 159684.7460176\ttotal: 1.15s\tremaining: 1.53s\n",
      "43:\tlearn: 159621.0663686\ttotal: 1.18s\tremaining: 1.5s\n",
      "44:\tlearn: 159587.7391959\ttotal: 1.21s\tremaining: 1.47s\n",
      "45:\tlearn: 156866.2824541\ttotal: 1.23s\tremaining: 1.44s\n",
      "46:\tlearn: 154610.2786308\ttotal: 1.25s\tremaining: 1.41s\n",
      "47:\tlearn: 154598.8934077\ttotal: 1.28s\tremaining: 1.38s\n",
      "48:\tlearn: 154566.4329491\ttotal: 1.3s\tremaining: 1.35s\n",
      "49:\tlearn: 154536.5043167\ttotal: 1.33s\tremaining: 1.33s\n",
      "50:\tlearn: 154053.3916155\ttotal: 1.35s\tremaining: 1.3s\n",
      "51:\tlearn: 154041.1200907\ttotal: 1.38s\tremaining: 1.28s\n",
      "52:\tlearn: 154034.0854783\ttotal: 1.41s\tremaining: 1.25s\n",
      "53:\tlearn: 140280.4645467\ttotal: 1.44s\tremaining: 1.22s\n",
      "54:\tlearn: 140274.4923575\ttotal: 1.46s\tremaining: 1.2s\n",
      "55:\tlearn: 140254.4433276\ttotal: 1.48s\tremaining: 1.17s\n",
      "56:\tlearn: 137870.2894072\ttotal: 1.51s\tremaining: 1.14s\n",
      "57:\tlearn: 136890.1726480\ttotal: 1.54s\tremaining: 1.12s\n",
      "58:\tlearn: 128722.3200665\ttotal: 1.58s\tremaining: 1.1s\n",
      "59:\tlearn: 128716.9999600\ttotal: 1.61s\tremaining: 1.08s\n",
      "60:\tlearn: 124458.7924618\ttotal: 1.65s\tremaining: 1.05s\n",
      "61:\tlearn: 124412.1978534\ttotal: 1.68s\tremaining: 1.03s\n",
      "62:\tlearn: 124320.9929920\ttotal: 1.71s\tremaining: 1s\n",
      "63:\tlearn: 124308.1781800\ttotal: 1.75s\tremaining: 983ms\n",
      "64:\tlearn: 120057.4814678\ttotal: 1.79s\tremaining: 964ms\n",
      "65:\tlearn: 120044.4333762\ttotal: 1.82s\tremaining: 936ms\n",
      "66:\tlearn: 120035.2609294\ttotal: 1.85s\tremaining: 909ms\n",
      "67:\tlearn: 119020.7836741\ttotal: 1.87s\tremaining: 882ms\n",
      "68:\tlearn: 118974.7387760\ttotal: 1.9s\tremaining: 855ms\n",
      "69:\tlearn: 118958.4331654\ttotal: 1.93s\tremaining: 828ms\n",
      "70:\tlearn: 118918.6953713\ttotal: 1.97s\tremaining: 805ms\n",
      "71:\tlearn: 118895.3675680\ttotal: 2s\tremaining: 777ms\n",
      "72:\tlearn: 118869.5353772\ttotal: 2.02s\tremaining: 748ms\n",
      "73:\tlearn: 118749.2119020\ttotal: 2.04s\tremaining: 718ms\n",
      "74:\tlearn: 118738.5237307\ttotal: 2.07s\tremaining: 690ms\n",
      "75:\tlearn: 113461.9340824\ttotal: 2.1s\tremaining: 662ms\n",
      "76:\tlearn: 113421.2011310\ttotal: 2.12s\tremaining: 633ms\n",
      "77:\tlearn: 111736.6759330\ttotal: 2.15s\tremaining: 605ms\n",
      "78:\tlearn: 111735.0760196\ttotal: 2.17s\tremaining: 577ms\n",
      "79:\tlearn: 111618.8132662\ttotal: 2.2s\tremaining: 549ms\n",
      "80:\tlearn: 111607.6466919\ttotal: 2.22s\tremaining: 521ms\n",
      "81:\tlearn: 111604.2426979\ttotal: 2.25s\tremaining: 493ms\n",
      "82:\tlearn: 108702.8555832\ttotal: 2.27s\tremaining: 465ms\n",
      "83:\tlearn: 108690.3668092\ttotal: 2.3s\tremaining: 438ms\n",
      "84:\tlearn: 108673.4005161\ttotal: 2.33s\tremaining: 410ms\n",
      "85:\tlearn: 108647.2930808\ttotal: 2.35s\tremaining: 383ms\n",
      "86:\tlearn: 108643.2960991\ttotal: 2.37s\tremaining: 355ms\n",
      "87:\tlearn: 106428.7475840\ttotal: 2.4s\tremaining: 327ms\n",
      "88:\tlearn: 106420.0584195\ttotal: 2.42s\tremaining: 299ms\n",
      "89:\tlearn: 106339.8345823\ttotal: 2.45s\tremaining: 272ms\n",
      "90:\tlearn: 105633.3747233\ttotal: 2.47s\tremaining: 244ms\n",
      "91:\tlearn: 105602.5418168\ttotal: 2.5s\tremaining: 217ms\n",
      "92:\tlearn: 105592.1642578\ttotal: 2.52s\tremaining: 190ms\n",
      "93:\tlearn: 105583.9802628\ttotal: 2.55s\tremaining: 163ms\n",
      "94:\tlearn: 105137.2145787\ttotal: 2.58s\tremaining: 136ms\n",
      "95:\tlearn: 102959.2828166\ttotal: 2.6s\tremaining: 108ms\n",
      "96:\tlearn: 102329.4115177\ttotal: 2.63s\tremaining: 81.3ms\n",
      "97:\tlearn: 102308.3992537\ttotal: 2.65s\tremaining: 54.2ms\n",
      "98:\tlearn: 102299.2271153\ttotal: 2.68s\tremaining: 27.1ms\n",
      "99:\tlearn: 100793.0038693\ttotal: 2.71s\tremaining: 0us\n"
     ]
    }
   ],
   "source": [
    "columns_to_keep = [\"Manufacturer\",\"Prod. year\",\"Category\",\"Fuel type\", \"Cylinders\",\"Gear box type\", \\\n",
    " \"Drive wheels\", \"Doors\", \"Wheel\", \"Airbags\", \"Price\"]\n",
    "\n",
    "cat_features = [\"Manufacturer\",\"Prod. year\",\"Category\",\"Fuel type\", \"Gear box type\", \\\n",
    " \"Drive wheels\", \"Doors\", \"Wheel\"]\n",
    "\n",
    "features_to_keep = train[columns_to_keep]\n",
    "\n",
    "features_to_keep[cat_features] = features_to_keep[cat_features].astype(str)\n",
    "\n",
    "var_dict = {}\n",
    "var_dict[\"independant\"] = [\"Manufacturer\",\"Prod. year\",\"Category\",\"Fuel type\", \"Cylinders\",\"Gear box type\", \\\n",
    " \"Drive wheels\", \"Doors\", \"Wheel\", \"Airbags\"]\n",
    "\n",
    "var_dict[\"dependant\"]   = [\"Price\"]\n",
    "\n",
    "params = {\"cat_features\": cat_features, \"loss_function\": \"RMSE\", \"iterations\" : 100}\n",
    "\n",
    "cat_model = catboost_regressor.new_instance()\n",
    "\n",
    "cat_model_base_001 = cat_model.model_run(features_to_keep, var_dict )"
   ]
  },
  {
   "cell_type": "code",
   "execution_count": 26,
   "metadata": {},
   "outputs": [
    {
     "data": {
      "text/plain": [
       "{'mae': 11003.275172396843,\n",
       " 'mse': 1878913140.0361242,\n",
       " 'rmse': 43346.43168746563,\n",
       " 'r2': -5.068358705039009,\n",
       " 'model': <catboost.core.CatBoostRegressor at 0x1960b13cd90>,\n",
       " 'y_test':         Price\n",
       " 736     27284\n",
       " 8674    10349\n",
       " 5971    40769\n",
       " 1957    38737\n",
       " 11075   42102\n",
       " ...       ...\n",
       " 18231  131716\n",
       " 1082    36065\n",
       " 6206    10976\n",
       " 9124      220\n",
       " 1935    11447\n",
       " \n",
       " [4810 rows x 1 columns],\n",
       " 'y_pred': array([23469.94173484,  8092.50560767,   884.86344509, ...,\n",
       "        16406.398922  ,  3356.51058078, 16094.74026094]),\n",
       " 'model_score': -34004.43328216245}"
      ]
     },
     "execution_count": 26,
     "metadata": {},
     "output_type": "execute_result"
    }
   ],
   "source": [
    "cat_model_base_001"
   ]
  },
  {
   "cell_type": "code",
   "execution_count": 31,
   "metadata": {},
   "outputs": [
    {
     "name": "stderr",
     "output_type": "stream",
     "text": [
      "C:\\Users\\chris.dmello\\Anaconda3\\lib\\site-packages\\pandas\\core\\frame.py:3065: SettingWithCopyWarning: \n",
      "A value is trying to be set on a copy of a slice from a DataFrame.\n",
      "Try using .loc[row_indexer,col_indexer] = value instead\n",
      "\n",
      "See the caveats in the documentation: https://pandas.pydata.org/pandas-docs/stable/user_guide/indexing.html#returning-a-view-versus-a-copy\n",
      "  self[k1] = value[k2]\n"
     ]
    },
    {
     "name": "stdout",
     "output_type": "stream",
     "text": [
      "Learning rate set to 0.361189\n",
      "0:\tlearn: 216098.3332342\ttotal: 39.8ms\tremaining: 3.94s\n",
      "99:\tlearn: 140083.5582740\ttotal: 2.52s\tremaining: 0us\n"
     ]
    }
   ],
   "source": [
    "columns_to_keep = [\"Manufacturer\",\"Prod. year\", \"Cylinders\",\"Gear box type\", \\\n",
    " \"Drive wheels\", \"Doors\", \"Wheel\", \"Airbags\", \"Price\"]\n",
    "\n",
    "cat_features = [\"Manufacturer\",\"Prod. year\", \"Gear box type\", \\\n",
    " \"Drive wheels\", \"Doors\", \"Wheel\"]\n",
    "\n",
    "features_to_keep = train[columns_to_keep]\n",
    "\n",
    "features_to_keep[cat_features] = features_to_keep[cat_features].astype(str)\n",
    "\n",
    "var_dict = {}\n",
    "var_dict[\"independant\"] = [\"Manufacturer\",\"Prod. year\", \"Cylinders\",\"Gear box type\", \\\n",
    " \"Drive wheels\", \"Doors\", \"Wheel\", \"Airbags\"]\n",
    "\n",
    "var_dict[\"dependant\"]   = [\"Price\"]\n",
    "\n",
    "params = {\"cat_features\": cat_features, \"loss_function\": \"RMSE\", \"iterations\" : 100, \"verbose\":100}\n",
    "\n",
    "cat_model = catboost_regressor.new_instance()\n",
    "\n",
    "cat_model_base_002 = cat_model.model_run(features_to_keep, var_dict )"
   ]
  },
  {
   "cell_type": "code",
   "execution_count": 28,
   "metadata": {},
   "outputs": [
    {
     "data": {
      "text/plain": [
       "{'mae': 13460.874916258063,\n",
       " 'mse': 32758922041.762417,\n",
       " 'rmse': 180994.25969284886,\n",
       " 'r2': -104.80206477027522,\n",
       " 'model': <catboost.core.CatBoostRegressor at 0x1960b13cdf0>,\n",
       " 'y_test':         Price\n",
       " 736     27284\n",
       " 8674    10349\n",
       " 5971    40769\n",
       " 1957    38737\n",
       " 11075   42102\n",
       " ...       ...\n",
       " 18231  131716\n",
       " 1082    36065\n",
       " 6206    10976\n",
       " 9124      220\n",
       " 1935    11447\n",
       " \n",
       " [4810 rows x 1 columns],\n",
       " 'y_pred': array([17199.66143961, 12280.02387953, 20864.25068826, ...,\n",
       "        17348.47295381,  1271.1434943 , 16533.07356412]),\n",
       " 'model_score': -511619.5871692388}"
      ]
     },
     "execution_count": 28,
     "metadata": {},
     "output_type": "execute_result"
    }
   ],
   "source": [
    "cat_model_base_002"
   ]
  },
  {
   "cell_type": "code",
   "execution_count": 33,
   "metadata": {},
   "outputs": [
    {
     "name": "stderr",
     "output_type": "stream",
     "text": [
      "C:\\Users\\chris.dmello\\Anaconda3\\lib\\site-packages\\pandas\\core\\frame.py:3065: SettingWithCopyWarning: \n",
      "A value is trying to be set on a copy of a slice from a DataFrame.\n",
      "Try using .loc[row_indexer,col_indexer] = value instead\n",
      "\n",
      "See the caveats in the documentation: https://pandas.pydata.org/pandas-docs/stable/user_guide/indexing.html#returning-a-view-versus-a-copy\n",
      "  self[k1] = value[k2]\n"
     ]
    },
    {
     "name": "stdout",
     "output_type": "stream",
     "text": [
      "Learning rate set to 0.062767\n",
      "0:\tlearn: 219525.2695648\ttotal: 32.1ms\tremaining: 32s\n",
      "100:\tlearn: 157491.6659235\ttotal: 3.11s\tremaining: 27.7s\n",
      "200:\tlearn: 112620.9837421\ttotal: 6.39s\tremaining: 25.4s\n",
      "300:\tlearn: 70090.9951673\ttotal: 10s\tremaining: 23.3s\n",
      "400:\tlearn: 51423.6961374\ttotal: 13.9s\tremaining: 20.7s\n",
      "500:\tlearn: 43190.2059051\ttotal: 17.6s\tremaining: 17.5s\n",
      "600:\tlearn: 38530.7362400\ttotal: 21.3s\tremaining: 14.2s\n",
      "700:\tlearn: 33838.5545319\ttotal: 25.1s\tremaining: 10.7s\n",
      "800:\tlearn: 30658.7586176\ttotal: 28.9s\tremaining: 7.19s\n",
      "900:\tlearn: 28621.6410485\ttotal: 32.7s\tremaining: 3.59s\n",
      "999:\tlearn: 27966.7026939\ttotal: 36.5s\tremaining: 0us\n"
     ]
    }
   ],
   "source": [
    "columns_to_keep = [\"Manufacturer\",\"Model\",\"Prod. year\",\"Category\",\"Leather interior\",\"Fuel type\", \"Cylinders\",\"Gear box type\", \\\n",
    " \"Drive wheels\", \"Doors\", \"Wheel\", \"Airbags\", \"Price\"]\n",
    "\n",
    "cat_features = [\"Manufacturer\",\"Model\",\"Prod. year\",\"Category\",\"Leather interior\",\"Fuel type\", \"Gear box type\", \\\n",
    " \"Drive wheels\", \"Doors\", \"Wheel\"]\n",
    "\n",
    "features_to_keep = train[columns_to_keep]\n",
    "\n",
    "features_to_keep[cat_features] = features_to_keep[cat_features].astype(str)\n",
    "\n",
    "var_dict = {}\n",
    "var_dict[\"independant\"] = [\"Manufacturer\",\"Model\",\"Prod. year\",\"Category\",\"Leather interior\",\"Fuel type\", \"Cylinders\",\"Gear box type\", \\\n",
    " \"Drive wheels\", \"Doors\", \"Wheel\", \"Airbags\"]\n",
    "\n",
    "var_dict[\"dependant\"]   = [\"Price\"]\n",
    "\n",
    "params = {\"cat_features\": cat_features, \"loss_function\": \"RMSE\", \"iterations\" : 1000, \"verbose\":100}\n",
    "\n",
    "cat_model = catboost_regressor.new_instance()\n",
    "\n",
    "cat_model_base_003 = cat_model.model_run(features_to_keep, var_dict )"
   ]
  },
  {
   "cell_type": "code",
   "execution_count": 34,
   "metadata": {},
   "outputs": [
    {
     "data": {
      "text/plain": [
       "{'mae': 8783.26612354863,\n",
       " 'mse': 680056489.2811434,\n",
       " 'rmse': 26077.892730838958,\n",
       " 'r2': -1.1963903645743579,\n",
       " 'model': <catboost.core.CatBoostRegressor at 0x1960b16e820>,\n",
       " 'y_test':         Price\n",
       " 736     27284\n",
       " 8674    10349\n",
       " 5971    40769\n",
       " 1957    38737\n",
       " 11075   42102\n",
       " ...       ...\n",
       " 18231  131716\n",
       " 1082    36065\n",
       " 6206    10976\n",
       " 9124      220\n",
       " 1935    11447\n",
       " \n",
       " [4810 rows x 1 columns],\n",
       " 'y_pred': array([ 22618.69172079,  28325.92369278, -15755.74919382, ...,\n",
       "         18502.19134751,   1381.01100851,  19461.65909022]),\n",
       " 'model_score': -16695.922702094074}"
      ]
     },
     "execution_count": 34,
     "metadata": {},
     "output_type": "execute_result"
    }
   ],
   "source": [
    "cat_model_base_003"
   ]
  },
  {
   "cell_type": "markdown",
   "metadata": {},
   "source": [
    "#### Baseline Predictions"
   ]
  },
  {
   "cell_type": "code",
   "execution_count": 42,
   "metadata": {},
   "outputs": [
    {
     "name": "stderr",
     "output_type": "stream",
     "text": [
      "C:\\Users\\chris.dmello\\Anaconda3\\lib\\site-packages\\pandas\\core\\frame.py:3065: SettingWithCopyWarning: \n",
      "A value is trying to be set on a copy of a slice from a DataFrame.\n",
      "Try using .loc[row_indexer,col_indexer] = value instead\n",
      "\n",
      "See the caveats in the documentation: https://pandas.pydata.org/pandas-docs/stable/user_guide/indexing.html#returning-a-view-versus-a-copy\n",
      "  self[k1] = value[k2]\n"
     ]
    }
   ],
   "source": [
    "columns_to_keep = [\"Manufacturer\",\"Model\",\"Prod. year\",\"Category\",\"Leather interior\",\"Fuel type\", \"Cylinders\",\"Gear box type\", \\\n",
    " \"Drive wheels\", \"Doors\", \"Wheel\", \"Airbags\", \"Price\"]\n",
    "\n",
    "cat_features = [\"Manufacturer\",\"Model\",\"Prod. year\",\"Category\",\"Leather interior\",\"Fuel type\", \"Gear box type\", \\\n",
    " \"Drive wheels\", \"Doors\", \"Wheel\"]\n",
    "\n",
    "features_to_predict_df = test[columns_to_keep]\n",
    "\n",
    "features_to_predict_df[cat_features] = features_to_predict_df[cat_features].astype(str)\n",
    "\n",
    "\n",
    "y_pred = cat_model_base[\"model\"].predict(features_to_predict_df)"
   ]
  },
  {
   "cell_type": "code",
   "execution_count": 43,
   "metadata": {},
   "outputs": [
    {
     "data": {
      "text/html": [
       "<div>\n",
       "<style scoped>\n",
       "    .dataframe tbody tr th:only-of-type {\n",
       "        vertical-align: middle;\n",
       "    }\n",
       "\n",
       "    .dataframe tbody tr th {\n",
       "        vertical-align: top;\n",
       "    }\n",
       "\n",
       "    .dataframe thead th {\n",
       "        text-align: right;\n",
       "    }\n",
       "</style>\n",
       "<table border=\"1\" class=\"dataframe\">\n",
       "  <thead>\n",
       "    <tr style=\"text-align: right;\">\n",
       "      <th></th>\n",
       "      <th>Price</th>\n",
       "    </tr>\n",
       "  </thead>\n",
       "  <tbody>\n",
       "    <tr>\n",
       "      <th>0</th>\n",
       "      <td>-17252.903541</td>\n",
       "    </tr>\n",
       "    <tr>\n",
       "      <th>1</th>\n",
       "      <td>17792.108722</td>\n",
       "    </tr>\n",
       "    <tr>\n",
       "      <th>2</th>\n",
       "      <td>13262.944554</td>\n",
       "    </tr>\n",
       "    <tr>\n",
       "      <th>3</th>\n",
       "      <td>6221.000360</td>\n",
       "    </tr>\n",
       "    <tr>\n",
       "      <th>4</th>\n",
       "      <td>-122736.021564</td>\n",
       "    </tr>\n",
       "  </tbody>\n",
       "</table>\n",
       "</div>"
      ],
      "text/plain": [
       "           Price\n",
       "0  -17252.903541\n",
       "1   17792.108722\n",
       "2   13262.944554\n",
       "3    6221.000360\n",
       "4 -122736.021564"
      ]
     },
     "execution_count": 43,
     "metadata": {},
     "output_type": "execute_result"
    }
   ],
   "source": [
    "prediction_20210707 = pd.DataFrame({\"Price\":y_pred})\n",
    "prediction_20210707.head()"
   ]
  },
  {
   "cell_type": "code",
   "execution_count": 55,
   "metadata": {},
   "outputs": [],
   "source": [
    "prediction_20210707.to_csv(\"prediction_20210707.csv\")"
   ]
  },
  {
   "cell_type": "markdown",
   "metadata": {},
   "source": [
    "This kind of meaningless (such as negative values) prediction mostly happen while trying to predict something that's out of rang of the regression. Sometimes, data does not follow normal distribution. Data transformation(log(y) or 1/y, or other) might help in some cases."
   ]
  },
  {
   "cell_type": "markdown",
   "metadata": {},
   "source": [
    "##### We make the prediction positive \n",
    "\n",
    "1. For the predicted variable we consider log and then train the same model. "
   ]
  },
  {
   "cell_type": "code",
   "execution_count": 48,
   "metadata": {},
   "outputs": [
    {
     "name": "stderr",
     "output_type": "stream",
     "text": [
      "C:\\Users\\chris.dmello\\Anaconda3\\lib\\site-packages\\pandas\\core\\frame.py:3065: SettingWithCopyWarning: \n",
      "A value is trying to be set on a copy of a slice from a DataFrame.\n",
      "Try using .loc[row_indexer,col_indexer] = value instead\n",
      "\n",
      "See the caveats in the documentation: https://pandas.pydata.org/pandas-docs/stable/user_guide/indexing.html#returning-a-view-versus-a-copy\n",
      "  self[k1] = value[k2]\n"
     ]
    },
    {
     "name": "stdout",
     "output_type": "stream",
     "text": [
      "Learning rate set to 0.361189\n",
      "0:\tlearn: 0.6176979\ttotal: 32.2ms\tremaining: 3.19s\n",
      "99:\tlearn: 0.4729648\ttotal: 2.74s\tremaining: 0us\n"
     ]
    }
   ],
   "source": [
    "columns_to_keep = [\"Manufacturer\",\"Model\",\"Prod. year\",\"Category\",\"Leather interior\",\"Fuel type\", \"Cylinders\",\"Gear box type\", \\\n",
    " \"Drive wheels\", \"Doors\", \"Wheel\", \"Airbags\", \"Price\"]\n",
    "\n",
    "cat_features = [\"Manufacturer\",\"Model\",\"Prod. year\",\"Category\",\"Leather interior\",\"Fuel type\", \"Gear box type\", \\\n",
    " \"Drive wheels\", \"Doors\", \"Wheel\"]\n",
    "\n",
    "features_to_keep = train[columns_to_keep]\n",
    "\n",
    "#features_to_keep[\"Price\"] = np.log10(features_to_keep.Price)\n",
    "\n",
    "features_to_keep[cat_features] = features_to_keep[cat_features].astype(str)\n",
    "\n",
    "\n",
    "var_dict = {}\n",
    "var_dict[\"independant\"] = [\"Manufacturer\",\"Model\",\"Prod. year\",\"Category\",\"Leather interior\",\"Fuel type\", \"Cylinders\",\"Gear box type\", \\\n",
    " \"Drive wheels\", \"Doors\", \"Wheel\", \"Airbags\"]\n",
    "\n",
    "var_dict[\"dependant\"]   = [\"Price\"]\n",
    "\n",
    "params = {\"cat_features\": cat_features, \"loss_function\": \"RMSE\", \"iterations\" : 100, \"verbose\":100}\n",
    "\n",
    "cat_model = catboost_regressor.new_instance()\n",
    "\n",
    "cat_model_base_004 = cat_model.model_run_log(features_to_keep, var_dict )"
   ]
  },
  {
   "cell_type": "code",
   "execution_count": 49,
   "metadata": {},
   "outputs": [
    {
     "data": {
      "text/plain": [
       "{'mae': 0.3127371392570263,\n",
       " 'mse': 0.239841862218088,\n",
       " 'rmse': 0.48973652326336453,\n",
       " 'r2': 0.47416038720583453,\n",
       " 'model': <catboost.core.CatBoostRegressor at 0x1960b9f1880>,\n",
       " 'y_test':           Price\n",
       " 736    4.435908\n",
       " 8674   4.014898\n",
       " 5971   4.610330\n",
       " 1957   4.588126\n",
       " 11075  4.624303\n",
       " ...         ...\n",
       " 18231  5.119639\n",
       " 1082   4.557086\n",
       " 6206   4.040444\n",
       " 9124   2.342423\n",
       " 1935   4.058692\n",
       " \n",
       " [4810 rows x 1 columns],\n",
       " 'y_pred': array([4.41891332, 4.16575543, 3.75814858, ..., 4.23538739, 2.67332472,\n",
       "        4.19944427]),\n",
       " 'model_score': -7208.987377114593}"
      ]
     },
     "execution_count": 49,
     "metadata": {},
     "output_type": "execute_result"
    }
   ],
   "source": [
    "cat_model_base_004"
   ]
  },
  {
   "cell_type": "code",
   "execution_count": 65,
   "metadata": {},
   "outputs": [
    {
     "data": {
      "text/plain": [
       "11.512925464970229"
      ]
     },
     "execution_count": 65,
     "metadata": {},
     "output_type": "execute_result"
    }
   ],
   "source": [
    "np.log(100000)"
   ]
  },
  {
   "cell_type": "code",
   "execution_count": 66,
   "metadata": {},
   "outputs": [
    {
     "data": {
      "text/plain": [
       "99907.49631404002"
      ]
     },
     "execution_count": 66,
     "metadata": {},
     "output_type": "execute_result"
    }
   ],
   "source": [
    "np.exp(11.512)"
   ]
  },
  {
   "cell_type": "code",
   "execution_count": 71,
   "metadata": {},
   "outputs": [
    {
     "name": "stderr",
     "output_type": "stream",
     "text": [
      "C:\\Users\\chris.dmello\\Anaconda3\\lib\\site-packages\\pandas\\core\\frame.py:3065: SettingWithCopyWarning: \n",
      "A value is trying to be set on a copy of a slice from a DataFrame.\n",
      "Try using .loc[row_indexer,col_indexer] = value instead\n",
      "\n",
      "See the caveats in the documentation: https://pandas.pydata.org/pandas-docs/stable/user_guide/indexing.html#returning-a-view-versus-a-copy\n",
      "  self[k1] = value[k2]\n"
     ]
    },
    {
     "data": {
      "text/html": [
       "<div>\n",
       "<style scoped>\n",
       "    .dataframe tbody tr th:only-of-type {\n",
       "        vertical-align: middle;\n",
       "    }\n",
       "\n",
       "    .dataframe tbody tr th {\n",
       "        vertical-align: top;\n",
       "    }\n",
       "\n",
       "    .dataframe thead th {\n",
       "        text-align: right;\n",
       "    }\n",
       "</style>\n",
       "<table border=\"1\" class=\"dataframe\">\n",
       "  <thead>\n",
       "    <tr style=\"text-align: right;\">\n",
       "      <th></th>\n",
       "      <th>Manufacturer</th>\n",
       "      <th>Model</th>\n",
       "      <th>Prod. year</th>\n",
       "      <th>Category</th>\n",
       "      <th>Leather interior</th>\n",
       "      <th>Fuel type</th>\n",
       "      <th>Cylinders</th>\n",
       "      <th>Gear box type</th>\n",
       "      <th>Drive wheels</th>\n",
       "      <th>Doors</th>\n",
       "      <th>Wheel</th>\n",
       "      <th>Airbags</th>\n",
       "    </tr>\n",
       "  </thead>\n",
       "  <tbody>\n",
       "    <tr>\n",
       "      <th>0</th>\n",
       "      <td>VOLKSWAGEN</td>\n",
       "      <td>Golf</td>\n",
       "      <td>2012</td>\n",
       "      <td>Hatchback</td>\n",
       "      <td>No</td>\n",
       "      <td>Diesel</td>\n",
       "      <td>4</td>\n",
       "      <td>Manual</td>\n",
       "      <td>Front</td>\n",
       "      <td>02-Mar</td>\n",
       "      <td>Left wheel</td>\n",
       "      <td>10</td>\n",
       "    </tr>\n",
       "    <tr>\n",
       "      <th>1</th>\n",
       "      <td>HYUNDAI</td>\n",
       "      <td>Sonata</td>\n",
       "      <td>2012</td>\n",
       "      <td>Sedan</td>\n",
       "      <td>Yes</td>\n",
       "      <td>Petrol</td>\n",
       "      <td>4</td>\n",
       "      <td>Tiptronic</td>\n",
       "      <td>Front</td>\n",
       "      <td>04-May</td>\n",
       "      <td>Left wheel</td>\n",
       "      <td>10</td>\n",
       "    </tr>\n",
       "    <tr>\n",
       "      <th>2</th>\n",
       "      <td>NISSAN</td>\n",
       "      <td>Tiida</td>\n",
       "      <td>2005</td>\n",
       "      <td>Sedan</td>\n",
       "      <td>No</td>\n",
       "      <td>Petrol</td>\n",
       "      <td>4</td>\n",
       "      <td>Automatic</td>\n",
       "      <td>Front</td>\n",
       "      <td>04-May</td>\n",
       "      <td>Right-hand drive</td>\n",
       "      <td>8</td>\n",
       "    </tr>\n",
       "    <tr>\n",
       "      <th>3</th>\n",
       "      <td>VOLVO</td>\n",
       "      <td>XC90</td>\n",
       "      <td>2012</td>\n",
       "      <td>Jeep</td>\n",
       "      <td>Yes</td>\n",
       "      <td>Petrol</td>\n",
       "      <td>6</td>\n",
       "      <td>Automatic</td>\n",
       "      <td>4x4</td>\n",
       "      <td>04-May</td>\n",
       "      <td>Left wheel</td>\n",
       "      <td>12</td>\n",
       "    </tr>\n",
       "    <tr>\n",
       "      <th>4</th>\n",
       "      <td>OPEL</td>\n",
       "      <td>Astra</td>\n",
       "      <td>1993</td>\n",
       "      <td>Hatchback</td>\n",
       "      <td>No</td>\n",
       "      <td>Petrol</td>\n",
       "      <td>4</td>\n",
       "      <td>Manual</td>\n",
       "      <td>Front</td>\n",
       "      <td>04-May</td>\n",
       "      <td>Left wheel</td>\n",
       "      <td>0</td>\n",
       "    </tr>\n",
       "  </tbody>\n",
       "</table>\n",
       "</div>"
      ],
      "text/plain": [
       "  Manufacturer   Model Prod. year   Category Leather interior Fuel type  \\\n",
       "0   VOLKSWAGEN    Golf       2012  Hatchback               No    Diesel   \n",
       "1      HYUNDAI  Sonata       2012      Sedan              Yes    Petrol   \n",
       "2       NISSAN   Tiida       2005      Sedan               No    Petrol   \n",
       "3        VOLVO    XC90       2012       Jeep              Yes    Petrol   \n",
       "4         OPEL   Astra       1993  Hatchback               No    Petrol   \n",
       "\n",
       "   Cylinders Gear box type Drive wheels   Doors             Wheel  Airbags  \n",
       "0          4        Manual        Front  02-Mar        Left wheel       10  \n",
       "1          4     Tiptronic        Front  04-May        Left wheel       10  \n",
       "2          4     Automatic        Front  04-May  Right-hand drive        8  \n",
       "3          6     Automatic          4x4  04-May        Left wheel       12  \n",
       "4          4        Manual        Front  04-May        Left wheel        0  "
      ]
     },
     "execution_count": 71,
     "metadata": {},
     "output_type": "execute_result"
    }
   ],
   "source": [
    "columns_to_keep = [\"Manufacturer\",\"Model\",\"Prod. year\",\"Category\",\"Leather interior\",\"Fuel type\", \"Cylinders\",\"Gear box type\", \\\n",
    " \"Drive wheels\", \"Doors\", \"Wheel\", \"Airbags\"]\n",
    "\n",
    "cat_features = [\"Manufacturer\",\"Model\",\"Prod. year\",\"Category\",\"Leather interior\",\"Fuel type\", \"Gear box type\", \\\n",
    " \"Drive wheels\", \"Doors\", \"Wheel\"]\n",
    "\n",
    "features_to_predict_df = test[columns_to_keep]\n",
    "\n",
    "features_to_predict_df[cat_features] = features_to_predict_df[cat_features].astype(str)\n",
    "\n",
    "\n",
    "y_pred_log = cat_model_base_004[\"model\"].predict(features_to_predict_df)\n",
    "\n",
    "features_to_predict_df.head()"
   ]
  },
  {
   "cell_type": "code",
   "execution_count": 69,
   "metadata": {},
   "outputs": [],
   "source": [
    "## inverse log\n",
    "y_pred = np.exp(y_pred_log)"
   ]
  },
  {
   "cell_type": "code",
   "execution_count": 70,
   "metadata": {},
   "outputs": [
    {
     "data": {
      "text/html": [
       "<div>\n",
       "<style scoped>\n",
       "    .dataframe tbody tr th:only-of-type {\n",
       "        vertical-align: middle;\n",
       "    }\n",
       "\n",
       "    .dataframe tbody tr th {\n",
       "        vertical-align: top;\n",
       "    }\n",
       "\n",
       "    .dataframe thead th {\n",
       "        text-align: right;\n",
       "    }\n",
       "</style>\n",
       "<table border=\"1\" class=\"dataframe\">\n",
       "  <thead>\n",
       "    <tr style=\"text-align: right;\">\n",
       "      <th></th>\n",
       "      <th>Price</th>\n",
       "    </tr>\n",
       "  </thead>\n",
       "  <tbody>\n",
       "    <tr>\n",
       "      <th>0</th>\n",
       "      <td>70.891793</td>\n",
       "    </tr>\n",
       "    <tr>\n",
       "      <th>1</th>\n",
       "      <td>64.178056</td>\n",
       "    </tr>\n",
       "    <tr>\n",
       "      <th>2</th>\n",
       "      <td>30.184428</td>\n",
       "    </tr>\n",
       "    <tr>\n",
       "      <th>3</th>\n",
       "      <td>28.039642</td>\n",
       "    </tr>\n",
       "    <tr>\n",
       "      <th>4</th>\n",
       "      <td>44.219924</td>\n",
       "    </tr>\n",
       "  </tbody>\n",
       "</table>\n",
       "</div>"
      ],
      "text/plain": [
       "       Price\n",
       "0  70.891793\n",
       "1  64.178056\n",
       "2  30.184428\n",
       "3  28.039642\n",
       "4  44.219924"
      ]
     },
     "execution_count": 70,
     "metadata": {},
     "output_type": "execute_result"
    }
   ],
   "source": [
    "prediction_20210707_a = pd.DataFrame({\"Price\":y_pred})\n",
    "prediction_20210707_a.head()"
   ]
  },
  {
   "cell_type": "code",
   "execution_count": 54,
   "metadata": {},
   "outputs": [],
   "source": [
    "prediction_20210707_a.to_csv(\"prediction_20210707_a.csv\")"
   ]
  },
  {
   "cell_type": "markdown",
   "metadata": {},
   "source": [
    "In the above predictions the values are low because __df[label] = np.log(df[label]+1)__ was not used and only log(label) was used this gives -inf values or nan values which can skeew results."
   ]
  },
  {
   "cell_type": "markdown",
   "metadata": {},
   "source": [
    "> Trying With Fewer columns"
   ]
  },
  {
   "cell_type": "code",
   "execution_count": 20,
   "metadata": {},
   "outputs": [
    {
     "name": "stderr",
     "output_type": "stream",
     "text": [
      "C:\\Users\\chris.dmello\\Anaconda3\\lib\\site-packages\\pandas\\core\\frame.py:3065: SettingWithCopyWarning: \n",
      "A value is trying to be set on a copy of a slice from a DataFrame.\n",
      "Try using .loc[row_indexer,col_indexer] = value instead\n",
      "\n",
      "See the caveats in the documentation: https://pandas.pydata.org/pandas-docs/stable/user_guide/indexing.html#returning-a-view-versus-a-copy\n",
      "  self[k1] = value[k2]\n"
     ]
    },
    {
     "name": "stdout",
     "output_type": "stream",
     "text": [
      "Learning rate set to 0.062767\n",
      "0:\tlearn: 219253.3316933\ttotal: 61.2ms\tremaining: 1m 1s\n",
      "100:\tlearn: 187095.1850649\ttotal: 3.07s\tremaining: 27.3s\n",
      "200:\tlearn: 164674.8048326\ttotal: 5.97s\tremaining: 23.7s\n",
      "300:\tlearn: 145985.4036683\ttotal: 8.89s\tremaining: 20.6s\n",
      "400:\tlearn: 137218.4510039\ttotal: 11.7s\tremaining: 17.5s\n",
      "500:\tlearn: 132525.6466919\ttotal: 14.6s\tremaining: 14.6s\n",
      "600:\tlearn: 125840.3525835\ttotal: 17.5s\tremaining: 11.6s\n",
      "700:\tlearn: 118055.8168341\ttotal: 20.3s\tremaining: 8.68s\n",
      "800:\tlearn: 112661.1405710\ttotal: 23.2s\tremaining: 5.77s\n",
      "900:\tlearn: 107084.0400241\ttotal: 26.2s\tremaining: 2.88s\n",
      "999:\tlearn: 104663.8777346\ttotal: 29.1s\tremaining: 0us\n"
     ]
    }
   ],
   "source": [
    "columns_to_keep = [\"Manufacturer\", \"Cylinders\",\"Gear box type\", \"Drive wheels\",  \"Airbags\", \"Price\"]\n",
    "\n",
    "cat_features = [\"Manufacturer\", \"Gear box type\", \"Drive wheels\"]\n",
    "\n",
    "features_to_keep = train[columns_to_keep]\n",
    "\n",
    "#features_to_keep[\"Price\"] = np.log10(features_to_keep.Price)\n",
    "\n",
    "features_to_keep[cat_features] = features_to_keep[cat_features].astype(str)\n",
    "\n",
    "\n",
    "var_dict = {}\n",
    "var_dict[\"independant\"] = [\"Manufacturer\", \"Cylinders\",\"Gear box type\", \"Drive wheels\",  \"Airbags\"]\n",
    "\n",
    "var_dict[\"dependant\"]   = [\"Price\"]\n",
    "\n",
    "params = {\"cat_features\": cat_features, \"loss_function\": \"RMSE\", \"iterations\" : 1000, \"verbose\":100}\n",
    "\n",
    "cat_model = catboost_regressor.new_instance()\n",
    "\n",
    "cat_model_base_005 = cat_model.model_run(features_to_keep, var_dict )"
   ]
  },
  {
   "cell_type": "code",
   "execution_count": 21,
   "metadata": {
    "scrolled": false
   },
   "outputs": [
    {
     "data": {
      "text/plain": [
       "{'mae': 12349.932290587298,\n",
       " 'mse': 2234812491.0749507,\n",
       " 'rmse': 47273.80343356086,\n",
       " 'r2': -6.217813077875356,\n",
       " 'model': <catboost.core.CatBoostRegressor at 0x2a75d4773d0>,\n",
       " 'y_test':         Price\n",
       " 736     27284\n",
       " 8674    10349\n",
       " 5971    40769\n",
       " 1957    38737\n",
       " 11075   42102\n",
       " ...       ...\n",
       " 18231  131716\n",
       " 1082    36065\n",
       " 6206    10976\n",
       " 9124      220\n",
       " 1935    11447\n",
       " \n",
       " [4810 rows x 1 columns],\n",
       " 'y_pred': array([16872.2893181 , 13193.54804188, 27275.72752841, ...,\n",
       "        17742.51053752,  4477.72454135, 15764.08262326]),\n",
       " 'model_score': -37645.71698303226}"
      ]
     },
     "execution_count": 21,
     "metadata": {},
     "output_type": "execute_result"
    }
   ],
   "source": [
    "cat_model_base_005"
   ]
  },
  {
   "cell_type": "code",
   "execution_count": 22,
   "metadata": {
    "scrolled": false
   },
   "outputs": [
    {
     "data": {
      "image/png": "[encoded data removed]",
      "text/plain": [
       "<Figure size 720x504 with 1 Axes>"
      ]
     },
     "metadata": {
      "needs_background": "light"
     },
     "output_type": "display_data"
    }
   ],
   "source": [
    "cat_model.feature_importance(cat_model_base_005[\"model\"], [\"Manufacturer\", \"Cylinders\",\"Gear box type\", \"Drive wheels\",  \"Airbags\"])"
   ]
  },
  {
   "cell_type": "code",
   "execution_count": null,
   "metadata": {},
   "outputs": [],
   "source": []
  },
  {
   "cell_type": "code",
   "execution_count": null,
   "metadata": {},
   "outputs": [],
   "source": []
  },
  {
   "cell_type": "code",
   "execution_count": null,
   "metadata": {},
   "outputs": [],
   "source": []
  },
  {
   "cell_type": "code",
   "execution_count": null,
   "metadata": {},
   "outputs": [],
   "source": []
  },
  {
   "cell_type": "code",
   "execution_count": null,
   "metadata": {},
   "outputs": [],
   "source": []
  },
  {
   "cell_type": "code",
   "execution_count": null,
   "metadata": {},
   "outputs": [],
   "source": []
  },
  {
   "cell_type": "code",
   "execution_count": null,
   "metadata": {},
   "outputs": [],
   "source": []
  }
 ],
 "metadata": {
  "kernelspec": {
   "display_name": "Python 3",
   "language": "python",
   "name": "python3"
  },
  "language_info": {
   "codemirror_mode": {
    "name": "ipython",
    "version": 3
   },
   "file_extension": ".py",
   "mimetype": "text/x-python",
   "name": "python",
   "nbconvert_exporter": "python",
   "pygments_lexer": "ipython3",
   "version": "3.8.5"
  }
 },
 "nbformat": 4,
 "nbformat_minor": 4
}
