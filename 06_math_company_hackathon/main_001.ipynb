{
 "cells": [
  {
   "cell_type": "markdown",
   "metadata": {},
   "source": [
    "## Predict log values\n"
   ]
  },
  {
   "cell_type": "code",
   "execution_count": 1,
   "metadata": {},
   "outputs": [],
   "source": [
    "## Catboost regressor class\n",
    "%run setup/catboost_regression.ipynb"
   ]
  },
  {
   "cell_type": "code",
   "execution_count": 2,
   "metadata": {},
   "outputs": [],
   "source": [
    "## utils functions\n",
    "%run extras/lab_utils_cls.ipynb"
   ]
  },
  {
   "cell_type": "code",
   "execution_count": 3,
   "metadata": {},
   "outputs": [],
   "source": [
    "test_file_loc = \"https://raw.githubusercontent.com/chrisdmell/DataScience/master/data_dump/01_math_company_hackathon/test.csv\"\n",
    "train_file_loc = \"https://raw.githubusercontent.com/chrisdmell/DataScience/master/data_dump/01_math_company_hackathon/train.csv\""
   ]
  },
  {
   "cell_type": "code",
   "execution_count": 4,
   "metadata": {},
   "outputs": [],
   "source": [
    "test  = Utils.load_data(test_file_loc)\n",
    "train = Utils.load_data(train_file_loc)"
   ]
  },
  {
   "cell_type": "code",
   "execution_count": 5,
   "metadata": {},
   "outputs": [
    {
     "data": {
      "text/plain": [
       "Index([], dtype='object')"
      ]
     },
     "metadata": {},
     "output_type": "display_data"
    },
    {
     "data": {
      "text/html": [
       "<div>\n",
       "<style scoped>\n",
       "    .dataframe tbody tr th:only-of-type {\n",
       "        vertical-align: middle;\n",
       "    }\n",
       "\n",
       "    .dataframe tbody tr th {\n",
       "        vertical-align: top;\n",
       "    }\n",
       "\n",
       "    .dataframe thead th {\n",
       "        text-align: right;\n",
       "    }\n",
       "</style>\n",
       "<table border=\"1\" class=\"dataframe\">\n",
       "  <thead>\n",
       "    <tr style=\"text-align: right;\">\n",
       "      <th></th>\n",
       "      <th>ID</th>\n",
       "      <th>Price</th>\n",
       "      <th>Levy</th>\n",
       "      <th>Manufacturer</th>\n",
       "      <th>Model</th>\n",
       "      <th>Prod. year</th>\n",
       "      <th>Category</th>\n",
       "      <th>Leather interior</th>\n",
       "      <th>Fuel type</th>\n",
       "      <th>Engine volume</th>\n",
       "      <th>Mileage</th>\n",
       "      <th>Cylinders</th>\n",
       "      <th>Gear box type</th>\n",
       "      <th>Drive wheels</th>\n",
       "      <th>Doors</th>\n",
       "      <th>Wheel</th>\n",
       "      <th>Color</th>\n",
       "      <th>Airbags</th>\n",
       "    </tr>\n",
       "  </thead>\n",
       "  <tbody>\n",
       "  </tbody>\n",
       "</table>\n",
       "</div>"
      ],
      "text/plain": [
       "Empty DataFrame\n",
       "Columns: [ID, Price, Levy, Manufacturer, Model, Prod. year, Category, Leather interior, Fuel type, Engine volume, Mileage, Cylinders, Gear box type, Drive wheels, Doors, Wheel, Color, Airbags]\n",
       "Index: []"
      ]
     },
     "metadata": {},
     "output_type": "display_data"
    }
   ],
   "source": [
    "display(train.columns[train.isnull().any()])\n",
    "display(train[train['Price'].isnull()])"
   ]
  },
  {
   "cell_type": "markdown",
   "metadata": {},
   "source": [
    "#### 001 Basic log tranformations"
   ]
  },
  {
   "cell_type": "markdown",
   "metadata": {},
   "source": [
    "> This model provided good RMLSE score. Prices we tranformed into the log scale np.log(x+1). This resulted in al predictions being positive. "
   ]
  },
  {
   "cell_type": "code",
   "execution_count": 82,
   "metadata": {},
   "outputs": [
    {
     "name": "stderr",
     "output_type": "stream",
     "text": [
      "C:\\Users\\chris.dmello\\Anaconda3\\lib\\site-packages\\pandas\\core\\frame.py:3065: SettingWithCopyWarning: \n",
      "A value is trying to be set on a copy of a slice from a DataFrame.\n",
      "Try using .loc[row_indexer,col_indexer] = value instead\n",
      "\n",
      "See the caveats in the documentation: https://pandas.pydata.org/pandas-docs/stable/user_guide/indexing.html#returning-a-view-versus-a-copy\n",
      "  self[k1] = value[k2]\n",
      "Custom logger is already specified. Specify more than one logger at same time is not thread safe."
     ]
    },
    {
     "name": "stdout",
     "output_type": "stream",
     "text": [
      "Learning rate set to 0.361189\n",
      "0:\tlearn: 1.4239413\ttotal: 54.2ms\tremaining: 5.37s\n",
      "99:\tlearn: 1.0825833\ttotal: 2.82s\tremaining: 0us\n"
     ]
    }
   ],
   "source": [
    "columns_to_keep = [\"Manufacturer\",\"Model\",\"Prod. year\",\"Category\",\"Leather interior\",\"Fuel type\", \"Cylinders\",\n",
    "                   \"Gear box type\", \\\n",
    " \"Drive wheels\", \"Doors\", \"Wheel\", \"Airbags\", \"Price\"]\n",
    "\n",
    "cat_features = [\"Manufacturer\",\"Model\",\"Prod. year\",\"Category\",\"Leather interior\",\"Fuel type\", \"Gear box type\", \\\n",
    " \"Drive wheels\", \"Doors\", \"Wheel\"]\n",
    "\n",
    "features_to_keep = train[columns_to_keep]\n",
    "\n",
    "#features_to_keep[\"Price\"] = np.log10(features_to_keep.Price)\n",
    "\n",
    "features_to_keep[cat_features] = features_to_keep[cat_features].astype(str)\n",
    "\n",
    "\n",
    "var_dict = {}\n",
    "var_dict[\"independant\"] = [\"Manufacturer\",\"Model\",\"Prod. year\",\"Category\",\"Leather interior\",\"Fuel type\", \"Cylinders\",\"Gear box type\", \\\n",
    " \"Drive wheels\", \"Doors\", \"Wheel\", \"Airbags\"]\n",
    "\n",
    "var_dict[\"dependant\"]   = [\"Price\"]\n",
    "\n",
    "params = {\"cat_features\": cat_features, \"loss_function\": \"RMSE\", \"iterations\" : 100, \"verbose\":100}\n",
    "\n",
    "cat_model = catboost_regressor.new_instance(params)\n",
    "\n",
    "cat_model_base_004 = cat_model.model_run_log(features_to_keep, var_dict )"
   ]
  },
  {
   "cell_type": "code",
   "execution_count": 25,
   "metadata": {},
   "outputs": [
    {
     "data": {
      "text/plain": [
       "{'mae': 0.7161122603509764,\n",
       " 'mse': 1.2538596551355954,\n",
       " 'rmse': 1.1197587486309697,\n",
       " 'r2': 0.47850914167938985,\n",
       " 'msle': 0.020046699969970095,\n",
       " 'rmsle': 0.14158636929439958,\n",
       " 'model': <catboost.core.CatBoostRegressor at 0x28f1167c430>,\n",
       " 'y_test':            Price\n",
       " 736    10.214092\n",
       " 8674    9.244742\n",
       " 5971   10.615702\n",
       " 1957   10.564576\n",
       " 11075  10.647874\n",
       " ...          ...\n",
       " 18231  11.788411\n",
       " 1082   10.493106\n",
       " 6206    9.303557\n",
       " 9124    5.398163\n",
       " 1935    9.345570\n",
       " \n",
       " [4810 rows x 1 columns],\n",
       " 'y_pred': array([10.2056486 ,  9.53628514,  8.32937329, ...,  9.78091977,\n",
       "         6.20685626,  9.71163722]),\n",
       " 'model_score': -7210.472891547479}"
      ]
     },
     "execution_count": 25,
     "metadata": {},
     "output_type": "execute_result"
    }
   ],
   "source": [
    "cat_model_base_004"
   ]
  },
  {
   "cell_type": "code",
   "execution_count": 34,
   "metadata": {},
   "outputs": [
    {
     "name": "stderr",
     "output_type": "stream",
     "text": [
      "C:\\Users\\chris.dmello\\Anaconda3\\lib\\site-packages\\pandas\\core\\frame.py:3065: SettingWithCopyWarning: \n",
      "A value is trying to be set on a copy of a slice from a DataFrame.\n",
      "Try using .loc[row_indexer,col_indexer] = value instead\n",
      "\n",
      "See the caveats in the documentation: https://pandas.pydata.org/pandas-docs/stable/user_guide/indexing.html#returning-a-view-versus-a-copy\n",
      "  self[k1] = value[k2]\n"
     ]
    },
    {
     "data": {
      "text/html": [
       "<div>\n",
       "<style scoped>\n",
       "    .dataframe tbody tr th:only-of-type {\n",
       "        vertical-align: middle;\n",
       "    }\n",
       "\n",
       "    .dataframe tbody tr th {\n",
       "        vertical-align: top;\n",
       "    }\n",
       "\n",
       "    .dataframe thead th {\n",
       "        text-align: right;\n",
       "    }\n",
       "</style>\n",
       "<table border=\"1\" class=\"dataframe\">\n",
       "  <thead>\n",
       "    <tr style=\"text-align: right;\">\n",
       "      <th></th>\n",
       "      <th>Manufacturer</th>\n",
       "      <th>Model</th>\n",
       "      <th>Prod. year</th>\n",
       "      <th>Category</th>\n",
       "      <th>Leather interior</th>\n",
       "      <th>Fuel type</th>\n",
       "      <th>Cylinders</th>\n",
       "      <th>Gear box type</th>\n",
       "      <th>Drive wheels</th>\n",
       "      <th>Doors</th>\n",
       "      <th>Wheel</th>\n",
       "      <th>Airbags</th>\n",
       "    </tr>\n",
       "  </thead>\n",
       "  <tbody>\n",
       "    <tr>\n",
       "      <th>0</th>\n",
       "      <td>VOLKSWAGEN</td>\n",
       "      <td>Golf</td>\n",
       "      <td>2012</td>\n",
       "      <td>Hatchback</td>\n",
       "      <td>No</td>\n",
       "      <td>Diesel</td>\n",
       "      <td>4</td>\n",
       "      <td>Manual</td>\n",
       "      <td>Front</td>\n",
       "      <td>02-Mar</td>\n",
       "      <td>Left wheel</td>\n",
       "      <td>10</td>\n",
       "    </tr>\n",
       "    <tr>\n",
       "      <th>1</th>\n",
       "      <td>HYUNDAI</td>\n",
       "      <td>Sonata</td>\n",
       "      <td>2012</td>\n",
       "      <td>Sedan</td>\n",
       "      <td>Yes</td>\n",
       "      <td>Petrol</td>\n",
       "      <td>4</td>\n",
       "      <td>Tiptronic</td>\n",
       "      <td>Front</td>\n",
       "      <td>04-May</td>\n",
       "      <td>Left wheel</td>\n",
       "      <td>10</td>\n",
       "    </tr>\n",
       "    <tr>\n",
       "      <th>2</th>\n",
       "      <td>NISSAN</td>\n",
       "      <td>Tiida</td>\n",
       "      <td>2005</td>\n",
       "      <td>Sedan</td>\n",
       "      <td>No</td>\n",
       "      <td>Petrol</td>\n",
       "      <td>4</td>\n",
       "      <td>Automatic</td>\n",
       "      <td>Front</td>\n",
       "      <td>04-May</td>\n",
       "      <td>Right-hand drive</td>\n",
       "      <td>8</td>\n",
       "    </tr>\n",
       "    <tr>\n",
       "      <th>3</th>\n",
       "      <td>VOLVO</td>\n",
       "      <td>XC90</td>\n",
       "      <td>2012</td>\n",
       "      <td>Jeep</td>\n",
       "      <td>Yes</td>\n",
       "      <td>Petrol</td>\n",
       "      <td>6</td>\n",
       "      <td>Automatic</td>\n",
       "      <td>4x4</td>\n",
       "      <td>04-May</td>\n",
       "      <td>Left wheel</td>\n",
       "      <td>12</td>\n",
       "    </tr>\n",
       "    <tr>\n",
       "      <th>4</th>\n",
       "      <td>OPEL</td>\n",
       "      <td>Astra</td>\n",
       "      <td>1993</td>\n",
       "      <td>Hatchback</td>\n",
       "      <td>No</td>\n",
       "      <td>Petrol</td>\n",
       "      <td>4</td>\n",
       "      <td>Manual</td>\n",
       "      <td>Front</td>\n",
       "      <td>04-May</td>\n",
       "      <td>Left wheel</td>\n",
       "      <td>0</td>\n",
       "    </tr>\n",
       "  </tbody>\n",
       "</table>\n",
       "</div>"
      ],
      "text/plain": [
       "  Manufacturer   Model Prod. year   Category Leather interior Fuel type  \\\n",
       "0   VOLKSWAGEN    Golf       2012  Hatchback               No    Diesel   \n",
       "1      HYUNDAI  Sonata       2012      Sedan              Yes    Petrol   \n",
       "2       NISSAN   Tiida       2005      Sedan               No    Petrol   \n",
       "3        VOLVO    XC90       2012       Jeep              Yes    Petrol   \n",
       "4         OPEL   Astra       1993  Hatchback               No    Petrol   \n",
       "\n",
       "   Cylinders Gear box type Drive wheels   Doors             Wheel  Airbags  \n",
       "0          4        Manual        Front  02-Mar        Left wheel       10  \n",
       "1          4     Tiptronic        Front  04-May        Left wheel       10  \n",
       "2          4     Automatic        Front  04-May  Right-hand drive        8  \n",
       "3          6     Automatic          4x4  04-May        Left wheel       12  \n",
       "4          4        Manual        Front  04-May        Left wheel        0  "
      ]
     },
     "execution_count": 34,
     "metadata": {},
     "output_type": "execute_result"
    }
   ],
   "source": [
    "columns_to_keep = [\"Manufacturer\",\"Model\",\"Prod. year\",\"Category\",\"Leather interior\",\"Fuel type\", \"Cylinders\",\"Gear box type\", \\\n",
    " \"Drive wheels\", \"Doors\", \"Wheel\", \"Airbags\"]\n",
    "\n",
    "cat_features = [\"Manufacturer\",\"Model\",\"Prod. year\",\"Category\",\"Leather interior\",\"Fuel type\", \"Gear box type\", \\\n",
    " \"Drive wheels\", \"Doors\", \"Wheel\"]\n",
    "\n",
    "features_to_predict_df = test[columns_to_keep]\n",
    "\n",
    "features_to_predict_df[cat_features] = features_to_predict_df[cat_features].astype(str)\n",
    "\n",
    "\n",
    "y_pred_log = cat_model_base_004[\"model\"].predict(features_to_predict_df)\n",
    "\n",
    "features_to_predict_df.head()"
   ]
  },
  {
   "cell_type": "code",
   "execution_count": 35,
   "metadata": {},
   "outputs": [],
   "source": [
    "## inverse log\n",
    "y_pred = np.exp(y_pred_log)"
   ]
  },
  {
   "cell_type": "code",
   "execution_count": 36,
   "metadata": {},
   "outputs": [
    {
     "data": {
      "text/html": [
       "<div>\n",
       "<style scoped>\n",
       "    .dataframe tbody tr th:only-of-type {\n",
       "        vertical-align: middle;\n",
       "    }\n",
       "\n",
       "    .dataframe tbody tr th {\n",
       "        vertical-align: top;\n",
       "    }\n",
       "\n",
       "    .dataframe thead th {\n",
       "        text-align: right;\n",
       "    }\n",
       "</style>\n",
       "<table border=\"1\" class=\"dataframe\">\n",
       "  <thead>\n",
       "    <tr style=\"text-align: right;\">\n",
       "      <th></th>\n",
       "      <th>Price</th>\n",
       "    </tr>\n",
       "  </thead>\n",
       "  <tbody>\n",
       "    <tr>\n",
       "      <th>0</th>\n",
       "      <td>21364.708762</td>\n",
       "    </tr>\n",
       "    <tr>\n",
       "      <th>1</th>\n",
       "      <td>13308.826654</td>\n",
       "    </tr>\n",
       "    <tr>\n",
       "      <th>2</th>\n",
       "      <td>2014.765200</td>\n",
       "    </tr>\n",
       "    <tr>\n",
       "      <th>3</th>\n",
       "      <td>2149.761986</td>\n",
       "    </tr>\n",
       "    <tr>\n",
       "      <th>4</th>\n",
       "      <td>4567.827760</td>\n",
       "    </tr>\n",
       "  </tbody>\n",
       "</table>\n",
       "</div>"
      ],
      "text/plain": [
       "          Price\n",
       "0  21364.708762\n",
       "1  13308.826654\n",
       "2   2014.765200\n",
       "3   2149.761986\n",
       "4   4567.827760"
      ]
     },
     "execution_count": 36,
     "metadata": {},
     "output_type": "execute_result"
    }
   ],
   "source": [
    "prediction_20210707_a = pd.DataFrame({\"Price\":y_pred})\n",
    "prediction_20210707_a.head()"
   ]
  },
  {
   "cell_type": "code",
   "execution_count": 13,
   "metadata": {},
   "outputs": [],
   "source": [
    "prediction_20210707_a.to_csv(\"prediction_20210707_b.csv\", index = False)"
   ]
  },
  {
   "cell_type": "code",
   "execution_count": null,
   "metadata": {},
   "outputs": [],
   "source": []
  },
  {
   "cell_type": "markdown",
   "metadata": {},
   "source": [
    "#### 002 Catboost and MLFLOW"
   ]
  },
  {
   "cell_type": "markdown",
   "metadata": {},
   "source": [
    "> 1. Just like grid search, using loops to track the models and run a combination of parameters and log using MLFLOW. <br>\n",
    ">2. The model overfit the data as it is seen from the metrics. <br>\n",
    ">3. The inverse log prediction too were not in line, df[label] = np.log(df[label]+1) and np.exp(y_pred). <br>\n",
    ">4. These models were not used for submission. The one used gave a score of 5. "
   ]
  },
  {
   "cell_type": "code",
   "execution_count": 6,
   "metadata": {},
   "outputs": [
    {
     "name": "stderr",
     "output_type": "stream",
     "text": [
      "C:\\Users\\chris.dmello\\Anaconda3\\lib\\site-packages\\pandas\\core\\frame.py:3065: SettingWithCopyWarning: \n",
      "A value is trying to be set on a copy of a slice from a DataFrame.\n",
      "Try using .loc[row_indexer,col_indexer] = value instead\n",
      "\n",
      "See the caveats in the documentation: https://pandas.pydata.org/pandas-docs/stable/user_guide/indexing.html#returning-a-view-versus-a-copy\n",
      "  self[k1] = value[k2]\n"
     ]
    }
   ],
   "source": [
    "columns_to_keep = [\"Manufacturer\",\"Model\",\"Prod. year\",\"Category\",\"Leather interior\",\"Fuel type\", \"Cylinders\",\"Gear box type\", \\\n",
    " \"Drive wheels\", \"Doors\", \"Wheel\", \"Airbags\", \"Price\"]\n",
    "\n",
    "cat_features = [\"Manufacturer\",\"Model\",\"Prod. year\",\"Category\",\"Leather interior\",\"Fuel type\", \"Gear box type\", \\\n",
    " \"Drive wheels\", \"Doors\", \"Wheel\"]\n",
    "\n",
    "features_to_keep = train[columns_to_keep]\n",
    "\n",
    "#features_to_keep[\"Price\"] = np.log10(features_to_keep.Price)\n",
    "\n",
    "features_to_keep[cat_features] = features_to_keep[cat_features].astype(str)\n",
    "\n",
    "\n",
    "var_dict = {}\n",
    "var_dict[\"independant\"] = [\"Manufacturer\",\"Model\",\"Prod. year\",\"Category\",\"Leather interior\",\"Fuel type\", \"Cylinders\",\"Gear box type\", \\\n",
    " \"Drive wheels\", \"Doors\", \"Wheel\", \"Airbags\"]\n",
    "\n",
    "var_dict[\"dependant\"]   = [\"Price\"]\n",
    "\n",
    "\n"
   ]
  },
  {
   "cell_type": "code",
   "execution_count": 7,
   "metadata": {
    "scrolled": false
   },
   "outputs": [
    {
     "name": "stdout",
     "output_type": "stream",
     "text": [
      "{'cat_features': ['Manufacturer', 'Model', 'Prod. year', 'Category', 'Leather interior', 'Fuel type', 'Gear box type', 'Drive wheels', 'Doors', 'Wheel'], 'loss_function': 'RMSE', 'iterations': 100, 'verbose': 100, 'learning_rate': 0.02, 'depth': 2}\n",
      "0:\tlearn: 1.5922784\ttotal: 125ms\tremaining: 12.4s\n",
      "99:\tlearn: 1.3908525\ttotal: 1.07s\tremaining: 0us\n",
      "----------------------------------------------------------------------------------------------------\n",
      "Inside MLflow Run with run_id c16dc658a6e64f04a0ba7b27313f9973 and experiment_id 0\n",
      "Mean Absolute Error    : 0.9442784969281274\n",
      "Mean Squared Error     : 1.8014796961948454\n",
      "Root Mean Squared Error: 1.342192123428999\n",
      "R2                     : 0.2507493249599717\n",
      "MLflow Run completed with run_id c16dc658a6e64f04a0ba7b27313f9973 and experiment_id 0\n",
      "----------------------------------------------------------------------------------------------------\n",
      "{'cat_features': ['Manufacturer', 'Model', 'Prod. year', 'Category', 'Leather interior', 'Fuel type', 'Gear box type', 'Drive wheels', 'Doors', 'Wheel'], 'loss_function': 'RMSE', 'iterations': 100, 'verbose': 100, 'learning_rate': 0.03, 'depth': 3}\n"
     ]
    },
    {
     "name": "stderr",
     "output_type": "stream",
     "text": [
      "C:\\Users\\chris.dmello\\Anaconda3\\lib\\site-packages\\pandas\\core\\frame.py:3065: SettingWithCopyWarning: \n",
      "A value is trying to be set on a copy of a slice from a DataFrame.\n",
      "Try using .loc[row_indexer,col_indexer] = value instead\n",
      "\n",
      "See the caveats in the documentation: https://pandas.pydata.org/pandas-docs/stable/user_guide/indexing.html#returning-a-view-versus-a-copy\n",
      "  self[k1] = value[k2]\n"
     ]
    },
    {
     "name": "stdout",
     "output_type": "stream",
     "text": [
      "0:\tlearn: 0.1881693\ttotal: 23.9ms\tremaining: 2.36s\n",
      "99:\tlearn: 0.1602214\ttotal: 1.35s\tremaining: 0us\n",
      "----------------------------------------------------------------------------------------------------\n",
      "Inside MLflow Run with run_id 1a2bef6340dd4610841234d860c35f2d and experiment_id 0\n",
      "Mean Absolute Error    : 0.09752563929642075\n",
      "Mean Squared Error     : 0.024590103786237553\n",
      "Root Mean Squared Error: 0.1568123202629103\n",
      "R2                     : 0.2810811921843066\n",
      "MLflow Run completed with run_id 1a2bef6340dd4610841234d860c35f2d and experiment_id 0\n",
      "----------------------------------------------------------------------------------------------------\n",
      "{'cat_features': ['Manufacturer', 'Model', 'Prod. year', 'Category', 'Leather interior', 'Fuel type', 'Gear box type', 'Drive wheels', 'Doors', 'Wheel'], 'loss_function': 'RMSE', 'iterations': 100, 'verbose': 100, 'learning_rate': 0.04, 'depth': 4}\n"
     ]
    },
    {
     "name": "stderr",
     "output_type": "stream",
     "text": [
      "C:\\Users\\chris.dmello\\Anaconda3\\lib\\site-packages\\pandas\\core\\frame.py:3065: SettingWithCopyWarning: \n",
      "A value is trying to be set on a copy of a slice from a DataFrame.\n",
      "Try using .loc[row_indexer,col_indexer] = value instead\n",
      "\n",
      "See the caveats in the documentation: https://pandas.pydata.org/pandas-docs/stable/user_guide/indexing.html#returning-a-view-versus-a-copy\n",
      "  self[k1] = value[k2]\n"
     ]
    },
    {
     "name": "stdout",
     "output_type": "stream",
     "text": [
      "0:\tlearn: 0.0613973\ttotal: 25.2ms\tremaining: 2.5s\n",
      "99:\tlearn: 0.0514032\ttotal: 1.77s\tremaining: 0us\n",
      "----------------------------------------------------------------------------------------------------\n",
      "Inside MLflow Run with run_id 3ef741bc2d14402180522dcd419a47d7 and experiment_id 0\n",
      "Mean Absolute Error    : 0.029797572998155462\n",
      "Mean Squared Error     : 0.0026068062518412806\n",
      "Root Mean Squared Error: 0.051056892304969764\n",
      "R2                     : 0.3005874052446521\n",
      "MLflow Run completed with run_id 3ef741bc2d14402180522dcd419a47d7 and experiment_id 0\n",
      "----------------------------------------------------------------------------------------------------\n",
      "{'cat_features': ['Manufacturer', 'Model', 'Prod. year', 'Category', 'Leather interior', 'Fuel type', 'Gear box type', 'Drive wheels', 'Doors', 'Wheel'], 'loss_function': 'RMSE', 'iterations': 100, 'verbose': 100, 'learning_rate': 0.05, 'depth': 5}\n"
     ]
    },
    {
     "name": "stderr",
     "output_type": "stream",
     "text": [
      "C:\\Users\\chris.dmello\\Anaconda3\\lib\\site-packages\\pandas\\core\\frame.py:3065: SettingWithCopyWarning: \n",
      "A value is trying to be set on a copy of a slice from a DataFrame.\n",
      "Try using .loc[row_indexer,col_indexer] = value instead\n",
      "\n",
      "See the caveats in the documentation: https://pandas.pydata.org/pandas-docs/stable/user_guide/indexing.html#returning-a-view-versus-a-copy\n",
      "  self[k1] = value[k2]\n"
     ]
    },
    {
     "name": "stdout",
     "output_type": "stream",
     "text": [
      "0:\tlearn: 0.0291648\ttotal: 43.4ms\tremaining: 4.3s\n",
      "99:\tlearn: 0.0241462\ttotal: 2.17s\tremaining: 0us\n",
      "----------------------------------------------------------------------------------------------------\n",
      "Inside MLflow Run with run_id edd1770ef35b4699a7f91dc79c5aff10 and experiment_id 0\n",
      "Mean Absolute Error    : 0.013499802868111588\n",
      "Mean Squared Error     : 0.0005921848835492463\n",
      "Root Mean Squared Error: 0.024334849158136284\n",
      "R2                     : 0.30884611079924673\n",
      "MLflow Run completed with run_id edd1770ef35b4699a7f91dc79c5aff10 and experiment_id 0\n",
      "----------------------------------------------------------------------------------------------------\n",
      "{'cat_features': ['Manufacturer', 'Model', 'Prod. year', 'Category', 'Leather interior', 'Fuel type', 'Gear box type', 'Drive wheels', 'Doors', 'Wheel'], 'loss_function': 'RMSE', 'iterations': 100, 'verbose': 100, 'learning_rate': 0.06, 'depth': 6}\n"
     ]
    },
    {
     "name": "stderr",
     "output_type": "stream",
     "text": [
      "C:\\Users\\chris.dmello\\Anaconda3\\lib\\site-packages\\pandas\\core\\frame.py:3065: SettingWithCopyWarning: \n",
      "A value is trying to be set on a copy of a slice from a DataFrame.\n",
      "Try using .loc[row_indexer,col_indexer] = value instead\n",
      "\n",
      "See the caveats in the documentation: https://pandas.pydata.org/pandas-docs/stable/user_guide/indexing.html#returning-a-view-versus-a-copy\n",
      "  self[k1] = value[k2]\n"
     ]
    },
    {
     "name": "stdout",
     "output_type": "stream",
     "text": [
      "0:\tlearn: 0.0167455\ttotal: 46ms\tremaining: 4.56s\n",
      "99:\tlearn: 0.0136860\ttotal: 2.64s\tremaining: 0us\n",
      "----------------------------------------------------------------------------------------------------\n",
      "Inside MLflow Run with run_id 48af8d2de3734066bddd8bbc8bdb0148 and experiment_id 0\n",
      "Mean Absolute Error    : 0.0075267694929654835\n",
      "Mean Squared Error     : 0.00019717293227129593\n",
      "Root Mean Squared Error: 0.014041827953343394\n",
      "R2                     : 0.31386729381750866\n",
      "MLflow Run completed with run_id 48af8d2de3734066bddd8bbc8bdb0148 and experiment_id 0\n",
      "----------------------------------------------------------------------------------------------------\n",
      "{'cat_features': ['Manufacturer', 'Model', 'Prod. year', 'Category', 'Leather interior', 'Fuel type', 'Gear box type', 'Drive wheels', 'Doors', 'Wheel'], 'loss_function': 'RMSE', 'iterations': 100, 'verbose': 100, 'learning_rate': 0.07, 'depth': 7}\n"
     ]
    },
    {
     "name": "stderr",
     "output_type": "stream",
     "text": [
      "C:\\Users\\chris.dmello\\Anaconda3\\lib\\site-packages\\pandas\\core\\frame.py:3065: SettingWithCopyWarning: \n",
      "A value is trying to be set on a copy of a slice from a DataFrame.\n",
      "Try using .loc[row_indexer,col_indexer] = value instead\n",
      "\n",
      "See the caveats in the documentation: https://pandas.pydata.org/pandas-docs/stable/user_guide/indexing.html#returning-a-view-versus-a-copy\n",
      "  self[k1] = value[k2]\n"
     ]
    },
    {
     "name": "stdout",
     "output_type": "stream",
     "text": [
      "0:\tlearn: 0.0107679\ttotal: 73.2ms\tremaining: 7.25s\n",
      "99:\tlearn: 0.0086665\ttotal: 3.11s\tremaining: 0us\n",
      "----------------------------------------------------------------------------------------------------\n",
      "Inside MLflow Run with run_id c35ae2577ff54aaf847ccee1eee6f931 and experiment_id 0\n",
      "Mean Absolute Error    : 0.0047524362573972455\n",
      "Mean Squared Error     : 8.30041777187981e-05\n",
      "Root Mean Squared Error: 0.009110662858365362\n",
      "R2                     : 0.3128719292583554\n",
      "MLflow Run completed with run_id c35ae2577ff54aaf847ccee1eee6f931 and experiment_id 0\n",
      "----------------------------------------------------------------------------------------------------\n",
      "{'cat_features': ['Manufacturer', 'Model', 'Prod. year', 'Category', 'Leather interior', 'Fuel type', 'Gear box type', 'Drive wheels', 'Doors', 'Wheel'], 'loss_function': 'RMSE', 'iterations': 100, 'verbose': 100, 'learning_rate': 0.08, 'depth': 8}\n"
     ]
    },
    {
     "name": "stderr",
     "output_type": "stream",
     "text": [
      "C:\\Users\\chris.dmello\\Anaconda3\\lib\\site-packages\\pandas\\core\\frame.py:3065: SettingWithCopyWarning: \n",
      "A value is trying to be set on a copy of a slice from a DataFrame.\n",
      "Try using .loc[row_indexer,col_indexer] = value instead\n",
      "\n",
      "See the caveats in the documentation: https://pandas.pydata.org/pandas-docs/stable/user_guide/indexing.html#returning-a-view-versus-a-copy\n",
      "  self[k1] = value[k2]\n"
     ]
    },
    {
     "name": "stdout",
     "output_type": "stream",
     "text": [
      "0:\tlearn: 0.0074670\ttotal: 39.1ms\tremaining: 3.87s\n",
      "99:\tlearn: 0.0058550\ttotal: 4.22s\tremaining: 0us\n",
      "----------------------------------------------------------------------------------------------------\n",
      "Inside MLflow Run with run_id c4c26474fa87472b90c1dbfdba8a833c and experiment_id 0\n",
      "Mean Absolute Error    : 0.003235848654460121\n",
      "Mean Squared Error     : 4.019626065377024e-05\n",
      "Root Mean Squared Error: 0.006340052101818268\n",
      "R2                     : 0.3183221941633356\n",
      "MLflow Run completed with run_id c4c26474fa87472b90c1dbfdba8a833c and experiment_id 0\n",
      "----------------------------------------------------------------------------------------------------\n",
      "{'cat_features': ['Manufacturer', 'Model', 'Prod. year', 'Category', 'Leather interior', 'Fuel type', 'Gear box type', 'Drive wheels', 'Doors', 'Wheel'], 'loss_function': 'RMSE', 'iterations': 100, 'verbose': 100, 'learning_rate': 0.09, 'depth': 9}\n"
     ]
    },
    {
     "name": "stderr",
     "output_type": "stream",
     "text": [
      "C:\\Users\\chris.dmello\\Anaconda3\\lib\\site-packages\\pandas\\core\\frame.py:3065: SettingWithCopyWarning: \n",
      "A value is trying to be set on a copy of a slice from a DataFrame.\n",
      "Try using .loc[row_indexer,col_indexer] = value instead\n",
      "\n",
      "See the caveats in the documentation: https://pandas.pydata.org/pandas-docs/stable/user_guide/indexing.html#returning-a-view-versus-a-copy\n",
      "  self[k1] = value[k2]\n"
     ]
    },
    {
     "name": "stdout",
     "output_type": "stream",
     "text": [
      "0:\tlearn: 0.0054646\ttotal: 61.6ms\tremaining: 6.1s\n",
      "99:\tlearn: 0.0041548\ttotal: 4.92s\tremaining: 0us\n",
      "----------------------------------------------------------------------------------------------------\n",
      "Inside MLflow Run with run_id f7d430a72f294875baa5e853f264b1a3 and experiment_id 0\n",
      "Mean Absolute Error    : 0.0023494851756824782\n",
      "Mean Squared Error     : 2.1836997601302197e-05\n",
      "Root Mean Squared Error: 0.0046730073401720865\n",
      "R2                     : 0.31765319372495415\n",
      "MLflow Run completed with run_id f7d430a72f294875baa5e853f264b1a3 and experiment_id 0\n",
      "----------------------------------------------------------------------------------------------------\n"
     ]
    }
   ],
   "source": [
    "max_depth = 0\n",
    "for n in range (2, 10, 1):\n",
    "    '''\n",
    "    start - stop - step\n",
    "    \n",
    "    \n",
    "    '''\n",
    "    max_depth = max_depth + 2\n",
    "    \n",
    "    params = {}\n",
    "    params = {\"cat_features\": cat_features, \"loss_function\": \"RMSE\", \"iterations\" : 100, \"verbose\":100}\n",
    "    params[\"learning_rate\"] = n/100\n",
    "    params[\"depth\"] = n\n",
    "    \n",
    "    other_dict = {}\n",
    "    other_dict[\"run_name\"] = \"catmodel_001\"\n",
    "    \n",
    "    print(params)\n",
    "    \n",
    "    cat_model = catboost_regressor.new_instance(params)\n",
    "    (experimentID, runID) = cat_model.model_run__log_mlfow(features_to_keep, var_dict , other_dict)\n",
    "    \n",
    "    print(\"MLflow Run completed with run_id {} and experiment_id {}\".format(runID, experimentID))\n",
    "    print(\"-\" * 100)"
   ]
  },
  {
   "cell_type": "markdown",
   "metadata": {},
   "source": [
    "> All the model run are logged in mlflow.search_runs"
   ]
  },
  {
   "cell_type": "code",
   "execution_count": 8,
   "metadata": {},
   "outputs": [
    {
     "data": {
      "text/html": [
       "<div>\n",
       "<style scoped>\n",
       "    .dataframe tbody tr th:only-of-type {\n",
       "        vertical-align: middle;\n",
       "    }\n",
       "\n",
       "    .dataframe tbody tr th {\n",
       "        vertical-align: top;\n",
       "    }\n",
       "\n",
       "    .dataframe thead th {\n",
       "        text-align: right;\n",
       "    }\n",
       "</style>\n",
       "<table border=\"1\" class=\"dataframe\">\n",
       "  <thead>\n",
       "    <tr style=\"text-align: right;\">\n",
       "      <th></th>\n",
       "      <th>run_id</th>\n",
       "      <th>experiment_id</th>\n",
       "      <th>status</th>\n",
       "      <th>artifact_uri</th>\n",
       "      <th>start_time</th>\n",
       "      <th>end_time</th>\n",
       "      <th>metrics.r2</th>\n",
       "      <th>metrics.rmse</th>\n",
       "      <th>metrics.mae</th>\n",
       "      <th>metrics.mse</th>\n",
       "      <th>...</th>\n",
       "      <th>params.loss_function</th>\n",
       "      <th>params.learning_rate</th>\n",
       "      <th>params.iterations</th>\n",
       "      <th>params.od_wait</th>\n",
       "      <th>params.od_type</th>\n",
       "      <th>tags.mlflow.user</th>\n",
       "      <th>tags.mlflow.source.name</th>\n",
       "      <th>tags.mlflow.source.type</th>\n",
       "      <th>tags.mlflow.runName</th>\n",
       "      <th>tags.mlflow.log-model.history</th>\n",
       "    </tr>\n",
       "  </thead>\n",
       "  <tbody>\n",
       "    <tr>\n",
       "      <th>0</th>\n",
       "      <td>f7d430a72f294875baa5e853f264b1a3</td>\n",
       "      <td>0</td>\n",
       "      <td>FINISHED</td>\n",
       "      <td>file:///C:/Users/chris.dmello/Documents/Python...</td>\n",
       "      <td>2021-07-09 06:16:11.844000+00:00</td>\n",
       "      <td>2021-07-09 06:16:17.762000+00:00</td>\n",
       "      <td>0.317653</td>\n",
       "      <td>0.004673</td>\n",
       "      <td>0.002349</td>\n",
       "      <td>0.000022</td>\n",
       "      <td>...</td>\n",
       "      <td>RMSE</td>\n",
       "      <td>0.09</td>\n",
       "      <td>100</td>\n",
       "      <td>None</td>\n",
       "      <td>None</td>\n",
       "      <td>chris.dmello</td>\n",
       "      <td>C:\\Users\\chris.dmello\\Anaconda3\\lib\\site-packa...</td>\n",
       "      <td>LOCAL</td>\n",
       "      <td>catmodel_001</td>\n",
       "      <td>[{\"run_id\": \"f7d430a72f294875baa5e853f264b1a3\"...</td>\n",
       "    </tr>\n",
       "    <tr>\n",
       "      <th>1</th>\n",
       "      <td>c4c26474fa87472b90c1dbfdba8a833c</td>\n",
       "      <td>0</td>\n",
       "      <td>FINISHED</td>\n",
       "      <td>file:///C:/Users/chris.dmello/Documents/Python...</td>\n",
       "      <td>2021-07-09 06:16:06.520000+00:00</td>\n",
       "      <td>2021-07-09 06:16:11.831000+00:00</td>\n",
       "      <td>0.318322</td>\n",
       "      <td>0.006340</td>\n",
       "      <td>0.003236</td>\n",
       "      <td>0.000040</td>\n",
       "      <td>...</td>\n",
       "      <td>RMSE</td>\n",
       "      <td>0.08</td>\n",
       "      <td>100</td>\n",
       "      <td>None</td>\n",
       "      <td>None</td>\n",
       "      <td>chris.dmello</td>\n",
       "      <td>C:\\Users\\chris.dmello\\Anaconda3\\lib\\site-packa...</td>\n",
       "      <td>LOCAL</td>\n",
       "      <td>catmodel_001</td>\n",
       "      <td>[{\"run_id\": \"c4c26474fa87472b90c1dbfdba8a833c\"...</td>\n",
       "    </tr>\n",
       "    <tr>\n",
       "      <th>2</th>\n",
       "      <td>c35ae2577ff54aaf847ccee1eee6f931</td>\n",
       "      <td>0</td>\n",
       "      <td>FINISHED</td>\n",
       "      <td>file:///C:/Users/chris.dmello/Documents/Python...</td>\n",
       "      <td>2021-07-09 06:16:01.496000+00:00</td>\n",
       "      <td>2021-07-09 06:16:06.507000+00:00</td>\n",
       "      <td>0.312872</td>\n",
       "      <td>0.009111</td>\n",
       "      <td>0.004752</td>\n",
       "      <td>0.000083</td>\n",
       "      <td>...</td>\n",
       "      <td>RMSE</td>\n",
       "      <td>0.07</td>\n",
       "      <td>100</td>\n",
       "      <td>None</td>\n",
       "      <td>None</td>\n",
       "      <td>chris.dmello</td>\n",
       "      <td>C:\\Users\\chris.dmello\\Anaconda3\\lib\\site-packa...</td>\n",
       "      <td>LOCAL</td>\n",
       "      <td>catmodel_001</td>\n",
       "      <td>[{\"run_id\": \"c35ae2577ff54aaf847ccee1eee6f931\"...</td>\n",
       "    </tr>\n",
       "    <tr>\n",
       "      <th>3</th>\n",
       "      <td>48af8d2de3734066bddd8bbc8bdb0148</td>\n",
       "      <td>0</td>\n",
       "      <td>FINISHED</td>\n",
       "      <td>file:///C:/Users/chris.dmello/Documents/Python...</td>\n",
       "      <td>2021-07-09 06:15:58.013000+00:00</td>\n",
       "      <td>2021-07-09 06:16:01.484000+00:00</td>\n",
       "      <td>0.313867</td>\n",
       "      <td>0.014042</td>\n",
       "      <td>0.007527</td>\n",
       "      <td>0.000197</td>\n",
       "      <td>...</td>\n",
       "      <td>RMSE</td>\n",
       "      <td>0.06</td>\n",
       "      <td>100</td>\n",
       "      <td>None</td>\n",
       "      <td>None</td>\n",
       "      <td>chris.dmello</td>\n",
       "      <td>C:\\Users\\chris.dmello\\Anaconda3\\lib\\site-packa...</td>\n",
       "      <td>LOCAL</td>\n",
       "      <td>catmodel_001</td>\n",
       "      <td>[{\"run_id\": \"48af8d2de3734066bddd8bbc8bdb0148\"...</td>\n",
       "    </tr>\n",
       "    <tr>\n",
       "      <th>4</th>\n",
       "      <td>edd1770ef35b4699a7f91dc79c5aff10</td>\n",
       "      <td>0</td>\n",
       "      <td>FINISHED</td>\n",
       "      <td>file:///C:/Users/chris.dmello/Documents/Python...</td>\n",
       "      <td>2021-07-09 06:15:54.944000+00:00</td>\n",
       "      <td>2021-07-09 06:15:58.003000+00:00</td>\n",
       "      <td>0.308846</td>\n",
       "      <td>0.024335</td>\n",
       "      <td>0.013500</td>\n",
       "      <td>0.000592</td>\n",
       "      <td>...</td>\n",
       "      <td>RMSE</td>\n",
       "      <td>0.05</td>\n",
       "      <td>100</td>\n",
       "      <td>None</td>\n",
       "      <td>None</td>\n",
       "      <td>chris.dmello</td>\n",
       "      <td>C:\\Users\\chris.dmello\\Anaconda3\\lib\\site-packa...</td>\n",
       "      <td>LOCAL</td>\n",
       "      <td>catmodel_001</td>\n",
       "      <td>[{\"run_id\": \"edd1770ef35b4699a7f91dc79c5aff10\"...</td>\n",
       "    </tr>\n",
       "  </tbody>\n",
       "</table>\n",
       "<p>5 rows × 23 columns</p>\n",
       "</div>"
      ],
      "text/plain": [
       "                             run_id experiment_id    status  \\\n",
       "0  f7d430a72f294875baa5e853f264b1a3             0  FINISHED   \n",
       "1  c4c26474fa87472b90c1dbfdba8a833c             0  FINISHED   \n",
       "2  c35ae2577ff54aaf847ccee1eee6f931             0  FINISHED   \n",
       "3  48af8d2de3734066bddd8bbc8bdb0148             0  FINISHED   \n",
       "4  edd1770ef35b4699a7f91dc79c5aff10             0  FINISHED   \n",
       "\n",
       "                                        artifact_uri  \\\n",
       "0  file:///C:/Users/chris.dmello/Documents/Python...   \n",
       "1  file:///C:/Users/chris.dmello/Documents/Python...   \n",
       "2  file:///C:/Users/chris.dmello/Documents/Python...   \n",
       "3  file:///C:/Users/chris.dmello/Documents/Python...   \n",
       "4  file:///C:/Users/chris.dmello/Documents/Python...   \n",
       "\n",
       "                        start_time                         end_time  \\\n",
       "0 2021-07-09 06:16:11.844000+00:00 2021-07-09 06:16:17.762000+00:00   \n",
       "1 2021-07-09 06:16:06.520000+00:00 2021-07-09 06:16:11.831000+00:00   \n",
       "2 2021-07-09 06:16:01.496000+00:00 2021-07-09 06:16:06.507000+00:00   \n",
       "3 2021-07-09 06:15:58.013000+00:00 2021-07-09 06:16:01.484000+00:00   \n",
       "4 2021-07-09 06:15:54.944000+00:00 2021-07-09 06:15:58.003000+00:00   \n",
       "\n",
       "   metrics.r2  metrics.rmse  metrics.mae  metrics.mse  ...  \\\n",
       "0    0.317653      0.004673     0.002349     0.000022  ...   \n",
       "1    0.318322      0.006340     0.003236     0.000040  ...   \n",
       "2    0.312872      0.009111     0.004752     0.000083  ...   \n",
       "3    0.313867      0.014042     0.007527     0.000197  ...   \n",
       "4    0.308846      0.024335     0.013500     0.000592  ...   \n",
       "\n",
       "  params.loss_function params.learning_rate params.iterations params.od_wait  \\\n",
       "0                 RMSE                 0.09               100           None   \n",
       "1                 RMSE                 0.08               100           None   \n",
       "2                 RMSE                 0.07               100           None   \n",
       "3                 RMSE                 0.06               100           None   \n",
       "4                 RMSE                 0.05               100           None   \n",
       "\n",
       "  params.od_type tags.mlflow.user  \\\n",
       "0           None     chris.dmello   \n",
       "1           None     chris.dmello   \n",
       "2           None     chris.dmello   \n",
       "3           None     chris.dmello   \n",
       "4           None     chris.dmello   \n",
       "\n",
       "                             tags.mlflow.source.name tags.mlflow.source.type  \\\n",
       "0  C:\\Users\\chris.dmello\\Anaconda3\\lib\\site-packa...                   LOCAL   \n",
       "1  C:\\Users\\chris.dmello\\Anaconda3\\lib\\site-packa...                   LOCAL   \n",
       "2  C:\\Users\\chris.dmello\\Anaconda3\\lib\\site-packa...                   LOCAL   \n",
       "3  C:\\Users\\chris.dmello\\Anaconda3\\lib\\site-packa...                   LOCAL   \n",
       "4  C:\\Users\\chris.dmello\\Anaconda3\\lib\\site-packa...                   LOCAL   \n",
       "\n",
       "  tags.mlflow.runName                      tags.mlflow.log-model.history  \n",
       "0        catmodel_001  [{\"run_id\": \"f7d430a72f294875baa5e853f264b1a3\"...  \n",
       "1        catmodel_001  [{\"run_id\": \"c4c26474fa87472b90c1dbfdba8a833c\"...  \n",
       "2        catmodel_001  [{\"run_id\": \"c35ae2577ff54aaf847ccee1eee6f931\"...  \n",
       "3        catmodel_001  [{\"run_id\": \"48af8d2de3734066bddd8bbc8bdb0148\"...  \n",
       "4        catmodel_001  [{\"run_id\": \"edd1770ef35b4699a7f91dc79c5aff10\"...  \n",
       "\n",
       "[5 rows x 23 columns]"
      ]
     },
     "execution_count": 8,
     "metadata": {},
     "output_type": "execute_result"
    }
   ],
   "source": [
    "df = mlflow.search_runs(filter_string=\"metrics.rmse < 60\")\n",
    "df.head()"
   ]
  },
  {
   "cell_type": "code",
   "execution_count": 9,
   "metadata": {},
   "outputs": [
    {
     "data": {
      "text/plain": [
       "Index(['run_id', 'experiment_id', 'status', 'artifact_uri', 'start_time',\n",
       "       'end_time', 'metrics.r2', 'metrics.rmse', 'metrics.mae', 'metrics.mse',\n",
       "       'params.depth', 'params.cat_features', 'params.verbose',\n",
       "       'params.loss_function', 'params.learning_rate', 'params.iterations',\n",
       "       'params.od_wait', 'params.od_type', 'tags.mlflow.user',\n",
       "       'tags.mlflow.source.name', 'tags.mlflow.source.type',\n",
       "       'tags.mlflow.runName', 'tags.mlflow.log-model.history'],\n",
       "      dtype='object')"
      ]
     },
     "execution_count": 9,
     "metadata": {},
     "output_type": "execute_result"
    }
   ],
   "source": [
    "df.columns"
   ]
  },
  {
   "cell_type": "markdown",
   "metadata": {},
   "source": [
    "> Retrieve the best model run_is based on rmse"
   ]
  },
  {
   "cell_type": "code",
   "execution_count": 54,
   "metadata": {},
   "outputs": [
    {
     "data": {
      "text/plain": [
       "'3fe53f7141cb440fabc77599cc6fe9b4'"
      ]
     },
     "execution_count": 54,
     "metadata": {},
     "output_type": "execute_result"
    }
   ],
   "source": [
    "run_id = df.loc[df['metrics.r2'].idxmin()]['run_id']\n",
    "run_id"
   ]
  },
  {
   "cell_type": "code",
   "execution_count": 55,
   "metadata": {},
   "outputs": [
    {
     "data": {
      "text/plain": [
       "{'iterations': 100,\n",
       " 'learning_rate': 0.02,\n",
       " 'depth': 2,\n",
       " 'loss_function': 'RMSE',\n",
       " 'verbose': 100,\n",
       " 'cat_features': ['Manufacturer',\n",
       "  'Model',\n",
       "  'Prod. year',\n",
       "  'Category',\n",
       "  'Leather interior',\n",
       "  'Fuel type',\n",
       "  'Gear box type',\n",
       "  'Drive wheels',\n",
       "  'Doors',\n",
       "  'Wheel']}"
      ]
     },
     "execution_count": 55,
     "metadata": {},
     "output_type": "execute_result"
    }
   ],
   "source": [
    "## catboost-reg-model  - is in the model class, we can also pass it as a parameter\n",
    "model = mlflow.sklearn.load_model(\"runs:/\" + run_id + \"/catboost-reg-model\")\n",
    "model.get_params()"
   ]
  },
  {
   "cell_type": "code",
   "execution_count": 30,
   "metadata": {},
   "outputs": [
    {
     "data": {
      "text/plain": [
       "{'nan_mode': 'Min',\n",
       " 'eval_metric': 'RMSE',\n",
       " 'combinations_ctr': ['Borders:CtrBorderCount=15:CtrBorderType=Uniform:TargetBorderCount=1:TargetBorderType=MinEntropy:Prior=0/1:Prior=0.5/1:Prior=1/1',\n",
       "  'Counter:CtrBorderCount=15:CtrBorderType=Uniform:Prior=0/1'],\n",
       " 'iterations': 100,\n",
       " 'sampling_frequency': 'PerTree',\n",
       " 'fold_permutation_block': 0,\n",
       " 'leaf_estimation_method': 'Newton',\n",
       " 'counter_calc_method': 'SkipTest',\n",
       " 'grow_policy': 'SymmetricTree',\n",
       " 'penalties_coefficient': 1,\n",
       " 'boosting_type': 'Plain',\n",
       " 'model_shrink_mode': 'Constant',\n",
       " 'feature_border_type': 'GreedyLogSum',\n",
       " 'ctr_leaf_count_limit': 18446744073709551615,\n",
       " 'bayesian_matrix_reg': 0.10000000149011612,\n",
       " 'one_hot_max_size': 2,\n",
       " 'l2_leaf_reg': 3,\n",
       " 'random_strength': 1,\n",
       " 'rsm': 1,\n",
       " 'boost_from_average': True,\n",
       " 'max_ctr_complexity': 1,\n",
       " 'model_size_reg': 0.5,\n",
       " 'simple_ctr': ['Borders:CtrBorderCount=15:CtrBorderType=Uniform:TargetBorderCount=1:TargetBorderType=MinEntropy:Prior=0/1:Prior=0.5/1:Prior=1/1',\n",
       "  'Counter:CtrBorderCount=15:CtrBorderType=Uniform:Prior=0/1'],\n",
       " 'pool_metainfo_options': {'tags': {}},\n",
       " 'subsample': 0.800000011920929,\n",
       " 'use_best_model': False,\n",
       " 'random_seed': 0,\n",
       " 'depth': 9,\n",
       " 'ctr_target_border_count': 1,\n",
       " 'posterior_sampling': False,\n",
       " 'has_time': False,\n",
       " 'store_all_simple_ctr': False,\n",
       " 'border_count': 254,\n",
       " 'classes_count': 0,\n",
       " 'auto_class_weights': 'None',\n",
       " 'sparse_features_conflict_fraction': 0,\n",
       " 'leaf_estimation_backtracking': 'AnyImprovement',\n",
       " 'best_model_min_trees': 1,\n",
       " 'model_shrink_rate': 0,\n",
       " 'min_data_in_leaf': 1,\n",
       " 'loss_function': 'RMSE',\n",
       " 'learning_rate': 0.09000000357627869,\n",
       " 'score_function': 'Cosine',\n",
       " 'task_type': 'CPU',\n",
       " 'leaf_estimation_iterations': 1,\n",
       " 'bootstrap_type': 'MVS',\n",
       " 'max_leaves': 512,\n",
       " 'permutation_count': 4}"
      ]
     },
     "execution_count": 30,
     "metadata": {},
     "output_type": "execute_result"
    }
   ],
   "source": [
    "model.get_all_params()"
   ]
  },
  {
   "cell_type": "code",
   "execution_count": 56,
   "metadata": {},
   "outputs": [
    {
     "name": "stderr",
     "output_type": "stream",
     "text": [
      "C:\\Users\\chris.dmello\\Anaconda3\\lib\\site-packages\\pandas\\core\\frame.py:3065: SettingWithCopyWarning: \n",
      "A value is trying to be set on a copy of a slice from a DataFrame.\n",
      "Try using .loc[row_indexer,col_indexer] = value instead\n",
      "\n",
      "See the caveats in the documentation: https://pandas.pydata.org/pandas-docs/stable/user_guide/indexing.html#returning-a-view-versus-a-copy\n",
      "  self[k1] = value[k2]\n"
     ]
    },
    {
     "data": {
      "text/html": [
       "<div>\n",
       "<style scoped>\n",
       "    .dataframe tbody tr th:only-of-type {\n",
       "        vertical-align: middle;\n",
       "    }\n",
       "\n",
       "    .dataframe tbody tr th {\n",
       "        vertical-align: top;\n",
       "    }\n",
       "\n",
       "    .dataframe thead th {\n",
       "        text-align: right;\n",
       "    }\n",
       "</style>\n",
       "<table border=\"1\" class=\"dataframe\">\n",
       "  <thead>\n",
       "    <tr style=\"text-align: right;\">\n",
       "      <th></th>\n",
       "      <th>Manufacturer</th>\n",
       "      <th>Model</th>\n",
       "      <th>Prod. year</th>\n",
       "      <th>Category</th>\n",
       "      <th>Leather interior</th>\n",
       "      <th>Fuel type</th>\n",
       "      <th>Cylinders</th>\n",
       "      <th>Gear box type</th>\n",
       "      <th>Drive wheels</th>\n",
       "      <th>Doors</th>\n",
       "      <th>Wheel</th>\n",
       "      <th>Airbags</th>\n",
       "    </tr>\n",
       "  </thead>\n",
       "  <tbody>\n",
       "    <tr>\n",
       "      <th>0</th>\n",
       "      <td>VOLKSWAGEN</td>\n",
       "      <td>Golf</td>\n",
       "      <td>2012</td>\n",
       "      <td>Hatchback</td>\n",
       "      <td>No</td>\n",
       "      <td>Diesel</td>\n",
       "      <td>4</td>\n",
       "      <td>Manual</td>\n",
       "      <td>Front</td>\n",
       "      <td>02-Mar</td>\n",
       "      <td>Left wheel</td>\n",
       "      <td>10</td>\n",
       "    </tr>\n",
       "    <tr>\n",
       "      <th>1</th>\n",
       "      <td>HYUNDAI</td>\n",
       "      <td>Sonata</td>\n",
       "      <td>2012</td>\n",
       "      <td>Sedan</td>\n",
       "      <td>Yes</td>\n",
       "      <td>Petrol</td>\n",
       "      <td>4</td>\n",
       "      <td>Tiptronic</td>\n",
       "      <td>Front</td>\n",
       "      <td>04-May</td>\n",
       "      <td>Left wheel</td>\n",
       "      <td>10</td>\n",
       "    </tr>\n",
       "    <tr>\n",
       "      <th>2</th>\n",
       "      <td>NISSAN</td>\n",
       "      <td>Tiida</td>\n",
       "      <td>2005</td>\n",
       "      <td>Sedan</td>\n",
       "      <td>No</td>\n",
       "      <td>Petrol</td>\n",
       "      <td>4</td>\n",
       "      <td>Automatic</td>\n",
       "      <td>Front</td>\n",
       "      <td>04-May</td>\n",
       "      <td>Right-hand drive</td>\n",
       "      <td>8</td>\n",
       "    </tr>\n",
       "    <tr>\n",
       "      <th>3</th>\n",
       "      <td>VOLVO</td>\n",
       "      <td>XC90</td>\n",
       "      <td>2012</td>\n",
       "      <td>Jeep</td>\n",
       "      <td>Yes</td>\n",
       "      <td>Petrol</td>\n",
       "      <td>6</td>\n",
       "      <td>Automatic</td>\n",
       "      <td>4x4</td>\n",
       "      <td>04-May</td>\n",
       "      <td>Left wheel</td>\n",
       "      <td>12</td>\n",
       "    </tr>\n",
       "    <tr>\n",
       "      <th>4</th>\n",
       "      <td>OPEL</td>\n",
       "      <td>Astra</td>\n",
       "      <td>1993</td>\n",
       "      <td>Hatchback</td>\n",
       "      <td>No</td>\n",
       "      <td>Petrol</td>\n",
       "      <td>4</td>\n",
       "      <td>Manual</td>\n",
       "      <td>Front</td>\n",
       "      <td>04-May</td>\n",
       "      <td>Left wheel</td>\n",
       "      <td>0</td>\n",
       "    </tr>\n",
       "  </tbody>\n",
       "</table>\n",
       "</div>"
      ],
      "text/plain": [
       "  Manufacturer   Model Prod. year   Category Leather interior Fuel type  \\\n",
       "0   VOLKSWAGEN    Golf       2012  Hatchback               No    Diesel   \n",
       "1      HYUNDAI  Sonata       2012      Sedan              Yes    Petrol   \n",
       "2       NISSAN   Tiida       2005      Sedan               No    Petrol   \n",
       "3        VOLVO    XC90       2012       Jeep              Yes    Petrol   \n",
       "4         OPEL   Astra       1993  Hatchback               No    Petrol   \n",
       "\n",
       "   Cylinders Gear box type Drive wheels   Doors             Wheel  Airbags  \n",
       "0          4        Manual        Front  02-Mar        Left wheel       10  \n",
       "1          4     Tiptronic        Front  04-May        Left wheel       10  \n",
       "2          4     Automatic        Front  04-May  Right-hand drive        8  \n",
       "3          6     Automatic          4x4  04-May        Left wheel       12  \n",
       "4          4        Manual        Front  04-May        Left wheel        0  "
      ]
     },
     "execution_count": 56,
     "metadata": {},
     "output_type": "execute_result"
    }
   ],
   "source": [
    "columns_to_keep = [\"Manufacturer\",\"Model\",\"Prod. year\",\"Category\",\"Leather interior\",\"Fuel type\", \"Cylinders\",\"Gear box type\", \\\n",
    " \"Drive wheels\", \"Doors\", \"Wheel\", \"Airbags\"]\n",
    "\n",
    "cat_features = [\"Manufacturer\",\"Model\",\"Prod. year\",\"Category\",\"Leather interior\",\"Fuel type\", \"Gear box type\", \\\n",
    " \"Drive wheels\", \"Doors\", \"Wheel\"]\n",
    "\n",
    "features_to_predict_df = test[columns_to_keep]\n",
    "\n",
    "features_to_predict_df[cat_features] = features_to_predict_df[cat_features].astype(str)\n",
    "\n",
    "\n",
    "y_pred_log = model.predict(features_to_predict_df)\n",
    "\n",
    "features_to_predict_df.head()"
   ]
  },
  {
   "cell_type": "code",
   "execution_count": 57,
   "metadata": {},
   "outputs": [
    {
     "data": {
      "text/html": [
       "<div>\n",
       "<style scoped>\n",
       "    .dataframe tbody tr th:only-of-type {\n",
       "        vertical-align: middle;\n",
       "    }\n",
       "\n",
       "    .dataframe tbody tr th {\n",
       "        vertical-align: top;\n",
       "    }\n",
       "\n",
       "    .dataframe thead th {\n",
       "        text-align: right;\n",
       "    }\n",
       "</style>\n",
       "<table border=\"1\" class=\"dataframe\">\n",
       "  <thead>\n",
       "    <tr style=\"text-align: right;\">\n",
       "      <th></th>\n",
       "      <th>Price</th>\n",
       "    </tr>\n",
       "  </thead>\n",
       "  <tbody>\n",
       "    <tr>\n",
       "      <th>0</th>\n",
       "      <td>9.958268</td>\n",
       "    </tr>\n",
       "    <tr>\n",
       "      <th>1</th>\n",
       "      <td>10.375641</td>\n",
       "    </tr>\n",
       "    <tr>\n",
       "      <th>2</th>\n",
       "      <td>9.634224</td>\n",
       "    </tr>\n",
       "    <tr>\n",
       "      <th>3</th>\n",
       "      <td>9.401561</td>\n",
       "    </tr>\n",
       "    <tr>\n",
       "      <th>4</th>\n",
       "      <td>9.443247</td>\n",
       "    </tr>\n",
       "  </tbody>\n",
       "</table>\n",
       "</div>"
      ],
      "text/plain": [
       "       Price\n",
       "0   9.958268\n",
       "1  10.375641\n",
       "2   9.634224\n",
       "3   9.401561\n",
       "4   9.443247"
      ]
     },
     "execution_count": 57,
     "metadata": {},
     "output_type": "execute_result"
    }
   ],
   "source": [
    "## inverse log\n",
    "y_pred = np.exp(y_pred_log)\n",
    "\n",
    "car_price = pd.DataFrame({\"Price\":y_pred})\n",
    "\n",
    "car_price.head()"
   ]
  },
  {
   "cell_type": "code",
   "execution_count": 4,
   "metadata": {},
   "outputs": [
    {
     "name": "stdout",
     "output_type": "stream",
     "text": [
      "^C\n"
     ]
    }
   ],
   "source": [
    "!mlflow ui\n",
    "# http://localhost:5000/"
   ]
  },
  {
   "cell_type": "markdown",
   "metadata": {},
   "source": [
    "These values are not high enough to be right. __There is some error.__ Possible overfitting.[catboost overfit detector](https://catboost.ai/docs/features/overfitting-detector-desc.html)"
   ]
  },
  {
   "cell_type": "markdown",
   "metadata": {},
   "source": [
    "Once we look at the RMSE/MAE we see that there is clearly an overfit. Lets try gridsearcv"
   ]
  },
  {
   "cell_type": "markdown",
   "metadata": {},
   "source": [
    "#### 003 Trying to fixing the overfit problem"
   ]
  },
  {
   "cell_type": "code",
   "execution_count": 86,
   "metadata": {},
   "outputs": [
    {
     "name": "stdout",
     "output_type": "stream",
     "text": [
      "{'cat_features': ['Manufacturer', 'Model', 'Prod. year', 'Category', 'Leather interior', 'Fuel type', 'Gear box type', 'Drive wheels', 'Doors', 'Wheel'], 'loss_function': 'RMSE', 'iterations': 1000, 'verbose': 1000, 'od_type': 'Iter', 'od_wait': 100, 'depth': 1}\n"
     ]
    },
    {
     "name": "stderr",
     "output_type": "stream",
     "text": [
      "C:\\Users\\chris.dmello\\Anaconda3\\lib\\site-packages\\pandas\\core\\frame.py:3065: SettingWithCopyWarning: \n",
      "A value is trying to be set on a copy of a slice from a DataFrame.\n",
      "Try using .loc[row_indexer,col_indexer] = value instead\n",
      "\n",
      "See the caveats in the documentation: https://pandas.pydata.org/pandas-docs/stable/user_guide/indexing.html#returning-a-view-versus-a-copy\n",
      "  self[k1] = value[k2]\n"
     ]
    },
    {
     "name": "stdout",
     "output_type": "stream",
     "text": [
      "Learning rate set to 0.062767\n",
      "0:\tlearn: 0.0022405\ttotal: 8.67ms\tremaining: 8.66s\n",
      "999:\tlearn: 0.0019998\ttotal: 6.89s\tremaining: 0us\n",
      "----------------------------------------------------------------------------------------------------\n",
      "Inside MLflow Run with run_id d8437d4fa0cb4fbf8f23088e56e0a24b and experiment_id 0\n",
      "Mean Absolute Error    : 0.0011224973215725484\n",
      "Mean Squared Error     : 4.258005320649092e-06\n",
      "Root Mean Squared Error: 0.002063493474825906\n",
      "R2                     : 0.18799083143099082\n",
      "MLflow Run completed with run_id d8437d4fa0cb4fbf8f23088e56e0a24b and experiment_id 0\n",
      "----------------------------------------------------------------------------------------------------\n",
      "{'cat_features': ['Manufacturer', 'Model', 'Prod. year', 'Category', 'Leather interior', 'Fuel type', 'Gear box type', 'Drive wheels', 'Doors', 'Wheel'], 'loss_function': 'RMSE', 'iterations': 1000, 'verbose': 1000, 'od_type': 'Iter', 'od_wait': 100, 'depth': 2}\n",
      "Learning rate set to 0.062767\n",
      "0:\tlearn: 0.0018711\ttotal: 15ms\tremaining: 15s\n"
     ]
    },
    {
     "name": "stderr",
     "output_type": "stream",
     "text": [
      "C:\\Users\\chris.dmello\\Anaconda3\\lib\\site-packages\\pandas\\core\\frame.py:3065: SettingWithCopyWarning: \n",
      "A value is trying to be set on a copy of a slice from a DataFrame.\n",
      "Try using .loc[row_indexer,col_indexer] = value instead\n",
      "\n",
      "See the caveats in the documentation: https://pandas.pydata.org/pandas-docs/stable/user_guide/indexing.html#returning-a-view-versus-a-copy\n",
      "  self[k1] = value[k2]\n"
     ]
    },
    {
     "name": "stdout",
     "output_type": "stream",
     "text": [
      "999:\tlearn: 0.0015731\ttotal: 12.2s\tremaining: 0us\n",
      "----------------------------------------------------------------------------------------------------\n",
      "Inside MLflow Run with run_id ccd4129e62b24b04b82df9cf284b66b3 and experiment_id 0\n",
      "Mean Absolute Error    : 0.0008472760509941515\n",
      "Mean Squared Error     : 2.733385488783615e-06\n",
      "Root Mean Squared Error: 0.0016532953422736104\n",
      "R2                     : 0.26020935118055843\n",
      "MLflow Run completed with run_id ccd4129e62b24b04b82df9cf284b66b3 and experiment_id 0\n",
      "----------------------------------------------------------------------------------------------------\n",
      "{'cat_features': ['Manufacturer', 'Model', 'Prod. year', 'Category', 'Leather interior', 'Fuel type', 'Gear box type', 'Drive wheels', 'Doors', 'Wheel'], 'loss_function': 'RMSE', 'iterations': 1000, 'verbose': 1000, 'od_type': 'Iter', 'od_wait': 100, 'depth': 3}\n",
      "Learning rate set to 0.062767\n",
      "0:\tlearn: 0.0015855\ttotal: 20.1ms\tremaining: 20.1s\n"
     ]
    },
    {
     "name": "stderr",
     "output_type": "stream",
     "text": [
      "C:\\Users\\chris.dmello\\Anaconda3\\lib\\site-packages\\pandas\\core\\frame.py:3065: SettingWithCopyWarning: \n",
      "A value is trying to be set on a copy of a slice from a DataFrame.\n",
      "Try using .loc[row_indexer,col_indexer] = value instead\n",
      "\n",
      "See the caveats in the documentation: https://pandas.pydata.org/pandas-docs/stable/user_guide/indexing.html#returning-a-view-versus-a-copy\n",
      "  self[k1] = value[k2]\n"
     ]
    },
    {
     "name": "stdout",
     "output_type": "stream",
     "text": [
      "999:\tlearn: 0.0012831\ttotal: 19.7s\tremaining: 0us\n",
      "----------------------------------------------------------------------------------------------------\n",
      "Inside MLflow Run with run_id 6d43317accb44219a219eaeae792f5d2 and experiment_id 0\n",
      "Mean Absolute Error    : 0.0006881791335790465\n",
      "Mean Squared Error     : 1.9341561893108715e-06\n",
      "Root Mean Squared Error: 0.0013907394397624853\n",
      "R2                     : 0.27734916281106037\n",
      "MLflow Run completed with run_id 6d43317accb44219a219eaeae792f5d2 and experiment_id 0\n",
      "----------------------------------------------------------------------------------------------------\n",
      "{'cat_features': ['Manufacturer', 'Model', 'Prod. year', 'Category', 'Leather interior', 'Fuel type', 'Gear box type', 'Drive wheels', 'Doors', 'Wheel'], 'loss_function': 'RMSE', 'iterations': 1000, 'verbose': 1000, 'od_type': 'Iter', 'od_wait': 100, 'depth': 4}\n"
     ]
    },
    {
     "name": "stderr",
     "output_type": "stream",
     "text": [
      "C:\\Users\\chris.dmello\\Anaconda3\\lib\\site-packages\\pandas\\core\\frame.py:3065: SettingWithCopyWarning: \n",
      "A value is trying to be set on a copy of a slice from a DataFrame.\n",
      "Try using .loc[row_indexer,col_indexer] = value instead\n",
      "\n",
      "See the caveats in the documentation: https://pandas.pydata.org/pandas-docs/stable/user_guide/indexing.html#returning-a-view-versus-a-copy\n",
      "  self[k1] = value[k2]\n"
     ]
    },
    {
     "name": "stdout",
     "output_type": "stream",
     "text": [
      "Learning rate set to 0.062767\n",
      "0:\tlearn: 0.0013606\ttotal: 65ms\tremaining: 1m 4s\n",
      "999:\tlearn: 0.0010671\ttotal: 27.4s\tremaining: 0us\n",
      "----------------------------------------------------------------------------------------------------\n",
      "Inside MLflow Run with run_id eb87edacaa97426a95e9f0d2c98ee75b and experiment_id 0\n",
      "Mean Absolute Error    : 0.0005795848519718907\n",
      "Mean Squared Error     : 1.4363799679415262e-06\n",
      "Root Mean Squared Error: 0.0011984907041531555\n",
      "R2                     : 0.2764598415068936\n",
      "MLflow Run completed with run_id eb87edacaa97426a95e9f0d2c98ee75b and experiment_id 0\n",
      "----------------------------------------------------------------------------------------------------\n"
     ]
    }
   ],
   "source": [
    "max_depth = 0\n",
    "for n in range (1, 5, 1):\n",
    "    '''\n",
    "    start - stop - step\n",
    "    '''    \n",
    "    params = {}\n",
    "    params = {\"cat_features\": cat_features, \"loss_function\": \"RMSE\", \"iterations\" : 1000, \"verbose\":1000\\\n",
    "             ,\"od_type\" : \"Iter\",\"od_wait\" : 100}   ## Overfit detector parameters\n",
    "#     params[\"learning_rate\"] = n/10\n",
    "    params[\"depth\"] = n\n",
    "    \n",
    "    other_dict = {}\n",
    "    other_dict[\"run_name\"] = \"catmodel_001\"\n",
    "    \n",
    "    print(params)\n",
    "    \n",
    "    cat_model = catboost_regressor.new_instance(params)\n",
    "    (experimentID, runID) = cat_model.model_run__log_mlfow(features_to_keep, var_dict , other_dict)\n",
    "    \n",
    "    print(\"MLflow Run completed with run_id {} and experiment_id {}\".format(runID, experimentID))\n",
    "    print(\"-\" * 100)"
   ]
  },
  {
   "cell_type": "code",
   "execution_count": 83,
   "metadata": {},
   "outputs": [
    {
     "data": {
      "text/html": [
       "<div>\n",
       "<style scoped>\n",
       "    .dataframe tbody tr th:only-of-type {\n",
       "        vertical-align: middle;\n",
       "    }\n",
       "\n",
       "    .dataframe tbody tr th {\n",
       "        vertical-align: top;\n",
       "    }\n",
       "\n",
       "    .dataframe thead th {\n",
       "        text-align: right;\n",
       "    }\n",
       "</style>\n",
       "<table border=\"1\" class=\"dataframe\">\n",
       "  <thead>\n",
       "    <tr style=\"text-align: right;\">\n",
       "      <th></th>\n",
       "      <th>run_id</th>\n",
       "      <th>experiment_id</th>\n",
       "      <th>status</th>\n",
       "      <th>artifact_uri</th>\n",
       "      <th>start_time</th>\n",
       "      <th>end_time</th>\n",
       "      <th>metrics.r2</th>\n",
       "      <th>metrics.mse</th>\n",
       "      <th>metrics.rmse</th>\n",
       "      <th>metrics.mae</th>\n",
       "      <th>...</th>\n",
       "      <th>params.loss_function</th>\n",
       "      <th>params.depth</th>\n",
       "      <th>params.verbose</th>\n",
       "      <th>params.od_wait</th>\n",
       "      <th>params.learning_rate</th>\n",
       "      <th>tags.mlflow.user</th>\n",
       "      <th>tags.mlflow.runName</th>\n",
       "      <th>tags.mlflow.log-model.history</th>\n",
       "      <th>tags.mlflow.source.type</th>\n",
       "      <th>tags.mlflow.source.name</th>\n",
       "    </tr>\n",
       "  </thead>\n",
       "  <tbody>\n",
       "    <tr>\n",
       "      <th>0</th>\n",
       "      <td>f8ddaf7f4d1d4292a77912eae4bc77c9</td>\n",
       "      <td>0</td>\n",
       "      <td>FINISHED</td>\n",
       "      <td>file:///C:/Users/chris.dmello/Documents/Python...</td>\n",
       "      <td>2021-07-07 17:33:43.781000+00:00</td>\n",
       "      <td>2021-07-07 17:33:45.851000+00:00</td>\n",
       "      <td>0.246441</td>\n",
       "      <td>0.000006</td>\n",
       "      <td>0.002407</td>\n",
       "      <td>0.001257</td>\n",
       "      <td>...</td>\n",
       "      <td>RMSE</td>\n",
       "      <td>2</td>\n",
       "      <td>100</td>\n",
       "      <td>100</td>\n",
       "      <td>None</td>\n",
       "      <td>chris.dmello</td>\n",
       "      <td>catmodel_001</td>\n",
       "      <td>[{\"run_id\": \"f8ddaf7f4d1d4292a77912eae4bc77c9\"...</td>\n",
       "      <td>LOCAL</td>\n",
       "      <td>C:\\Users\\chris.dmello\\Anaconda3\\lib\\site-packa...</td>\n",
       "    </tr>\n",
       "    <tr>\n",
       "      <th>1</th>\n",
       "      <td>3f66968c3b7f4482b8f055be519c3e4a</td>\n",
       "      <td>0</td>\n",
       "      <td>FINISHED</td>\n",
       "      <td>file:///C:/Users/chris.dmello/Documents/Python...</td>\n",
       "      <td>2021-07-07 17:33:42.285000+00:00</td>\n",
       "      <td>2021-07-07 17:33:43.770000+00:00</td>\n",
       "      <td>0.188885</td>\n",
       "      <td>0.000010</td>\n",
       "      <td>0.003085</td>\n",
       "      <td>0.001701</td>\n",
       "      <td>...</td>\n",
       "      <td>RMSE</td>\n",
       "      <td>1</td>\n",
       "      <td>100</td>\n",
       "      <td>100</td>\n",
       "      <td>None</td>\n",
       "      <td>chris.dmello</td>\n",
       "      <td>catmodel_001</td>\n",
       "      <td>[{\"run_id\": \"3f66968c3b7f4482b8f055be519c3e4a\"...</td>\n",
       "      <td>LOCAL</td>\n",
       "      <td>C:\\Users\\chris.dmello\\Anaconda3\\lib\\site-packa...</td>\n",
       "    </tr>\n",
       "    <tr>\n",
       "      <th>2</th>\n",
       "      <td>11ece555cb5845719a47a356b11700b2</td>\n",
       "      <td>0</td>\n",
       "      <td>FINISHED</td>\n",
       "      <td>file:///C:/Users/chris.dmello/Documents/Python...</td>\n",
       "      <td>2021-07-07 17:29:19.680000+00:00</td>\n",
       "      <td>2021-07-07 17:29:21.737000+00:00</td>\n",
       "      <td>0.254631</td>\n",
       "      <td>0.000014</td>\n",
       "      <td>0.003743</td>\n",
       "      <td>0.001981</td>\n",
       "      <td>...</td>\n",
       "      <td>RMSE</td>\n",
       "      <td>2</td>\n",
       "      <td>100</td>\n",
       "      <td>None</td>\n",
       "      <td>None</td>\n",
       "      <td>chris.dmello</td>\n",
       "      <td>catmodel_001</td>\n",
       "      <td>[{\"run_id\": \"11ece555cb5845719a47a356b11700b2\"...</td>\n",
       "      <td>LOCAL</td>\n",
       "      <td>C:\\Users\\chris.dmello\\Anaconda3\\lib\\site-packa...</td>\n",
       "    </tr>\n",
       "    <tr>\n",
       "      <th>3</th>\n",
       "      <td>328365e8d1f34864a13d2947262a6cbe</td>\n",
       "      <td>0</td>\n",
       "      <td>FINISHED</td>\n",
       "      <td>file:///C:/Users/chris.dmello/Documents/Python...</td>\n",
       "      <td>2021-07-07 17:29:18.132000+00:00</td>\n",
       "      <td>2021-07-07 17:29:19.667000+00:00</td>\n",
       "      <td>0.195006</td>\n",
       "      <td>0.000026</td>\n",
       "      <td>0.005076</td>\n",
       "      <td>0.002841</td>\n",
       "      <td>...</td>\n",
       "      <td>RMSE</td>\n",
       "      <td>1</td>\n",
       "      <td>100</td>\n",
       "      <td>None</td>\n",
       "      <td>None</td>\n",
       "      <td>chris.dmello</td>\n",
       "      <td>catmodel_001</td>\n",
       "      <td>[{\"run_id\": \"328365e8d1f34864a13d2947262a6cbe\"...</td>\n",
       "      <td>LOCAL</td>\n",
       "      <td>C:\\Users\\chris.dmello\\Anaconda3\\lib\\site-packa...</td>\n",
       "    </tr>\n",
       "    <tr>\n",
       "      <th>4</th>\n",
       "      <td>4ebe1a3927214f93ad6c027386357b0b</td>\n",
       "      <td>0</td>\n",
       "      <td>FINISHED</td>\n",
       "      <td>file:///C:/Users/chris.dmello/Documents/Python...</td>\n",
       "      <td>2021-07-07 17:28:15.963000+00:00</td>\n",
       "      <td>2021-07-07 17:28:18.304000+00:00</td>\n",
       "      <td>0.276989</td>\n",
       "      <td>0.000043</td>\n",
       "      <td>0.006529</td>\n",
       "      <td>0.003470</td>\n",
       "      <td>...</td>\n",
       "      <td>RMSE</td>\n",
       "      <td>3</td>\n",
       "      <td>100</td>\n",
       "      <td>None</td>\n",
       "      <td>None</td>\n",
       "      <td>chris.dmello</td>\n",
       "      <td>catmodel_001</td>\n",
       "      <td>[{\"run_id\": \"4ebe1a3927214f93ad6c027386357b0b\"...</td>\n",
       "      <td>LOCAL</td>\n",
       "      <td>C:\\Users\\chris.dmello\\Anaconda3\\lib\\site-packa...</td>\n",
       "    </tr>\n",
       "  </tbody>\n",
       "</table>\n",
       "<p>5 rows × 23 columns</p>\n",
       "</div>"
      ],
      "text/plain": [
       "                             run_id experiment_id    status  \\\n",
       "0  f8ddaf7f4d1d4292a77912eae4bc77c9             0  FINISHED   \n",
       "1  3f66968c3b7f4482b8f055be519c3e4a             0  FINISHED   \n",
       "2  11ece555cb5845719a47a356b11700b2             0  FINISHED   \n",
       "3  328365e8d1f34864a13d2947262a6cbe             0  FINISHED   \n",
       "4  4ebe1a3927214f93ad6c027386357b0b             0  FINISHED   \n",
       "\n",
       "                                        artifact_uri  \\\n",
       "0  file:///C:/Users/chris.dmello/Documents/Python...   \n",
       "1  file:///C:/Users/chris.dmello/Documents/Python...   \n",
       "2  file:///C:/Users/chris.dmello/Documents/Python...   \n",
       "3  file:///C:/Users/chris.dmello/Documents/Python...   \n",
       "4  file:///C:/Users/chris.dmello/Documents/Python...   \n",
       "\n",
       "                        start_time                         end_time  \\\n",
       "0 2021-07-07 17:33:43.781000+00:00 2021-07-07 17:33:45.851000+00:00   \n",
       "1 2021-07-07 17:33:42.285000+00:00 2021-07-07 17:33:43.770000+00:00   \n",
       "2 2021-07-07 17:29:19.680000+00:00 2021-07-07 17:29:21.737000+00:00   \n",
       "3 2021-07-07 17:29:18.132000+00:00 2021-07-07 17:29:19.667000+00:00   \n",
       "4 2021-07-07 17:28:15.963000+00:00 2021-07-07 17:28:18.304000+00:00   \n",
       "\n",
       "   metrics.r2  metrics.mse  metrics.rmse  metrics.mae  ...  \\\n",
       "0    0.246441     0.000006      0.002407     0.001257  ...   \n",
       "1    0.188885     0.000010      0.003085     0.001701  ...   \n",
       "2    0.254631     0.000014      0.003743     0.001981  ...   \n",
       "3    0.195006     0.000026      0.005076     0.002841  ...   \n",
       "4    0.276989     0.000043      0.006529     0.003470  ...   \n",
       "\n",
       "  params.loss_function params.depth params.verbose params.od_wait  \\\n",
       "0                 RMSE            2            100            100   \n",
       "1                 RMSE            1            100            100   \n",
       "2                 RMSE            2            100           None   \n",
       "3                 RMSE            1            100           None   \n",
       "4                 RMSE            3            100           None   \n",
       "\n",
       "  params.learning_rate tags.mlflow.user tags.mlflow.runName  \\\n",
       "0                 None     chris.dmello        catmodel_001   \n",
       "1                 None     chris.dmello        catmodel_001   \n",
       "2                 None     chris.dmello        catmodel_001   \n",
       "3                 None     chris.dmello        catmodel_001   \n",
       "4                 None     chris.dmello        catmodel_001   \n",
       "\n",
       "                       tags.mlflow.log-model.history tags.mlflow.source.type  \\\n",
       "0  [{\"run_id\": \"f8ddaf7f4d1d4292a77912eae4bc77c9\"...                   LOCAL   \n",
       "1  [{\"run_id\": \"3f66968c3b7f4482b8f055be519c3e4a\"...                   LOCAL   \n",
       "2  [{\"run_id\": \"11ece555cb5845719a47a356b11700b2\"...                   LOCAL   \n",
       "3  [{\"run_id\": \"328365e8d1f34864a13d2947262a6cbe\"...                   LOCAL   \n",
       "4  [{\"run_id\": \"4ebe1a3927214f93ad6c027386357b0b\"...                   LOCAL   \n",
       "\n",
       "                             tags.mlflow.source.name  \n",
       "0  C:\\Users\\chris.dmello\\Anaconda3\\lib\\site-packa...  \n",
       "1  C:\\Users\\chris.dmello\\Anaconda3\\lib\\site-packa...  \n",
       "2  C:\\Users\\chris.dmello\\Anaconda3\\lib\\site-packa...  \n",
       "3  C:\\Users\\chris.dmello\\Anaconda3\\lib\\site-packa...  \n",
       "4  C:\\Users\\chris.dmello\\Anaconda3\\lib\\site-packa...  \n",
       "\n",
       "[5 rows x 23 columns]"
      ]
     },
     "execution_count": 83,
     "metadata": {},
     "output_type": "execute_result"
    }
   ],
   "source": [
    "df = mlflow.search_runs(filter_string=\"metrics.rmse < 60\")\n",
    "df.head()"
   ]
  },
  {
   "cell_type": "code",
   "execution_count": 84,
   "metadata": {},
   "outputs": [
    {
     "data": {
      "text/plain": [
       "{'iterations': 100,\n",
       " 'depth': 2,\n",
       " 'loss_function': 'RMSE',\n",
       " 'od_wait': 100,\n",
       " 'od_type': 'Iter',\n",
       " 'verbose': 100,\n",
       " 'cat_features': ['Manufacturer',\n",
       "  'Model',\n",
       "  'Prod. year',\n",
       "  'Category',\n",
       "  'Leather interior',\n",
       "  'Fuel type',\n",
       "  'Gear box type',\n",
       "  'Drive wheels',\n",
       "  'Doors',\n",
       "  'Wheel']}"
      ]
     },
     "metadata": {},
     "output_type": "display_data"
    },
    {
     "name": "stderr",
     "output_type": "stream",
     "text": [
      "C:\\Users\\chris.dmello\\Anaconda3\\lib\\site-packages\\pandas\\core\\frame.py:3065: SettingWithCopyWarning: \n",
      "A value is trying to be set on a copy of a slice from a DataFrame.\n",
      "Try using .loc[row_indexer,col_indexer] = value instead\n",
      "\n",
      "See the caveats in the documentation: https://pandas.pydata.org/pandas-docs/stable/user_guide/indexing.html#returning-a-view-versus-a-copy\n",
      "  self[k1] = value[k2]\n"
     ]
    },
    {
     "data": {
      "text/html": [
       "<div>\n",
       "<style scoped>\n",
       "    .dataframe tbody tr th:only-of-type {\n",
       "        vertical-align: middle;\n",
       "    }\n",
       "\n",
       "    .dataframe tbody tr th {\n",
       "        vertical-align: top;\n",
       "    }\n",
       "\n",
       "    .dataframe thead th {\n",
       "        text-align: right;\n",
       "    }\n",
       "</style>\n",
       "<table border=\"1\" class=\"dataframe\">\n",
       "  <thead>\n",
       "    <tr style=\"text-align: right;\">\n",
       "      <th></th>\n",
       "      <th>Manufacturer</th>\n",
       "      <th>Model</th>\n",
       "      <th>Prod. year</th>\n",
       "      <th>Category</th>\n",
       "      <th>Leather interior</th>\n",
       "      <th>Fuel type</th>\n",
       "      <th>Cylinders</th>\n",
       "      <th>Gear box type</th>\n",
       "      <th>Drive wheels</th>\n",
       "      <th>Doors</th>\n",
       "      <th>Wheel</th>\n",
       "      <th>Airbags</th>\n",
       "    </tr>\n",
       "  </thead>\n",
       "  <tbody>\n",
       "    <tr>\n",
       "      <th>0</th>\n",
       "      <td>VOLKSWAGEN</td>\n",
       "      <td>Golf</td>\n",
       "      <td>2012</td>\n",
       "      <td>Hatchback</td>\n",
       "      <td>No</td>\n",
       "      <td>Diesel</td>\n",
       "      <td>4</td>\n",
       "      <td>Manual</td>\n",
       "      <td>Front</td>\n",
       "      <td>02-Mar</td>\n",
       "      <td>Left wheel</td>\n",
       "      <td>10</td>\n",
       "    </tr>\n",
       "    <tr>\n",
       "      <th>1</th>\n",
       "      <td>HYUNDAI</td>\n",
       "      <td>Sonata</td>\n",
       "      <td>2012</td>\n",
       "      <td>Sedan</td>\n",
       "      <td>Yes</td>\n",
       "      <td>Petrol</td>\n",
       "      <td>4</td>\n",
       "      <td>Tiptronic</td>\n",
       "      <td>Front</td>\n",
       "      <td>04-May</td>\n",
       "      <td>Left wheel</td>\n",
       "      <td>10</td>\n",
       "    </tr>\n",
       "    <tr>\n",
       "      <th>2</th>\n",
       "      <td>NISSAN</td>\n",
       "      <td>Tiida</td>\n",
       "      <td>2005</td>\n",
       "      <td>Sedan</td>\n",
       "      <td>No</td>\n",
       "      <td>Petrol</td>\n",
       "      <td>4</td>\n",
       "      <td>Automatic</td>\n",
       "      <td>Front</td>\n",
       "      <td>04-May</td>\n",
       "      <td>Right-hand drive</td>\n",
       "      <td>8</td>\n",
       "    </tr>\n",
       "    <tr>\n",
       "      <th>3</th>\n",
       "      <td>VOLVO</td>\n",
       "      <td>XC90</td>\n",
       "      <td>2012</td>\n",
       "      <td>Jeep</td>\n",
       "      <td>Yes</td>\n",
       "      <td>Petrol</td>\n",
       "      <td>6</td>\n",
       "      <td>Automatic</td>\n",
       "      <td>4x4</td>\n",
       "      <td>04-May</td>\n",
       "      <td>Left wheel</td>\n",
       "      <td>12</td>\n",
       "    </tr>\n",
       "    <tr>\n",
       "      <th>4</th>\n",
       "      <td>OPEL</td>\n",
       "      <td>Astra</td>\n",
       "      <td>1993</td>\n",
       "      <td>Hatchback</td>\n",
       "      <td>No</td>\n",
       "      <td>Petrol</td>\n",
       "      <td>4</td>\n",
       "      <td>Manual</td>\n",
       "      <td>Front</td>\n",
       "      <td>04-May</td>\n",
       "      <td>Left wheel</td>\n",
       "      <td>0</td>\n",
       "    </tr>\n",
       "  </tbody>\n",
       "</table>\n",
       "</div>"
      ],
      "text/plain": [
       "  Manufacturer   Model Prod. year   Category Leather interior Fuel type  \\\n",
       "0   VOLKSWAGEN    Golf       2012  Hatchback               No    Diesel   \n",
       "1      HYUNDAI  Sonata       2012      Sedan              Yes    Petrol   \n",
       "2       NISSAN   Tiida       2005      Sedan               No    Petrol   \n",
       "3        VOLVO    XC90       2012       Jeep              Yes    Petrol   \n",
       "4         OPEL   Astra       1993  Hatchback               No    Petrol   \n",
       "\n",
       "   Cylinders Gear box type Drive wheels   Doors             Wheel  Airbags  \n",
       "0          4        Manual        Front  02-Mar        Left wheel       10  \n",
       "1          4     Tiptronic        Front  04-May        Left wheel       10  \n",
       "2          4     Automatic        Front  04-May  Right-hand drive        8  \n",
       "3          6     Automatic          4x4  04-May        Left wheel       12  \n",
       "4          4        Manual        Front  04-May        Left wheel        0  "
      ]
     },
     "execution_count": 84,
     "metadata": {},
     "output_type": "execute_result"
    }
   ],
   "source": [
    "## catboost-reg-model  - is in the model class, we can also pass it as a parameter\n",
    "model = mlflow.sklearn.load_model(\"runs:/\" + \"f8ddaf7f4d1d4292a77912eae4bc77c9\" + \"/catboost-reg-model\")\n",
    "display(model.get_params())\n",
    "\n",
    "\n",
    "columns_to_keep = [\"Manufacturer\",\"Model\",\"Prod. year\",\"Category\",\"Leather interior\",\"Fuel type\", \"Cylinders\",\"Gear box type\", \\\n",
    " \"Drive wheels\", \"Doors\", \"Wheel\", \"Airbags\"]\n",
    "\n",
    "cat_features = [\"Manufacturer\",\"Model\",\"Prod. year\",\"Category\",\"Leather interior\",\"Fuel type\", \"Gear box type\", \\\n",
    " \"Drive wheels\", \"Doors\", \"Wheel\"]\n",
    "\n",
    "features_to_predict_df = test[columns_to_keep]\n",
    "\n",
    "features_to_predict_df[cat_features] = features_to_predict_df[cat_features].astype(str)\n",
    "\n",
    "\n",
    "y_pred_log = model.predict(features_to_predict_df)\n",
    "\n",
    "features_to_predict_df.head()"
   ]
  },
  {
   "cell_type": "code",
   "execution_count": 85,
   "metadata": {},
   "outputs": [
    {
     "data": {
      "text/html": [
       "<div>\n",
       "<style scoped>\n",
       "    .dataframe tbody tr th:only-of-type {\n",
       "        vertical-align: middle;\n",
       "    }\n",
       "\n",
       "    .dataframe tbody tr th {\n",
       "        vertical-align: top;\n",
       "    }\n",
       "\n",
       "    .dataframe thead th {\n",
       "        text-align: right;\n",
       "    }\n",
       "</style>\n",
       "<table border=\"1\" class=\"dataframe\">\n",
       "  <thead>\n",
       "    <tr style=\"text-align: right;\">\n",
       "      <th></th>\n",
       "      <th>Price</th>\n",
       "    </tr>\n",
       "  </thead>\n",
       "  <tbody>\n",
       "    <tr>\n",
       "      <th>0</th>\n",
       "      <td>1.245941</td>\n",
       "    </tr>\n",
       "    <tr>\n",
       "      <th>1</th>\n",
       "      <td>1.245919</td>\n",
       "    </tr>\n",
       "    <tr>\n",
       "      <th>2</th>\n",
       "      <td>1.241496</td>\n",
       "    </tr>\n",
       "    <tr>\n",
       "      <th>3</th>\n",
       "      <td>1.242906</td>\n",
       "    </tr>\n",
       "    <tr>\n",
       "      <th>4</th>\n",
       "      <td>1.243025</td>\n",
       "    </tr>\n",
       "  </tbody>\n",
       "</table>\n",
       "</div>"
      ],
      "text/plain": [
       "      Price\n",
       "0  1.245941\n",
       "1  1.245919\n",
       "2  1.241496\n",
       "3  1.242906\n",
       "4  1.243025"
      ]
     },
     "execution_count": 85,
     "metadata": {},
     "output_type": "execute_result"
    }
   ],
   "source": [
    "## inverse log\n",
    "y_pred = np.exp(y_pred_log)\n",
    "\n",
    "car_price = pd.DataFrame({\"Price\":y_pred})\n",
    "\n",
    "car_price.head()"
   ]
  },
  {
   "cell_type": "markdown",
   "metadata": {},
   "source": [
    "##### 004 Logging the previous best model using MLFLOW"
   ]
  },
  {
   "cell_type": "markdown",
   "metadata": {},
   "source": [
    "> The first model was not logged, logging it here. "
   ]
  },
  {
   "cell_type": "code",
   "execution_count": 32,
   "metadata": {},
   "outputs": [
    {
     "name": "stderr",
     "output_type": "stream",
     "text": [
      "C:\\Users\\chris.dmello\\Anaconda3\\lib\\site-packages\\pandas\\core\\frame.py:3065: SettingWithCopyWarning: \n",
      "A value is trying to be set on a copy of a slice from a DataFrame.\n",
      "Try using .loc[row_indexer,col_indexer] = value instead\n",
      "\n",
      "See the caveats in the documentation: https://pandas.pydata.org/pandas-docs/stable/user_guide/indexing.html#returning-a-view-versus-a-copy\n",
      "  self[k1] = value[k2]\n"
     ]
    }
   ],
   "source": [
    "columns_to_keep = [\"Manufacturer\",\"Model\",\"Prod. year\",\"Category\",\"Leather interior\",\"Fuel type\", \"Cylinders\",\"Gear box type\", \\\n",
    " \"Drive wheels\", \"Doors\", \"Wheel\", \"Airbags\", \"Price\"]\n",
    "\n",
    "cat_features = [\"Manufacturer\",\"Model\",\"Prod. year\",\"Category\",\"Leather interior\",\"Fuel type\", \"Gear box type\", \\\n",
    " \"Drive wheels\", \"Doors\", \"Wheel\"]\n",
    "\n",
    "features_to_keep = train[columns_to_keep]\n",
    "\n",
    "#features_to_keep[\"Price\"] = np.log10(features_to_keep.Price)\n",
    "\n",
    "features_to_keep[cat_features] = features_to_keep[cat_features].astype(str)\n",
    "\n",
    "\n",
    "var_dict = {}\n",
    "var_dict[\"independant\"] = [\"Manufacturer\",\"Model\",\"Prod. year\",\"Category\",\"Leather interior\",\"Fuel type\", \"Cylinders\",\"Gear box type\", \\\n",
    " \"Drive wheels\", \"Doors\", \"Wheel\", \"Airbags\"]\n",
    "\n",
    "var_dict[\"dependant\"]   = [\"Price\"]"
   ]
  },
  {
   "cell_type": "code",
   "execution_count": 33,
   "metadata": {},
   "outputs": [
    {
     "name": "stdout",
     "output_type": "stream",
     "text": [
      "Learning rate set to 0.361189\n",
      "0:\tlearn: 1.4239413\ttotal: 22.3ms\tremaining: 2.2s\n",
      "99:\tlearn: 1.0825833\ttotal: 2.24s\tremaining: 0us\n",
      "----------------------------------------------------------------------------------------------------\n",
      "Inside MLflow Run with run_id 91480fae5a7e46c29176c68aaa8d913d and experiment_id 0\n",
      "Mean Absolute Error    : 0.7161122603509764\n",
      "Mean Squared Error     : 1.2538596551355954\n",
      "Root Mean Squared Error: 1.1197587486309697\n",
      "R2                     : 0.47850914167938985\n",
      "MLflow Run completed with run_id 91480fae5a7e46c29176c68aaa8d913d and experiment_id 0\n",
      "----------------------------------------------------------------------------------------------------\n"
     ]
    }
   ],
   "source": [
    "params = {\"cat_features\": cat_features, \"loss_function\": \"RMSE\", \"iterations\" : 100, \"verbose\":100}\n",
    "\n",
    "cat_model = catboost_regressor.new_instance(params)\n",
    "(experimentID, runID) = cat_model.model_run__log_mlfow(features_to_keep, var_dict , other_dict)\n",
    "\n",
    "print(\"MLflow Run completed with run_id {} and experiment_id {}\".format(runID, experimentID))\n",
    "print(\"-\" * 100)"
   ]
  },
  {
   "cell_type": "code",
   "execution_count": 61,
   "metadata": {},
   "outputs": [
    {
     "data": {
      "text/plain": [
       "{'iterations': 100,\n",
       " 'loss_function': 'RMSE',\n",
       " 'verbose': 100,\n",
       " 'cat_features': ['Manufacturer',\n",
       "  'Model',\n",
       "  'Prod. year',\n",
       "  'Category',\n",
       "  'Leather interior',\n",
       "  'Fuel type',\n",
       "  'Gear box type',\n",
       "  'Drive wheels',\n",
       "  'Doors',\n",
       "  'Wheel']}"
      ]
     },
     "execution_count": 61,
     "metadata": {},
     "output_type": "execute_result"
    }
   ],
   "source": [
    "run_id = \"91480fae5a7e46c29176c68aaa8d913d\" \n",
    "model = mlflow.sklearn.load_model(\"runs:/\" + run_id + \"/catboost-reg-model\")\n",
    "model.get_params()"
   ]
  },
  {
   "cell_type": "code",
   "execution_count": 62,
   "metadata": {},
   "outputs": [
    {
     "name": "stderr",
     "output_type": "stream",
     "text": [
      "C:\\Users\\chris.dmello\\Anaconda3\\lib\\site-packages\\pandas\\core\\frame.py:3065: SettingWithCopyWarning: \n",
      "A value is trying to be set on a copy of a slice from a DataFrame.\n",
      "Try using .loc[row_indexer,col_indexer] = value instead\n",
      "\n",
      "See the caveats in the documentation: https://pandas.pydata.org/pandas-docs/stable/user_guide/indexing.html#returning-a-view-versus-a-copy\n",
      "  self[k1] = value[k2]\n"
     ]
    },
    {
     "data": {
      "text/plain": [
       "array([ 9.96949572,  9.49618275,  7.60825794, ...,  8.74012574,\n",
       "       10.22709827,  7.30737712])"
      ]
     },
     "metadata": {},
     "output_type": "display_data"
    },
    {
     "data": {
      "text/html": [
       "<div>\n",
       "<style scoped>\n",
       "    .dataframe tbody tr th:only-of-type {\n",
       "        vertical-align: middle;\n",
       "    }\n",
       "\n",
       "    .dataframe tbody tr th {\n",
       "        vertical-align: top;\n",
       "    }\n",
       "\n",
       "    .dataframe thead th {\n",
       "        text-align: right;\n",
       "    }\n",
       "</style>\n",
       "<table border=\"1\" class=\"dataframe\">\n",
       "  <thead>\n",
       "    <tr style=\"text-align: right;\">\n",
       "      <th></th>\n",
       "      <th>Manufacturer</th>\n",
       "      <th>Model</th>\n",
       "      <th>Prod. year</th>\n",
       "      <th>Category</th>\n",
       "      <th>Leather interior</th>\n",
       "      <th>Fuel type</th>\n",
       "      <th>Cylinders</th>\n",
       "      <th>Gear box type</th>\n",
       "      <th>Drive wheels</th>\n",
       "      <th>Doors</th>\n",
       "      <th>Wheel</th>\n",
       "      <th>Airbags</th>\n",
       "    </tr>\n",
       "  </thead>\n",
       "  <tbody>\n",
       "    <tr>\n",
       "      <th>0</th>\n",
       "      <td>VOLKSWAGEN</td>\n",
       "      <td>Golf</td>\n",
       "      <td>2012</td>\n",
       "      <td>Hatchback</td>\n",
       "      <td>No</td>\n",
       "      <td>Diesel</td>\n",
       "      <td>4</td>\n",
       "      <td>Manual</td>\n",
       "      <td>Front</td>\n",
       "      <td>02-Mar</td>\n",
       "      <td>Left wheel</td>\n",
       "      <td>10</td>\n",
       "    </tr>\n",
       "    <tr>\n",
       "      <th>1</th>\n",
       "      <td>HYUNDAI</td>\n",
       "      <td>Sonata</td>\n",
       "      <td>2012</td>\n",
       "      <td>Sedan</td>\n",
       "      <td>Yes</td>\n",
       "      <td>Petrol</td>\n",
       "      <td>4</td>\n",
       "      <td>Tiptronic</td>\n",
       "      <td>Front</td>\n",
       "      <td>04-May</td>\n",
       "      <td>Left wheel</td>\n",
       "      <td>10</td>\n",
       "    </tr>\n",
       "    <tr>\n",
       "      <th>2</th>\n",
       "      <td>NISSAN</td>\n",
       "      <td>Tiida</td>\n",
       "      <td>2005</td>\n",
       "      <td>Sedan</td>\n",
       "      <td>No</td>\n",
       "      <td>Petrol</td>\n",
       "      <td>4</td>\n",
       "      <td>Automatic</td>\n",
       "      <td>Front</td>\n",
       "      <td>04-May</td>\n",
       "      <td>Right-hand drive</td>\n",
       "      <td>8</td>\n",
       "    </tr>\n",
       "    <tr>\n",
       "      <th>3</th>\n",
       "      <td>VOLVO</td>\n",
       "      <td>XC90</td>\n",
       "      <td>2012</td>\n",
       "      <td>Jeep</td>\n",
       "      <td>Yes</td>\n",
       "      <td>Petrol</td>\n",
       "      <td>6</td>\n",
       "      <td>Automatic</td>\n",
       "      <td>4x4</td>\n",
       "      <td>04-May</td>\n",
       "      <td>Left wheel</td>\n",
       "      <td>12</td>\n",
       "    </tr>\n",
       "    <tr>\n",
       "      <th>4</th>\n",
       "      <td>OPEL</td>\n",
       "      <td>Astra</td>\n",
       "      <td>1993</td>\n",
       "      <td>Hatchback</td>\n",
       "      <td>No</td>\n",
       "      <td>Petrol</td>\n",
       "      <td>4</td>\n",
       "      <td>Manual</td>\n",
       "      <td>Front</td>\n",
       "      <td>04-May</td>\n",
       "      <td>Left wheel</td>\n",
       "      <td>0</td>\n",
       "    </tr>\n",
       "  </tbody>\n",
       "</table>\n",
       "</div>"
      ],
      "text/plain": [
       "  Manufacturer   Model Prod. year   Category Leather interior Fuel type  \\\n",
       "0   VOLKSWAGEN    Golf       2012  Hatchback               No    Diesel   \n",
       "1      HYUNDAI  Sonata       2012      Sedan              Yes    Petrol   \n",
       "2       NISSAN   Tiida       2005      Sedan               No    Petrol   \n",
       "3        VOLVO    XC90       2012       Jeep              Yes    Petrol   \n",
       "4         OPEL   Astra       1993  Hatchback               No    Petrol   \n",
       "\n",
       "   Cylinders Gear box type Drive wheels   Doors             Wheel  Airbags  \n",
       "0          4        Manual        Front  02-Mar        Left wheel       10  \n",
       "1          4     Tiptronic        Front  04-May        Left wheel       10  \n",
       "2          4     Automatic        Front  04-May  Right-hand drive        8  \n",
       "3          6     Automatic          4x4  04-May        Left wheel       12  \n",
       "4          4        Manual        Front  04-May        Left wheel        0  "
      ]
     },
     "metadata": {},
     "output_type": "display_data"
    },
    {
     "data": {
      "text/html": [
       "<div>\n",
       "<style scoped>\n",
       "    .dataframe tbody tr th:only-of-type {\n",
       "        vertical-align: middle;\n",
       "    }\n",
       "\n",
       "    .dataframe tbody tr th {\n",
       "        vertical-align: top;\n",
       "    }\n",
       "\n",
       "    .dataframe thead th {\n",
       "        text-align: right;\n",
       "    }\n",
       "</style>\n",
       "<table border=\"1\" class=\"dataframe\">\n",
       "  <thead>\n",
       "    <tr style=\"text-align: right;\">\n",
       "      <th></th>\n",
       "      <th>Price</th>\n",
       "    </tr>\n",
       "  </thead>\n",
       "  <tbody>\n",
       "    <tr>\n",
       "      <th>0</th>\n",
       "      <td>21364.708762</td>\n",
       "    </tr>\n",
       "    <tr>\n",
       "      <th>1</th>\n",
       "      <td>13308.826654</td>\n",
       "    </tr>\n",
       "    <tr>\n",
       "      <th>2</th>\n",
       "      <td>2014.765200</td>\n",
       "    </tr>\n",
       "    <tr>\n",
       "      <th>3</th>\n",
       "      <td>2149.761986</td>\n",
       "    </tr>\n",
       "    <tr>\n",
       "      <th>4</th>\n",
       "      <td>4567.827760</td>\n",
       "    </tr>\n",
       "  </tbody>\n",
       "</table>\n",
       "</div>"
      ],
      "text/plain": [
       "          Price\n",
       "0  21364.708762\n",
       "1  13308.826654\n",
       "2   2014.765200\n",
       "3   2149.761986\n",
       "4   4567.827760"
      ]
     },
     "metadata": {},
     "output_type": "display_data"
    }
   ],
   "source": [
    "columns_to_keep = [\"Manufacturer\",\"Model\",\"Prod. year\",\"Category\",\"Leather interior\",\"Fuel type\", \"Cylinders\",\"Gear box type\", \\\n",
    " \"Drive wheels\", \"Doors\", \"Wheel\", \"Airbags\"]\n",
    "\n",
    "cat_features = [\"Manufacturer\",\"Model\",\"Prod. year\",\"Category\",\"Leather interior\",\"Fuel type\", \"Gear box type\", \\\n",
    " \"Drive wheels\", \"Doors\", \"Wheel\"]\n",
    "\n",
    "features_to_predict_df = test[columns_to_keep]\n",
    "\n",
    "features_to_predict_df[cat_features] = features_to_predict_df[cat_features].astype(str)\n",
    "\n",
    "\n",
    "y_pred_log = model.predict(features_to_predict_df)\n",
    "\n",
    "display(y_pred_log)\n",
    "\n",
    "\n",
    "display(features_to_predict_df.head())\n",
    "\n",
    "\n",
    "## inverse log\n",
    "y_pred = np.exp(y_pred_log)\n",
    "\n",
    "prediction_20210707_c = pd.DataFrame({\"Price\":y_pred})\n",
    "display(prediction_20210707_c.head())"
   ]
  },
  {
   "cell_type": "code",
   "execution_count": null,
   "metadata": {},
   "outputs": [],
   "source": []
  },
  {
   "cell_type": "markdown",
   "metadata": {},
   "source": [
    "#### 005 Catboost and gridsearchcv"
   ]
  },
  {
   "cell_type": "markdown",
   "metadata": {},
   "source": [
    "> Testing grid searchcv on Catboost"
   ]
  },
  {
   "cell_type": "code",
   "execution_count": 59,
   "metadata": {},
   "outputs": [],
   "source": [
    "columns_to_keep = [\"Manufacturer\",\"Model\",\"Prod. year\",\"Category\",\"Leather interior\",\"Fuel type\", \"Cylinders\",\"Gear box type\", \\\n",
    " \"Drive wheels\", \"Doors\", \"Wheel\", \"Airbags\", \"Price\"]\n",
    "\n",
    "cat_features = [\"Manufacturer\",\"Model\",\"Prod. year\",\"Category\",\"Leather interior\",\"Fuel type\", \"Gear box type\", \\\n",
    " \"Drive wheels\", \"Doors\", \"Wheel\"]\n",
    "\n",
    "features_to_keep = train[columns_to_keep]\n",
    "\n",
    "#features_to_keep[\"Price\"] = np.log10(features_to_keep.Price)\n",
    "\n",
    "features_to_keep[cat_features] = features_to_keep[cat_features].astype(str)\n",
    "\n",
    "\n",
    "var_dict = {}\n",
    "var_dict[\"independant\"] = [\"Manufacturer\",\"Model\",\"Prod. year\",\"Category\",\"Leather interior\",\"Fuel type\", \"Cylinders\",\"Gear box type\", \\\n",
    " \"Drive wheels\", \"Doors\", \"Wheel\", \"Airbags\"]\n",
    "\n",
    "var_dict[\"dependant\"]   = [\"Price\"]"
   ]
  },
  {
   "cell_type": "code",
   "execution_count": null,
   "metadata": {},
   "outputs": [],
   "source": [
    "## Try next\n",
    "def rmsle(real, predicted):\n",
    "    '''\n",
    "    We can just use the np.sqrt(mean_squared_log_error(real,pred)))\n",
    "    '''\n",
    "    sum=0.0\n",
    "    for x in range(len(predicted)):\n",
    "        if predicted[x]<0 or real[x]<0: #check for negative values\n",
    "            continue\n",
    "        p = np.log(predicted[x]+1)\n",
    "        r = np.log(real[x]+1)\n",
    "        sum = sum + (p - r)**2\n",
    "    return (sum/len(predicted))**0.5"
   ]
  },
  {
   "cell_type": "code",
   "execution_count": 15,
   "metadata": {},
   "outputs": [],
   "source": [
    "## make your own scorer for gridsearch\n",
    "scorer = metrics.make_scorer(metrics.mean_squared_log_error)"
   ]
  },
  {
   "cell_type": "code",
   "execution_count": 16,
   "metadata": {},
   "outputs": [],
   "source": [
    "other_dict = {}\n",
    "other_dict[\"param_grid\"] = {'learning_rate': [0.03, 0.1],\n",
    "                            'depth': [4, 6, 10],\n",
    "                            'l2_leaf_reg': [1, 3, 5, 7, 9]}\n",
    "other_dict[\"scoring\"] = scorer\n",
    "other_dict[\"cv\"]      = 10"
   ]
  },
  {
   "cell_type": "code",
   "execution_count": 17,
   "metadata": {},
   "outputs": [],
   "source": [
    "params = {}\n",
    "params = {\"cat_features\": cat_features, \"loss_function\": \"RMSE\", \"iterations\" : 1000, \"verbose\":1000\\\n",
    "         ,\"od_type\" : \"Iter\",\"od_wait\" : 100}   ## Overfit detector parameters"
   ]
  },
  {
   "cell_type": "code",
   "execution_count": 19,
   "metadata": {
    "scrolled": false
   },
   "outputs": [
    {
     "name": "stderr",
     "output_type": "stream",
     "text": [
      "C:\\Users\\chris.dmello\\Anaconda3\\lib\\site-packages\\pandas\\core\\frame.py:3065: SettingWithCopyWarning: \n",
      "A value is trying to be set on a copy of a slice from a DataFrame.\n",
      "Try using .loc[row_indexer,col_indexer] = value instead\n",
      "\n",
      "See the caveats in the documentation: https://pandas.pydata.org/pandas-docs/stable/user_guide/indexing.html#returning-a-view-versus-a-copy\n",
      "  self[k1] = value[k2]\n"
     ]
    },
    {
     "name": "stdout",
     "output_type": "stream",
     "text": [
      "Fitting 10 folds for each of 30 candidates, totalling 300 fits\n",
      "[Parallel(n_jobs=-1)]: Using backend LokyBackend with 4 concurrent workers.\n",
      "[Parallel(n_jobs=-1)]: Done   1 tasks      | elapsed:    7.4s\n",
      "[Parallel(n_jobs=-1)]: Done   2 tasks      | elapsed:    7.4s\n",
      "[Parallel(n_jobs=-1)]: Done   3 tasks      | elapsed:    7.4s\n",
      "[Parallel(n_jobs=-1)]: Done   4 tasks      | elapsed:    7.4s\n",
      "[Parallel(n_jobs=-1)]: Done   5 tasks      | elapsed:   11.2s\n",
      "[Parallel(n_jobs=-1)]: Done   6 tasks      | elapsed:   11.2s\n",
      "[Parallel(n_jobs=-1)]: Done   7 tasks      | elapsed:   11.2s\n",
      "[Parallel(n_jobs=-1)]: Done   8 tasks      | elapsed:   11.3s\n",
      "[Parallel(n_jobs=-1)]: Done   9 tasks      | elapsed:   15.0s\n",
      "[Parallel(n_jobs=-1)]: Done  10 tasks      | elapsed:   15.0s\n",
      "[Parallel(n_jobs=-1)]: Done  11 tasks      | elapsed:   15.1s\n",
      "[Parallel(n_jobs=-1)]: Done  12 tasks      | elapsed:   15.1s\n",
      "[Parallel(n_jobs=-1)]: Done  13 tasks      | elapsed:   15.1s\n",
      "[Parallel(n_jobs=-1)]: Done  14 tasks      | elapsed:   15.1s\n",
      "[Parallel(n_jobs=-1)]: Done  15 tasks      | elapsed:   15.1s\n",
      "[Parallel(n_jobs=-1)]: Done  16 tasks      | elapsed:   15.1s\n",
      "[Parallel(n_jobs=-1)]: Done  17 tasks      | elapsed:   15.1s\n",
      "[Parallel(n_jobs=-1)]: Done  18 tasks      | elapsed:   15.1s\n",
      "[Parallel(n_jobs=-1)]: Done  19 tasks      | elapsed:   15.1s\n"
     ]
    },
    {
     "ename": "ValueError",
     "evalue": "Mean Squared Logarithmic Error cannot be used when targets contain negative values.",
     "output_type": "error",
     "traceback": [
      "\u001b[1;31m---------------------------------------------------------------------------\u001b[0m",
      "\u001b[1;31m_RemoteTraceback\u001b[0m                          Traceback (most recent call last)",
      "\u001b[1;31m_RemoteTraceback\u001b[0m: \n\"\"\"\nTraceback (most recent call last):\n  File \"C:\\Users\\chris.dmello\\Anaconda3\\lib\\site-packages\\joblib\\externals\\loky\\process_executor.py\", line 431, in _process_worker\n    r = call_item()\n  File \"C:\\Users\\chris.dmello\\Anaconda3\\lib\\site-packages\\joblib\\externals\\loky\\process_executor.py\", line 285, in __call__\n    return self.fn(*self.args, **self.kwargs)\n  File \"C:\\Users\\chris.dmello\\Anaconda3\\lib\\site-packages\\joblib\\_parallel_backends.py\", line 595, in __call__\n    return self.func(*args, **kwargs)\n  File \"C:\\Users\\chris.dmello\\Anaconda3\\lib\\site-packages\\joblib\\parallel.py\", line 262, in __call__\n    return [func(*args, **kwargs)\n  File \"C:\\Users\\chris.dmello\\Anaconda3\\lib\\site-packages\\joblib\\parallel.py\", line 262, in <listcomp>\n    return [func(*args, **kwargs)\n  File \"C:\\Users\\chris.dmello\\Anaconda3\\lib\\site-packages\\sklearn\\model_selection\\_validation.py\", line 560, in _fit_and_score\n    test_scores = _score(estimator, X_test, y_test, scorer)\n  File \"C:\\Users\\chris.dmello\\Anaconda3\\lib\\site-packages\\sklearn\\model_selection\\_validation.py\", line 607, in _score\n    scores = scorer(estimator, X_test, y_test)\n  File \"C:\\Users\\chris.dmello\\Anaconda3\\lib\\site-packages\\sklearn\\metrics\\_scorer.py\", line 87, in __call__\n    score = scorer._score(cached_call, estimator,\n  File \"C:\\Users\\chris.dmello\\Anaconda3\\lib\\site-packages\\sklearn\\metrics\\_scorer.py\", line 212, in _score\n    return self._sign * self._score_func(y_true, y_pred,\n  File \"C:\\Users\\chris.dmello\\Anaconda3\\lib\\site-packages\\sklearn\\utils\\validation.py\", line 72, in inner_f\n    return f(**kwargs)\n  File \"C:\\Users\\chris.dmello\\Anaconda3\\lib\\site-packages\\sklearn\\metrics\\_regression.py\", line 334, in mean_squared_log_error\n    raise ValueError(\"Mean Squared Logarithmic Error cannot be used when \"\nValueError: Mean Squared Logarithmic Error cannot be used when targets contain negative values.\n\"\"\"",
      "\nThe above exception was the direct cause of the following exception:\n",
      "\u001b[1;31mValueError\u001b[0m                                Traceback (most recent call last)",
      "\u001b[1;32m<ipython-input-19-4f631531e250>\u001b[0m in \u001b[0;36m<module>\u001b[1;34m\u001b[0m\n\u001b[0;32m      1\u001b[0m \u001b[0mcat_model\u001b[0m \u001b[1;33m=\u001b[0m \u001b[0mcatboost_regressor\u001b[0m\u001b[1;33m.\u001b[0m\u001b[0mnew_instance\u001b[0m\u001b[1;33m(\u001b[0m\u001b[1;33m)\u001b[0m\u001b[1;33m\u001b[0m\u001b[1;33m\u001b[0m\u001b[0m\n\u001b[0;32m      2\u001b[0m \u001b[1;33m\u001b[0m\u001b[0m\n\u001b[1;32m----> 3\u001b[1;33m \u001b[0mcat_model_cv_001\u001b[0m \u001b[1;33m=\u001b[0m \u001b[0mcat_model\u001b[0m\u001b[1;33m.\u001b[0m\u001b[0mmodel_run_cv_log\u001b[0m\u001b[1;33m(\u001b[0m\u001b[0mfeatures_to_keep\u001b[0m\u001b[1;33m,\u001b[0m \u001b[0mvar_dict\u001b[0m\u001b[1;33m,\u001b[0m  \u001b[0mother_dict\u001b[0m\u001b[1;33m)\u001b[0m\u001b[1;33m\u001b[0m\u001b[1;33m\u001b[0m\u001b[0m\n\u001b[0m",
      "\u001b[1;32m<ipython-input-10-39e7d900e87d>\u001b[0m in \u001b[0;36mmodel_run_cv_log\u001b[1;34m(self, df, var_dict, other_dict)\u001b[0m\n\u001b[0;32m    270\u001b[0m                                         verbose = 100)\n\u001b[0;32m    271\u001b[0m \u001b[1;33m\u001b[0m\u001b[0m\n\u001b[1;32m--> 272\u001b[1;33m         \u001b[0mgrid_search_ad\u001b[0m\u001b[1;33m.\u001b[0m\u001b[0mfit\u001b[0m\u001b[1;33m(\u001b[0m\u001b[0mX_train\u001b[0m\u001b[1;33m,\u001b[0m \u001b[0my_train\u001b[0m\u001b[1;33m)\u001b[0m\u001b[1;33m\u001b[0m\u001b[1;33m\u001b[0m\u001b[0m\n\u001b[0m\u001b[0;32m    273\u001b[0m         \u001b[0my_pred\u001b[0m \u001b[1;33m=\u001b[0m \u001b[0mgrid_search_ad\u001b[0m\u001b[1;33m.\u001b[0m\u001b[0mpredict\u001b[0m\u001b[1;33m(\u001b[0m\u001b[0mX_test\u001b[0m\u001b[1;33m)\u001b[0m\u001b[1;33m\u001b[0m\u001b[1;33m\u001b[0m\u001b[0m\n\u001b[0;32m    274\u001b[0m \u001b[1;33m\u001b[0m\u001b[0m\n",
      "\u001b[1;32m~\\Anaconda3\\lib\\site-packages\\sklearn\\utils\\validation.py\u001b[0m in \u001b[0;36minner_f\u001b[1;34m(*args, **kwargs)\u001b[0m\n\u001b[0;32m     70\u001b[0m                           FutureWarning)\n\u001b[0;32m     71\u001b[0m         \u001b[0mkwargs\u001b[0m\u001b[1;33m.\u001b[0m\u001b[0mupdate\u001b[0m\u001b[1;33m(\u001b[0m\u001b[1;33m{\u001b[0m\u001b[0mk\u001b[0m\u001b[1;33m:\u001b[0m \u001b[0marg\u001b[0m \u001b[1;32mfor\u001b[0m \u001b[0mk\u001b[0m\u001b[1;33m,\u001b[0m \u001b[0marg\u001b[0m \u001b[1;32min\u001b[0m \u001b[0mzip\u001b[0m\u001b[1;33m(\u001b[0m\u001b[0msig\u001b[0m\u001b[1;33m.\u001b[0m\u001b[0mparameters\u001b[0m\u001b[1;33m,\u001b[0m \u001b[0margs\u001b[0m\u001b[1;33m)\u001b[0m\u001b[1;33m}\u001b[0m\u001b[1;33m)\u001b[0m\u001b[1;33m\u001b[0m\u001b[1;33m\u001b[0m\u001b[0m\n\u001b[1;32m---> 72\u001b[1;33m         \u001b[1;32mreturn\u001b[0m \u001b[0mf\u001b[0m\u001b[1;33m(\u001b[0m\u001b[1;33m**\u001b[0m\u001b[0mkwargs\u001b[0m\u001b[1;33m)\u001b[0m\u001b[1;33m\u001b[0m\u001b[1;33m\u001b[0m\u001b[0m\n\u001b[0m\u001b[0;32m     73\u001b[0m     \u001b[1;32mreturn\u001b[0m \u001b[0minner_f\u001b[0m\u001b[1;33m\u001b[0m\u001b[1;33m\u001b[0m\u001b[0m\n\u001b[0;32m     74\u001b[0m \u001b[1;33m\u001b[0m\u001b[0m\n",
      "\u001b[1;32m~\\Anaconda3\\lib\\site-packages\\sklearn\\model_selection\\_search.py\u001b[0m in \u001b[0;36mfit\u001b[1;34m(self, X, y, groups, **fit_params)\u001b[0m\n\u001b[0;32m    734\u001b[0m                 \u001b[1;32mreturn\u001b[0m \u001b[0mresults\u001b[0m\u001b[1;33m\u001b[0m\u001b[1;33m\u001b[0m\u001b[0m\n\u001b[0;32m    735\u001b[0m \u001b[1;33m\u001b[0m\u001b[0m\n\u001b[1;32m--> 736\u001b[1;33m             \u001b[0mself\u001b[0m\u001b[1;33m.\u001b[0m\u001b[0m_run_search\u001b[0m\u001b[1;33m(\u001b[0m\u001b[0mevaluate_candidates\u001b[0m\u001b[1;33m)\u001b[0m\u001b[1;33m\u001b[0m\u001b[1;33m\u001b[0m\u001b[0m\n\u001b[0m\u001b[0;32m    737\u001b[0m \u001b[1;33m\u001b[0m\u001b[0m\n\u001b[0;32m    738\u001b[0m         \u001b[1;31m# For multi-metric evaluation, store the best_index_, best_params_ and\u001b[0m\u001b[1;33m\u001b[0m\u001b[1;33m\u001b[0m\u001b[1;33m\u001b[0m\u001b[0m\n",
      "\u001b[1;32m~\\Anaconda3\\lib\\site-packages\\sklearn\\model_selection\\_search.py\u001b[0m in \u001b[0;36m_run_search\u001b[1;34m(self, evaluate_candidates)\u001b[0m\n\u001b[0;32m   1186\u001b[0m     \u001b[1;32mdef\u001b[0m \u001b[0m_run_search\u001b[0m\u001b[1;33m(\u001b[0m\u001b[0mself\u001b[0m\u001b[1;33m,\u001b[0m \u001b[0mevaluate_candidates\u001b[0m\u001b[1;33m)\u001b[0m\u001b[1;33m:\u001b[0m\u001b[1;33m\u001b[0m\u001b[1;33m\u001b[0m\u001b[0m\n\u001b[0;32m   1187\u001b[0m         \u001b[1;34m\"\"\"Search all candidates in param_grid\"\"\"\u001b[0m\u001b[1;33m\u001b[0m\u001b[1;33m\u001b[0m\u001b[0m\n\u001b[1;32m-> 1188\u001b[1;33m         \u001b[0mevaluate_candidates\u001b[0m\u001b[1;33m(\u001b[0m\u001b[0mParameterGrid\u001b[0m\u001b[1;33m(\u001b[0m\u001b[0mself\u001b[0m\u001b[1;33m.\u001b[0m\u001b[0mparam_grid\u001b[0m\u001b[1;33m)\u001b[0m\u001b[1;33m)\u001b[0m\u001b[1;33m\u001b[0m\u001b[1;33m\u001b[0m\u001b[0m\n\u001b[0m\u001b[0;32m   1189\u001b[0m \u001b[1;33m\u001b[0m\u001b[0m\n\u001b[0;32m   1190\u001b[0m \u001b[1;33m\u001b[0m\u001b[0m\n",
      "\u001b[1;32m~\\Anaconda3\\lib\\site-packages\\sklearn\\model_selection\\_search.py\u001b[0m in \u001b[0;36mevaluate_candidates\u001b[1;34m(candidate_params)\u001b[0m\n\u001b[0;32m    706\u001b[0m                               n_splits, n_candidates, n_candidates * n_splits))\n\u001b[0;32m    707\u001b[0m \u001b[1;33m\u001b[0m\u001b[0m\n\u001b[1;32m--> 708\u001b[1;33m                 out = parallel(delayed(_fit_and_score)(clone(base_estimator),\n\u001b[0m\u001b[0;32m    709\u001b[0m                                                        \u001b[0mX\u001b[0m\u001b[1;33m,\u001b[0m \u001b[0my\u001b[0m\u001b[1;33m,\u001b[0m\u001b[1;33m\u001b[0m\u001b[1;33m\u001b[0m\u001b[0m\n\u001b[0;32m    710\u001b[0m                                                        \u001b[0mtrain\u001b[0m\u001b[1;33m=\u001b[0m\u001b[0mtrain\u001b[0m\u001b[1;33m,\u001b[0m \u001b[0mtest\u001b[0m\u001b[1;33m=\u001b[0m\u001b[0mtest\u001b[0m\u001b[1;33m,\u001b[0m\u001b[1;33m\u001b[0m\u001b[1;33m\u001b[0m\u001b[0m\n",
      "\u001b[1;32m~\\Anaconda3\\lib\\site-packages\\joblib\\parallel.py\u001b[0m in \u001b[0;36m__call__\u001b[1;34m(self, iterable)\u001b[0m\n\u001b[0;32m   1059\u001b[0m \u001b[1;33m\u001b[0m\u001b[0m\n\u001b[0;32m   1060\u001b[0m             \u001b[1;32mwith\u001b[0m \u001b[0mself\u001b[0m\u001b[1;33m.\u001b[0m\u001b[0m_backend\u001b[0m\u001b[1;33m.\u001b[0m\u001b[0mretrieval_context\u001b[0m\u001b[1;33m(\u001b[0m\u001b[1;33m)\u001b[0m\u001b[1;33m:\u001b[0m\u001b[1;33m\u001b[0m\u001b[1;33m\u001b[0m\u001b[0m\n\u001b[1;32m-> 1061\u001b[1;33m                 \u001b[0mself\u001b[0m\u001b[1;33m.\u001b[0m\u001b[0mretrieve\u001b[0m\u001b[1;33m(\u001b[0m\u001b[1;33m)\u001b[0m\u001b[1;33m\u001b[0m\u001b[1;33m\u001b[0m\u001b[0m\n\u001b[0m\u001b[0;32m   1062\u001b[0m             \u001b[1;31m# Make sure that we get a last message telling us we are done\u001b[0m\u001b[1;33m\u001b[0m\u001b[1;33m\u001b[0m\u001b[1;33m\u001b[0m\u001b[0m\n\u001b[0;32m   1063\u001b[0m             \u001b[0melapsed_time\u001b[0m \u001b[1;33m=\u001b[0m \u001b[0mtime\u001b[0m\u001b[1;33m.\u001b[0m\u001b[0mtime\u001b[0m\u001b[1;33m(\u001b[0m\u001b[1;33m)\u001b[0m \u001b[1;33m-\u001b[0m \u001b[0mself\u001b[0m\u001b[1;33m.\u001b[0m\u001b[0m_start_time\u001b[0m\u001b[1;33m\u001b[0m\u001b[1;33m\u001b[0m\u001b[0m\n",
      "\u001b[1;32m~\\Anaconda3\\lib\\site-packages\\joblib\\parallel.py\u001b[0m in \u001b[0;36mretrieve\u001b[1;34m(self)\u001b[0m\n\u001b[0;32m    938\u001b[0m             \u001b[1;32mtry\u001b[0m\u001b[1;33m:\u001b[0m\u001b[1;33m\u001b[0m\u001b[1;33m\u001b[0m\u001b[0m\n\u001b[0;32m    939\u001b[0m                 \u001b[1;32mif\u001b[0m \u001b[0mgetattr\u001b[0m\u001b[1;33m(\u001b[0m\u001b[0mself\u001b[0m\u001b[1;33m.\u001b[0m\u001b[0m_backend\u001b[0m\u001b[1;33m,\u001b[0m \u001b[1;34m'supports_timeout'\u001b[0m\u001b[1;33m,\u001b[0m \u001b[1;32mFalse\u001b[0m\u001b[1;33m)\u001b[0m\u001b[1;33m:\u001b[0m\u001b[1;33m\u001b[0m\u001b[1;33m\u001b[0m\u001b[0m\n\u001b[1;32m--> 940\u001b[1;33m                     \u001b[0mself\u001b[0m\u001b[1;33m.\u001b[0m\u001b[0m_output\u001b[0m\u001b[1;33m.\u001b[0m\u001b[0mextend\u001b[0m\u001b[1;33m(\u001b[0m\u001b[0mjob\u001b[0m\u001b[1;33m.\u001b[0m\u001b[0mget\u001b[0m\u001b[1;33m(\u001b[0m\u001b[0mtimeout\u001b[0m\u001b[1;33m=\u001b[0m\u001b[0mself\u001b[0m\u001b[1;33m.\u001b[0m\u001b[0mtimeout\u001b[0m\u001b[1;33m)\u001b[0m\u001b[1;33m)\u001b[0m\u001b[1;33m\u001b[0m\u001b[1;33m\u001b[0m\u001b[0m\n\u001b[0m\u001b[0;32m    941\u001b[0m                 \u001b[1;32melse\u001b[0m\u001b[1;33m:\u001b[0m\u001b[1;33m\u001b[0m\u001b[1;33m\u001b[0m\u001b[0m\n\u001b[0;32m    942\u001b[0m                     \u001b[0mself\u001b[0m\u001b[1;33m.\u001b[0m\u001b[0m_output\u001b[0m\u001b[1;33m.\u001b[0m\u001b[0mextend\u001b[0m\u001b[1;33m(\u001b[0m\u001b[0mjob\u001b[0m\u001b[1;33m.\u001b[0m\u001b[0mget\u001b[0m\u001b[1;33m(\u001b[0m\u001b[1;33m)\u001b[0m\u001b[1;33m)\u001b[0m\u001b[1;33m\u001b[0m\u001b[1;33m\u001b[0m\u001b[0m\n",
      "\u001b[1;32m~\\Anaconda3\\lib\\site-packages\\joblib\\_parallel_backends.py\u001b[0m in \u001b[0;36mwrap_future_result\u001b[1;34m(future, timeout)\u001b[0m\n\u001b[0;32m    540\u001b[0m         AsyncResults.get from multiprocessing.\"\"\"\n\u001b[0;32m    541\u001b[0m         \u001b[1;32mtry\u001b[0m\u001b[1;33m:\u001b[0m\u001b[1;33m\u001b[0m\u001b[1;33m\u001b[0m\u001b[0m\n\u001b[1;32m--> 542\u001b[1;33m             \u001b[1;32mreturn\u001b[0m \u001b[0mfuture\u001b[0m\u001b[1;33m.\u001b[0m\u001b[0mresult\u001b[0m\u001b[1;33m(\u001b[0m\u001b[0mtimeout\u001b[0m\u001b[1;33m=\u001b[0m\u001b[0mtimeout\u001b[0m\u001b[1;33m)\u001b[0m\u001b[1;33m\u001b[0m\u001b[1;33m\u001b[0m\u001b[0m\n\u001b[0m\u001b[0;32m    543\u001b[0m         \u001b[1;32mexcept\u001b[0m \u001b[0mCfTimeoutError\u001b[0m \u001b[1;32mas\u001b[0m \u001b[0me\u001b[0m\u001b[1;33m:\u001b[0m\u001b[1;33m\u001b[0m\u001b[1;33m\u001b[0m\u001b[0m\n\u001b[0;32m    544\u001b[0m             \u001b[1;32mraise\u001b[0m \u001b[0mTimeoutError\u001b[0m \u001b[1;32mfrom\u001b[0m \u001b[0me\u001b[0m\u001b[1;33m\u001b[0m\u001b[1;33m\u001b[0m\u001b[0m\n",
      "\u001b[1;32m~\\Anaconda3\\lib\\concurrent\\futures\\_base.py\u001b[0m in \u001b[0;36mresult\u001b[1;34m(self, timeout)\u001b[0m\n\u001b[0;32m    437\u001b[0m                 \u001b[1;32mraise\u001b[0m \u001b[0mCancelledError\u001b[0m\u001b[1;33m(\u001b[0m\u001b[1;33m)\u001b[0m\u001b[1;33m\u001b[0m\u001b[1;33m\u001b[0m\u001b[0m\n\u001b[0;32m    438\u001b[0m             \u001b[1;32melif\u001b[0m \u001b[0mself\u001b[0m\u001b[1;33m.\u001b[0m\u001b[0m_state\u001b[0m \u001b[1;33m==\u001b[0m \u001b[0mFINISHED\u001b[0m\u001b[1;33m:\u001b[0m\u001b[1;33m\u001b[0m\u001b[1;33m\u001b[0m\u001b[0m\n\u001b[1;32m--> 439\u001b[1;33m                 \u001b[1;32mreturn\u001b[0m \u001b[0mself\u001b[0m\u001b[1;33m.\u001b[0m\u001b[0m__get_result\u001b[0m\u001b[1;33m(\u001b[0m\u001b[1;33m)\u001b[0m\u001b[1;33m\u001b[0m\u001b[1;33m\u001b[0m\u001b[0m\n\u001b[0m\u001b[0;32m    440\u001b[0m             \u001b[1;32melse\u001b[0m\u001b[1;33m:\u001b[0m\u001b[1;33m\u001b[0m\u001b[1;33m\u001b[0m\u001b[0m\n\u001b[0;32m    441\u001b[0m                 \u001b[1;32mraise\u001b[0m \u001b[0mTimeoutError\u001b[0m\u001b[1;33m(\u001b[0m\u001b[1;33m)\u001b[0m\u001b[1;33m\u001b[0m\u001b[1;33m\u001b[0m\u001b[0m\n",
      "\u001b[1;32m~\\Anaconda3\\lib\\concurrent\\futures\\_base.py\u001b[0m in \u001b[0;36m__get_result\u001b[1;34m(self)\u001b[0m\n\u001b[0;32m    386\u001b[0m     \u001b[1;32mdef\u001b[0m \u001b[0m__get_result\u001b[0m\u001b[1;33m(\u001b[0m\u001b[0mself\u001b[0m\u001b[1;33m)\u001b[0m\u001b[1;33m:\u001b[0m\u001b[1;33m\u001b[0m\u001b[1;33m\u001b[0m\u001b[0m\n\u001b[0;32m    387\u001b[0m         \u001b[1;32mif\u001b[0m \u001b[0mself\u001b[0m\u001b[1;33m.\u001b[0m\u001b[0m_exception\u001b[0m\u001b[1;33m:\u001b[0m\u001b[1;33m\u001b[0m\u001b[1;33m\u001b[0m\u001b[0m\n\u001b[1;32m--> 388\u001b[1;33m             \u001b[1;32mraise\u001b[0m \u001b[0mself\u001b[0m\u001b[1;33m.\u001b[0m\u001b[0m_exception\u001b[0m\u001b[1;33m\u001b[0m\u001b[1;33m\u001b[0m\u001b[0m\n\u001b[0m\u001b[0;32m    389\u001b[0m         \u001b[1;32melse\u001b[0m\u001b[1;33m:\u001b[0m\u001b[1;33m\u001b[0m\u001b[1;33m\u001b[0m\u001b[0m\n\u001b[0;32m    390\u001b[0m             \u001b[1;32mreturn\u001b[0m \u001b[0mself\u001b[0m\u001b[1;33m.\u001b[0m\u001b[0m_result\u001b[0m\u001b[1;33m\u001b[0m\u001b[1;33m\u001b[0m\u001b[0m\n",
      "\u001b[1;31mValueError\u001b[0m: Mean Squared Logarithmic Error cannot be used when targets contain negative values."
     ]
    }
   ],
   "source": [
    "cat_model = catboost_regressor.new_instance()\n",
    "\n",
    "cat_model_cv_001 = cat_model.model_run_cv_log(features_to_keep, var_dict,  other_dict)"
   ]
  },
  {
   "cell_type": "markdown",
   "metadata": {},
   "source": [
    "#### To fix the previous error we use MSE for now. \n",
    ">ValueError: Mean Squared Logarithmic Error cannot be used when targets contain negative values.\n"
   ]
  },
  {
   "cell_type": "code",
   "execution_count": 20,
   "metadata": {},
   "outputs": [],
   "source": [
    "## make your own scorer for gridsearch\n",
    "scorer = metrics.make_scorer(metrics.mean_squared_error)\n",
    "\n",
    "other_dict = {}\n",
    "other_dict[\"param_grid\"] = {'learning_rate': [0.03, 0.1],\n",
    "                            'depth': [4, 6, 10],\n",
    "                            'l2_leaf_reg': [1, 3, 5, 7, 9]}\n",
    "other_dict[\"scoring\"] = scorer\n",
    "other_dict[\"cv\"]      = 10"
   ]
  },
  {
   "cell_type": "code",
   "execution_count": 21,
   "metadata": {
    "scrolled": false
   },
   "outputs": [
    {
     "name": "stderr",
     "output_type": "stream",
     "text": [
      "<ipython-input-10-39e7d900e87d>:251: RuntimeWarning: invalid value encountered in log\n",
      "  df[label] = np.log(df[label])\n"
     ]
    },
    {
     "name": "stdout",
     "output_type": "stream",
     "text": [
      "Fitting 10 folds for each of 30 candidates, totalling 300 fits\n",
      "[Parallel(n_jobs=-1)]: Using backend LokyBackend with 4 concurrent workers.\n",
      "[Parallel(n_jobs=-1)]: Done   1 tasks      | elapsed:    3.7s\n",
      "[Parallel(n_jobs=-1)]: Done   2 tasks      | elapsed:    3.7s\n",
      "[Parallel(n_jobs=-1)]: Done   3 tasks      | elapsed:    3.7s\n",
      "[Parallel(n_jobs=-1)]: Done   4 tasks      | elapsed:    3.7s\n",
      "[Parallel(n_jobs=-1)]: Done   5 tasks      | elapsed:    4.0s\n",
      "[Parallel(n_jobs=-1)]: Done   6 tasks      | elapsed:    4.0s\n",
      "[Parallel(n_jobs=-1)]: Done   7 tasks      | elapsed:    4.0s\n",
      "[Parallel(n_jobs=-1)]: Done   8 tasks      | elapsed:    4.1s\n",
      "[Parallel(n_jobs=-1)]: Done   9 tasks      | elapsed:    4.2s\n",
      "[Parallel(n_jobs=-1)]: Done  10 tasks      | elapsed:    4.3s\n",
      "[Parallel(n_jobs=-1)]: Done  11 tasks      | elapsed:    4.3s\n",
      "[Parallel(n_jobs=-1)]: Done  12 tasks      | elapsed:    4.5s\n",
      "[Parallel(n_jobs=-1)]: Done  13 tasks      | elapsed:    4.5s\n",
      "[Parallel(n_jobs=-1)]: Done  14 tasks      | elapsed:    4.5s\n",
      "[Parallel(n_jobs=-1)]: Done  15 tasks      | elapsed:    4.6s\n",
      "[Parallel(n_jobs=-1)]: Done  16 tasks      | elapsed:    4.7s\n",
      "[Parallel(n_jobs=-1)]: Done  17 tasks      | elapsed:    4.7s\n",
      "[Parallel(n_jobs=-1)]: Done  18 tasks      | elapsed:    4.8s\n",
      "[Parallel(n_jobs=-1)]: Done  19 tasks      | elapsed:    4.8s\n",
      "[Parallel(n_jobs=-1)]: Done  20 tasks      | elapsed:    5.0s\n",
      "[Parallel(n_jobs=-1)]: Done  21 tasks      | elapsed:    5.0s\n",
      "[Parallel(n_jobs=-1)]: Done  22 tasks      | elapsed:    5.2s\n",
      "[Parallel(n_jobs=-1)]: Done  23 tasks      | elapsed:    5.2s\n",
      "[Parallel(n_jobs=-1)]: Done  24 tasks      | elapsed:    5.3s\n",
      "[Parallel(n_jobs=-1)]: Done  25 tasks      | elapsed:    5.3s\n",
      "[Parallel(n_jobs=-1)]: Done  26 tasks      | elapsed:    5.5s\n",
      "[Parallel(n_jobs=-1)]: Done  27 tasks      | elapsed:    5.6s\n",
      "[Parallel(n_jobs=-1)]: Done  28 tasks      | elapsed:    5.8s\n",
      "[Parallel(n_jobs=-1)]: Done  29 tasks      | elapsed:    5.9s\n",
      "[Parallel(n_jobs=-1)]: Done  30 tasks      | elapsed:    6.1s\n",
      "[Parallel(n_jobs=-1)]: Done  31 tasks      | elapsed:    6.3s\n",
      "[Parallel(n_jobs=-1)]: Done  32 tasks      | elapsed:    6.5s\n",
      "[Parallel(n_jobs=-1)]: Done  33 tasks      | elapsed:    6.7s\n",
      "[Parallel(n_jobs=-1)]: Done  34 tasks      | elapsed:    6.9s\n",
      "[Parallel(n_jobs=-1)]: Done  35 tasks      | elapsed:    7.0s\n",
      "[Parallel(n_jobs=-1)]: Done  36 tasks      | elapsed:    8.1s\n",
      "[Parallel(n_jobs=-1)]: Done  37 tasks      | elapsed:    8.1s\n",
      "[Parallel(n_jobs=-1)]: Done  38 tasks      | elapsed:    8.1s\n",
      "[Parallel(n_jobs=-1)]: Done  39 tasks      | elapsed:    8.1s\n",
      "[Parallel(n_jobs=-1)]: Done  40 tasks      | elapsed:    8.1s\n",
      "[Parallel(n_jobs=-1)]: Done  41 tasks      | elapsed:    8.1s\n",
      "[Parallel(n_jobs=-1)]: Done  42 tasks      | elapsed:    8.1s\n",
      "[Parallel(n_jobs=-1)]: Done  43 tasks      | elapsed:    8.1s\n"
     ]
    },
    {
     "ename": "ValueError",
     "evalue": "Input contains NaN, infinity or a value too large for dtype('float64').",
     "output_type": "error",
     "traceback": [
      "\u001b[1;31m---------------------------------------------------------------------------\u001b[0m",
      "\u001b[1;31m_RemoteTraceback\u001b[0m                          Traceback (most recent call last)",
      "\u001b[1;31m_RemoteTraceback\u001b[0m: \n\"\"\"\nTraceback (most recent call last):\n  File \"C:\\Users\\chris.dmello\\Anaconda3\\lib\\site-packages\\joblib\\externals\\loky\\process_executor.py\", line 431, in _process_worker\n    r = call_item()\n  File \"C:\\Users\\chris.dmello\\Anaconda3\\lib\\site-packages\\joblib\\externals\\loky\\process_executor.py\", line 285, in __call__\n    return self.fn(*self.args, **self.kwargs)\n  File \"C:\\Users\\chris.dmello\\Anaconda3\\lib\\site-packages\\joblib\\_parallel_backends.py\", line 595, in __call__\n    return self.func(*args, **kwargs)\n  File \"C:\\Users\\chris.dmello\\Anaconda3\\lib\\site-packages\\joblib\\parallel.py\", line 262, in __call__\n    return [func(*args, **kwargs)\n  File \"C:\\Users\\chris.dmello\\Anaconda3\\lib\\site-packages\\joblib\\parallel.py\", line 262, in <listcomp>\n    return [func(*args, **kwargs)\n  File \"C:\\Users\\chris.dmello\\Anaconda3\\lib\\site-packages\\sklearn\\model_selection\\_validation.py\", line 560, in _fit_and_score\n    test_scores = _score(estimator, X_test, y_test, scorer)\n  File \"C:\\Users\\chris.dmello\\Anaconda3\\lib\\site-packages\\sklearn\\model_selection\\_validation.py\", line 607, in _score\n    scores = scorer(estimator, X_test, y_test)\n  File \"C:\\Users\\chris.dmello\\Anaconda3\\lib\\site-packages\\sklearn\\metrics\\_scorer.py\", line 87, in __call__\n    score = scorer._score(cached_call, estimator,\n  File \"C:\\Users\\chris.dmello\\Anaconda3\\lib\\site-packages\\sklearn\\metrics\\_scorer.py\", line 212, in _score\n    return self._sign * self._score_func(y_true, y_pred,\n  File \"C:\\Users\\chris.dmello\\Anaconda3\\lib\\site-packages\\sklearn\\utils\\validation.py\", line 72, in inner_f\n    return f(**kwargs)\n  File \"C:\\Users\\chris.dmello\\Anaconda3\\lib\\site-packages\\sklearn\\metrics\\_regression.py\", line 255, in mean_squared_error\n    y_type, y_true, y_pred, multioutput = _check_reg_targets(\n  File \"C:\\Users\\chris.dmello\\Anaconda3\\lib\\site-packages\\sklearn\\metrics\\_regression.py\", line 85, in _check_reg_targets\n    y_true = check_array(y_true, ensure_2d=False, dtype=dtype)\n  File \"C:\\Users\\chris.dmello\\Anaconda3\\lib\\site-packages\\sklearn\\utils\\validation.py\", line 72, in inner_f\n    return f(**kwargs)\n  File \"C:\\Users\\chris.dmello\\Anaconda3\\lib\\site-packages\\sklearn\\utils\\validation.py\", line 644, in check_array\n    _assert_all_finite(array,\n  File \"C:\\Users\\chris.dmello\\Anaconda3\\lib\\site-packages\\sklearn\\utils\\validation.py\", line 96, in _assert_all_finite\n    raise ValueError(\nValueError: Input contains NaN, infinity or a value too large for dtype('float64').\n\"\"\"",
      "\nThe above exception was the direct cause of the following exception:\n",
      "\u001b[1;31mValueError\u001b[0m                                Traceback (most recent call last)",
      "\u001b[1;32m<ipython-input-21-4f631531e250>\u001b[0m in \u001b[0;36m<module>\u001b[1;34m\u001b[0m\n\u001b[0;32m      1\u001b[0m \u001b[0mcat_model\u001b[0m \u001b[1;33m=\u001b[0m \u001b[0mcatboost_regressor\u001b[0m\u001b[1;33m.\u001b[0m\u001b[0mnew_instance\u001b[0m\u001b[1;33m(\u001b[0m\u001b[1;33m)\u001b[0m\u001b[1;33m\u001b[0m\u001b[1;33m\u001b[0m\u001b[0m\n\u001b[0;32m      2\u001b[0m \u001b[1;33m\u001b[0m\u001b[0m\n\u001b[1;32m----> 3\u001b[1;33m \u001b[0mcat_model_cv_001\u001b[0m \u001b[1;33m=\u001b[0m \u001b[0mcat_model\u001b[0m\u001b[1;33m.\u001b[0m\u001b[0mmodel_run_cv_log\u001b[0m\u001b[1;33m(\u001b[0m\u001b[0mfeatures_to_keep\u001b[0m\u001b[1;33m,\u001b[0m \u001b[0mvar_dict\u001b[0m\u001b[1;33m,\u001b[0m  \u001b[0mother_dict\u001b[0m\u001b[1;33m)\u001b[0m\u001b[1;33m\u001b[0m\u001b[1;33m\u001b[0m\u001b[0m\n\u001b[0m",
      "\u001b[1;32m<ipython-input-10-39e7d900e87d>\u001b[0m in \u001b[0;36mmodel_run_cv_log\u001b[1;34m(self, df, var_dict, other_dict)\u001b[0m\n\u001b[0;32m    270\u001b[0m                                         verbose = 100)\n\u001b[0;32m    271\u001b[0m \u001b[1;33m\u001b[0m\u001b[0m\n\u001b[1;32m--> 272\u001b[1;33m         \u001b[0mgrid_search_ad\u001b[0m\u001b[1;33m.\u001b[0m\u001b[0mfit\u001b[0m\u001b[1;33m(\u001b[0m\u001b[0mX_train\u001b[0m\u001b[1;33m,\u001b[0m \u001b[0my_train\u001b[0m\u001b[1;33m)\u001b[0m\u001b[1;33m\u001b[0m\u001b[1;33m\u001b[0m\u001b[0m\n\u001b[0m\u001b[0;32m    273\u001b[0m         \u001b[0my_pred\u001b[0m \u001b[1;33m=\u001b[0m \u001b[0mgrid_search_ad\u001b[0m\u001b[1;33m.\u001b[0m\u001b[0mpredict\u001b[0m\u001b[1;33m(\u001b[0m\u001b[0mX_test\u001b[0m\u001b[1;33m)\u001b[0m\u001b[1;33m\u001b[0m\u001b[1;33m\u001b[0m\u001b[0m\n\u001b[0;32m    274\u001b[0m \u001b[1;33m\u001b[0m\u001b[0m\n",
      "\u001b[1;32m~\\Anaconda3\\lib\\site-packages\\sklearn\\utils\\validation.py\u001b[0m in \u001b[0;36minner_f\u001b[1;34m(*args, **kwargs)\u001b[0m\n\u001b[0;32m     70\u001b[0m                           FutureWarning)\n\u001b[0;32m     71\u001b[0m         \u001b[0mkwargs\u001b[0m\u001b[1;33m.\u001b[0m\u001b[0mupdate\u001b[0m\u001b[1;33m(\u001b[0m\u001b[1;33m{\u001b[0m\u001b[0mk\u001b[0m\u001b[1;33m:\u001b[0m \u001b[0marg\u001b[0m \u001b[1;32mfor\u001b[0m \u001b[0mk\u001b[0m\u001b[1;33m,\u001b[0m \u001b[0marg\u001b[0m \u001b[1;32min\u001b[0m \u001b[0mzip\u001b[0m\u001b[1;33m(\u001b[0m\u001b[0msig\u001b[0m\u001b[1;33m.\u001b[0m\u001b[0mparameters\u001b[0m\u001b[1;33m,\u001b[0m \u001b[0margs\u001b[0m\u001b[1;33m)\u001b[0m\u001b[1;33m}\u001b[0m\u001b[1;33m)\u001b[0m\u001b[1;33m\u001b[0m\u001b[1;33m\u001b[0m\u001b[0m\n\u001b[1;32m---> 72\u001b[1;33m         \u001b[1;32mreturn\u001b[0m \u001b[0mf\u001b[0m\u001b[1;33m(\u001b[0m\u001b[1;33m**\u001b[0m\u001b[0mkwargs\u001b[0m\u001b[1;33m)\u001b[0m\u001b[1;33m\u001b[0m\u001b[1;33m\u001b[0m\u001b[0m\n\u001b[0m\u001b[0;32m     73\u001b[0m     \u001b[1;32mreturn\u001b[0m \u001b[0minner_f\u001b[0m\u001b[1;33m\u001b[0m\u001b[1;33m\u001b[0m\u001b[0m\n\u001b[0;32m     74\u001b[0m \u001b[1;33m\u001b[0m\u001b[0m\n",
      "\u001b[1;32m~\\Anaconda3\\lib\\site-packages\\sklearn\\model_selection\\_search.py\u001b[0m in \u001b[0;36mfit\u001b[1;34m(self, X, y, groups, **fit_params)\u001b[0m\n\u001b[0;32m    734\u001b[0m                 \u001b[1;32mreturn\u001b[0m \u001b[0mresults\u001b[0m\u001b[1;33m\u001b[0m\u001b[1;33m\u001b[0m\u001b[0m\n\u001b[0;32m    735\u001b[0m \u001b[1;33m\u001b[0m\u001b[0m\n\u001b[1;32m--> 736\u001b[1;33m             \u001b[0mself\u001b[0m\u001b[1;33m.\u001b[0m\u001b[0m_run_search\u001b[0m\u001b[1;33m(\u001b[0m\u001b[0mevaluate_candidates\u001b[0m\u001b[1;33m)\u001b[0m\u001b[1;33m\u001b[0m\u001b[1;33m\u001b[0m\u001b[0m\n\u001b[0m\u001b[0;32m    737\u001b[0m \u001b[1;33m\u001b[0m\u001b[0m\n\u001b[0;32m    738\u001b[0m         \u001b[1;31m# For multi-metric evaluation, store the best_index_, best_params_ and\u001b[0m\u001b[1;33m\u001b[0m\u001b[1;33m\u001b[0m\u001b[1;33m\u001b[0m\u001b[0m\n",
      "\u001b[1;32m~\\Anaconda3\\lib\\site-packages\\sklearn\\model_selection\\_search.py\u001b[0m in \u001b[0;36m_run_search\u001b[1;34m(self, evaluate_candidates)\u001b[0m\n\u001b[0;32m   1186\u001b[0m     \u001b[1;32mdef\u001b[0m \u001b[0m_run_search\u001b[0m\u001b[1;33m(\u001b[0m\u001b[0mself\u001b[0m\u001b[1;33m,\u001b[0m \u001b[0mevaluate_candidates\u001b[0m\u001b[1;33m)\u001b[0m\u001b[1;33m:\u001b[0m\u001b[1;33m\u001b[0m\u001b[1;33m\u001b[0m\u001b[0m\n\u001b[0;32m   1187\u001b[0m         \u001b[1;34m\"\"\"Search all candidates in param_grid\"\"\"\u001b[0m\u001b[1;33m\u001b[0m\u001b[1;33m\u001b[0m\u001b[0m\n\u001b[1;32m-> 1188\u001b[1;33m         \u001b[0mevaluate_candidates\u001b[0m\u001b[1;33m(\u001b[0m\u001b[0mParameterGrid\u001b[0m\u001b[1;33m(\u001b[0m\u001b[0mself\u001b[0m\u001b[1;33m.\u001b[0m\u001b[0mparam_grid\u001b[0m\u001b[1;33m)\u001b[0m\u001b[1;33m)\u001b[0m\u001b[1;33m\u001b[0m\u001b[1;33m\u001b[0m\u001b[0m\n\u001b[0m\u001b[0;32m   1189\u001b[0m \u001b[1;33m\u001b[0m\u001b[0m\n\u001b[0;32m   1190\u001b[0m \u001b[1;33m\u001b[0m\u001b[0m\n",
      "\u001b[1;32m~\\Anaconda3\\lib\\site-packages\\sklearn\\model_selection\\_search.py\u001b[0m in \u001b[0;36mevaluate_candidates\u001b[1;34m(candidate_params)\u001b[0m\n\u001b[0;32m    706\u001b[0m                               n_splits, n_candidates, n_candidates * n_splits))\n\u001b[0;32m    707\u001b[0m \u001b[1;33m\u001b[0m\u001b[0m\n\u001b[1;32m--> 708\u001b[1;33m                 out = parallel(delayed(_fit_and_score)(clone(base_estimator),\n\u001b[0m\u001b[0;32m    709\u001b[0m                                                        \u001b[0mX\u001b[0m\u001b[1;33m,\u001b[0m \u001b[0my\u001b[0m\u001b[1;33m,\u001b[0m\u001b[1;33m\u001b[0m\u001b[1;33m\u001b[0m\u001b[0m\n\u001b[0;32m    710\u001b[0m                                                        \u001b[0mtrain\u001b[0m\u001b[1;33m=\u001b[0m\u001b[0mtrain\u001b[0m\u001b[1;33m,\u001b[0m \u001b[0mtest\u001b[0m\u001b[1;33m=\u001b[0m\u001b[0mtest\u001b[0m\u001b[1;33m,\u001b[0m\u001b[1;33m\u001b[0m\u001b[1;33m\u001b[0m\u001b[0m\n",
      "\u001b[1;32m~\\Anaconda3\\lib\\site-packages\\joblib\\parallel.py\u001b[0m in \u001b[0;36m__call__\u001b[1;34m(self, iterable)\u001b[0m\n\u001b[0;32m   1059\u001b[0m \u001b[1;33m\u001b[0m\u001b[0m\n\u001b[0;32m   1060\u001b[0m             \u001b[1;32mwith\u001b[0m \u001b[0mself\u001b[0m\u001b[1;33m.\u001b[0m\u001b[0m_backend\u001b[0m\u001b[1;33m.\u001b[0m\u001b[0mretrieval_context\u001b[0m\u001b[1;33m(\u001b[0m\u001b[1;33m)\u001b[0m\u001b[1;33m:\u001b[0m\u001b[1;33m\u001b[0m\u001b[1;33m\u001b[0m\u001b[0m\n\u001b[1;32m-> 1061\u001b[1;33m                 \u001b[0mself\u001b[0m\u001b[1;33m.\u001b[0m\u001b[0mretrieve\u001b[0m\u001b[1;33m(\u001b[0m\u001b[1;33m)\u001b[0m\u001b[1;33m\u001b[0m\u001b[1;33m\u001b[0m\u001b[0m\n\u001b[0m\u001b[0;32m   1062\u001b[0m             \u001b[1;31m# Make sure that we get a last message telling us we are done\u001b[0m\u001b[1;33m\u001b[0m\u001b[1;33m\u001b[0m\u001b[1;33m\u001b[0m\u001b[0m\n\u001b[0;32m   1063\u001b[0m             \u001b[0melapsed_time\u001b[0m \u001b[1;33m=\u001b[0m \u001b[0mtime\u001b[0m\u001b[1;33m.\u001b[0m\u001b[0mtime\u001b[0m\u001b[1;33m(\u001b[0m\u001b[1;33m)\u001b[0m \u001b[1;33m-\u001b[0m \u001b[0mself\u001b[0m\u001b[1;33m.\u001b[0m\u001b[0m_start_time\u001b[0m\u001b[1;33m\u001b[0m\u001b[1;33m\u001b[0m\u001b[0m\n",
      "\u001b[1;32m~\\Anaconda3\\lib\\site-packages\\joblib\\parallel.py\u001b[0m in \u001b[0;36mretrieve\u001b[1;34m(self)\u001b[0m\n\u001b[0;32m    938\u001b[0m             \u001b[1;32mtry\u001b[0m\u001b[1;33m:\u001b[0m\u001b[1;33m\u001b[0m\u001b[1;33m\u001b[0m\u001b[0m\n\u001b[0;32m    939\u001b[0m                 \u001b[1;32mif\u001b[0m \u001b[0mgetattr\u001b[0m\u001b[1;33m(\u001b[0m\u001b[0mself\u001b[0m\u001b[1;33m.\u001b[0m\u001b[0m_backend\u001b[0m\u001b[1;33m,\u001b[0m \u001b[1;34m'supports_timeout'\u001b[0m\u001b[1;33m,\u001b[0m \u001b[1;32mFalse\u001b[0m\u001b[1;33m)\u001b[0m\u001b[1;33m:\u001b[0m\u001b[1;33m\u001b[0m\u001b[1;33m\u001b[0m\u001b[0m\n\u001b[1;32m--> 940\u001b[1;33m                     \u001b[0mself\u001b[0m\u001b[1;33m.\u001b[0m\u001b[0m_output\u001b[0m\u001b[1;33m.\u001b[0m\u001b[0mextend\u001b[0m\u001b[1;33m(\u001b[0m\u001b[0mjob\u001b[0m\u001b[1;33m.\u001b[0m\u001b[0mget\u001b[0m\u001b[1;33m(\u001b[0m\u001b[0mtimeout\u001b[0m\u001b[1;33m=\u001b[0m\u001b[0mself\u001b[0m\u001b[1;33m.\u001b[0m\u001b[0mtimeout\u001b[0m\u001b[1;33m)\u001b[0m\u001b[1;33m)\u001b[0m\u001b[1;33m\u001b[0m\u001b[1;33m\u001b[0m\u001b[0m\n\u001b[0m\u001b[0;32m    941\u001b[0m                 \u001b[1;32melse\u001b[0m\u001b[1;33m:\u001b[0m\u001b[1;33m\u001b[0m\u001b[1;33m\u001b[0m\u001b[0m\n\u001b[0;32m    942\u001b[0m                     \u001b[0mself\u001b[0m\u001b[1;33m.\u001b[0m\u001b[0m_output\u001b[0m\u001b[1;33m.\u001b[0m\u001b[0mextend\u001b[0m\u001b[1;33m(\u001b[0m\u001b[0mjob\u001b[0m\u001b[1;33m.\u001b[0m\u001b[0mget\u001b[0m\u001b[1;33m(\u001b[0m\u001b[1;33m)\u001b[0m\u001b[1;33m)\u001b[0m\u001b[1;33m\u001b[0m\u001b[1;33m\u001b[0m\u001b[0m\n",
      "\u001b[1;32m~\\Anaconda3\\lib\\site-packages\\joblib\\_parallel_backends.py\u001b[0m in \u001b[0;36mwrap_future_result\u001b[1;34m(future, timeout)\u001b[0m\n\u001b[0;32m    540\u001b[0m         AsyncResults.get from multiprocessing.\"\"\"\n\u001b[0;32m    541\u001b[0m         \u001b[1;32mtry\u001b[0m\u001b[1;33m:\u001b[0m\u001b[1;33m\u001b[0m\u001b[1;33m\u001b[0m\u001b[0m\n\u001b[1;32m--> 542\u001b[1;33m             \u001b[1;32mreturn\u001b[0m \u001b[0mfuture\u001b[0m\u001b[1;33m.\u001b[0m\u001b[0mresult\u001b[0m\u001b[1;33m(\u001b[0m\u001b[0mtimeout\u001b[0m\u001b[1;33m=\u001b[0m\u001b[0mtimeout\u001b[0m\u001b[1;33m)\u001b[0m\u001b[1;33m\u001b[0m\u001b[1;33m\u001b[0m\u001b[0m\n\u001b[0m\u001b[0;32m    543\u001b[0m         \u001b[1;32mexcept\u001b[0m \u001b[0mCfTimeoutError\u001b[0m \u001b[1;32mas\u001b[0m \u001b[0me\u001b[0m\u001b[1;33m:\u001b[0m\u001b[1;33m\u001b[0m\u001b[1;33m\u001b[0m\u001b[0m\n\u001b[0;32m    544\u001b[0m             \u001b[1;32mraise\u001b[0m \u001b[0mTimeoutError\u001b[0m \u001b[1;32mfrom\u001b[0m \u001b[0me\u001b[0m\u001b[1;33m\u001b[0m\u001b[1;33m\u001b[0m\u001b[0m\n",
      "\u001b[1;32m~\\Anaconda3\\lib\\concurrent\\futures\\_base.py\u001b[0m in \u001b[0;36mresult\u001b[1;34m(self, timeout)\u001b[0m\n\u001b[0;32m    437\u001b[0m                 \u001b[1;32mraise\u001b[0m \u001b[0mCancelledError\u001b[0m\u001b[1;33m(\u001b[0m\u001b[1;33m)\u001b[0m\u001b[1;33m\u001b[0m\u001b[1;33m\u001b[0m\u001b[0m\n\u001b[0;32m    438\u001b[0m             \u001b[1;32melif\u001b[0m \u001b[0mself\u001b[0m\u001b[1;33m.\u001b[0m\u001b[0m_state\u001b[0m \u001b[1;33m==\u001b[0m \u001b[0mFINISHED\u001b[0m\u001b[1;33m:\u001b[0m\u001b[1;33m\u001b[0m\u001b[1;33m\u001b[0m\u001b[0m\n\u001b[1;32m--> 439\u001b[1;33m                 \u001b[1;32mreturn\u001b[0m \u001b[0mself\u001b[0m\u001b[1;33m.\u001b[0m\u001b[0m__get_result\u001b[0m\u001b[1;33m(\u001b[0m\u001b[1;33m)\u001b[0m\u001b[1;33m\u001b[0m\u001b[1;33m\u001b[0m\u001b[0m\n\u001b[0m\u001b[0;32m    440\u001b[0m             \u001b[1;32melse\u001b[0m\u001b[1;33m:\u001b[0m\u001b[1;33m\u001b[0m\u001b[1;33m\u001b[0m\u001b[0m\n\u001b[0;32m    441\u001b[0m                 \u001b[1;32mraise\u001b[0m \u001b[0mTimeoutError\u001b[0m\u001b[1;33m(\u001b[0m\u001b[1;33m)\u001b[0m\u001b[1;33m\u001b[0m\u001b[1;33m\u001b[0m\u001b[0m\n",
      "\u001b[1;32m~\\Anaconda3\\lib\\concurrent\\futures\\_base.py\u001b[0m in \u001b[0;36m__get_result\u001b[1;34m(self)\u001b[0m\n\u001b[0;32m    386\u001b[0m     \u001b[1;32mdef\u001b[0m \u001b[0m__get_result\u001b[0m\u001b[1;33m(\u001b[0m\u001b[0mself\u001b[0m\u001b[1;33m)\u001b[0m\u001b[1;33m:\u001b[0m\u001b[1;33m\u001b[0m\u001b[1;33m\u001b[0m\u001b[0m\n\u001b[0;32m    387\u001b[0m         \u001b[1;32mif\u001b[0m \u001b[0mself\u001b[0m\u001b[1;33m.\u001b[0m\u001b[0m_exception\u001b[0m\u001b[1;33m:\u001b[0m\u001b[1;33m\u001b[0m\u001b[1;33m\u001b[0m\u001b[0m\n\u001b[1;32m--> 388\u001b[1;33m             \u001b[1;32mraise\u001b[0m \u001b[0mself\u001b[0m\u001b[1;33m.\u001b[0m\u001b[0m_exception\u001b[0m\u001b[1;33m\u001b[0m\u001b[1;33m\u001b[0m\u001b[0m\n\u001b[0m\u001b[0;32m    389\u001b[0m         \u001b[1;32melse\u001b[0m\u001b[1;33m:\u001b[0m\u001b[1;33m\u001b[0m\u001b[1;33m\u001b[0m\u001b[0m\n\u001b[0;32m    390\u001b[0m             \u001b[1;32mreturn\u001b[0m \u001b[0mself\u001b[0m\u001b[1;33m.\u001b[0m\u001b[0m_result\u001b[0m\u001b[1;33m\u001b[0m\u001b[1;33m\u001b[0m\u001b[0m\n",
      "\u001b[1;31mValueError\u001b[0m: Input contains NaN, infinity or a value too large for dtype('float64')."
     ]
    }
   ],
   "source": [
    "cat_model = catboost_regressor.new_instance()\n",
    "\n",
    "cat_model_cv_001 = cat_model.model_run_cv_log(features_to_keep, var_dict,  other_dict)"
   ]
  },
  {
   "cell_type": "markdown",
   "metadata": {},
   "source": [
    "[1](https://www.kaggle.com/questions-and-answers/132668)"
   ]
  },
  {
   "cell_type": "markdown",
   "metadata": {},
   "source": [
    "> I updated the regressor class and I think I did not reload the class here hence this error, or could be due to negative prediction even using the log tranformation. will deal with this later. "
   ]
  },
  {
   "cell_type": "code",
   "execution_count": 28,
   "metadata": {
    "scrolled": false
   },
   "outputs": [
    {
     "name": "stderr",
     "output_type": "stream",
     "text": [
      "C:\\Users\\chris.dmello\\Anaconda3\\lib\\site-packages\\pandas\\core\\frame.py:3065: SettingWithCopyWarning: \n",
      "A value is trying to be set on a copy of a slice from a DataFrame.\n",
      "Try using .loc[row_indexer,col_indexer] = value instead\n",
      "\n",
      "See the caveats in the documentation: https://pandas.pydata.org/pandas-docs/stable/user_guide/indexing.html#returning-a-view-versus-a-copy\n",
      "  self[k1] = value[k2]\n"
     ]
    },
    {
     "name": "stdout",
     "output_type": "stream",
     "text": [
      "Fitting 5 folds for each of 8 candidates, totalling 40 fits\n",
      "[Parallel(n_jobs=-1)]: Using backend LokyBackend with 4 concurrent workers.\n",
      "[Parallel(n_jobs=-1)]: Done   1 tasks      | elapsed:    3.7s\n",
      "[Parallel(n_jobs=-1)]: Done   2 tasks      | elapsed:    3.7s\n",
      "[Parallel(n_jobs=-1)]: Done   3 tasks      | elapsed:    3.7s\n",
      "[Parallel(n_jobs=-1)]: Done   4 tasks      | elapsed:    3.7s\n",
      "[Parallel(n_jobs=-1)]: Done   5 tasks      | elapsed:    7.4s\n",
      "[Parallel(n_jobs=-1)]: Done   6 tasks      | elapsed:    7.4s\n",
      "[Parallel(n_jobs=-1)]: Done   7 tasks      | elapsed:    7.5s\n",
      "[Parallel(n_jobs=-1)]: Done   8 tasks      | elapsed:    7.5s\n",
      "[Parallel(n_jobs=-1)]: Done   9 tasks      | elapsed:   11.1s\n",
      "[Parallel(n_jobs=-1)]: Done  10 tasks      | elapsed:   11.2s\n",
      "[Parallel(n_jobs=-1)]: Done  11 tasks      | elapsed:   11.2s\n",
      "[Parallel(n_jobs=-1)]: Done  12 tasks      | elapsed:   11.3s\n",
      "[Parallel(n_jobs=-1)]: Done  13 tasks      | elapsed:   14.9s\n",
      "[Parallel(n_jobs=-1)]: Done  14 tasks      | elapsed:   15.0s\n",
      "[Parallel(n_jobs=-1)]: Done  15 tasks      | elapsed:   15.0s\n",
      "[Parallel(n_jobs=-1)]: Done  16 tasks      | elapsed:   15.1s\n",
      "[Parallel(n_jobs=-1)]: Done  17 tasks      | elapsed:   18.6s\n",
      "[Parallel(n_jobs=-1)]: Done  18 tasks      | elapsed:   18.7s\n",
      "[Parallel(n_jobs=-1)]: Done  19 tasks      | elapsed:   18.7s\n",
      "[Parallel(n_jobs=-1)]: Done  20 tasks      | elapsed:   18.7s\n",
      "[Parallel(n_jobs=-1)]: Done  21 tasks      | elapsed:   24.0s\n",
      "[Parallel(n_jobs=-1)]: Done  22 tasks      | elapsed:   24.1s\n",
      "[Parallel(n_jobs=-1)]: Done  23 tasks      | elapsed:   24.1s\n",
      "[Parallel(n_jobs=-1)]: Done  24 tasks      | elapsed:   24.1s\n",
      "[Parallel(n_jobs=-1)]: Done  25 tasks      | elapsed:   29.8s\n",
      "[Parallel(n_jobs=-1)]: Done  26 tasks      | elapsed:   29.8s\n",
      "[Parallel(n_jobs=-1)]: Done  27 tasks      | elapsed:   29.8s\n",
      "[Parallel(n_jobs=-1)]: Done  28 tasks      | elapsed:   29.9s\n",
      "[Parallel(n_jobs=-1)]: Done  29 tasks      | elapsed:   35.5s\n",
      "[Parallel(n_jobs=-1)]: Done  30 tasks      | elapsed:   35.8s\n",
      "[Parallel(n_jobs=-1)]: Done  31 tasks      | elapsed:   35.8s\n",
      "[Parallel(n_jobs=-1)]: Done  32 tasks      | elapsed:   35.8s\n",
      "[Parallel(n_jobs=-1)]: Done  33 tasks      | elapsed:   41.7s\n",
      "[Parallel(n_jobs=-1)]: Done  34 out of  40 | elapsed:   41.8s remaining:    7.3s\n",
      "[Parallel(n_jobs=-1)]: Done  35 out of  40 | elapsed:   41.9s remaining:    5.9s\n",
      "[Parallel(n_jobs=-1)]: Done  36 out of  40 | elapsed:   41.9s remaining:    4.6s\n",
      "[Parallel(n_jobs=-1)]: Done  37 out of  40 | elapsed:   47.3s remaining:    3.7s\n",
      "[Parallel(n_jobs=-1)]: Done  38 out of  40 | elapsed:   47.3s remaining:    2.4s\n",
      "[Parallel(n_jobs=-1)]: Done  40 out of  40 | elapsed:   47.3s remaining:    0.0s\n",
      "[Parallel(n_jobs=-1)]: Done  40 out of  40 | elapsed:   47.3s finished\n",
      "0:\tlearn: 0.0764093\ttotal: 32.9ms\tremaining: 3.26s\n",
      "99:\tlearn: 0.0658688\ttotal: 1.81s\tremaining: 0us\n"
     ]
    }
   ],
   "source": [
    "## make your own scorer for gridsearch\n",
    "scorer = metrics.make_scorer(metrics.mean_squared_error)\n",
    "\n",
    "params = {\"cat_features\": cat_features, \"loss_function\": \"RMSE\", \"iterations\" : 100, \"verbose\":100}\n",
    "\n",
    "other_dict = {}\n",
    "other_dict[\"param_grid\"] = {'learning_rate': [0.03, 0.1],\n",
    "                            'depth': [4, 6],\n",
    "                            'l2_leaf_reg': [1, 3]}\n",
    "other_dict[\"scoring\"] = scorer\n",
    "other_dict[\"cv\"]      = 5  ## general practice to give 5 or 10\n",
    "\n",
    "cat_model = catboost_regressor.new_instance(params)\n",
    "\n",
    "cat_model_cv_001 = cat_model.model_run_cv_log(features_to_keep, var_dict,  other_dict)"
   ]
  },
  {
   "cell_type": "code",
   "execution_count": 29,
   "metadata": {},
   "outputs": [
    {
     "data": {
      "text/plain": [
       "{'mae': 0.036532481309109764,\n",
       " 'mse': 0.004610336396932952,\n",
       " 'rmse': 0.06789945800176134,\n",
       " 'r2': 0.241074463897888,\n",
       " 'grid_search_ad.score': 0.004610336396932952,\n",
       " 'model_score': 0.004610336396932952,\n",
       " 'model': GridSearchCV(cv=5,\n",
       "              estimator=<catboost.core.CatBoostRegressor object at 0x0000028F115C08B0>,\n",
       "              n_jobs=-1,\n",
       "              param_grid={'depth': [4, 6], 'l2_leaf_reg': [1, 3],\n",
       "                          'learning_rate': [0.03, 0.1]},\n",
       "              scoring=make_scorer(mean_squared_error), verbose=100),\n",
       " 'y_test':           Price\n",
       " 736    1.201099\n",
       " 8674   1.170640\n",
       " 5971   1.212635\n",
       " 1957   1.211199\n",
       " 11075  1.213535\n",
       " ...         ...\n",
       " 18231  1.243323\n",
       " 1082   1.209175\n",
       " 6206   1.172605\n",
       " 9124   0.988075\n",
       " 1935   1.173999\n",
       " \n",
       " [4810 rows x 1 columns],\n",
       " 'y_pred': array([1.1622135 , 1.1725631 , 1.14605914, ..., 1.17890382, 1.10036455,\n",
       "        1.17944324])}"
      ]
     },
     "execution_count": 29,
     "metadata": {},
     "output_type": "execute_result"
    }
   ],
   "source": [
    "cat_model_cv_001"
   ]
  },
  {
   "cell_type": "code",
   "execution_count": 31,
   "metadata": {},
   "outputs": [
    {
     "data": {
      "text/plain": [
       "array([3.197002  , 3.23026151, 3.14577141, ..., 3.25080877, 3.0052614 ,\n",
       "       3.25256282])"
      ]
     },
     "execution_count": 31,
     "metadata": {},
     "output_type": "execute_result"
    }
   ],
   "source": [
    "y_pred = np.exp(cat_model_cv_001[\"y_pred\"])\n",
    "y_pred"
   ]
  },
  {
   "cell_type": "code",
   "execution_count": 33,
   "metadata": {},
   "outputs": [
    {
     "name": "stderr",
     "output_type": "stream",
     "text": [
      "C:\\Users\\chris.dmello\\Anaconda3\\lib\\site-packages\\pandas\\core\\frame.py:3065: SettingWithCopyWarning: \n",
      "A value is trying to be set on a copy of a slice from a DataFrame.\n",
      "Try using .loc[row_indexer,col_indexer] = value instead\n",
      "\n",
      "See the caveats in the documentation: https://pandas.pydata.org/pandas-docs/stable/user_guide/indexing.html#returning-a-view-versus-a-copy\n",
      "  self[k1] = value[k2]\n"
     ]
    },
    {
     "data": {
      "text/html": [
       "<div>\n",
       "<style scoped>\n",
       "    .dataframe tbody tr th:only-of-type {\n",
       "        vertical-align: middle;\n",
       "    }\n",
       "\n",
       "    .dataframe tbody tr th {\n",
       "        vertical-align: top;\n",
       "    }\n",
       "\n",
       "    .dataframe thead th {\n",
       "        text-align: right;\n",
       "    }\n",
       "</style>\n",
       "<table border=\"1\" class=\"dataframe\">\n",
       "  <thead>\n",
       "    <tr style=\"text-align: right;\">\n",
       "      <th></th>\n",
       "      <th>Manufacturer</th>\n",
       "      <th>Model</th>\n",
       "      <th>Prod. year</th>\n",
       "      <th>Category</th>\n",
       "      <th>Leather interior</th>\n",
       "      <th>Fuel type</th>\n",
       "      <th>Cylinders</th>\n",
       "      <th>Gear box type</th>\n",
       "      <th>Drive wheels</th>\n",
       "      <th>Doors</th>\n",
       "      <th>Wheel</th>\n",
       "      <th>Airbags</th>\n",
       "    </tr>\n",
       "  </thead>\n",
       "  <tbody>\n",
       "    <tr>\n",
       "      <th>0</th>\n",
       "      <td>VOLKSWAGEN</td>\n",
       "      <td>Golf</td>\n",
       "      <td>2012</td>\n",
       "      <td>Hatchback</td>\n",
       "      <td>No</td>\n",
       "      <td>Diesel</td>\n",
       "      <td>4</td>\n",
       "      <td>Manual</td>\n",
       "      <td>Front</td>\n",
       "      <td>02-Mar</td>\n",
       "      <td>Left wheel</td>\n",
       "      <td>10</td>\n",
       "    </tr>\n",
       "    <tr>\n",
       "      <th>1</th>\n",
       "      <td>HYUNDAI</td>\n",
       "      <td>Sonata</td>\n",
       "      <td>2012</td>\n",
       "      <td>Sedan</td>\n",
       "      <td>Yes</td>\n",
       "      <td>Petrol</td>\n",
       "      <td>4</td>\n",
       "      <td>Tiptronic</td>\n",
       "      <td>Front</td>\n",
       "      <td>04-May</td>\n",
       "      <td>Left wheel</td>\n",
       "      <td>10</td>\n",
       "    </tr>\n",
       "    <tr>\n",
       "      <th>2</th>\n",
       "      <td>NISSAN</td>\n",
       "      <td>Tiida</td>\n",
       "      <td>2005</td>\n",
       "      <td>Sedan</td>\n",
       "      <td>No</td>\n",
       "      <td>Petrol</td>\n",
       "      <td>4</td>\n",
       "      <td>Automatic</td>\n",
       "      <td>Front</td>\n",
       "      <td>04-May</td>\n",
       "      <td>Right-hand drive</td>\n",
       "      <td>8</td>\n",
       "    </tr>\n",
       "    <tr>\n",
       "      <th>3</th>\n",
       "      <td>VOLVO</td>\n",
       "      <td>XC90</td>\n",
       "      <td>2012</td>\n",
       "      <td>Jeep</td>\n",
       "      <td>Yes</td>\n",
       "      <td>Petrol</td>\n",
       "      <td>6</td>\n",
       "      <td>Automatic</td>\n",
       "      <td>4x4</td>\n",
       "      <td>04-May</td>\n",
       "      <td>Left wheel</td>\n",
       "      <td>12</td>\n",
       "    </tr>\n",
       "    <tr>\n",
       "      <th>4</th>\n",
       "      <td>OPEL</td>\n",
       "      <td>Astra</td>\n",
       "      <td>1993</td>\n",
       "      <td>Hatchback</td>\n",
       "      <td>No</td>\n",
       "      <td>Petrol</td>\n",
       "      <td>4</td>\n",
       "      <td>Manual</td>\n",
       "      <td>Front</td>\n",
       "      <td>04-May</td>\n",
       "      <td>Left wheel</td>\n",
       "      <td>0</td>\n",
       "    </tr>\n",
       "  </tbody>\n",
       "</table>\n",
       "</div>"
      ],
      "text/plain": [
       "  Manufacturer   Model Prod. year   Category Leather interior Fuel type  \\\n",
       "0   VOLKSWAGEN    Golf       2012  Hatchback               No    Diesel   \n",
       "1      HYUNDAI  Sonata       2012      Sedan              Yes    Petrol   \n",
       "2       NISSAN   Tiida       2005      Sedan               No    Petrol   \n",
       "3        VOLVO    XC90       2012       Jeep              Yes    Petrol   \n",
       "4         OPEL   Astra       1993  Hatchback               No    Petrol   \n",
       "\n",
       "   Cylinders Gear box type Drive wheels   Doors             Wheel  Airbags  \n",
       "0          4        Manual        Front  02-Mar        Left wheel       10  \n",
       "1          4     Tiptronic        Front  04-May        Left wheel       10  \n",
       "2          4     Automatic        Front  04-May  Right-hand drive        8  \n",
       "3          6     Automatic          4x4  04-May        Left wheel       12  \n",
       "4          4        Manual        Front  04-May        Left wheel        0  "
      ]
     },
     "metadata": {},
     "output_type": "display_data"
    },
    {
     "data": {
      "text/html": [
       "<div>\n",
       "<style scoped>\n",
       "    .dataframe tbody tr th:only-of-type {\n",
       "        vertical-align: middle;\n",
       "    }\n",
       "\n",
       "    .dataframe tbody tr th {\n",
       "        vertical-align: top;\n",
       "    }\n",
       "\n",
       "    .dataframe thead th {\n",
       "        text-align: right;\n",
       "    }\n",
       "</style>\n",
       "<table border=\"1\" class=\"dataframe\">\n",
       "  <thead>\n",
       "    <tr style=\"text-align: right;\">\n",
       "      <th></th>\n",
       "      <th>Price</th>\n",
       "    </tr>\n",
       "  </thead>\n",
       "  <tbody>\n",
       "    <tr>\n",
       "      <th>0</th>\n",
       "      <td>3.220368</td>\n",
       "    </tr>\n",
       "    <tr>\n",
       "      <th>1</th>\n",
       "      <td>3.254283</td>\n",
       "    </tr>\n",
       "    <tr>\n",
       "      <th>2</th>\n",
       "      <td>3.055927</td>\n",
       "    </tr>\n",
       "    <tr>\n",
       "      <th>3</th>\n",
       "      <td>3.065853</td>\n",
       "    </tr>\n",
       "    <tr>\n",
       "      <th>4</th>\n",
       "      <td>3.106917</td>\n",
       "    </tr>\n",
       "  </tbody>\n",
       "</table>\n",
       "</div>"
      ],
      "text/plain": [
       "      Price\n",
       "0  3.220368\n",
       "1  3.254283\n",
       "2  3.055927\n",
       "3  3.065853\n",
       "4  3.106917"
      ]
     },
     "execution_count": 33,
     "metadata": {},
     "output_type": "execute_result"
    }
   ],
   "source": [
    "columns_to_keep = [\"Manufacturer\",\"Model\",\"Prod. year\",\"Category\",\"Leather interior\",\"Fuel type\", \"Cylinders\",\"Gear box type\", \\\n",
    " \"Drive wheels\", \"Doors\", \"Wheel\", \"Airbags\"]\n",
    "\n",
    "cat_features = [\"Manufacturer\",\"Model\",\"Prod. year\",\"Category\",\"Leather interior\",\"Fuel type\", \"Gear box type\", \\\n",
    " \"Drive wheels\", \"Doors\", \"Wheel\"]\n",
    "\n",
    "features_to_predict_df = test[columns_to_keep]\n",
    "\n",
    "features_to_predict_df[cat_features] = features_to_predict_df[cat_features].astype(str)\n",
    "\n",
    "\n",
    "y_pred_log = cat_model_cv_001[\"model\"].predict(features_to_predict_df)\n",
    "\n",
    "display(features_to_predict_df.head())\n",
    "\n",
    "## inverse log\n",
    "y_pred = np.exp(y_pred_log)\n",
    "\n",
    "prediction_20210707_a = pd.DataFrame({\"Price\":y_pred})\n",
    "prediction_20210707_a.head()\n"
   ]
  },
  {
   "cell_type": "markdown",
   "metadata": {},
   "source": [
    "> The prediction are too low and need to be in and around $10000's"
   ]
  },
  {
   "cell_type": "code",
   "execution_count": 39,
   "metadata": {},
   "outputs": [
    {
     "data": {
      "text/plain": [
       "{'depth': 4, 'l2_leaf_reg': 3, 'learning_rate': 0.03}"
      ]
     },
     "execution_count": 39,
     "metadata": {},
     "output_type": "execute_result"
    }
   ],
   "source": [
    "cat_model_cv_001[\"model\"].best_params_"
   ]
  },
  {
   "cell_type": "markdown",
   "metadata": {},
   "source": [
    "#### Try again"
   ]
  },
  {
   "cell_type": "code",
   "execution_count": 58,
   "metadata": {
    "scrolled": false
   },
   "outputs": [
    {
     "ename": "ValueError",
     "evalue": "Input contains NaN, infinity or a value too large for dtype('float64').",
     "output_type": "error",
     "traceback": [
      "\u001b[1;31m---------------------------------------------------------------------------\u001b[0m",
      "\u001b[1;31m_RemoteTraceback\u001b[0m                          Traceback (most recent call last)",
      "\u001b[1;31m_RemoteTraceback\u001b[0m: \n\"\"\"\nTraceback (most recent call last):\n  File \"C:\\Users\\chris.dmello\\Anaconda3\\lib\\site-packages\\joblib\\externals\\loky\\process_executor.py\", line 431, in _process_worker\n    r = call_item()\n  File \"C:\\Users\\chris.dmello\\Anaconda3\\lib\\site-packages\\joblib\\externals\\loky\\process_executor.py\", line 285, in __call__\n    return self.fn(*self.args, **self.kwargs)\n  File \"C:\\Users\\chris.dmello\\Anaconda3\\lib\\site-packages\\joblib\\_parallel_backends.py\", line 595, in __call__\n    return self.func(*args, **kwargs)\n  File \"C:\\Users\\chris.dmello\\Anaconda3\\lib\\site-packages\\joblib\\parallel.py\", line 262, in __call__\n    return [func(*args, **kwargs)\n  File \"C:\\Users\\chris.dmello\\Anaconda3\\lib\\site-packages\\joblib\\parallel.py\", line 262, in <listcomp>\n    return [func(*args, **kwargs)\n  File \"C:\\Users\\chris.dmello\\Anaconda3\\lib\\site-packages\\sklearn\\model_selection\\_validation.py\", line 560, in _fit_and_score\n    test_scores = _score(estimator, X_test, y_test, scorer)\n  File \"C:\\Users\\chris.dmello\\Anaconda3\\lib\\site-packages\\sklearn\\model_selection\\_validation.py\", line 607, in _score\n    scores = scorer(estimator, X_test, y_test)\n  File \"C:\\Users\\chris.dmello\\Anaconda3\\lib\\site-packages\\sklearn\\metrics\\_scorer.py\", line 87, in __call__\n    score = scorer._score(cached_call, estimator,\n  File \"C:\\Users\\chris.dmello\\Anaconda3\\lib\\site-packages\\sklearn\\metrics\\_scorer.py\", line 212, in _score\n    return self._sign * self._score_func(y_true, y_pred,\n  File \"C:\\Users\\chris.dmello\\Anaconda3\\lib\\site-packages\\sklearn\\utils\\validation.py\", line 72, in inner_f\n    return f(**kwargs)\n  File \"C:\\Users\\chris.dmello\\Anaconda3\\lib\\site-packages\\sklearn\\metrics\\_regression.py\", line 255, in mean_squared_error\n    y_type, y_true, y_pred, multioutput = _check_reg_targets(\n  File \"C:\\Users\\chris.dmello\\Anaconda3\\lib\\site-packages\\sklearn\\metrics\\_regression.py\", line 85, in _check_reg_targets\n    y_true = check_array(y_true, ensure_2d=False, dtype=dtype)\n  File \"C:\\Users\\chris.dmello\\Anaconda3\\lib\\site-packages\\sklearn\\utils\\validation.py\", line 72, in inner_f\n    return f(**kwargs)\n  File \"C:\\Users\\chris.dmello\\Anaconda3\\lib\\site-packages\\sklearn\\utils\\validation.py\", line 644, in check_array\n    _assert_all_finite(array,\n  File \"C:\\Users\\chris.dmello\\Anaconda3\\lib\\site-packages\\sklearn\\utils\\validation.py\", line 96, in _assert_all_finite\n    raise ValueError(\nValueError: Input contains NaN, infinity or a value too large for dtype('float64').\n\"\"\"",
      "\nThe above exception was the direct cause of the following exception:\n",
      "\u001b[1;31mValueError\u001b[0m                                Traceback (most recent call last)",
      "\u001b[1;32m<ipython-input-58-cbe474f4b6dc>\u001b[0m in \u001b[0;36m<module>\u001b[1;34m\u001b[0m\n\u001b[0;32m     11\u001b[0m \u001b[0mcat_model\u001b[0m \u001b[1;33m=\u001b[0m \u001b[0mcatboost_regressor\u001b[0m\u001b[1;33m.\u001b[0m\u001b[0mnew_instance\u001b[0m\u001b[1;33m(\u001b[0m\u001b[0mparams\u001b[0m\u001b[1;33m)\u001b[0m\u001b[1;33m\u001b[0m\u001b[1;33m\u001b[0m\u001b[0m\n\u001b[0;32m     12\u001b[0m \u001b[1;33m\u001b[0m\u001b[0m\n\u001b[1;32m---> 13\u001b[1;33m \u001b[0mcat_model_cv_002\u001b[0m \u001b[1;33m=\u001b[0m \u001b[0mcat_model\u001b[0m\u001b[1;33m.\u001b[0m\u001b[0mmodel_run_cv_log\u001b[0m\u001b[1;33m(\u001b[0m\u001b[0mfeatures_to_keep\u001b[0m\u001b[1;33m,\u001b[0m \u001b[0mvar_dict\u001b[0m\u001b[1;33m,\u001b[0m  \u001b[0mother_dict\u001b[0m\u001b[1;33m)\u001b[0m\u001b[1;33m\u001b[0m\u001b[1;33m\u001b[0m\u001b[0m\n\u001b[0m",
      "\u001b[1;32m<ipython-input-57-e654a308bac9>\u001b[0m in \u001b[0;36mmodel_run_cv_log\u001b[1;34m(self, df, var_dict, other_dict)\u001b[0m\n\u001b[0;32m    277\u001b[0m \u001b[1;33m\u001b[0m\u001b[0m\n\u001b[0;32m    278\u001b[0m \u001b[1;33m\u001b[0m\u001b[0m\n\u001b[1;32m--> 279\u001b[1;33m         \u001b[0mgrid_search_ad\u001b[0m\u001b[1;33m.\u001b[0m\u001b[0mfit\u001b[0m\u001b[1;33m(\u001b[0m\u001b[0mX_train\u001b[0m\u001b[1;33m,\u001b[0m \u001b[0my_train\u001b[0m\u001b[1;33m)\u001b[0m\u001b[1;33m\u001b[0m\u001b[1;33m\u001b[0m\u001b[0m\n\u001b[0m\u001b[0;32m    280\u001b[0m \u001b[1;33m\u001b[0m\u001b[0m\n\u001b[0;32m    281\u001b[0m         \u001b[0my_pred\u001b[0m \u001b[1;33m=\u001b[0m \u001b[0mgrid_search_ad\u001b[0m\u001b[1;33m.\u001b[0m\u001b[0mpredict\u001b[0m\u001b[1;33m(\u001b[0m\u001b[0mX_test\u001b[0m\u001b[1;33m)\u001b[0m\u001b[1;33m\u001b[0m\u001b[1;33m\u001b[0m\u001b[0m\n",
      "\u001b[1;32m~\\Anaconda3\\lib\\site-packages\\sklearn\\utils\\validation.py\u001b[0m in \u001b[0;36minner_f\u001b[1;34m(*args, **kwargs)\u001b[0m\n\u001b[0;32m     70\u001b[0m                           FutureWarning)\n\u001b[0;32m     71\u001b[0m         \u001b[0mkwargs\u001b[0m\u001b[1;33m.\u001b[0m\u001b[0mupdate\u001b[0m\u001b[1;33m(\u001b[0m\u001b[1;33m{\u001b[0m\u001b[0mk\u001b[0m\u001b[1;33m:\u001b[0m \u001b[0marg\u001b[0m \u001b[1;32mfor\u001b[0m \u001b[0mk\u001b[0m\u001b[1;33m,\u001b[0m \u001b[0marg\u001b[0m \u001b[1;32min\u001b[0m \u001b[0mzip\u001b[0m\u001b[1;33m(\u001b[0m\u001b[0msig\u001b[0m\u001b[1;33m.\u001b[0m\u001b[0mparameters\u001b[0m\u001b[1;33m,\u001b[0m \u001b[0margs\u001b[0m\u001b[1;33m)\u001b[0m\u001b[1;33m}\u001b[0m\u001b[1;33m)\u001b[0m\u001b[1;33m\u001b[0m\u001b[1;33m\u001b[0m\u001b[0m\n\u001b[1;32m---> 72\u001b[1;33m         \u001b[1;32mreturn\u001b[0m \u001b[0mf\u001b[0m\u001b[1;33m(\u001b[0m\u001b[1;33m**\u001b[0m\u001b[0mkwargs\u001b[0m\u001b[1;33m)\u001b[0m\u001b[1;33m\u001b[0m\u001b[1;33m\u001b[0m\u001b[0m\n\u001b[0m\u001b[0;32m     73\u001b[0m     \u001b[1;32mreturn\u001b[0m \u001b[0minner_f\u001b[0m\u001b[1;33m\u001b[0m\u001b[1;33m\u001b[0m\u001b[0m\n\u001b[0;32m     74\u001b[0m \u001b[1;33m\u001b[0m\u001b[0m\n",
      "\u001b[1;32m~\\Anaconda3\\lib\\site-packages\\sklearn\\model_selection\\_search.py\u001b[0m in \u001b[0;36mfit\u001b[1;34m(self, X, y, groups, **fit_params)\u001b[0m\n\u001b[0;32m    734\u001b[0m                 \u001b[1;32mreturn\u001b[0m \u001b[0mresults\u001b[0m\u001b[1;33m\u001b[0m\u001b[1;33m\u001b[0m\u001b[0m\n\u001b[0;32m    735\u001b[0m \u001b[1;33m\u001b[0m\u001b[0m\n\u001b[1;32m--> 736\u001b[1;33m             \u001b[0mself\u001b[0m\u001b[1;33m.\u001b[0m\u001b[0m_run_search\u001b[0m\u001b[1;33m(\u001b[0m\u001b[0mevaluate_candidates\u001b[0m\u001b[1;33m)\u001b[0m\u001b[1;33m\u001b[0m\u001b[1;33m\u001b[0m\u001b[0m\n\u001b[0m\u001b[0;32m    737\u001b[0m \u001b[1;33m\u001b[0m\u001b[0m\n\u001b[0;32m    738\u001b[0m         \u001b[1;31m# For multi-metric evaluation, store the best_index_, best_params_ and\u001b[0m\u001b[1;33m\u001b[0m\u001b[1;33m\u001b[0m\u001b[1;33m\u001b[0m\u001b[0m\n",
      "\u001b[1;32m~\\Anaconda3\\lib\\site-packages\\sklearn\\model_selection\\_search.py\u001b[0m in \u001b[0;36m_run_search\u001b[1;34m(self, evaluate_candidates)\u001b[0m\n\u001b[0;32m   1186\u001b[0m     \u001b[1;32mdef\u001b[0m \u001b[0m_run_search\u001b[0m\u001b[1;33m(\u001b[0m\u001b[0mself\u001b[0m\u001b[1;33m,\u001b[0m \u001b[0mevaluate_candidates\u001b[0m\u001b[1;33m)\u001b[0m\u001b[1;33m:\u001b[0m\u001b[1;33m\u001b[0m\u001b[1;33m\u001b[0m\u001b[0m\n\u001b[0;32m   1187\u001b[0m         \u001b[1;34m\"\"\"Search all candidates in param_grid\"\"\"\u001b[0m\u001b[1;33m\u001b[0m\u001b[1;33m\u001b[0m\u001b[0m\n\u001b[1;32m-> 1188\u001b[1;33m         \u001b[0mevaluate_candidates\u001b[0m\u001b[1;33m(\u001b[0m\u001b[0mParameterGrid\u001b[0m\u001b[1;33m(\u001b[0m\u001b[0mself\u001b[0m\u001b[1;33m.\u001b[0m\u001b[0mparam_grid\u001b[0m\u001b[1;33m)\u001b[0m\u001b[1;33m)\u001b[0m\u001b[1;33m\u001b[0m\u001b[1;33m\u001b[0m\u001b[0m\n\u001b[0m\u001b[0;32m   1189\u001b[0m \u001b[1;33m\u001b[0m\u001b[0m\n\u001b[0;32m   1190\u001b[0m \u001b[1;33m\u001b[0m\u001b[0m\n",
      "\u001b[1;32m~\\Anaconda3\\lib\\site-packages\\sklearn\\model_selection\\_search.py\u001b[0m in \u001b[0;36mevaluate_candidates\u001b[1;34m(candidate_params)\u001b[0m\n\u001b[0;32m    706\u001b[0m                               n_splits, n_candidates, n_candidates * n_splits))\n\u001b[0;32m    707\u001b[0m \u001b[1;33m\u001b[0m\u001b[0m\n\u001b[1;32m--> 708\u001b[1;33m                 out = parallel(delayed(_fit_and_score)(clone(base_estimator),\n\u001b[0m\u001b[0;32m    709\u001b[0m                                                        \u001b[0mX\u001b[0m\u001b[1;33m,\u001b[0m \u001b[0my\u001b[0m\u001b[1;33m,\u001b[0m\u001b[1;33m\u001b[0m\u001b[1;33m\u001b[0m\u001b[0m\n\u001b[0;32m    710\u001b[0m                                                        \u001b[0mtrain\u001b[0m\u001b[1;33m=\u001b[0m\u001b[0mtrain\u001b[0m\u001b[1;33m,\u001b[0m \u001b[0mtest\u001b[0m\u001b[1;33m=\u001b[0m\u001b[0mtest\u001b[0m\u001b[1;33m,\u001b[0m\u001b[1;33m\u001b[0m\u001b[1;33m\u001b[0m\u001b[0m\n",
      "\u001b[1;32m~\\Anaconda3\\lib\\site-packages\\joblib\\parallel.py\u001b[0m in \u001b[0;36m__call__\u001b[1;34m(self, iterable)\u001b[0m\n\u001b[0;32m   1059\u001b[0m \u001b[1;33m\u001b[0m\u001b[0m\n\u001b[0;32m   1060\u001b[0m             \u001b[1;32mwith\u001b[0m \u001b[0mself\u001b[0m\u001b[1;33m.\u001b[0m\u001b[0m_backend\u001b[0m\u001b[1;33m.\u001b[0m\u001b[0mretrieval_context\u001b[0m\u001b[1;33m(\u001b[0m\u001b[1;33m)\u001b[0m\u001b[1;33m:\u001b[0m\u001b[1;33m\u001b[0m\u001b[1;33m\u001b[0m\u001b[0m\n\u001b[1;32m-> 1061\u001b[1;33m                 \u001b[0mself\u001b[0m\u001b[1;33m.\u001b[0m\u001b[0mretrieve\u001b[0m\u001b[1;33m(\u001b[0m\u001b[1;33m)\u001b[0m\u001b[1;33m\u001b[0m\u001b[1;33m\u001b[0m\u001b[0m\n\u001b[0m\u001b[0;32m   1062\u001b[0m             \u001b[1;31m# Make sure that we get a last message telling us we are done\u001b[0m\u001b[1;33m\u001b[0m\u001b[1;33m\u001b[0m\u001b[1;33m\u001b[0m\u001b[0m\n\u001b[0;32m   1063\u001b[0m             \u001b[0melapsed_time\u001b[0m \u001b[1;33m=\u001b[0m \u001b[0mtime\u001b[0m\u001b[1;33m.\u001b[0m\u001b[0mtime\u001b[0m\u001b[1;33m(\u001b[0m\u001b[1;33m)\u001b[0m \u001b[1;33m-\u001b[0m \u001b[0mself\u001b[0m\u001b[1;33m.\u001b[0m\u001b[0m_start_time\u001b[0m\u001b[1;33m\u001b[0m\u001b[1;33m\u001b[0m\u001b[0m\n",
      "\u001b[1;32m~\\Anaconda3\\lib\\site-packages\\joblib\\parallel.py\u001b[0m in \u001b[0;36mretrieve\u001b[1;34m(self)\u001b[0m\n\u001b[0;32m    938\u001b[0m             \u001b[1;32mtry\u001b[0m\u001b[1;33m:\u001b[0m\u001b[1;33m\u001b[0m\u001b[1;33m\u001b[0m\u001b[0m\n\u001b[0;32m    939\u001b[0m                 \u001b[1;32mif\u001b[0m \u001b[0mgetattr\u001b[0m\u001b[1;33m(\u001b[0m\u001b[0mself\u001b[0m\u001b[1;33m.\u001b[0m\u001b[0m_backend\u001b[0m\u001b[1;33m,\u001b[0m \u001b[1;34m'supports_timeout'\u001b[0m\u001b[1;33m,\u001b[0m \u001b[1;32mFalse\u001b[0m\u001b[1;33m)\u001b[0m\u001b[1;33m:\u001b[0m\u001b[1;33m\u001b[0m\u001b[1;33m\u001b[0m\u001b[0m\n\u001b[1;32m--> 940\u001b[1;33m                     \u001b[0mself\u001b[0m\u001b[1;33m.\u001b[0m\u001b[0m_output\u001b[0m\u001b[1;33m.\u001b[0m\u001b[0mextend\u001b[0m\u001b[1;33m(\u001b[0m\u001b[0mjob\u001b[0m\u001b[1;33m.\u001b[0m\u001b[0mget\u001b[0m\u001b[1;33m(\u001b[0m\u001b[0mtimeout\u001b[0m\u001b[1;33m=\u001b[0m\u001b[0mself\u001b[0m\u001b[1;33m.\u001b[0m\u001b[0mtimeout\u001b[0m\u001b[1;33m)\u001b[0m\u001b[1;33m)\u001b[0m\u001b[1;33m\u001b[0m\u001b[1;33m\u001b[0m\u001b[0m\n\u001b[0m\u001b[0;32m    941\u001b[0m                 \u001b[1;32melse\u001b[0m\u001b[1;33m:\u001b[0m\u001b[1;33m\u001b[0m\u001b[1;33m\u001b[0m\u001b[0m\n\u001b[0;32m    942\u001b[0m                     \u001b[0mself\u001b[0m\u001b[1;33m.\u001b[0m\u001b[0m_output\u001b[0m\u001b[1;33m.\u001b[0m\u001b[0mextend\u001b[0m\u001b[1;33m(\u001b[0m\u001b[0mjob\u001b[0m\u001b[1;33m.\u001b[0m\u001b[0mget\u001b[0m\u001b[1;33m(\u001b[0m\u001b[1;33m)\u001b[0m\u001b[1;33m)\u001b[0m\u001b[1;33m\u001b[0m\u001b[1;33m\u001b[0m\u001b[0m\n",
      "\u001b[1;32m~\\Anaconda3\\lib\\site-packages\\joblib\\_parallel_backends.py\u001b[0m in \u001b[0;36mwrap_future_result\u001b[1;34m(future, timeout)\u001b[0m\n\u001b[0;32m    540\u001b[0m         AsyncResults.get from multiprocessing.\"\"\"\n\u001b[0;32m    541\u001b[0m         \u001b[1;32mtry\u001b[0m\u001b[1;33m:\u001b[0m\u001b[1;33m\u001b[0m\u001b[1;33m\u001b[0m\u001b[0m\n\u001b[1;32m--> 542\u001b[1;33m             \u001b[1;32mreturn\u001b[0m \u001b[0mfuture\u001b[0m\u001b[1;33m.\u001b[0m\u001b[0mresult\u001b[0m\u001b[1;33m(\u001b[0m\u001b[0mtimeout\u001b[0m\u001b[1;33m=\u001b[0m\u001b[0mtimeout\u001b[0m\u001b[1;33m)\u001b[0m\u001b[1;33m\u001b[0m\u001b[1;33m\u001b[0m\u001b[0m\n\u001b[0m\u001b[0;32m    543\u001b[0m         \u001b[1;32mexcept\u001b[0m \u001b[0mCfTimeoutError\u001b[0m \u001b[1;32mas\u001b[0m \u001b[0me\u001b[0m\u001b[1;33m:\u001b[0m\u001b[1;33m\u001b[0m\u001b[1;33m\u001b[0m\u001b[0m\n\u001b[0;32m    544\u001b[0m             \u001b[1;32mraise\u001b[0m \u001b[0mTimeoutError\u001b[0m \u001b[1;32mfrom\u001b[0m \u001b[0me\u001b[0m\u001b[1;33m\u001b[0m\u001b[1;33m\u001b[0m\u001b[0m\n",
      "\u001b[1;32m~\\Anaconda3\\lib\\concurrent\\futures\\_base.py\u001b[0m in \u001b[0;36mresult\u001b[1;34m(self, timeout)\u001b[0m\n\u001b[0;32m    437\u001b[0m                 \u001b[1;32mraise\u001b[0m \u001b[0mCancelledError\u001b[0m\u001b[1;33m(\u001b[0m\u001b[1;33m)\u001b[0m\u001b[1;33m\u001b[0m\u001b[1;33m\u001b[0m\u001b[0m\n\u001b[0;32m    438\u001b[0m             \u001b[1;32melif\u001b[0m \u001b[0mself\u001b[0m\u001b[1;33m.\u001b[0m\u001b[0m_state\u001b[0m \u001b[1;33m==\u001b[0m \u001b[0mFINISHED\u001b[0m\u001b[1;33m:\u001b[0m\u001b[1;33m\u001b[0m\u001b[1;33m\u001b[0m\u001b[0m\n\u001b[1;32m--> 439\u001b[1;33m                 \u001b[1;32mreturn\u001b[0m \u001b[0mself\u001b[0m\u001b[1;33m.\u001b[0m\u001b[0m__get_result\u001b[0m\u001b[1;33m(\u001b[0m\u001b[1;33m)\u001b[0m\u001b[1;33m\u001b[0m\u001b[1;33m\u001b[0m\u001b[0m\n\u001b[0m\u001b[0;32m    440\u001b[0m             \u001b[1;32melse\u001b[0m\u001b[1;33m:\u001b[0m\u001b[1;33m\u001b[0m\u001b[1;33m\u001b[0m\u001b[0m\n\u001b[0;32m    441\u001b[0m                 \u001b[1;32mraise\u001b[0m \u001b[0mTimeoutError\u001b[0m\u001b[1;33m(\u001b[0m\u001b[1;33m)\u001b[0m\u001b[1;33m\u001b[0m\u001b[1;33m\u001b[0m\u001b[0m\n",
      "\u001b[1;32m~\\Anaconda3\\lib\\concurrent\\futures\\_base.py\u001b[0m in \u001b[0;36m__get_result\u001b[1;34m(self)\u001b[0m\n\u001b[0;32m    386\u001b[0m     \u001b[1;32mdef\u001b[0m \u001b[0m__get_result\u001b[0m\u001b[1;33m(\u001b[0m\u001b[0mself\u001b[0m\u001b[1;33m)\u001b[0m\u001b[1;33m:\u001b[0m\u001b[1;33m\u001b[0m\u001b[1;33m\u001b[0m\u001b[0m\n\u001b[0;32m    387\u001b[0m         \u001b[1;32mif\u001b[0m \u001b[0mself\u001b[0m\u001b[1;33m.\u001b[0m\u001b[0m_exception\u001b[0m\u001b[1;33m:\u001b[0m\u001b[1;33m\u001b[0m\u001b[1;33m\u001b[0m\u001b[0m\n\u001b[1;32m--> 388\u001b[1;33m             \u001b[1;32mraise\u001b[0m \u001b[0mself\u001b[0m\u001b[1;33m.\u001b[0m\u001b[0m_exception\u001b[0m\u001b[1;33m\u001b[0m\u001b[1;33m\u001b[0m\u001b[0m\n\u001b[0m\u001b[0;32m    389\u001b[0m         \u001b[1;32melse\u001b[0m\u001b[1;33m:\u001b[0m\u001b[1;33m\u001b[0m\u001b[1;33m\u001b[0m\u001b[0m\n\u001b[0;32m    390\u001b[0m             \u001b[1;32mreturn\u001b[0m \u001b[0mself\u001b[0m\u001b[1;33m.\u001b[0m\u001b[0m_result\u001b[0m\u001b[1;33m\u001b[0m\u001b[1;33m\u001b[0m\u001b[0m\n",
      "\u001b[1;31mValueError\u001b[0m: Input contains NaN, infinity or a value too large for dtype('float64')."
     ]
    }
   ],
   "source": [
    "## make your own scorer for gridsearch\n",
    "scorer = metrics.make_scorer(metrics.mean_squared_error)\n",
    "\n",
    "params = {\"cat_features\": cat_features, \"loss_function\": \"RMSE\", \"iterations\" : 100, \"verbose\":100}\n",
    "\n",
    "other_dict = {}\n",
    "other_dict[\"param_grid\"] = {'depth': [4, 6], 'l2_leaf_reg': [1, 3, 5, 10, 6],'learning_rate': [0.03, 0.1]}\n",
    "other_dict[\"scoring\"] = scorer\n",
    "other_dict[\"cv\"]      = 5  ## general practice to give 5 or 10\n",
    "\n",
    "cat_model = catboost_regressor.new_instance(params)\n",
    "\n",
    "cat_model_cv_002a = cat_model.model_run_cv_log(features_to_keep, var_dict,  other_dict)"
   ]
  },
  {
   "cell_type": "code",
   "execution_count": 60,
   "metadata": {},
   "outputs": [
    {
     "data": {
      "text/plain": [
       "{'mae': 0.007618431817135555,\n",
       " 'mse': 0.002837426091010322,\n",
       " 'rmse': 0.05326749563298731,\n",
       " 'r2': -0.15341990958983143,\n",
       " 'grid_search_ad.score': 0.002837426091010322,\n",
       " 'model_score': 0.002837426091010322,\n",
       " 'model': GridSearchCV(cv=5,\n",
       "              estimator=<catboost.core.CatBoostRegressor object at 0x0000028F145E61C0>,\n",
       "              n_jobs=-1,\n",
       "              param_grid={'depth': [4, 6], 'l2_leaf_reg': [1, 3, 5, 10, 6],\n",
       "                          'learning_rate': [0.03, 0.1]},\n",
       "              scoring=make_scorer(mean_squared_error), verbose=100),\n",
       " 'y_test':           Price\n",
       " 736    0.458458\n",
       " 8674   0.453501\n",
       " 5971   0.460301\n",
       " 1957   0.460072\n",
       " 11075  0.460444\n",
       " ...         ...\n",
       " 18231  0.465116\n",
       " 1082   0.459750\n",
       " 6206   0.453825\n",
       " 9124   0.420715\n",
       " 1935   0.454054\n",
       " \n",
       " [4810 rows x 1 columns],\n",
       " 'y_pred': array([0.4562792 , 0.45595643, 0.44768107, ..., 0.4558489 , 0.43588254,\n",
       "        0.45491931])}"
      ]
     },
     "execution_count": 60,
     "metadata": {},
     "output_type": "execute_result"
    }
   ],
   "source": [
    "cat_model_cv_002"
   ]
  },
  {
   "cell_type": "code",
   "execution_count": 45,
   "metadata": {},
   "outputs": [
    {
     "data": {
      "text/plain": [
       "array([1.57819091, 1.57768161, 1.56467959, ..., 1.57751196, 1.54632715,\n",
       "       1.57604621])"
      ]
     },
     "execution_count": 45,
     "metadata": {},
     "output_type": "execute_result"
    }
   ],
   "source": [
    "y_pred = np.exp(cat_model_cv_002[\"y_pred\"])\n",
    "y_pred"
   ]
  },
  {
   "cell_type": "code",
   "execution_count": 46,
   "metadata": {},
   "outputs": [
    {
     "data": {
      "text/plain": [
       "{'depth': 6, 'l2_leaf_reg': 1, 'learning_rate': 0.1}"
      ]
     },
     "execution_count": 46,
     "metadata": {},
     "output_type": "execute_result"
    }
   ],
   "source": [
    "cat_model_cv_002[\"model\"].best_params_"
   ]
  },
  {
   "cell_type": "markdown",
   "metadata": {},
   "source": [
    "The code worked fine and later when same was run again it gave an error. "
   ]
  },
  {
   "cell_type": "code",
   "execution_count": 83,
   "metadata": {},
   "outputs": [
    {
     "data": {
      "text/plain": [
       "Index([], dtype='object')"
      ]
     },
     "execution_count": 83,
     "metadata": {},
     "output_type": "execute_result"
    }
   ],
   "source": [
    "features_to_keep.columns[features_to_keep.isnull().any()]\n"
   ]
  },
  {
   "cell_type": "code",
   "execution_count": 84,
   "metadata": {},
   "outputs": [
    {
     "data": {
      "text/html": [
       "<div>\n",
       "<style scoped>\n",
       "    .dataframe tbody tr th:only-of-type {\n",
       "        vertical-align: middle;\n",
       "    }\n",
       "\n",
       "    .dataframe tbody tr th {\n",
       "        vertical-align: top;\n",
       "    }\n",
       "\n",
       "    .dataframe thead th {\n",
       "        text-align: right;\n",
       "    }\n",
       "</style>\n",
       "<table border=\"1\" class=\"dataframe\">\n",
       "  <thead>\n",
       "    <tr style=\"text-align: right;\">\n",
       "      <th></th>\n",
       "      <th>Manufacturer</th>\n",
       "      <th>Model</th>\n",
       "      <th>Prod. year</th>\n",
       "      <th>Category</th>\n",
       "      <th>Leather interior</th>\n",
       "      <th>Fuel type</th>\n",
       "      <th>Cylinders</th>\n",
       "      <th>Gear box type</th>\n",
       "      <th>Drive wheels</th>\n",
       "      <th>Doors</th>\n",
       "      <th>Wheel</th>\n",
       "      <th>Airbags</th>\n",
       "      <th>Price</th>\n",
       "    </tr>\n",
       "  </thead>\n",
       "  <tbody>\n",
       "  </tbody>\n",
       "</table>\n",
       "</div>"
      ],
      "text/plain": [
       "Empty DataFrame\n",
       "Columns: [Manufacturer, Model, Prod. year, Category, Leather interior, Fuel type, Cylinders, Gear box type, Drive wheels, Doors, Wheel, Airbags, Price]\n",
       "Index: []"
      ]
     },
     "execution_count": 84,
     "metadata": {},
     "output_type": "execute_result"
    }
   ],
   "source": [
    "features_to_keep[features_to_keep['Price'].isnull()]\n"
   ]
  },
  {
   "cell_type": "code",
   "execution_count": 90,
   "metadata": {},
   "outputs": [
    {
     "name": "stderr",
     "output_type": "stream",
     "text": [
      "C:\\Users\\chris.dmello\\Anaconda3\\lib\\site-packages\\pandas\\core\\frame.py:3065: SettingWithCopyWarning: \n",
      "A value is trying to be set on a copy of a slice from a DataFrame.\n",
      "Try using .loc[row_indexer,col_indexer] = value instead\n",
      "\n",
      "See the caveats in the documentation: https://pandas.pydata.org/pandas-docs/stable/user_guide/indexing.html#returning-a-view-versus-a-copy\n",
      "  self[k1] = value[k2]\n"
     ]
    },
    {
     "name": "stdout",
     "output_type": "stream",
     "text": [
      "Manufacturer        False\n",
      "Model               False\n",
      "Prod. year          False\n",
      "Category            False\n",
      "Leather interior    False\n",
      "Fuel type           False\n",
      "Cylinders           False\n",
      "Gear box type       False\n",
      "Drive wheels        False\n",
      "Doors               False\n",
      "Wheel               False\n",
      "Airbags             False\n",
      "Price               False\n",
      "dtype: bool\n",
      "0:\tlearn: 0.0612244\ttotal: 10.2ms\tremaining: 1.01s\n",
      "99:\tlearn: 0.0523813\ttotal: 1.07s\tremaining: 0us\n"
     ]
    }
   ],
   "source": [
    "## make your own scorer for gridsearch\n",
    "scorer = metrics.make_scorer(metrics.mean_squared_error)\n",
    "\n",
    "params = {\"cat_features\": cat_features, \"loss_function\": \"RMSE\", \"iterations\" : 100, \"verbose\":100}\n",
    "\n",
    "other_dict = {}\n",
    "other_dict[\"param_grid\"] = {'learning_rate': [0.2,0.3, 0.1],\n",
    "                            'depth': [4, 6,2,3],\n",
    "                            'l2_leaf_reg': [5,10,15,20,25,30]}  ## ideal values are from 10 to 30 \n",
    "other_dict[\"scoring\"] = scorer\n",
    "other_dict[\"cv\"]      = 10  ## general practice to give 5 or 10\n",
    "\n",
    "# print(features_to_keep.isnull().any())\n",
    "\n",
    "cat_model = catboost_regressor.new_instance(params)\n",
    "\n",
    "cat_model_cv_003 = cat_model.model_run_cv_log(features_to_keep, var_dict,  other_dict)"
   ]
  },
  {
   "cell_type": "code",
   "execution_count": 91,
   "metadata": {},
   "outputs": [
    {
     "data": {
      "text/plain": [
       "{'mae': 0.03073188496505392,\n",
       " 'mse': 0.0026903575747528907,\n",
       " 'rmse': 0.05186865695921662,\n",
       " 'r2': 0.2781703776993273,\n",
       " 'grid_search_ad.score': 0.0026903575747528907,\n",
       " 'msle': 0.0006331878444999408,\n",
       " 'rmsle': 0.025163224048200598,\n",
       " 'model_score': 0.0026903575747528907,\n",
       " 'model': GridSearchCV(cv=10,\n",
       "              estimator=<catboost.core.CatBoostRegressor object at 0x0000028F118E8850>,\n",
       "              n_jobs=-1,\n",
       "              param_grid={'depth': [4, 6, 2, 3],\n",
       "                          'l2_leaf_reg': [5, 10, 15, 20, 25, 30],\n",
       "                          'learning_rate': [0.2, 0.3, 0.1]},\n",
       "              scoring=make_scorer(mean_squared_error)),\n",
       " 'y_test':           Price\n",
       " 736    1.228813\n",
       " 8674   1.202000\n",
       " 5971   1.239057\n",
       " 1957   1.237779\n",
       " 11075  1.239858\n",
       " ...         ...\n",
       " 18231  1.266536\n",
       " 1082   1.235979\n",
       " 6206   1.203720\n",
       " 9124   1.049426\n",
       " 1935   1.204940\n",
       " \n",
       " [4810 rows x 1 columns],\n",
       " 'y_pred': array([1.20082218, 1.20348255, 1.17993479, ..., 1.21204949, 1.13915902,\n",
       "        1.21524125])}"
      ]
     },
     "execution_count": 91,
     "metadata": {},
     "output_type": "execute_result"
    }
   ],
   "source": [
    "cat_model_cv_003"
   ]
  },
  {
   "cell_type": "code",
   "execution_count": 93,
   "metadata": {},
   "outputs": [
    {
     "data": {
      "text/plain": [
       "array([3.32284776, 3.33169957, 3.25416198, ..., 3.36036462, 3.12413992,\n",
       "       3.37110724])"
      ]
     },
     "execution_count": 93,
     "metadata": {},
     "output_type": "execute_result"
    }
   ],
   "source": [
    "y_pred = np.exp(cat_model_cv_003[\"y_pred\"])\n",
    "y_pred"
   ]
  },
  {
   "cell_type": "code",
   "execution_count": 94,
   "metadata": {},
   "outputs": [
    {
     "data": {
      "text/plain": [
       "{'depth': 2, 'l2_leaf_reg': 30, 'learning_rate': 0.1}"
      ]
     },
     "execution_count": 94,
     "metadata": {},
     "output_type": "execute_result"
    }
   ],
   "source": [
    "cat_model_cv_003[\"model\"].best_params_"
   ]
  },
  {
   "cell_type": "markdown",
   "metadata": {},
   "source": [
    "#### Try again\n"
   ]
  },
  {
   "cell_type": "code",
   "execution_count": 95,
   "metadata": {},
   "outputs": [
    {
     "name": "stderr",
     "output_type": "stream",
     "text": [
      "C:\\Users\\chris.dmello\\Anaconda3\\lib\\site-packages\\pandas\\core\\frame.py:3065: SettingWithCopyWarning: \n",
      "A value is trying to be set on a copy of a slice from a DataFrame.\n",
      "Try using .loc[row_indexer,col_indexer] = value instead\n",
      "\n",
      "See the caveats in the documentation: https://pandas.pydata.org/pandas-docs/stable/user_guide/indexing.html#returning-a-view-versus-a-copy\n",
      "  self[k1] = value[k2]\n"
     ]
    },
    {
     "name": "stdout",
     "output_type": "stream",
     "text": [
      "Manufacturer        False\n",
      "Model               False\n",
      "Prod. year          False\n",
      "Category            False\n",
      "Leather interior    False\n",
      "Fuel type           False\n",
      "Cylinders           False\n",
      "Gear box type       False\n",
      "Drive wheels        False\n",
      "Doors               False\n",
      "Wheel               False\n",
      "Airbags             False\n",
      "Price               False\n",
      "dtype: bool\n",
      "0:\tlearn: 0.0291604\ttotal: 8.22ms\tremaining: 814ms\n",
      "99:\tlearn: 0.0252034\ttotal: 956ms\tremaining: 0us\n"
     ]
    }
   ],
   "source": [
    "## make your own scorer for gridsearch\n",
    "scorer = metrics.make_scorer(metrics.mean_squared_log_error)\n",
    "\n",
    "params = {\"cat_features\": cat_features, \"loss_function\": \"RMSE\", \"iterations\" : 100, \"verbose\":100,\"od_type\" : \"Iter\",\"od_wait\" : 100}\n",
    "\n",
    "other_dict = {}\n",
    "other_dict[\"param_grid\"] = {'learning_rate': [0.2,0.3, 0.1],\n",
    "                            'depth': [4, 6,2,3],\n",
    "                            'l2_leaf_reg': [5,10,15,20,25,30]}  ## ideal values are from 10 to 30 \n",
    "other_dict[\"scoring\"] = scorer\n",
    "other_dict[\"cv\"]      = 5  ## general practice to give 5 or 10\n",
    "\n",
    "# print(features_to_keep.isnull().any())\n",
    "\n",
    "cat_model = catboost_regressor.new_instance(params)\n",
    "\n",
    "cat_model_cv_004 = cat_model.model_run_cv_log(features_to_keep, var_dict,  other_dict)"
   ]
  },
  {
   "cell_type": "code",
   "execution_count": 96,
   "metadata": {},
   "outputs": [
    {
     "data": {
      "text/plain": [
       "{'mae': 0.014456221801178235,\n",
       " 'mse': 0.0006353114545586816,\n",
       " 'rmse': 0.02520538542769544,\n",
       " 'r2': 0.2585120038183061,\n",
       " 'grid_search_ad.score': 0.00021633740782648175,\n",
       " 'msle': 0.00021633740782648175,\n",
       " 'rmsle': 0.014708412824859171,\n",
       " 'model_score': 0.00021633740782648175,\n",
       " 'model': GridSearchCV(cv=5,\n",
       "              estimator=<catboost.core.CatBoostRegressor object at 0x0000028F1167C220>,\n",
       "              n_jobs=-1,\n",
       "              param_grid={'depth': [4, 6, 2, 3],\n",
       "                          'l2_leaf_reg': [5, 10, 15, 20, 25, 30],\n",
       "                          'learning_rate': [0.2, 0.3, 0.1]},\n",
       "              scoring=make_scorer(mean_squared_log_error)),\n",
       " 'y_test':           Price\n",
       " 736    0.801469\n",
       " 8674   0.789366\n",
       " 5971   0.806055\n",
       " 1957   0.805484\n",
       " 11075  0.806413\n",
       " ...         ...\n",
       " 18231  0.818253\n",
       " 1082   0.804679\n",
       " 6206   0.790147\n",
       " 9124   0.717560\n",
       " 1935   0.790700\n",
       " \n",
       " [4810 rows x 1 columns],\n",
       " 'y_pred': array([0.78801036, 0.79197154, 0.77879482, ..., 0.79478851, 0.7600956 ,\n",
       "        0.79578775])}"
      ]
     },
     "metadata": {},
     "output_type": "display_data"
    },
    {
     "data": {
      "text/plain": [
       "array([2.19901682, 2.20774478, 2.17884478, ..., 2.21397272, 2.13848066,\n",
       "       2.21618611])"
      ]
     },
     "metadata": {},
     "output_type": "display_data"
    },
    {
     "data": {
      "text/plain": [
       "{'depth': 2, 'l2_leaf_reg': 30, 'learning_rate': 0.1}"
      ]
     },
     "metadata": {},
     "output_type": "display_data"
    }
   ],
   "source": [
    "display(cat_model_cv_004)\n",
    "\n",
    "display(np.exp(cat_model_cv_004[\"y_pred\"]))\n",
    "\n",
    "display(cat_model_cv_004[\"model\"].best_params_)"
   ]
  },
  {
   "cell_type": "markdown",
   "metadata": {},
   "source": [
    "#### Try again"
   ]
  },
  {
   "cell_type": "code",
   "execution_count": 98,
   "metadata": {},
   "outputs": [
    {
     "name": "stderr",
     "output_type": "stream",
     "text": [
      "C:\\Users\\chris.dmello\\Anaconda3\\lib\\site-packages\\pandas\\core\\frame.py:3065: SettingWithCopyWarning: \n",
      "A value is trying to be set on a copy of a slice from a DataFrame.\n",
      "Try using .loc[row_indexer,col_indexer] = value instead\n",
      "\n",
      "See the caveats in the documentation: https://pandas.pydata.org/pandas-docs/stable/user_guide/indexing.html#returning-a-view-versus-a-copy\n",
      "  self[k1] = value[k2]\n"
     ]
    },
    {
     "name": "stdout",
     "output_type": "stream",
     "text": [
      "0:\tlearn: 1.2806635\ttotal: 49.5ms\tremaining: 4.89s\n",
      "99:\tlearn: 1.0753138\ttotal: 2.52s\tremaining: 0us\n"
     ]
    }
   ],
   "source": [
    "columns_to_keep = [\"Manufacturer\",\"Model\",\"Prod. year\",\"Category\",\"Leather interior\",\"Fuel type\", \"Cylinders\",\n",
    "                   \"Gear box type\", \\\n",
    " \"Drive wheels\", \"Doors\", \"Wheel\", \"Airbags\", \"Price\"]\n",
    "\n",
    "cat_features = [\"Manufacturer\",\"Model\",\"Prod. year\",\"Category\",\"Leather interior\",\"Fuel type\", \"Gear box type\", \\\n",
    " \"Drive wheels\", \"Doors\", \"Wheel\"]\n",
    "\n",
    "features_to_keep = train[columns_to_keep]\n",
    "\n",
    "#features_to_keep[\"Price\"] = np.log10(features_to_keep.Price)\n",
    "\n",
    "features_to_keep[cat_features] = features_to_keep[cat_features].astype(str)\n",
    "\n",
    "\n",
    "var_dict = {}\n",
    "var_dict[\"independant\"] = [\"Manufacturer\",\"Model\",\"Prod. year\",\"Category\",\"Leather interior\",\"Fuel type\", \"Cylinders\",\"Gear box type\", \\\n",
    " \"Drive wheels\", \"Doors\", \"Wheel\", \"Airbags\"]\n",
    "\n",
    "var_dict[\"dependant\"]   = [\"Price\"]\n",
    "\n",
    "params = {\"cat_features\": cat_features, \"loss_function\": \"RMSE\", \"iterations\" : 100, \"verbose\":100,\\\n",
    "         'learning_rate': 1,\n",
    "         'depth': 6,   ##depth of the trees\n",
    "         'l2_leaf_reg': 20}\n",
    "\n",
    "cat_model = catboost_regressor.new_instance(params)\n",
    "\n",
    "cat_model_base_006 = cat_model.model_run_log(features_to_keep, var_dict )"
   ]
  },
  {
   "cell_type": "code",
   "execution_count": 101,
   "metadata": {},
   "outputs": [
    {
     "data": {
      "text/plain": [
       "{'mae': 0.7462153483465306,\n",
       " 'mse': 1.303868277002885,\n",
       " 'rmse': 1.1418705167412306,\n",
       " 'r2': 0.457710131970298,\n",
       " 'msle': 0.020414234192428854,\n",
       " 'rmsle': 0.14287838952209972,\n",
       " 'model': <catboost.core.CatBoostRegressor at 0x28f11584520>,\n",
       " 'y_test':            Price\n",
       " 736    10.214092\n",
       " 8674    9.244742\n",
       " 5971   10.615702\n",
       " 1957   10.564576\n",
       " 11075  10.647874\n",
       " ...          ...\n",
       " 18231  11.788411\n",
       " 1082   10.493106\n",
       " 6206    9.303557\n",
       " 9124    5.398163\n",
       " 1935    9.345570\n",
       " \n",
       " [4810 rows x 1 columns],\n",
       " 'y_pred': array([10.02503702,  9.6301243 ,  8.34964089, ...,  9.63251703,\n",
       "         6.03012509,  9.49284527]),\n",
       " 'model_score': -7505.785477640574}"
      ]
     },
     "metadata": {},
     "output_type": "display_data"
    },
    {
     "data": {
      "text/plain": [
       "array([22584.90447056, 15216.32731749,  4228.66190432, ...,\n",
       "       15252.77953588,   415.76703544, 13264.48269369])"
      ]
     },
     "metadata": {},
     "output_type": "display_data"
    }
   ],
   "source": [
    "display(cat_model_base_006)\n",
    "\n",
    "display(np.exp(cat_model_base_006[\"y_pred\"]))"
   ]
  },
  {
   "cell_type": "code",
   "execution_count": 102,
   "metadata": {},
   "outputs": [
    {
     "name": "stderr",
     "output_type": "stream",
     "text": [
      "C:\\Users\\chris.dmello\\Anaconda3\\lib\\site-packages\\pandas\\core\\frame.py:3065: SettingWithCopyWarning: \n",
      "A value is trying to be set on a copy of a slice from a DataFrame.\n",
      "Try using .loc[row_indexer,col_indexer] = value instead\n",
      "\n",
      "See the caveats in the documentation: https://pandas.pydata.org/pandas-docs/stable/user_guide/indexing.html#returning-a-view-versus-a-copy\n",
      "  self[k1] = value[k2]\n"
     ]
    },
    {
     "name": "stdout",
     "output_type": "stream",
     "text": [
      "0:\tlearn: 1.3746676\ttotal: 141ms\tremaining: 13.9s\n",
      "99:\tlearn: 1.0285195\ttotal: 5.43s\tremaining: 0us\n"
     ]
    }
   ],
   "source": [
    "columns_to_keep = [\"Manufacturer\",\"Model\",\"Prod. year\",\"Category\",\"Leather interior\",\"Fuel type\", \"Cylinders\",\n",
    "                   \"Gear box type\", \\\n",
    " \"Drive wheels\", \"Doors\", \"Wheel\", \"Airbags\", \"Price\"]\n",
    "\n",
    "cat_features = [\"Manufacturer\",\"Model\",\"Prod. year\",\"Category\",\"Leather interior\",\"Fuel type\", \"Gear box type\", \\\n",
    " \"Drive wheels\", \"Doors\", \"Wheel\"]\n",
    "\n",
    "features_to_keep = train[columns_to_keep]\n",
    "\n",
    "#features_to_keep[\"Price\"] = np.log10(features_to_keep.Price)\n",
    "\n",
    "features_to_keep[cat_features] = features_to_keep[cat_features].astype(str)\n",
    "\n",
    "\n",
    "var_dict = {}\n",
    "var_dict[\"independant\"] = [\"Manufacturer\",\"Model\",\"Prod. year\",\"Category\",\"Leather interior\",\"Fuel type\", \"Cylinders\",\"Gear box type\", \\\n",
    " \"Drive wheels\", \"Doors\", \"Wheel\", \"Airbags\"]\n",
    "\n",
    "var_dict[\"dependant\"]   = [\"Price\"]\n",
    "\n",
    "params = {\"cat_features\": cat_features, \"loss_function\": \"RMSE\", \"iterations\" : 100, \"verbose\":100,\\\n",
    "         'learning_rate': 0.5,\n",
    "         'depth': 9,   ##depth of the trees\n",
    "         'l2_leaf_reg': 30}\n",
    "\n",
    "cat_model = catboost_regressor.new_instance(params)\n",
    "\n",
    "cat_model_base_007 = cat_model.model_run_log(features_to_keep, var_dict )"
   ]
  },
  {
   "cell_type": "code",
   "execution_count": 103,
   "metadata": {},
   "outputs": [
    {
     "data": {
      "text/plain": [
       "{'mae': 0.7072497544975755,\n",
       " 'mse': 1.2463870348750228,\n",
       " 'rmse': 1.1164170523935142,\n",
       " 'r2': 0.48161706778390156,\n",
       " 'msle': 0.019852050484354244,\n",
       " 'rmsle': 0.14089730474481846,\n",
       " 'model': <catboost.core.CatBoostRegressor at 0x28f1156bee0>,\n",
       " 'y_test':            Price\n",
       " 736    10.214092\n",
       " 8674    9.244742\n",
       " 5971   10.615702\n",
       " 1957   10.564576\n",
       " 11075  10.647874\n",
       " ...          ...\n",
       " 18231  11.788411\n",
       " 1082   10.493106\n",
       " 6206    9.303557\n",
       " 9124    5.398163\n",
       " 1935    9.345570\n",
       " \n",
       " [4810 rows x 1 columns],\n",
       " 'y_pred': array([10.25894032,  9.57591012,  8.85568531, ...,  9.6639248 ,\n",
       "         5.9171716 ,  9.56206142]),\n",
       " 'model_score': -7348.862336684864}"
      ]
     },
     "metadata": {},
     "output_type": "display_data"
    },
    {
     "data": {
      "text/plain": [
       "array([28536.53051625, 14413.34974781,  7014.15349016, ...,\n",
       "       15739.43773652,   371.35987408, 14215.11932557])"
      ]
     },
     "metadata": {},
     "output_type": "display_data"
    }
   ],
   "source": [
    "display(cat_model_base_007)\n",
    "\n",
    "display(np.exp(cat_model_base_007[\"y_pred\"]))"
   ]
  },
  {
   "cell_type": "code",
   "execution_count": 104,
   "metadata": {},
   "outputs": [
    {
     "name": "stderr",
     "output_type": "stream",
     "text": [
      "C:\\Users\\chris.dmello\\Anaconda3\\lib\\site-packages\\pandas\\core\\frame.py:3065: SettingWithCopyWarning: \n",
      "A value is trying to be set on a copy of a slice from a DataFrame.\n",
      "Try using .loc[row_indexer,col_indexer] = value instead\n",
      "\n",
      "See the caveats in the documentation: https://pandas.pydata.org/pandas-docs/stable/user_guide/indexing.html#returning-a-view-versus-a-copy\n",
      "  self[k1] = value[k2]\n"
     ]
    },
    {
     "name": "stdout",
     "output_type": "stream",
     "text": [
      "0:\tlearn: 1.5454898\ttotal: 118ms\tremaining: 11.7s\n",
      "99:\tlearn: 1.1257866\ttotal: 5.21s\tremaining: 0us\n"
     ]
    }
   ],
   "source": [
    "columns_to_keep = [\"Manufacturer\",\"Model\",\"Prod. year\",\"Category\",\"Leather interior\",\"Fuel type\", \"Cylinders\",\n",
    "                   \"Gear box type\", \\\n",
    " \"Drive wheels\", \"Doors\", \"Wheel\", \"Airbags\", \"Price\"]\n",
    "\n",
    "cat_features = [\"Manufacturer\",\"Model\",\"Prod. year\",\"Category\",\"Leather interior\",\"Fuel type\", \"Gear box type\", \\\n",
    " \"Drive wheels\", \"Doors\", \"Wheel\"]\n",
    "\n",
    "features_to_keep = train[columns_to_keep]\n",
    "\n",
    "#features_to_keep[\"Price\"] = np.log10(features_to_keep.Price)\n",
    "\n",
    "features_to_keep[cat_features] = features_to_keep[cat_features].astype(str)\n",
    "\n",
    "\n",
    "var_dict = {}\n",
    "var_dict[\"independant\"] = [\"Manufacturer\",\"Model\",\"Prod. year\",\"Category\",\"Leather interior\",\"Fuel type\", \"Cylinders\",\"Gear box type\", \\\n",
    " \"Drive wheels\", \"Doors\", \"Wheel\", \"Airbags\"]\n",
    "\n",
    "var_dict[\"dependant\"]   = [\"Price\"]\n",
    "\n",
    "params = {\"cat_features\": cat_features, \"loss_function\": \"RMSE\", \"iterations\" : 100, \"verbose\":100,\\\n",
    "         'learning_rate': 0.1,\n",
    "         'depth': 9,   ##depth of the trees\n",
    "         'l2_leaf_reg': 30}\n",
    "\n",
    "cat_model = catboost_regressor.new_instance(params)\n",
    "\n",
    "cat_model_base_008 = cat_model.model_run_log(features_to_keep, var_dict )"
   ]
  },
  {
   "cell_type": "code",
   "execution_count": 105,
   "metadata": {},
   "outputs": [
    {
     "data": {
      "text/plain": [
       "{'mae': 0.7191277269235071,\n",
       " 'mse': 1.265500489248234,\n",
       " 'rmse': 1.124944660527012,\n",
       " 'r2': 0.47366762010390595,\n",
       " 'msle': 0.02031273521010236,\n",
       " 'rmsle': 0.14252275330662947,\n",
       " 'model': <catboost.core.CatBoostRegressor at 0x28f118fcd00>,\n",
       " 'y_test':            Price\n",
       " 736    10.214092\n",
       " 8674    9.244742\n",
       " 5971   10.615702\n",
       " 1957   10.564576\n",
       " 11075  10.647874\n",
       " ...          ...\n",
       " 18231  11.788411\n",
       " 1082   10.493106\n",
       " 6206    9.303557\n",
       " 9124    5.398163\n",
       " 1935    9.345570\n",
       " \n",
       " [4810 rows x 1 columns],\n",
       " 'y_pred': array([10.00802683,  9.44713089,  8.61272517, ...,  9.72392061,\n",
       "         6.47241186,  9.6876837 ]),\n",
       " 'model_score': -6939.219243556317}"
      ]
     },
     "metadata": {},
     "output_type": "display_data"
    },
    {
     "data": {
      "text/plain": [
       "array([22203.97989649, 12671.75645465,  5501.22001178, ...,\n",
       "       16712.64014869,   647.04242271, 16117.8672703 ])"
      ]
     },
     "metadata": {},
     "output_type": "display_data"
    }
   ],
   "source": [
    "display(cat_model_base_008)\n",
    "\n",
    "display(np.exp(cat_model_base_008[\"y_pred\"]))"
   ]
  },
  {
   "cell_type": "markdown",
   "metadata": {},
   "source": [
    "This is a bad model as y_pred-y_true will give an negative value. We can play with different learning rate to get to a better value. "
   ]
  },
  {
   "cell_type": "code",
   "execution_count": 106,
   "metadata": {},
   "outputs": [
    {
     "name": "stderr",
     "output_type": "stream",
     "text": [
      "C:\\Users\\chris.dmello\\Anaconda3\\lib\\site-packages\\pandas\\core\\frame.py:3065: SettingWithCopyWarning: \n",
      "A value is trying to be set on a copy of a slice from a DataFrame.\n",
      "Try using .loc[row_indexer,col_indexer] = value instead\n",
      "\n",
      "See the caveats in the documentation: https://pandas.pydata.org/pandas-docs/stable/user_guide/indexing.html#returning-a-view-versus-a-copy\n",
      "  self[k1] = value[k2]\n"
     ]
    },
    {
     "name": "stdout",
     "output_type": "stream",
     "text": [
      "0:\tlearn: 1.2988847\ttotal: 210ms\tremaining: 20.8s\n",
      "99:\tlearn: 0.8588277\ttotal: 12.1s\tremaining: 0us\n"
     ]
    }
   ],
   "source": [
    "columns_to_keep = [\"Manufacturer\",\"Model\",\"Prod. year\",\"Category\",\"Leather interior\",\"Fuel type\", \"Cylinders\",\n",
    "                   \"Gear box type\", \\\n",
    " \"Drive wheels\", \"Doors\", \"Wheel\", \"Airbags\", \"Price\"]\n",
    "\n",
    "cat_features = [\"Manufacturer\",\"Model\",\"Prod. year\",\"Category\",\"Leather interior\",\"Fuel type\", \"Gear box type\", \\\n",
    " \"Drive wheels\", \"Doors\", \"Wheel\"]\n",
    "\n",
    "features_to_keep = train[columns_to_keep]\n",
    "\n",
    "#features_to_keep[\"Price\"] = np.log10(features_to_keep.Price)\n",
    "\n",
    "features_to_keep[cat_features] = features_to_keep[cat_features].astype(str)\n",
    "\n",
    "\n",
    "var_dict = {}\n",
    "var_dict[\"independant\"] = [\"Manufacturer\",\"Model\",\"Prod. year\",\"Category\",\"Leather interior\",\"Fuel type\", \"Cylinders\",\"Gear box type\", \\\n",
    " \"Drive wheels\", \"Doors\", \"Wheel\", \"Airbags\"]\n",
    "\n",
    "var_dict[\"dependant\"]   = [\"Price\"]\n",
    "\n",
    "params = {\"cat_features\": cat_features, \"loss_function\": \"RMSE\", \"iterations\" : 100, \"verbose\":100,\\\n",
    "         'learning_rate': 0.8,\n",
    "         'depth': 12,   ##depth of the trees\n",
    "         'l2_leaf_reg': 30}\n",
    "\n",
    "cat_model = catboost_regressor.new_instance(params)\n",
    "\n",
    "cat_model_base_009 = cat_model.model_run_log(features_to_keep, var_dict )"
   ]
  },
  {
   "cell_type": "code",
   "execution_count": 107,
   "metadata": {},
   "outputs": [
    {
     "data": {
      "text/plain": [
       "{'mae': 0.704180116652022,\n",
       " 'mse': 1.2509969680653459,\n",
       " 'rmse': 1.1184797575572594,\n",
       " 'r2': 0.4796997574961227,\n",
       " 'msle': 0.01967628442776162,\n",
       " 'rmsle': 0.14027217980683704,\n",
       " 'model': <catboost.core.CatBoostRegressor at 0x28f113a6310>,\n",
       " 'y_test':            Price\n",
       " 736    10.214092\n",
       " 8674    9.244742\n",
       " 5971   10.615702\n",
       " 1957   10.564576\n",
       " 11075  10.647874\n",
       " ...          ...\n",
       " 18231  11.788411\n",
       " 1082   10.493106\n",
       " 6206    9.303557\n",
       " 9124    5.398163\n",
       " 1935    9.345570\n",
       " \n",
       " [4810 rows x 1 columns],\n",
       " 'y_pred': array([10.34288309, 10.26280493,  9.00203883, ...,  9.84601962,\n",
       "         5.25149692,  9.96095374]),\n",
       " 'model_score': -7696.762901352139}"
      ]
     },
     "metadata": {},
     "output_type": "display_data"
    },
    {
     "data": {
      "text/plain": [
       "array([31035.37893714, 28647.02653765,  8119.62161576, ...,\n",
       "       18883.0433231 ,   190.85174437, 21182.98916958])"
      ]
     },
     "metadata": {},
     "output_type": "display_data"
    }
   ],
   "source": [
    "display(cat_model_base_009)\n",
    "\n",
    "display(np.exp(cat_model_base_009[\"y_pred\"]))"
   ]
  },
  {
   "cell_type": "code",
   "execution_count": 110,
   "metadata": {},
   "outputs": [
    {
     "name": "stderr",
     "output_type": "stream",
     "text": [
      "C:\\Users\\chris.dmello\\Anaconda3\\lib\\site-packages\\pandas\\core\\frame.py:3065: SettingWithCopyWarning: \n",
      "A value is trying to be set on a copy of a slice from a DataFrame.\n",
      "Try using .loc[row_indexer,col_indexer] = value instead\n",
      "\n",
      "See the caveats in the documentation: https://pandas.pydata.org/pandas-docs/stable/user_guide/indexing.html#returning-a-view-versus-a-copy\n",
      "  self[k1] = value[k2]\n"
     ]
    },
    {
     "data": {
      "text/html": [
       "<div>\n",
       "<style scoped>\n",
       "    .dataframe tbody tr th:only-of-type {\n",
       "        vertical-align: middle;\n",
       "    }\n",
       "\n",
       "    .dataframe tbody tr th {\n",
       "        vertical-align: top;\n",
       "    }\n",
       "\n",
       "    .dataframe thead th {\n",
       "        text-align: right;\n",
       "    }\n",
       "</style>\n",
       "<table border=\"1\" class=\"dataframe\">\n",
       "  <thead>\n",
       "    <tr style=\"text-align: right;\">\n",
       "      <th></th>\n",
       "      <th>Manufacturer</th>\n",
       "      <th>Model</th>\n",
       "      <th>Prod. year</th>\n",
       "      <th>Category</th>\n",
       "      <th>Leather interior</th>\n",
       "      <th>Fuel type</th>\n",
       "      <th>Cylinders</th>\n",
       "      <th>Gear box type</th>\n",
       "      <th>Drive wheels</th>\n",
       "      <th>Doors</th>\n",
       "      <th>Wheel</th>\n",
       "      <th>Airbags</th>\n",
       "    </tr>\n",
       "  </thead>\n",
       "  <tbody>\n",
       "    <tr>\n",
       "      <th>0</th>\n",
       "      <td>VOLKSWAGEN</td>\n",
       "      <td>Golf</td>\n",
       "      <td>2012</td>\n",
       "      <td>Hatchback</td>\n",
       "      <td>No</td>\n",
       "      <td>Diesel</td>\n",
       "      <td>4</td>\n",
       "      <td>Manual</td>\n",
       "      <td>Front</td>\n",
       "      <td>02-Mar</td>\n",
       "      <td>Left wheel</td>\n",
       "      <td>10</td>\n",
       "    </tr>\n",
       "    <tr>\n",
       "      <th>1</th>\n",
       "      <td>HYUNDAI</td>\n",
       "      <td>Sonata</td>\n",
       "      <td>2012</td>\n",
       "      <td>Sedan</td>\n",
       "      <td>Yes</td>\n",
       "      <td>Petrol</td>\n",
       "      <td>4</td>\n",
       "      <td>Tiptronic</td>\n",
       "      <td>Front</td>\n",
       "      <td>04-May</td>\n",
       "      <td>Left wheel</td>\n",
       "      <td>10</td>\n",
       "    </tr>\n",
       "    <tr>\n",
       "      <th>2</th>\n",
       "      <td>NISSAN</td>\n",
       "      <td>Tiida</td>\n",
       "      <td>2005</td>\n",
       "      <td>Sedan</td>\n",
       "      <td>No</td>\n",
       "      <td>Petrol</td>\n",
       "      <td>4</td>\n",
       "      <td>Automatic</td>\n",
       "      <td>Front</td>\n",
       "      <td>04-May</td>\n",
       "      <td>Right-hand drive</td>\n",
       "      <td>8</td>\n",
       "    </tr>\n",
       "    <tr>\n",
       "      <th>3</th>\n",
       "      <td>VOLVO</td>\n",
       "      <td>XC90</td>\n",
       "      <td>2012</td>\n",
       "      <td>Jeep</td>\n",
       "      <td>Yes</td>\n",
       "      <td>Petrol</td>\n",
       "      <td>6</td>\n",
       "      <td>Automatic</td>\n",
       "      <td>4x4</td>\n",
       "      <td>04-May</td>\n",
       "      <td>Left wheel</td>\n",
       "      <td>12</td>\n",
       "    </tr>\n",
       "    <tr>\n",
       "      <th>4</th>\n",
       "      <td>OPEL</td>\n",
       "      <td>Astra</td>\n",
       "      <td>1993</td>\n",
       "      <td>Hatchback</td>\n",
       "      <td>No</td>\n",
       "      <td>Petrol</td>\n",
       "      <td>4</td>\n",
       "      <td>Manual</td>\n",
       "      <td>Front</td>\n",
       "      <td>04-May</td>\n",
       "      <td>Left wheel</td>\n",
       "      <td>0</td>\n",
       "    </tr>\n",
       "  </tbody>\n",
       "</table>\n",
       "</div>"
      ],
      "text/plain": [
       "  Manufacturer   Model Prod. year   Category Leather interior Fuel type  \\\n",
       "0   VOLKSWAGEN    Golf       2012  Hatchback               No    Diesel   \n",
       "1      HYUNDAI  Sonata       2012      Sedan              Yes    Petrol   \n",
       "2       NISSAN   Tiida       2005      Sedan               No    Petrol   \n",
       "3        VOLVO    XC90       2012       Jeep              Yes    Petrol   \n",
       "4         OPEL   Astra       1993  Hatchback               No    Petrol   \n",
       "\n",
       "   Cylinders Gear box type Drive wheels   Doors             Wheel  Airbags  \n",
       "0          4        Manual        Front  02-Mar        Left wheel       10  \n",
       "1          4     Tiptronic        Front  04-May        Left wheel       10  \n",
       "2          4     Automatic        Front  04-May  Right-hand drive        8  \n",
       "3          6     Automatic          4x4  04-May        Left wheel       12  \n",
       "4          4        Manual        Front  04-May        Left wheel        0  "
      ]
     },
     "metadata": {},
     "output_type": "display_data"
    },
    {
     "data": {
      "text/html": [
       "<div>\n",
       "<style scoped>\n",
       "    .dataframe tbody tr th:only-of-type {\n",
       "        vertical-align: middle;\n",
       "    }\n",
       "\n",
       "    .dataframe tbody tr th {\n",
       "        vertical-align: top;\n",
       "    }\n",
       "\n",
       "    .dataframe thead th {\n",
       "        text-align: right;\n",
       "    }\n",
       "</style>\n",
       "<table border=\"1\" class=\"dataframe\">\n",
       "  <thead>\n",
       "    <tr style=\"text-align: right;\">\n",
       "      <th></th>\n",
       "      <th>Price</th>\n",
       "    </tr>\n",
       "  </thead>\n",
       "  <tbody>\n",
       "    <tr>\n",
       "      <th>0</th>\n",
       "      <td>18146.395807</td>\n",
       "    </tr>\n",
       "    <tr>\n",
       "      <th>1</th>\n",
       "      <td>14384.457296</td>\n",
       "    </tr>\n",
       "    <tr>\n",
       "      <th>2</th>\n",
       "      <td>12085.079519</td>\n",
       "    </tr>\n",
       "    <tr>\n",
       "      <th>3</th>\n",
       "      <td>2126.423278</td>\n",
       "    </tr>\n",
       "    <tr>\n",
       "      <th>4</th>\n",
       "      <td>6132.891178</td>\n",
       "    </tr>\n",
       "  </tbody>\n",
       "</table>\n",
       "</div>"
      ],
      "text/plain": [
       "          Price\n",
       "0  18146.395807\n",
       "1  14384.457296\n",
       "2  12085.079519\n",
       "3   2126.423278\n",
       "4   6132.891178"
      ]
     },
     "metadata": {},
     "output_type": "display_data"
    }
   ],
   "source": [
    "columns_to_keep = [\"Manufacturer\",\"Model\",\"Prod. year\",\"Category\",\"Leather interior\",\"Fuel type\", \"Cylinders\",\"Gear box type\", \\\n",
    " \"Drive wheels\", \"Doors\", \"Wheel\", \"Airbags\"]\n",
    "\n",
    "cat_features = [\"Manufacturer\",\"Model\",\"Prod. year\",\"Category\",\"Leather interior\",\"Fuel type\", \"Gear box type\", \\\n",
    " \"Drive wheels\", \"Doors\", \"Wheel\"]\n",
    "\n",
    "features_to_predict_df = test[columns_to_keep]\n",
    "\n",
    "features_to_predict_df[cat_features] = features_to_predict_df[cat_features].astype(str)\n",
    "\n",
    "\n",
    "y_pred_log = np.exp(cat_model_base_009[\"model\"].predict(features_to_predict_df))\n",
    "\n",
    "display(features_to_predict_df.head())\n",
    "\n",
    "y_pred = pd.DataFrame({\"Price\":y_pred_log})\n",
    "\n",
    "display(y_pred.head())"
   ]
  },
  {
   "cell_type": "code",
   "execution_count": 112,
   "metadata": {},
   "outputs": [
    {
     "data": {
      "text/html": [
       "<div>\n",
       "<style scoped>\n",
       "    .dataframe tbody tr th:only-of-type {\n",
       "        vertical-align: middle;\n",
       "    }\n",
       "\n",
       "    .dataframe tbody tr th {\n",
       "        vertical-align: top;\n",
       "    }\n",
       "\n",
       "    .dataframe thead th {\n",
       "        text-align: right;\n",
       "    }\n",
       "</style>\n",
       "<table border=\"1\" class=\"dataframe\">\n",
       "  <thead>\n",
       "    <tr style=\"text-align: right;\">\n",
       "      <th></th>\n",
       "      <th>Price</th>\n",
       "    </tr>\n",
       "  </thead>\n",
       "  <tbody>\n",
       "    <tr>\n",
       "      <th>0</th>\n",
       "      <td>18146.395807</td>\n",
       "    </tr>\n",
       "    <tr>\n",
       "      <th>1</th>\n",
       "      <td>14384.457296</td>\n",
       "    </tr>\n",
       "    <tr>\n",
       "      <th>2</th>\n",
       "      <td>12085.079519</td>\n",
       "    </tr>\n",
       "    <tr>\n",
       "      <th>3</th>\n",
       "      <td>2126.423278</td>\n",
       "    </tr>\n",
       "    <tr>\n",
       "      <th>4</th>\n",
       "      <td>6132.891178</td>\n",
       "    </tr>\n",
       "  </tbody>\n",
       "</table>\n",
       "</div>"
      ],
      "text/plain": [
       "          Price\n",
       "0  18146.395807\n",
       "1  14384.457296\n",
       "2  12085.079519\n",
       "3   2126.423278\n",
       "4   6132.891178"
      ]
     },
     "metadata": {},
     "output_type": "display_data"
    }
   ],
   "source": [
    "prediction_20210707_a = pd.DataFrame({\"Price\":np.exp(cat_model_base_009[\"model\"].predict(features_to_predict_df))})\n",
    "display(prediction_20210707_a.head())\n",
    "prediction_20210707_a.to_csv(\"prediction_20210708_a.csv\", index = False)"
   ]
  },
  {
   "cell_type": "code",
   "execution_count": 115,
   "metadata": {},
   "outputs": [
    {
     "data": {
      "text/plain": [
       "['1_11760.pkl']"
      ]
     },
     "execution_count": 115,
     "metadata": {},
     "output_type": "execute_result"
    }
   ],
   "source": [
    "# import sklearn.external.joblib as extjoblib\n",
    "import joblib\n",
    " \n",
    "# Save the model as a pickle in a file\n",
    "joblib.dump(cat_model_base_009[\"model\"], '1_11760.pkl')\n",
    " \n",
    "# # Load the model from the file\n",
    "# knn_from_joblib = joblib.load('1_11760.pkl')\n",
    " \n",
    "# # Use the loaded model to make predictions\n",
    "# knn_from_joblib.predict(X_test)"
   ]
  },
  {
   "cell_type": "code",
   "execution_count": 130,
   "metadata": {},
   "outputs": [
    {
     "name": "stderr",
     "output_type": "stream",
     "text": [
      "C:\\Users\\chris.dmello\\Anaconda3\\lib\\site-packages\\pandas\\core\\frame.py:3065: SettingWithCopyWarning: \n",
      "A value is trying to be set on a copy of a slice from a DataFrame.\n",
      "Try using .loc[row_indexer,col_indexer] = value instead\n",
      "\n",
      "See the caveats in the documentation: https://pandas.pydata.org/pandas-docs/stable/user_guide/indexing.html#returning-a-view-versus-a-copy\n",
      "  self[k1] = value[k2]\n"
     ]
    },
    {
     "data": {
      "text/plain": [
       "{'mae': 0.6788417203342133,\n",
       " 'mse': 1.2031523517963438,\n",
       " 'rmse': 1.096883016459068,\n",
       " 'r2': 0.4995987389347144,\n",
       " 'msle': 0.01934475860971462,\n",
       " 'rmsle': 0.1390854363681353,\n",
       " 'model': <catboost.core.CatBoostRegressor at 0x28f118f8a30>,\n",
       " 'y_test':            Price\n",
       " 736    10.214092\n",
       " 8674    9.244742\n",
       " 5971   10.615702\n",
       " 1957   10.564576\n",
       " 11075  10.647874\n",
       " ...          ...\n",
       " 18231  11.788411\n",
       " 1082   10.493106\n",
       " 6206    9.303557\n",
       " 9124    5.398163\n",
       " 1935    9.345570\n",
       " \n",
       " [4810 rows x 1 columns],\n",
       " 'y_pred': array([10.21642897,  9.65136851,  8.91992328, ...,  9.62281307,\n",
       "         5.48585389,  9.87204897]),\n",
       " 'model_score': -7315.480483305307}"
      ]
     },
     "metadata": {},
     "output_type": "display_data"
    },
    {
     "data": {
      "text/plain": [
       "array([27348.82851673, 15543.04435098,  7479.51541596, ...,\n",
       "       15105.48300954,   241.25486062, 19381.00941453])"
      ]
     },
     "metadata": {},
     "output_type": "display_data"
    }
   ],
   "source": [
    "columns_to_keep = [\"Manufacturer\",\"Model\",\"Prod. year\",\"Category\",\"Leather interior\",\"Fuel type\", \"Cylinders\",\n",
    "                   \"Gear box type\", \\\n",
    " \"Drive wheels\", \"Doors\", \"Wheel\", \"Airbags\", \"Price\"]\n",
    "\n",
    "cat_features = [\"Manufacturer\",\"Model\",\"Prod. year\",\"Category\",\"Leather interior\",\"Fuel type\", \"Gear box type\", \\\n",
    " \"Drive wheels\", \"Doors\", \"Wheel\"]\n",
    "\n",
    "features_to_keep = train[columns_to_keep]\n",
    "\n",
    "#features_to_keep[\"Price\"] = np.log10(features_to_keep.Price)\n",
    "\n",
    "features_to_keep[cat_features] = features_to_keep[cat_features].astype(str)\n",
    "\n",
    "\n",
    "var_dict = {}\n",
    "var_dict[\"independant\"] = [\"Manufacturer\",\"Model\",\"Prod. year\",\"Category\",\"Leather interior\",\"Fuel type\", \"Cylinders\",\\\n",
    "                           \"Gear box type\", \"Drive wheels\", \"Doors\", \"Wheel\", \"Airbags\"]\n",
    "\n",
    "var_dict[\"dependant\"]   = [\"Price\"]\n",
    "\n",
    "params = {\"cat_features\": cat_features, \"loss_function\": \"RMSE\", \n",
    "#           \"iterations\" : 100, \n",
    "          \"verbose\":0,\\\n",
    "         'learning_rate': 0.1,\n",
    "#          'depth': 8,   ##depth of the trees\n",
    "         'l2_leaf_reg': 25, \n",
    "         \"max_depth\" : 10,  #max depth /depth of 10 makes sense \n",
    "         \"model_size_reg\" : 5,\n",
    "         \"n_estimators\": 1000}\n",
    "\n",
    "cat_model = catboost_regressor.new_instance(params)\n",
    "\n",
    "cat_model_base_test = cat_model.model_run_log(features_to_keep, var_dict )\n",
    "\n",
    "display(cat_model_base_test)\n",
    "\n",
    "display(np.exp(cat_model_base_test[\"y_pred\"]))\n",
    "\n",
    "# 0.14027217980683704 RMSLE\n",
    "# 1.2509969680653459  MSE"
   ]
  },
  {
   "cell_type": "code",
   "execution_count": 132,
   "metadata": {},
   "outputs": [
    {
     "name": "stderr",
     "output_type": "stream",
     "text": [
      "C:\\Users\\chris.dmello\\Anaconda3\\lib\\site-packages\\pandas\\core\\frame.py:3065: SettingWithCopyWarning: \n",
      "A value is trying to be set on a copy of a slice from a DataFrame.\n",
      "Try using .loc[row_indexer,col_indexer] = value instead\n",
      "\n",
      "See the caveats in the documentation: https://pandas.pydata.org/pandas-docs/stable/user_guide/indexing.html#returning-a-view-versus-a-copy\n",
      "  self[k1] = value[k2]\n"
     ]
    },
    {
     "data": {
      "text/html": [
       "<div>\n",
       "<style scoped>\n",
       "    .dataframe tbody tr th:only-of-type {\n",
       "        vertical-align: middle;\n",
       "    }\n",
       "\n",
       "    .dataframe tbody tr th {\n",
       "        vertical-align: top;\n",
       "    }\n",
       "\n",
       "    .dataframe thead th {\n",
       "        text-align: right;\n",
       "    }\n",
       "</style>\n",
       "<table border=\"1\" class=\"dataframe\">\n",
       "  <thead>\n",
       "    <tr style=\"text-align: right;\">\n",
       "      <th></th>\n",
       "      <th>Manufacturer</th>\n",
       "      <th>Model</th>\n",
       "      <th>Prod. year</th>\n",
       "      <th>Category</th>\n",
       "      <th>Leather interior</th>\n",
       "      <th>Fuel type</th>\n",
       "      <th>Cylinders</th>\n",
       "      <th>Gear box type</th>\n",
       "      <th>Drive wheels</th>\n",
       "      <th>Doors</th>\n",
       "      <th>Wheel</th>\n",
       "      <th>Airbags</th>\n",
       "    </tr>\n",
       "  </thead>\n",
       "  <tbody>\n",
       "    <tr>\n",
       "      <th>0</th>\n",
       "      <td>VOLKSWAGEN</td>\n",
       "      <td>Golf</td>\n",
       "      <td>2012</td>\n",
       "      <td>Hatchback</td>\n",
       "      <td>No</td>\n",
       "      <td>Diesel</td>\n",
       "      <td>4</td>\n",
       "      <td>Manual</td>\n",
       "      <td>Front</td>\n",
       "      <td>02-Mar</td>\n",
       "      <td>Left wheel</td>\n",
       "      <td>10</td>\n",
       "    </tr>\n",
       "    <tr>\n",
       "      <th>1</th>\n",
       "      <td>HYUNDAI</td>\n",
       "      <td>Sonata</td>\n",
       "      <td>2012</td>\n",
       "      <td>Sedan</td>\n",
       "      <td>Yes</td>\n",
       "      <td>Petrol</td>\n",
       "      <td>4</td>\n",
       "      <td>Tiptronic</td>\n",
       "      <td>Front</td>\n",
       "      <td>04-May</td>\n",
       "      <td>Left wheel</td>\n",
       "      <td>10</td>\n",
       "    </tr>\n",
       "    <tr>\n",
       "      <th>2</th>\n",
       "      <td>NISSAN</td>\n",
       "      <td>Tiida</td>\n",
       "      <td>2005</td>\n",
       "      <td>Sedan</td>\n",
       "      <td>No</td>\n",
       "      <td>Petrol</td>\n",
       "      <td>4</td>\n",
       "      <td>Automatic</td>\n",
       "      <td>Front</td>\n",
       "      <td>04-May</td>\n",
       "      <td>Right-hand drive</td>\n",
       "      <td>8</td>\n",
       "    </tr>\n",
       "    <tr>\n",
       "      <th>3</th>\n",
       "      <td>VOLVO</td>\n",
       "      <td>XC90</td>\n",
       "      <td>2012</td>\n",
       "      <td>Jeep</td>\n",
       "      <td>Yes</td>\n",
       "      <td>Petrol</td>\n",
       "      <td>6</td>\n",
       "      <td>Automatic</td>\n",
       "      <td>4x4</td>\n",
       "      <td>04-May</td>\n",
       "      <td>Left wheel</td>\n",
       "      <td>12</td>\n",
       "    </tr>\n",
       "    <tr>\n",
       "      <th>4</th>\n",
       "      <td>OPEL</td>\n",
       "      <td>Astra</td>\n",
       "      <td>1993</td>\n",
       "      <td>Hatchback</td>\n",
       "      <td>No</td>\n",
       "      <td>Petrol</td>\n",
       "      <td>4</td>\n",
       "      <td>Manual</td>\n",
       "      <td>Front</td>\n",
       "      <td>04-May</td>\n",
       "      <td>Left wheel</td>\n",
       "      <td>0</td>\n",
       "    </tr>\n",
       "  </tbody>\n",
       "</table>\n",
       "</div>"
      ],
      "text/plain": [
       "  Manufacturer   Model Prod. year   Category Leather interior Fuel type  \\\n",
       "0   VOLKSWAGEN    Golf       2012  Hatchback               No    Diesel   \n",
       "1      HYUNDAI  Sonata       2012      Sedan              Yes    Petrol   \n",
       "2       NISSAN   Tiida       2005      Sedan               No    Petrol   \n",
       "3        VOLVO    XC90       2012       Jeep              Yes    Petrol   \n",
       "4         OPEL   Astra       1993  Hatchback               No    Petrol   \n",
       "\n",
       "   Cylinders Gear box type Drive wheels   Doors             Wheel  Airbags  \n",
       "0          4        Manual        Front  02-Mar        Left wheel       10  \n",
       "1          4     Tiptronic        Front  04-May        Left wheel       10  \n",
       "2          4     Automatic        Front  04-May  Right-hand drive        8  \n",
       "3          6     Automatic          4x4  04-May        Left wheel       12  \n",
       "4          4        Manual        Front  04-May        Left wheel        0  "
      ]
     },
     "metadata": {},
     "output_type": "display_data"
    },
    {
     "data": {
      "text/html": [
       "<div>\n",
       "<style scoped>\n",
       "    .dataframe tbody tr th:only-of-type {\n",
       "        vertical-align: middle;\n",
       "    }\n",
       "\n",
       "    .dataframe tbody tr th {\n",
       "        vertical-align: top;\n",
       "    }\n",
       "\n",
       "    .dataframe thead th {\n",
       "        text-align: right;\n",
       "    }\n",
       "</style>\n",
       "<table border=\"1\" class=\"dataframe\">\n",
       "  <thead>\n",
       "    <tr style=\"text-align: right;\">\n",
       "      <th></th>\n",
       "      <th>Price</th>\n",
       "    </tr>\n",
       "  </thead>\n",
       "  <tbody>\n",
       "    <tr>\n",
       "      <th>0</th>\n",
       "      <td>19947.246606</td>\n",
       "    </tr>\n",
       "    <tr>\n",
       "      <th>1</th>\n",
       "      <td>11727.166928</td>\n",
       "    </tr>\n",
       "    <tr>\n",
       "      <th>2</th>\n",
       "      <td>6629.018921</td>\n",
       "    </tr>\n",
       "    <tr>\n",
       "      <th>3</th>\n",
       "      <td>1154.118994</td>\n",
       "    </tr>\n",
       "    <tr>\n",
       "      <th>4</th>\n",
       "      <td>3369.504868</td>\n",
       "    </tr>\n",
       "  </tbody>\n",
       "</table>\n",
       "</div>"
      ],
      "text/plain": [
       "          Price\n",
       "0  19947.246606\n",
       "1  11727.166928\n",
       "2   6629.018921\n",
       "3   1154.118994\n",
       "4   3369.504868"
      ]
     },
     "metadata": {},
     "output_type": "display_data"
    }
   ],
   "source": [
    "columns_to_keep = [\"Manufacturer\",\"Model\",\"Prod. year\",\"Category\",\"Leather interior\",\"Fuel type\", \"Cylinders\",\"Gear box type\", \\\n",
    " \"Drive wheels\", \"Doors\", \"Wheel\", \"Airbags\"]\n",
    "\n",
    "cat_features = [\"Manufacturer\",\"Model\",\"Prod. year\",\"Category\",\"Leather interior\",\"Fuel type\", \"Gear box type\", \\\n",
    " \"Drive wheels\", \"Doors\", \"Wheel\"]\n",
    "\n",
    "features_to_predict_df = test[columns_to_keep]\n",
    "\n",
    "features_to_predict_df[cat_features] = features_to_predict_df[cat_features].astype(str)\n",
    "\n",
    "\n",
    "y_pred_log = np.exp(cat_model_base_test[\"model\"].predict(features_to_predict_df))\n",
    "\n",
    "display(features_to_predict_df.head())\n",
    "\n",
    "y_pred = pd.DataFrame({\"Price\":y_pred_log})\n",
    "\n",
    "display(y_pred.head())"
   ]
  },
  {
   "cell_type": "code",
   "execution_count": 133,
   "metadata": {},
   "outputs": [
    {
     "data": {
      "text/html": [
       "<div>\n",
       "<style scoped>\n",
       "    .dataframe tbody tr th:only-of-type {\n",
       "        vertical-align: middle;\n",
       "    }\n",
       "\n",
       "    .dataframe tbody tr th {\n",
       "        vertical-align: top;\n",
       "    }\n",
       "\n",
       "    .dataframe thead th {\n",
       "        text-align: right;\n",
       "    }\n",
       "</style>\n",
       "<table border=\"1\" class=\"dataframe\">\n",
       "  <thead>\n",
       "    <tr style=\"text-align: right;\">\n",
       "      <th></th>\n",
       "      <th>Price</th>\n",
       "    </tr>\n",
       "  </thead>\n",
       "  <tbody>\n",
       "    <tr>\n",
       "      <th>0</th>\n",
       "      <td>19947.246606</td>\n",
       "    </tr>\n",
       "    <tr>\n",
       "      <th>1</th>\n",
       "      <td>11727.166928</td>\n",
       "    </tr>\n",
       "    <tr>\n",
       "      <th>2</th>\n",
       "      <td>6629.018921</td>\n",
       "    </tr>\n",
       "    <tr>\n",
       "      <th>3</th>\n",
       "      <td>1154.118994</td>\n",
       "    </tr>\n",
       "    <tr>\n",
       "      <th>4</th>\n",
       "      <td>3369.504868</td>\n",
       "    </tr>\n",
       "  </tbody>\n",
       "</table>\n",
       "</div>"
      ],
      "text/plain": [
       "          Price\n",
       "0  19947.246606\n",
       "1  11727.166928\n",
       "2   6629.018921\n",
       "3   1154.118994\n",
       "4   3369.504868"
      ]
     },
     "metadata": {},
     "output_type": "display_data"
    }
   ],
   "source": [
    "prediction_20210707_a = pd.DataFrame({\"Price\":np.exp(cat_model_base_test[\"model\"].predict(features_to_predict_df))})\n",
    "display(prediction_20210707_a.head())\n",
    "prediction_20210707_a.to_csv(\"prediction_20210708_b.csv\", index = False)"
   ]
  },
  {
   "cell_type": "code",
   "execution_count": 131,
   "metadata": {},
   "outputs": [
    {
     "data": {
      "text/plain": [
       "['0_1390854.pkl']"
      ]
     },
     "execution_count": 131,
     "metadata": {},
     "output_type": "execute_result"
    }
   ],
   "source": [
    "# import sklearn.external.joblib as extjoblib\n",
    "import joblib\n",
    " \n",
    "# Save the model as a pickle in a file\n",
    "joblib.dump(cat_model_base_test[\"model\"], '0_1390854.pkl')\n",
    " \n",
    "# # Load the model from the file\n",
    "# knn_from_joblib = joblib.load('1_11760.pkl')\n",
    " \n",
    "# # Use the loaded model to make predictions\n",
    "# knn_from_joblib.predict(X_test)"
   ]
  },
  {
   "cell_type": "code",
   "execution_count": 143,
   "metadata": {},
   "outputs": [
    {
     "name": "stderr",
     "output_type": "stream",
     "text": [
      "C:\\Users\\chris.dmello\\Anaconda3\\lib\\site-packages\\pandas\\core\\frame.py:3065: SettingWithCopyWarning: \n",
      "A value is trying to be set on a copy of a slice from a DataFrame.\n",
      "Try using .loc[row_indexer,col_indexer] = value instead\n",
      "\n",
      "See the caveats in the documentation: https://pandas.pydata.org/pandas-docs/stable/user_guide/indexing.html#returning-a-view-versus-a-copy\n",
      "  self[k1] = value[k2]\n"
     ]
    },
    {
     "data": {
      "text/plain": [
       "{'mae': 0.6771243971273669,\n",
       " 'mse': 1.1924829034824502,\n",
       " 'rmse': 1.0920086554063801,\n",
       " 'r2': 0.5040362529230069,\n",
       " 'msle': 0.019164275717069173,\n",
       " 'rmsle': 0.13843509568411175,\n",
       " 'model': <catboost.core.CatBoostRegressor at 0x28f11650d90>,\n",
       " 'y_test':            Price\n",
       " 736    10.214092\n",
       " 8674    9.244742\n",
       " 5971   10.615702\n",
       " 1957   10.564576\n",
       " 11075  10.647874\n",
       " ...          ...\n",
       " 18231  11.788411\n",
       " 1082   10.493106\n",
       " 6206    9.303557\n",
       " 9124    5.398163\n",
       " 1935    9.345570\n",
       " \n",
       " [4810 rows x 1 columns],\n",
       " 'y_pred': array([10.18233703,  9.62042479,  8.83131822, ...,  9.76185533,\n",
       "         5.58132472,  9.55027685]),\n",
       " 'model_score': -7475.151996247282}"
      ]
     },
     "metadata": {},
     "output_type": "display_data"
    },
    {
     "data": {
      "text/plain": [
       "array([26432.1678845 , 15069.44996108,  6845.30451246, ...,\n",
       "       17358.80812885,   265.4229845 , 14048.58344281])"
      ]
     },
     "metadata": {},
     "output_type": "display_data"
    }
   ],
   "source": [
    "columns_to_keep = [\"Manufacturer\",\"Model\",\"Prod. year\",\"Category\",\"Leather interior\",\"Fuel type\", \"Cylinders\",\n",
    "                   \"Gear box type\", \\\n",
    " \"Drive wheels\", \"Doors\", \"Wheel\", \"Airbags\", \"Price\"]\n",
    "\n",
    "cat_features = [\"Manufacturer\",\"Model\",\"Prod. year\",\"Category\",\"Leather interior\",\"Fuel type\", \"Gear box type\", \\\n",
    " \"Drive wheels\", \"Doors\", \"Wheel\"]\n",
    "\n",
    "features_to_keep = train[columns_to_keep]\n",
    "\n",
    "#features_to_keep[\"Price\"] = np.log10(features_to_keep.Price)\n",
    "\n",
    "features_to_keep[cat_features] = features_to_keep[cat_features].astype(str)\n",
    "\n",
    "\n",
    "var_dict = {}\n",
    "var_dict[\"independant\"] = [\"Manufacturer\",\"Model\",\"Prod. year\",\"Category\",\"Leather interior\",\"Fuel type\", \"Cylinders\",\\\n",
    "                           \"Gear box type\", \"Drive wheels\", \"Doors\", \"Wheel\", \"Airbags\"]\n",
    "\n",
    "var_dict[\"dependant\"]   = [\"Price\"]\n",
    "\n",
    "params = {\"cat_features\": cat_features, \"loss_function\": \"RMSE\", \n",
    "          \"random_seed\" : 42,\n",
    "#           \"iterations\" : 100, \n",
    "          \"verbose\":0,\\\n",
    "         'learning_rate': 0.1,\n",
    "#          'depth': 8,   ##depth of the trees\n",
    "         'l2_leaf_reg': 40, \n",
    "         \"max_depth\" : 10,  #max depth /depth of 10 makes sense \n",
    "         \"model_size_reg\" : 5,\n",
    "         \"n_estimators\": 1000,\n",
    "         \"random_strength\": 0.4,  #We use randomness when scoring the splits. Every split gets a score and then we add some randomness to it, this helps to reduce overfitting.\n",
    "#          \"bootstrap_type \" :\"Bayesian\",\n",
    "          \"bagging_temperature\": 2,    # 0 to +infty  / Only with Bayesian bootstraping\n",
    "          \"eval_metric\" : \"MSLE\" , #The metric used for overfitting detection \n",
    "          \"grow_policy\": \"Lossguide\" , # The tree growing policy. Defines how to perform greedy tree construction.\n",
    "        \"min_data_in_leaf\" :  10,  # The minimum number of training samples in a leaf. CatBoost does not search for new splits in leaves with samples count less than the specified value.\n",
    "                              # Can be used only with the Lossguide and Depthwise growing policies.\n",
    "        \"one_hot_max_size\": 4, # Use one-hot encoding for all categorical features with a number of different values less than or equal to the given parameter value. Ctrs are not calculated for such features.\n",
    "         \"score_function\":\"L2\"\n",
    "         }\n",
    "\n",
    "\n",
    "cat_model = catboost_regressor.new_instance(params)\n",
    "\n",
    "cat_model_base_010 = cat_model.model_run_log(features_to_keep, var_dict )\n",
    "\n",
    "display(cat_model_base_010)\n",
    "\n",
    "display(np.exp(cat_model_base_010[\"y_pred\"]))\n",
    "\n",
    "# 0.1390854363681353 RMSLE\n",
    "# 1.2031523517963438  MSE"
   ]
  },
  {
   "cell_type": "code",
   "execution_count": 144,
   "metadata": {},
   "outputs": [
    {
     "data": {
      "text/plain": [
       "['0_1384350.pkl']"
      ]
     },
     "execution_count": 144,
     "metadata": {},
     "output_type": "execute_result"
    }
   ],
   "source": [
    "# import sklearn.external.joblib as extjoblib\n",
    "import joblib\n",
    " \n",
    "# Save the model as a pickle in a file\n",
    "joblib.dump(cat_model_base_010[\"model\"], '0_1384350.pkl')\n",
    " \n",
    "# # Load the model from the file\n",
    "# knn_from_joblib = joblib.load('1_11760.pkl')\n",
    " \n",
    "# # Use the loaded model to make predictions\n",
    "# knn_from_joblib.predict(X_test)"
   ]
  },
  {
   "cell_type": "code",
   "execution_count": 146,
   "metadata": {},
   "outputs": [
    {
     "name": "stderr",
     "output_type": "stream",
     "text": [
      "C:\\Users\\chris.dmello\\Anaconda3\\lib\\site-packages\\pandas\\core\\frame.py:3065: SettingWithCopyWarning: \n",
      "A value is trying to be set on a copy of a slice from a DataFrame.\n",
      "Try using .loc[row_indexer,col_indexer] = value instead\n",
      "\n",
      "See the caveats in the documentation: https://pandas.pydata.org/pandas-docs/stable/user_guide/indexing.html#returning-a-view-versus-a-copy\n",
      "  self[k1] = value[k2]\n"
     ]
    },
    {
     "data": {
      "text/plain": [
       "{'mae': 0.6681304478863535,\n",
       " 'mse': 1.1861112846912707,\n",
       " 'rmse': 1.089087363204289,\n",
       " 'r2': 0.5066862631842786,\n",
       " 'msle': 0.019035435556142694,\n",
       " 'rmsle': 0.13796896591676946,\n",
       " 'model': <catboost.core.CatBoostRegressor at 0x28f0af482b0>,\n",
       " 'y_test':            Price\n",
       " 736    10.214092\n",
       " 8674    9.244742\n",
       " 5971   10.615702\n",
       " 1957   10.564576\n",
       " 11075  10.647874\n",
       " ...          ...\n",
       " 18231  11.788411\n",
       " 1082   10.493106\n",
       " 6206    9.303557\n",
       " 9124    5.398163\n",
       " 1935    9.345570\n",
       " \n",
       " [4810 rows x 1 columns],\n",
       " 'y_pred': array([10.03115825,  9.58690474,  8.66649168, ...,  9.72022897,\n",
       "         5.65271199,  9.62858037]),\n",
       " 'model_score': -7529.997007624656}"
      ]
     },
     "metadata": {},
     "output_type": "display_data"
    },
    {
     "data": {
      "text/plain": [
       "array([22723.57584879, 14572.69341827,  5805.09746491, ...,\n",
       "       16651.05687224,   285.06350891, 15192.8526086 ])"
      ]
     },
     "metadata": {},
     "output_type": "display_data"
    }
   ],
   "source": [
    "columns_to_keep = [\"Manufacturer\",\"Model\",\"Prod. year\",\"Category\",\"Leather interior\",\"Fuel type\", \"Cylinders\",\n",
    "                   \"Gear box type\", \\\n",
    " \"Drive wheels\", \"Doors\", \"Wheel\", \"Airbags\", \"Price\"]\n",
    "\n",
    "cat_features = [\"Manufacturer\",\"Model\",\"Prod. year\",\"Category\",\"Leather interior\",\"Fuel type\", \"Gear box type\", \\\n",
    " \"Drive wheels\", \"Doors\", \"Wheel\"]\n",
    "\n",
    "features_to_keep = train[columns_to_keep]\n",
    "\n",
    "#features_to_keep[\"Price\"] = np.log10(features_to_keep.Price)\n",
    "\n",
    "features_to_keep[cat_features] = features_to_keep[cat_features].astype(str)\n",
    "\n",
    "\n",
    "var_dict = {}\n",
    "var_dict[\"independant\"] = [\"Manufacturer\",\"Model\",\"Prod. year\",\"Category\",\"Leather interior\",\"Fuel type\", \"Cylinders\",\\\n",
    "                           \"Gear box type\", \"Drive wheels\", \"Doors\", \"Wheel\", \"Airbags\"]\n",
    "\n",
    "var_dict[\"dependant\"]   = [\"Price\"]\n",
    "\n",
    "params = {\"cat_features\": cat_features, \"loss_function\": \"RMSE\", \n",
    "          \"od_type\":\"IncToDec\",  # overfitting detector.\n",
    "          \"random_seed\" : 42,\n",
    "          \"colsample_bylevel\": 0.5, #  The percentage of features to be used in each split selection. This helps us control overfitting and the values range from (0,1].\n",
    "#           \"iterations\" : 100, \n",
    "          \"verbose\":0,\\\n",
    "         'learning_rate': 0.1,\n",
    "#          'depth': 8,   ##depth of the trees\n",
    "         'l2_leaf_reg': 20, \n",
    "         \"max_depth\" : 20,  #max depth /depth of 10 makes sense \n",
    "         \"model_size_reg\" : 5,\n",
    "         \"n_estimators\": 1000,\n",
    "         \"random_strength\": 0.4,  #We use randomness when scoring the splits. Every split gets a score and then we add some randomness to it, this helps to reduce overfitting.\n",
    "#          \"bootstrap_type \" :\"Bayesian\",\n",
    "          \"bagging_temperature\": 2,    # 0 to +infty  / Only with Bayesian bootstraping\n",
    "          \"eval_metric\" : \"MSLE\" , #The metric used for overfitting detection \n",
    "          \"grow_policy\": \"Lossguide\" , # The tree growing policy. Defines how to perform greedy tree construction.\n",
    "        \"min_data_in_leaf\" :  10,  # The minimum number of training samples in a leaf. CatBoost does not search for new splits in leaves with samples count less than the specified value.\n",
    "                              # Can be used only with the Lossguide and Depthwise growing policies.\n",
    "        \"one_hot_max_size\": 4, # Use one-hot encoding for all categorical features with a number of different values less than or equal to the given parameter value. Ctrs are not calculated for such features.\n",
    "         \"score_function\":\"L2\"\n",
    "         }\n",
    "\n",
    "\n",
    "cat_model = catboost_regressor.new_instance(params)\n",
    "\n",
    "cat_model_base_010 = cat_model.model_run_log(features_to_keep, var_dict )\n",
    "\n",
    "display(cat_model_base_010)\n",
    "\n",
    "display(np.exp(cat_model_base_010[\"y_pred\"]))\n",
    "\n",
    "# 0.1380854363681353 RMSLE Target 0.12 or 0.11\n",
    "# 1.2031523517963438  MSE"
   ]
  },
  {
   "cell_type": "code",
   "execution_count": 147,
   "metadata": {},
   "outputs": [
    {
     "data": {
      "text/plain": [
       "['0_137.pkl']"
      ]
     },
     "execution_count": 147,
     "metadata": {},
     "output_type": "execute_result"
    }
   ],
   "source": [
    "# import sklearn.external.joblib as extjoblib\n",
    "import joblib\n",
    " \n",
    "# Save the model as a pickle in a file\n",
    "joblib.dump(cat_model_base_010[\"model\"], '0_137.pkl')\n",
    " \n",
    "# # Load the model from the file\n",
    "# knn_from_joblib = joblib.load('1_11760.pkl')\n",
    " \n",
    "# # Use the loaded model to make predictions\n",
    "# knn_from_joblib.predict(X_test)"
   ]
  },
  {
   "cell_type": "code",
   "execution_count": 183,
   "metadata": {},
   "outputs": [
    {
     "data": {
      "text/html": [
       "<div>\n",
       "<style scoped>\n",
       "    .dataframe tbody tr th:only-of-type {\n",
       "        vertical-align: middle;\n",
       "    }\n",
       "\n",
       "    .dataframe tbody tr th {\n",
       "        vertical-align: top;\n",
       "    }\n",
       "\n",
       "    .dataframe thead th {\n",
       "        text-align: right;\n",
       "    }\n",
       "</style>\n",
       "<table border=\"1\" class=\"dataframe\">\n",
       "  <thead>\n",
       "    <tr style=\"text-align: right;\">\n",
       "      <th></th>\n",
       "      <th>ID</th>\n",
       "      <th>Price</th>\n",
       "      <th>Levy</th>\n",
       "      <th>Manufacturer</th>\n",
       "      <th>Model</th>\n",
       "      <th>Prod. year</th>\n",
       "      <th>Category</th>\n",
       "      <th>Leather interior</th>\n",
       "      <th>Fuel type</th>\n",
       "      <th>Engine volume</th>\n",
       "      <th>Mileage</th>\n",
       "      <th>Cylinders</th>\n",
       "      <th>Gear box type</th>\n",
       "      <th>Drive wheels</th>\n",
       "      <th>Doors</th>\n",
       "      <th>Wheel</th>\n",
       "      <th>Color</th>\n",
       "      <th>Airbags</th>\n",
       "    </tr>\n",
       "  </thead>\n",
       "  <tbody>\n",
       "    <tr>\n",
       "      <th>0</th>\n",
       "      <td>45654403</td>\n",
       "      <td>13328</td>\n",
       "      <td>1399</td>\n",
       "      <td>LEXUS</td>\n",
       "      <td>RX 450</td>\n",
       "      <td>2010</td>\n",
       "      <td>Jeep</td>\n",
       "      <td>Yes</td>\n",
       "      <td>Hybrid</td>\n",
       "      <td>3.5</td>\n",
       "      <td>186005 km</td>\n",
       "      <td>6.0</td>\n",
       "      <td>Automatic</td>\n",
       "      <td>4x4</td>\n",
       "      <td>04-May</td>\n",
       "      <td>Left wheel</td>\n",
       "      <td>Silver</td>\n",
       "      <td>12</td>\n",
       "    </tr>\n",
       "    <tr>\n",
       "      <th>1</th>\n",
       "      <td>44731507</td>\n",
       "      <td>16621</td>\n",
       "      <td>1018</td>\n",
       "      <td>CHEVROLET</td>\n",
       "      <td>Equinox</td>\n",
       "      <td>2011</td>\n",
       "      <td>Jeep</td>\n",
       "      <td>No</td>\n",
       "      <td>Petrol</td>\n",
       "      <td>3</td>\n",
       "      <td>192000 km</td>\n",
       "      <td>6.0</td>\n",
       "      <td>Tiptronic</td>\n",
       "      <td>4x4</td>\n",
       "      <td>04-May</td>\n",
       "      <td>Left wheel</td>\n",
       "      <td>Black</td>\n",
       "      <td>8</td>\n",
       "    </tr>\n",
       "    <tr>\n",
       "      <th>2</th>\n",
       "      <td>45774419</td>\n",
       "      <td>8467</td>\n",
       "      <td>-</td>\n",
       "      <td>HONDA</td>\n",
       "      <td>FIT</td>\n",
       "      <td>2006</td>\n",
       "      <td>Hatchback</td>\n",
       "      <td>No</td>\n",
       "      <td>Petrol</td>\n",
       "      <td>1.3</td>\n",
       "      <td>200000 km</td>\n",
       "      <td>4.0</td>\n",
       "      <td>Variator</td>\n",
       "      <td>Front</td>\n",
       "      <td>04-May</td>\n",
       "      <td>Right-hand drive</td>\n",
       "      <td>Black</td>\n",
       "      <td>2</td>\n",
       "    </tr>\n",
       "    <tr>\n",
       "      <th>3</th>\n",
       "      <td>45769185</td>\n",
       "      <td>3607</td>\n",
       "      <td>862</td>\n",
       "      <td>FORD</td>\n",
       "      <td>Escape</td>\n",
       "      <td>2011</td>\n",
       "      <td>Jeep</td>\n",
       "      <td>Yes</td>\n",
       "      <td>Hybrid</td>\n",
       "      <td>2.5</td>\n",
       "      <td>168966 km</td>\n",
       "      <td>4.0</td>\n",
       "      <td>Automatic</td>\n",
       "      <td>4x4</td>\n",
       "      <td>04-May</td>\n",
       "      <td>Left wheel</td>\n",
       "      <td>White</td>\n",
       "      <td>0</td>\n",
       "    </tr>\n",
       "    <tr>\n",
       "      <th>4</th>\n",
       "      <td>45809263</td>\n",
       "      <td>11726</td>\n",
       "      <td>446</td>\n",
       "      <td>HONDA</td>\n",
       "      <td>FIT</td>\n",
       "      <td>2014</td>\n",
       "      <td>Hatchback</td>\n",
       "      <td>Yes</td>\n",
       "      <td>Petrol</td>\n",
       "      <td>1.3</td>\n",
       "      <td>91901 km</td>\n",
       "      <td>4.0</td>\n",
       "      <td>Automatic</td>\n",
       "      <td>Front</td>\n",
       "      <td>04-May</td>\n",
       "      <td>Left wheel</td>\n",
       "      <td>Silver</td>\n",
       "      <td>4</td>\n",
       "    </tr>\n",
       "  </tbody>\n",
       "</table>\n",
       "</div>"
      ],
      "text/plain": [
       "         ID  Price  Levy Manufacturer    Model  Prod. year   Category  \\\n",
       "0  45654403  13328  1399        LEXUS   RX 450        2010       Jeep   \n",
       "1  44731507  16621  1018    CHEVROLET  Equinox        2011       Jeep   \n",
       "2  45774419   8467     -        HONDA      FIT        2006  Hatchback   \n",
       "3  45769185   3607   862         FORD   Escape        2011       Jeep   \n",
       "4  45809263  11726   446        HONDA      FIT        2014  Hatchback   \n",
       "\n",
       "  Leather interior Fuel type Engine volume    Mileage  Cylinders  \\\n",
       "0              Yes    Hybrid           3.5  186005 km        6.0   \n",
       "1               No    Petrol             3  192000 km        6.0   \n",
       "2               No    Petrol           1.3  200000 km        4.0   \n",
       "3              Yes    Hybrid           2.5  168966 km        4.0   \n",
       "4              Yes    Petrol           1.3   91901 km        4.0   \n",
       "\n",
       "  Gear box type Drive wheels   Doors             Wheel   Color  Airbags  \n",
       "0     Automatic          4x4  04-May        Left wheel  Silver       12  \n",
       "1     Tiptronic          4x4  04-May        Left wheel   Black        8  \n",
       "2      Variator        Front  04-May  Right-hand drive   Black        2  \n",
       "3     Automatic          4x4  04-May        Left wheel   White        0  \n",
       "4     Automatic        Front  04-May        Left wheel  Silver        4  "
      ]
     },
     "execution_count": 183,
     "metadata": {},
     "output_type": "execute_result"
    }
   ],
   "source": [
    "train.head()"
   ]
  },
  {
   "cell_type": "code",
   "execution_count": 172,
   "metadata": {},
   "outputs": [
    {
     "name": "stderr",
     "output_type": "stream",
     "text": [
      "C:\\Users\\chris.dmello\\Anaconda3\\lib\\site-packages\\pandas\\core\\frame.py:3065: SettingWithCopyWarning:\n",
      "\n",
      "\n",
      "A value is trying to be set on a copy of a slice from a DataFrame.\n",
      "Try using .loc[row_indexer,col_indexer] = value instead\n",
      "\n",
      "See the caveats in the documentation: https://pandas.pydata.org/pandas-docs/stable/user_guide/indexing.html#returning-a-view-versus-a-copy\n",
      "\n"
     ]
    },
    {
     "data": {
      "text/plain": [
       "{'mae': 0.6863030871750468,\n",
       " 'mse': 1.2203063298662593,\n",
       " 'rmse': 1.1046747620301005,\n",
       " 'r2': 0.4924642540578358,\n",
       " 'msle': 0.019576191769874723,\n",
       " 'rmsle': 0.13991494476958036,\n",
       " 'model': <catboost.core.CatBoostRegressor at 0x28f118e8d90>,\n",
       " 'y_test':            Price\n",
       " 736    10.214092\n",
       " 8674    9.244742\n",
       " 5971   10.615702\n",
       " 1957   10.564576\n",
       " 11075  10.647874\n",
       " ...          ...\n",
       " 18231  11.788411\n",
       " 1082   10.493106\n",
       " 6206    9.303557\n",
       " 9124    5.398163\n",
       " 1935    9.345570\n",
       " \n",
       " [4810 rows x 1 columns],\n",
       " 'y_pred': array([10.04816264,  9.44589737,  9.03460384, ...,  9.74660759,\n",
       "         5.38103903,  9.84549341]),\n",
       " 'model_score': -7252.769641988041}"
      ]
     },
     "metadata": {},
     "output_type": "display_data"
    },
    {
     "data": {
      "text/plain": [
       "array([23113.28028673, 12656.13518128,  8388.38965165, ...,\n",
       "       17096.13319161,   217.24788446, 18873.10955315])"
      ]
     },
     "metadata": {},
     "output_type": "display_data"
    }
   ],
   "source": [
    "columns_to_keep = [\"Manufacturer\",\"Model\",\"Prod. year\",\"Category\",\"Leather interior\",\"Fuel type\", \"Cylinders\",\n",
    "                   \"Gear box type\", \\\n",
    " \"Drive wheels\", \"Doors\", \"Wheel\", \"Airbags\", \"Price\"]\n",
    "\n",
    "cat_features = [\"Manufacturer\",\"Model\",\"Prod. year\",\"Category\",\"Leather interior\",\"Fuel type\", \"Gear box type\", \\\n",
    " \"Drive wheels\", \"Doors\", \"Wheel\"]\n",
    "\n",
    "features_to_keep = train[columns_to_keep]\n",
    "\n",
    "#features_to_keep[\"Price\"] = np.log10(features_to_keep.Price)\n",
    "\n",
    "features_to_keep[cat_features] = features_to_keep[cat_features].astype(str)\n",
    "\n",
    "\n",
    "var_dict = {}\n",
    "var_dict[\"independant\"] = [\"Manufacturer\",\"Model\",\"Prod. year\",\"Category\",\"Leather interior\",\"Fuel type\", \"Cylinders\",\\\n",
    "                           \"Gear box type\", \"Drive wheels\", \"Doors\", \"Wheel\", \"Airbags\"]\n",
    "\n",
    "var_dict[\"dependant\"]   = [\"Price\"]\n",
    "\n",
    "params = {\"cat_features\": cat_features, \n",
    "          \"loss_function\": \"RMSE\", \n",
    "          \"od_type\":\"IncToDec\",  # overfitting detector.\n",
    "          \"random_seed\" : 42,\n",
    "          \"colsample_bylevel\": 0.5, #  The percentage of features to be used in each split selection. This helps us control overfitting and the values range from (0,1].\n",
    "          # \"iterations\" : 100, \n",
    "          \"verbose\":0,\\\n",
    "          'learning_rate': 0.1,\n",
    "          # \"boosting_type\" : \"Ordered\" , # to counter leakage when sample size is small\n",
    "          ## this one doesnt give good results\n",
    "          ## This takes time, idk \n",
    "          #'depth': 8,   ##depth of the trees\n",
    "          'l2_leaf_reg': 20, \n",
    "          \"max_depth\" : 16,  #max depth /depth of 10 makes sense \n",
    "          \"model_size_reg\" : 5,\n",
    "          \"n_estimators\": 1000,\n",
    "          \"random_strength\": 0.4,  #We use randomness when scoring the splits. Every split gets a score and then we add some randomness to it, this helps to reduce overfitting.\n",
    "          # \"bootstrap_type \" :\"Bayesian\",\n",
    "          \"bagging_temperature\": 2,    # 0 to +infty  / Only with Bayesian bootstraping\n",
    "          \"eval_metric\" : \"MSLE\" , #The metric used for overfitting detection \n",
    "           # \"grow_policy\": \"Lossguide\" , # The tree growing policy. Defines how to perform greedy tree construction.\n",
    "          \"min_data_in_leaf\" :  10,  # The minimum number of training samples in a leaf. CatBoost does not search for new splits in leaves with samples count less than the specified value.\n",
    "                              # Can be used only with the Lossguide and Depthwise growing policies.\n",
    "          \"one_hot_max_size\": 11, # Use one-hot encoding for all categorical features with a number of different values less than or equal to the given parameter value. Ctrs are not calculated for such features.\n",
    "          \"score_function\":\"L2\"\n",
    "         }\n",
    "\n",
    "\n",
    "cat_model = catboost_regressor.new_instance(params)\n",
    "\n",
    "cat_model_base_011 = cat_model.model_run_log(features_to_keep, var_dict )\n",
    "\n",
    "display(cat_model_base_011)\n",
    "\n",
    "display(np.exp(cat_model_base_011[\"y_pred\"]))\n",
    "\n",
    "# 0.1380854363681353 RMSLE Target 0.12 or 0.11\n",
    "# 1.2031523517963438  MSE"
   ]
  },
  {
   "cell_type": "code",
   "execution_count": 184,
   "metadata": {},
   "outputs": [
    {
     "data": {
      "image/png": "[encoded data removed]",
      "text/plain": [
       "<Figure size 720x504 with 1 Axes>"
      ]
     },
     "metadata": {
      "needs_background": "light"
     },
     "output_type": "display_data"
    }
   ],
   "source": [
    "cat_model.feature_importance(cat_model_base_011[\"model\"], [\"Manufacturer\",\"Model\",\"Prod. year\",\"Category\",\"Leather interior\",\"Fuel type\", \"Cylinders\",\n",
    "                   \"Gear box type\", \\\n",
    " \"Drive wheels\", \"Doors\", \"Wheel\", \"Airbags\"])"
   ]
  },
  {
   "cell_type": "markdown",
   "metadata": {},
   "source": [
    "Based on the feature importance, Removing the least 3 features which are least important to solve this problem - Model/Doors/wheels."
   ]
  },
  {
   "cell_type": "code",
   "execution_count": 185,
   "metadata": {},
   "outputs": [
    {
     "name": "stderr",
     "output_type": "stream",
     "text": [
      "C:\\Users\\chris.dmello\\Anaconda3\\lib\\site-packages\\pandas\\core\\frame.py:3065: SettingWithCopyWarning:\n",
      "\n",
      "\n",
      "A value is trying to be set on a copy of a slice from a DataFrame.\n",
      "Try using .loc[row_indexer,col_indexer] = value instead\n",
      "\n",
      "See the caveats in the documentation: https://pandas.pydata.org/pandas-docs/stable/user_guide/indexing.html#returning-a-view-versus-a-copy\n",
      "\n"
     ]
    },
    {
     "ename": "NameError",
     "evalue": "name 'cat_model_base_012' is not defined",
     "output_type": "error",
     "traceback": [
      "\u001b[1;31m---------------------------------------------------------------------------\u001b[0m",
      "\u001b[1;31mNameError\u001b[0m                                 Traceback (most recent call last)",
      "\u001b[1;32m<ipython-input-185-b20562dbff94>\u001b[0m in \u001b[0;36m<module>\u001b[1;34m\u001b[0m\n\u001b[0;32m     51\u001b[0m \u001b[0mcat_model_base_011\u001b[0m \u001b[1;33m=\u001b[0m \u001b[0mcat_model\u001b[0m\u001b[1;33m.\u001b[0m\u001b[0mmodel_run_log\u001b[0m\u001b[1;33m(\u001b[0m\u001b[0mfeatures_to_keep\u001b[0m\u001b[1;33m,\u001b[0m \u001b[0mvar_dict\u001b[0m \u001b[1;33m)\u001b[0m\u001b[1;33m\u001b[0m\u001b[1;33m\u001b[0m\u001b[0m\n\u001b[0;32m     52\u001b[0m \u001b[1;33m\u001b[0m\u001b[0m\n\u001b[1;32m---> 53\u001b[1;33m \u001b[0mdisplay\u001b[0m\u001b[1;33m(\u001b[0m\u001b[0mcat_model_base_012\u001b[0m\u001b[1;33m)\u001b[0m\u001b[1;33m\u001b[0m\u001b[1;33m\u001b[0m\u001b[0m\n\u001b[0m\u001b[0;32m     54\u001b[0m \u001b[1;33m\u001b[0m\u001b[0m\n\u001b[0;32m     55\u001b[0m \u001b[0mdisplay\u001b[0m\u001b[1;33m(\u001b[0m\u001b[0mnp\u001b[0m\u001b[1;33m.\u001b[0m\u001b[0mexp\u001b[0m\u001b[1;33m(\u001b[0m\u001b[0mcat_model_base_012\u001b[0m\u001b[1;33m[\u001b[0m\u001b[1;34m\"y_pred\"\u001b[0m\u001b[1;33m]\u001b[0m\u001b[1;33m)\u001b[0m\u001b[1;33m)\u001b[0m\u001b[1;33m\u001b[0m\u001b[1;33m\u001b[0m\u001b[0m\n",
      "\u001b[1;31mNameError\u001b[0m: name 'cat_model_base_012' is not defined"
     ]
    }
   ],
   "source": [
    "columns_to_keep = [\"Manufacturer\",\"Prod. year\",\"Category\",\"Leather interior\",\"Fuel type\", \"Cylinders\",\n",
    "                   \"Gear box type\", \\\n",
    " \"Drive wheels\", \"Airbags\", \"Price\"]\n",
    "\n",
    "cat_features = [\"Manufacturer\",\"Prod. year\",\"Category\",\"Leather interior\",\"Fuel type\", \"Gear box type\", \\\n",
    " \"Drive wheels\"]\n",
    "\n",
    "features_to_keep = train[columns_to_keep]\n",
    "\n",
    "#features_to_keep[\"Price\"] = np.log10(features_to_keep.Price)\n",
    "\n",
    "features_to_keep[cat_features] = features_to_keep[cat_features].astype(str)\n",
    "\n",
    "\n",
    "var_dict = {}\n",
    "var_dict[\"independant\"] = [\"Manufacturer\",\"Prod. year\",\"Category\",\"Leather interior\",\"Fuel type\", \"Cylinders\",\\\n",
    "                           \"Gear box type\", \"Drive wheels\", \"Airbags\"]\n",
    "\n",
    "var_dict[\"dependant\"]   = [\"Price\"]\n",
    "\n",
    "params = {\"cat_features\": cat_features, \n",
    "          \"loss_function\": \"RMSE\", \n",
    "          \"od_type\":\"IncToDec\",  # overfitting detector.\n",
    "          \"random_seed\" : 42,\n",
    "          \"colsample_bylevel\": 0.5, #  The percentage of features to be used in each split selection. This helps us control overfitting and the values range from (0,1].\n",
    "          # \"iterations\" : 100, \n",
    "          \"verbose\":0,\\\n",
    "          'learning_rate': 0.1,\n",
    "          # \"boosting_type\" : \"Ordered\" , # to counter leakage when sample size is small\n",
    "          ## this one doesnt give good results\n",
    "          ## This takes time, idk \n",
    "          #'depth': 8,   ##depth of the trees\n",
    "          'l2_leaf_reg': 20, \n",
    "          \"max_depth\" : 16,  #max depth /depth of 10 makes sense \n",
    "          \"model_size_reg\" : 5,\n",
    "          \"n_estimators\": 1000,\n",
    "          \"random_strength\": 0.4,  #We use randomness when scoring the splits. Every split gets a score and then we add some randomness to it, this helps to reduce overfitting.\n",
    "          # \"bootstrap_type \" :\"Bayesian\",\n",
    "          \"bagging_temperature\": 2,    # 0 to +infty  / Only with Bayesian bootstraping\n",
    "          \"eval_metric\" : \"MSLE\" , #The metric used for overfitting detection \n",
    "           # \"grow_policy\": \"Lossguide\" , # The tree growing policy. Defines how to perform greedy tree construction.\n",
    "          \"min_data_in_leaf\" :  10,  # The minimum number of training samples in a leaf. CatBoost does not search for new splits in leaves with samples count less than the specified value.\n",
    "                              # Can be used only with the Lossguide and Depthwise growing policies.\n",
    "          \"one_hot_max_size\": 11, # Use one-hot encoding for all categorical features with a number of different values less than or equal to the given parameter value. Ctrs are not calculated for such features.\n",
    "          \"score_function\":\"L2\"\n",
    "         }\n",
    "\n",
    "\n",
    "cat_model = catboost_regressor.new_instance(params)\n",
    "\n",
    "cat_model_base_011 = cat_model.model_run_log(features_to_keep, var_dict )\n",
    "\n",
    "display(cat_model_base_012)\n",
    "\n",
    "display(np.exp(cat_model_base_012[\"y_pred\"]))\n",
    "\n",
    "# 0.1380854363681353 RMSLE Target 0.12 or 0.11\n",
    "# 1.2031523517963438  MSE"
   ]
  },
  {
   "cell_type": "code",
   "execution_count": 186,
   "metadata": {},
   "outputs": [
    {
     "data": {
      "text/plain": [
       "{'mae': 0.6742053196592469,\n",
       " 'mse': 1.2607457178165768,\n",
       " 'rmse': 1.1228293360153077,\n",
       " 'r2': 0.4756451698439086,\n",
       " 'msle': 0.020003499841019994,\n",
       " 'rmsle': 0.14143372950261898,\n",
       " 'model': <catboost.core.CatBoostRegressor at 0x28f20335970>,\n",
       " 'y_test':            Price\n",
       " 736    10.214092\n",
       " 8674    9.244742\n",
       " 5971   10.615702\n",
       " 1957   10.564576\n",
       " 11075  10.647874\n",
       " ...          ...\n",
       " 18231  11.788411\n",
       " 1082   10.493106\n",
       " 6206    9.303557\n",
       " 9124    5.398163\n",
       " 1935    9.345570\n",
       " \n",
       " [4810 rows x 1 columns],\n",
       " 'y_pred': array([9.79722692, 9.51239088, 9.09038687, ..., 9.80653205, 5.18485794,\n",
       "        9.95738557]),\n",
       " 'model_score': -7799.939630114222}"
      ]
     },
     "metadata": {},
     "output_type": "display_data"
    },
    {
     "data": {
      "text/plain": [
       "array([17983.805169  , 13526.29543621,  8869.61681808, ...,\n",
       "       18151.92781215,   178.54808361, 21107.53934135])"
      ]
     },
     "metadata": {},
     "output_type": "display_data"
    }
   ],
   "source": [
    "display(cat_model_base_011)\n",
    "\n",
    "display(np.exp(cat_model_base_011[\"y_pred\"]))\n",
    "\n",
    "# 0.1380854363681353 RMSLE Target 0.12 or 0.11\n",
    "# 1.2031523517963438  MSE"
   ]
  },
  {
   "cell_type": "code",
   "execution_count": 187,
   "metadata": {},
   "outputs": [
    {
     "name": "stderr",
     "output_type": "stream",
     "text": [
      "C:\\Users\\chris.dmello\\Anaconda3\\lib\\site-packages\\pandas\\core\\frame.py:3065: SettingWithCopyWarning:\n",
      "\n",
      "\n",
      "A value is trying to be set on a copy of a slice from a DataFrame.\n",
      "Try using .loc[row_indexer,col_indexer] = value instead\n",
      "\n",
      "See the caveats in the documentation: https://pandas.pydata.org/pandas-docs/stable/user_guide/indexing.html#returning-a-view-versus-a-copy\n",
      "\n"
     ]
    },
    {
     "data": {
      "text/plain": [
       "{'mae': 0.677975253654798,\n",
       " 'mse': 1.2657638246932832,\n",
       " 'rmse': 1.1250616981718307,\n",
       " 'r2': 0.4735580966602714,\n",
       " 'msle': 0.020130291647281768,\n",
       " 'rmsle': 0.14188125897130235,\n",
       " 'model': <catboost.core.CatBoostRegressor at 0x28f2034a1f0>,\n",
       " 'y_test':            Price\n",
       " 736    10.214092\n",
       " 8674    9.244742\n",
       " 5971   10.615702\n",
       " 1957   10.564576\n",
       " 11075  10.647874\n",
       " ...          ...\n",
       " 18231  11.788411\n",
       " 1082   10.493106\n",
       " 6206    9.303557\n",
       " 9124    5.398163\n",
       " 1935    9.345570\n",
       " \n",
       " [4810 rows x 1 columns],\n",
       " 'y_pred': array([9.98667828, 9.50242816, 9.02933536, ..., 9.63876323, 5.3215232 ,\n",
       "        9.94704833]),\n",
       " 'model_score': -7795.105412519728}"
      ]
     },
     "metadata": {},
     "output_type": "display_data"
    },
    {
     "data": {
      "text/plain": [
       "array([21734.98133535, 13392.20584989,  8344.31174702, ...,\n",
       "       15348.34958406,   204.69543613, 20890.46955594])"
      ]
     },
     "metadata": {},
     "output_type": "display_data"
    }
   ],
   "source": [
    "columns_to_keep = [\"Manufacturer\",\"Prod. year\",\"Category\",\"Leather interior\",\"Fuel type\", \"Cylinders\",\n",
    "                   \"Gear box type\", \\\n",
    " \"Drive wheels\", \"Airbags\", \"Price\"]\n",
    "\n",
    "cat_features = [\"Manufacturer\",\"Prod. year\",\"Category\",\"Leather interior\",\"Fuel type\", \"Gear box type\", \\\n",
    " \"Drive wheels\"]\n",
    "\n",
    "features_to_keep = train[columns_to_keep]\n",
    "\n",
    "#features_to_keep[\"Price\"] = np.log10(features_to_keep.Price)\n",
    "\n",
    "features_to_keep[cat_features] = features_to_keep[cat_features].astype(str)\n",
    "\n",
    "features_to_keep = features_to_keep[features_to_keep[\"Price\"] <= 200000]\n",
    "features_to_keep = features_to_keep[features_to_keep[\"Price\"] >= 1000]\n",
    "\n",
    "var_dict = {}\n",
    "var_dict[\"independant\"] = [\"Manufacturer\",\"Prod. year\",\"Category\",\"Leather interior\",\"Fuel type\", \"Cylinders\",\\\n",
    "                           \"Gear box type\", \"Drive wheels\", \"Airbags\"]\n",
    "\n",
    "var_dict[\"dependant\"]   = [\"Price\"]\n",
    "\n",
    "params = {\"cat_features\": cat_features, \n",
    "          \"loss_function\": \"RMSE\", \n",
    "          \"od_type\":\"IncToDec\",  # overfitting detector.\n",
    "          \"random_seed\" : 42,\n",
    "          \"colsample_bylevel\": 0.5, #  The percentage of features to be used in each split selection. This helps us control overfitting and the values range from (0,1].\n",
    "          # \"iterations\" : 100, \n",
    "          \"verbose\":0,\\\n",
    "          'learning_rate': 0.1,\n",
    "          # \"boosting_type\" : \"Ordered\" , # to counter leakage when sample size is small\n",
    "          ## this one doesnt give good results\n",
    "          ## This takes time, idk \n",
    "          #'depth': 8,   ##depth of the trees\n",
    "          'l2_leaf_reg': 20, \n",
    "          \"max_depth\" : 16,  #max depth /depth of 10 makes sense \n",
    "          \"model_size_reg\" : 5,\n",
    "          \"n_estimators\": 1000,\n",
    "          \"random_strength\": 0.4,  #We use randomness when scoring the splits. Every split gets a score and then we add some randomness to it, this helps to reduce overfitting.\n",
    "          # \"bootstrap_type \" :\"Bayesian\",\n",
    "          \"bagging_temperature\": 2,    # 0 to +infty  / Only with Bayesian bootstraping\n",
    "          \"eval_metric\" : \"MSLE\" , #The metric used for overfitting detection \n",
    "           # \"grow_policy\": \"Lossguide\" , # The tree growing policy. Defines how to perform greedy tree construction.\n",
    "          \"min_data_in_leaf\" :  10,  # The minimum number of training samples in a leaf. CatBoost does not search for new splits in leaves with samples count less than the specified value.\n",
    "                              # Can be used only with the Lossguide and Depthwise growing policies.\n",
    "          \"one_hot_max_size\": 4, # Use one-hot encoding for all categorical features with a number of different values less than or equal to the given parameter value. Ctrs are not calculated for such features.\n",
    "          \"score_function\":\"L2\"\n",
    "         }\n",
    "\n",
    "\n",
    "cat_model = catboost_regressor.new_instance(params)\n",
    "\n",
    "cat_model_base_012 = cat_model.model_run_log(features_to_keep, var_dict )\n",
    "\n",
    "display(cat_model_base_012)\n",
    "\n",
    "display(np.exp(cat_model_base_012[\"y_pred\"]))\n",
    "\n",
    "# 0.1380854363681353 RMSLE Target 0.12 or 0.11\n",
    "# 1.2031523517963438  MSE"
   ]
  },
  {
   "cell_type": "markdown",
   "metadata": {},
   "source": [
    "#### 20210709"
   ]
  },
  {
   "cell_type": "code",
   "execution_count": 6,
   "metadata": {},
   "outputs": [
    {
     "name": "stderr",
     "output_type": "stream",
     "text": [
      "C:\\Users\\chris.dmello\\Anaconda3\\lib\\site-packages\\pandas\\core\\frame.py:3065: SettingWithCopyWarning: \n",
      "A value is trying to be set on a copy of a slice from a DataFrame.\n",
      "Try using .loc[row_indexer,col_indexer] = value instead\n",
      "\n",
      "See the caveats in the documentation: https://pandas.pydata.org/pandas-docs/stable/user_guide/indexing.html#returning-a-view-versus-a-copy\n",
      "  self[k1] = value[k2]\n"
     ]
    },
    {
     "name": "stdout",
     "output_type": "stream",
     "text": [
      "0:\tlearn: 1.3085210\ttotal: 114ms\tremaining: 22.6s\n",
      "199:\tlearn: 0.4809276\ttotal: 9m 14s\tremaining: 0us\n"
     ]
    },
    {
     "data": {
      "text/plain": [
       "{'mae': 0.7337556615461465,\n",
       " 'mse': 1.393363538236538,\n",
       " 'rmse': 1.1804082083061511,\n",
       " 'r2': 0.4204882942588696,\n",
       " 'msle': 0.02165961544876645,\n",
       " 'rmsle': 0.1471720606934837,\n",
       " 'model': <catboost.core.CatBoostRegressor at 0x2935835d5b0>,\n",
       " 'y_test':            Price\n",
       " 736    10.214092\n",
       " 8674    9.244742\n",
       " 5971   10.615702\n",
       " 1957   10.564576\n",
       " 11075  10.647874\n",
       " ...          ...\n",
       " 18231  11.788411\n",
       " 1082   10.493106\n",
       " 6206    9.303557\n",
       " 9124    5.398163\n",
       " 1935    9.345570\n",
       " \n",
       " [4810 rows x 1 columns],\n",
       " 'y_pred': array([10.43656058,  9.86223648,  8.59394567, ...,  9.87977208,\n",
       "         5.02488927, 10.00564645]),\n",
       " 'model_score': -7967.594661332638}"
      ]
     },
     "metadata": {},
     "output_type": "display_data"
    },
    {
     "data": {
      "text/plain": [
       "array([34083.22421313, 19191.76339584,  5398.87390026, ...,\n",
       "       19531.27058222,   152.15340753, 22151.18902059])"
      ]
     },
     "metadata": {},
     "output_type": "display_data"
    }
   ],
   "source": [
    "columns_to_keep = [\"Manufacturer\",\"Prod. year\",\"Category\",\"Leather interior\",\"Fuel type\", \n",
    "                   \"Gear box type\", \\\n",
    " \"Airbags\", \"Price\"]\n",
    "\n",
    "cat_features = [\"Manufacturer\",\"Prod. year\",\"Category\",\"Leather interior\",\"Fuel type\", \"Gear box type\", \\\n",
    "]\n",
    "\n",
    "features_to_keep = train[columns_to_keep]\n",
    "\n",
    "#features_to_keep[\"Price\"] = np.log10(features_to_keep.Price)\n",
    "\n",
    "features_to_keep[cat_features] = features_to_keep[cat_features].astype(str)\n",
    "\n",
    "\n",
    "var_dict = {}\n",
    "var_dict[\"independant\"] = [\"Manufacturer\",\"Prod. year\",\"Category\",\"Leather interior\",\"Fuel type\", \\\n",
    "                           \"Gear box type\", \"Airbags\"]\n",
    "\n",
    "var_dict[\"dependant\"]   = [\"Price\"]\n",
    "\n",
    "params = {\"cat_features\": cat_features, \n",
    "          \"loss_function\": \"RMSE\", \n",
    "#           \"od_type\":\"IncToDec\",  # overfitting detector.\n",
    "          \"random_seed\" : 42,\n",
    "#           \"colsample_bylevel\": 0.5, #  The percentage of features to be used in each split selection. This helps us control overfitting and the values range from (0,1].\n",
    "          # \"iterations\" : 100, \n",
    "          \"verbose\":1000,\\\n",
    "          'learning_rate': 0.8,\n",
    "          # \"boosting_type\" : \"Ordered\" , # to counter leakage when sample size is small\n",
    "          ## this one doesnt give good results\n",
    "          ## This takes time, idk \n",
    "          #'depth': 8,   ##depth of the trees\n",
    "          'l2_leaf_reg': 25, \n",
    "          \"max_depth\" : 16,  #max depth /depth of 10 makes sense \n",
    "#           \"model_size_reg\" : 5,\n",
    "          ## This parameter influences the model size if training data has categorical features.\n",
    "          \"n_estimators\": 200,\n",
    "#           \"random_strength\": 0.4,  #We use randomness when scoring the splits. Every split gets a score and then we add some randomness to it, this helps to reduce overfitting.\n",
    "          # \"bootstrap_type \" :\"Bayesian\",\n",
    "#           \"bagging_temperature\": 2,    # 0 to +infty  / Only with Bayesian bootstraping\n",
    "#           \"eval_metric\" : \"MSLE\" , #The metric used for overfitting detection \n",
    "           # \"grow_policy\": \"Lossguide\" , # The tree growing policy. Defines how to perform greedy tree construction.\n",
    "#           \"min_data_in_leaf\" :  10,  # The minimum number of training samples in a leaf. CatBoost does not search for new splits in leaves with samples count less than the specified value.\n",
    "                              # Can be used only with the Lossguide and Depthwise growing policies.\n",
    "#           \"one_hot_max_size\": 4, # Use one-hot encoding for all categorical features with a number of different values less than or equal to the given parameter value. Ctrs are not calculated for such features.\n",
    "#           \"score_function\":\"L2\"  # The score type used to select the next split during the tree construction.\n",
    "         }\n",
    "\n",
    "\n",
    "cat_model = catboost_regressor.new_instance(params)\n",
    "\n",
    "cat_model_base_012 = cat_model.model_run_log(features_to_keep, var_dict )\n",
    "\n",
    "display(cat_model_base_012)\n",
    "\n",
    "display(np.exp(cat_model_base_012[\"y_pred\"]))\n",
    "\n",
    "# 0.1380854363681353 RMSLE Target 0.12 or 0.11\n",
    "# 1.2031523517963438  MSE"
   ]
  },
  {
   "cell_type": "code",
   "execution_count": 12,
   "metadata": {},
   "outputs": [
    {
     "data": {
      "image/png": "[encoded data removed]",
      "text/plain": [
       "<Figure size 720x504 with 1 Axes>"
      ]
     },
     "metadata": {
      "needs_background": "light"
     },
     "output_type": "display_data"
    }
   ],
   "source": [
    "cat_model.feature_importance(cat_model_base_012[\"model\"], [\"Manufacturer\",\"Prod. year\",\"Category\",\"Leather interior\",\"Fuel type\",\n",
    "                   \"Gear box type\", \\\n",
    "\"Airbags\"])"
   ]
  },
  {
   "cell_type": "code",
   "execution_count": 7,
   "metadata": {},
   "outputs": [
    {
     "name": "stderr",
     "output_type": "stream",
     "text": [
      "C:\\Users\\chris.dmello\\Anaconda3\\lib\\site-packages\\pandas\\core\\frame.py:3065: SettingWithCopyWarning: \n",
      "A value is trying to be set on a copy of a slice from a DataFrame.\n",
      "Try using .loc[row_indexer,col_indexer] = value instead\n",
      "\n",
      "See the caveats in the documentation: https://pandas.pydata.org/pandas-docs/stable/user_guide/indexing.html#returning-a-view-versus-a-copy\n",
      "  self[k1] = value[k2]\n"
     ]
    },
    {
     "name": "stdout",
     "output_type": "stream",
     "text": [
      "0:\tlearn: 1.3289465\ttotal: 27.1ms\tremaining: 5.4s\n",
      "199:\tlearn: 0.8754942\ttotal: 4m 36s\tremaining: 0us\n"
     ]
    },
    {
     "data": {
      "text/plain": [
       "{'mae': 0.8041619571596806,\n",
       " 'mse': 1.6008768096005592,\n",
       " 'rmse': 1.2652576060235952,\n",
       " 'r2': 0.3341817658102463,\n",
       " 'msle': 0.02445660853948758,\n",
       " 'rmsle': 0.15638608806248586,\n",
       " 'model': <catboost.core.CatBoostRegressor at 0x2935e6a7b20>,\n",
       " 'y_test':            Price\n",
       " 736    10.214092\n",
       " 8674    9.244742\n",
       " 5971   10.615702\n",
       " 1957   10.564576\n",
       " 11075  10.647874\n",
       " ...          ...\n",
       " 18231  11.788411\n",
       " 1082   10.493106\n",
       " 6206    9.303557\n",
       " 9124    5.398163\n",
       " 1935    9.345570\n",
       " \n",
       " [4810 rows x 1 columns],\n",
       " 'y_pred': array([ 9.66007815,  9.05919498,  8.56353393, ...,  9.71762836,\n",
       "         6.8046454 , 10.21923187]),\n",
       " 'model_score': -7734.669799468256}"
      ]
     },
     "metadata": {},
     "output_type": "display_data"
    },
    {
     "data": {
      "text/plain": [
       "array([15679.00998511,  8597.22694254,  5237.15622962, ...,\n",
       "       16607.81025485,   902.02785459, 27425.59193985])"
      ]
     },
     "metadata": {},
     "output_type": "display_data"
    }
   ],
   "source": [
    "columns_to_keep = [\"Prod. year\",\"Category\",\"Leather interior\",\n",
    "                   \"Gear box type\", \\\n",
    " \"Airbags\", \"Price\"]\n",
    "\n",
    "cat_features = [\"Prod. year\",\"Category\",\"Leather interior\", \"Gear box type\", \\\n",
    "]\n",
    "\n",
    "features_to_keep = train[columns_to_keep]\n",
    "\n",
    "#features_to_keep[\"Price\"] = np.log10(features_to_keep.Price)\n",
    "\n",
    "features_to_keep[cat_features] = features_to_keep[cat_features].astype(str)\n",
    "\n",
    "\n",
    "var_dict = {}\n",
    "var_dict[\"independant\"] = [\"Prod. year\",\"Category\",\"Leather interior\", \\\n",
    "                           \"Gear box type\", \"Airbags\"]\n",
    "\n",
    "var_dict[\"dependant\"]   = [\"Price\"]\n",
    "\n",
    "params = {\"cat_features\": cat_features, \n",
    "          \"loss_function\": \"RMSE\", \n",
    "#           \"od_type\":\"IncToDec\",  # overfitting detector.\n",
    "          \"random_seed\" : 42,\n",
    "#           \"colsample_bylevel\": 0.5, #  The percentage of features to be used in each split selection. This helps us control overfitting and the values range from (0,1].\n",
    "          # \"iterations\" : 100, \n",
    "          \"verbose\":1000,\\\n",
    "          'learning_rate': 0.8,\n",
    "          # \"boosting_type\" : \"Ordered\" , # to counter leakage when sample size is small\n",
    "          ## this one doesnt give good results\n",
    "          ## This takes time, idk \n",
    "          #'depth': 8,   ##depth of the trees\n",
    "          'l2_leaf_reg': 25, \n",
    "          \"max_depth\" : 16,  #max depth /depth of 10 makes sense \n",
    "#           \"model_size_reg\" : 5,\n",
    "          ## This parameter influences the model size if training data has categorical features.\n",
    "          \"n_estimators\": 200,\n",
    "#           \"random_strength\": 0.4,  #We use randomness when scoring the splits. Every split gets a score and then we add some randomness to it, this helps to reduce overfitting.\n",
    "          # \"bootstrap_type \" :\"Bayesian\",\n",
    "#           \"bagging_temperature\": 2,    # 0 to +infty  / Only with Bayesian bootstraping\n",
    "#           \"eval_metric\" : \"MSLE\" , #The metric used for overfitting detection \n",
    "           # \"grow_policy\": \"Lossguide\" , # The tree growing policy. Defines how to perform greedy tree construction.\n",
    "#           \"min_data_in_leaf\" :  10,  # The minimum number of training samples in a leaf. CatBoost does not search for new splits in leaves with samples count less than the specified value.\n",
    "                              # Can be used only with the Lossguide and Depthwise growing policies.\n",
    "#           \"one_hot_max_size\": 4, # Use one-hot encoding for all categorical features with a number of different values less than or equal to the given parameter value. Ctrs are not calculated for such features.\n",
    "#           \"score_function\":\"L2\"  # The score type used to select the next split during the tree construction.\n",
    "         }\n",
    "\n",
    "\n",
    "cat_model = catboost_regressor.new_instance(params)\n",
    "\n",
    "cat_model_base_012 = cat_model.model_run_log(features_to_keep, var_dict )\n",
    "\n",
    "display(cat_model_base_012)\n",
    "\n",
    "display(np.exp(cat_model_base_012[\"y_pred\"]))\n",
    "\n",
    "# 0.1380854363681353 RMSLE Target 0.12 or 0.11\n",
    "# 1.2031523517963438  MSE"
   ]
  },
  {
   "cell_type": "markdown",
   "metadata": {},
   "source": [
    "#### GridsearchCV 001"
   ]
  },
  {
   "cell_type": "code",
   "execution_count": 8,
   "metadata": {},
   "outputs": [
    {
     "name": "stderr",
     "output_type": "stream",
     "text": [
      "C:\\Users\\chris.dmello\\Anaconda3\\lib\\site-packages\\pandas\\core\\frame.py:3065: SettingWithCopyWarning: \n",
      "A value is trying to be set on a copy of a slice from a DataFrame.\n",
      "Try using .loc[row_indexer,col_indexer] = value instead\n",
      "\n",
      "See the caveats in the documentation: https://pandas.pydata.org/pandas-docs/stable/user_guide/indexing.html#returning-a-view-versus-a-copy\n",
      "  self[k1] = value[k2]\n"
     ]
    },
    {
     "name": "stdout",
     "output_type": "stream",
     "text": [
      "Manufacturer        False\n",
      "Prod. year          False\n",
      "Category            False\n",
      "Leather interior    False\n",
      "Fuel type           False\n",
      "Gear box type       False\n",
      "Airbags             False\n",
      "Price               False\n",
      "dtype: bool\n",
      "0:\tlearn: 1.3521014\ttotal: 149ms\tremaining: 2m 28s\n",
      "999:\tlearn: 0.9363834\ttotal: 2m 25s\tremaining: 0us\n"
     ]
    }
   ],
   "source": [
    "columns_to_keep = [\"Manufacturer\",\"Prod. year\",\"Category\",\"Leather interior\",\"Fuel type\", \n",
    "                   \"Gear box type\", \\\n",
    " \"Airbags\", \"Price\"]\n",
    "\n",
    "cat_features = [\"Manufacturer\",\"Prod. year\",\"Category\",\"Leather interior\",\"Fuel type\", \"Gear box type\", \\\n",
    "]\n",
    "\n",
    "features_to_keep = train[columns_to_keep]\n",
    "\n",
    "#features_to_keep[\"Price\"] = np.log10(features_to_keep.Price)\n",
    "\n",
    "features_to_keep[cat_features] = features_to_keep[cat_features].astype(str)\n",
    "\n",
    "\n",
    "var_dict = {}\n",
    "var_dict[\"independant\"] = [\"Manufacturer\",\"Prod. year\",\"Category\",\"Leather interior\",\"Fuel type\", \\\n",
    "                           \"Gear box type\", \"Airbags\"]\n",
    "\n",
    "var_dict[\"dependant\"]   = [\"Price\"]\n",
    "\n",
    "## make your own scorer for gridsearch\n",
    "scorer = metrics.make_scorer(metrics.mean_squared_log_error)\n",
    "\n",
    "params = {\"cat_features\": cat_features, \n",
    "          \"loss_function\": \"RMSE\", \n",
    "          \"iterations\" : 1000, \n",
    "          \"verbose\":1000,\n",
    "          \n",
    "          \"grow_policy\": \"Lossguide\",\n",
    "#           \"od_type\" : \"Iter\",\n",
    "#           \"od_wait\" : 100\n",
    "          \"random_seed\" : 42\n",
    "         }\n",
    "\n",
    "other_dict = {}\n",
    "other_dict[\"param_grid\"] = {'learning_rate': [0.2,0.3, 0.6],\n",
    "                            'depth': [15,20,25],\n",
    "                            'l2_leaf_reg': [20,25,30],  ## ideal values are from 10 to 30 \n",
    "                            \n",
    "                           }\n",
    "other_dict[\"scoring\"] = scorer\n",
    "other_dict[\"cv\"]      = 5  ## general practice to give 5 or 10\n",
    "\n",
    "# print(features_to_keep.isnull().any())\n",
    "\n",
    "cat_model = catboost_regressor.new_instance(params)\n",
    "\n",
    "cat_model_cv_005 = cat_model.model_run_cv_log(features_to_keep, var_dict,  other_dict)"
   ]
  },
  {
   "cell_type": "code",
   "execution_count": 9,
   "metadata": {},
   "outputs": [
    {
     "data": {
      "text/plain": [
       "{'mae': 0.7239923804003241,\n",
       " 'mse': 1.3273782039029203,\n",
       " 'rmse': 1.1521190059637592,\n",
       " 'r2': 0.44793215410177145,\n",
       " 'grid_search_ad.score': 0.02073494782352556,\n",
       " 'msle': 0.02073494782352556,\n",
       " 'rmsle': 0.1439963465631179,\n",
       " 'model_score': 0.02073494782352556,\n",
       " 'model': GridSearchCV(cv=5,\n",
       "              estimator=<catboost.core.CatBoostRegressor object at 0x000002935E9D1460>,\n",
       "              n_jobs=-1,\n",
       "              param_grid={'depth': [15, 20, 25], 'l2_leaf_reg': [20, 25, 30],\n",
       "                          'learning_rate': [0.2, 0.3, 0.6]},\n",
       "              scoring=make_scorer(mean_squared_log_error)),\n",
       " 'y_test':            Price\n",
       " 736    10.214092\n",
       " 8674    9.244742\n",
       " 5971   10.615702\n",
       " 1957   10.564576\n",
       " 11075  10.647874\n",
       " ...          ...\n",
       " 18231  11.788411\n",
       " 1082   10.493106\n",
       " 6206    9.303557\n",
       " 9124    5.398163\n",
       " 1935    9.345570\n",
       " \n",
       " [4810 rows x 1 columns],\n",
       " 'y_pred': array([10.01457068,  9.81113632,  8.41479643, ...,  9.78225359,\n",
       "         5.24417607,  9.91252523])}"
      ]
     },
     "metadata": {},
     "output_type": "display_data"
    },
    {
     "data": {
      "text/plain": [
       "array([22349.75589984, 18235.69688484,  4513.35667448, ...,\n",
       "       17716.53368827,   189.45965013, 20181.57289314])"
      ]
     },
     "metadata": {},
     "output_type": "display_data"
    },
    {
     "data": {
      "text/plain": [
       "{'depth': 15, 'l2_leaf_reg': 20, 'learning_rate': 0.6}"
      ]
     },
     "metadata": {},
     "output_type": "display_data"
    }
   ],
   "source": [
    "display(cat_model_cv_005)\n",
    "\n",
    "display(np.exp(cat_model_cv_005[\"y_pred\"]))\n",
    "\n",
    "display(cat_model_cv_005[\"model\"].best_params_)"
   ]
  },
  {
   "cell_type": "markdown",
   "metadata": {},
   "source": [
    "#### 002"
   ]
  },
  {
   "cell_type": "markdown",
   "metadata": {},
   "source": [
    "Removed the outlier values, price> $ 200000  and price< $ 1000, ideally. The results are promising"
   ]
  },
  {
   "cell_type": "code",
   "execution_count": 10,
   "metadata": {},
   "outputs": [
    {
     "name": "stderr",
     "output_type": "stream",
     "text": [
      "C:\\Users\\chris.dmello\\Anaconda3\\lib\\site-packages\\pandas\\core\\frame.py:3065: SettingWithCopyWarning: \n",
      "A value is trying to be set on a copy of a slice from a DataFrame.\n",
      "Try using .loc[row_indexer,col_indexer] = value instead\n",
      "\n",
      "See the caveats in the documentation: https://pandas.pydata.org/pandas-docs/stable/user_guide/indexing.html#returning-a-view-versus-a-copy\n",
      "  self[k1] = value[k2]\n"
     ]
    },
    {
     "data": {
      "text/plain": [
       "{'mae': 0.34028448889725577,\n",
       " 'mse': 0.2738977356321955,\n",
       " 'rmse': 0.5233524009997427,\n",
       " 'r2': 0.6634929932097587,\n",
       " 'msle': 0.0027430405997138346,\n",
       " 'rmsle': 0.052374045095961747,\n",
       " 'model': <catboost.core.CatBoostRegressor at 0x293000f3070>,\n",
       " 'y_test':            Price\n",
       " 18042   9.727883\n",
       " 14652  10.167043\n",
       " 9116    9.554922\n",
       " 18645  10.202555\n",
       " 14771  10.227562\n",
       " ...          ...\n",
       " 4434    9.424564\n",
       " 8126    9.150484\n",
       " 13010   9.385805\n",
       " 14412   7.796058\n",
       " 16237   9.303557\n",
       " \n",
       " [4163 rows x 1 columns],\n",
       " 'y_pred': array([9.59440086, 9.86872051, 9.49442158, ..., 9.37253363, 8.56745486,\n",
       "        9.15901648]),\n",
       " 'model_score': -7108.872228360432}"
      ]
     },
     "metadata": {},
     "output_type": "display_data"
    },
    {
     "data": {
      "text/plain": [
       "array([14682.34243309, 19316.60783676, 13285.40819906, ...,\n",
       "       11760.875031  ,  5257.7310671 ,  9499.70930224])"
      ]
     },
     "metadata": {},
     "output_type": "display_data"
    }
   ],
   "source": [
    "columns_to_keep = [\"Manufacturer\",\"Prod. year\",\"Category\",\"Leather interior\",\"Fuel type\", \"Cylinders\",\n",
    "                   \"Gear box type\", \\\n",
    " \"Drive wheels\", \"Airbags\", \"Price\"]\n",
    "\n",
    "cat_features = [\"Manufacturer\",\"Prod. year\",\"Category\",\"Leather interior\",\"Fuel type\", \"Gear box type\", \\\n",
    " \"Drive wheels\"]\n",
    "\n",
    "features_to_keep = train[columns_to_keep]\n",
    "\n",
    "#features_to_keep[\"Price\"] = np.log10(features_to_keep.Price)\n",
    "\n",
    "features_to_keep[cat_features] = features_to_keep[cat_features].astype(str)\n",
    "\n",
    "features_to_keep = features_to_keep[features_to_keep[\"Price\"] <= 200000]\n",
    "features_to_keep = features_to_keep[features_to_keep[\"Price\"] >= 1000]\n",
    "\n",
    "var_dict = {}\n",
    "var_dict[\"independant\"] = [\"Manufacturer\",\"Prod. year\",\"Category\",\"Leather interior\",\"Fuel type\", \"Cylinders\",\\\n",
    "                           \"Gear box type\", \"Drive wheels\", \"Airbags\"]\n",
    "\n",
    "var_dict[\"dependant\"]   = [\"Price\"]\n",
    "\n",
    "params = {\"cat_features\": cat_features, \n",
    "          \"loss_function\": \"RMSE\", \n",
    "          \"od_type\":\"IncToDec\",  # overfitting detector.\n",
    "          \"random_seed\" : 42,\n",
    "          \"colsample_bylevel\": 0.5, #  The percentage of features to be used in each split selection. This helps us control overfitting and the values range from (0,1].\n",
    "          # \"iterations\" : 100, \n",
    "          \"verbose\":0,\\\n",
    "          'learning_rate': 0.1,\n",
    "          # \"boosting_type\" : \"Ordered\" , # to counter leakage when sample size is small\n",
    "          ## this one doesnt give good results\n",
    "          ## This takes time, idk \n",
    "          #'depth': 8,   ##depth of the trees\n",
    "          'l2_leaf_reg': 20, \n",
    "          \"max_depth\" : 16,  #max depth /depth of 10 makes sense \n",
    "          \"model_size_reg\" : 5,\n",
    "          \"n_estimators\": 1000,\n",
    "          \"random_strength\": 0.4,  #We use randomness when scoring the splits. Every split gets a score and then we add some randomness to it, this helps to reduce overfitting.\n",
    "          # \"bootstrap_type \" :\"Bayesian\",\n",
    "          \"bagging_temperature\": 2,    # 0 to +infty  / Only with Bayesian bootstraping\n",
    "          \"eval_metric\" : \"MSLE\" , #The metric used for overfitting detection \n",
    "           # \"grow_policy\": \"Lossguide\" , # The tree growing policy. Defines how to perform greedy tree construction.\n",
    "          \"min_data_in_leaf\" :  10,  # The minimum number of training samples in a leaf. CatBoost does not search for new splits in leaves with samples count less than the specified value.\n",
    "                              # Can be used only with the Lossguide and Depthwise growing policies.\n",
    "          \"one_hot_max_size\": 4, # Use one-hot encoding for all categorical features with a number of different values less than or equal to the given parameter value. Ctrs are not calculated for such features.\n",
    "          \"score_function\":\"L2\"\n",
    "         }\n",
    "\n",
    "\n",
    "cat_model = catboost_regressor.new_instance(params)\n",
    "\n",
    "cat_model_base_012 = cat_model.model_run_log(features_to_keep, var_dict )\n",
    "\n",
    "display(cat_model_base_012)\n",
    "\n",
    "display(np.exp(cat_model_base_012[\"y_pred\"]))\n",
    "\n",
    "# 0.1380854363681353 RMSLE Target 0.12 or 0.11\n",
    "# 1.2031523517963438  MSE"
   ]
  },
  {
   "cell_type": "code",
   "execution_count": 12,
   "metadata": {},
   "outputs": [
    {
     "data": {
      "text/html": [
       "<div>\n",
       "<style scoped>\n",
       "    .dataframe tbody tr th:only-of-type {\n",
       "        vertical-align: middle;\n",
       "    }\n",
       "\n",
       "    .dataframe tbody tr th {\n",
       "        vertical-align: top;\n",
       "    }\n",
       "\n",
       "    .dataframe thead th {\n",
       "        text-align: right;\n",
       "    }\n",
       "</style>\n",
       "<table border=\"1\" class=\"dataframe\">\n",
       "  <thead>\n",
       "    <tr style=\"text-align: right;\">\n",
       "      <th></th>\n",
       "      <th>Price</th>\n",
       "    </tr>\n",
       "  </thead>\n",
       "  <tbody>\n",
       "    <tr>\n",
       "      <th>0</th>\n",
       "      <td>18292.883545</td>\n",
       "    </tr>\n",
       "    <tr>\n",
       "      <th>1</th>\n",
       "      <td>14596.161796</td>\n",
       "    </tr>\n",
       "    <tr>\n",
       "      <th>2</th>\n",
       "      <td>8205.411653</td>\n",
       "    </tr>\n",
       "    <tr>\n",
       "      <th>3</th>\n",
       "      <td>4605.100603</td>\n",
       "    </tr>\n",
       "    <tr>\n",
       "      <th>4</th>\n",
       "      <td>4188.047651</td>\n",
       "    </tr>\n",
       "    <tr>\n",
       "      <th>...</th>\n",
       "      <td>...</td>\n",
       "    </tr>\n",
       "    <tr>\n",
       "      <th>8240</th>\n",
       "      <td>6022.320606</td>\n",
       "    </tr>\n",
       "    <tr>\n",
       "      <th>8241</th>\n",
       "      <td>14551.481864</td>\n",
       "    </tr>\n",
       "    <tr>\n",
       "      <th>8242</th>\n",
       "      <td>43337.149600</td>\n",
       "    </tr>\n",
       "    <tr>\n",
       "      <th>8243</th>\n",
       "      <td>42410.398915</td>\n",
       "    </tr>\n",
       "    <tr>\n",
       "      <th>8244</th>\n",
       "      <td>5210.670685</td>\n",
       "    </tr>\n",
       "  </tbody>\n",
       "</table>\n",
       "<p>8245 rows × 1 columns</p>\n",
       "</div>"
      ],
      "text/plain": [
       "             Price\n",
       "0     18292.883545\n",
       "1     14596.161796\n",
       "2      8205.411653\n",
       "3      4605.100603\n",
       "4      4188.047651\n",
       "...            ...\n",
       "8240   6022.320606\n",
       "8241  14551.481864\n",
       "8242  43337.149600\n",
       "8243  42410.398915\n",
       "8244   5210.670685\n",
       "\n",
       "[8245 rows x 1 columns]"
      ]
     },
     "metadata": {},
     "output_type": "display_data"
    }
   ],
   "source": [
    "columns_to_keep = [\"Manufacturer\",\"Prod. year\",\"Category\",\"Leather interior\",\"Fuel type\", \"Cylinders\",\n",
    "                   \"Gear box type\", \\\n",
    " \"Drive wheels\", \"Airbags\", \"Price\"]\n",
    "\n",
    "cat_features = [\"Manufacturer\",\"Prod. year\",\"Category\",\"Leather interior\",\"Fuel type\", \"Gear box type\", \\\n",
    " \"Drive wheels\"]\n",
    "\n",
    "\n",
    "features_to_predict_df = test[columns_to_keep]\n",
    "\n",
    "features_to_predict_df[cat_features] = features_to_predict_df[cat_features].astype(str)\n",
    "\n",
    "\n",
    "y_pred_log = cat_model_base_012[\"model\"].predict(features_to_predict_df)\n",
    "\n",
    "features_to_predict_df.head()\n",
    "y_pred = np.exp(y_pred_log)\n",
    "\n",
    "display(pd.DataFrame({\"Price\":y_pred}))"
   ]
  },
  {
   "cell_type": "code",
   "execution_count": 14,
   "metadata": {},
   "outputs": [
    {
     "data": {
      "text/html": [
       "<div>\n",
       "<style scoped>\n",
       "    .dataframe tbody tr th:only-of-type {\n",
       "        vertical-align: middle;\n",
       "    }\n",
       "\n",
       "    .dataframe tbody tr th {\n",
       "        vertical-align: top;\n",
       "    }\n",
       "\n",
       "    .dataframe thead th {\n",
       "        text-align: right;\n",
       "    }\n",
       "</style>\n",
       "<table border=\"1\" class=\"dataframe\">\n",
       "  <thead>\n",
       "    <tr style=\"text-align: right;\">\n",
       "      <th></th>\n",
       "      <th>Price</th>\n",
       "    </tr>\n",
       "  </thead>\n",
       "  <tbody>\n",
       "    <tr>\n",
       "      <th>0</th>\n",
       "      <td>18292.883545</td>\n",
       "    </tr>\n",
       "    <tr>\n",
       "      <th>1</th>\n",
       "      <td>14596.161796</td>\n",
       "    </tr>\n",
       "    <tr>\n",
       "      <th>2</th>\n",
       "      <td>8205.411653</td>\n",
       "    </tr>\n",
       "    <tr>\n",
       "      <th>3</th>\n",
       "      <td>4605.100603</td>\n",
       "    </tr>\n",
       "    <tr>\n",
       "      <th>4</th>\n",
       "      <td>4188.047651</td>\n",
       "    </tr>\n",
       "  </tbody>\n",
       "</table>\n",
       "</div>"
      ],
      "text/plain": [
       "          Price\n",
       "0  18292.883545\n",
       "1  14596.161796\n",
       "2   8205.411653\n",
       "3   4605.100603\n",
       "4   4188.047651"
      ]
     },
     "metadata": {},
     "output_type": "display_data"
    },
    {
     "data": {
      "text/plain": [
       "(8245, 1)"
      ]
     },
     "metadata": {},
     "output_type": "display_data"
    }
   ],
   "source": [
    "prediction_20210710_a = pd.DataFrame({\"Price\":y_pred})\n",
    "display(prediction_20210710_a.head())\n",
    "display(prediction_20210710_a.shape)"
   ]
  },
  {
   "cell_type": "code",
   "execution_count": 15,
   "metadata": {},
   "outputs": [],
   "source": [
    "prediction_20210710_a.to_csv(\"prediction_20210710_a.csv\", index = False)"
   ]
  },
  {
   "cell_type": "markdown",
   "metadata": {},
   "source": [
    "The score is 1.3 and my best without removing outlier is 1.1. The upper bound seems fine, but we might needs to remove the lower bound and the model is overfitting. Need an early stop if overfit. "
   ]
  },
  {
   "cell_type": "markdown",
   "metadata": {},
   "source": [
    "#### Trying out some new ideas"
   ]
  },
  {
   "cell_type": "markdown",
   "metadata": {},
   "source": [
    "1. The filter on price upper and lower boud.\n",
    "2. "
   ]
  },
  {
   "cell_type": "code",
   "execution_count": 16,
   "metadata": {},
   "outputs": [
    {
     "name": "stderr",
     "output_type": "stream",
     "text": [
      "C:\\Users\\chris.dmello\\Anaconda3\\lib\\site-packages\\pandas\\core\\frame.py:3065: SettingWithCopyWarning: \n",
      "A value is trying to be set on a copy of a slice from a DataFrame.\n",
      "Try using .loc[row_indexer,col_indexer] = value instead\n",
      "\n",
      "See the caveats in the documentation: https://pandas.pydata.org/pandas-docs/stable/user_guide/indexing.html#returning-a-view-versus-a-copy\n",
      "  self[k1] = value[k2]\n"
     ]
    },
    {
     "data": {
      "text/plain": [
       "{'mae': 0.5816859127908974,\n",
       " 'mse': 0.9161538557998119,\n",
       " 'rmse': 0.957159263550122,\n",
       " 'r2': 0.554733879398617,\n",
       " 'msle': 0.011922964820050957,\n",
       " 'rmsle': 0.10919232949273935,\n",
       " 'model': <catboost.core.CatBoostRegressor at 0x293582db2b0>,\n",
       " 'y_test':            Price\n",
       " 19167   9.842569\n",
       " 319     8.666130\n",
       " 17121   9.080459\n",
       " 9105   10.049275\n",
       " 2733   10.758817\n",
       " ...          ...\n",
       " 18902   9.214034\n",
       " 7697    7.581210\n",
       " 15997   8.692826\n",
       " 4764   10.333678\n",
       " 7077    7.540622\n",
       " \n",
       " [4717 rows x 1 columns],\n",
       " 'y_pred': array([ 9.28356376,  9.53468432,  6.77668037, ...,  8.7258118 ,\n",
       "        10.27345202,  7.83787148]),\n",
       " 'model_score': -7591.9425188349}"
      ]
     },
     "metadata": {},
     "output_type": "display_data"
    },
    {
     "data": {
      "text/plain": [
       "array([10759.7086718 , 13831.22943697,   877.15206447, ...,\n",
       "        6159.87523858, 28953.66359964,  2534.80369465])"
      ]
     },
     "metadata": {},
     "output_type": "display_data"
    }
   ],
   "source": [
    "columns_to_keep = [\"Manufacturer\",\"Prod. year\",\"Category\",\"Leather interior\",\"Fuel type\", \"Cylinders\",\n",
    "                   \"Gear box type\", \"Airbags\",\\\n",
    " \"Drive wheels\", \"Price\"]\n",
    "\n",
    "cat_features = [\"Manufacturer\",\"Prod. year\",\"Category\",\"Leather interior\",\"Fuel type\", \"Gear box type\", \\\n",
    " \"Drive wheels\", \"Airbags\", \"Cylinders\"]\n",
    "\n",
    "features_to_keep = train[columns_to_keep]\n",
    "\n",
    "#features_to_keep[\"Price\"] = np.log10(features_to_keep.Price)\n",
    "\n",
    "features_to_keep[cat_features] = features_to_keep[cat_features].astype(str)\n",
    "\n",
    "features_to_keep = features_to_keep[features_to_keep[\"Price\"] <= 200000]\n",
    "features_to_keep = features_to_keep[features_to_keep[\"Price\"] >= 100]\n",
    "\n",
    "var_dict = {}\n",
    "var_dict[\"independant\"] = [\"Manufacturer\",\"Prod. year\",\"Category\",\"Leather interior\",\"Fuel type\", \"Cylinders\",\\\n",
    "                           \"Gear box type\", \"Drive wheels\", \"Airbags\"]\n",
    "\n",
    "var_dict[\"dependant\"]   = [\"Price\"]\n",
    "\n",
    "params = {\"cat_features\": cat_features, \n",
    "          \"loss_function\": \"RMSE\", \n",
    "#           \"od_type\":\"IncToDec\",  # overfitting detector.\n",
    "          \"random_seed\" : 42,\n",
    "#           \"colsample_bylevel\": 0.5, #  The percentage of features to be used in each split selection. This helps us control overfitting and the values range from (0,1].\n",
    "          # \"iterations\" : 100, \n",
    "          \"verbose\":0,\\\n",
    "          'learning_rate': 0.3,\n",
    "          # \"boosting_type\" : \"Ordered\" , # to counter leakage when sample size is small\n",
    "          ## this one doesnt give good results\n",
    "          ## This takes time, idk \n",
    "          #'depth': 8,   ##depth of the trees\n",
    "          'l2_leaf_reg': 30, \n",
    "          \"max_depth\" : 15,  #max depth /depth of 10 makes sense \n",
    "#           \"model_size_reg\" : 5,\n",
    "          \"n_estimators\": 1000,\n",
    "          \"random_strength\": 0.4,  #We use randomness when scoring the splits. Every split gets a score and then we add some randomness to it, this helps to reduce overfitting.\n",
    "          # \"bootstrap_type \" :\"Bayesian\",\n",
    "#           \"bagging_temperature\": 2,    # 0 to +infty  / Only with Bayesian bootstraping\n",
    "          \"eval_metric\" : \"MSLE\" , #The metric used for overfitting detection \n",
    "           # \"grow_policy\": \"Lossguide\" , # The tree growing policy. Defines how to perform greedy tree construction.\n",
    "#           \"min_data_in_leaf\" :  10,  # The minimum number of training samples in a leaf. CatBoost does not search for new splits in leaves with samples count less than the specified value.\n",
    "                              # Can be used only with the Lossguide and Depthwise growing policies.\n",
    "#           \"one_hot_max_size\": 4, # Use one-hot encoding for all categorical features with a number of different values less than or equal to the given parameter value. Ctrs are not calculated for such features.\n",
    "#           \"score_function\":\"L2\"\n",
    "         }\n",
    "\n",
    "\n",
    "cat_model = catboost_regressor.new_instance(params)\n",
    "\n",
    "cat_model_base_016 = cat_model.model_run_log(features_to_keep, var_dict )\n",
    "\n",
    "display(cat_model_base_016)\n",
    "\n",
    "display(np.exp(cat_model_base_016[\"y_pred\"]))\n",
    "\n",
    "# 0.1380854363681353 RMSLE Target 0.12 or 0.11\n",
    "# 1.2031523517963438  MSE"
   ]
  },
  {
   "cell_type": "code",
   "execution_count": 17,
   "metadata": {},
   "outputs": [
    {
     "name": "stderr",
     "output_type": "stream",
     "text": [
      "C:\\Users\\chris.dmello\\Anaconda3\\lib\\site-packages\\pandas\\core\\frame.py:3065: SettingWithCopyWarning: \n",
      "A value is trying to be set on a copy of a slice from a DataFrame.\n",
      "Try using .loc[row_indexer,col_indexer] = value instead\n",
      "\n",
      "See the caveats in the documentation: https://pandas.pydata.org/pandas-docs/stable/user_guide/indexing.html#returning-a-view-versus-a-copy\n",
      "  self[k1] = value[k2]\n"
     ]
    },
    {
     "data": {
      "text/html": [
       "<div>\n",
       "<style scoped>\n",
       "    .dataframe tbody tr th:only-of-type {\n",
       "        vertical-align: middle;\n",
       "    }\n",
       "\n",
       "    .dataframe tbody tr th {\n",
       "        vertical-align: top;\n",
       "    }\n",
       "\n",
       "    .dataframe thead th {\n",
       "        text-align: right;\n",
       "    }\n",
       "</style>\n",
       "<table border=\"1\" class=\"dataframe\">\n",
       "  <thead>\n",
       "    <tr style=\"text-align: right;\">\n",
       "      <th></th>\n",
       "      <th>Price</th>\n",
       "    </tr>\n",
       "  </thead>\n",
       "  <tbody>\n",
       "    <tr>\n",
       "      <th>0</th>\n",
       "      <td>15981.371905</td>\n",
       "    </tr>\n",
       "    <tr>\n",
       "      <th>1</th>\n",
       "      <td>18385.960977</td>\n",
       "    </tr>\n",
       "    <tr>\n",
       "      <th>2</th>\n",
       "      <td>7693.959246</td>\n",
       "    </tr>\n",
       "    <tr>\n",
       "      <th>3</th>\n",
       "      <td>4158.817236</td>\n",
       "    </tr>\n",
       "    <tr>\n",
       "      <th>4</th>\n",
       "      <td>3025.496143</td>\n",
       "    </tr>\n",
       "    <tr>\n",
       "      <th>...</th>\n",
       "      <td>...</td>\n",
       "    </tr>\n",
       "    <tr>\n",
       "      <th>8240</th>\n",
       "      <td>6699.854116</td>\n",
       "    </tr>\n",
       "    <tr>\n",
       "      <th>8241</th>\n",
       "      <td>18912.204633</td>\n",
       "    </tr>\n",
       "    <tr>\n",
       "      <th>8242</th>\n",
       "      <td>6057.812270</td>\n",
       "    </tr>\n",
       "    <tr>\n",
       "      <th>8243</th>\n",
       "      <td>19109.523002</td>\n",
       "    </tr>\n",
       "    <tr>\n",
       "      <th>8244</th>\n",
       "      <td>5366.821202</td>\n",
       "    </tr>\n",
       "  </tbody>\n",
       "</table>\n",
       "<p>8245 rows × 1 columns</p>\n",
       "</div>"
      ],
      "text/plain": [
       "             Price\n",
       "0     15981.371905\n",
       "1     18385.960977\n",
       "2      7693.959246\n",
       "3      4158.817236\n",
       "4      3025.496143\n",
       "...            ...\n",
       "8240   6699.854116\n",
       "8241  18912.204633\n",
       "8242   6057.812270\n",
       "8243  19109.523002\n",
       "8244   5366.821202\n",
       "\n",
       "[8245 rows x 1 columns]"
      ]
     },
     "metadata": {},
     "output_type": "display_data"
    }
   ],
   "source": [
    "columns_to_keep = [\"Manufacturer\",\"Prod. year\",\"Category\",\"Leather interior\",\"Fuel type\", \"Cylinders\",\n",
    "                   \"Gear box type\", \"Airbags\",\\\n",
    " \"Drive wheels\", \"Price\"]\n",
    "\n",
    "cat_features = [\"Manufacturer\",\"Prod. year\",\"Category\",\"Leather interior\",\"Fuel type\", \"Gear box type\", \\\n",
    " \"Drive wheels\", \"Airbags\", \"Cylinders\"]\n",
    "\n",
    "\n",
    "features_to_predict_df = test[columns_to_keep]\n",
    "\n",
    "features_to_predict_df[cat_features] = features_to_predict_df[cat_features].astype(str)\n",
    "\n",
    "\n",
    "y_pred_log = cat_model_base_016[\"model\"].predict(features_to_predict_df)\n",
    "\n",
    "features_to_predict_df.head()\n",
    "y_pred = np.exp(y_pred_log)\n",
    "\n",
    "display(pd.DataFrame({\"Price\":y_pred}))"
   ]
  },
  {
   "cell_type": "code",
   "execution_count": 18,
   "metadata": {},
   "outputs": [
    {
     "data": {
      "text/html": [
       "<div>\n",
       "<style scoped>\n",
       "    .dataframe tbody tr th:only-of-type {\n",
       "        vertical-align: middle;\n",
       "    }\n",
       "\n",
       "    .dataframe tbody tr th {\n",
       "        vertical-align: top;\n",
       "    }\n",
       "\n",
       "    .dataframe thead th {\n",
       "        text-align: right;\n",
       "    }\n",
       "</style>\n",
       "<table border=\"1\" class=\"dataframe\">\n",
       "  <thead>\n",
       "    <tr style=\"text-align: right;\">\n",
       "      <th></th>\n",
       "      <th>Price</th>\n",
       "    </tr>\n",
       "  </thead>\n",
       "  <tbody>\n",
       "    <tr>\n",
       "      <th>0</th>\n",
       "      <td>15981.371905</td>\n",
       "    </tr>\n",
       "    <tr>\n",
       "      <th>1</th>\n",
       "      <td>18385.960977</td>\n",
       "    </tr>\n",
       "    <tr>\n",
       "      <th>2</th>\n",
       "      <td>7693.959246</td>\n",
       "    </tr>\n",
       "    <tr>\n",
       "      <th>3</th>\n",
       "      <td>4158.817236</td>\n",
       "    </tr>\n",
       "    <tr>\n",
       "      <th>4</th>\n",
       "      <td>3025.496143</td>\n",
       "    </tr>\n",
       "  </tbody>\n",
       "</table>\n",
       "</div>"
      ],
      "text/plain": [
       "          Price\n",
       "0  15981.371905\n",
       "1  18385.960977\n",
       "2   7693.959246\n",
       "3   4158.817236\n",
       "4   3025.496143"
      ]
     },
     "metadata": {},
     "output_type": "display_data"
    },
    {
     "data": {
      "text/plain": [
       "(8245, 1)"
      ]
     },
     "metadata": {},
     "output_type": "display_data"
    }
   ],
   "source": [
    "prediction_20210710_b = pd.DataFrame({\"Price\":y_pred})\n",
    "display(prediction_20210710_b.head())\n",
    "display(prediction_20210710_b.shape)"
   ]
  },
  {
   "cell_type": "code",
   "execution_count": 19,
   "metadata": {},
   "outputs": [],
   "source": [
    "prediction_20210710_b.to_csv(\"prediction_20210710_b.csv\", index = False)"
   ]
  },
  {
   "cell_type": "markdown",
   "metadata": {},
   "source": [
    "Score - 1.29258, the model still overfit. R2 score is good, and the rsmlse is good as well. "
   ]
  },
  {
   "cell_type": "markdown",
   "metadata": {},
   "source": [
    "#### Next Try\n",
    "1. Cleaned 2 columns with continuous variable, Engine volume and mileage. "
   ]
  },
  {
   "cell_type": "code",
   "execution_count": 22,
   "metadata": {},
   "outputs": [],
   "source": [
    "train = pd.read_csv(\"cleaned_20210710_2339.csv\")"
   ]
  },
  {
   "cell_type": "code",
   "execution_count": 24,
   "metadata": {},
   "outputs": [
    {
     "name": "stderr",
     "output_type": "stream",
     "text": [
      "C:\\Users\\chris.dmello\\Anaconda3\\lib\\site-packages\\pandas\\core\\frame.py:3065: SettingWithCopyWarning: \n",
      "A value is trying to be set on a copy of a slice from a DataFrame.\n",
      "Try using .loc[row_indexer,col_indexer] = value instead\n",
      "\n",
      "See the caveats in the documentation: https://pandas.pydata.org/pandas-docs/stable/user_guide/indexing.html#returning-a-view-versus-a-copy\n",
      "  self[k1] = value[k2]\n"
     ]
    },
    {
     "name": "stdout",
     "output_type": "stream",
     "text": [
      "0:\tlearn: 1.2455947\ttotal: 123ms\tremaining: 12.2s\n",
      "99:\tlearn: 0.7923072\ttotal: 10.2s\tremaining: 0us\n"
     ]
    },
    {
     "data": {
      "image/png": "[encoded data removed]",
      "text/plain": [
       "<Figure size 720x504 with 1 Axes>"
      ]
     },
     "metadata": {
      "needs_background": "light"
     },
     "output_type": "display_data"
    }
   ],
   "source": [
    "columns_to_keep = [\"Manufacturer\",\"Prod. year\",\"Category\",\"Leather interior\",\"Fuel type\", \"Engine volume\",\"Cylinders\",\n",
    "                   \"Gear box type\", \"Mileage\",\"turbo_flag_n\", \\\n",
    " \"Drive wheels\", \"Wheel\", \"Airbags\", \"Price\"]\n",
    "\n",
    "cat_features = [\"Manufacturer\",\"Category\",\"Leather interior\",\"Fuel type\", \"Gear box type\", \"turbo_flag_n\", \n",
    " \"Drive wheels\", \"Wheel\"]\n",
    "\n",
    "features_to_keep = train[columns_to_keep]\n",
    "\n",
    "#features_to_keep[\"Price\"] = np.log10(features_to_keep.Price)\n",
    "\n",
    "features_to_keep[cat_features] = features_to_keep[cat_features].astype(str)\n",
    "\n",
    "\n",
    "var_dict = {}\n",
    "var_dict[\"independant\"] = [\"Manufacturer\",\"Prod. year\",\"Category\",\"Leather interior\",\"Fuel type\", \"Engine volume\",\"Cylinders\",\n",
    "                   \"Gear box type\", \"Mileage\",\"turbo_flag_n\", \\\n",
    " \"Drive wheels\", \"Wheel\", \"Airbags\",]\n",
    "\n",
    "var_dict[\"dependant\"]   = [\"Price\"]\n",
    "\n",
    "params = {\"cat_features\": cat_features, \n",
    "          \"loss_function\": \"RMSE\", \n",
    "          \"iterations\" : 100, \n",
    "          \"verbose\":100,\n",
    "         'learning_rate': 0.8,\n",
    "         'depth': 12,   ##depth of the trees\n",
    "         'l2_leaf_reg': 30}\n",
    "\n",
    "cat_model = catboost_regressor.new_instance(params)\n",
    "\n",
    "cat_model_base_017 = cat_model.model_run_log(features_to_keep, var_dict )\n",
    "\n",
    "cat_model.feature_importance(cat_model_base_017[\"model\"], var_dict[\"independant\"])"
   ]
  },
  {
   "cell_type": "code",
   "execution_count": 28,
   "metadata": {},
   "outputs": [
    {
     "data": {
      "text/plain": [
       "{'mae': 0.6075432743210333,\n",
       " 'mse': 0.9987348539176673,\n",
       " 'rmse': 0.9993672267578456,\n",
       " 'r2': 0.581624262678798,\n",
       " 'msle': 0.01578527438221224,\n",
       " 'rmsle': 0.1256394618828505,\n",
       " 'model': <catboost.core.CatBoostRegressor at 0x2935d99af70>,\n",
       " 'y_test':            Price\n",
       " 3434    5.973810\n",
       " 12927   9.689799\n",
       " 10936  10.258817\n",
       " 2480    9.975855\n",
       " 7699    8.744010\n",
       " ...          ...\n",
       " 6805    7.540622\n",
       " 17032   6.154858\n",
       " 11520   9.689799\n",
       " 6329    7.863651\n",
       " 16587   9.982299\n",
       " \n",
       " [4627 rows x 1 columns],\n",
       " 'y_pred': array([ 7.9534123 , 10.1283753 , 10.36644411, ...,  9.6562613 ,\n",
       "         8.16109692, 10.01074577]),\n",
       " 'model_score': -7536.672684487755}"
      ]
     },
     "metadata": {},
     "output_type": "display_data"
    },
    {
     "data": {
      "text/plain": [
       "array([ 2845.26729961, 25043.64304356, 31775.28655811, ...,\n",
       "       15619.27963812,  3502.02592556, 22264.43336042])"
      ]
     },
     "metadata": {},
     "output_type": "display_data"
    }
   ],
   "source": [
    "display(cat_model_base_017)\n",
    "\n",
    "display(np.exp(cat_model_base_017[\"y_pred\"]))"
   ]
  },
  {
   "cell_type": "code",
   "execution_count": 27,
   "metadata": {},
   "outputs": [],
   "source": [
    "test = pd.read_csv(\"cleaned_20210711_0005_test.csv\")"
   ]
  },
  {
   "cell_type": "code",
   "execution_count": 29,
   "metadata": {},
   "outputs": [
    {
     "name": "stderr",
     "output_type": "stream",
     "text": [
      "C:\\Users\\chris.dmello\\Anaconda3\\lib\\site-packages\\pandas\\core\\frame.py:3065: SettingWithCopyWarning: \n",
      "A value is trying to be set on a copy of a slice from a DataFrame.\n",
      "Try using .loc[row_indexer,col_indexer] = value instead\n",
      "\n",
      "See the caveats in the documentation: https://pandas.pydata.org/pandas-docs/stable/user_guide/indexing.html#returning-a-view-versus-a-copy\n",
      "  self[k1] = value[k2]\n"
     ]
    },
    {
     "data": {
      "text/html": [
       "<div>\n",
       "<style scoped>\n",
       "    .dataframe tbody tr th:only-of-type {\n",
       "        vertical-align: middle;\n",
       "    }\n",
       "\n",
       "    .dataframe tbody tr th {\n",
       "        vertical-align: top;\n",
       "    }\n",
       "\n",
       "    .dataframe thead th {\n",
       "        text-align: right;\n",
       "    }\n",
       "</style>\n",
       "<table border=\"1\" class=\"dataframe\">\n",
       "  <thead>\n",
       "    <tr style=\"text-align: right;\">\n",
       "      <th></th>\n",
       "      <th>Price</th>\n",
       "    </tr>\n",
       "  </thead>\n",
       "  <tbody>\n",
       "    <tr>\n",
       "      <th>0</th>\n",
       "      <td>12954.585460</td>\n",
       "    </tr>\n",
       "    <tr>\n",
       "      <th>1</th>\n",
       "      <td>9042.329198</td>\n",
       "    </tr>\n",
       "    <tr>\n",
       "      <th>2</th>\n",
       "      <td>6094.226151</td>\n",
       "    </tr>\n",
       "    <tr>\n",
       "      <th>3</th>\n",
       "      <td>2137.703550</td>\n",
       "    </tr>\n",
       "    <tr>\n",
       "      <th>4</th>\n",
       "      <td>2502.779803</td>\n",
       "    </tr>\n",
       "    <tr>\n",
       "      <th>...</th>\n",
       "      <td>...</td>\n",
       "    </tr>\n",
       "    <tr>\n",
       "      <th>8240</th>\n",
       "      <td>10149.523655</td>\n",
       "    </tr>\n",
       "    <tr>\n",
       "      <th>8241</th>\n",
       "      <td>20404.749743</td>\n",
       "    </tr>\n",
       "    <tr>\n",
       "      <th>8242</th>\n",
       "      <td>715.383889</td>\n",
       "    </tr>\n",
       "    <tr>\n",
       "      <th>8243</th>\n",
       "      <td>28389.641455</td>\n",
       "    </tr>\n",
       "    <tr>\n",
       "      <th>8244</th>\n",
       "      <td>738.778642</td>\n",
       "    </tr>\n",
       "  </tbody>\n",
       "</table>\n",
       "<p>8245 rows × 1 columns</p>\n",
       "</div>"
      ],
      "text/plain": [
       "             Price\n",
       "0     12954.585460\n",
       "1      9042.329198\n",
       "2      6094.226151\n",
       "3      2137.703550\n",
       "4      2502.779803\n",
       "...            ...\n",
       "8240  10149.523655\n",
       "8241  20404.749743\n",
       "8242    715.383889\n",
       "8243  28389.641455\n",
       "8244    738.778642\n",
       "\n",
       "[8245 rows x 1 columns]"
      ]
     },
     "metadata": {},
     "output_type": "display_data"
    }
   ],
   "source": [
    "columns_to_keep = [\"Manufacturer\",\"Prod. year\",\"Category\",\"Leather interior\",\"Fuel type\", \"Engine volume\",\"Cylinders\",\n",
    "                   \"Gear box type\", \"Mileage\",\"turbo_flag_n\", \\\n",
    " \"Drive wheels\", \"Wheel\", \"Airbags\", \"Price\"]\n",
    "\n",
    "cat_features = [\"Manufacturer\",\"Category\",\"Leather interior\",\"Fuel type\", \"Gear box type\", \"turbo_flag_n\", \n",
    " \"Drive wheels\", \"Wheel\"]\n",
    "\n",
    "\n",
    "features_to_predict_df = test[columns_to_keep]\n",
    "\n",
    "features_to_predict_df[cat_features] = features_to_predict_df[cat_features].astype(str)\n",
    "\n",
    "\n",
    "y_pred_log = cat_model_base_017[\"model\"].predict(features_to_predict_df)\n",
    "\n",
    "features_to_predict_df.head()\n",
    "y_pred = np.exp(y_pred_log)\n",
    "\n",
    "display(pd.DataFrame({\"Price\":y_pred}))"
   ]
  },
  {
   "cell_type": "code",
   "execution_count": 30,
   "metadata": {},
   "outputs": [
    {
     "data": {
      "text/html": [
       "<div>\n",
       "<style scoped>\n",
       "    .dataframe tbody tr th:only-of-type {\n",
       "        vertical-align: middle;\n",
       "    }\n",
       "\n",
       "    .dataframe tbody tr th {\n",
       "        vertical-align: top;\n",
       "    }\n",
       "\n",
       "    .dataframe thead th {\n",
       "        text-align: right;\n",
       "    }\n",
       "</style>\n",
       "<table border=\"1\" class=\"dataframe\">\n",
       "  <thead>\n",
       "    <tr style=\"text-align: right;\">\n",
       "      <th></th>\n",
       "      <th>Price</th>\n",
       "    </tr>\n",
       "  </thead>\n",
       "  <tbody>\n",
       "    <tr>\n",
       "      <th>0</th>\n",
       "      <td>12954.585460</td>\n",
       "    </tr>\n",
       "    <tr>\n",
       "      <th>1</th>\n",
       "      <td>9042.329198</td>\n",
       "    </tr>\n",
       "    <tr>\n",
       "      <th>2</th>\n",
       "      <td>6094.226151</td>\n",
       "    </tr>\n",
       "    <tr>\n",
       "      <th>3</th>\n",
       "      <td>2137.703550</td>\n",
       "    </tr>\n",
       "    <tr>\n",
       "      <th>4</th>\n",
       "      <td>2502.779803</td>\n",
       "    </tr>\n",
       "  </tbody>\n",
       "</table>\n",
       "</div>"
      ],
      "text/plain": [
       "          Price\n",
       "0  12954.585460\n",
       "1   9042.329198\n",
       "2   6094.226151\n",
       "3   2137.703550\n",
       "4   2502.779803"
      ]
     },
     "metadata": {},
     "output_type": "display_data"
    },
    {
     "data": {
      "text/plain": [
       "(8245, 1)"
      ]
     },
     "metadata": {},
     "output_type": "display_data"
    }
   ],
   "source": [
    "prediction_20210711_b = pd.DataFrame({\"Price\":y_pred})\n",
    "display(prediction_20210711_b.head())\n",
    "display(prediction_20210711_b.shape)"
   ]
  },
  {
   "cell_type": "code",
   "execution_count": 31,
   "metadata": {},
   "outputs": [],
   "source": [
    "prediction_20210711_b.to_csv(\"prediction_20210711_1.csv\", index = False)"
   ]
  },
  {
   "cell_type": "markdown",
   "metadata": {},
   "source": [
    "1. score - 1.00334. \n",
    "2. So data cleaning has helped. \n",
    "3. Also a simple model is making more sense now. \n",
    "4. The submission dataset needs to figured out as well. "
   ]
  },
  {
   "cell_type": "code",
   "execution_count": null,
   "metadata": {},
   "outputs": [],
   "source": []
  },
  {
   "cell_type": "code",
   "execution_count": null,
   "metadata": {},
   "outputs": [],
   "source": []
  },
  {
   "cell_type": "code",
   "execution_count": null,
   "metadata": {},
   "outputs": [],
   "source": []
  },
  {
   "cell_type": "markdown",
   "metadata": {},
   "source": [
    "[TODO](https://towardsdatascience.com/deep-dive-into-catboost-functionalities-for-model-interpretation-7cdef669aeed)"
   ]
  }
 ],
 "metadata": {
  "kernelspec": {
   "display_name": "Python 3",
   "language": "python",
   "name": "python3"
  },
  "language_info": {
   "codemirror_mode": {
    "name": "ipython",
    "version": 3
   },
   "file_extension": ".py",
   "mimetype": "text/x-python",
   "name": "python",
   "nbconvert_exporter": "python",
   "pygments_lexer": "ipython3",
   "version": "3.8.5"
  }
 },
 "nbformat": 4,
 "nbformat_minor": 4
}
