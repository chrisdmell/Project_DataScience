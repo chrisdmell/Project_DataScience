{
 "cells": [
  {
   "cell_type": "markdown",
   "metadata": {},
   "source": [
    "# Random Forest Regressor"
   ]
  },
  {
   "cell_type": "markdown",
   "metadata": {},
   "source": [
    "[Taking a cue from this article](https://github.com/WillKoehrsen/Data-Analysis/blob/master/random_forest_explained/Random%20Forest%20Explained.ipynb)\n",
    "\n",
    "[Berkley Random forest in detail](https://www.stat.berkeley.edu/~breiman/RandomForests/cc_home.htm)"
   ]
  },
  {
   "cell_type": "markdown",
   "metadata": {},
   "source": [
    "A simple approach to the accraucy from 93%(Currently in the article) to 94% with, using modular code and then try MLFLOW for the same.<br>\n",
    "3 Fold objective, develop working knowledege of RandomForest, Use classes and methods to modularise code and MLflow to maintain experiments. "
   ]
  },
  {
   "cell_type": "markdown",
   "metadata": {},
   "source": [
    "__Features of Random Forest__\n",
    "1. It is unexcelled in accuracy among current algorithms.\n",
    "2. It runs efficiently on large data bases.\n",
    "3. It can handle thousands of input variables without variable deletion.\n",
    "4. It gives estimates of what variables are important in the classification.\n",
    "5. It generates an internal unbiased estimate of the generalization error as the forest building progresses.\n",
    "6. It has an effective method for estimating missing data and maintains accuracy when a large proportion of the data are missing.\n",
    "7. It has methods for balancing error in class population unbalanced data sets.\n",
    "8. Generated forests can be saved for future use on other data.\n",
    "9. Prototypes are computed that give information about the relation between the variables and the classification.\n",
    "10. It computes proximities between pairs of cases that can be used in clustering, locating outliers, or (by scaling) give interesting views of the data.\n",
    "11. The capabilities of the above can be extended to unlabeled data, leading to unsupervised clustering, data views and outlier detection.\n",
    "12. It offers an experimental method for detecting variable interactions."
   ]
  },
  {
   "cell_type": "markdown",
   "metadata": {},
   "source": [
    "[Josh Starmer RF P1](https://www.youtube.com/watch?v=J4Wdy0Wc_xQ)<br>\n",
    "[Josh Starmer RF Missing data](https://www.youtube.com/watch?v=nyxTdL_4Q-Q)"
   ]
  },
  {
   "cell_type": "markdown",
   "metadata": {},
   "source": [
    "__Hyper parameters__\n",
    "1. n_estimators = number of trees in the foreset\n",
    "2. max_features = max number of features considered for splitting a node. (square root of total features)\n",
    "3. max_depth = max number of levels in each decision tree\n",
    "4. min_samples_split = min number of data points placed in a node before the node is split\n",
    "5.  min_samples_leaf = min number of data points allowed in a leaf node\n",
    "6. bootstrap = method for sampling data points (with or without replacement)"
   ]
  },
  {
   "cell_type": "markdown",
   "metadata": {},
   "source": [
    "[Is scaling required for RF](https://stackoverflow.com/questions/8961586/do-i-need-to-normalize-or-scale-data-for-randomforest-r-package)?<br>\n",
    "No, the computation is not based on distance which is not the case. Also if you have complex nonlinear relationships in p-dimensional space and you have transformed your data, when you back-transform y these nonlinearities are not reflected in the estimate, so scaling data is harmful as well. "
   ]
  },
  {
   "cell_type": "markdown",
   "metadata": {},
   "source": [
    "[Link to Data](https://raw.githubusercontent.com/chrisdmell/DataScience/master/data_dump/temps.csv)<br>\n",
    "[Link to the inspiration](https://github.com/WillKoehrsen/Data-Analysis/blob/master/random_forest_explained/Random%20Forest%20Explained.ipynb)<br>\n",
    "[Part 2](https://towardsdatascience.com/hyperparameter-tuning-the-random-forest-in-python-using-scikit-learn-28d2aa77dd74)<br>\n",
    "[Part 1](https://github.com/WillKoehrsen/Data-Analysis/blob/master/random_forest_explained/Random%20Forest%20Explained.ipynb)<br>"
   ]
  },
  {
   "cell_type": "markdown",
   "metadata": {},
   "source": [
    "_Explore_\n",
    "1. The out-of-bag (oob) error estimate\n",
    "2. How does a RF calculate variable importance?\n",
    "3. GINI and entropy."
   ]
  },
  {
   "cell_type": "markdown",
   "metadata": {},
   "source": [
    "##### Import Utils"
   ]
  },
  {
   "cell_type": "code",
   "execution_count": 18,
   "metadata": {},
   "outputs": [],
   "source": [
    "%run utils/utils_funcs.ipynb"
   ]
  },
  {
   "cell_type": "markdown",
   "metadata": {},
   "source": [
    "##### Import RF regressor model"
   ]
  },
  {
   "cell_type": "code",
   "execution_count": 153,
   "metadata": {},
   "outputs": [],
   "source": [
    "%run setup/rf_model_regression.ipynb"
   ]
  },
  {
   "cell_type": "code",
   "execution_count": 5,
   "metadata": {},
   "outputs": [],
   "source": [
    "data_location = 'https://raw.githubusercontent.com/chrisdmell/DataScience/master/data_dump/temps.csv'"
   ]
  },
  {
   "cell_type": "code",
   "execution_count": 6,
   "metadata": {},
   "outputs": [
    {
     "data": {
      "text/html": [
       "<div>\n",
       "<style scoped>\n",
       "    .dataframe tbody tr th:only-of-type {\n",
       "        vertical-align: middle;\n",
       "    }\n",
       "\n",
       "    .dataframe tbody tr th {\n",
       "        vertical-align: top;\n",
       "    }\n",
       "\n",
       "    .dataframe thead th {\n",
       "        text-align: right;\n",
       "    }\n",
       "</style>\n",
       "<table border=\"1\" class=\"dataframe\">\n",
       "  <thead>\n",
       "    <tr style=\"text-align: right;\">\n",
       "      <th></th>\n",
       "      <th>year</th>\n",
       "      <th>month</th>\n",
       "      <th>day</th>\n",
       "      <th>week</th>\n",
       "      <th>temp_2</th>\n",
       "      <th>temp_1</th>\n",
       "      <th>average</th>\n",
       "      <th>actual</th>\n",
       "      <th>forecast_noaa</th>\n",
       "      <th>forecast_acc</th>\n",
       "      <th>forecast_under</th>\n",
       "      <th>friend</th>\n",
       "    </tr>\n",
       "  </thead>\n",
       "  <tbody>\n",
       "    <tr>\n",
       "      <th>0</th>\n",
       "      <td>2016</td>\n",
       "      <td>1</td>\n",
       "      <td>1</td>\n",
       "      <td>Fri</td>\n",
       "      <td>45</td>\n",
       "      <td>45</td>\n",
       "      <td>45.6</td>\n",
       "      <td>45</td>\n",
       "      <td>43</td>\n",
       "      <td>50</td>\n",
       "      <td>44</td>\n",
       "      <td>29</td>\n",
       "    </tr>\n",
       "    <tr>\n",
       "      <th>1</th>\n",
       "      <td>2016</td>\n",
       "      <td>1</td>\n",
       "      <td>2</td>\n",
       "      <td>Sat</td>\n",
       "      <td>44</td>\n",
       "      <td>45</td>\n",
       "      <td>45.7</td>\n",
       "      <td>44</td>\n",
       "      <td>41</td>\n",
       "      <td>50</td>\n",
       "      <td>44</td>\n",
       "      <td>61</td>\n",
       "    </tr>\n",
       "    <tr>\n",
       "      <th>2</th>\n",
       "      <td>2016</td>\n",
       "      <td>1</td>\n",
       "      <td>3</td>\n",
       "      <td>Sun</td>\n",
       "      <td>45</td>\n",
       "      <td>44</td>\n",
       "      <td>45.8</td>\n",
       "      <td>41</td>\n",
       "      <td>43</td>\n",
       "      <td>46</td>\n",
       "      <td>47</td>\n",
       "      <td>56</td>\n",
       "    </tr>\n",
       "    <tr>\n",
       "      <th>3</th>\n",
       "      <td>2016</td>\n",
       "      <td>1</td>\n",
       "      <td>4</td>\n",
       "      <td>Mon</td>\n",
       "      <td>44</td>\n",
       "      <td>41</td>\n",
       "      <td>45.9</td>\n",
       "      <td>40</td>\n",
       "      <td>44</td>\n",
       "      <td>48</td>\n",
       "      <td>46</td>\n",
       "      <td>53</td>\n",
       "    </tr>\n",
       "    <tr>\n",
       "      <th>4</th>\n",
       "      <td>2016</td>\n",
       "      <td>1</td>\n",
       "      <td>5</td>\n",
       "      <td>Tues</td>\n",
       "      <td>41</td>\n",
       "      <td>40</td>\n",
       "      <td>46.0</td>\n",
       "      <td>44</td>\n",
       "      <td>46</td>\n",
       "      <td>46</td>\n",
       "      <td>46</td>\n",
       "      <td>41</td>\n",
       "    </tr>\n",
       "  </tbody>\n",
       "</table>\n",
       "</div>"
      ],
      "text/plain": [
       "   year  month  day  week  temp_2  temp_1  average  actual  forecast_noaa  \\\n",
       "0  2016      1    1   Fri      45      45     45.6      45             43   \n",
       "1  2016      1    2   Sat      44      45     45.7      44             41   \n",
       "2  2016      1    3   Sun      45      44     45.8      41             43   \n",
       "3  2016      1    4   Mon      44      41     45.9      40             44   \n",
       "4  2016      1    5  Tues      41      40     46.0      44             46   \n",
       "\n",
       "   forecast_acc  forecast_under  friend  \n",
       "0            50              44      29  \n",
       "1            50              44      61  \n",
       "2            46              47      56  \n",
       "3            48              46      53  \n",
       "4            46              46      41  "
      ]
     },
     "execution_count": 6,
     "metadata": {},
     "output_type": "execute_result"
    }
   ],
   "source": [
    "weather_df = Utils.load_data(data_location)\n",
    "weather_df.head()"
   ]
  },
  {
   "cell_type": "code",
   "execution_count": 7,
   "metadata": {},
   "outputs": [
    {
     "name": "stdout",
     "output_type": "stream",
     "text": [
      "Dataframe Info\n",
      "<class 'pandas.core.frame.DataFrame'>\n",
      "RangeIndex: 348 entries, 0 to 347\n",
      "Data columns (total 12 columns):\n",
      " #   Column          Non-Null Count  Dtype  \n",
      "---  ------          --------------  -----  \n",
      " 0   year            348 non-null    int64  \n",
      " 1   month           348 non-null    int64  \n",
      " 2   day             348 non-null    int64  \n",
      " 3   week            348 non-null    object \n",
      " 4   temp_2          348 non-null    int64  \n",
      " 5   temp_1          348 non-null    int64  \n",
      " 6   average         348 non-null    float64\n",
      " 7   actual          348 non-null    int64  \n",
      " 8   forecast_noaa   348 non-null    int64  \n",
      " 9   forecast_acc    348 non-null    int64  \n",
      " 10  forecast_under  348 non-null    int64  \n",
      " 11  friend          348 non-null    int64  \n",
      "dtypes: float64(1), int64(10), object(1)\n",
      "memory usage: 32.8+ KB\n",
      "None\n",
      "===============================================================\n",
      "Dataframe Describe Method\n",
      "         year       month         day      temp_2      temp_1     average  \\\n",
      "count   348.0  348.000000  348.000000  348.000000  348.000000  348.000000   \n",
      "mean   2016.0    6.477011   15.514368   62.652299   62.701149   59.760632   \n",
      "std       0.0    3.498380    8.772982   12.165398   12.120542   10.527306   \n",
      "min    2016.0    1.000000    1.000000   35.000000   35.000000   45.100000   \n",
      "25%    2016.0    3.000000    8.000000   54.000000   54.000000   49.975000   \n",
      "50%    2016.0    6.000000   15.000000   62.500000   62.500000   58.200000   \n",
      "75%    2016.0   10.000000   23.000000   71.000000   71.000000   69.025000   \n",
      "max    2016.0   12.000000   31.000000  117.000000  117.000000   77.400000   \n",
      "\n",
      "           actual  forecast_noaa  forecast_acc  forecast_under      friend  \n",
      "count  348.000000     348.000000    348.000000      348.000000  348.000000  \n",
      "mean    62.543103      57.238506     62.373563       59.772989   60.034483  \n",
      "std     11.794146      10.605746     10.549381       10.705256   15.626179  \n",
      "min     35.000000      41.000000     46.000000       44.000000   28.000000  \n",
      "25%     54.000000      48.000000     53.000000       50.000000   47.750000  \n",
      "50%     62.500000      56.000000     61.000000       58.000000   60.000000  \n",
      "75%     71.000000      66.000000     72.000000       69.000000   71.000000  \n",
      "max     92.000000      77.000000     82.000000       79.000000   95.000000  \n",
      "===============================================================\n",
      "Dataframe Dtype\n",
      "year                int64\n",
      "month               int64\n",
      "day                 int64\n",
      "week               object\n",
      "temp_2              int64\n",
      "temp_1              int64\n",
      "average           float64\n",
      "actual              int64\n",
      "forecast_noaa       int64\n",
      "forecast_acc        int64\n",
      "forecast_under      int64\n",
      "friend              int64\n",
      "dtype: object\n",
      "===============================================================\n",
      "Dataframe Columns\n",
      "Index(['year', 'month', 'day', 'week', 'temp_2', 'temp_1', 'average', 'actual',\n",
      "       'forecast_noaa', 'forecast_acc', 'forecast_under', 'friend'],\n",
      "      dtype='object')\n",
      "===============================================================\n",
      "Dataframe Check if null\n",
      "year              0\n",
      "month             0\n",
      "day               0\n",
      "week              0\n",
      "temp_2            0\n",
      "temp_1            0\n",
      "average           0\n",
      "actual            0\n",
      "forecast_noaa     0\n",
      "forecast_acc      0\n",
      "forecast_under    0\n",
      "friend            0\n",
      "dtype: int64\n",
      "===============================================================\n"
     ]
    }
   ],
   "source": [
    "Utils.df_attributes(weather_df)"
   ]
  },
  {
   "cell_type": "markdown",
   "metadata": {},
   "source": [
    "What do the columns mean?\n",
    "1. year: 2016 for all data points\n",
    "2. month: number for month of the year\n",
    "3. day: number for day of the year\n",
    "4. week: day of the week as a character string\n",
    "5. temp_2: max temperature 2 days prior\n",
    "6. temp_1: max temperature 1 day prior\n",
    "7. average: historical average max temperature\n",
    "8. actual: max temperature measurement\n",
    "9. friend: your friend’s prediction, a random number between 20 below the average and 20 above the average"
   ]
  },
  {
   "cell_type": "code",
   "execution_count": 8,
   "metadata": {},
   "outputs": [
    {
     "data": {
      "text/plain": [
       "array([[<AxesSubplot:title={'center':'year'}>,\n",
       "        <AxesSubplot:title={'center':'month'}>,\n",
       "        <AxesSubplot:title={'center':'day'}>],\n",
       "       [<AxesSubplot:title={'center':'temp_2'}>,\n",
       "        <AxesSubplot:title={'center':'temp_1'}>,\n",
       "        <AxesSubplot:title={'center':'average'}>],\n",
       "       [<AxesSubplot:title={'center':'actual'}>,\n",
       "        <AxesSubplot:title={'center':'forecast_noaa'}>,\n",
       "        <AxesSubplot:title={'center':'forecast_acc'}>],\n",
       "       [<AxesSubplot:title={'center':'forecast_under'}>,\n",
       "        <AxesSubplot:title={'center':'friend'}>, <AxesSubplot:>]],\n",
       "      dtype=object)"
      ]
     },
     "execution_count": 8,
     "metadata": {},
     "output_type": "execute_result"
    },
    {
     "data": {
      "image/png": "[encoded data removed]",
      "text/plain": [
       "<Figure size 432x288 with 12 Axes>"
      ]
     },
     "metadata": {
      "needs_background": "light"
     },
     "output_type": "display_data"
    }
   ],
   "source": [
    "Utils.hist_flt_int(weather_df)"
   ]
  },
  {
   "cell_type": "markdown",
   "metadata": {},
   "source": [
    "#### TODO - Plotting methods and class. "
   ]
  },
  {
   "cell_type": "code",
   "execution_count": 9,
   "metadata": {},
   "outputs": [],
   "source": [
    "# Use datetime for dealing with dates\n",
    "import datetime\n",
    "\n",
    "# Get years, months, and days\n",
    "years = weather_df['year']\n",
    "months = weather_df['month']\n",
    "days = weather_df['day']\n",
    "\n",
    "# List and then convert to datetime object\n",
    "dates = [str(int(year)) + '-' + str(int(month)) + '-' + str(int(day)) for year, month, day in zip(years, months, days)]\n",
    "dates = [datetime.datetime.strptime(date, '%Y-%m-%d') for date in dates]"
   ]
  },
  {
   "cell_type": "code",
   "execution_count": 10,
   "metadata": {},
   "outputs": [
    {
     "data": {
      "image/png": "[encoded data removed]",
      "text/plain": [
       "<Figure size 720x720 with 4 Axes>"
      ]
     },
     "metadata": {},
     "output_type": "display_data"
    }
   ],
   "source": [
    "# Import matplotlib for plotting and use magic command for Jupyter Notebooks\n",
    "import matplotlib.pyplot as plt\n",
    "\n",
    "%matplotlib inline\n",
    "\n",
    "# Set the style\n",
    "plt.style.use('fivethirtyeight')\n",
    "\n",
    "# Set up the plotting layout\n",
    "fig, ((ax1, ax2), (ax3, ax4)) = plt.subplots(nrows=2, ncols=2, figsize = (10,10))\n",
    "fig.autofmt_xdate(rotation = 45)\n",
    "\n",
    "# Actual max temperature measurement\n",
    "ax1.plot(dates, weather_df['actual'])\n",
    "ax1.set_xlabel(''); ax1.set_ylabel('Temperature'); ax1.set_title('Max Temp')\n",
    "\n",
    "# Temperature from 1 day ago\n",
    "ax2.plot(dates, weather_df['temp_1'])\n",
    "ax2.set_xlabel(''); ax2.set_ylabel('Temperature'); ax2.set_title('Previous Max Temp')\n",
    "\n",
    "# Temperature from 2 days ago\n",
    "ax3.plot(dates, weather_df['temp_2'])\n",
    "ax3.set_xlabel('Date'); ax3.set_ylabel('Temperature'); ax3.set_title('Two Days Prior Max Temp')\n",
    "\n",
    "# Friend Estimate\n",
    "ax4.plot(dates, weather_df['friend'])\n",
    "ax4.set_xlabel('Date'); ax4.set_ylabel('Temperature'); ax4.set_title('Friend Estimate')\n",
    "\n",
    "plt.tight_layout(pad=2)"
   ]
  },
  {
   "cell_type": "markdown",
   "metadata": {},
   "source": [
    "[Why one hot encoding is bad in tree based models](https://towardsdatascience.com/one-hot-encoding-is-making-your-tree-based-ensembles-worse-heres-why-d64b282b5769). So even though we have categorical variables, RF is robust enough to handle categoricals so no need to encode. Even for continuous variables, there is no need to scale data. RF is robust to missing values as well. \n",
    "\n",
    "TODO: RF with missing values. "
   ]
  },
  {
   "cell_type": "markdown",
   "metadata": {},
   "source": [
    "### Experiment 001"
   ]
  },
  {
   "cell_type": "code",
   "execution_count": 188,
   "metadata": {},
   "outputs": [],
   "source": [
    "# features_weeks = pd.get_dummies(features.week)\n",
    "## Using average of acutal temp isnt the best way to do it.\n",
    "features_to_keep = weather_df[[\"temp_2\", \"temp_1\", \"average\", \"actual\"]]"
   ]
  },
  {
   "cell_type": "code",
   "execution_count": 53,
   "metadata": {},
   "outputs": [],
   "source": [
    "rf_model = RF_regressor.new_instance()"
   ]
  },
  {
   "cell_type": "code",
   "execution_count": 50,
   "metadata": {},
   "outputs": [
    {
     "name": "stdout",
     "output_type": "stream",
     "text": [
      "Help on function model_run in module __main__:\n",
      "\n",
      "model_run(self, df, var_dict, other_dict={})\n",
      "    self : rf regressor model\n",
      "    df : dataframe\n",
      "    var_dict : model variables dict - var_dict[\"independant\"], var_dict[\"dependant\"]\n",
      "    other_dict : other dict if needed, set to {} default\n",
      "\n"
     ]
    }
   ],
   "source": [
    "help(RF_regressor.model_run)"
   ]
  },
  {
   "cell_type": "code",
   "execution_count": 54,
   "metadata": {},
   "outputs": [
    {
     "name": "stderr",
     "output_type": "stream",
     "text": [
      "<ipython-input-52-e4cd2518dae8>:52: DataConversionWarning: A column-vector y was passed when a 1d array was expected. Please change the shape of y to (n_samples,), for example using ravel().\n",
      "  self._rfr.fit(X_train, y_train)\n"
     ]
    }
   ],
   "source": [
    "var_dict = {}\n",
    "var_dict[\"independant\"] = [\"temp_2\", \"temp_1\", \"average\"]\n",
    "var_dict[\"dependant\"]   = [\"actual\"]\n",
    "rf_model_output = rf_model.model_run(features_to_keep, var_dict)"
   ]
  },
  {
   "cell_type": "code",
   "execution_count": 55,
   "metadata": {},
   "outputs": [
    {
     "data": {
      "text/plain": [
       "{'mae': 3.8574712643678155,\n",
       " 'mse': 24.85623908045977,\n",
       " 'rmse': 4.985603181206841,\n",
       " 'r2': 0.8212666456396088,\n",
       " 'model': RandomForestRegressor(oob_score=True)}"
      ]
     },
     "execution_count": 55,
     "metadata": {},
     "output_type": "execute_result"
    }
   ],
   "source": [
    "rf_model_output"
   ]
  },
  {
   "cell_type": "code",
   "execution_count": 58,
   "metadata": {},
   "outputs": [],
   "source": [
    "model = rf_model_output[\"model\"]"
   ]
  },
  {
   "cell_type": "code",
   "execution_count": 59,
   "metadata": {},
   "outputs": [
    {
     "data": {
      "text/plain": [
       "array([0.05495073, 0.73126142, 0.21378784])"
      ]
     },
     "execution_count": 59,
     "metadata": {},
     "output_type": "execute_result"
    }
   ],
   "source": [
    "model.feature_importances_"
   ]
  },
  {
   "cell_type": "code",
   "execution_count": 60,
   "metadata": {},
   "outputs": [
    {
     "data": {
      "text/plain": [
       "0.7890564887200888"
      ]
     },
     "execution_count": 60,
     "metadata": {},
     "output_type": "execute_result"
    }
   ],
   "source": [
    "model.oob_score_  #R2 "
   ]
  },
  {
   "cell_type": "code",
   "execution_count": 62,
   "metadata": {},
   "outputs": [
    {
     "data": {
      "text/plain": [
       "{'bootstrap': True,\n",
       " 'ccp_alpha': 0.0,\n",
       " 'criterion': 'mse',\n",
       " 'max_depth': None,\n",
       " 'max_features': 'auto',\n",
       " 'max_leaf_nodes': None,\n",
       " 'max_samples': None,\n",
       " 'min_impurity_decrease': 0.0,\n",
       " 'min_impurity_split': None,\n",
       " 'min_samples_leaf': 1,\n",
       " 'min_samples_split': 2,\n",
       " 'min_weight_fraction_leaf': 0.0,\n",
       " 'n_estimators': 100,\n",
       " 'n_jobs': None,\n",
       " 'oob_score': True,\n",
       " 'random_state': None,\n",
       " 'verbose': 0,\n",
       " 'warm_start': False}"
      ]
     },
     "execution_count": 62,
     "metadata": {},
     "output_type": "execute_result"
    }
   ],
   "source": [
    "model.get_params()"
   ]
  },
  {
   "cell_type": "markdown",
   "metadata": {},
   "source": [
    "### Experiment 002"
   ]
  },
  {
   "cell_type": "code",
   "execution_count": 189,
   "metadata": {},
   "outputs": [],
   "source": [
    "rf_model_cv = RF_regressor.new_instance()\n",
    "## the advantage is to call the class and not the instance, so we I can again call the RF regressor without needing to \n",
    "## class itself to create an instance"
   ]
  },
  {
   "cell_type": "code",
   "execution_count": 132,
   "metadata": {},
   "outputs": [
    {
     "data": {
      "text/plain": [
       "RandomForestRegressor(oob_score=True)"
      ]
     },
     "metadata": {},
     "output_type": "display_data"
    },
    {
     "ename": "AttributeError",
     "evalue": "'RF_regressor' object has no attribute '_params'",
     "output_type": "error",
     "traceback": [
      "\u001b[1;31m---------------------------------------------------------------------------\u001b[0m",
      "\u001b[1;31mAttributeError\u001b[0m                            Traceback (most recent call last)",
      "\u001b[1;32m<ipython-input-132-1af3785dfc89>\u001b[0m in \u001b[0;36m<module>\u001b[1;34m\u001b[0m\n\u001b[0;32m      1\u001b[0m \u001b[0mdisplay\u001b[0m\u001b[1;33m(\u001b[0m\u001b[0mrf_model_cv\u001b[0m\u001b[1;33m.\u001b[0m\u001b[0mmodel\u001b[0m\u001b[1;33m)\u001b[0m\u001b[1;33m\u001b[0m\u001b[1;33m\u001b[0m\u001b[0m\n\u001b[1;32m----> 2\u001b[1;33m \u001b[0mdisplay\u001b[0m\u001b[1;33m(\u001b[0m\u001b[0mrf_model_cv\u001b[0m\u001b[1;33m.\u001b[0m\u001b[0mparams\u001b[0m\u001b[1;33m)\u001b[0m\u001b[1;33m\u001b[0m\u001b[1;33m\u001b[0m\u001b[0m\n\u001b[0m",
      "\u001b[1;32m<ipython-input-130-e9f8acc87a7e>\u001b[0m in \u001b[0;36mparams\u001b[1;34m(self)\u001b[0m\n\u001b[0;32m     33\u001b[0m         \u001b[0mGetter\u001b[0m \u001b[1;32mfor\u001b[0m \u001b[0mmodel\u001b[0m \u001b[0mparameters\u001b[0m\u001b[1;33m\u001b[0m\u001b[1;33m\u001b[0m\u001b[0m\n\u001b[0;32m     34\u001b[0m         \"\"\"\n\u001b[1;32m---> 35\u001b[1;33m         \u001b[1;32mreturn\u001b[0m \u001b[0mself\u001b[0m\u001b[1;33m.\u001b[0m\u001b[0m_params\u001b[0m\u001b[1;33m\u001b[0m\u001b[1;33m\u001b[0m\u001b[0m\n\u001b[0m\u001b[0;32m     36\u001b[0m \u001b[1;33m\u001b[0m\u001b[0m\n\u001b[0;32m     37\u001b[0m     \u001b[1;32mdef\u001b[0m \u001b[0mmodel_run\u001b[0m\u001b[1;33m(\u001b[0m\u001b[0mself\u001b[0m\u001b[1;33m,\u001b[0m \u001b[0mdf\u001b[0m\u001b[1;33m,\u001b[0m \u001b[0mvar_dict\u001b[0m\u001b[1;33m,\u001b[0m \u001b[0mother_dict\u001b[0m \u001b[1;33m=\u001b[0m \u001b[1;33m{\u001b[0m\u001b[1;33m}\u001b[0m\u001b[1;33m)\u001b[0m\u001b[1;33m:\u001b[0m\u001b[1;33m\u001b[0m\u001b[1;33m\u001b[0m\u001b[0m\n",
      "\u001b[1;31mAttributeError\u001b[0m: 'RF_regressor' object has no attribute '_params'"
     ]
    }
   ],
   "source": [
    "display(rf_model_cv.model)\n",
    "display(rf_model_cv.params)\n",
    "## as the model as no params set the is an attribute error\n",
    "\n",
    "## @ property decorators are used to make the methods as attributes. "
   ]
  },
  {
   "cell_type": "code",
   "execution_count": 133,
   "metadata": {},
   "outputs": [
    {
     "name": "stdout",
     "output_type": "stream",
     "text": [
      "Help on function model_run_cv in module __main__:\n",
      "\n",
      "model_run_cv(self, df, var_dict, other_dict={})\n",
      "    self : rf regressor model\n",
      "    df : dataframe\n",
      "    var_dict : model variables dict - var_dict[\"independant\"], var_dict[\"dependant\"]\n",
      "    other_dict : other dict if needed, set to {} default - other_dict[\"parameters\"], other_dict[\"scoring\"], \n",
      "    other_dict[\"cv\"]\n",
      "    \n",
      "    neg_mean_absolute_error - we have to minimize mae, but sklearn works rf on maximization so we negative this\n",
      "\n"
     ]
    }
   ],
   "source": [
    "help(RF_regressor.model_run_cv)"
   ]
  },
  {
   "cell_type": "code",
   "execution_count": 134,
   "metadata": {},
   "outputs": [
    {
     "name": "stdout",
     "output_type": "stream",
     "text": [
      "Fitting 10 folds for each of 27 candidates, totalling 270 fits\n"
     ]
    },
    {
     "name": "stderr",
     "output_type": "stream",
     "text": [
      "[Parallel(n_jobs=-1)]: Using backend LokyBackend with 4 concurrent workers.\n",
      "[Parallel(n_jobs=-1)]: Done  33 tasks      | elapsed:    2.7s\n",
      "[Parallel(n_jobs=-1)]: Done 154 tasks      | elapsed:   13.8s\n",
      "[Parallel(n_jobs=-1)]: Done 270 out of 270 | elapsed:   26.0s finished\n",
      "C:\\Users\\chris.dmello\\Anaconda3\\lib\\site-packages\\sklearn\\model_selection\\_search.py:765: DataConversionWarning: A column-vector y was passed when a 1d array was expected. Please change the shape of y to (n_samples,), for example using ravel().\n",
      "  self.best_estimator_.fit(X, y, **fit_params)\n"
     ]
    }
   ],
   "source": [
    "var_dict = {}\n",
    "var_dict[\"independant\"] = [\"temp_2\", \"temp_1\", \"average\"]\n",
    "var_dict[\"dependant\"]   = [\"actual\"]\n",
    "\n",
    "other_dict = {}\n",
    "other_dict[\"parameters\"]  = {\n",
    "    'bootstrap': [True],   ## if the data used should be bootstrapped\n",
    "    'max_depth': [110, 120, None],  # max depth of individial trees\n",
    "    'max_features': [3], # max features used for each tree\n",
    "    'min_samples_leaf': [20,25,30],  #min samples at leaf\n",
    "    'min_samples_split': [10], # minimum samples used to split\n",
    "    'n_estimators': [75, 100, 125], # no of trees\n",
    "    'random_state':[50]\n",
    "}\n",
    "\n",
    "other_dict[\"scoring\"] = \"neg_mean_absolute_error\"\n",
    "other_dict[\"cv\"] = 10\n",
    "\n",
    "rf_model_output_cv = rf_model_cv.model_run_cv(features_to_keep, var_dict, other_dict)"
   ]
  },
  {
   "cell_type": "code",
   "execution_count": 138,
   "metadata": {},
   "outputs": [
    {
     "data": {
      "text/plain": [
       "{'mae': 3.6776893719802306,\n",
       " 'mse': 22.57917131760773,\n",
       " 'rmse': 4.7517545514901895,\n",
       " 'r2': 0.8376403197921238,\n",
       " 'model_score': -3.6776893719802306,\n",
       " 'model': GridSearchCV(cv=10, estimator=RandomForestRegressor(oob_score=True), n_jobs=-1,\n",
       "              param_grid={'bootstrap': [True], 'max_depth': [110, 120, None],\n",
       "                          'max_features': [3], 'min_samples_leaf': [20, 25, 30],\n",
       "                          'min_samples_split': [10],\n",
       "                          'n_estimators': [75, 100, 125], 'random_state': [50]},\n",
       "              scoring='neg_mean_absolute_error', verbose=2),\n",
       " 'y_test':      actual\n",
       " 255      66\n",
       " 114      61\n",
       " 314      52\n",
       " 268      66\n",
       " 167      70\n",
       " ..      ...\n",
       " 152      81\n",
       " 165      67\n",
       " 261      66\n",
       " 60       57\n",
       " 338      45\n",
       " \n",
       " [87 rows x 1 columns],\n",
       " 'y_pred': array([69.14706072, 61.93695836, 51.81878086, 62.41158494, 65.20076342,\n",
       "        74.90914156, 77.54216058, 77.54216058, 61.36837482, 75.21979887,\n",
       "        62.47563709, 75.20544471, 44.37845905, 63.45706353, 70.34984123,\n",
       "        55.70679697, 62.53126376, 56.6617349 , 57.52990642, 75.80901747,\n",
       "        64.53561824, 55.09053779, 63.44675847, 61.85841411, 58.0571196 ,\n",
       "        52.10998135, 64.58363963, 44.56059527, 59.85272505, 77.37002634,\n",
       "        72.12896191, 63.56012119, 54.48878203, 77.54216058, 75.11311325,\n",
       "        60.33215231, 54.24637816, 51.96523608, 70.41652831, 44.37845905,\n",
       "        68.33467945, 56.00576062, 74.97268622, 44.37845905, 61.87395776,\n",
       "        74.90914156, 54.84985743, 77.54216058, 55.29640756, 44.37845905,\n",
       "        44.56059527, 44.37845905, 64.60928754, 64.63605556, 75.70288494,\n",
       "        61.78184742, 55.79000589, 58.61335121, 54.97858073, 59.35829234,\n",
       "        64.99577501, 51.87481941, 60.59081337, 69.63289818, 61.3463641 ,\n",
       "        58.62184735, 74.01733617, 70.41652831, 75.11311325, 44.37845905,\n",
       "        75.80901747, 57.21587149, 62.997481  , 48.75105799, 56.01720406,\n",
       "        64.56126615, 44.46887572, 75.73539029, 44.56059527, 52.19525634,\n",
       "        54.29633311, 67.77581872, 75.2066277 , 71.41014355, 64.49358938,\n",
       "        57.89345643, 44.65101194])}"
      ]
     },
     "execution_count": 138,
     "metadata": {},
     "output_type": "execute_result"
    }
   ],
   "source": [
    "rf_model_output_cv\n",
    "\n",
    "## model score is negative because we have neg_mae, \n"
   ]
  },
  {
   "cell_type": "code",
   "execution_count": 135,
   "metadata": {},
   "outputs": [],
   "source": [
    "model_cv = rf_model_output_cv[\"model\"]"
   ]
  },
  {
   "cell_type": "code",
   "execution_count": 136,
   "metadata": {},
   "outputs": [
    {
     "data": {
      "text/plain": [
       "{'bootstrap': True,\n",
       " 'max_depth': 110,\n",
       " 'max_features': 3,\n",
       " 'min_samples_leaf': 20,\n",
       " 'min_samples_split': 10,\n",
       " 'n_estimators': 100,\n",
       " 'random_state': 50}"
      ]
     },
     "execution_count": 136,
     "metadata": {},
     "output_type": "execute_result"
    }
   ],
   "source": [
    "model_cv.best_params_\n",
    "\n",
    "## Best Params of the CV"
   ]
  },
  {
   "cell_type": "markdown",
   "metadata": {},
   "source": [
    "### Experiment 003\n",
    "> Run with the best params"
   ]
  },
  {
   "cell_type": "code",
   "execution_count": 162,
   "metadata": {},
   "outputs": [],
   "source": [
    "rf_model_best = RF_regressor.new_instance(model_cv.best_params_)"
   ]
  },
  {
   "cell_type": "code",
   "execution_count": 163,
   "metadata": {},
   "outputs": [
    {
     "data": {
      "text/plain": [
       "RandomForestRegressor(max_depth=110, max_features=3, min_samples_leaf=20,\n",
       "                      min_samples_split=10, oob_score=True, random_state=50)"
      ]
     },
     "metadata": {},
     "output_type": "display_data"
    },
    {
     "data": {
      "text/plain": [
       "{'bootstrap': True,\n",
       " 'max_depth': 110,\n",
       " 'max_features': 3,\n",
       " 'min_samples_leaf': 20,\n",
       " 'min_samples_split': 10,\n",
       " 'n_estimators': 100,\n",
       " 'random_state': 50}"
      ]
     },
     "metadata": {},
     "output_type": "display_data"
    }
   ],
   "source": [
    "display(rf_model_best.model)\n",
    "display(rf_model_best.params)"
   ]
  },
  {
   "cell_type": "code",
   "execution_count": 164,
   "metadata": {},
   "outputs": [
    {
     "name": "stdout",
     "output_type": "stream",
     "text": [
      "Help on function model_run in module __main__:\n",
      "\n",
      "model_run(self, df, var_dict, other_dict={})\n",
      "    self : rf regressor model\n",
      "    df : dataframe\n",
      "    var_dict : model variables dict - var_dict[\"independant\"], var_dict[\"dependant\"]\n",
      "    other_dict : other dict if needed, set to {} default\n",
      "\n"
     ]
    }
   ],
   "source": [
    "help(RF_regressor.model_run)"
   ]
  },
  {
   "cell_type": "code",
   "execution_count": 165,
   "metadata": {},
   "outputs": [
    {
     "name": "stderr",
     "output_type": "stream",
     "text": [
      "<ipython-input-153-f24ec669b599>:56: DataConversionWarning: A column-vector y was passed when a 1d array was expected. Please change the shape of y to (n_samples,), for example using ravel().\n",
      "  self._rfr.fit(X_train, y_train)\n"
     ]
    }
   ],
   "source": [
    "var_dict = {}\n",
    "var_dict[\"independant\"] = [\"temp_2\", \"temp_1\", \"average\"]\n",
    "var_dict[\"dependant\"]   = [\"actual\"]\n",
    "\n",
    "rf_model_best = rf_model_best.model_run(features_to_keep, var_dict)"
   ]
  },
  {
   "cell_type": "code",
   "execution_count": 166,
   "metadata": {},
   "outputs": [
    {
     "data": {
      "text/plain": [
       "{'mae': 3.6776893719802306,\n",
       " 'mse': 22.57917131760773,\n",
       " 'rmse': 4.7517545514901895,\n",
       " 'r2': 0.8376403197921238,\n",
       " 'model': RandomForestRegressor(max_depth=110, max_features=3, min_samples_leaf=20,\n",
       "                       min_samples_split=10, oob_score=True, random_state=50),\n",
       " 'y_test':      actual\n",
       " 255      66\n",
       " 114      61\n",
       " 314      52\n",
       " 268      66\n",
       " 167      70\n",
       " ..      ...\n",
       " 152      81\n",
       " 165      67\n",
       " 261      66\n",
       " 60       57\n",
       " 338      45\n",
       " \n",
       " [87 rows x 1 columns],\n",
       " 'y_pred': array([69.14706072, 61.93695836, 51.81878086, 62.41158494, 65.20076342,\n",
       "        74.90914156, 77.54216058, 77.54216058, 61.36837482, 75.21979887,\n",
       "        62.47563709, 75.20544471, 44.37845905, 63.45706353, 70.34984123,\n",
       "        55.70679697, 62.53126376, 56.6617349 , 57.52990642, 75.80901747,\n",
       "        64.53561824, 55.09053779, 63.44675847, 61.85841411, 58.0571196 ,\n",
       "        52.10998135, 64.58363963, 44.56059527, 59.85272505, 77.37002634,\n",
       "        72.12896191, 63.56012119, 54.48878203, 77.54216058, 75.11311325,\n",
       "        60.33215231, 54.24637816, 51.96523608, 70.41652831, 44.37845905,\n",
       "        68.33467945, 56.00576062, 74.97268622, 44.37845905, 61.87395776,\n",
       "        74.90914156, 54.84985743, 77.54216058, 55.29640756, 44.37845905,\n",
       "        44.56059527, 44.37845905, 64.60928754, 64.63605556, 75.70288494,\n",
       "        61.78184742, 55.79000589, 58.61335121, 54.97858073, 59.35829234,\n",
       "        64.99577501, 51.87481941, 60.59081337, 69.63289818, 61.3463641 ,\n",
       "        58.62184735, 74.01733617, 70.41652831, 75.11311325, 44.37845905,\n",
       "        75.80901747, 57.21587149, 62.997481  , 48.75105799, 56.01720406,\n",
       "        64.56126615, 44.46887572, 75.73539029, 44.56059527, 52.19525634,\n",
       "        54.29633311, 67.77581872, 75.2066277 , 71.41014355, 64.49358938,\n",
       "        57.89345643, 44.65101194])}"
      ]
     },
     "execution_count": 166,
     "metadata": {},
     "output_type": "execute_result"
    }
   ],
   "source": [
    "rf_model_best"
   ]
  },
  {
   "cell_type": "code",
   "execution_count": 159,
   "metadata": {},
   "outputs": [],
   "source": [
    "model_best = rf_model_best[\"model\"]"
   ]
  },
  {
   "cell_type": "markdown",
   "metadata": {},
   "source": [
    "### Comparison Between RF class and GridsearchCV class metrics and how to use them"
   ]
  },
  {
   "cell_type": "markdown",
   "metadata": {},
   "source": [
    "> R2 score"
   ]
  },
  {
   "cell_type": "code",
   "execution_count": 167,
   "metadata": {},
   "outputs": [
    {
     "data": {
      "text/plain": [
       "0.8376403197921238"
      ]
     },
     "metadata": {},
     "output_type": "display_data"
    },
    {
     "data": {
      "text/plain": [
       "0.8376403197921238"
      ]
     },
     "metadata": {},
     "output_type": "display_data"
    }
   ],
   "source": [
    "display(rf_model_best[\"r2\"])\n",
    "display(rf_model_output_cv[\"r2\"])\n",
    "\n",
    "## For grid         y_pred = grid_search_ad.predict(X_test)\n",
    "## For RF y_pred = self._rfr.predict(X_test)"
   ]
  },
  {
   "cell_type": "markdown",
   "metadata": {},
   "source": [
    "> MAE"
   ]
  },
  {
   "cell_type": "code",
   "execution_count": 169,
   "metadata": {},
   "outputs": [
    {
     "data": {
      "text/plain": [
       "3.6776893719802306"
      ]
     },
     "metadata": {},
     "output_type": "display_data"
    },
    {
     "data": {
      "text/plain": [
       "3.6776893719802306"
      ]
     },
     "metadata": {},
     "output_type": "display_data"
    },
    {
     "data": {
      "text/plain": [
       "-3.6776893719802306"
      ]
     },
     "metadata": {},
     "output_type": "display_data"
    }
   ],
   "source": [
    "display(rf_model_best[\"mae\"])\n",
    "display(rf_model_output_cv[\"mae\"])\n",
    "display(rf_model_output_cv[\"model_score\"]) ## from the score method r2_2 = grid_search_ad.score(X_test, y_test)\n",
    "\n",
    "## for CV as the score parameter was -MAE, we get the the negative value. \n",
    "\n",
    "    ## Both MAE values are calculated using sklearn metrics"
   ]
  },
  {
   "cell_type": "markdown",
   "metadata": {},
   "source": [
    "> Best Score <br>\n",
    "\n",
    "The RF model doesnt have a best score but the CV method returns the best score, which is the mean test scores across various folds, the test score in this case in MAE. <br>\n",
    "\n",
    "As the magnitude CV test_score and the Test set test_score isnt large we can consider that, the model gneralizes well across datasets.  "
   ]
  },
  {
   "cell_type": "code",
   "execution_count": 170,
   "metadata": {},
   "outputs": [
    {
     "data": {
      "text/plain": [
       "-4.032625063857787"
      ]
     },
     "metadata": {},
     "output_type": "display_data"
    }
   ],
   "source": [
    "display(rf_model_output_cv[\"model\"].best_score_)\n",
    "\n",
    "## The grid.best_score_ is the average of all cv folds for a single combination of the parameters you specify in \n",
    "## the tuned_params.\n"
   ]
  },
  {
   "cell_type": "markdown",
   "metadata": {},
   "source": [
    "[GridsearchCV best score](https://stackoverflow.com/questions/30442259/why-does-not-gridsearchcv-give-best-score-scikit-learn)"
   ]
  },
  {
   "cell_type": "code",
   "execution_count": 175,
   "metadata": {},
   "outputs": [
    {
     "data": {
      "text/html": [
       "<div>\n",
       "<style scoped>\n",
       "    .dataframe tbody tr th:only-of-type {\n",
       "        vertical-align: middle;\n",
       "    }\n",
       "\n",
       "    .dataframe tbody tr th {\n",
       "        vertical-align: top;\n",
       "    }\n",
       "\n",
       "    .dataframe thead th {\n",
       "        text-align: right;\n",
       "    }\n",
       "</style>\n",
       "<table border=\"1\" class=\"dataframe\">\n",
       "  <thead>\n",
       "    <tr style=\"text-align: right;\">\n",
       "      <th></th>\n",
       "      <th>mean_fit_time</th>\n",
       "      <th>std_fit_time</th>\n",
       "      <th>mean_score_time</th>\n",
       "      <th>std_score_time</th>\n",
       "      <th>param_bootstrap</th>\n",
       "      <th>param_max_depth</th>\n",
       "      <th>param_max_features</th>\n",
       "      <th>param_min_samples_leaf</th>\n",
       "      <th>param_min_samples_split</th>\n",
       "      <th>param_n_estimators</th>\n",
       "      <th>...</th>\n",
       "      <th>split3_test_score</th>\n",
       "      <th>split4_test_score</th>\n",
       "      <th>split5_test_score</th>\n",
       "      <th>split6_test_score</th>\n",
       "      <th>split7_test_score</th>\n",
       "      <th>split8_test_score</th>\n",
       "      <th>split9_test_score</th>\n",
       "      <th>mean_test_score</th>\n",
       "      <th>std_test_score</th>\n",
       "      <th>rank_test_score</th>\n",
       "    </tr>\n",
       "  </thead>\n",
       "  <tbody>\n",
       "    <tr>\n",
       "      <th>1</th>\n",
       "      <td>0.295012</td>\n",
       "      <td>0.009983</td>\n",
       "      <td>0.018051</td>\n",
       "      <td>0.003901</td>\n",
       "      <td>True</td>\n",
       "      <td>110</td>\n",
       "      <td>3</td>\n",
       "      <td>20</td>\n",
       "      <td>10</td>\n",
       "      <td>100</td>\n",
       "      <td>...</td>\n",
       "      <td>-4.774908</td>\n",
       "      <td>-4.332194</td>\n",
       "      <td>-3.442213</td>\n",
       "      <td>-3.707914</td>\n",
       "      <td>-4.088164</td>\n",
       "      <td>-3.775637</td>\n",
       "      <td>-4.109681</td>\n",
       "      <td>-4.032625</td>\n",
       "      <td>0.566605</td>\n",
       "      <td>1</td>\n",
       "    </tr>\n",
       "    <tr>\n",
       "      <th>10</th>\n",
       "      <td>0.364924</td>\n",
       "      <td>0.059960</td>\n",
       "      <td>0.019049</td>\n",
       "      <td>0.002872</td>\n",
       "      <td>True</td>\n",
       "      <td>120</td>\n",
       "      <td>3</td>\n",
       "      <td>20</td>\n",
       "      <td>10</td>\n",
       "      <td>100</td>\n",
       "      <td>...</td>\n",
       "      <td>-4.774908</td>\n",
       "      <td>-4.332194</td>\n",
       "      <td>-3.442213</td>\n",
       "      <td>-3.707914</td>\n",
       "      <td>-4.088164</td>\n",
       "      <td>-3.775637</td>\n",
       "      <td>-4.109681</td>\n",
       "      <td>-4.032625</td>\n",
       "      <td>0.566605</td>\n",
       "      <td>1</td>\n",
       "    </tr>\n",
       "    <tr>\n",
       "      <th>19</th>\n",
       "      <td>0.377091</td>\n",
       "      <td>0.047575</td>\n",
       "      <td>0.025632</td>\n",
       "      <td>0.022726</td>\n",
       "      <td>True</td>\n",
       "      <td>None</td>\n",
       "      <td>3</td>\n",
       "      <td>20</td>\n",
       "      <td>10</td>\n",
       "      <td>100</td>\n",
       "      <td>...</td>\n",
       "      <td>-4.774908</td>\n",
       "      <td>-4.332194</td>\n",
       "      <td>-3.442213</td>\n",
       "      <td>-3.707914</td>\n",
       "      <td>-4.088164</td>\n",
       "      <td>-3.775637</td>\n",
       "      <td>-4.109681</td>\n",
       "      <td>-4.032625</td>\n",
       "      <td>0.566605</td>\n",
       "      <td>1</td>\n",
       "    </tr>\n",
       "  </tbody>\n",
       "</table>\n",
       "<p>3 rows × 25 columns</p>\n",
       "</div>"
      ],
      "text/plain": [
       "    mean_fit_time  std_fit_time  mean_score_time  std_score_time  \\\n",
       "1        0.295012      0.009983         0.018051        0.003901   \n",
       "10       0.364924      0.059960         0.019049        0.002872   \n",
       "19       0.377091      0.047575         0.025632        0.022726   \n",
       "\n",
       "   param_bootstrap param_max_depth param_max_features param_min_samples_leaf  \\\n",
       "1             True             110                  3                     20   \n",
       "10            True             120                  3                     20   \n",
       "19            True            None                  3                     20   \n",
       "\n",
       "   param_min_samples_split param_n_estimators  ... split3_test_score  \\\n",
       "1                       10                100  ...         -4.774908   \n",
       "10                      10                100  ...         -4.774908   \n",
       "19                      10                100  ...         -4.774908   \n",
       "\n",
       "   split4_test_score  split5_test_score  split6_test_score  split7_test_score  \\\n",
       "1          -4.332194          -3.442213          -3.707914          -4.088164   \n",
       "10         -4.332194          -3.442213          -3.707914          -4.088164   \n",
       "19         -4.332194          -3.442213          -3.707914          -4.088164   \n",
       "\n",
       "    split8_test_score  split9_test_score  mean_test_score  std_test_score  \\\n",
       "1           -3.775637          -4.109681        -4.032625        0.566605   \n",
       "10          -3.775637          -4.109681        -4.032625        0.566605   \n",
       "19          -3.775637          -4.109681        -4.032625        0.566605   \n",
       "\n",
       "    rank_test_score  \n",
       "1                 1  \n",
       "10                1  \n",
       "19                1  \n",
       "\n",
       "[3 rows x 25 columns]"
      ]
     },
     "metadata": {},
     "output_type": "display_data"
    },
    {
     "data": {
      "text/plain": [
       "Index(['mean_fit_time', 'std_fit_time', 'mean_score_time', 'std_score_time',\n",
       "       'param_bootstrap', 'param_max_depth', 'param_max_features',\n",
       "       'param_min_samples_leaf', 'param_min_samples_split',\n",
       "       'param_n_estimators', 'param_random_state', 'params',\n",
       "       'split0_test_score', 'split1_test_score', 'split2_test_score',\n",
       "       'split3_test_score', 'split4_test_score', 'split5_test_score',\n",
       "       'split6_test_score', 'split7_test_score', 'split8_test_score',\n",
       "       'split9_test_score', 'mean_test_score', 'std_test_score',\n",
       "       'rank_test_score'],\n",
       "      dtype='object')"
      ]
     },
     "metadata": {},
     "output_type": "display_data"
    }
   ],
   "source": [
    "results = pd.DataFrame(rf_model_output_cv[\"model\"].cv_results_)\n",
    "df_res = results[results[\"mean_test_score\"] == rf_model_output_cv[\"model\"].best_score_]\n",
    "\n",
    "display(df_res)\n",
    "\n",
    "display(df_res.columns)\n",
    "## The CV grid combinations result\n",
    "\n",
    "## the best is chosen where you have the smallest trees in this case 110"
   ]
  },
  {
   "cell_type": "code",
   "execution_count": 187,
   "metadata": {},
   "outputs": [
    {
     "data": {
      "text/plain": [
       "1"
      ]
     },
     "execution_count": 187,
     "metadata": {},
     "output_type": "execute_result"
    }
   ],
   "source": [
    "rf_model_output_cv[\"model\"].best_index_\n",
    "\n",
    "## we can call the best_index method to get the Index of the best model parameters. In this case its 1. "
   ]
  },
  {
   "cell_type": "markdown",
   "metadata": {},
   "source": [
    "> CV best params\n",
    "\n"
   ]
  },
  {
   "cell_type": "code",
   "execution_count": 177,
   "metadata": {},
   "outputs": [
    {
     "data": {
      "text/plain": [
       "{'bootstrap': True,\n",
       " 'max_depth': 110,\n",
       " 'max_features': 3,\n",
       " 'min_samples_leaf': 20,\n",
       " 'min_samples_split': 10,\n",
       " 'n_estimators': 100,\n",
       " 'random_state': 50}"
      ]
     },
     "execution_count": 177,
     "metadata": {},
     "output_type": "execute_result"
    }
   ],
   "source": [
    "rf_model_output_cv[\"model\"].best_params_"
   ]
  },
  {
   "cell_type": "markdown",
   "metadata": {},
   "source": [
    "> OOB score\n",
    "\n",
    "GridsearchCV doesnt have OOB scores, but we can use the best parameters to create an RF and get the OOB score. RF model returns OOB score, when param is set True. \n",
    "\n",
    "Mathematically OOB score is equal to R2 of a RF model. We can see that 0.81 and 0.83 are oob_score_ and sklearn.metrics.r2 respectively.  \n",
    "\n",
    "OOBscore can be used if you don’t have enough data to split for train and validation set. The OOBscore works only with bootstrapping.\n",
    "\n",
    "\n"
   ]
  },
  {
   "cell_type": "code",
   "execution_count": 179,
   "metadata": {},
   "outputs": [
    {
     "data": {
      "text/plain": [
       "0.8131068166489794"
      ]
     },
     "metadata": {},
     "output_type": "display_data"
    },
    {
     "ename": "AttributeError",
     "evalue": "'GridSearchCV' object has no attribute 'oob_score_'",
     "output_type": "error",
     "traceback": [
      "\u001b[1;31m---------------------------------------------------------------------------\u001b[0m",
      "\u001b[1;31mAttributeError\u001b[0m                            Traceback (most recent call last)",
      "\u001b[1;32m<ipython-input-179-3fb5ae55c741>\u001b[0m in \u001b[0;36m<module>\u001b[1;34m\u001b[0m\n\u001b[0;32m      1\u001b[0m \u001b[0mdisplay\u001b[0m\u001b[1;33m(\u001b[0m\u001b[0mrf_model_best\u001b[0m\u001b[1;33m[\u001b[0m\u001b[1;34m\"model\"\u001b[0m\u001b[1;33m]\u001b[0m\u001b[1;33m.\u001b[0m\u001b[0moob_score_\u001b[0m\u001b[1;33m)\u001b[0m\u001b[1;33m\u001b[0m\u001b[1;33m\u001b[0m\u001b[0m\n\u001b[1;32m----> 2\u001b[1;33m \u001b[0mdisplay\u001b[0m\u001b[1;33m(\u001b[0m\u001b[0mrf_model_output_cv\u001b[0m\u001b[1;33m[\u001b[0m\u001b[1;34m\"model\"\u001b[0m\u001b[1;33m]\u001b[0m\u001b[1;33m.\u001b[0m\u001b[0moob_score_\u001b[0m\u001b[1;33m)\u001b[0m\u001b[1;33m\u001b[0m\u001b[1;33m\u001b[0m\u001b[0m\n\u001b[0m",
      "\u001b[1;31mAttributeError\u001b[0m: 'GridSearchCV' object has no attribute 'oob_score_'"
     ]
    }
   ],
   "source": [
    "display(rf_model_best[\"model\"].oob_score_)\n",
    "display(rf_model_output_cv[\"model\"].oob_score_) "
   ]
  },
  {
   "cell_type": "markdown",
   "metadata": {},
   "source": [
    "> Score Method\n",
    "\n",
    "RF score method is the R2 and it cannot be [changed](https://stackoverflow.com/questions/35952016/change-default-randomforestclassifiers-score-function-when-fitting-the-model). The best way is to wrap it in gridsearchCV."
   ]
  },
  {
   "cell_type": "code",
   "execution_count": 182,
   "metadata": {},
   "outputs": [],
   "source": [
    "## as we do not have the X_test value creating, it again, with different random seed. \n",
    "df = features_to_keep\n",
    "feature = var_dict[\"independant\"]\n",
    "label   = var_dict[\"dependant\"]\n",
    "X = df[feature]\n",
    "y = df[label]\n",
    "\n",
    "X_train, X_test, y_train, y_test = train_test_split(X, y, test_size = 0.25,random_state = 100)"
   ]
  },
  {
   "cell_type": "code",
   "execution_count": 183,
   "metadata": {},
   "outputs": [
    {
     "data": {
      "text/plain": [
       "0.8781218864415125"
      ]
     },
     "metadata": {},
     "output_type": "display_data"
    },
    {
     "data": {
      "text/plain": [
       "-3.099785174148809"
      ]
     },
     "metadata": {},
     "output_type": "display_data"
    }
   ],
   "source": [
    "display(rf_model_best[\"model\"].score(X_test , y_test))       ## R2 value\n",
    "display(rf_model_output_cv[\"model\"].score(X_test , y_test))  ## MAE"
   ]
  },
  {
   "cell_type": "markdown",
   "metadata": {},
   "source": [
    "__Spliting Condition__<br>\n",
    "I think there is a confusion between classification (i.e: finding the probability of being in a certain class) and regression (i.e: finding a continuous value as a prediction).\n",
    "\n",
    "For classification, one should use Gini index or cross-entropy. It builds a split by measuring the impurity in the created leaves.\n",
    "\n",
    "For regression, one could use mean squared error. This cost function builds a split by taking the average value of the response in the leaves and comparing it to the individuals that fall into each leaf."
   ]
  },
  {
   "cell_type": "markdown",
   "metadata": {},
   "source": [
    "[Tune RF hyperparamters](https://www.kaggle.com/general/4092)"
   ]
  },
  {
   "cell_type": "markdown",
   "metadata": {},
   "source": [
    "##### What if we had a way to log all metrics and models and pack them into differnt folders and tag them and call them as nned.\n",
    "\n",
    "This is where __MLFLOW__ comes in. \n",
    "\n",
    "[mlflow gridsearch implementation.](https://gist.github.com/liorshk/9dfcb4a8e744fc15650cbd4c2b0955e5)\n",
    "\n",
    "TODO."
   ]
  },
  {
   "cell_type": "markdown",
   "metadata": {},
   "source": [
    "#### TODO: Model Feature Importance"
   ]
  }
 ],
 "metadata": {
  "kernelspec": {
   "display_name": "Python 3",
   "language": "python",
   "name": "python3"
  },
  "language_info": {
   "codemirror_mode": {
    "name": "ipython",
    "version": 3
   },
   "file_extension": ".py",
   "mimetype": "text/x-python",
   "name": "python",
   "nbconvert_exporter": "python",
   "pygments_lexer": "ipython3",
   "version": "3.8.5"
  }
 },
 "nbformat": 4,
 "nbformat_minor": 4
}
